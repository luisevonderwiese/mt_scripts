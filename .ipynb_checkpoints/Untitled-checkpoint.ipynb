{
 "cells": [
  {
   "cell_type": "code",
   "execution_count": 11,
   "id": "a4af9118",
   "metadata": {},
   "outputs": [],
   "source": [
    "from pyroutelib3 import Router # Import the router\n",
    "    \n",
    "r = Router(\"car\")\n",
    "a, b = r.findNode(52.4642422895257, 20.3275074219367), r.findNode(52.2462868, 21.0123011)"
   ]
  },
  {
   "cell_type": "code",
   "execution_count": null,
   "id": "150e4650",
   "metadata": {},
   "outputs": [],
   "source": []
  }
 ],
 "metadata": {
  "kernelspec": {
   "display_name": "Python 3 (ipykernel)",
   "language": "python",
   "name": "python3"
  },
  "language_info": {
   "codemirror_mode": {
    "name": "ipython",
    "version": 3
   },
   "file_extension": ".py",
   "mimetype": "text/x-python",
   "name": "python",
   "nbconvert_exporter": "python",
   "pygments_lexer": "ipython3",
   "version": "3.10.8"
  }
 },
 "nbformat": 4,
 "nbformat_minor": 5
}
