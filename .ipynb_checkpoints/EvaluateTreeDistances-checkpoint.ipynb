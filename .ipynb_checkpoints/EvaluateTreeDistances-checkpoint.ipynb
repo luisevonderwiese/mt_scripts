{
 "cells": [
  {
   "cell_type": "code",
   "execution_count": null,
   "id": "524fca58",
   "metadata": {},
   "outputs": [],
   "source": []
  },
  {
   "cell_type": "code",
   "execution_count": 1,
   "id": "425e6b77",
   "metadata": {},
   "outputs": [
    {
     "name": "stdout",
     "output_type": "stream",
     "text": [
      "Average absolute RF distance to Geo Tree: 80.02816901408451\n",
      "Average relative RF distance to Geo Tree: 0.9305605352112682\n",
      "Average absolute RF distance to Cognate Tree: 70.90140845070422\n",
      "Average relative RF distance to Cognate Tree: 0.8244347183098589\n"
     ]
    }
   ],
   "source": [
    "#l_file = open('../output/raxml/alldistances.raxml.rfDistances', 'r')\n",
    "l_file = open('../output/raxml/scaled_filtered_alldistances.raxml.rfDistances', 'r')\n",
    "lines = l_file.readlines()\n",
    "i = 1\n",
    "line = lines[i].split(\"\\t\")\n",
    "absolute_sum = 0\n",
    "relative_sum = 0\n",
    "count = 0\n",
    "while(line[0] == '0'):\n",
    "    absolute_sum = absolute_sum + float(line[2])\n",
    "    relative_sum = relative_sum + float(line[3])\n",
    "    count+=1\n",
    "    i+=1\n",
    "    line = lines[i].split(\"\\t\")\n",
    "    \n",
    "absolute_avg = absolute_sum / count\n",
    "relative_avg = relative_sum / count\n",
    "\n",
    "print(\"Average absolute RF distance to Geo Tree: \" + str(absolute_avg))\n",
    "print(\"Average relative RF distance to Geo Tree: \" + str(relative_avg))\n",
    "\n",
    "absolute_sum = 0\n",
    "relative_sum = 0\n",
    "count = 0\n",
    "while(line[0] == '1' and i < len(lines)-1):\n",
    "    absolute_sum = absolute_sum + float(line[2])\n",
    "    relative_sum = relative_sum + float(line[3])\n",
    "    count+=1\n",
    "    i+=1\n",
    "    line = lines[i].split(\"\\t\")\n",
    "    \n",
    "absolute_avg = absolute_sum / count\n",
    "relative_avg = relative_sum / count\n",
    "\n",
    "print(\"Average absolute RF distance to Cognate Tree: \" + str(absolute_avg))\n",
    "print(\"Average relative RF distance to Cognate Tree: \" + str(relative_avg))"
   ]
  },
  {
   "cell_type": "code",
   "execution_count": null,
   "id": "7629a52b",
   "metadata": {},
   "outputs": [],
   "source": []
  }
 ],
 "metadata": {
  "kernelspec": {
   "display_name": "Python 3 (ipykernel)",
   "language": "python",
   "name": "python3"
  },
  "language_info": {
   "codemirror_mode": {
    "name": "ipython",
    "version": 3
   },
   "file_extension": ".py",
   "mimetype": "text/x-python",
   "name": "python",
   "nbconvert_exporter": "python",
   "pygments_lexer": "ipython3",
   "version": "3.10.7"
  }
 },
 "nbformat": 4,
 "nbformat_minor": 5
}
