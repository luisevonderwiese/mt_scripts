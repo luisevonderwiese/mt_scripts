{
 "cells": [
  {
   "cell_type": "code",
   "execution_count": 30,
   "id": "0cb61f5a",
   "metadata": {},
   "outputs": [
    {
     "ename": "RouterApiError",
     "evalue": "404 ({'error': {'code': 2010, 'message': 'Could not find routable point within a radius of 100000000.0 meters of specified coordinate 0: 68.3275074 32.4642423.'}, 'info': {'engine': {'version': '6.8.0', 'build_date': '2022-10-21T14:34:31Z'}, 'timestamp': 1669995367149}})",
     "output_type": "error",
     "traceback": [
      "\u001b[0;31m---------------------------------------------------------------------------\u001b[0m",
      "\u001b[0;31mRouterApiError\u001b[0m                            Traceback (most recent call last)",
      "Cell \u001b[0;32mIn [30], line 24\u001b[0m\n\u001b[1;32m     22\u001b[0m     \u001b[38;5;28;01mcontinue\u001b[39;00m\n\u001b[1;32m     23\u001b[0m curr_coords \u001b[38;5;241m=\u001b[39m [coords[k1], coords[k2]]\n\u001b[0;32m---> 24\u001b[0m route \u001b[38;5;241m=\u001b[39m \u001b[43mclient\u001b[49m\u001b[38;5;241;43m.\u001b[39;49m\u001b[43mdirections\u001b[49m\u001b[43m(\u001b[49m\u001b[43mlocations\u001b[49m\u001b[38;5;241;43m=\u001b[39;49m\u001b[43mcurr_coords\u001b[49m\u001b[43m,\u001b[49m\u001b[43m \u001b[49m\u001b[43mprofile\u001b[49m\u001b[38;5;241;43m=\u001b[39;49m\u001b[43mprofile\u001b[49m\u001b[43m,\u001b[49m\u001b[43m \u001b[49m\u001b[43mradiuses\u001b[49m\u001b[38;5;241;43m=\u001b[39;49m\u001b[38;5;124;43m'\u001b[39;49m\u001b[38;5;124;43m100000000\u001b[39;49m\u001b[38;5;124;43m'\u001b[39;49m\u001b[43m)\u001b[49m\n\u001b[1;32m     25\u001b[0m distance \u001b[38;5;241m=\u001b[39m route\u001b[38;5;241m.\u001b[39mdistance\n\u001b[1;32m     26\u001b[0m duration \u001b[38;5;241m=\u001b[39m route\u001b[38;5;241m.\u001b[39mduration\n",
      "File \u001b[0;32m~/.local/lib/python3.10/site-packages/routingpy/routers/openrouteservice.py:310\u001b[0m, in \u001b[0;36mORS.directions\u001b[0;34m(self, locations, profile, format, preference, alternative_routes, units, language, geometry, geometry_simplify, instructions, instructions_format, roundabout_exits, attributes, radiuses, maneuvers, bearings, continue_straight, elevation, extra_info, suppress_warnings, options, dry_run)\u001b[0m\n\u001b[1;32m    304\u001b[0m             \u001b[38;5;28;01mraise\u001b[39;00m \u001b[38;5;167;01mValueError\u001b[39;00m(\n\u001b[1;32m    305\u001b[0m                 \u001b[38;5;124m\"\u001b[39m\u001b[38;5;124mORS: options.vehicle_type must be specified for driving-hgv if restrictions are set.\u001b[39m\u001b[38;5;124m\"\u001b[39m\n\u001b[1;32m    306\u001b[0m             )\n\u001b[1;32m    307\u001b[0m     params[\u001b[38;5;124m\"\u001b[39m\u001b[38;5;124moptions\u001b[39m\u001b[38;5;124m\"\u001b[39m] \u001b[38;5;241m=\u001b[39m options\n\u001b[1;32m    309\u001b[0m \u001b[38;5;28;01mreturn\u001b[39;00m \u001b[38;5;28mself\u001b[39m\u001b[38;5;241m.\u001b[39mparse_direction_json(\n\u001b[0;32m--> 310\u001b[0m     \u001b[38;5;28;43mself\u001b[39;49m\u001b[38;5;241;43m.\u001b[39;49m\u001b[43mclient\u001b[49m\u001b[38;5;241;43m.\u001b[39;49m\u001b[43m_request\u001b[49m\u001b[43m(\u001b[49m\n\u001b[1;32m    311\u001b[0m \u001b[43m        \u001b[49m\u001b[38;5;124;43m\"\u001b[39;49m\u001b[38;5;124;43m/v2/directions/\u001b[39;49m\u001b[38;5;124;43m\"\u001b[39;49m\u001b[43m \u001b[49m\u001b[38;5;241;43m+\u001b[39;49m\u001b[43m \u001b[49m\u001b[43mprofile\u001b[49m\u001b[43m \u001b[49m\u001b[38;5;241;43m+\u001b[39;49m\u001b[43m \u001b[49m\u001b[38;5;124;43m\"\u001b[39;49m\u001b[38;5;124;43m/\u001b[39;49m\u001b[38;5;124;43m\"\u001b[39;49m\u001b[43m \u001b[49m\u001b[38;5;241;43m+\u001b[39;49m\u001b[43m \u001b[49m\u001b[38;5;28;43mformat\u001b[39;49m\u001b[43m,\u001b[49m\n\u001b[1;32m    312\u001b[0m \u001b[43m        \u001b[49m\u001b[43mget_params\u001b[49m\u001b[38;5;241;43m=\u001b[39;49m\u001b[43m{\u001b[49m\u001b[43m}\u001b[49m\u001b[43m,\u001b[49m\n\u001b[1;32m    313\u001b[0m \u001b[43m        \u001b[49m\u001b[43mpost_params\u001b[49m\u001b[38;5;241;43m=\u001b[39;49m\u001b[43mparams\u001b[49m\u001b[43m,\u001b[49m\n\u001b[1;32m    314\u001b[0m \u001b[43m        \u001b[49m\u001b[43mdry_run\u001b[49m\u001b[38;5;241;43m=\u001b[39;49m\u001b[43mdry_run\u001b[49m\u001b[43m,\u001b[49m\n\u001b[1;32m    315\u001b[0m \u001b[43m    \u001b[49m\u001b[43m)\u001b[49m,\n\u001b[1;32m    316\u001b[0m     \u001b[38;5;28mformat\u001b[39m,\n\u001b[1;32m    317\u001b[0m     units,\n\u001b[1;32m    318\u001b[0m     alternative_routes,\n\u001b[1;32m    319\u001b[0m )\n",
      "File \u001b[0;32m~/.local/lib/python3.10/site-packages/routingpy/client_default.py:199\u001b[0m, in \u001b[0;36mClient._request\u001b[0;34m(self, url, get_params, post_params, first_request_time, retry_counter, dry_run)\u001b[0m\n\u001b[1;32m    196\u001b[0m     \u001b[38;5;28;01mreturn\u001b[39;00m \u001b[38;5;28mself\u001b[39m\u001b[38;5;241m.\u001b[39m_request(url, get_params, post_params, first_request_time, retry_counter \u001b[38;5;241m+\u001b[39m \u001b[38;5;241m1\u001b[39m)\n\u001b[1;32m    198\u001b[0m \u001b[38;5;28;01mtry\u001b[39;00m:\n\u001b[0;32m--> 199\u001b[0m     result \u001b[38;5;241m=\u001b[39m \u001b[38;5;28;43mself\u001b[39;49m\u001b[38;5;241;43m.\u001b[39;49m\u001b[43m_get_body\u001b[49m\u001b[43m(\u001b[49m\u001b[43mresponse\u001b[49m\u001b[43m)\u001b[49m\n\u001b[1;32m    201\u001b[0m     \u001b[38;5;28;01mreturn\u001b[39;00m result\n\u001b[1;32m    203\u001b[0m \u001b[38;5;28;01mexcept\u001b[39;00m exceptions\u001b[38;5;241m.\u001b[39mRouterApiError:\n",
      "File \u001b[0;32m~/.local/lib/python3.10/site-packages/routingpy/client_default.py:242\u001b[0m, in \u001b[0;36mClient._get_body\u001b[0;34m(response)\u001b[0m\n\u001b[1;32m    239\u001b[0m     \u001b[38;5;28;01mraise\u001b[39;00m exceptions\u001b[38;5;241m.\u001b[39mOverQueryLimit(status_code, body)\n\u001b[1;32m    241\u001b[0m \u001b[38;5;28;01mif\u001b[39;00m \u001b[38;5;241m400\u001b[39m \u001b[38;5;241m<\u001b[39m\u001b[38;5;241m=\u001b[39m status_code \u001b[38;5;241m<\u001b[39m \u001b[38;5;241m500\u001b[39m:\n\u001b[0;32m--> 242\u001b[0m     \u001b[38;5;28;01mraise\u001b[39;00m exceptions\u001b[38;5;241m.\u001b[39mRouterApiError(status_code, body)\n\u001b[1;32m    244\u001b[0m \u001b[38;5;28;01mif\u001b[39;00m \u001b[38;5;241m500\u001b[39m \u001b[38;5;241m<\u001b[39m\u001b[38;5;241m=\u001b[39m status_code:\n\u001b[1;32m    245\u001b[0m     \u001b[38;5;28;01mraise\u001b[39;00m exceptions\u001b[38;5;241m.\u001b[39mRouterServerError(status_code, body)\n",
      "\u001b[0;31mRouterApiError\u001b[0m: 404 ({'error': {'code': 2010, 'message': 'Could not find routable point within a radius of 100000000.0 meters of specified coordinate 0: 68.3275074 32.4642423.'}, 'info': {'engine': {'version': '6.8.0', 'build_date': '2022-10-21T14:34:31Z'}, 'timestamp': 1669995367149}})"
     ]
    }
   ],
   "source": [
    "from routingpy import Graphhopper, ORS, MapboxOSRM\n",
    "from shapely.geometry import Polygon\n",
    "import json\n",
    "\n",
    "# Some locations in Berlin\n",
    "coords = json.load(open('data/geo/coordinates_science_compatible.json', 'r'))\n",
    "for k in coords:\n",
    "    v = coords[k]\n",
    "    lat = v[0]\n",
    "    lon = v[1]\n",
    "    coords[k] = [lon, lat]\n",
    "    \n",
    "\n",
    "\n",
    "client =  ORS(api_key='5b3ce3597851110001cf62481157e1b800ee4603acb17286d982f300')\n",
    "profile = 'driving-car'\n",
    "distance_matrix = [[0 for i in range(len(coords))] for j in range(len(coords))]\n",
    "duration_matrix = [[0 for i in range(len(coords))] for j in range(len(coords))]\n",
    "for i, k1 in enumerate(coords):\n",
    "    for j, k2 in enumerate(coords):\n",
    "        if i >= j:\n",
    "            continue\n",
    "        curr_coords = [coords[k1], coords[k2]]\n",
    "        route = client.directions(locations=curr_coords, profile=profile, radiuses='100000000')\n",
    "        distance = route.distance\n",
    "        duration = route.duration\n",
    "        distance_matrix[i][j] = distance\n",
    "        distance_matrix[j][i] = distance\n",
    "        duration_matrix[i][j] = duration\n",
    "        duration_matrix[j][i] = duration\n",
    "print(distance_matrix)\n",
    "print(duration_matrix)"
   ]
  },
  {
   "cell_type": "code",
   "execution_count": null,
   "id": "a93f0e22",
   "metadata": {},
   "outputs": [],
   "source": []
  }
 ],
 "metadata": {
  "kernelspec": {
   "display_name": "Python 3 (ipykernel)",
   "language": "python",
   "name": "python3"
  },
  "language_info": {
   "codemirror_mode": {
    "name": "ipython",
    "version": 3
   },
   "file_extension": ".py",
   "mimetype": "text/x-python",
   "name": "python",
   "nbconvert_exporter": "python",
   "pygments_lexer": "ipython3",
   "version": "3.10.8"
  }
 },
 "nbformat": 4,
 "nbformat_minor": 5
}
