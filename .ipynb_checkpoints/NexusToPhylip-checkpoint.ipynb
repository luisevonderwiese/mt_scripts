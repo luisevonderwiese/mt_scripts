{
 "cells": [
  {
   "cell_type": "code",
   "execution_count": 1,
   "id": "3a48a832",
   "metadata": {},
   "outputs": [],
   "source": [
    "from Bio import AlignIO\n",
    "from Bio.AlignIO.PhylipIO import RelaxedPhylipWriter\n",
    "import os\n",
    "import shutil"
   ]
  },
  {
   "cell_type": "code",
   "execution_count": null,
   "id": "5e270c75",
   "metadata": {},
   "outputs": [],
   "source": [
    "%load julia/nexus_to_phylip.py"
   ]
  },
  {
   "cell_type": "code",
   "execution_count": 22,
   "id": "1b337bcc",
   "metadata": {},
   "outputs": [],
   "source": [
    "def convert_nexus_to_phylip(input_dir, output_dir, alignment_name):\n",
    "    align = AlignIO.read(input_dir + alignment_name + \".nex\", \"nexus\")\n",
    "    with open(output_dir + alignment_name + \".phy\",\"w+\") as f:\n",
    "        writer = RelaxedPhylipWriter(f)\n",
    "        writer.write_alignment(align)\n",
    "    if check_conversion(input_dir, output_dir, alignment_name):\n",
    "        return True\n",
    "    else:\n",
    "        #os.remove(output_dir + alignment_name + \".phy\")\n",
    "        return False\n",
    "    \n",
    "def check_conversion(input_dir, output_dir, alignment_name):\n",
    "    align_nex = AlignIO.read(input_dir + alignment_name + \".nex\", \"nexus\")\n",
    "    align_phy = AlignIO.read(output_dir + alignment_name + \".phy\", \"phylip-relaxed\")\n",
    "    if not len(align_nex) == len(align_phy):\n",
    "        print(\"Not same number of taxa\")\n",
    "        return False\n",
    "    if not align_nex.get_alignment_length() == align_phy.get_alignment_length():\n",
    "        print(\"Not same number of sites\")\n",
    "        return False\n",
    "    #if not align_nex[0].seq == align_phy[0].seq:\n",
    "    #    print(\"First row not identical\")\n",
    "    #    return False\n",
    "    #if not align_nex[:][0] == align_phy[:][0]:\n",
    "    #    print(\"First column not identical\")\n",
    "    #    return False\n",
    "    return True"
   ]
  },
  {
   "cell_type": "code",
   "execution_count": 4,
   "id": "114c9bdc",
   "metadata": {},
   "outputs": [],
   "source": [
    "def convert_lexibankMrbayes():\n",
    "    input_dir = \"../database/datasets/lexibankMrbayes/\"\n",
    "    output_dir = \"../database/datasets/lexibankMrbayes_converted/\"\n",
    "    with os.scandir(input_dir) as it:\n",
    "        for entry in it:\n",
    "            if not entry.is_file():\n",
    "                continue\n",
    "            print(entry.name)\n",
    "            #convert_and_save_nexus(input_dir + entry.name)\n",
    "            convert_nexus_to_phylip(input_dir, output_dir, entry.name.split(\".\")[0])\n",
    "#convert_lexibankMrbayes()"
   ]
  },
  {
   "cell_type": "code",
   "execution_count": 5,
   "id": "59e2ea32",
   "metadata": {},
   "outputs": [],
   "source": [
    "def convert_language_families():\n",
    "    input_dir = \"../database/datasets/language_families/\"\n",
    "    output_dir = \"../database/datasets/language_families_converted/\"\n",
    "    with os.scandir(input_dir) as it:\n",
    "        for entry in it:\n",
    "            if not entry.is_file():\n",
    "                continue\n",
    "            data = entry.name.split('.')\n",
    "            if data[1] == 'pmi' or data[1] == 'cc_sc':\n",
    "                continue\n",
    "            name = '.'.join(data[:-1])\n",
    "            if data[-1] == \"phy\":\n",
    "                shutil.copyfile(input_dir+entry.name, output_dir+entry.name)\n",
    "            else:\n",
    "                if data[-1] == \"nex\":\n",
    "                    print(convert_nexus_to_phylip(input_dir, output_dir, name))\n",
    "            "
   ]
  },
  {
   "cell_type": "code",
   "execution_count": 24,
   "id": "2f7f5c62",
   "metadata": {},
   "outputs": [
    {
     "name": "stdout",
     "output_type": "stream",
     "text": [
      "nagaraja_et_al2013.nex\n"
     ]
    },
    {
     "ename": "ValueError",
     "evalue": "not enough values to unpack (expected 2, got 0)",
     "output_type": "error",
     "traceback": [
      "\u001b[0;31m---------------------------------------------------------------------------\u001b[0m",
      "\u001b[0;31mValueError\u001b[0m                                Traceback (most recent call last)",
      "Cell \u001b[0;32mIn [24], line 10\u001b[0m\n\u001b[1;32m      8\u001b[0m             \u001b[38;5;28mprint\u001b[39m(entry\u001b[38;5;241m.\u001b[39mname)\n\u001b[1;32m      9\u001b[0m             convert_nexus_to_phylip(input_dir, output_dir, \u001b[38;5;124m\"\u001b[39m\u001b[38;5;124m.\u001b[39m\u001b[38;5;124m\"\u001b[39m\u001b[38;5;241m.\u001b[39mjoin(entry\u001b[38;5;241m.\u001b[39mname\u001b[38;5;241m.\u001b[39msplit(\u001b[38;5;124m\"\u001b[39m\u001b[38;5;124m.\u001b[39m\u001b[38;5;124m\"\u001b[39m)[:\u001b[38;5;241m-\u001b[39m\u001b[38;5;241m1\u001b[39m]))\n\u001b[0;32m---> 10\u001b[0m \u001b[43mconvert_phlorest\u001b[49m\u001b[43m(\u001b[49m\u001b[43m)\u001b[49m\n",
      "Cell \u001b[0;32mIn [24], line 9\u001b[0m, in \u001b[0;36mconvert_phlorest\u001b[0;34m()\u001b[0m\n\u001b[1;32m      7\u001b[0m     \u001b[38;5;28;01mcontinue\u001b[39;00m\n\u001b[1;32m      8\u001b[0m \u001b[38;5;28mprint\u001b[39m(entry\u001b[38;5;241m.\u001b[39mname)\n\u001b[0;32m----> 9\u001b[0m \u001b[43mconvert_nexus_to_phylip\u001b[49m\u001b[43m(\u001b[49m\u001b[43minput_dir\u001b[49m\u001b[43m,\u001b[49m\u001b[43m \u001b[49m\u001b[43moutput_dir\u001b[49m\u001b[43m,\u001b[49m\u001b[43m \u001b[49m\u001b[38;5;124;43m\"\u001b[39;49m\u001b[38;5;124;43m.\u001b[39;49m\u001b[38;5;124;43m\"\u001b[39;49m\u001b[38;5;241;43m.\u001b[39;49m\u001b[43mjoin\u001b[49m\u001b[43m(\u001b[49m\u001b[43mentry\u001b[49m\u001b[38;5;241;43m.\u001b[39;49m\u001b[43mname\u001b[49m\u001b[38;5;241;43m.\u001b[39;49m\u001b[43msplit\u001b[49m\u001b[43m(\u001b[49m\u001b[38;5;124;43m\"\u001b[39;49m\u001b[38;5;124;43m.\u001b[39;49m\u001b[38;5;124;43m\"\u001b[39;49m\u001b[43m)\u001b[49m\u001b[43m[\u001b[49m\u001b[43m:\u001b[49m\u001b[38;5;241;43m-\u001b[39;49m\u001b[38;5;241;43m1\u001b[39;49m\u001b[43m]\u001b[49m\u001b[43m)\u001b[49m\u001b[43m)\u001b[49m\n",
      "Cell \u001b[0;32mIn [22], line 6\u001b[0m, in \u001b[0;36mconvert_nexus_to_phylip\u001b[0;34m(input_dir, output_dir, alignment_name)\u001b[0m\n\u001b[1;32m      4\u001b[0m     writer \u001b[38;5;241m=\u001b[39m RelaxedPhylipWriter(f)\n\u001b[1;32m      5\u001b[0m     writer\u001b[38;5;241m.\u001b[39mwrite_alignment(align)\n\u001b[0;32m----> 6\u001b[0m \u001b[38;5;28;01mif\u001b[39;00m \u001b[43mcheck_conversion\u001b[49m\u001b[43m(\u001b[49m\u001b[43minput_dir\u001b[49m\u001b[43m,\u001b[49m\u001b[43m \u001b[49m\u001b[43moutput_dir\u001b[49m\u001b[43m,\u001b[49m\u001b[43m \u001b[49m\u001b[43malignment_name\u001b[49m\u001b[43m)\u001b[49m:\n\u001b[1;32m      7\u001b[0m     \u001b[38;5;28;01mreturn\u001b[39;00m \u001b[38;5;28;01mTrue\u001b[39;00m\n\u001b[1;32m      8\u001b[0m \u001b[38;5;28;01melse\u001b[39;00m:\n\u001b[1;32m      9\u001b[0m     \u001b[38;5;66;03m#os.remove(output_dir + alignment_name + \".phy\")\u001b[39;00m\n",
      "Cell \u001b[0;32mIn [22], line 14\u001b[0m, in \u001b[0;36mcheck_conversion\u001b[0;34m(input_dir, output_dir, alignment_name)\u001b[0m\n\u001b[1;32m     12\u001b[0m \u001b[38;5;28;01mdef\u001b[39;00m \u001b[38;5;21mcheck_conversion\u001b[39m(input_dir, output_dir, alignment_name):\n\u001b[1;32m     13\u001b[0m     align_nex \u001b[38;5;241m=\u001b[39m AlignIO\u001b[38;5;241m.\u001b[39mread(input_dir \u001b[38;5;241m+\u001b[39m alignment_name \u001b[38;5;241m+\u001b[39m \u001b[38;5;124m\"\u001b[39m\u001b[38;5;124m.nex\u001b[39m\u001b[38;5;124m\"\u001b[39m, \u001b[38;5;124m\"\u001b[39m\u001b[38;5;124mnexus\u001b[39m\u001b[38;5;124m\"\u001b[39m)\n\u001b[0;32m---> 14\u001b[0m     align_phy \u001b[38;5;241m=\u001b[39m \u001b[43mAlignIO\u001b[49m\u001b[38;5;241;43m.\u001b[39;49m\u001b[43mread\u001b[49m\u001b[43m(\u001b[49m\u001b[43moutput_dir\u001b[49m\u001b[43m \u001b[49m\u001b[38;5;241;43m+\u001b[39;49m\u001b[43m \u001b[49m\u001b[43malignment_name\u001b[49m\u001b[43m \u001b[49m\u001b[38;5;241;43m+\u001b[39;49m\u001b[43m \u001b[49m\u001b[38;5;124;43m\"\u001b[39;49m\u001b[38;5;124;43m.phy\u001b[39;49m\u001b[38;5;124;43m\"\u001b[39;49m\u001b[43m,\u001b[49m\u001b[43m \u001b[49m\u001b[38;5;124;43m\"\u001b[39;49m\u001b[38;5;124;43mphylip-relaxed\u001b[39;49m\u001b[38;5;124;43m\"\u001b[39;49m\u001b[43m)\u001b[49m\n\u001b[1;32m     15\u001b[0m     \u001b[38;5;28;01mif\u001b[39;00m \u001b[38;5;129;01mnot\u001b[39;00m \u001b[38;5;28mlen\u001b[39m(align_nex) \u001b[38;5;241m==\u001b[39m \u001b[38;5;28mlen\u001b[39m(align_phy):\n\u001b[1;32m     16\u001b[0m         \u001b[38;5;28mprint\u001b[39m(\u001b[38;5;124m\"\u001b[39m\u001b[38;5;124mNot same number of taxa\u001b[39m\u001b[38;5;124m\"\u001b[39m)\n",
      "File \u001b[0;32m~/.local/lib/python3.10/site-packages/Bio/AlignIO/__init__.py:390\u001b[0m, in \u001b[0;36mread\u001b[0;34m(handle, format, seq_count)\u001b[0m\n\u001b[1;32m    388\u001b[0m     \u001b[38;5;28;01mraise\u001b[39;00m \u001b[38;5;167;01mValueError\u001b[39;00m(\u001b[38;5;124m\"\u001b[39m\u001b[38;5;124mNo records found in handle\u001b[39m\u001b[38;5;124m\"\u001b[39m) \u001b[38;5;28;01mfrom\u001b[39;00m \u001b[38;5;28mNone\u001b[39m\n\u001b[1;32m    389\u001b[0m \u001b[38;5;28;01mtry\u001b[39;00m:\n\u001b[0;32m--> 390\u001b[0m     \u001b[38;5;28;43mnext\u001b[39;49m\u001b[43m(\u001b[49m\u001b[43miterator\u001b[49m\u001b[43m)\u001b[49m\n\u001b[1;32m    391\u001b[0m     \u001b[38;5;28;01mraise\u001b[39;00m \u001b[38;5;167;01mValueError\u001b[39;00m(\u001b[38;5;124m\"\u001b[39m\u001b[38;5;124mMore than one record found in handle\u001b[39m\u001b[38;5;124m\"\u001b[39m)\n\u001b[1;32m    392\u001b[0m \u001b[38;5;28;01mexcept\u001b[39;00m \u001b[38;5;167;01mStopIteration\u001b[39;00m:\n",
      "File \u001b[0;32m~/.local/lib/python3.10/site-packages/Bio/AlignIO/__init__.py:337\u001b[0m, in \u001b[0;36mparse\u001b[0;34m(handle, format, seq_count)\u001b[0m\n\u001b[1;32m    334\u001b[0m \u001b[38;5;28;01melse\u001b[39;00m:\n\u001b[1;32m    335\u001b[0m     \u001b[38;5;28;01mraise\u001b[39;00m \u001b[38;5;167;01mValueError\u001b[39;00m(\u001b[38;5;124m\"\u001b[39m\u001b[38;5;124mUnknown format \u001b[39m\u001b[38;5;124m'\u001b[39m\u001b[38;5;132;01m%s\u001b[39;00m\u001b[38;5;124m'\u001b[39m\u001b[38;5;124m\"\u001b[39m \u001b[38;5;241m%\u001b[39m \u001b[38;5;28mformat\u001b[39m)\n\u001b[0;32m--> 337\u001b[0m \u001b[38;5;28;01myield from\u001b[39;00m i\n",
      "File \u001b[0;32m~/.local/lib/python3.10/site-packages/Bio/AlignIO/PhylipIO.py:228\u001b[0m, in \u001b[0;36mPhylipIterator.__next__\u001b[0;34m(self)\u001b[0m\n\u001b[1;32m    226\u001b[0m \u001b[38;5;28;01mfor\u001b[39;00m i \u001b[38;5;129;01min\u001b[39;00m \u001b[38;5;28mrange\u001b[39m(number_of_seqs):\n\u001b[1;32m    227\u001b[0m     line \u001b[38;5;241m=\u001b[39m handle\u001b[38;5;241m.\u001b[39mreadline()\u001b[38;5;241m.\u001b[39mrstrip()\n\u001b[0;32m--> 228\u001b[0m     sequence_id, s \u001b[38;5;241m=\u001b[39m \u001b[38;5;28;43mself\u001b[39;49m\u001b[38;5;241;43m.\u001b[39;49m\u001b[43m_split_id\u001b[49m\u001b[43m(\u001b[49m\u001b[43mline\u001b[49m\u001b[43m)\u001b[49m\n\u001b[1;32m    229\u001b[0m     ids\u001b[38;5;241m.\u001b[39mappend(sequence_id)\n\u001b[1;32m    230\u001b[0m     \u001b[38;5;28;01mif\u001b[39;00m \u001b[38;5;124m\"\u001b[39m\u001b[38;5;124m.\u001b[39m\u001b[38;5;124m\"\u001b[39m \u001b[38;5;129;01min\u001b[39;00m s:\n",
      "File \u001b[0;32m~/.local/lib/python3.10/site-packages/Bio/AlignIO/PhylipIO.py:301\u001b[0m, in \u001b[0;36mRelaxedPhylipIterator._split_id\u001b[0;34m(self, line)\u001b[0m\n\u001b[1;32m    294\u001b[0m \u001b[38;5;28;01mdef\u001b[39;00m \u001b[38;5;21m_split_id\u001b[39m(\u001b[38;5;28mself\u001b[39m, line):\n\u001b[1;32m    295\u001b[0m     \u001b[38;5;124;03m\"\"\"Extract the sequence ID from a Phylip line (PRIVATE).\u001b[39;00m\n\u001b[1;32m    296\u001b[0m \n\u001b[1;32m    297\u001b[0m \u001b[38;5;124;03m    Returns a tuple containing: (sequence_id, sequence_residues)\u001b[39;00m\n\u001b[1;32m    298\u001b[0m \n\u001b[1;32m    299\u001b[0m \u001b[38;5;124;03m    For relaxed format split at the first whitespace character.\u001b[39;00m\n\u001b[1;32m    300\u001b[0m \u001b[38;5;124;03m    \"\"\"\u001b[39;00m\n\u001b[0;32m--> 301\u001b[0m     seq_id, sequence \u001b[38;5;241m=\u001b[39m line\u001b[38;5;241m.\u001b[39msplit(\u001b[38;5;28;01mNone\u001b[39;00m, \u001b[38;5;241m1\u001b[39m)\n\u001b[1;32m    302\u001b[0m     sequence \u001b[38;5;241m=\u001b[39m sequence\u001b[38;5;241m.\u001b[39mstrip()\u001b[38;5;241m.\u001b[39mreplace(\u001b[38;5;124m\"\u001b[39m\u001b[38;5;124m \u001b[39m\u001b[38;5;124m\"\u001b[39m, \u001b[38;5;124m\"\u001b[39m\u001b[38;5;124m\"\u001b[39m)\n\u001b[1;32m    303\u001b[0m     \u001b[38;5;28;01mreturn\u001b[39;00m seq_id, sequence\n",
      "\u001b[0;31mValueError\u001b[0m: not enough values to unpack (expected 2, got 0)"
     ]
    }
   ],
   "source": [
    "def convert_phlorest():\n",
    "    input_dir = \"../database/datasets/phlorest_private/\"\n",
    "    output_dir = \"../database/datasets/phlorest_private_converted/\"\n",
    "    with os.scandir(input_dir) as it:\n",
    "        for entry in it:\n",
    "            if not entry.is_file():\n",
    "                continue\n",
    "            print(entry.name)\n",
    "            convert_nexus_to_phylip(input_dir, output_dir, \".\".join(entry.name.split(\".\")[:-1]))\n",
    "convert_phlorest()"
   ]
  },
  {
   "cell_type": "code",
   "execution_count": 7,
   "id": "79ce3fd5",
   "metadata": {},
   "outputs": [
    {
     "ename": "FileNotFoundError",
     "evalue": "[Errno 2] No such file or directory: '../database/datasets/lexibankMrbayes_converted/saenkoromance.phy'",
     "output_type": "error",
     "traceback": [
      "\u001b[0;31m---------------------------------------------------------------------------\u001b[0m",
      "\u001b[0;31mFileNotFoundError\u001b[0m                         Traceback (most recent call last)",
      "Cell \u001b[0;32mIn [7], line 2\u001b[0m\n\u001b[1;32m      1\u001b[0m \u001b[38;5;28;01mfrom\u001b[39;00m \u001b[38;5;21;01mete3\u001b[39;00m \u001b[38;5;28;01mimport\u001b[39;00m SeqGroup\n\u001b[0;32m----> 2\u001b[0m txt \u001b[38;5;241m=\u001b[39m \u001b[38;5;28;43mopen\u001b[39;49m\u001b[43m(\u001b[49m\u001b[38;5;124;43m\"\u001b[39;49m\u001b[38;5;124;43m../database/datasets/lexibankMrbayes_converted/saenkoromance.phy\u001b[39;49m\u001b[38;5;124;43m\"\u001b[39;49m\u001b[43m)\u001b[49m\u001b[38;5;241m.\u001b[39mread()\n\u001b[1;32m      3\u001b[0m \u001b[38;5;28mprint\u001b[39m(txt)\n\u001b[1;32m      4\u001b[0m seqs \u001b[38;5;241m=\u001b[39m SeqGroup(txt, \u001b[38;5;28mformat\u001b[39m\u001b[38;5;241m=\u001b[39m\u001b[38;5;124m\"\u001b[39m\u001b[38;5;124mphylip_relaxed\u001b[39m\u001b[38;5;124m\"\u001b[39m)\n",
      "File \u001b[0;32m/usr/lib/python3.10/site-packages/IPython/core/interactiveshell.py:282\u001b[0m, in \u001b[0;36m_modified_open\u001b[0;34m(file, *args, **kwargs)\u001b[0m\n\u001b[1;32m    275\u001b[0m \u001b[38;5;28;01mif\u001b[39;00m file \u001b[38;5;129;01min\u001b[39;00m {\u001b[38;5;241m0\u001b[39m, \u001b[38;5;241m1\u001b[39m, \u001b[38;5;241m2\u001b[39m}:\n\u001b[1;32m    276\u001b[0m     \u001b[38;5;28;01mraise\u001b[39;00m \u001b[38;5;167;01mValueError\u001b[39;00m(\n\u001b[1;32m    277\u001b[0m         \u001b[38;5;124mf\u001b[39m\u001b[38;5;124m\"\u001b[39m\u001b[38;5;124mIPython won\u001b[39m\u001b[38;5;124m'\u001b[39m\u001b[38;5;124mt let you open fd=\u001b[39m\u001b[38;5;132;01m{\u001b[39;00mfile\u001b[38;5;132;01m}\u001b[39;00m\u001b[38;5;124m by default \u001b[39m\u001b[38;5;124m\"\u001b[39m\n\u001b[1;32m    278\u001b[0m         \u001b[38;5;124m\"\u001b[39m\u001b[38;5;124mas it is likely to crash IPython. If you know what you are doing, \u001b[39m\u001b[38;5;124m\"\u001b[39m\n\u001b[1;32m    279\u001b[0m         \u001b[38;5;124m\"\u001b[39m\u001b[38;5;124myou can use builtins\u001b[39m\u001b[38;5;124m'\u001b[39m\u001b[38;5;124m open.\u001b[39m\u001b[38;5;124m\"\u001b[39m\n\u001b[1;32m    280\u001b[0m     )\n\u001b[0;32m--> 282\u001b[0m \u001b[38;5;28;01mreturn\u001b[39;00m \u001b[43mio_open\u001b[49m\u001b[43m(\u001b[49m\u001b[43mfile\u001b[49m\u001b[43m,\u001b[49m\u001b[43m \u001b[49m\u001b[38;5;241;43m*\u001b[39;49m\u001b[43margs\u001b[49m\u001b[43m,\u001b[49m\u001b[43m \u001b[49m\u001b[38;5;241;43m*\u001b[39;49m\u001b[38;5;241;43m*\u001b[39;49m\u001b[43mkwargs\u001b[49m\u001b[43m)\u001b[49m\n",
      "\u001b[0;31mFileNotFoundError\u001b[0m: [Errno 2] No such file or directory: '../database/datasets/lexibankMrbayes_converted/saenkoromance.phy'"
     ]
    }
   ],
   "source": [
    "from ete3 import SeqGroup\n",
    "txt = open(\"../database/datasets/lexibankMrbayes_converted/saenkoromance.phy\").read()\n",
    "print(txt)\n",
    "seqs = SeqGroup(txt, format=\"phylip_relaxed\")"
   ]
  },
  {
   "cell_type": "code",
   "execution_count": null,
   "id": "5ca6b2f2",
   "metadata": {},
   "outputs": [],
   "source": []
  }
 ],
 "metadata": {
  "kernelspec": {
   "display_name": "Python 3 (ipykernel)",
   "language": "python",
   "name": "python3"
  },
  "language_info": {
   "codemirror_mode": {
    "name": "ipython",
    "version": 3
   },
   "file_extension": ".py",
   "mimetype": "text/x-python",
   "name": "python",
   "nbconvert_exporter": "python",
   "pygments_lexer": "ipython3",
   "version": "3.10.8"
  }
 },
 "nbformat": 4,
 "nbformat_minor": 5
}
