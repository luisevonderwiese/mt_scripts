{
 "cells": [
  {
   "cell_type": "code",
   "execution_count": 1,
   "id": "90ad04ce",
   "metadata": {},
   "outputs": [],
   "source": [
    "def convert_language_families():\n",
    "    input_dir = \"../database/datasets/language_families/\"\n",
    "    output_dir = \"../database/datasets/language_families_converted/\"\n",
    "    with os.scandir(input_dir) as it:\n",
    "        for entry in it:\n",
    "            if not entry.is_file():\n",
    "                continue\n",
    "            data = entry.name.split('.')\n",
    "            if data[1] == 'pmi' or data[1] == 'cc_sc':\n",
    "                continue\n",
    "            name = '.'.join(data[:-1])\n",
    "            if data[-1] == \"phy\":\n",
    "                shutil.copyfile(input_dir+entry.name, output_dir+entry.name)\n",
    "            else:\n",
    "                if data[-1] == \"nex\":\n",
    "                    print(convert_nexus_to_phylip(input_dir, output_dir, name))\n",
    "            "
   ]
  },
  {
   "cell_type": "code",
   "execution_count": 2,
   "id": "b39f2ff5",
   "metadata": {},
   "outputs": [],
   "source": [
    "def convert_lexibankMrbayes():\n",
    "    input_dir = \"../database/datasets/lexibankMrbayes/\"\n",
    "    output_dir = \"../database/datasets/lexibankMrbayes_converted/\"\n",
    "    with os.scandir(input_dir) as it:\n",
    "        for entry in it:\n",
    "            if not entry.is_file():\n",
    "                continue\n",
    "            print(entry.name)\n",
    "            #convert_and_save_nexus(input_dir + entry.name)\n",
    "            convert_nexus_to_phylip(input_dir, output_dir, entry.name.split(\".\")[0])\n",
    "#convert_lexibankMrbayes()"
   ]
  },
  {
   "cell_type": "code",
   "execution_count": null,
   "id": "59289b64",
   "metadata": {},
   "outputs": [],
   "source": [
    "def convert_phlorest():\n",
    "    input_dir = \"../database/datasets/phlorest_private/\"\n",
    "    output_dir = \"../database/datasets/phlorest_private_converted/\"\n",
    "    with os.scandir(input_dir) as it:\n",
    "        for entry in it:\n",
    "            if not entry.is_file():\n",
    "                continue\n",
    "            print(entry.name)\n",
    "            convert_nexus_to_phylip(input_dir, output_dir, \".\".join(entry.name.split(\".\")[:-1]))"
   ]
  }
 ],
 "metadata": {
  "kernelspec": {
   "display_name": "Python 3 (ipykernel)",
   "language": "python",
   "name": "python3"
  },
  "language_info": {
   "codemirror_mode": {
    "name": "ipython",
    "version": 3
   },
   "file_extension": ".py",
   "mimetype": "text/x-python",
   "name": "python",
   "nbconvert_exporter": "python",
   "pygments_lexer": "ipython3",
   "version": "3.10.8"
  }
 },
 "nbformat": 4,
 "nbformat_minor": 5
}
