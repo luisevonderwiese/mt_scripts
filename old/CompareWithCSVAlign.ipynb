{
 "cells": [
  {
   "cell_type": "code",
   "execution_count": 10,
   "id": "e915bff6",
   "metadata": {},
   "outputs": [],
   "source": [
    "import csv\n",
    "from Bio import Phylo, AlignIO\n",
    "from Bio.SeqRecord import SeqRecord\n",
    "from Bio.Seq import Seq\n",
    "from Bio.Align import MultipleSeqAlignment\n",
    "\n",
    "with open('../data/language_alignments/46glossesfull.csv', newline='\\n') as csvfile:\n",
    "\n",
    "    spamreader = csv.reader(csvfile, delimiter='\\t', quotechar='|')\n",
    "    header = True\n",
    "    alignment = {}\n",
    "    for row in spamreader:\n",
    "        if header:\n",
    "            header = False\n",
    "            continue\n",
    "        alignment[row[0]] = \"\".join(row[1:])\n",
    "    \n",
    "    align = AlignIO.read('../data/language_alignments/morpho.phy','phylip')\n",
    "    records = []\n",
    "    for i in range(0, len(align)):\n",
    "        full_sequence = align[i].id.split(\" \")[-1] + align[i].seq\n",
    "        new_id = id=align[i].id.split(\" \")[0]\n",
    "        if new_id == \"Ptg-E\":\n",
    "            new_id = \"PtgE\"\n",
    "        records.append(SeqRecord(Seq(full_sequence), id=new_id))\n",
    "    align = MultipleSeqAlignment(records, annotations={}, column_annotations={})\n",
    "    \n",
    "    for i in range(0, len(align)):\n",
    "        assert(align[i].seq == alignment[align[i].id])"
   ]
  },
  {
   "cell_type": "code",
   "execution_count": null,
   "id": "323b336e",
   "metadata": {},
   "outputs": [],
   "source": []
  }
 ],
 "metadata": {
  "kernelspec": {
   "display_name": "Python 3 (ipykernel)",
   "language": "python",
   "name": "python3"
  },
  "language_info": {
   "codemirror_mode": {
    "name": "ipython",
    "version": 3
   },
   "file_extension": ".py",
   "mimetype": "text/x-python",
   "name": "python",
   "nbconvert_exporter": "python",
   "pygments_lexer": "ipython3",
   "version": "3.10.8"
  }
 },
 "nbformat": 4,
 "nbformat_minor": 5
}
