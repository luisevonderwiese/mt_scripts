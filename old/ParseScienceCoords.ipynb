{
 "cells": [
  {
   "cell_type": "code",
   "execution_count": 1,
   "id": "38441c8c",
   "metadata": {},
   "outputs": [],
   "source": [
    "import xml.etree.ElementTree as ET\n",
    "import json"
   ]
  },
  {
   "cell_type": "code",
   "execution_count": 5,
   "id": "39a37340",
   "metadata": {},
   "outputs": [],
   "source": [
    "\n",
    "taxa_dict = json.load(open('data/util/taxa_dict.json', 'r'))\n",
    "inv_taxa_dict = {v: k for k, v in taxa_dict.items()}\n"
   ]
  },
  {
   "cell_type": "code",
   "execution_count": 3,
   "id": "6b4346ad",
   "metadata": {},
   "outputs": [],
   "source": [
    "tree = ET.parse('data/geo/1219669IndoEuropean_BEAST/IE2011_RelaxedCovarion_AllSingletonsGeo.xml')\n",
    "root = tree.getroot()\n",
    "coords_science = {}\n",
    "for taxon in root.findall('taxa')[0].findall('taxon'):\n",
    "    coord_str = taxon.find('attr').text.split(\" \")\n",
    "    coords_science[taxon.attrib['id']] = (float(coord_str[0]), float(coord_str[1]))\n",
    "coords_translated = {}\n",
    "for science_taxon in coords_science:\n",
    "    if science_taxon in inv_taxa_dict.keys():\n",
    "        coords_translated[inv_taxa_dict[science_taxon]] = coords_science[science_taxon]\n",
    "        \n",
    "json.dump(coords_translated, open('data/geo/coordinates_science_compatible.json', 'w'))\n",
    "coords = json.load(open('data/geo/coordinates_science_compatible.json', 'r'))\n",
    "\n",
    "\n",
    "\n"
   ]
  },
  {
   "cell_type": "code",
   "execution_count": null,
   "id": "09be35ad",
   "metadata": {},
   "outputs": [],
   "source": []
  }
 ],
 "metadata": {
  "kernelspec": {
   "display_name": "Python 3 (ipykernel)",
   "language": "python",
   "name": "python3"
  },
  "language_info": {
   "codemirror_mode": {
    "name": "ipython",
    "version": 3
   },
   "file_extension": ".py",
   "mimetype": "text/x-python",
   "name": "python",
   "nbconvert_exporter": "python",
   "pygments_lexer": "ipython3",
   "version": "3.10.8"
  }
 },
 "nbformat": 4,
 "nbformat_minor": 5
}
