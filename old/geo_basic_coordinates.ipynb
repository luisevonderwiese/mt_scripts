{
 "cells": [
  {
   "cell_type": "code",
   "execution_count": 5,
   "id": "ab5e369d",
   "metadata": {},
   "outputs": [],
   "source": [
    "tree_name = \"geo_basic.tree\"\n",
    "center_coordinates = {'Alb' : (41.153332 , 20.168331), #centroids\n",
    "                'Arm' : (40.069099, 45.038189),  #centroids\n",
    "                'ClG' : (39.074208, 21.824312),  #centroids greece\n",
    "                'Farsi' : (32.427908, 53.688046),  #centroids Iran\n",
    "                'Pashto' : (33.93911, 67.709953),  #centroids Afghanistan\n",
    "                'Grk' : (39.074208, 21.824312),  #centroids\n",
    "                'Sanskr' : (20.679438392624938, 79.10412223266015),   #guess\n",
    "                'Nepali' : (28.394857, 84.124008),  #centroids Nepal\n",
    "                'Bengali' : (23.344402508365487, 88.74845360537806),  #guess\n",
    "                'Hin' : (27.554184633920087, 76.85026055258108),  #guess\n",
    "                'Guj' : (23.157662449269584, 72.69742823655031),  #guess\n",
    "                'Mar' : (19.784411299230594, 75.83951799424334),  #guess\n",
    "                'Kashm' : (33.739989089062476, 75.86149065898582),  #guess\n",
    "                'SC' : (44.866242770934655, 17.050543116627033), #guess \n",
    "                'Blg' : (42.733883, 25.48583),  #centroids\n",
    "                'Mac' : (41.608635, 21.745275),  #centroids\n",
    "                'Rus' : (61.52401, 105.318756),  #centroids\n",
    "                'Po' : (51.919438, 19.145136),  #centroids\n",
    "                'BelR' : (53.709807, 27.953389),  #centroids\n",
    "                'Ukr' : (48.379433, 31.16558),  #centroids\n",
    "                'Slvk' : (48.669026, 9.699024),  #centroids\n",
    "                'Cze' : (49.817492, 15.472962),  #centroids\n",
    "                'Slo' : (46.151241, 14.995463),  #centroids\n",
    "                'OCS' : (45.10033180219943, 19.60407414122261),  #guess\n",
    "                'Latv' : (56.879635, 24.603189), #centroids \n",
    "                'Lith' : (55.169438, 23.881275),  #centroids\n",
    "                'Far' : (61.892635, -6.911806),  #guess\n",
    "                'Ice' : (64.963051, -19.020835),  #centroids\n",
    "                'Da' : (56.26392, 9.501785),  #centroids\n",
    "                'Swe' : (60.128161, 18.643501),  #centroids\n",
    "                'OE' : (52.534190925147044, -1.7016461026751095), #guess \n",
    "                'E' : (55.378051, -3.435973), #centroids UK\n",
    "                'Dut' : (52.132633, 5.291266),  #centroids\n",
    "                'Ger' : (51.165691, 10.451526), #centroids \n",
    "                'Got' : (59.093327305576864, 13.407987845417448),  #guess\n",
    "                'Cat' : (41.83447704570543, 1.3302407937329161),  #guess\n",
    "                'Ptg-E' : (39.399872, -8.224454),  #centroids \n",
    "                'Sp' : (40.463667, -3.74922),  #centroids \n",
    "                'Fr' : (46.227638, 2.213749),  #centroids \n",
    "                'It' : (41.87194, 12.56738),  #centroids \n",
    "                'Rm' : (45.943161, 24.96676),  #centroids \n",
    "                'Lat' : (43.662663560586246, 12.199492074947322),  #guess\n",
    "                'Bre' : (48.22536564201722, -3.0715039174592387),  #guess\n",
    "                'Wel' : (52.300211164334954, -3.7217132752200457),  #guess\n",
    "                'Ir' : (53.41291, -8.24389), #centroids \n",
    "                'ScGae' : (56.883730914127106, -4.4916216179026405)} #guess"
   ]
  },
  {
   "cell_type": "code",
   "execution_count": null,
   "id": "a95891e7",
   "metadata": {},
   "outputs": [],
   "source": []
  }
 ],
 "metadata": {
  "kernelspec": {
   "display_name": "Python 3 (ipykernel)",
   "language": "python",
   "name": "python3"
  },
  "language_info": {
   "codemirror_mode": {
    "name": "ipython",
    "version": 3
   },
   "file_extension": ".py",
   "mimetype": "text/x-python",
   "name": "python",
   "nbconvert_exporter": "python",
   "pygments_lexer": "ipython3",
   "version": "3.10.8"
  }
 },
 "nbformat": 4,
 "nbformat_minor": 5
}
