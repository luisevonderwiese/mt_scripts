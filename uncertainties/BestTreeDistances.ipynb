{
 "cells": [
  {
   "cell_type": "code",
   "execution_count": 3,
   "id": "e459da3e",
   "metadata": {},
   "outputs": [],
   "source": [
    "import os\n",
    "from ete3 import Tree\n",
    "import matplotlib.pyplot as plt\n",
    "import numpy as np\n",
    "\n",
    "#max_rf = 34\n",
    "\n",
    "name_dict = {\"full\" : \"T_f\", \"glottolog\" :  \"T_g\", \"catg\" : \"T_c\"}\n",
    "\n",
    "def rf_distance(t1, t2):\n",
    "    rf, max_rf, common_leaves, parts_t1, parts_t2,discard_t1, discart_t2 = t1.robinson_foulds(t2, unrooted_trees = True)\n",
    "    return rf\n",
    "\n",
    "def quartet_distance(tree_name1, tree_name2, generalized):\n",
    "    os.system(\"./qdist \" + tree_name1 + \" \" + tree_name2 + \" >out.txt\")\n",
    "    if generalized: \n",
    "        res_q = float(open(\"out.txt\").readlines()[1].split(\"\\t\")[-3])\n",
    "        qdist =  1- res_q\n",
    "    else:\n",
    "        qdist = float(open(\"out.txt\").readlines()[1].split(\"\\t\")[-1])\n",
    "    os.remove(\"out.txt\")\n",
    "    return qdist\n",
    "\n",
    "\n",
    "def calculate_dm():\n",
    "    distance_matrix = [[0.0 for _ in range(1000)] for __ in range(1000)]\n",
    "    trees = [None for _ in range(1000)]\n",
    "    d = \"output/\"\n",
    "    with os.scandir(d) as it:\n",
    "        for entry in it:\n",
    "            if not entry.is_file() or not entry.name.endswith(\"bestTree\"):\n",
    "                continue\n",
    "            digits = entry.name.split('.')[0]\n",
    "            try:\n",
    "                idx = int(digits) -1\n",
    "            except:\n",
    "                continue\n",
    "            trees[idx] = Tree(os.path.join(d, entry.name))\n",
    "    \n",
    "    for i in range(1000):\n",
    "        for j in range(i, 1000):\n",
    "            rfd = rf_distance(trees[i], trees[j])\n",
    "            distance_matrix[i][j] = rfd\n",
    "            distance_matrix[j][i] = rfd\n",
    "            \n",
    "    with open(\"temp/distance.matrix\", \"w+\") as dm_file:\n",
    "        for row in distance_matrix:\n",
    "            dm_file.write(\",\".join([str(el) for el in row]) + \"\\n\")\n",
    "            \n",
    "    return distance_matrix\n",
    "\n",
    "\n",
    "def calculate_quartet_dm(generalized = False):\n",
    "    distance_matrix = [[0.0 for _ in range(1000)] for __ in range(1000)]\n",
    "    tree_names = [\"\" for _ in range(1000)]\n",
    "    d = \"output/\"\n",
    "    with os.scandir(d) as it:\n",
    "        for entry in it:\n",
    "            if not entry.is_file() or not entry.name.endswith(\"bestTree\"):\n",
    "                continue\n",
    "            digits = entry.name.split('.')[0]\n",
    "            try:\n",
    "                idx = int(digits) -1\n",
    "            except:\n",
    "                continue\n",
    "            tree_names[idx] = os.path.join(d, entry.name)\n",
    "    \n",
    "    for i in range(1000):\n",
    "        print(i)\n",
    "        for j in range(i, 1000):\n",
    "            qd = quartet_distance(tree_names[i], tree_names[j], generalized)\n",
    "            distance_matrix[i][j] = qd\n",
    "            distance_matrix[j][i] = qd\n",
    "    if generalized:\n",
    "        file_name = \"temp/quartet_generalized_distance.matrix\"\n",
    "    else:\n",
    "        file_name = \"temp/quartet_distance.matrix\"\n",
    "    with open(file_name, \"w+\") as dm_file:\n",
    "        for row in distance_matrix:\n",
    "            dm_file.write(\",\".join([str(el) for el in row]) + \"\\n\")\n",
    "            \n",
    "    return distance_matrix\n",
    "\n",
    "def calculate_dist_to_fixed(name):\n",
    "    d_file = open(\"temp/\" + name + \"_dist.matrix\", \"w+\")\n",
    "    trees = [None for _ in range(1000)]\n",
    "    d = \"output/\"\n",
    "    with os.scandir(d) as it:\n",
    "        for entry in it:\n",
    "            if not entry.is_file() or not entry.name.endswith(\"bestTree\"):\n",
    "                continue\n",
    "            digits = entry.name.split('.')[0]\n",
    "            try:\n",
    "                idx = int(digits) -1\n",
    "            except:\n",
    "                continue\n",
    "            trees[idx] = Tree(os.path.join(d, entry.name))\n",
    "    full_tree = Tree(os.path.join(\"ref_trees\", name + \".tree\"))\n",
    "    for t in trees:\n",
    "        d_file.write(str(rf_distance(t, full_tree)) + \"\\n\")\n",
    "            \n",
    "            \n",
    "def calculate_quartet_dist_to_fixed(name, generalized):\n",
    "    if generalized:\n",
    "        file_name = \"temp/\" + name + \"_quartet_generalized_dist.matrix\"\n",
    "    else:\n",
    "        file_name = \"temp/\" + name + \"_quartet_dist.matrix\"\n",
    "    d_file = open(file_name, \"w+\")\n",
    "    tree_names = [\"\" for _ in range(1000)]\n",
    "    d = \"output/\"\n",
    "    with os.scandir(d) as it:\n",
    "        for entry in it:\n",
    "            if not entry.is_file() or not entry.name.endswith(\"bestTree\"):\n",
    "                continue\n",
    "            digits = entry.name.split('.')[0]\n",
    "            try:\n",
    "                idx = int(digits) -1\n",
    "            except:\n",
    "                continue\n",
    "            tree_names[idx] = os.path.join(d, entry.name)\n",
    "    full_tree_name = os.path.join(\"ref_trees\", name + \".tree\")\n",
    "    for tree_name in tree_names:\n",
    "        qdist = quartet_distance(tree_name, full_tree_name, generalized)\n",
    "        d_file.write(str(qdist) + \"\\n\")\n",
    "\n",
    "#calculate_dist_to_fixed(\"full\")\n",
    "#calculate_dist_to_fixed(\"glottolog\")\n",
    "#calculate_quartet_dist_to_fixed(\"full\")\n",
    "#calculate_quartet_dist_to_fixed(\"glottolog\")\n",
    "#calculate_quartet_dm()\n",
    "\n",
    "#calculate_dist_to_fixed(\"catg\")\n",
    "#calculate_quartet_dist_to_fixed(\"catg\")\n",
    "             \n",
    "#calculate_quartet_dm(True)\n",
    "#calculate_quartet_dist_to_fixed(\"catg\", True)\n",
    "#calculate_quartet_dist_to_fixed(\"glottolog\", True)\n",
    "#calculate_quartet_dist_to_fixed(\"full\", True)\n",
    "\n",
    "\n"
   ]
  },
  {
   "cell_type": "code",
   "execution_count": 4,
   "id": "f907bc80",
   "metadata": {},
   "outputs": [],
   "source": [
    "def read_dm(metric):\n",
    "    if metric == \"RF\":\n",
    "        f_name = \"temp/distance.matrix\"\n",
    "    elif metric == \"Quartet\":\n",
    "        f_name = \"temp/quartet_distance.matrix\"\n",
    "    elif metric == \"Generalized Quartet\":\n",
    "        f_name = \"temp/quartet_generalized_distance.matrix\"\n",
    "    else:\n",
    "        print(metric + \" - this metric is not supported\")\n",
    "    dm = []\n",
    "    for row in open(f_name, \"r\").read().split(\"\\n\")[:-1]:\n",
    "        if metric == \"RF\":\n",
    "            dm.append([int(val) for val in row.split(',')])\n",
    "        else:\n",
    "            dm.append([float(val) for val in row.split(',')])\n",
    "    return dm\n",
    "\n",
    "def to_relative(dm):\n",
    "    max_rf = 34\n",
    "    rel_dm = []\n",
    "    for row in dm:\n",
    "        rel_dm.append([val/34 for val in row])\n",
    "    return rel_dm\n",
    "\n"
   ]
  },
  {
   "cell_type": "code",
   "execution_count": 5,
   "id": "acaf2c13",
   "metadata": {},
   "outputs": [
    {
     "name": "stdout",
     "output_type": "stream",
     "text": [
      "Avg: 0.1351176470588259\n",
      "Max: 0.29411764705882354\n",
      "Avg: 0.31905882352940595\n",
      "Max: 0.4411764705882353\n",
      "Avg: 0.03191186399999971\n",
      "Max: 0.06481499999999996\n",
      "Avg: 0.12635294117647228\n",
      "Max: 0.29411764705882354\n"
     ]
    },
    {
     "data": {
      "image/png": "[encoded data removed]",
      "text/plain": [
       "<Figure size 640x480 with 1 Axes>"
      ]
     },
     "metadata": {},
     "output_type": "display_data"
    }
   ],
   "source": [
    "def fixed_analysis(name, metric):\n",
    "    if metric == \"RF\":\n",
    "        f_name = \"temp/\" + name + \"_dist.matrix\"\n",
    "    elif metric == \"Quartet\":\n",
    "        f_name = \"temp/\" + name + \"_quartet_dist.matrix\"\n",
    "    elif metric == \"Generalized Quartet\":\n",
    "        f_name = \"temp/\" + name + \"_quartet_generalized_dist.matrix\"\n",
    "    else:\n",
    "        print(metric + \" - this metric is not supported\")\n",
    "    d = [float(val) for val in open(f_name, \"r\").read().split(\"\\n\")[:-1]]\n",
    "    if metric == \"RF\":\n",
    "        d = [val/34 for val in d]\n",
    "    plt.xlabel(metric+\" Distance to \" + name_dict[name])\n",
    "    plt.ylabel(\"Number of trees\")\n",
    "    print(\"Avg: \" + str(sum(d)/len(d)))\n",
    "    print(\"Max: \" + str(max(d)))\n",
    "    plt.hist(d)\n",
    "    #plt.show()\n",
    "\n",
    "fixed_analysis(\"full\", \"RF\")\n",
    "#fixed_analysis(\"full\", \"Quartet\")\n",
    "#fixed_analysis(\"full\", \"Generalized Quartet\")\n",
    "fixed_analysis(\"glottolog\", \"RF\")\n",
    "#fixed_analysis(\"glottolog\", \"Quartet\")\n",
    "fixed_analysis(\"glottolog\", \"Generalized Quartet\")\n",
    "\n",
    "fixed_analysis(\"catg\", \"RF\")\n",
    "#fixed_analysis(\"catg\", \"Quartet\")\n",
    "#fixed_analysis(\"catg\", \"Generalized Quartet\")"
   ]
  },
  {
   "cell_type": "code",
   "execution_count": 9,
   "id": "42aae72a",
   "metadata": {},
   "outputs": [
    {
     "data": {
      "application/vnd.plotly.v1+json": {
       "config": {
        "plotlyServerURL": "https://plot.ly"
       },
       "data": [
        {
         "marker": {
          "color": "#23A1E0"
         },
         "type": "histogram",
         "x": [
          0.0475769887534597,
          0.1368427250780209,
          0.0766060177824898,
          0.16587175410705035,
          0.09220985691574084,
          0.1212388859447701,
          0.0475769887534597,
          0.0766060177824898,
          0.0475769887534597,
          0.11087558146381854,
          0.0475769887534597,
          0.0475769887534597,
          0.0766060177824898,
          0.0475769887534597,
          0.0766060177824898,
          0.0475769887534597,
          0.0475769887534597,
          0.0475769887534597,
          0.0475769887534597,
          0.0475769887534597,
          0.0818465524347891,
          0.0475769887534597,
          0.0475769887534597,
          0.0766060177824898,
          0.0475769887534597,
          0.0475769887534597,
          0.0475769887534597,
          0.1212388859447701,
          0.16587175410705035,
          0.09220985691574096,
          0.09220985691574082,
          0.0475769887534597,
          0.0818465524347891,
          0.0766060177824898,
          0.0475769887534597,
          0.09220985691574084,
          0.0475769887534597,
          0.0818465524347891,
          0.1447329682623819,
          0.0475769887534597,
          0.0475769887534597,
          0.0818465524347891,
          0.0475769887534597,
          0.0818465524347891,
          0.0818465524347891,
          0.09220985691574082,
          0.16086674910204513,
          0.100100100100102,
          0.09220985691574082,
          0.0475769887534597,
          0.09220985691574096,
          0.0818465524347891,
          0.0766060177824898,
          0.1368427250780209,
          0.0475769887534597,
          0.100100100100102,
          0.09220985691574084,
          0.0475769887534597,
          0.0766060177824898,
          0.09220985691574084,
          0.0475769887534597,
          0.0818465524347891,
          0.09220985691574084,
          0.09220985691574082,
          0.09220985691574082,
          0.0475769887534597,
          0.0475769887534597,
          0.0475769887534597,
          0.0475769887534597,
          0.09220985691574084,
          0.0818465524347891,
          0.0475769887534597,
          0.0818465524347891,
          0.12659718542071643,
          0.0818465524347891,
          0.0766060177824898,
          0.0818465524347891,
          0.12659718542071643,
          0.0818465524347891,
          0.11087558146381854,
          0.0766060177824898,
          0.0818465524347891,
          0.16086674910204513,
          0.09220985691574082,
          0.0475769887534597,
          0.0818465524347891,
          0.0475769887534597,
          0.0475769887534597,
          0.0766060177824898,
          0.15550844962609844,
          0.0818465524347891,
          0.0475769887534597,
          0.0475769887534597,
          0.0475769887534597,
          0.09220985691574082,
          0.0475769887534597,
          0.12647942059706935,
          0.100100100100102,
          0.0766060177824898,
          0.09220985691574082,
          0.0818465524347891,
          0.09220985691574084,
          0.0475769887534597,
          0.09220985691574082,
          0.12123888594477003,
          0.12659718542071643,
          0.0475769887534597,
          0.0766060177824898,
          0.0818465524347891,
          0.0818465524347891,
          0.0818465524347891,
          0.0475769887534597,
          0.0818465524347891,
          0.0818465524347891,
          0.12488959547783272,
          0.09220985691574096,
          0.09220985691574084,
          0.0818465524347891,
          0.0818465524347891,
          0.0475769887534597,
          0.09220985691574084,
          0.0475769887534597,
          0.1368427250780209,
          0.1212388859447701,
          0.1712300535829971,
          0.0766060177824898,
          0.0818465524347891,
          0.0475769887534597,
          0.1712300535829971,
          0.0818465524347891,
          0.0475769887534597,
          0.21586292174527794,
          0.0475769887534597,
          0.0475769887534597,
          0.0906200317965043,
          0.12123888594477003,
          0.09220985691574082,
          0.0818465524347891,
          0.0818465524347891,
          0.0766060177824898,
          0.11087558146381854,
          0.0475769887534597,
          0.0818465524347891,
          0.09220985691574082,
          0.0475769887534597,
          0.09220985691574082,
          0.0475769887534597,
          0.12123888594477003,
          0.0475769887534597,
          0.09220985691574084,
          0.0766060177824898,
          0.12123888594477003,
          0.09220985691574082,
          0.0475769887534597,
          0.0475769887534597,
          0.12123888594477003,
          0.0766060177824898,
          0.09220985691574084,
          0.0475769887534597,
          0.0475769887534597,
          0.09220985691574084,
          0.0475769887534597,
          0.0475769887534597,
          0.0818465524347891,
          0.0818465524347891,
          0.1343696637814303,
          0.0818465524347891,
          0.09220985691574082,
          0.0475769887534597,
          0.100100100100102,
          0.09220985691574082,
          0.09220985691574082,
          0.0475769887534597,
          0.0818465524347891,
          0.0475769887534597,
          0.09220985691574096,
          0.0475769887534597,
          0.09220985691574082,
          0.0475769887534597,
          0.0475769887534597,
          0.0475769887534597,
          0.0818465524347891,
          0.0818465524347891,
          0.1368427250780209,
          0.0766060177824898,
          0.0766060177824898,
          0.12659718542071643,
          0.09220985691574082,
          0.0475769887534597,
          0.09220985691574082,
          0.09220985691574082,
          0.0818465524347891,
          0.0475769887534597,
          0.11087558146381854,
          0.09220985691574082,
          0.0475769887534597,
          0.0475769887534597,
          0.21586292174527855,
          0.0766060177824898,
          0.0475769887534597,
          0.0475769887534597,
          0.0818465524347891,
          0.0475769887534597,
          0.0475769887534597,
          0.1712300535829971,
          0.0818465524347891,
          0.0475769887534597,
          0.0475769887534597,
          0.0475769887534597,
          0.0475769887534597,
          0.0475769887534597,
          0.0475769887534597,
          0.09220985691574084,
          0.0475769887534597,
          0.09220985691574084,
          0.0475769887534597,
          0.0818465524347891,
          0.09220985691574084,
          0.0475769887534597,
          0.0475769887534597,
          0.0766060177824898,
          0.0766060177824898,
          0.09220985691574082,
          0.11087558146381854,
          0.11087558146381854,
          0.12647942059706935,
          0.18936583642466262,
          0.0475769887534597,
          0.0766060177824898,
          0.15550844962609844,
          0.09220985691574084,
          0.0475769887534597,
          0.13525289995878417,
          0.0818465524347891,
          0.0475769887534597,
          0.11087558146381854,
          0.0475769887534597,
          0.12659718542071643,
          0.0766060177824898,
          0.17123005358299695,
          0.11087558146381854,
          0.0766060177824898,
          0.0766060177824898,
          0.0766060177824898,
          0.0475769887534597,
          0.0818465524347891,
          0.0475769887534597,
          0.12647942059706935,
          0.0475769887534597,
          0.12659718542071643,
          0.0475769887534597,
          0.0475769887534597,
          0.11087558146381854,
          0.09220985691574082,
          0.12659718542071643,
          0.12659718542071643,
          0.0475769887534597,
          0.0475769887534597,
          0.1368427250780209,
          0.0475769887534597,
          0.11087558146381854,
          0.0475769887534597,
          0.0475769887534597,
          0.0475769887534597,
          0.09220985691574082,
          0.100100100100102,
          0.12123888594477003,
          0.12659718542071643,
          0.0766060177824898,
          0.0766060177824898,
          0.0475769887534597,
          0.0475769887534597,
          0.09220985691574082,
          0.0766060177824898,
          0.09220985691574082,
          0.1343696637814303,
          0.0475769887534597,
          0.09220985691574082,
          0.12647942059706935,
          0.0475769887534597,
          0.0818465524347891,
          0.0818465524347891,
          0.0475769887534597,
          0.0475769887534597,
          0.0475769887534597,
          0.0475769887534597,
          0.09220985691574084,
          0.0818465524347891,
          0.0475769887534597,
          0.0475769887534597,
          0.0475769887534597,
          0.0818465524347891,
          0.1368427250780209,
          0.0475769887534597,
          0.0475769887534597,
          0.0766060177824898,
          0.0475769887534597,
          0.0475769887534597,
          0.0475769887534597,
          0.16587175410705035,
          0.12647942059706935,
          0.0766060177824898,
          0.12123888594477003,
          0.100100100100102,
          0.09220985691574084,
          0.12123888594477003,
          0.12647942059706935,
          0.0475769887534597,
          0.0766060177824898,
          0.09220985691574084,
          0.12659718542071643,
          0.0475769887534597,
          0.0475769887534597,
          0.0475769887534597,
          0.09220985691574082,
          0.09220985691574084,
          0.0818465524347891,
          0.0475769887534597,
          0.12123888594477003,
          0.1368427250780209,
          0.12647942059706935,
          0.0475769887534597,
          0.0475769887534597,
          0.0475769887534597,
          0.0475769887534597,
          0.09220985691574084,
          0.09220985691574084,
          0.0475769887534597,
          0.0475769887534597,
          0.0475769887534597,
          0.0475769887534597,
          0.09220985691574084,
          0.0475769887534597,
          0.15550844962609844,
          0.09220985691574082,
          0.09220985691574096,
          0.100100100100102,
          0.0475769887534597,
          0.0475769887534597,
          0.0475769887534597,
          0.1212388859447701,
          0.12659718542071643,
          0.0475769887534597,
          0.0475769887534597,
          0.0818465524347891,
          0.0475769887534597,
          0.0475769887534597,
          0.09220985691574082,
          0.09220985691574082,
          0.12659718542071643,
          0.0818465524347891,
          0.0475769887534597,
          0.0475769887534597,
          0.0818465524347891,
          0.0475769887534597,
          0.12659718542071643,
          0.0818465524347891,
          0.0475769887534597,
          0.0475769887534597,
          0.12659718542071643,
          0.0475769887534597,
          0.1368427250780209,
          0.0766060177824898,
          0.09220985691574082,
          0.0818465524347891,
          0.0475769887534597,
          0.0766060177824898,
          0.09220985691574082,
          0.12659718542071643,
          0.0766060177824898,
          0.0766060177824898,
          0.12647942059706935,
          0.0766060177824898,
          0.0475769887534597,
          0.0818465524347891,
          0.0475769887534597,
          0.0766060177824898,
          0.0475769887534597,
          0.0766060177824898,
          0.0475769887534597,
          0.0475769887534597,
          0.0818465524347891,
          0.12123888594477003,
          0.0766060177824898,
          0.0475769887534597,
          0.0818465524347891,
          0.0475769887534597,
          0.0818465524347891,
          0.100100100100102,
          0.0475769887534597,
          0.0766060177824898,
          0.0475769887534597,
          0.0475769887534597,
          0.17123005358299695,
          0.0818465524347891,
          0.0475769887534597,
          0.09220985691574082,
          0.09220985691574082,
          0.1343696637814303,
          0.0475769887534597,
          0.0475769887534597,
          0.0475769887534597,
          0.0475769887534597,
          0.0475769887534597,
          0.0475769887534597,
          0.0475769887534597,
          0.0475769887534597,
          0.0475769887534597,
          0.11087558146381854,
          0.0906200317965043,
          0.0818465524347891,
          0.0475769887534597,
          0.0475769887534597,
          0.0818465524347891,
          0.0475769887534597,
          0.0475769887534597,
          0.14473296826238216,
          0.09220985691574084,
          0.0475769887534597,
          0.0766060177824898,
          0.0475769887534597,
          0.0766060177824898,
          0.1212388859447701,
          0.0475769887534597,
          0.0475769887534597,
          0.0766060177824898,
          0.09220985691574082,
          0.0475769887534597,
          0.0475769887534597,
          0.0766060177824898,
          0.0766060177824898,
          0.1343696637814303,
          0.0906200317965043,
          0.0475769887534597,
          0.12123888594477003,
          0.1368427250780209,
          0.0818465524347891,
          0.0766060177824898,
          0.0475769887534597,
          0.0818465524347891,
          0.12647942059706935,
          0.0475769887534597,
          0.0475769887534597,
          0.11087558146381854,
          0.0475769887534597,
          0.0766060177824898,
          0.0766060177824898,
          0.0766060177824898,
          0.0475769887534597,
          0.0475769887534597,
          0.0766060177824898,
          0.0475769887534597,
          0.12659718542071643,
          0.0818465524347891,
          0.0475769887534597,
          0.0818465524347891,
          0.0818465524347891,
          0.09220985691574084,
          0.09220985691574084,
          0.0475769887534597,
          0.09220985691574082,
          0.0475769887534597,
          0.0475769887534597,
          0.12123888594477003,
          0.16587175410705035,
          0.0475769887534597,
          0.09220985691574082,
          0.0766060177824898,
          0.0475769887534597,
          0.0475769887534597,
          0.0475769887534597,
          0.0818465524347891,
          0.0766060177824898,
          0.12123888594477003,
          0.09220985691574096,
          0.15550844962609844,
          0.09220985691574082,
          0.0475769887534597,
          0.0475769887534597,
          0.12647942059706935,
          0.100100100100102,
          0.0818465524347891,
          0.1212388859447701,
          0.0766060177824898,
          0.11087558146381854,
          0.16086674910204513,
          0.0475769887534597,
          0.0818465524347891,
          0.09220985691574082,
          0.12647942059706935,
          0.09220985691574082,
          0.0475769887534597,
          0.0475769887534597,
          0.0475769887534597,
          0.0475769887534597,
          0.11087558146381854,
          0.0475769887534597,
          0.0766060177824898,
          0.12647942059706935,
          0.0818465524347891,
          0.0475769887534597,
          0.1368427250780212,
          0.0475769887534597,
          0.0475769887534597,
          0.0475769887534597,
          0.0475769887534597,
          0.15550844962609844,
          0.0475769887534597,
          0.12123888594477003,
          0.0818465524347891,
          0.0475769887534597,
          0.0475769887534597,
          0.0475769887534597,
          0.0766060177824898,
          0.0818465524347891,
          0.17123005358299687,
          0.16086674910204513,
          0.0475769887534597,
          0.0475769887534597,
          0.0475769887534597,
          0.1212388859447701,
          0.0475769887534597,
          0.0475769887534597,
          0.0475769887534597,
          0.0818465524347891,
          0.0475769887534597,
          0.0475769887534597,
          0.0475769887534597,
          0.0475769887534597,
          0.0475769887534597,
          0.1212388859447701,
          0.0475769887534597,
          0.0475769887534597,
          0.0818465524347891,
          0.0475769887534597,
          0.0766060177824898,
          0.12647942059706935,
          0.0766060177824898,
          0.1212388859447701,
          0.0475769887534597,
          0.0818465524347891,
          0.0818465524347891,
          0.0766060177824898,
          0.0475769887534597,
          0.0818465524347891,
          0.0818465524347891,
          0.0766060177824898,
          0.09220985691574082,
          0.0475769887534597,
          0.0766060177824898,
          0.0475769887534597,
          0.09220985691574096,
          0.0475769887534597,
          0.1212388859447701,
          0.0818465524347891,
          0.0766060177824898,
          0.0475769887534597,
          0.0766060177824898,
          0.0818465524347891,
          0.0475769887534597,
          0.0475769887534597,
          0.0475769887534597,
          0.0818465524347891,
          0.0766060177824898,
          0.0818465524347891,
          0.0475769887534597,
          0.0766060177824898,
          0.0475769887534597,
          0.0818465524347891,
          0.0475769887534597,
          0.0475769887534597,
          0.0766060177824898,
          0.0475769887534597,
          0.0766060177824898,
          0.12659718542071643,
          0.0475769887534597,
          0.09220985691574082,
          0.0475769887534597,
          0.1368427250780209,
          0.0475769887534597,
          0.0766060177824898,
          0.09220985691574082,
          0.0475769887534597,
          0.0766060177824898,
          0.0475769887534597,
          0.0766060177824898,
          0.0818465524347891,
          0.0818465524347891,
          0.0475769887534597,
          0.0766060177824898,
          0.0818465524347891,
          0.12659718542071643,
          0.0475769887534597,
          0.0475769887534597,
          0.0475769887534597,
          0.0475769887534597,
          0.0475769887534597,
          0.09220985691574084,
          0.0475769887534597,
          0.11087558146381854,
          0.09220985691574084,
          0.0766060177824898,
          0.09220985691574096,
          0.0475769887534597,
          0.0475769887534597,
          0.09220985691574084,
          0.0475769887534597,
          0.09220985691574096,
          0.12659718542071643,
          0.0475769887534597,
          0.09220985691574084,
          0.09220985691574082,
          0.11087558146381854,
          0.09220985691574082,
          0.09220985691574082,
          0.0475769887534597,
          0.0818465524347891,
          0.0475769887534597,
          0.12659718542071643,
          0.12123888594477003,
          0.0475769887534597,
          0.0475769887534597,
          0.12647942059706935,
          0.0475769887534597,
          0.0475769887534597,
          0.09220985691574084,
          0.0475769887534597,
          0.11087558146381854,
          0.12659718542071643,
          0.0818465524347891,
          0.1712300535829971,
          0.0475769887534597,
          0.0475769887534597,
          0.0818465524347891,
          0.0475769887534597,
          0.0475769887534597,
          0.0475769887534597,
          0.0766060177824898,
          0.0475769887534597,
          0.0475769887534597,
          0.0766060177824898,
          0.09220985691574082,
          0.0475769887534597,
          0.0818465524347891,
          0.12659718542071643,
          0.0475769887534597,
          0.0818465524347891,
          0.0475769887534597,
          0.0475769887534597,
          0.0475769887534597,
          0.12647942059706935,
          0.0475769887534597,
          0.0766060177824898,
          0.11087558146381854,
          0.0475769887534597,
          0.0475769887534597,
          0.0475769887534597,
          0.0818465524347891,
          0.0766060177824898,
          0.0475769887534597,
          0.0475769887534597,
          0.11087558146381854,
          0.17123005358299695,
          0.0818465524347891,
          0.0766060177824898,
          0.0818465524347891,
          0.13525289995878417,
          0.0475769887534597,
          0.0906200317965043,
          0.0475769887534597,
          0.0475769887534597,
          0.1368427250780209,
          0.11087558146381854,
          0.0475769887534597,
          0.09220985691574084,
          0.0475769887534597,
          0.16086674910204513,
          0.0906200317965043,
          0.0475769887534597,
          0.09220985691574082,
          0.0475769887534597,
          0.11087558146381854,
          0.0475769887534597,
          0.0475769887534597,
          0.09220985691574084,
          0.0475769887534597,
          0.12659718542071643,
          0.0475769887534597,
          0.0818465524347891,
          0.0475769887534597,
          0.11087558146381854,
          0.0475769887534597,
          0.0475769887534597,
          0.17123005358299695,
          0.0818465524347891,
          0.1368427250780209,
          0.0475769887534597,
          0.0475769887534597,
          0.0475769887534597,
          0.0475769887534597,
          0.0475769887534597,
          0.11087558146381854,
          0.12659718542071643,
          0.09220985691574084,
          0.0475769887534597,
          0.0475769887534597,
          0.0766060177824898,
          0.0475769887534597,
          0.0475769887534597,
          0.0475769887534597,
          0.0475769887534597,
          0.0475769887534597,
          0.0818465524347891,
          0.0818465524347891,
          0.1447329682623819,
          0.0475769887534597,
          0.0475769887534597,
          0.12123888594477003,
          0.0766060177824898,
          0.0475769887534597,
          0.0818465524347891,
          0.0475769887534597,
          0.0475769887534597,
          0.1712300535829971,
          0.12647942059706935,
          0.0475769887534597,
          0.0818465524347891,
          0.0766060177824898,
          0.09220985691574084,
          0.1212388859447701,
          0.0766060177824898,
          0.0475769887534597,
          0.09220985691574082,
          0.0766060177824898,
          0.0475769887534597,
          0.0475769887534597,
          0.0475769887534597,
          0.09220985691574096,
          0.18936583642466262,
          0.09220985691574082,
          0.0475769887534597,
          0.12659718542071643,
          0.0475769887534597,
          0.0475769887534597,
          0.12659718542071643,
          0.1368427250780209,
          0.0818465524347891,
          0.0475769887534597,
          0.0818465524347891,
          0.0475769887534597,
          0.0475769887534597,
          0.15550844962609844,
          0.09220985691574082,
          0.09220985691574084,
          0.11087558146381854,
          0.0766060177824898,
          0.11087558146381854,
          0.09220985691574084,
          0.09220985691574084,
          0.0818465524347891,
          0.0766060177824898,
          0.12659718542071643,
          0.0475769887534597,
          0.0818465524347891,
          0.1212388859447701,
          0.21586292174527855,
          0.0818465524347891,
          0.09220985691574084,
          0.0475769887534597,
          0.12659718542071643,
          0.0475769887534597,
          0.0766060177824898,
          0.0766060177824898,
          0.0475769887534597,
          0.0475769887534597,
          0.0475769887534597,
          0.0818465524347891,
          0.0475769887534597,
          0.1212388859447701,
          0.09220985691574084,
          0.0475769887534597,
          0.0475769887534597,
          0.0766060177824898,
          0.0475769887534597,
          0.0475769887534597,
          0.0475769887534597,
          0.16086674910204513,
          0.0475769887534597,
          0.100100100100102,
          0.0475769887534597,
          0.0766060177824898,
          0.21586292174527794,
          0.09220985691574084,
          0.09220985691574082,
          0.09220985691574082,
          0.0818465524347891,
          0.0818465524347891,
          0.0475769887534597,
          0.12659718542071643,
          0.11087558146381854,
          0.12659718542071643,
          0.0475769887534597,
          0.0475769887534597,
          0.09220985691574084,
          0.0475769887534597,
          0.09220985691574082,
          0.0906200317965043,
          0.18453747865512826,
          0.0475769887534597,
          0.0475769887534597,
          0.0475769887534597,
          0.0475769887534597,
          0.0475769887534597,
          0.0475769887534597,
          0.0766060177824898,
          0.12659718542071643,
          0.1712300535829971,
          0.11087558146381854,
          0.1712300535829971,
          0.0818465524347891,
          0.0475769887534597,
          0.0475769887534597,
          0.09220985691574084,
          0.0766060177824898,
          0.12659718542071643,
          0.100100100100102,
          0.0475769887534597,
          0.0475769887534597,
          0.0475769887534597,
          0.0818465524347891,
          0.0475769887534597,
          0.12123888594477003,
          0.0766060177824898,
          0.0475769887534597,
          0.0475769887534597,
          0.0766060177824898,
          0.0475769887534597,
          0.0475769887534597,
          0.0818465524347891,
          0.0475769887534597,
          0.15097450391568254,
          0.0475769887534597,
          0.0475769887534597,
          0.0766060177824898,
          0.0818465524347891,
          0.12659718542071643,
          0.11087558146381854,
          0.0818465524347891,
          0.0475769887534597,
          0.09220985691574096,
          0.0818465524347891,
          0.12659718542071643,
          0.0818465524347891,
          0.09220985691574082,
          0.1712300535829971,
          0.12123888594477047,
          0.0766060177824898,
          0.0475769887534597,
          0.0818465524347891,
          0.11087558146381854,
          0.0818465524347891,
          0.0766060177824898,
          0.11087558146381854,
          0.0475769887534597,
          0.0766060177824898,
          0.0766060177824898,
          0.09220985691574082,
          0.0475769887534597,
          0.0475769887534597,
          0.0475769887534597,
          0.0475769887534597,
          0.0475769887534597,
          0.0475769887534597,
          0.0475769887534597,
          0.0475769887534597,
          0.0475769887534597,
          0.0475769887534597,
          0.09220985691574082,
          0.0766060177824898,
          0.0475769887534597,
          0.0766060177824898,
          0.0475769887534597,
          0.0475769887534597,
          0.0818465524347891,
          0.0766060177824898,
          0.09220985691574082,
          0.0475769887534597,
          0.12123888594477003,
          0.0475769887534597,
          0.0475769887534597,
          0.0475769887534597,
          0.11087558146381854,
          0.09220985691574096,
          0.09220985691574082,
          0.0475769887534597,
          0.0766060177824898,
          0.0475769887534597,
          0.0818465524347891,
          0.0766060177824898,
          0.12659718542071643,
          0.0475769887534597,
          0.09220985691574084,
          0.0475769887534597,
          0.0475769887534597,
          0.0818465524347891,
          0.09220985691574082,
          0.0475769887534597,
          0.0766060177824898,
          0.09220985691574084,
          0.0818465524347891,
          0.100100100100102,
          0.0766060177824898,
          0.09220985691574082,
          0.0766060177824898,
          0.0475769887534597,
          0.0766060177824898,
          0.1368427250780209,
          0.09220985691574096,
          0.0818465524347891,
          0.0818465524347891,
          0.09220985691574082,
          0.0475769887534597,
          0.0475769887534597,
          0.0475769887534597,
          0.12659718542071643,
          0.0475769887534597,
          0.0475769887534597,
          0.09220985691574082,
          0.0475769887534597,
          0.0475769887534597,
          0.09220985691574082,
          0.0766060177824898,
          0.09220985691574082,
          0.0475769887534597,
          0.0475769887534597,
          0.0475769887534597,
          0.09220985691574082,
          0.16086674910204513,
          0.0475769887534597,
          0.0475769887534597,
          0.0818465524347891,
          0.0475769887534597,
          0.0475769887534597,
          0.09220985691574096,
          0.0475769887534597,
          0.09220985691574084,
          0.0818465524347891,
          0.11087558146381854,
          0.0818465524347891,
          0.0475769887534597,
          0.0818465524347891,
          0.09220985691574084,
          0.0818465524347891,
          0.0475769887534597,
          0.0475769887534597,
          0.0475769887534597,
          0.0475769887534597,
          0.0475769887534597,
          0.0475769887534597,
          0.0818465524347891,
          0.0475769887534597,
          0.0818465524347891,
          0.0475769887534597,
          0.0766060177824898,
          0.09220985691574084,
          0.0475769887534597,
          0.0475769887534597,
          0.09220985691574082,
          0.09220985691574082,
          0.12659718542071643,
          0.0475769887534597,
          0.0475769887534597,
          0.0475769887534597,
          0.09220985691574082,
          0.0475769887534597,
          0.0818465524347891,
          0.0475769887534597,
          0.12659718542071643,
          0.12659718542071643,
          0.1712300535829971,
          0.0906200317965043,
          0.0475769887534597,
          0.0818465524347891,
          0.09220985691574082,
          0.0475769887534597,
          0.0475769887534597,
          0.0818465524347891,
          0.0475769887534597,
          0.0475769887534597,
          0.09220985691574082,
          0.0818465524347891,
          0.0475769887534597,
          0.0818465524347891,
          0.0475769887534597,
          0.09220985691574084,
          0.09220985691574096,
          0.09220985691574082,
          0.09220985691574096,
          0.09220985691574084,
          0.0766060177824898
         ],
         "xaxis": "x",
         "yaxis": "y"
        }
       ],
       "layout": {
        "annotations": [
         {
          "font": {
           "size": 16
          },
          "showarrow": false,
          "text": "Average RF Distance to other trees",
          "x": 0.5,
          "xanchor": "center",
          "xref": "paper",
          "y": 0,
          "yanchor": "top",
          "yref": "paper",
          "yshift": -30
         },
         {
          "font": {
           "size": 16
          },
          "showarrow": false,
          "text": "Number of trees",
          "textangle": -90,
          "x": 0,
          "xanchor": "right",
          "xref": "paper",
          "xshift": -40,
          "y": 0.5,
          "yanchor": "middle",
          "yref": "paper"
         }
        ],
        "height": 600,
        "template": {
         "data": {
          "bar": [
           {
            "error_x": {
             "color": "#2a3f5f"
            },
            "error_y": {
             "color": "#2a3f5f"
            },
            "marker": {
             "line": {
              "color": "white",
              "width": 0.5
             },
             "pattern": {
              "fillmode": "overlay",
              "size": 10,
              "solidity": 0.2
             }
            },
            "type": "bar"
           }
          ],
          "barpolar": [
           {
            "marker": {
             "line": {
              "color": "white",
              "width": 0.5
             },
             "pattern": {
              "fillmode": "overlay",
              "size": 10,
              "solidity": 0.2
             }
            },
            "type": "barpolar"
           }
          ],
          "carpet": [
           {
            "aaxis": {
             "endlinecolor": "#2a3f5f",
             "gridcolor": "#C8D4E3",
             "linecolor": "#C8D4E3",
             "minorgridcolor": "#C8D4E3",
             "startlinecolor": "#2a3f5f"
            },
            "baxis": {
             "endlinecolor": "#2a3f5f",
             "gridcolor": "#C8D4E3",
             "linecolor": "#C8D4E3",
             "minorgridcolor": "#C8D4E3",
             "startlinecolor": "#2a3f5f"
            },
            "type": "carpet"
           }
          ],
          "choropleth": [
           {
            "colorbar": {
             "outlinewidth": 0,
             "ticks": ""
            },
            "type": "choropleth"
           }
          ],
          "contour": [
           {
            "colorbar": {
             "outlinewidth": 0,
             "ticks": ""
            },
            "colorscale": [
             [
              0,
              "#0d0887"
             ],
             [
              0.1111111111111111,
              "#46039f"
             ],
             [
              0.2222222222222222,
              "#7201a8"
             ],
             [
              0.3333333333333333,
              "#9c179e"
             ],
             [
              0.4444444444444444,
              "#bd3786"
             ],
             [
              0.5555555555555556,
              "#d8576b"
             ],
             [
              0.6666666666666666,
              "#ed7953"
             ],
             [
              0.7777777777777778,
              "#fb9f3a"
             ],
             [
              0.8888888888888888,
              "#fdca26"
             ],
             [
              1,
              "#f0f921"
             ]
            ],
            "type": "contour"
           }
          ],
          "contourcarpet": [
           {
            "colorbar": {
             "outlinewidth": 0,
             "ticks": ""
            },
            "type": "contourcarpet"
           }
          ],
          "heatmap": [
           {
            "colorbar": {
             "outlinewidth": 0,
             "ticks": ""
            },
            "colorscale": [
             [
              0,
              "#0d0887"
             ],
             [
              0.1111111111111111,
              "#46039f"
             ],
             [
              0.2222222222222222,
              "#7201a8"
             ],
             [
              0.3333333333333333,
              "#9c179e"
             ],
             [
              0.4444444444444444,
              "#bd3786"
             ],
             [
              0.5555555555555556,
              "#d8576b"
             ],
             [
              0.6666666666666666,
              "#ed7953"
             ],
             [
              0.7777777777777778,
              "#fb9f3a"
             ],
             [
              0.8888888888888888,
              "#fdca26"
             ],
             [
              1,
              "#f0f921"
             ]
            ],
            "type": "heatmap"
           }
          ],
          "heatmapgl": [
           {
            "colorbar": {
             "outlinewidth": 0,
             "ticks": ""
            },
            "colorscale": [
             [
              0,
              "#0d0887"
             ],
             [
              0.1111111111111111,
              "#46039f"
             ],
             [
              0.2222222222222222,
              "#7201a8"
             ],
             [
              0.3333333333333333,
              "#9c179e"
             ],
             [
              0.4444444444444444,
              "#bd3786"
             ],
             [
              0.5555555555555556,
              "#d8576b"
             ],
             [
              0.6666666666666666,
              "#ed7953"
             ],
             [
              0.7777777777777778,
              "#fb9f3a"
             ],
             [
              0.8888888888888888,
              "#fdca26"
             ],
             [
              1,
              "#f0f921"
             ]
            ],
            "type": "heatmapgl"
           }
          ],
          "histogram": [
           {
            "marker": {
             "pattern": {
              "fillmode": "overlay",
              "size": 10,
              "solidity": 0.2
             }
            },
            "type": "histogram"
           }
          ],
          "histogram2d": [
           {
            "colorbar": {
             "outlinewidth": 0,
             "ticks": ""
            },
            "colorscale": [
             [
              0,
              "#0d0887"
             ],
             [
              0.1111111111111111,
              "#46039f"
             ],
             [
              0.2222222222222222,
              "#7201a8"
             ],
             [
              0.3333333333333333,
              "#9c179e"
             ],
             [
              0.4444444444444444,
              "#bd3786"
             ],
             [
              0.5555555555555556,
              "#d8576b"
             ],
             [
              0.6666666666666666,
              "#ed7953"
             ],
             [
              0.7777777777777778,
              "#fb9f3a"
             ],
             [
              0.8888888888888888,
              "#fdca26"
             ],
             [
              1,
              "#f0f921"
             ]
            ],
            "type": "histogram2d"
           }
          ],
          "histogram2dcontour": [
           {
            "colorbar": {
             "outlinewidth": 0,
             "ticks": ""
            },
            "colorscale": [
             [
              0,
              "#0d0887"
             ],
             [
              0.1111111111111111,
              "#46039f"
             ],
             [
              0.2222222222222222,
              "#7201a8"
             ],
             [
              0.3333333333333333,
              "#9c179e"
             ],
             [
              0.4444444444444444,
              "#bd3786"
             ],
             [
              0.5555555555555556,
              "#d8576b"
             ],
             [
              0.6666666666666666,
              "#ed7953"
             ],
             [
              0.7777777777777778,
              "#fb9f3a"
             ],
             [
              0.8888888888888888,
              "#fdca26"
             ],
             [
              1,
              "#f0f921"
             ]
            ],
            "type": "histogram2dcontour"
           }
          ],
          "mesh3d": [
           {
            "colorbar": {
             "outlinewidth": 0,
             "ticks": ""
            },
            "type": "mesh3d"
           }
          ],
          "parcoords": [
           {
            "line": {
             "colorbar": {
              "outlinewidth": 0,
              "ticks": ""
             }
            },
            "type": "parcoords"
           }
          ],
          "pie": [
           {
            "automargin": true,
            "type": "pie"
           }
          ],
          "scatter": [
           {
            "fillpattern": {
             "fillmode": "overlay",
             "size": 10,
             "solidity": 0.2
            },
            "type": "scatter"
           }
          ],
          "scatter3d": [
           {
            "line": {
             "colorbar": {
              "outlinewidth": 0,
              "ticks": ""
             }
            },
            "marker": {
             "colorbar": {
              "outlinewidth": 0,
              "ticks": ""
             }
            },
            "type": "scatter3d"
           }
          ],
          "scattercarpet": [
           {
            "marker": {
             "colorbar": {
              "outlinewidth": 0,
              "ticks": ""
             }
            },
            "type": "scattercarpet"
           }
          ],
          "scattergeo": [
           {
            "marker": {
             "colorbar": {
              "outlinewidth": 0,
              "ticks": ""
             }
            },
            "type": "scattergeo"
           }
          ],
          "scattergl": [
           {
            "marker": {
             "colorbar": {
              "outlinewidth": 0,
              "ticks": ""
             }
            },
            "type": "scattergl"
           }
          ],
          "scattermapbox": [
           {
            "marker": {
             "colorbar": {
              "outlinewidth": 0,
              "ticks": ""
             }
            },
            "type": "scattermapbox"
           }
          ],
          "scatterpolar": [
           {
            "marker": {
             "colorbar": {
              "outlinewidth": 0,
              "ticks": ""
             }
            },
            "type": "scatterpolar"
           }
          ],
          "scatterpolargl": [
           {
            "marker": {
             "colorbar": {
              "outlinewidth": 0,
              "ticks": ""
             }
            },
            "type": "scatterpolargl"
           }
          ],
          "scatterternary": [
           {
            "marker": {
             "colorbar": {
              "outlinewidth": 0,
              "ticks": ""
             }
            },
            "type": "scatterternary"
           }
          ],
          "surface": [
           {
            "colorbar": {
             "outlinewidth": 0,
             "ticks": ""
            },
            "colorscale": [
             [
              0,
              "#0d0887"
             ],
             [
              0.1111111111111111,
              "#46039f"
             ],
             [
              0.2222222222222222,
              "#7201a8"
             ],
             [
              0.3333333333333333,
              "#9c179e"
             ],
             [
              0.4444444444444444,
              "#bd3786"
             ],
             [
              0.5555555555555556,
              "#d8576b"
             ],
             [
              0.6666666666666666,
              "#ed7953"
             ],
             [
              0.7777777777777778,
              "#fb9f3a"
             ],
             [
              0.8888888888888888,
              "#fdca26"
             ],
             [
              1,
              "#f0f921"
             ]
            ],
            "type": "surface"
           }
          ],
          "table": [
           {
            "cells": {
             "fill": {
              "color": "#EBF0F8"
             },
             "line": {
              "color": "white"
             }
            },
            "header": {
             "fill": {
              "color": "#C8D4E3"
             },
             "line": {
              "color": "white"
             }
            },
            "type": "table"
           }
          ]
         },
         "layout": {
          "annotationdefaults": {
           "arrowcolor": "#2a3f5f",
           "arrowhead": 0,
           "arrowwidth": 1
          },
          "autotypenumbers": "strict",
          "coloraxis": {
           "colorbar": {
            "outlinewidth": 0,
            "ticks": ""
           }
          },
          "colorscale": {
           "diverging": [
            [
             0,
             "#8e0152"
            ],
            [
             0.1,
             "#c51b7d"
            ],
            [
             0.2,
             "#de77ae"
            ],
            [
             0.3,
             "#f1b6da"
            ],
            [
             0.4,
             "#fde0ef"
            ],
            [
             0.5,
             "#f7f7f7"
            ],
            [
             0.6,
             "#e6f5d0"
            ],
            [
             0.7,
             "#b8e186"
            ],
            [
             0.8,
             "#7fbc41"
            ],
            [
             0.9,
             "#4d9221"
            ],
            [
             1,
             "#276419"
            ]
           ],
           "sequential": [
            [
             0,
             "#0d0887"
            ],
            [
             0.1111111111111111,
             "#46039f"
            ],
            [
             0.2222222222222222,
             "#7201a8"
            ],
            [
             0.3333333333333333,
             "#9c179e"
            ],
            [
             0.4444444444444444,
             "#bd3786"
            ],
            [
             0.5555555555555556,
             "#d8576b"
            ],
            [
             0.6666666666666666,
             "#ed7953"
            ],
            [
             0.7777777777777778,
             "#fb9f3a"
            ],
            [
             0.8888888888888888,
             "#fdca26"
            ],
            [
             1,
             "#f0f921"
            ]
           ],
           "sequentialminus": [
            [
             0,
             "#0d0887"
            ],
            [
             0.1111111111111111,
             "#46039f"
            ],
            [
             0.2222222222222222,
             "#7201a8"
            ],
            [
             0.3333333333333333,
             "#9c179e"
            ],
            [
             0.4444444444444444,
             "#bd3786"
            ],
            [
             0.5555555555555556,
             "#d8576b"
            ],
            [
             0.6666666666666666,
             "#ed7953"
            ],
            [
             0.7777777777777778,
             "#fb9f3a"
            ],
            [
             0.8888888888888888,
             "#fdca26"
            ],
            [
             1,
             "#f0f921"
            ]
           ]
          },
          "colorway": [
           "#636efa",
           "#EF553B",
           "#00cc96",
           "#ab63fa",
           "#FFA15A",
           "#19d3f3",
           "#FF6692",
           "#B6E880",
           "#FF97FF",
           "#FECB52"
          ],
          "font": {
           "color": "#2a3f5f"
          },
          "geo": {
           "bgcolor": "white",
           "lakecolor": "white",
           "landcolor": "white",
           "showlakes": true,
           "showland": true,
           "subunitcolor": "#C8D4E3"
          },
          "hoverlabel": {
           "align": "left"
          },
          "hovermode": "closest",
          "mapbox": {
           "style": "light"
          },
          "paper_bgcolor": "white",
          "plot_bgcolor": "white",
          "polar": {
           "angularaxis": {
            "gridcolor": "#EBF0F8",
            "linecolor": "#EBF0F8",
            "ticks": ""
           },
           "bgcolor": "white",
           "radialaxis": {
            "gridcolor": "#EBF0F8",
            "linecolor": "#EBF0F8",
            "ticks": ""
           }
          },
          "scene": {
           "xaxis": {
            "backgroundcolor": "white",
            "gridcolor": "#DFE8F3",
            "gridwidth": 2,
            "linecolor": "#EBF0F8",
            "showbackground": true,
            "ticks": "",
            "zerolinecolor": "#EBF0F8"
           },
           "yaxis": {
            "backgroundcolor": "white",
            "gridcolor": "#DFE8F3",
            "gridwidth": 2,
            "linecolor": "#EBF0F8",
            "showbackground": true,
            "ticks": "",
            "zerolinecolor": "#EBF0F8"
           },
           "zaxis": {
            "backgroundcolor": "white",
            "gridcolor": "#DFE8F3",
            "gridwidth": 2,
            "linecolor": "#EBF0F8",
            "showbackground": true,
            "ticks": "",
            "zerolinecolor": "#EBF0F8"
           }
          },
          "shapedefaults": {
           "line": {
            "color": "#2a3f5f"
           }
          },
          "ternary": {
           "aaxis": {
            "gridcolor": "#DFE8F3",
            "linecolor": "#A2B1C6",
            "ticks": ""
           },
           "baxis": {
            "gridcolor": "#DFE8F3",
            "linecolor": "#A2B1C6",
            "ticks": ""
           },
           "bgcolor": "white",
           "caxis": {
            "gridcolor": "#DFE8F3",
            "linecolor": "#A2B1C6",
            "ticks": ""
           }
          },
          "title": {
           "x": 0.05
          },
          "xaxis": {
           "automargin": true,
           "gridcolor": "#EBF0F8",
           "linecolor": "#EBF0F8",
           "ticks": "",
           "title": {
            "standoff": 15
           },
           "zerolinecolor": "#EBF0F8",
           "zerolinewidth": 2
          },
          "yaxis": {
           "automargin": true,
           "gridcolor": "#EBF0F8",
           "linecolor": "#EBF0F8",
           "ticks": "",
           "title": {
            "standoff": 15
           },
           "zerolinecolor": "#EBF0F8",
           "zerolinewidth": 2
          }
         }
        },
        "xaxis": {
         "anchor": "y",
         "domain": [
          0,
          1
         ]
        },
        "yaxis": {
         "anchor": "x",
         "domain": [
          0,
          1
         ]
        }
       }
      },
      "text/html": [
       "<div>                            <div id=\"d432d3c5-2f03-40f6-b470-5d1223a0b684\" class=\"plotly-graph-div\" style=\"height:600px; width:100%;\"></div>            <script type=\"text/javascript\">                require([\"plotly\"], function(Plotly) {                    window.PLOTLYENV=window.PLOTLYENV || {};                                    if (document.getElementById(\"d432d3c5-2f03-40f6-b470-5d1223a0b684\")) {                    Plotly.newPlot(                        \"d432d3c5-2f03-40f6-b470-5d1223a0b684\",                        [{\"marker\":{\"color\":\"#23A1E0\"},\"x\":[0.0475769887534597,0.1368427250780209,0.0766060177824898,0.16587175410705035,0.09220985691574084,0.1212388859447701,0.0475769887534597,0.0766060177824898,0.0475769887534597,0.11087558146381854,0.0475769887534597,0.0475769887534597,0.0766060177824898,0.0475769887534597,0.0766060177824898,0.0475769887534597,0.0475769887534597,0.0475769887534597,0.0475769887534597,0.0475769887534597,0.0818465524347891,0.0475769887534597,0.0475769887534597,0.0766060177824898,0.0475769887534597,0.0475769887534597,0.0475769887534597,0.1212388859447701,0.16587175410705035,0.09220985691574096,0.09220985691574082,0.0475769887534597,0.0818465524347891,0.0766060177824898,0.0475769887534597,0.09220985691574084,0.0475769887534597,0.0818465524347891,0.1447329682623819,0.0475769887534597,0.0475769887534597,0.0818465524347891,0.0475769887534597,0.0818465524347891,0.0818465524347891,0.09220985691574082,0.16086674910204513,0.100100100100102,0.09220985691574082,0.0475769887534597,0.09220985691574096,0.0818465524347891,0.0766060177824898,0.1368427250780209,0.0475769887534597,0.100100100100102,0.09220985691574084,0.0475769887534597,0.0766060177824898,0.09220985691574084,0.0475769887534597,0.0818465524347891,0.09220985691574084,0.09220985691574082,0.09220985691574082,0.0475769887534597,0.0475769887534597,0.0475769887534597,0.0475769887534597,0.09220985691574084,0.0818465524347891,0.0475769887534597,0.0818465524347891,0.12659718542071643,0.0818465524347891,0.0766060177824898,0.0818465524347891,0.12659718542071643,0.0818465524347891,0.11087558146381854,0.0766060177824898,0.0818465524347891,0.16086674910204513,0.09220985691574082,0.0475769887534597,0.0818465524347891,0.0475769887534597,0.0475769887534597,0.0766060177824898,0.15550844962609844,0.0818465524347891,0.0475769887534597,0.0475769887534597,0.0475769887534597,0.09220985691574082,0.0475769887534597,0.12647942059706935,0.100100100100102,0.0766060177824898,0.09220985691574082,0.0818465524347891,0.09220985691574084,0.0475769887534597,0.09220985691574082,0.12123888594477003,0.12659718542071643,0.0475769887534597,0.0766060177824898,0.0818465524347891,0.0818465524347891,0.0818465524347891,0.0475769887534597,0.0818465524347891,0.0818465524347891,0.12488959547783272,0.09220985691574096,0.09220985691574084,0.0818465524347891,0.0818465524347891,0.0475769887534597,0.09220985691574084,0.0475769887534597,0.1368427250780209,0.1212388859447701,0.1712300535829971,0.0766060177824898,0.0818465524347891,0.0475769887534597,0.1712300535829971,0.0818465524347891,0.0475769887534597,0.21586292174527794,0.0475769887534597,0.0475769887534597,0.0906200317965043,0.12123888594477003,0.09220985691574082,0.0818465524347891,0.0818465524347891,0.0766060177824898,0.11087558146381854,0.0475769887534597,0.0818465524347891,0.09220985691574082,0.0475769887534597,0.09220985691574082,0.0475769887534597,0.12123888594477003,0.0475769887534597,0.09220985691574084,0.0766060177824898,0.12123888594477003,0.09220985691574082,0.0475769887534597,0.0475769887534597,0.12123888594477003,0.0766060177824898,0.09220985691574084,0.0475769887534597,0.0475769887534597,0.09220985691574084,0.0475769887534597,0.0475769887534597,0.0818465524347891,0.0818465524347891,0.1343696637814303,0.0818465524347891,0.09220985691574082,0.0475769887534597,0.100100100100102,0.09220985691574082,0.09220985691574082,0.0475769887534597,0.0818465524347891,0.0475769887534597,0.09220985691574096,0.0475769887534597,0.09220985691574082,0.0475769887534597,0.0475769887534597,0.0475769887534597,0.0818465524347891,0.0818465524347891,0.1368427250780209,0.0766060177824898,0.0766060177824898,0.12659718542071643,0.09220985691574082,0.0475769887534597,0.09220985691574082,0.09220985691574082,0.0818465524347891,0.0475769887534597,0.11087558146381854,0.09220985691574082,0.0475769887534597,0.0475769887534597,0.21586292174527855,0.0766060177824898,0.0475769887534597,0.0475769887534597,0.0818465524347891,0.0475769887534597,0.0475769887534597,0.1712300535829971,0.0818465524347891,0.0475769887534597,0.0475769887534597,0.0475769887534597,0.0475769887534597,0.0475769887534597,0.0475769887534597,0.09220985691574084,0.0475769887534597,0.09220985691574084,0.0475769887534597,0.0818465524347891,0.09220985691574084,0.0475769887534597,0.0475769887534597,0.0766060177824898,0.0766060177824898,0.09220985691574082,0.11087558146381854,0.11087558146381854,0.12647942059706935,0.18936583642466262,0.0475769887534597,0.0766060177824898,0.15550844962609844,0.09220985691574084,0.0475769887534597,0.13525289995878417,0.0818465524347891,0.0475769887534597,0.11087558146381854,0.0475769887534597,0.12659718542071643,0.0766060177824898,0.17123005358299695,0.11087558146381854,0.0766060177824898,0.0766060177824898,0.0766060177824898,0.0475769887534597,0.0818465524347891,0.0475769887534597,0.12647942059706935,0.0475769887534597,0.12659718542071643,0.0475769887534597,0.0475769887534597,0.11087558146381854,0.09220985691574082,0.12659718542071643,0.12659718542071643,0.0475769887534597,0.0475769887534597,0.1368427250780209,0.0475769887534597,0.11087558146381854,0.0475769887534597,0.0475769887534597,0.0475769887534597,0.09220985691574082,0.100100100100102,0.12123888594477003,0.12659718542071643,0.0766060177824898,0.0766060177824898,0.0475769887534597,0.0475769887534597,0.09220985691574082,0.0766060177824898,0.09220985691574082,0.1343696637814303,0.0475769887534597,0.09220985691574082,0.12647942059706935,0.0475769887534597,0.0818465524347891,0.0818465524347891,0.0475769887534597,0.0475769887534597,0.0475769887534597,0.0475769887534597,0.09220985691574084,0.0818465524347891,0.0475769887534597,0.0475769887534597,0.0475769887534597,0.0818465524347891,0.1368427250780209,0.0475769887534597,0.0475769887534597,0.0766060177824898,0.0475769887534597,0.0475769887534597,0.0475769887534597,0.16587175410705035,0.12647942059706935,0.0766060177824898,0.12123888594477003,0.100100100100102,0.09220985691574084,0.12123888594477003,0.12647942059706935,0.0475769887534597,0.0766060177824898,0.09220985691574084,0.12659718542071643,0.0475769887534597,0.0475769887534597,0.0475769887534597,0.09220985691574082,0.09220985691574084,0.0818465524347891,0.0475769887534597,0.12123888594477003,0.1368427250780209,0.12647942059706935,0.0475769887534597,0.0475769887534597,0.0475769887534597,0.0475769887534597,0.09220985691574084,0.09220985691574084,0.0475769887534597,0.0475769887534597,0.0475769887534597,0.0475769887534597,0.09220985691574084,0.0475769887534597,0.15550844962609844,0.09220985691574082,0.09220985691574096,0.100100100100102,0.0475769887534597,0.0475769887534597,0.0475769887534597,0.1212388859447701,0.12659718542071643,0.0475769887534597,0.0475769887534597,0.0818465524347891,0.0475769887534597,0.0475769887534597,0.09220985691574082,0.09220985691574082,0.12659718542071643,0.0818465524347891,0.0475769887534597,0.0475769887534597,0.0818465524347891,0.0475769887534597,0.12659718542071643,0.0818465524347891,0.0475769887534597,0.0475769887534597,0.12659718542071643,0.0475769887534597,0.1368427250780209,0.0766060177824898,0.09220985691574082,0.0818465524347891,0.0475769887534597,0.0766060177824898,0.09220985691574082,0.12659718542071643,0.0766060177824898,0.0766060177824898,0.12647942059706935,0.0766060177824898,0.0475769887534597,0.0818465524347891,0.0475769887534597,0.0766060177824898,0.0475769887534597,0.0766060177824898,0.0475769887534597,0.0475769887534597,0.0818465524347891,0.12123888594477003,0.0766060177824898,0.0475769887534597,0.0818465524347891,0.0475769887534597,0.0818465524347891,0.100100100100102,0.0475769887534597,0.0766060177824898,0.0475769887534597,0.0475769887534597,0.17123005358299695,0.0818465524347891,0.0475769887534597,0.09220985691574082,0.09220985691574082,0.1343696637814303,0.0475769887534597,0.0475769887534597,0.0475769887534597,0.0475769887534597,0.0475769887534597,0.0475769887534597,0.0475769887534597,0.0475769887534597,0.0475769887534597,0.11087558146381854,0.0906200317965043,0.0818465524347891,0.0475769887534597,0.0475769887534597,0.0818465524347891,0.0475769887534597,0.0475769887534597,0.14473296826238216,0.09220985691574084,0.0475769887534597,0.0766060177824898,0.0475769887534597,0.0766060177824898,0.1212388859447701,0.0475769887534597,0.0475769887534597,0.0766060177824898,0.09220985691574082,0.0475769887534597,0.0475769887534597,0.0766060177824898,0.0766060177824898,0.1343696637814303,0.0906200317965043,0.0475769887534597,0.12123888594477003,0.1368427250780209,0.0818465524347891,0.0766060177824898,0.0475769887534597,0.0818465524347891,0.12647942059706935,0.0475769887534597,0.0475769887534597,0.11087558146381854,0.0475769887534597,0.0766060177824898,0.0766060177824898,0.0766060177824898,0.0475769887534597,0.0475769887534597,0.0766060177824898,0.0475769887534597,0.12659718542071643,0.0818465524347891,0.0475769887534597,0.0818465524347891,0.0818465524347891,0.09220985691574084,0.09220985691574084,0.0475769887534597,0.09220985691574082,0.0475769887534597,0.0475769887534597,0.12123888594477003,0.16587175410705035,0.0475769887534597,0.09220985691574082,0.0766060177824898,0.0475769887534597,0.0475769887534597,0.0475769887534597,0.0818465524347891,0.0766060177824898,0.12123888594477003,0.09220985691574096,0.15550844962609844,0.09220985691574082,0.0475769887534597,0.0475769887534597,0.12647942059706935,0.100100100100102,0.0818465524347891,0.1212388859447701,0.0766060177824898,0.11087558146381854,0.16086674910204513,0.0475769887534597,0.0818465524347891,0.09220985691574082,0.12647942059706935,0.09220985691574082,0.0475769887534597,0.0475769887534597,0.0475769887534597,0.0475769887534597,0.11087558146381854,0.0475769887534597,0.0766060177824898,0.12647942059706935,0.0818465524347891,0.0475769887534597,0.1368427250780212,0.0475769887534597,0.0475769887534597,0.0475769887534597,0.0475769887534597,0.15550844962609844,0.0475769887534597,0.12123888594477003,0.0818465524347891,0.0475769887534597,0.0475769887534597,0.0475769887534597,0.0766060177824898,0.0818465524347891,0.17123005358299687,0.16086674910204513,0.0475769887534597,0.0475769887534597,0.0475769887534597,0.1212388859447701,0.0475769887534597,0.0475769887534597,0.0475769887534597,0.0818465524347891,0.0475769887534597,0.0475769887534597,0.0475769887534597,0.0475769887534597,0.0475769887534597,0.1212388859447701,0.0475769887534597,0.0475769887534597,0.0818465524347891,0.0475769887534597,0.0766060177824898,0.12647942059706935,0.0766060177824898,0.1212388859447701,0.0475769887534597,0.0818465524347891,0.0818465524347891,0.0766060177824898,0.0475769887534597,0.0818465524347891,0.0818465524347891,0.0766060177824898,0.09220985691574082,0.0475769887534597,0.0766060177824898,0.0475769887534597,0.09220985691574096,0.0475769887534597,0.1212388859447701,0.0818465524347891,0.0766060177824898,0.0475769887534597,0.0766060177824898,0.0818465524347891,0.0475769887534597,0.0475769887534597,0.0475769887534597,0.0818465524347891,0.0766060177824898,0.0818465524347891,0.0475769887534597,0.0766060177824898,0.0475769887534597,0.0818465524347891,0.0475769887534597,0.0475769887534597,0.0766060177824898,0.0475769887534597,0.0766060177824898,0.12659718542071643,0.0475769887534597,0.09220985691574082,0.0475769887534597,0.1368427250780209,0.0475769887534597,0.0766060177824898,0.09220985691574082,0.0475769887534597,0.0766060177824898,0.0475769887534597,0.0766060177824898,0.0818465524347891,0.0818465524347891,0.0475769887534597,0.0766060177824898,0.0818465524347891,0.12659718542071643,0.0475769887534597,0.0475769887534597,0.0475769887534597,0.0475769887534597,0.0475769887534597,0.09220985691574084,0.0475769887534597,0.11087558146381854,0.09220985691574084,0.0766060177824898,0.09220985691574096,0.0475769887534597,0.0475769887534597,0.09220985691574084,0.0475769887534597,0.09220985691574096,0.12659718542071643,0.0475769887534597,0.09220985691574084,0.09220985691574082,0.11087558146381854,0.09220985691574082,0.09220985691574082,0.0475769887534597,0.0818465524347891,0.0475769887534597,0.12659718542071643,0.12123888594477003,0.0475769887534597,0.0475769887534597,0.12647942059706935,0.0475769887534597,0.0475769887534597,0.09220985691574084,0.0475769887534597,0.11087558146381854,0.12659718542071643,0.0818465524347891,0.1712300535829971,0.0475769887534597,0.0475769887534597,0.0818465524347891,0.0475769887534597,0.0475769887534597,0.0475769887534597,0.0766060177824898,0.0475769887534597,0.0475769887534597,0.0766060177824898,0.09220985691574082,0.0475769887534597,0.0818465524347891,0.12659718542071643,0.0475769887534597,0.0818465524347891,0.0475769887534597,0.0475769887534597,0.0475769887534597,0.12647942059706935,0.0475769887534597,0.0766060177824898,0.11087558146381854,0.0475769887534597,0.0475769887534597,0.0475769887534597,0.0818465524347891,0.0766060177824898,0.0475769887534597,0.0475769887534597,0.11087558146381854,0.17123005358299695,0.0818465524347891,0.0766060177824898,0.0818465524347891,0.13525289995878417,0.0475769887534597,0.0906200317965043,0.0475769887534597,0.0475769887534597,0.1368427250780209,0.11087558146381854,0.0475769887534597,0.09220985691574084,0.0475769887534597,0.16086674910204513,0.0906200317965043,0.0475769887534597,0.09220985691574082,0.0475769887534597,0.11087558146381854,0.0475769887534597,0.0475769887534597,0.09220985691574084,0.0475769887534597,0.12659718542071643,0.0475769887534597,0.0818465524347891,0.0475769887534597,0.11087558146381854,0.0475769887534597,0.0475769887534597,0.17123005358299695,0.0818465524347891,0.1368427250780209,0.0475769887534597,0.0475769887534597,0.0475769887534597,0.0475769887534597,0.0475769887534597,0.11087558146381854,0.12659718542071643,0.09220985691574084,0.0475769887534597,0.0475769887534597,0.0766060177824898,0.0475769887534597,0.0475769887534597,0.0475769887534597,0.0475769887534597,0.0475769887534597,0.0818465524347891,0.0818465524347891,0.1447329682623819,0.0475769887534597,0.0475769887534597,0.12123888594477003,0.0766060177824898,0.0475769887534597,0.0818465524347891,0.0475769887534597,0.0475769887534597,0.1712300535829971,0.12647942059706935,0.0475769887534597,0.0818465524347891,0.0766060177824898,0.09220985691574084,0.1212388859447701,0.0766060177824898,0.0475769887534597,0.09220985691574082,0.0766060177824898,0.0475769887534597,0.0475769887534597,0.0475769887534597,0.09220985691574096,0.18936583642466262,0.09220985691574082,0.0475769887534597,0.12659718542071643,0.0475769887534597,0.0475769887534597,0.12659718542071643,0.1368427250780209,0.0818465524347891,0.0475769887534597,0.0818465524347891,0.0475769887534597,0.0475769887534597,0.15550844962609844,0.09220985691574082,0.09220985691574084,0.11087558146381854,0.0766060177824898,0.11087558146381854,0.09220985691574084,0.09220985691574084,0.0818465524347891,0.0766060177824898,0.12659718542071643,0.0475769887534597,0.0818465524347891,0.1212388859447701,0.21586292174527855,0.0818465524347891,0.09220985691574084,0.0475769887534597,0.12659718542071643,0.0475769887534597,0.0766060177824898,0.0766060177824898,0.0475769887534597,0.0475769887534597,0.0475769887534597,0.0818465524347891,0.0475769887534597,0.1212388859447701,0.09220985691574084,0.0475769887534597,0.0475769887534597,0.0766060177824898,0.0475769887534597,0.0475769887534597,0.0475769887534597,0.16086674910204513,0.0475769887534597,0.100100100100102,0.0475769887534597,0.0766060177824898,0.21586292174527794,0.09220985691574084,0.09220985691574082,0.09220985691574082,0.0818465524347891,0.0818465524347891,0.0475769887534597,0.12659718542071643,0.11087558146381854,0.12659718542071643,0.0475769887534597,0.0475769887534597,0.09220985691574084,0.0475769887534597,0.09220985691574082,0.0906200317965043,0.18453747865512826,0.0475769887534597,0.0475769887534597,0.0475769887534597,0.0475769887534597,0.0475769887534597,0.0475769887534597,0.0766060177824898,0.12659718542071643,0.1712300535829971,0.11087558146381854,0.1712300535829971,0.0818465524347891,0.0475769887534597,0.0475769887534597,0.09220985691574084,0.0766060177824898,0.12659718542071643,0.100100100100102,0.0475769887534597,0.0475769887534597,0.0475769887534597,0.0818465524347891,0.0475769887534597,0.12123888594477003,0.0766060177824898,0.0475769887534597,0.0475769887534597,0.0766060177824898,0.0475769887534597,0.0475769887534597,0.0818465524347891,0.0475769887534597,0.15097450391568254,0.0475769887534597,0.0475769887534597,0.0766060177824898,0.0818465524347891,0.12659718542071643,0.11087558146381854,0.0818465524347891,0.0475769887534597,0.09220985691574096,0.0818465524347891,0.12659718542071643,0.0818465524347891,0.09220985691574082,0.1712300535829971,0.12123888594477047,0.0766060177824898,0.0475769887534597,0.0818465524347891,0.11087558146381854,0.0818465524347891,0.0766060177824898,0.11087558146381854,0.0475769887534597,0.0766060177824898,0.0766060177824898,0.09220985691574082,0.0475769887534597,0.0475769887534597,0.0475769887534597,0.0475769887534597,0.0475769887534597,0.0475769887534597,0.0475769887534597,0.0475769887534597,0.0475769887534597,0.0475769887534597,0.09220985691574082,0.0766060177824898,0.0475769887534597,0.0766060177824898,0.0475769887534597,0.0475769887534597,0.0818465524347891,0.0766060177824898,0.09220985691574082,0.0475769887534597,0.12123888594477003,0.0475769887534597,0.0475769887534597,0.0475769887534597,0.11087558146381854,0.09220985691574096,0.09220985691574082,0.0475769887534597,0.0766060177824898,0.0475769887534597,0.0818465524347891,0.0766060177824898,0.12659718542071643,0.0475769887534597,0.09220985691574084,0.0475769887534597,0.0475769887534597,0.0818465524347891,0.09220985691574082,0.0475769887534597,0.0766060177824898,0.09220985691574084,0.0818465524347891,0.100100100100102,0.0766060177824898,0.09220985691574082,0.0766060177824898,0.0475769887534597,0.0766060177824898,0.1368427250780209,0.09220985691574096,0.0818465524347891,0.0818465524347891,0.09220985691574082,0.0475769887534597,0.0475769887534597,0.0475769887534597,0.12659718542071643,0.0475769887534597,0.0475769887534597,0.09220985691574082,0.0475769887534597,0.0475769887534597,0.09220985691574082,0.0766060177824898,0.09220985691574082,0.0475769887534597,0.0475769887534597,0.0475769887534597,0.09220985691574082,0.16086674910204513,0.0475769887534597,0.0475769887534597,0.0818465524347891,0.0475769887534597,0.0475769887534597,0.09220985691574096,0.0475769887534597,0.09220985691574084,0.0818465524347891,0.11087558146381854,0.0818465524347891,0.0475769887534597,0.0818465524347891,0.09220985691574084,0.0818465524347891,0.0475769887534597,0.0475769887534597,0.0475769887534597,0.0475769887534597,0.0475769887534597,0.0475769887534597,0.0818465524347891,0.0475769887534597,0.0818465524347891,0.0475769887534597,0.0766060177824898,0.09220985691574084,0.0475769887534597,0.0475769887534597,0.09220985691574082,0.09220985691574082,0.12659718542071643,0.0475769887534597,0.0475769887534597,0.0475769887534597,0.09220985691574082,0.0475769887534597,0.0818465524347891,0.0475769887534597,0.12659718542071643,0.12659718542071643,0.1712300535829971,0.0906200317965043,0.0475769887534597,0.0818465524347891,0.09220985691574082,0.0475769887534597,0.0475769887534597,0.0818465524347891,0.0475769887534597,0.0475769887534597,0.09220985691574082,0.0818465524347891,0.0475769887534597,0.0818465524347891,0.0475769887534597,0.09220985691574084,0.09220985691574096,0.09220985691574082,0.09220985691574096,0.09220985691574084,0.0766060177824898],\"type\":\"histogram\",\"xaxis\":\"x\",\"yaxis\":\"y\"}],                        {\"template\":{\"data\":{\"barpolar\":[{\"marker\":{\"line\":{\"color\":\"white\",\"width\":0.5},\"pattern\":{\"fillmode\":\"overlay\",\"size\":10,\"solidity\":0.2}},\"type\":\"barpolar\"}],\"bar\":[{\"error_x\":{\"color\":\"#2a3f5f\"},\"error_y\":{\"color\":\"#2a3f5f\"},\"marker\":{\"line\":{\"color\":\"white\",\"width\":0.5},\"pattern\":{\"fillmode\":\"overlay\",\"size\":10,\"solidity\":0.2}},\"type\":\"bar\"}],\"carpet\":[{\"aaxis\":{\"endlinecolor\":\"#2a3f5f\",\"gridcolor\":\"#C8D4E3\",\"linecolor\":\"#C8D4E3\",\"minorgridcolor\":\"#C8D4E3\",\"startlinecolor\":\"#2a3f5f\"},\"baxis\":{\"endlinecolor\":\"#2a3f5f\",\"gridcolor\":\"#C8D4E3\",\"linecolor\":\"#C8D4E3\",\"minorgridcolor\":\"#C8D4E3\",\"startlinecolor\":\"#2a3f5f\"},\"type\":\"carpet\"}],\"choropleth\":[{\"colorbar\":{\"outlinewidth\":0,\"ticks\":\"\"},\"type\":\"choropleth\"}],\"contourcarpet\":[{\"colorbar\":{\"outlinewidth\":0,\"ticks\":\"\"},\"type\":\"contourcarpet\"}],\"contour\":[{\"colorbar\":{\"outlinewidth\":0,\"ticks\":\"\"},\"colorscale\":[[0.0,\"#0d0887\"],[0.1111111111111111,\"#46039f\"],[0.2222222222222222,\"#7201a8\"],[0.3333333333333333,\"#9c179e\"],[0.4444444444444444,\"#bd3786\"],[0.5555555555555556,\"#d8576b\"],[0.6666666666666666,\"#ed7953\"],[0.7777777777777778,\"#fb9f3a\"],[0.8888888888888888,\"#fdca26\"],[1.0,\"#f0f921\"]],\"type\":\"contour\"}],\"heatmapgl\":[{\"colorbar\":{\"outlinewidth\":0,\"ticks\":\"\"},\"colorscale\":[[0.0,\"#0d0887\"],[0.1111111111111111,\"#46039f\"],[0.2222222222222222,\"#7201a8\"],[0.3333333333333333,\"#9c179e\"],[0.4444444444444444,\"#bd3786\"],[0.5555555555555556,\"#d8576b\"],[0.6666666666666666,\"#ed7953\"],[0.7777777777777778,\"#fb9f3a\"],[0.8888888888888888,\"#fdca26\"],[1.0,\"#f0f921\"]],\"type\":\"heatmapgl\"}],\"heatmap\":[{\"colorbar\":{\"outlinewidth\":0,\"ticks\":\"\"},\"colorscale\":[[0.0,\"#0d0887\"],[0.1111111111111111,\"#46039f\"],[0.2222222222222222,\"#7201a8\"],[0.3333333333333333,\"#9c179e\"],[0.4444444444444444,\"#bd3786\"],[0.5555555555555556,\"#d8576b\"],[0.6666666666666666,\"#ed7953\"],[0.7777777777777778,\"#fb9f3a\"],[0.8888888888888888,\"#fdca26\"],[1.0,\"#f0f921\"]],\"type\":\"heatmap\"}],\"histogram2dcontour\":[{\"colorbar\":{\"outlinewidth\":0,\"ticks\":\"\"},\"colorscale\":[[0.0,\"#0d0887\"],[0.1111111111111111,\"#46039f\"],[0.2222222222222222,\"#7201a8\"],[0.3333333333333333,\"#9c179e\"],[0.4444444444444444,\"#bd3786\"],[0.5555555555555556,\"#d8576b\"],[0.6666666666666666,\"#ed7953\"],[0.7777777777777778,\"#fb9f3a\"],[0.8888888888888888,\"#fdca26\"],[1.0,\"#f0f921\"]],\"type\":\"histogram2dcontour\"}],\"histogram2d\":[{\"colorbar\":{\"outlinewidth\":0,\"ticks\":\"\"},\"colorscale\":[[0.0,\"#0d0887\"],[0.1111111111111111,\"#46039f\"],[0.2222222222222222,\"#7201a8\"],[0.3333333333333333,\"#9c179e\"],[0.4444444444444444,\"#bd3786\"],[0.5555555555555556,\"#d8576b\"],[0.6666666666666666,\"#ed7953\"],[0.7777777777777778,\"#fb9f3a\"],[0.8888888888888888,\"#fdca26\"],[1.0,\"#f0f921\"]],\"type\":\"histogram2d\"}],\"histogram\":[{\"marker\":{\"pattern\":{\"fillmode\":\"overlay\",\"size\":10,\"solidity\":0.2}},\"type\":\"histogram\"}],\"mesh3d\":[{\"colorbar\":{\"outlinewidth\":0,\"ticks\":\"\"},\"type\":\"mesh3d\"}],\"parcoords\":[{\"line\":{\"colorbar\":{\"outlinewidth\":0,\"ticks\":\"\"}},\"type\":\"parcoords\"}],\"pie\":[{\"automargin\":true,\"type\":\"pie\"}],\"scatter3d\":[{\"line\":{\"colorbar\":{\"outlinewidth\":0,\"ticks\":\"\"}},\"marker\":{\"colorbar\":{\"outlinewidth\":0,\"ticks\":\"\"}},\"type\":\"scatter3d\"}],\"scattercarpet\":[{\"marker\":{\"colorbar\":{\"outlinewidth\":0,\"ticks\":\"\"}},\"type\":\"scattercarpet\"}],\"scattergeo\":[{\"marker\":{\"colorbar\":{\"outlinewidth\":0,\"ticks\":\"\"}},\"type\":\"scattergeo\"}],\"scattergl\":[{\"marker\":{\"colorbar\":{\"outlinewidth\":0,\"ticks\":\"\"}},\"type\":\"scattergl\"}],\"scattermapbox\":[{\"marker\":{\"colorbar\":{\"outlinewidth\":0,\"ticks\":\"\"}},\"type\":\"scattermapbox\"}],\"scatterpolargl\":[{\"marker\":{\"colorbar\":{\"outlinewidth\":0,\"ticks\":\"\"}},\"type\":\"scatterpolargl\"}],\"scatterpolar\":[{\"marker\":{\"colorbar\":{\"outlinewidth\":0,\"ticks\":\"\"}},\"type\":\"scatterpolar\"}],\"scatter\":[{\"fillpattern\":{\"fillmode\":\"overlay\",\"size\":10,\"solidity\":0.2},\"type\":\"scatter\"}],\"scatterternary\":[{\"marker\":{\"colorbar\":{\"outlinewidth\":0,\"ticks\":\"\"}},\"type\":\"scatterternary\"}],\"surface\":[{\"colorbar\":{\"outlinewidth\":0,\"ticks\":\"\"},\"colorscale\":[[0.0,\"#0d0887\"],[0.1111111111111111,\"#46039f\"],[0.2222222222222222,\"#7201a8\"],[0.3333333333333333,\"#9c179e\"],[0.4444444444444444,\"#bd3786\"],[0.5555555555555556,\"#d8576b\"],[0.6666666666666666,\"#ed7953\"],[0.7777777777777778,\"#fb9f3a\"],[0.8888888888888888,\"#fdca26\"],[1.0,\"#f0f921\"]],\"type\":\"surface\"}],\"table\":[{\"cells\":{\"fill\":{\"color\":\"#EBF0F8\"},\"line\":{\"color\":\"white\"}},\"header\":{\"fill\":{\"color\":\"#C8D4E3\"},\"line\":{\"color\":\"white\"}},\"type\":\"table\"}]},\"layout\":{\"annotationdefaults\":{\"arrowcolor\":\"#2a3f5f\",\"arrowhead\":0,\"arrowwidth\":1},\"autotypenumbers\":\"strict\",\"coloraxis\":{\"colorbar\":{\"outlinewidth\":0,\"ticks\":\"\"}},\"colorscale\":{\"diverging\":[[0,\"#8e0152\"],[0.1,\"#c51b7d\"],[0.2,\"#de77ae\"],[0.3,\"#f1b6da\"],[0.4,\"#fde0ef\"],[0.5,\"#f7f7f7\"],[0.6,\"#e6f5d0\"],[0.7,\"#b8e186\"],[0.8,\"#7fbc41\"],[0.9,\"#4d9221\"],[1,\"#276419\"]],\"sequential\":[[0.0,\"#0d0887\"],[0.1111111111111111,\"#46039f\"],[0.2222222222222222,\"#7201a8\"],[0.3333333333333333,\"#9c179e\"],[0.4444444444444444,\"#bd3786\"],[0.5555555555555556,\"#d8576b\"],[0.6666666666666666,\"#ed7953\"],[0.7777777777777778,\"#fb9f3a\"],[0.8888888888888888,\"#fdca26\"],[1.0,\"#f0f921\"]],\"sequentialminus\":[[0.0,\"#0d0887\"],[0.1111111111111111,\"#46039f\"],[0.2222222222222222,\"#7201a8\"],[0.3333333333333333,\"#9c179e\"],[0.4444444444444444,\"#bd3786\"],[0.5555555555555556,\"#d8576b\"],[0.6666666666666666,\"#ed7953\"],[0.7777777777777778,\"#fb9f3a\"],[0.8888888888888888,\"#fdca26\"],[1.0,\"#f0f921\"]]},\"colorway\":[\"#636efa\",\"#EF553B\",\"#00cc96\",\"#ab63fa\",\"#FFA15A\",\"#19d3f3\",\"#FF6692\",\"#B6E880\",\"#FF97FF\",\"#FECB52\"],\"font\":{\"color\":\"#2a3f5f\"},\"geo\":{\"bgcolor\":\"white\",\"lakecolor\":\"white\",\"landcolor\":\"white\",\"showlakes\":true,\"showland\":true,\"subunitcolor\":\"#C8D4E3\"},\"hoverlabel\":{\"align\":\"left\"},\"hovermode\":\"closest\",\"mapbox\":{\"style\":\"light\"},\"paper_bgcolor\":\"white\",\"plot_bgcolor\":\"white\",\"polar\":{\"angularaxis\":{\"gridcolor\":\"#EBF0F8\",\"linecolor\":\"#EBF0F8\",\"ticks\":\"\"},\"bgcolor\":\"white\",\"radialaxis\":{\"gridcolor\":\"#EBF0F8\",\"linecolor\":\"#EBF0F8\",\"ticks\":\"\"}},\"scene\":{\"xaxis\":{\"backgroundcolor\":\"white\",\"gridcolor\":\"#DFE8F3\",\"gridwidth\":2,\"linecolor\":\"#EBF0F8\",\"showbackground\":true,\"ticks\":\"\",\"zerolinecolor\":\"#EBF0F8\"},\"yaxis\":{\"backgroundcolor\":\"white\",\"gridcolor\":\"#DFE8F3\",\"gridwidth\":2,\"linecolor\":\"#EBF0F8\",\"showbackground\":true,\"ticks\":\"\",\"zerolinecolor\":\"#EBF0F8\"},\"zaxis\":{\"backgroundcolor\":\"white\",\"gridcolor\":\"#DFE8F3\",\"gridwidth\":2,\"linecolor\":\"#EBF0F8\",\"showbackground\":true,\"ticks\":\"\",\"zerolinecolor\":\"#EBF0F8\"}},\"shapedefaults\":{\"line\":{\"color\":\"#2a3f5f\"}},\"ternary\":{\"aaxis\":{\"gridcolor\":\"#DFE8F3\",\"linecolor\":\"#A2B1C6\",\"ticks\":\"\"},\"baxis\":{\"gridcolor\":\"#DFE8F3\",\"linecolor\":\"#A2B1C6\",\"ticks\":\"\"},\"bgcolor\":\"white\",\"caxis\":{\"gridcolor\":\"#DFE8F3\",\"linecolor\":\"#A2B1C6\",\"ticks\":\"\"}},\"title\":{\"x\":0.05},\"xaxis\":{\"automargin\":true,\"gridcolor\":\"#EBF0F8\",\"linecolor\":\"#EBF0F8\",\"ticks\":\"\",\"title\":{\"standoff\":15},\"zerolinecolor\":\"#EBF0F8\",\"zerolinewidth\":2},\"yaxis\":{\"automargin\":true,\"gridcolor\":\"#EBF0F8\",\"linecolor\":\"#EBF0F8\",\"ticks\":\"\",\"title\":{\"standoff\":15},\"zerolinecolor\":\"#EBF0F8\",\"zerolinewidth\":2}}},\"xaxis\":{\"anchor\":\"y\",\"domain\":[0.0,1.0]},\"yaxis\":{\"anchor\":\"x\",\"domain\":[0.0,1.0]},\"annotations\":[{\"font\":{\"size\":16},\"showarrow\":false,\"text\":\"Average RF Distance to other trees\",\"x\":0.5,\"xanchor\":\"center\",\"xref\":\"paper\",\"y\":0,\"yanchor\":\"top\",\"yref\":\"paper\",\"yshift\":-30},{\"font\":{\"size\":16},\"showarrow\":false,\"text\":\"Number of trees\",\"textangle\":-90,\"x\":0,\"xanchor\":\"right\",\"xref\":\"paper\",\"xshift\":-40,\"y\":0.5,\"yanchor\":\"middle\",\"yref\":\"paper\"}],\"height\":600},                        {\"responsive\": true}                    ).then(function(){\n",
       "                            \n",
       "var gd = document.getElementById('d432d3c5-2f03-40f6-b470-5d1223a0b684');\n",
       "var x = new MutationObserver(function (mutations, observer) {{\n",
       "        var display = window.getComputedStyle(gd).display;\n",
       "        if (!display || display === 'none') {{\n",
       "            console.log([gd, 'removed!']);\n",
       "            Plotly.purge(gd);\n",
       "            observer.disconnect();\n",
       "        }}\n",
       "}});\n",
       "\n",
       "// Listen for the removal of the full notebook cells\n",
       "var notebookContainer = gd.closest('#notebook-container');\n",
       "if (notebookContainer) {{\n",
       "    x.observe(notebookContainer, {childList: true});\n",
       "}}\n",
       "\n",
       "// Listen for the clearing of the current output cell\n",
       "var outputEl = gd.closest('.output');\n",
       "if (outputEl) {{\n",
       "    x.observe(outputEl, {childList: true});\n",
       "}}\n",
       "\n",
       "                        })                };                });            </script>        </div>"
      ]
     },
     "metadata": {},
     "output_type": "display_data"
    }
   ],
   "source": [
    "import pandas as pd\n",
    "from plotly import graph_objects as go\n",
    "from plotly.subplots import make_subplots\n",
    "\n",
    "def matrix_analysis_plotly(metric):\n",
    "    dm = read_dm(metric)\n",
    "    if metric == \"RF\":\n",
    "        dm = to_relative(dm)\n",
    "    upper_triangle = [dm[i][j] for i in range(1000) for j in range(i+1, 1000)]\n",
    "    avgs = [sum(dm[i]) / 999 for i in range(1000)]\n",
    "    df = pd.DataFrame()\n",
    "    df['avg']  = avgs\n",
    "   \n",
    "    fig = make_subplots(\n",
    "        rows=1,\n",
    "        cols=1,\n",
    "        #subplot_titles=[title, \"\"],\n",
    "        x_title=\"Average RF Distance to other trees\",\n",
    "        y_title=\"Number of trees\"\n",
    "    )\n",
    "\n",
    "    \n",
    "    fig.append_trace(\n",
    "        go.Histogram(\n",
    "            x=df['avg'],\n",
    "            marker_color = \"#23A1E0\"\n",
    "        ),\n",
    "        row=1,\n",
    "        col=1\n",
    "    )\n",
    "    return fig\n",
    "matrix_analysis_plotly(\"RF\").update_layout(template=\"plotly_white\", height=600)"
   ]
  },
  {
   "cell_type": "code",
   "execution_count": 10,
   "id": "57782b3b",
   "metadata": {},
   "outputs": [
    {
     "data": {
      "image/png": "[encoded data removed]",
      "text/plain": [
       "<Figure size 640x480 with 1 Axes>"
      ]
     },
     "metadata": {},
     "output_type": "display_data"
    },
    {
     "data": {
      "image/png": "[encoded data removed]",
      "text/plain": [
       "<Figure size 640x480 with 1 Axes>"
      ]
     },
     "metadata": {},
     "output_type": "display_data"
    },
    {
     "data": {
      "image/png": "[encoded data removed]",
      "text/plain": [
       "<Figure size 640x480 with 1 Axes>"
      ]
     },
     "metadata": {},
     "output_type": "display_data"
    }
   ],
   "source": [
    "def matrix_analysis(metric):\n",
    "    dm = read_dm(metric)\n",
    "    if metric == \"RF\":\n",
    "        dm = to_relative(dm)\n",
    "    upper_triangle = [dm[i][j] for i in range(1000) for j in range(i+1, 1000)]\n",
    "    avgs = [sum(dm[i]) / 999 for i in range(1000)]\n",
    "    avg = sum(upper_triangle) / len(upper_triangle)\n",
    "    #print(avg)\n",
    "    plt.title(\"Average \" + metric + \" Distances\")\n",
    "    plt.xlabel(metric + \" Distance\")\n",
    "    plt.ylabel(\"Number of trees\")\n",
    "    plt.hist(avgs, bins=15)\n",
    "    plt.show()\n",
    "\n",
    "    #plt.title(\"Distribution of pairwise \" + metric + \" Distances\")\n",
    "    #plt.xlabel(metric + \" Distance\")\n",
    "    #plt.ylabel(\"Number of tree pairs\")\n",
    "    #plt.hist(upper_triangle, bins=10)\n",
    "    #plt.show()\n",
    "matrix_analysis(\"RF\")\n",
    "matrix_analysis(\"Quartet\")\n",
    "matrix_analysis(\"Generalized Quartet\")"
   ]
  },
  {
   "cell_type": "code",
   "execution_count": 5,
   "id": "91bac2e6",
   "metadata": {},
   "outputs": [
    {
     "name": "stdout",
     "output_type": "stream",
     "text": [
      "full, RF, 0.7141601184734127\n",
      "full, Generalized Quartet, 0.9736032321458661\n",
      "glottolog, RF, 0.04333514179243622\n",
      "glottolog, Generalized Quartet, 0.1181538356480706\n"
     ]
    },
    {
     "data": {
      "image/png": "[encoded data removed]",
      "text/plain": [
       "<Figure size 640x480 with 1 Axes>"
      ]
     },
     "metadata": {},
     "output_type": "display_data"
    }
   ],
   "source": [
    "def fixed_avg_correlation(name, metric):\n",
    "    if metric == \"RF\":\n",
    "        f_name = \"temp/\" + name + \"_dist.matrix\"\n",
    "    elif metric == \"Quartet\":\n",
    "        f_name = \"temp/\" + name + \"_quartet_dist.matrix\"\n",
    "    elif metric == \"Generalized Quartet\":\n",
    "        f_name = \"temp/\" + name + \"_quartet_generalized_dist.matrix\"\n",
    "    else:\n",
    "        print(metric + \" - this metric is not supported\")\n",
    "    d = [float(val) for val in open(f_name, \"r\").read().split(\"\\n\")[:-1]]\n",
    "    if metric == \"RF\":\n",
    "        d = [val/34 for val in d]\n",
    "        \n",
    "        \n",
    "    dm = read_dm(metric)\n",
    "    if metric == \"RF\":\n",
    "        dm = to_relative(dm)\n",
    "    upper_triangle = [dm[i][j] for i in range(1000) for j in range(i+1, 1000)]\n",
    "    avgs = [sum(dm[i]) / 999 for i in range(1000)]\n",
    "    print(name + \", \" + metric + \", \" + str(np.corrcoef(d, avgs)[0, 1]))\n",
    "    plt.xlabel(metric+\" Distance to \" + name_dict[name])\n",
    "    plt.ylabel(\"Average \" + metric + \" Distance to other trees\")\n",
    "    plt.scatter(d, avgs)\n",
    "    #plt.show()\n",
    "    \n",
    "    \n",
    "fixed_avg_correlation(\"full\", \"RF\")\n",
    "fixed_avg_correlation(\"full\", \"Generalized Quartet\")\n",
    "fixed_avg_correlation(\"glottolog\", \"RF\")\n",
    "fixed_avg_correlation(\"glottolog\", \"Generalized Quartet\")\n",
    "\n"
   ]
  },
  {
   "cell_type": "code",
   "execution_count": 5,
   "id": "4f3b324d",
   "metadata": {},
   "outputs": [
    {
     "name": "stdout",
     "output_type": "stream",
     "text": [
      "ref_trees/full.tree\tref_trees/glottolog.tree\t0.3235\t0.3529\t0.0324\n",
      "ref_trees/full.tree\tref_trees/catg.tree\t0.1765\t0.0704\t0.0704\n",
      "ref_trees/full.tree\tref_trees/catg_2.tree\t0.1765\t0.0704\t0.0704\n",
      "ref_trees/glottolog.tree\tref_trees/catg.tree\t0.2647\t0.3437\t0.0185\n",
      "ref_trees/glottolog.tree\tref_trees/catg_2.tree\t0.3235\t0.3529\t0.0324\n",
      "ref_trees/catg.tree\tref_trees/catg_2.tree\t0.0588\t0.0093\t0.0093\n"
     ]
    }
   ],
   "source": [
    "def distances_among_ref_trees():\n",
    "    names = []\n",
    "    trees = []\n",
    "    ref_tree_dir = \"ref_trees/\"\n",
    "    with os.scandir(ref_tree_dir) as it:\n",
    "        for entry in it:\n",
    "            if not entry.is_file():\n",
    "                continue\n",
    "            name = os.path.join(ref_tree_dir, entry.name)\n",
    "            names.append(name)\n",
    "            trees.append(Tree(name))\n",
    "    for i in range(len(names)):\n",
    "        for j in range(i+1, len(names)):\n",
    "            rfd = round(rf_distance(trees[i], trees[j])/34, 4)\n",
    "            qd = round(quartet_distance(names[i], names[j], False), 4)\n",
    "            qgd = round(quartet_distance(names[i], names[j], True), 4)\n",
    "            print(names[i] + \"\\t\" + names[j] + \"\\t\" + str(rfd) + \"\\t\" + str(qd) + \"\\t\" + str(qgd))\n",
    "            \n",
    "distances_among_ref_trees()"
   ]
  },
  {
   "cell_type": "code",
   "execution_count": null,
   "id": "ca08cb1a",
   "metadata": {},
   "outputs": [],
   "source": []
  }
 ],
 "metadata": {
  "kernelspec": {
   "display_name": "Python 3 (ipykernel)",
   "language": "python",
   "name": "python3"
  },
  "language_info": {
   "codemirror_mode": {
    "name": "ipython",
    "version": 3
   },
   "file_extension": ".py",
   "mimetype": "text/x-python",
   "name": "python",
   "nbconvert_exporter": "python",
   "pygments_lexer": "ipython3",
   "version": "3.10.10"
  }
 },
 "nbformat": 4,
 "nbformat_minor": 5
}
