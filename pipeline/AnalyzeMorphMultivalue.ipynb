{
 "cells": [
  {
   "cell_type": "code",
   "execution_count": 1,
   "id": "0159876f",
   "metadata": {},
   "outputs": [],
   "source": [
    "import os\n",
    "import statistics\n",
    "import matplotlib.pyplot as plt\n",
    "from Bio import AlignIO\n",
    "import pandas as pd"
   ]
  },
  {
   "cell_type": "code",
   "execution_count": 2,
   "id": "f51333e7",
   "metadata": {},
   "outputs": [
    {
     "data": {
      "image/png": "[encoded data removed]",
      "text/plain": [
       "<Figure size 640x480 with 1 Axes>"
      ]
     },
     "metadata": {},
     "output_type": "display_data"
    }
   ],
   "source": [
    "states = [\"0\", \"1\", \"2\", \"3\", \"4\", \"5\", \"6\", \"7\", \"8\", \"9\", \"A\", \"B\", \"C\", \"D\", \"E\", \"F\", \"G\", \"H\", \"I\", \"J\", \"K\", \"L\", \"M\", \"N\", \"O\", \"P\", \"Q\", \"R\", \"S\", \"T\", \"U\", \"V\", \"W\", \"X\", \"Y\", \"Z\", \"!\", \"\\\"\", \"#\", \"$\", \"%\", \"&\", \"'\", \"(\", \")\", \"*\", \"+\",\n",
    "\",\", \"/\", \":\", \";\", \"<\", \"=\", \">\", \"@\", \"[\", \"\\\\\", \"]\", \"^\", \"_\", \"{\", \"|\", \"}\", \"~\"]\n",
    "idx_for_state = {}\n",
    "for i, state in enumerate(states):\n",
    "    idx_for_state[state] = i\n",
    "\n",
    "def analyze(align):\n",
    "    c_count = len(align[0].seq)\n",
    "    column_maxima = [0 for _ in range(c_count)]\n",
    "    for record in align:\n",
    "        sequence = record.seq\n",
    "        for c in range(c_count):\n",
    "            if(len(sequence) == c_count):\n",
    "                value = sequence[c]\n",
    "            else:\n",
    "                value = sequence[c]['d'][0]\n",
    "            if value == '-' or value == '?':\n",
    "                continue\n",
    "            column_maxima[c] = max(idx_for_state[value], column_maxima[c])\n",
    "    state_sizes = [val + 1 for val in column_maxima]\n",
    "    return state_sizes\n",
    "    #plt.hist(state_sizes)\n",
    "    #plt.show()\n",
    "    #print(int(statistics.median(state_sizes)))\n",
    "    #print(sum(column_maxima) / len(column_maxima))\n",
    "    \n",
    "    \n",
    "    \n",
    "def analyze_morph():\n",
    "    input_dir = \"morph_alignments/multi/\"\n",
    "    state_sizes = []\n",
    "    with os.scandir(input_dir) as it:\n",
    "        for entry in it:\n",
    "            if not entry.is_file():\n",
    "                continue\n",
    "            align = AlignIO.read(os.path.join(input_dir, entry.name), \"phylip-relaxed\")\n",
    "            state_sizes += analyze(align)\n",
    "    plt.hist(state_sizes)\n",
    "    plt.show()\n",
    "\n",
    "analyze_morph()"
   ]
  },
  {
   "cell_type": "code",
   "execution_count": null,
   "id": "27cc8620",
   "metadata": {},
   "outputs": [],
   "source": []
  },
  {
   "cell_type": "code",
   "execution_count": null,
   "id": "cd705296",
   "metadata": {},
   "outputs": [],
   "source": []
  }
 ],
 "metadata": {
  "kernelspec": {
   "display_name": "Python 3 (ipykernel)",
   "language": "python",
   "name": "python3"
  },
  "language_info": {
   "codemirror_mode": {
    "name": "ipython",
    "version": 3
   },
   "file_extension": ".py",
   "mimetype": "text/x-python",
   "name": "python",
   "nbconvert_exporter": "python",
   "pygments_lexer": "ipython3",
   "version": "3.10.9"
  }
 },
 "nbformat": 4,
 "nbformat_minor": 5
}
