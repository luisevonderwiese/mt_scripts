{
 "cells": [
  {
   "cell_type": "code",
   "execution_count": 1,
   "id": "3e0a6b17",
   "metadata": {},
   "outputs": [],
   "source": [
    "#Plot Distribution of Columns in training_data.parquet"
   ]
  },
  {
   "cell_type": "code",
   "execution_count": 2,
   "id": "a50e1ff4",
   "metadata": {},
   "outputs": [],
   "source": [
    "import pandas as pd\n",
    "from plotly import graph_objects as go\n",
    "from plotly.subplots import make_subplots\n",
    "import math"
   ]
  },
  {
   "cell_type": "code",
   "execution_count": 3,
   "id": "2dc3acfd",
   "metadata": {},
   "outputs": [],
   "source": [
    "from colour import Color\n",
    "\n",
    "class color_concept:\n",
    "    \n",
    "    kit_green = \"#009682\"\n",
    "    kit_orange = \"#DF9B1B\"\n",
    "    kit_blue = \"#0A64AA\"\n",
    "    kit_maigreen = \"#8CB63C\"\n",
    "    kit_yellow = \"#FCE500\"\n",
    "    kit_red = \"#A22223\"\n",
    "    kit_lila = \"#A3107C\"\n",
    "    kit_cyan = \"#23A1E0\"\n",
    "    \n",
    "    \n",
    "    data_type = \"\"\n",
    "    model_color = {}\n",
    "    \n",
    "    morph_model_colors = {\n",
    "        \"BIN\" : kit_cyan,\n",
    "        \"GTR\" : kit_orange,\n",
    "        \"MK\" : kit_lila\n",
    "    }\n",
    "    \n",
    "    morph_diff_colors = {\n",
    "        \"BIN_GTR\" : kit_maigreen,\n",
    "        \"BIN_MK\" : kit_blue,\n",
    "        \"GTR_MK\" : kit_red\n",
    "    }\n",
    "    \n",
    "    lang_model_colors = {\n",
    "        \"BIN\" : kit_red,\n",
    "        \"GTR\" : kit_maigreen,\n",
    "        \"MK\" : kit_blue\n",
    "    }\n",
    "    \n",
    "    lang_diff_colors = {\n",
    "        \"BIN_GTR\" : kit_orange,\n",
    "        \"BIN_MK\" : kit_lila,\n",
    "        \"GTR_MK\" : kit_cyan\n",
    "    }\n",
    "    \n",
    "    lang_subtype_colors = {\n",
    "        \"cc\" : kit_lila,\n",
    "        \"sc\" : kit_orange,\n",
    "        \"ms\" : kit_maigreen\n",
    "        #\"mp\" :\n",
    "    }\n",
    "    \n",
    "    \n",
    "    \n",
    "    def __init__(self, data_type):\n",
    "        self.data_type = data_type\n",
    "        if data_type == 'morph':\n",
    "            self.model_colors = self.morph_model_colors\n",
    "            self.diff_colors = self.morph_diff_colors\n",
    "        if data_type == 'lang':\n",
    "            self.model_colors = self.lang_model_colors\n",
    "            self.diff_colors = self.lang_diff_colors\n",
    "    \n",
    "    def get_model_color(self, model):\n",
    "        return self.model_colors[model]\n",
    "    \n",
    "    def get_diff_color(self, model1, model2):\n",
    "        #color1 = Color(self.get_model_color(model1))\n",
    "        #color2 = Color(self.get_model_color(model2))\n",
    "        #colors = list(color1.range_to(color2 ,5))\n",
    "        #return colors[1].hex\n",
    "        s = model1 + \"_\" + model2\n",
    "        return self.diff_colors[s]\n",
    "    \n",
    "    def get_subtype_color(self, subtype):\n",
    "        return self.lang_subtype_colors[subtype]"
   ]
  },
  {
   "cell_type": "code",
   "execution_count": 4,
   "id": "4384b43f",
   "metadata": {},
   "outputs": [],
   "source": [
    "def add_treeness(df):\n",
    "    treeness = []\n",
    "    for index, row in df.iterrows():\n",
    "        treeness.append(row['total_internal_brlens']/row['total_all_brlens'])\n",
    "    df[\"treeness\"] = treeness\n",
    "    \n",
    "def add_pattern_proportion(df):\n",
    "    pp = []\n",
    "    for index, row in df.iterrows():\n",
    "        pp.append(row['num_patterns']/row['num_sites'])\n",
    "    df[\"pattern_proportion\"] = pp\n",
    "    \n",
    "def add_pattern_entropy(df):\n",
    "    pe = []\n",
    "    for index, row in df.iterrows():\n",
    "        num_sites = row['num_sites']\n",
    "        bollback = row['bollback']\n",
    "        pe.append(-1 * (bollback + (num_sites + math.log(num_sites))))\n",
    "    df[\"pattern_entropy\"] = pe\n",
    "    \n",
    "def add_brlen_ratio(df):\n",
    "    ratio = []\n",
    "    for index, row in df.iterrows():\n",
    "        m_in = row['median_internal_brlens']\n",
    "        m_ex = row['median_external_brlens']\n",
    "        ratio.append(m_ex/m_in)\n",
    "    df[\"brlen_ratio\"] = ratio\n",
    "    \n",
    "def add_additional_columns(df):\n",
    "    add_treeness(df)\n",
    "    add_pattern_proportion(df)\n",
    "    add_pattern_entropy(df)\n",
    "    add_brlen_ratio(df)"
   ]
  },
  {
   "cell_type": "code",
   "execution_count": 5,
   "id": "5d7d871c",
   "metadata": {},
   "outputs": [],
   "source": [
    "morph_data = pd.read_parquet(\"training_data/morph/binarized.parquet\")\n",
    "lang_data = pd.read_parquet(\"training_data/lang/BIN.parquet\")\n",
    "\n",
    "cc_morph = color_concept(\"morph\")\n",
    "cc_lang = color_concept(\"lang\")\n",
    "\n",
    "add_additional_columns(morph_data)\n",
    "add_additional_columns(lang_data)\n"
   ]
  },
  {
   "cell_type": "code",
   "execution_count": 13,
   "id": "2b4565e5",
   "metadata": {},
   "outputs": [
    {
     "name": "stdout",
     "output_type": "stream",
     "text": [
      "                             verbose_name  difficult\n",
      "124            ratcliffearabic.BIN.cc.phy   0.956267\n",
      "156             chacontukanoan.BIN.cc.phy   0.949573\n",
      "68                        bdpa.BIN.cc.phy   0.896677\n",
      "161  bodyobjectcolexifications.BIN.cc.phy   0.832842\n",
      "122                      sails.BIN.ms.phy   0.807354\n",
      "31               gravinachadic.BIN.cc.phy   0.793797\n",
      "36         kesslersignificance.BIN.cc.phy   0.791602\n",
      "13                    allenbai.BIN.mp.phy   0.788242\n",
      "19            Nuclear-Macro-Je.BIN.cc.phy   0.778534\n",
      "72          diacl_southamerica.BIN.ms.phy   0.755549\n",
      "94            lionnetyotonahua.BIN.cc.phy   0.754266\n",
      "211               Austronesian.BIN.cc.phy   0.747397\n",
      "219            North_Halmahera.BIN.cc.phy   0.744239\n",
      "91               hsiuhmongmien.BIN.cc.phy   0.743258\n",
      "236               beidasinitic.BIN.cc.phy   0.734884\n",
      "123              diacl_eurasia.BIN.ms.phy   0.723450\n",
      "239                Lakes_Plain.BIN.cc.phy   0.716046\n",
      "242                Otomanguean.BIN.cc.phy   0.710765\n",
      "190                    simsrma.BIN.cc.phy   0.710692\n",
      "62            ceolin_et_al2020.BIN.ms.phy   0.699824\n",
      "144                      Algic.BIN.cc.phy   0.696570\n",
      "166               mouton_atlas.BIN.ms.phy   0.696390\n",
      "215              meloniromance.BIN.cc.phy   0.677259\n",
      "32                        cals.BIN.cc.phy   0.673553\n",
      "229                      Mande.BIN.cc.phy   0.667295\n",
      "18                Afro-Asiatic.BIN.cc.phy   0.660910\n",
      "152    Athapaskan-Eyak-Tlingit.BIN.cc.phy   0.659919\n",
      "208                     Turkic.BIN.cc.phy   0.657182\n",
      "180                  Tai-Kadai.BIN.cc.phy   0.651124\n",
      "126              Indo-European.BIN.cc.phy   0.645064\n",
      "171         robbeets_et_al2021.BIN.cc.phy   0.641171\n",
      "83                 Uto-Aztecan.BIN.cc.phy   0.640655\n",
      "192                      Ijoid.BIN.cc.phy   0.640586\n",
      "65           Timor-Alor-Pantar.BIN.cc.phy   0.637160\n",
      "86                      seabor.BIN.cc.phy   0.629854\n",
      "195                   Chibchan.BIN.cc.phy   0.625047\n",
      "67             power_et_al2020.BIN.cc.phy   0.622860\n",
      "191      sicoli_and_holton2014.BIN.mp.phy   0.620543\n",
      "233         Nuclear_Torricelli.BIN.cc.phy   0.620320\n",
      "221                crossandean.BIN.cc.phy   0.614946\n",
      "15                     powerma.BIN.cc.phy   0.613509\n",
      "52                       Mayan.BIN.cc.phy   0.611462\n",
      "39        lee_and_hasegawa2011.BIN.cc.phy   0.606644\n",
      "27              Atlantic-Congo.BIN.cc.phy   0.600183\n",
      "107                        Sko.BIN.cc.phy   0.597922\n",
      "76                         Tuu.BIN.cc.phy   0.597403\n",
      "235                      ewave.BIN.ms.phy   0.591621\n",
      "182     kaiping_and_klamer2022.BIN.cc.phy   0.589086\n",
      "125                   Quechuan.BIN.cc.phy   0.588971\n",
      "193                     Tupian.BIN.cc.phy   0.585144\n",
      "2              Central_Sudanic.BIN.cc.phy   0.583071\n",
      "249          Eastern_Trans-Fly.BIN.cc.phy   0.582254\n",
      "93    Nuclear_Trans_New_Guinea.BIN.cc.phy   0.581921\n",
      "243               Sino-Tibetan.BIN.cc.phy   0.577303\n",
      "164                      tuled.BIN.cc.phy   0.567257\n",
      "108                  Huitotoan.BIN.sc.phy   0.560251\n",
      "120                Uto-Aztecan.BIN.sc.phy   0.558286\n",
      "46                Austronesian.BIN.sc.phy   0.550659\n",
      "247               Pama-Nyungan.BIN.cc.phy   0.548573\n",
      "241                 leejaponic.BIN.cc.phy   0.545063\n",
      "22               Austroasiatic.BIN.cc.phy   0.541615\n",
      "210                  Tai-Kadai.BIN.sc.phy   0.541048\n",
      "5               Atlantic-Congo.BIN.sc.phy   0.536450\n",
      "44            currie_et_al2013.BIN.cc.phy   0.534778\n",
      "170            nagarajakhasian.BIN.cc.phy   0.531006\n",
      "150                       Anim.BIN.cc.phy   0.528122\n",
      "73             North_Halmahera.BIN.sc.phy   0.523751\n",
      "7                 Pama-Nyungan.BIN.sc.phy   0.521620\n",
      "240        defilippo_et_al2012.BIN.cc.phy   0.520274\n",
      "104              Indo-European.BIN.sc.phy   0.519940\n",
      "159                Gunwinyguan.BIN.cc.phy   0.518670\n",
      "29                Afro-Asiatic.BIN.sc.phy   0.517910\n",
      "4                 Sino-Tibetan.BIN.sc.phy   0.515937\n",
      "109       grollemund_et_al2015.BIN.cc.phy   0.514471\n",
      "132            grollemundbantu.BIN.cc.phy   0.506049\n",
      "6          bouckaert_et_al2018.BIN.cc.phy   0.497503\n",
      "204                  Huitotoan.BIN.cc.phy   0.493629\n",
      "245                  bowernpny.BIN.cc.phy   0.493276\n",
      "172            koile_et_al2022.BIN.cc.phy   0.493181\n",
      "33    Nuclear_Trans_New_Guinea.BIN.sc.phy   0.492242\n",
      "38             starostinaltaic.BIN.cc.phy   0.485501\n",
      "158                   Mongolic.BIN.cc.phy   0.480101\n",
      "248         nagaraja_et_al2013.BIN.cc.phy   0.469999\n",
      "197                      Angan.BIN.cc.phy   0.465024\n",
      "228             gray_et_al2009.BIN.cc.phy   0.458615\n",
      "79                 abvdoceanic.BIN.cc.phy   0.450742\n",
      "88                        Ainu.BIN.cc.phy   0.447657\n",
      "60                    Sentanic.BIN.sc.phy   0.446910\n",
      "111                 utoaztecan.BIN.cc.phy   0.440649\n",
      "54         heggarty_et_al_subm.BIN.cc.phy   0.436675\n",
      "12           blustaustronesian.BIN.cc.phy   0.434874\n",
      "147       listcognatebenchmark.BIN.cc.phy   0.427424\n",
      "209                  zhoubizic.BIN.mp.phy   0.426456\n",
      "168              sidwellvietic.BIN.cc.phy   0.416778\n",
      "45                  Khoe-Kwadi.BIN.cc.phy   0.415742\n",
      "59                     Chocoan.BIN.cc.phy   0.414707\n",
      "37              zhangrgyalrong.BIN.cc.phy   0.410505\n",
      "131                     Tupian.BIN.sc.phy   0.405868\n",
      "196              Austroasiatic.BIN.sc.phy   0.405730\n",
      "174                   Sentanic.BIN.cc.phy   0.402078\n",
      "63               Cochimi-Yuman.BIN.cc.phy   0.400510\n",
      "227                      Mayan.BIN.sc.phy   0.400189\n",
      "206                    Japonic.BIN.cc.phy   0.391390\n",
      "81         gray_and_jordan2000.BIN.cc.phy   0.389213\n",
      "102                    Chocoan.BIN.sc.phy   0.365732\n",
      "116               Eskimo-Aleut.BIN.cc.phy   0.359988\n",
      "14                chaconbaniwa.BIN.cc.phy   0.358187\n",
      "113                        Tuu.BIN.sc.phy   0.349910\n",
      "165                    zhangst.BIN.cc.phy   0.345961\n",
      "205                   dagloans.BIN.cc.phy   0.345177\n",
      "213              saenkoromance.BIN.cc.phy   0.330133\n",
      "78                      Siouan.BIN.cc.phy   0.328869\n",
      "140                  Dravidian.BIN.cc.phy   0.319749\n",
      "112          chechuroborrowing.BIN.cc.phy   0.310104\n",
      "256                   yanglalo.BIN.cc.phy   0.303505\n",
      "155              felekesemitic.BIN.cc.phy   0.301518\n",
      "130             listsamplesize.BIN.cc.phy   0.297983\n",
      "167          Eastern_Trans-Fly.BIN.sc.phy   0.291648\n",
      "80           Nakh-Daghestanian.BIN.cc.phy   0.290525\n",
      "217          Timor-Alor-Pantar.BIN.sc.phy   0.282859\n",
      "85                    Tucanoan.BIN.cc.phy   0.282729\n",
      "139                    Nilotic.BIN.cc.phy   0.273038\n",
      "153                      Sepik.BIN.cc.phy   0.269541\n",
      "253             Kadugli-Krongo.BIN.cc.phy   0.267607\n",
      "238            Central_Sudanic.BIN.sc.phy   0.267364\n",
      "187               Pano-Tacanan.BIN.sc.phy   0.239823\n",
      "203                     Bosavi.BIN.cc.phy   0.238864\n",
      "41                Pano-Tacanan.BIN.cc.phy   0.238723\n",
      "92                   Totonacan.BIN.cc.phy   0.238246\n",
      "137                      Mande.BIN.sc.phy   0.229129\n",
      "184                   Arawakan.BIN.cc.phy   0.222763\n",
      "66             zhang_et_al2019.BIN.cc.phy   0.211297\n",
      "201          Nakh-Daghestanian.BIN.sc.phy   0.205617\n",
      "1                        Algic.BIN.sc.phy   0.202337\n",
      "223                      Ijoid.BIN.sc.phy   0.192450\n",
      "105                   peirosst.BIN.cc.phy   0.188407\n",
      "134          wals_indoeuropean.BIN.ms.phy   0.187711\n",
      "143               starostinpie.BIN.cc.phy   0.187616\n",
      "8           Nuclear_Torricelli.BIN.sc.phy   0.186168\n",
      "207     walker_and_ribeiro2011.BIN.cc.phy   0.179951\n",
      "40                 Lakes_Plain.BIN.sc.phy   0.159449\n",
      "48                  Hmong-Mien.BIN.cc.phy   0.157919\n",
      "95         bouckaert_et_al2012.BIN.cc.phy   0.157885\n",
      "169                Otomanguean.BIN.sc.phy   0.155608\n",
      "154            chaconcolumbian.BIN.cc.phy   0.149282\n",
      "230                     Turkic.BIN.sc.phy   0.145431\n",
      "96                     dravlex.BIN.cc.phy   0.141151\n",
      "47               greenhill2015.BIN.cc.phy   0.137108\n",
      "232                   Heibanic.BIN.cc.phy   0.135838\n",
      "181            syrjaenenuralic.BIN.cc.phy   0.134948\n",
      "21                    Quechuan.BIN.sc.phy   0.132865\n",
      "176                    Cariban.BIN.cc.phy   0.132561\n",
      "225                   sagartst.BIN.cc.phy   0.132250\n",
      "179                    Cariban.BIN.sc.phy   0.128063\n",
      "28                    Tucanoan.BIN.sc.phy   0.119858\n",
      "234      gray_and_atkinson2003.BIN.cc.phy   0.118162\n",
      "246           Nuclear-Macro-Je.BIN.sc.phy   0.105863\n",
      "75               Cochimi-Yuman.BIN.sc.phy   0.104356\n",
      "173          diacl_austronesia.BIN.ms.phy   0.100202\n",
      "237             starostintujia.BIN.cc.phy   0.092848\n",
      "71                       Dogon.BIN.sc.phy   0.086764\n",
      "135                    Nilotic.BIN.sc.phy   0.082178\n",
      "77                        Ainu.BIN.sc.phy   0.081229\n",
      "100                    Japonic.BIN.sc.phy   0.080682\n",
      "160             Kadugli-Krongo.BIN.sc.phy   0.078919\n",
      "97                  liusinitic.BIN.cc.phy   0.077450\n",
      "127                      gaotb.BIN.cc.phy   0.072295\n",
      "214        daniellinguafrancas.BIN.cc.phy   0.068159\n",
      "3                   Hmong-Mien.BIN.sc.phy   0.067240\n",
      "177        greenhill_et_al2017.BIN.cc.phy   0.066212\n",
      "49                  Khoe-Kwadi.BIN.sc.phy   0.065589\n",
      "142             savelyevturkic.BIN.cc.phy   0.063461\n",
      "188                    science.BIN.cc.phy   0.062996\n",
      "250                     Surmic.BIN.cc.phy   0.062303\n",
      "34                    Arawakan.BIN.sc.phy   0.060889\n",
      "26                      Uralic.BIN.cc.phy   0.057590\n",
      "84   savelyev_and_robbeets2020.BIN.cc.phy   0.056452\n",
      "224                   Chibchan.BIN.sc.phy   0.054893\n",
      "138        peirosaustroasiatic.BIN.cc.phy   0.054806\n",
      "16                       Sepik.BIN.sc.phy   0.052667\n",
      "200           dyenindoeuropean.BIN.cc.phy   0.049344\n",
      "220                 ielexfinal.BIN.cc.phy   0.049057\n",
      "145                   Salishan.BIN.cc.phy   0.048769\n",
      "149         starostinhmongmien.BIN.cc.phy   0.047808\n",
      "20                      Surmic.BIN.sc.phy   0.046896\n",
      "90                Eskimo-Aleut.BIN.sc.phy   0.046090\n",
      "11            sagart_et_al2019.BIN.cc.phy   0.044370\n",
      "115      pharaocoracholaztecan.BIN.cc.phy   0.044229\n",
      "114                     Eleman.BIN.sc.phy   0.043915\n",
      "57             sidwellbahnaric.BIN.cc.phy   0.042074\n",
      "255               Ta-Ne-Omotic.BIN.cc.phy   0.041056\n",
      "148                     Siouan.BIN.sc.phy   0.040468\n",
      "183                galuciotupi.BIN.cc.phy   0.039750\n",
      "163    Athapaskan-Eyak-Tlingit.BIN.sc.phy   0.039627\n",
      "106        kolipakam_et_al2018.BIN.cc.phy   0.037899\n",
      "87                  dunnaslian.BIN.cc.phy   0.036807\n",
      "9                    Dravidian.BIN.sc.phy   0.035902\n",
      "42                    Salishan.BIN.sc.phy   0.034372\n",
      "175               wu_et_al2020.BIN.cc.phy   0.033732\n",
      "17          luangthongkumkaren.BIN.cc.phy   0.032758\n",
      "118          constenlachibchan.BIN.cc.phy   0.030772\n",
      "110           deepadungpalaung.BIN.cc.phy   0.028625\n",
      "251                        Ndu.BIN.sc.phy   0.027117\n",
      "53                      Bosavi.BIN.sc.phy   0.026618\n",
      "10                         Sko.BIN.sc.phy   0.026612\n",
      "178                gerarditupi.BIN.cc.phy   0.026040\n",
      "98                    Heibanic.BIN.sc.phy   0.024727\n",
      "157                  dunnielex.BIN.cc.phy   0.024021\n",
      "194                 Mixe-Zoque.BIN.cc.phy   0.023872\n",
      "222                     Eleman.BIN.cc.phy   0.021171\n",
      "226                 Mixe-Zoque.BIN.sc.phy   0.019926\n",
      "121   gerardi_and_reichert2021.BIN.cc.phy   0.019711\n",
      "199                      Dogon.BIN.cc.phy   0.019658\n",
      "231             kitchensemitic.BIN.cc.phy   0.019629\n",
      "30                    Mongolic.BIN.sc.phy   0.019412\n",
      "151                   Tungusic.BIN.cc.phy   0.019199\n",
      "74              starostinkaren.BIN.cc.phy   0.018626\n",
      "218          kitchen_et_al2009.BIN.cc.phy   0.014016\n",
      "101                     Uralic.BIN.sc.phy   0.013686\n",
      "117            chang_et_al2015.BIN.cc.phy   0.013380\n",
      "146               Ta-Ne-Omotic.BIN.sc.phy   0.010263\n",
      "24               mcelhanonhuon.BIN.cc.phy   0.010202\n",
      "43              chaconarawakan.BIN.cc.phy   0.009600\n",
      "186                  Totonacan.BIN.sc.phy   0.008727\n",
      "25                  houchinese.BIN.cc.phy   0.008667\n",
      "35        greenhill_et_al_subm.BIN.cc.phy   0.008511\n",
      "244                mannburmish.BIN.cc.phy   0.004000\n",
      "252       lee_and_hasegawa2013.BIN.cc.phy   0.004000\n",
      "254             dunn_et_al2011.BIN.cc.phy   0.004000\n",
      "0                        Angan.BIN.sc.phy   0.004000\n",
      "216           egorov_et_al2022.BIN.cc.phy   0.004000\n",
      "89                  bodtkhobwa.BIN.cc.phy   0.004000\n",
      "23          walworthpolynesian.BIN.cc.phy   0.004000\n",
      "50                         Ndu.BIN.cc.phy   0.004000\n",
      "51     chaconnorthwestarawakan.BIN.cc.phy   0.004000\n",
      "55          birchall_et_al2016.BIN.cc.phy   0.004000\n",
      "56                 Gunwinyguan.BIN.sc.phy   0.004000\n",
      "58                     Kiwaian.BIN.sc.phy   0.004000\n",
      "61          oskolskayatungusic.BIN.cc.phy   0.004000\n",
      "64              hattorijaponic.BIN.cc.phy   0.004000\n",
      "69         wichmannmixezoquean.BIN.cc.phy   0.004000\n",
      "70                     Kiwaian.BIN.cc.phy   0.004000\n",
      "82                     wangbcd.BIN.cc.phy   0.004000\n",
      "99             zhivlovobugrian.BIN.cc.phy   0.004000\n",
      "212           lieberherrkhobwa.BIN.cc.phy   0.004000\n",
      "103                leekoreanic.BIN.cc.phy   0.004000\n",
      "119              carvalhopurus.BIN.cc.phy   0.004000\n",
      "129                       Anim.BIN.sc.phy   0.004000\n",
      "133          davletshinaztecan.BIN.cc.phy   0.004000\n",
      "136                    lee2015.BIN.cc.phy   0.004000\n",
      "141                    leeainu.BIN.cc.phy   0.004000\n",
      "162                   Tungusic.BIN.sc.phy   0.004000\n",
      "185                     uralex.BIN.cc.phy   0.004000\n",
      "189    robinson_and_holton2012.BIN.cc.phy   0.004000\n",
      "198                 robinsonap.BIN.cc.phy   0.004000\n",
      "202         birchallchapacuran.BIN.cc.phy   0.004000\n",
      "128       oskolskaya_et_al2021.BIN.cc.phy   0.004000\n"
     ]
    }
   ],
   "source": [
    "print(lang_data.sort_values(\"difficult\", ascending=False)[[\"verbose_name\", \"difficult\"]].to_string())\n"
   ]
  },
  {
   "cell_type": "code",
   "execution_count": 6,
   "id": "f29fd4bf",
   "metadata": {},
   "outputs": [],
   "source": [
    "#for col_name in morph_data.columns: \n",
    "#    print(col_name)"
   ]
  },
  {
   "cell_type": "code",
   "execution_count": 7,
   "id": "02622a81",
   "metadata": {},
   "outputs": [],
   "source": [
    "language_data_type = []\n",
    "for index, row in lang_data.iterrows():\n",
    "    language_data_type.append(row['verbose_name'].split(\".\")[-2])\n",
    "lang_data[\"language_data_type\"] = language_data_type\n",
    "grouped = lang_data.groupby(lang_data.language_data_type)\n",
    "cc_lang_data = grouped.get_group(\"cc\")\n",
    "sc_lang_data = grouped.get_group(\"sc\")\n",
    "ms_lang_data = pd.concat([grouped.get_group(\"ms\"),grouped.get_group(\"mp\")])"
   ]
  },
  {
   "cell_type": "code",
   "execution_count": 8,
   "id": "e54f22f7",
   "metadata": {},
   "outputs": [
    {
     "name": "stdout",
     "output_type": "stream",
     "text": [
      "Lang: mean: 1410.8287937743191\n",
      "Lang: median: 634.0\n",
      "Lang: std: 3449.636745180415\n",
      "Morph: mean: 345.287598944591\n",
      "Morph: median: 229.0\n",
      "Morph: std: 340.738560005143\n",
      "morph: 40.11609498680739\n",
      "lang: 86.50194552529183\n",
      "cc: 84.7182320441989\n",
      "sc: 93.78461538461538\n",
      "ms: 72.81818181818181\n"
     ]
    }
   ],
   "source": [
    "def statistics(col):\n",
    "    lang_mean = lang_data[col].mean()\n",
    "    lang_median = lang_data[col].median()\n",
    "    lang_std = lang_data[col].std()\n",
    "    morph_mean = morph_data[col].mean()\n",
    "    morph_median = morph_data[col].median()\n",
    "    morph_std = morph_data[col].std()\n",
    "    print(\"Lang: mean: \" + str(lang_mean))\n",
    "    print(\"Lang: median: \" + str(lang_median))\n",
    "    print(\"Lang: std: \" + str(lang_std))\n",
    "    print(\"Morph: mean: \" + str(morph_mean))\n",
    "    print(\"Morph: median: \" + str(morph_median))\n",
    "    print(\"Morph: std: \" + str(morph_std))\n",
    "    \n",
    "def means_data_types(col):\n",
    "    print(\"morph: \" + str(morph_data[col].mean()))\n",
    "    print(\"lang: \" + str(lang_data[col].mean()))\n",
    "    print(\"cc: \" + str(cc_lang_data[col].mean()))\n",
    "    print(\"sc: \" + str(sc_lang_data[col].mean()))\n",
    "    print(\"ms: \" + str(ms_lang_data[col].mean()))\n",
    "    \n",
    "\n",
    "statistics(\"num_sites\")\n",
    "means_data_types(\"num_taxa\")\n"
   ]
  },
  {
   "cell_type": "code",
   "execution_count": null,
   "id": "08ff1cca",
   "metadata": {},
   "outputs": [],
   "source": [
    "def plots_for_column(col, title, eliminate_outlier = False):\n",
    "    fig = make_subplots(\n",
    "        rows=2,\n",
    "        cols=1,\n",
    "        subplot_titles=[title, \"\"]\n",
    "    )\n",
    "\n",
    "    all_data = pd.concat([morph_data, lang_data], join=\"inner\")\n",
    "    if eliminate_outlier:\n",
    "        lower = all_data[col].quantile(0.05)\n",
    "        upper = all_data[col].quantile(0.95)\n",
    "    else:\n",
    "        lower = all_data[col].min()\n",
    "        upper = all_data[col].max()\n",
    "    \n",
    "    \n",
    "    fig.append_trace(\n",
    "        go.Histogram(\n",
    "            x=morph_data.loc[morph_data[col].between(lower, upper)][col],\n",
    "            name=\"Biological\",\n",
    "            marker_color=cc_morph.get_model_color(\"BIN\"),\n",
    "            showlegend=True\n",
    "            #, histnorm=\"percent\",\n",
    "        ),\n",
    "        row=1,\n",
    "        col=1\n",
    "    )\n",
    "    fig.append_trace(\n",
    "        go.Histogram(\n",
    "            x=lang_data.loc[lang_data[col].between(lower, upper)][col],\n",
    "            name=\"Linguistic\",\n",
    "            marker_color=cc_lang.get_model_color(\"BIN\"),\n",
    "            showlegend=True\n",
    "            #, histnorm=\"percent\"\n",
    "        ),\n",
    "        row=1,\n",
    "        col=1\n",
    "    )\n",
    "    \n",
    "    fig.append_trace(\n",
    "        go.Histogram(\n",
    "            x=cc_lang_data.loc[cc_lang_data[col].between(lower, upper)][col],\n",
    "            name=\"Cognate\",\n",
    "            marker_color=cc_lang.get_subtype_color(\"cc\"),\n",
    "            showlegend=True\n",
    "        ),\n",
    "        row=2,\n",
    "        col=1\n",
    "    )\n",
    "    fig.append_trace(\n",
    "        go.Histogram(\n",
    "            x=sc_lang_data.loc[sc_lang_data[col].between(lower, upper)][col],\n",
    "            name=\"Soundclass\",\n",
    "            marker_color=cc_lang.get_subtype_color(\"sc\"),\n",
    "            showlegend=True\n",
    "        ),\n",
    "        row=2,\n",
    "        col=1\n",
    "    )\n",
    "    fig.append_trace(\n",
    "        go.Histogram(\n",
    "            x=ms_lang_data.loc[ms_lang_data[col].between(lower, upper)][col],\n",
    "            name=\"Morphological\",\n",
    "            marker_color=cc_lang.get_subtype_color(\"ms\"),\n",
    "            showlegend=True\n",
    "        ),\n",
    "        row=2,\n",
    "        col=1\n",
    "    )\n",
    "    return fig\n",
    "\n",
    "column = \"entropy\"\n",
    "plots_for_column(column, \"Entropy\", True).update_layout(template=\"plotly_white\", height=700)\n",
    "#plots_for_column(column).write_image(column + \".png\") "
   ]
  },
  {
   "cell_type": "code",
   "execution_count": 14,
   "id": "53466f8e",
   "metadata": {},
   "outputs": [
    {
     "data": {
      "application/vnd.plotly.v1+json": {
       "config": {
        "plotlyServerURL": "https://plot.ly"
       },
       "data": [
        {
         "histnorm": "percent",
         "marker": {
          "color": "#23A1E0"
         },
         "name": "Biological",
         "showlegend": true,
         "type": "histogram",
         "x": [
          0.0319016,
          0.22649333333333335,
          0.2975622,
          0.0338896,
          0.4126073142857143,
          0.5810848,
          0.3900596,
          0.1663074,
          0.5890958461538461,
          0.034205200000000005,
          0.004,
          0.004,
          0.09627229795918368,
          0.009072802020202022,
          0.022020400000000002,
          0.05988511914893618,
          0.2532913647058823,
          0.15728479999999997,
          0.5983148210526317,
          0.3963820461538462,
          0.12591036326530614,
          0.021087232653061228,
          0.282063952688172,
          0.009798002020202022,
          0.4377990967741935,
          0.004,
          0.35534957681159424,
          0.28563635087719297,
          0.5525628666666667,
          0.5511859333333333,
          0.2708936317460317,
          0.3618360512820512,
          0.004,
          0.18072474736842103,
          0.008612802020202022,
          0.004,
          0.20305936551724138,
          0.010327802020202021,
          0.503294082352941,
          0.028049408080808087,
          0.12545375652173912,
          0.0311988,
          0.04399,
          0.1064244,
          0.0708900888888889,
          0.07007301616161618,
          0.026855200000000003,
          0.6582173974025973,
          0.09138559999999998,
          0.1802128,
          0.176068,
          0.015240400000000001,
          0.004,
          0.19509993333333334,
          0.29097983636363633,
          0.6562673777777778,
          0.3186880571428571,
          0.45689659726027393,
          0.10395126666666665,
          0.0743324181818182,
          0.004,
          0.33508367692307695,
          0.04062193763440859,
          0.14242963157894736,
          0.3227885130434783,
          0.004,
          0.004,
          0.004,
          0.0647828,
          0.30848504444444447,
          0.6346063512195121,
          0.4796024210526316,
          0.4427990987951807,
          0.0721068,
          0.16406619591836735,
          0.034205200000000005,
          0.4716613818181818,
          0.004,
          0.38355489473684207,
          0.5083591157894738,
          0.6197021333333333,
          0.38439627619047617,
          0.26170564615384617,
          0.28316728888888887,
          0.0228332,
          0.10115978969072166,
          0.22547993333333333,
          0.05143208163265307,
          0.03313000000000001,
          0.052923599999999994,
          0.07735881414141414,
          0.19920025714285716,
          0.20258124347826084,
          0.17011426315789474,
          0.0092172,
          0.6073833925925926,
          0.23241304761904757,
          0.22014711304347828,
          0.07187879999999999,
          0.4490404,
          0.10403759999999998,
          0.6163868,
          0.16872983820224718,
          0.0332524,
          0.07495586530612244,
          0.46809042105263166,
          0.6795051939393939,
          0.2861656,
          0.02162,
          0.38762940000000007,
          0.02273573333333334,
          0.0321308,
          0.05981673333333334,
          0.4215589813953489,
          0.5116153389830509,
          0.11914562702702702,
          0.6077454631578947,
          0.3282897846153846,
          0.09451760000000001,
          0.035558799999999995,
          0.4758797951219512,
          0.004,
          0.45075112413793106,
          0.0377884,
          0.014707416326530614,
          0.24196004444444447,
          0.004,
          0.004,
          0.14116550574712644,
          0.0405252,
          0.3714161529411764,
          0.2707794190476191,
          0.0253648,
          0.0495434752688172,
          0.5764442558139535,
          0.08957928837209303,
          0.07370271134020619,
          0.18247432727272728,
          0.2811794909090909,
          0.5155627555555555,
          0.5155627555555555,
          0.3824357692307692,
          0.3084726888888889,
          0.0536476,
          0.022810000000000004,
          0.0789012,
          0.0792848,
          0.07938920000000001,
          0.04458251578947369,
          0.3569146731707318,
          0.004,
          0.26108972183908047,
          0.1550684,
          0.15458053608247424,
          0.08620559512195122,
          0.38646538181818185,
          0.32747621538461535,
          0.004,
          0.0536628,
          0.06513120000000001,
          0.0911741052631579,
          0.03408020808080808,
          0.2514687523809524,
          0.09440726666666667,
          0.0516072,
          0.0930310101010101,
          0.004,
          0.13125990909090907,
          0.37690574285714284,
          0.4120482516129032,
          0.021296804040404044,
          0.19234108163265304,
          0.07115160000000001,
          0.10275102268041239,
          0.10127280000000001,
          0.6368451272727274,
          0.0189064,
          0.25482453513513514,
          0.017833599999999998,
          0.3095424608695653,
          0.6163868,
          0.44295495555555553,
          0.24249467228915664,
          0.14625446804123712,
          0.09491736326530612,
          0.6643362808510638,
          0.08963360000000001,
          0.4816468736842106,
          0.055008822680412385,
          0.21780059999999998,
          0.6785432,
          0.4441873333333334,
          0.3631743534883721,
          0.1311356,
          0.0800404,
          0.0334,
          0.204202,
          0.004,
          0.3126505789473685,
          0.2878402686567164,
          0.025008006060606065,
          0.2207088,
          0.4891467555555556,
          0.20303606206896552,
          0.17559013191489364,
          0.3839296490566037,
          0.019198399999999997,
          0.1490666551724138,
          0.26311050864197527,
          0.45050999999999997,
          0.6587225473684211,
          0.11303784897959186,
          0.04877198947368422,
          0.67824,
          0.004,
          0.004,
          0.3518097272727273,
          0.0414372,
          0.2496863106382979,
          0.07732434693877552,
          0.6453854222222223,
          0.004,
          0.3342309473684211,
          0.23278065853658533,
          0.03799999999999999,
          0.004,
          0.20646086666666666,
          0.33757529629629623,
          0.31712853333333335,
          0.004,
          0.20610332972972972,
          0.0339392,
          0.06454341414141415,
          0.042170859574468096,
          0.19265315789473686,
          0.0159732,
          0.10919763030303031,
          0.5824763333333334,
          0.05157080000000001,
          0.22014711304347828,
          0.5416143703703703,
          0.11241366666666668,
          0.09989079999999999,
          0.15543381758241756,
          0.09915159999999999,
          0.1585736,
          0.37572054054054055,
          0.04410560606060606,
          0.2576867897435897,
          0.32486429620253165,
          0.0400088,
          0.696546,
          0.040884000000000004,
          0.056401014141414144,
          0.004,
          0.0189528556701031,
          0.02908,
          0.0674748,
          0.3814507294117647,
          0.08266280000000001,
          0.008094,
          0.058430941176470595,
          0.5920043999999999,
          0.016223599999999998,
          0.058811999999999996,
          0.11398421978021978,
          0.6745498571428572,
          0.269499,
          0.5975821333333333,
          0.18108923255813952,
          0.0426908,
          0.24196004444444447,
          0.03149804897959184,
          0.22463669565217392,
          0.17227448421052632,
          0.04185119999999999,
          0.4430411333333333,
          0.5381337096774194,
          0.6411724,
          0.1929029142857143,
          0.18809123478260867,
          0.0635844,
          0.6402414444444445,
          0.10801750103092785,
          0.6080664666666666,
          0.1538976695652174,
          0.010877600000000001,
          0.09397231428571429,
          0.25509277377049183,
          0.047023075268817195,
          0.0422628,
          0.5453523428571428,
          0.036546800000000004,
          0.5562752941176471,
          0.13951684536082476,
          0.009411600000000001,
          0.0343652,
          0.3793236606060606,
          0.10512041010101011,
          0.03485360404040404,
          0.07500456326530612,
          0.14933883157894737,
          0.22739658947368419,
          0.38628358271604935,
          0.2245181569620253,
          0.0913708101010101,
          0.13531320000000002,
          0.1209330210526316,
          0.06384811428571428,
          0.24249467228915664,
          0.22243822608695654,
          0.3477803517241379,
          0.07896841616161618,
          0.025944000000000002,
          0.471837,
          0.39861688695652175,
          0.3627118,
          0.004,
          0.1817358666666667,
          0.004,
          0.013236404040404043,
          0.6591878,
          0.08811093333333334,
          0.6388628492753623,
          0.0082668,
          0.3260966888888889,
          0.6769174492753623,
          0.17308131340206184,
          0.6386986461538461,
          0.021087232653061228,
          0.11764640000000001,
          0.0208,
          0.09018635670103092,
          0.19680998426966292,
          0.16570322077922078,
          0.5760533945945946,
          0.07348421212121212,
          0.3808352275862069,
          0.017406,
          0.09890007710843375,
          0.1590548608695652,
          0.004,
          0.29915812643678164,
          0.6494244,
          0.6516780000000001,
          0.004,
          0.382837105882353,
          0.2849456631578947,
          0.14485041414141414,
          0.13792980000000002,
          0.3171571724137931,
          0.4845968,
          0.13977212307692308,
          0.05690897872340426,
          0.0639692,
          0.12034822626262627,
          0.41854420000000003,
          0.004,
          0.27866720487804886,
          0.0193488556701031,
          0.5923382,
          0.004,
          0.16917716543209876,
          0.5764442558139535,
          0.02852771134020619,
          0.14171166086956521,
          0.08707079999999999
         ],
         "xaxis": "x",
         "yaxis": "y"
        },
        {
         "histnorm": "percent",
         "marker": {
          "color": "#A22223"
         },
         "name": "Linguistic",
         "showlegend": true,
         "type": "histogram",
         "x": [
          0.004,
          0.2023367090909091,
          0.583071387012987,
          0.06723960000000001,
          0.5159368,
          0.5364502,
          0.4975028,
          0.5216198727272727,
          0.1861684476190476,
          0.035902,
          0.026611600000000003,
          0.0443704,
          0.43487398709677416,
          0.35818726486486485,
          0.6135086492753623,
          0.0526668,
          0.0327576,
          0.6609101555555557,
          0.0468956,
          0.1328646761904762,
          0.5416148476190477,
          0.004,
          0.010202002020202022,
          0.008666799999999999,
          0.057590212121212125,
          0.6001832222222223,
          0.11985799999999999,
          0.5179096000000001,
          0.0194124,
          0.673553,
          0.4922424476190477,
          0.06088911428571429,
          0.0085108,
          0.410505,
          0.4855005641025641,
          0.6066439897435897,
          0.1594490705882353,
          0.23872328780487803,
          0.034372,
          0.009600000000000001,
          0.5347778492753623,
          0.41574220000000006,
          0.5506588235294118,
          0.13710840317460318,
          0.15791863174603177,
          0.0655892,
          0.004,
          0.004,
          0.6114618985915493,
          0.026618000000000003,
          0.4366746307692308,
          0.004,
          0.004,
          0.04207399999999999,
          0.004,
          0.41470651428571426,
          0.4469096,
          0.004,
          0.4005101904761904,
          0.004,
          0.6371601333333333,
          0.211297,
          0.6228604974358974,
          0.004,
          0.004,
          0.0867636,
          0.5237509714285714,
          0.018626399999999998,
          0.10435559999999999,
          0.5974026,
          0.0812292,
          0.32886888148148147,
          0.4507416186046512,
          0.2905253566265061,
          0.3892125714285714,
          0.004,
          0.6406548000000001,
          0.056451600000000005,
          0.28272857142857144,
          0.6298539999999999,
          0.0368068,
          0.44765722950819675,
          0.004,
          0.046089599999999994,
          0.23824633559322034,
          0.5819212280701754,
          0.15788524935064935,
          0.14115127341772152,
          0.07744960000000001,
          0.024727199999999998,
          0.004,
          0.08068162268041237,
          0.013686400000000001,
          0.3657315333333333,
          0.004,
          0.5199404476190477,
          0.18840712941176468,
          0.037898799999999996,
          0.5979219703703704,
          0.5602507538461537,
          0.514471,
          0.0286248,
          0.44064892258064514,
          0.3101039935483871,
          0.34990964864864865,
          0.043915408080808085,
          0.0442288,
          0.35998808571428575,
          0.013380399999999997,
          0.03077160808080808,
          0.004,
          0.5582864000000001,
          0.0197112,
          0.5889708,
          0.6450637544303797,
          0.07229479999999999,
          0.004,
          0.004,
          0.29798330588235294,
          0.405868,
          0.5060485974025973,
          0.004,
          0.1877106,
          0.08217768163265307,
          0.004,
          0.22912937849462364,
          0.054805599999999996,
          0.2730384,
          0.3197489612903226,
          0.004,
          0.06346080000000001,
          0.18761638260869568,
          0.6965697936507936,
          0.0487692,
          0.010262799999999999,
          0.4274238705882352,
          0.0404676,
          0.0478076,
          0.5281219636363637,
          0.0191992,
          0.6599188,
          0.2695407789473684,
          0.14928200845070422,
          0.3015176,
          0.0240212,
          0.4801008451612903,
          0.51867,
          0.07891920000000001,
          0.004,
          0.039626800000000004,
          0.5672572,
          0.3459611194805195,
          0.6963898666666666,
          0.2916476444444444,
          0.41677797073170736,
          0.1556076904109589,
          0.5310056,
          0.6411711999999999,
          0.4931812000000001,
          0.10020199999999999,
          0.4020776,
          0.0337324,
          0.13256053333333334,
          0.06621161818181819,
          0.026039999999999997,
          0.12806283157894738,
          0.6511242571428572,
          0.13494829795918367,
          0.5890859612903225,
          0.039749599999999996,
          0.22276337777777777,
          0.004,
          0.008727200000000001,
          0.2398231217391304,
          0.0629964,
          0.004,
          0.6205428222222222,
          0.6405861851851852,
          0.5851439647058824,
          0.023871999999999997,
          0.6250470888888888,
          0.40573023414634146,
          0.46502384516129036,
          0.004,
          0.019658000000000002,
          0.049344,
          0.2056168037735849,
          0.004,
          0.2388635393939394,
          0.4936287714285714,
          0.3451767555555556,
          0.3913902888888889,
          0.1799506857142857,
          0.6571815968253969,
          0.42645625,
          0.5410479756097561,
          0.004,
          0.33013276744186043,
          0.06815922222222222,
          0.6772592,
          0.004,
          0.2828590584269663,
          0.014016400000000002,
          0.0490568,
          0.6149462,
          0.02117133333333334,
          0.19244989213483146,
          0.0548928,
          0.13225042702702702,
          0.019926000000000003,
          0.40018940000000003,
          0.4586153614457831,
          0.6672950969696969,
          0.14543066666666668,
          0.0196292,
          0.1358384,
          0.6203195512195121,
          0.11816176543209875,
          0.5916214392156862,
          0.09284840000000001,
          0.26736377142857143,
          0.5202739333333334,
          0.5450634345679013,
          0.5773027544303797,
          0.004,
          0.493276096969697,
          0.1058632,
          0.5485728,
          0.4699990761904762,
          0.5822537435897436,
          0.0623032,
          0.027116800000000003,
          0.004,
          0.2676071789473684,
          0.004,
          0.0410564,
          0.30350459999999996
         ],
         "xaxis": "x",
         "yaxis": "y"
        }
       ],
       "layout": {
        "annotations": [
         {
          "font": {
           "size": 16
          },
          "showarrow": false,
          "text": "Difficulty score",
          "x": 0.5,
          "xanchor": "center",
          "xref": "paper",
          "y": 0,
          "yanchor": "top",
          "yref": "paper",
          "yshift": -30
         },
         {
          "font": {
           "size": 16
          },
          "showarrow": false,
          "text": "Proportion of MSAs",
          "textangle": -90,
          "x": 0,
          "xanchor": "right",
          "xref": "paper",
          "xshift": -40,
          "y": 0.5,
          "yanchor": "middle",
          "yref": "paper"
         }
        ],
        "height": 600,
        "template": {
         "data": {
          "bar": [
           {
            "error_x": {
             "color": "#2a3f5f"
            },
            "error_y": {
             "color": "#2a3f5f"
            },
            "marker": {
             "line": {
              "color": "white",
              "width": 0.5
             },
             "pattern": {
              "fillmode": "overlay",
              "size": 10,
              "solidity": 0.2
             }
            },
            "type": "bar"
           }
          ],
          "barpolar": [
           {
            "marker": {
             "line": {
              "color": "white",
              "width": 0.5
             },
             "pattern": {
              "fillmode": "overlay",
              "size": 10,
              "solidity": 0.2
             }
            },
            "type": "barpolar"
           }
          ],
          "carpet": [
           {
            "aaxis": {
             "endlinecolor": "#2a3f5f",
             "gridcolor": "#C8D4E3",
             "linecolor": "#C8D4E3",
             "minorgridcolor": "#C8D4E3",
             "startlinecolor": "#2a3f5f"
            },
            "baxis": {
             "endlinecolor": "#2a3f5f",
             "gridcolor": "#C8D4E3",
             "linecolor": "#C8D4E3",
             "minorgridcolor": "#C8D4E3",
             "startlinecolor": "#2a3f5f"
            },
            "type": "carpet"
           }
          ],
          "choropleth": [
           {
            "colorbar": {
             "outlinewidth": 0,
             "ticks": ""
            },
            "type": "choropleth"
           }
          ],
          "contour": [
           {
            "colorbar": {
             "outlinewidth": 0,
             "ticks": ""
            },
            "colorscale": [
             [
              0,
              "#0d0887"
             ],
             [
              0.1111111111111111,
              "#46039f"
             ],
             [
              0.2222222222222222,
              "#7201a8"
             ],
             [
              0.3333333333333333,
              "#9c179e"
             ],
             [
              0.4444444444444444,
              "#bd3786"
             ],
             [
              0.5555555555555556,
              "#d8576b"
             ],
             [
              0.6666666666666666,
              "#ed7953"
             ],
             [
              0.7777777777777778,
              "#fb9f3a"
             ],
             [
              0.8888888888888888,
              "#fdca26"
             ],
             [
              1,
              "#f0f921"
             ]
            ],
            "type": "contour"
           }
          ],
          "contourcarpet": [
           {
            "colorbar": {
             "outlinewidth": 0,
             "ticks": ""
            },
            "type": "contourcarpet"
           }
          ],
          "heatmap": [
           {
            "colorbar": {
             "outlinewidth": 0,
             "ticks": ""
            },
            "colorscale": [
             [
              0,
              "#0d0887"
             ],
             [
              0.1111111111111111,
              "#46039f"
             ],
             [
              0.2222222222222222,
              "#7201a8"
             ],
             [
              0.3333333333333333,
              "#9c179e"
             ],
             [
              0.4444444444444444,
              "#bd3786"
             ],
             [
              0.5555555555555556,
              "#d8576b"
             ],
             [
              0.6666666666666666,
              "#ed7953"
             ],
             [
              0.7777777777777778,
              "#fb9f3a"
             ],
             [
              0.8888888888888888,
              "#fdca26"
             ],
             [
              1,
              "#f0f921"
             ]
            ],
            "type": "heatmap"
           }
          ],
          "heatmapgl": [
           {
            "colorbar": {
             "outlinewidth": 0,
             "ticks": ""
            },
            "colorscale": [
             [
              0,
              "#0d0887"
             ],
             [
              0.1111111111111111,
              "#46039f"
             ],
             [
              0.2222222222222222,
              "#7201a8"
             ],
             [
              0.3333333333333333,
              "#9c179e"
             ],
             [
              0.4444444444444444,
              "#bd3786"
             ],
             [
              0.5555555555555556,
              "#d8576b"
             ],
             [
              0.6666666666666666,
              "#ed7953"
             ],
             [
              0.7777777777777778,
              "#fb9f3a"
             ],
             [
              0.8888888888888888,
              "#fdca26"
             ],
             [
              1,
              "#f0f921"
             ]
            ],
            "type": "heatmapgl"
           }
          ],
          "histogram": [
           {
            "marker": {
             "pattern": {
              "fillmode": "overlay",
              "size": 10,
              "solidity": 0.2
             }
            },
            "type": "histogram"
           }
          ],
          "histogram2d": [
           {
            "colorbar": {
             "outlinewidth": 0,
             "ticks": ""
            },
            "colorscale": [
             [
              0,
              "#0d0887"
             ],
             [
              0.1111111111111111,
              "#46039f"
             ],
             [
              0.2222222222222222,
              "#7201a8"
             ],
             [
              0.3333333333333333,
              "#9c179e"
             ],
             [
              0.4444444444444444,
              "#bd3786"
             ],
             [
              0.5555555555555556,
              "#d8576b"
             ],
             [
              0.6666666666666666,
              "#ed7953"
             ],
             [
              0.7777777777777778,
              "#fb9f3a"
             ],
             [
              0.8888888888888888,
              "#fdca26"
             ],
             [
              1,
              "#f0f921"
             ]
            ],
            "type": "histogram2d"
           }
          ],
          "histogram2dcontour": [
           {
            "colorbar": {
             "outlinewidth": 0,
             "ticks": ""
            },
            "colorscale": [
             [
              0,
              "#0d0887"
             ],
             [
              0.1111111111111111,
              "#46039f"
             ],
             [
              0.2222222222222222,
              "#7201a8"
             ],
             [
              0.3333333333333333,
              "#9c179e"
             ],
             [
              0.4444444444444444,
              "#bd3786"
             ],
             [
              0.5555555555555556,
              "#d8576b"
             ],
             [
              0.6666666666666666,
              "#ed7953"
             ],
             [
              0.7777777777777778,
              "#fb9f3a"
             ],
             [
              0.8888888888888888,
              "#fdca26"
             ],
             [
              1,
              "#f0f921"
             ]
            ],
            "type": "histogram2dcontour"
           }
          ],
          "mesh3d": [
           {
            "colorbar": {
             "outlinewidth": 0,
             "ticks": ""
            },
            "type": "mesh3d"
           }
          ],
          "parcoords": [
           {
            "line": {
             "colorbar": {
              "outlinewidth": 0,
              "ticks": ""
             }
            },
            "type": "parcoords"
           }
          ],
          "pie": [
           {
            "automargin": true,
            "type": "pie"
           }
          ],
          "scatter": [
           {
            "fillpattern": {
             "fillmode": "overlay",
             "size": 10,
             "solidity": 0.2
            },
            "type": "scatter"
           }
          ],
          "scatter3d": [
           {
            "line": {
             "colorbar": {
              "outlinewidth": 0,
              "ticks": ""
             }
            },
            "marker": {
             "colorbar": {
              "outlinewidth": 0,
              "ticks": ""
             }
            },
            "type": "scatter3d"
           }
          ],
          "scattercarpet": [
           {
            "marker": {
             "colorbar": {
              "outlinewidth": 0,
              "ticks": ""
             }
            },
            "type": "scattercarpet"
           }
          ],
          "scattergeo": [
           {
            "marker": {
             "colorbar": {
              "outlinewidth": 0,
              "ticks": ""
             }
            },
            "type": "scattergeo"
           }
          ],
          "scattergl": [
           {
            "marker": {
             "colorbar": {
              "outlinewidth": 0,
              "ticks": ""
             }
            },
            "type": "scattergl"
           }
          ],
          "scattermapbox": [
           {
            "marker": {
             "colorbar": {
              "outlinewidth": 0,
              "ticks": ""
             }
            },
            "type": "scattermapbox"
           }
          ],
          "scatterpolar": [
           {
            "marker": {
             "colorbar": {
              "outlinewidth": 0,
              "ticks": ""
             }
            },
            "type": "scatterpolar"
           }
          ],
          "scatterpolargl": [
           {
            "marker": {
             "colorbar": {
              "outlinewidth": 0,
              "ticks": ""
             }
            },
            "type": "scatterpolargl"
           }
          ],
          "scatterternary": [
           {
            "marker": {
             "colorbar": {
              "outlinewidth": 0,
              "ticks": ""
             }
            },
            "type": "scatterternary"
           }
          ],
          "surface": [
           {
            "colorbar": {
             "outlinewidth": 0,
             "ticks": ""
            },
            "colorscale": [
             [
              0,
              "#0d0887"
             ],
             [
              0.1111111111111111,
              "#46039f"
             ],
             [
              0.2222222222222222,
              "#7201a8"
             ],
             [
              0.3333333333333333,
              "#9c179e"
             ],
             [
              0.4444444444444444,
              "#bd3786"
             ],
             [
              0.5555555555555556,
              "#d8576b"
             ],
             [
              0.6666666666666666,
              "#ed7953"
             ],
             [
              0.7777777777777778,
              "#fb9f3a"
             ],
             [
              0.8888888888888888,
              "#fdca26"
             ],
             [
              1,
              "#f0f921"
             ]
            ],
            "type": "surface"
           }
          ],
          "table": [
           {
            "cells": {
             "fill": {
              "color": "#EBF0F8"
             },
             "line": {
              "color": "white"
             }
            },
            "header": {
             "fill": {
              "color": "#C8D4E3"
             },
             "line": {
              "color": "white"
             }
            },
            "type": "table"
           }
          ]
         },
         "layout": {
          "annotationdefaults": {
           "arrowcolor": "#2a3f5f",
           "arrowhead": 0,
           "arrowwidth": 1
          },
          "autotypenumbers": "strict",
          "coloraxis": {
           "colorbar": {
            "outlinewidth": 0,
            "ticks": ""
           }
          },
          "colorscale": {
           "diverging": [
            [
             0,
             "#8e0152"
            ],
            [
             0.1,
             "#c51b7d"
            ],
            [
             0.2,
             "#de77ae"
            ],
            [
             0.3,
             "#f1b6da"
            ],
            [
             0.4,
             "#fde0ef"
            ],
            [
             0.5,
             "#f7f7f7"
            ],
            [
             0.6,
             "#e6f5d0"
            ],
            [
             0.7,
             "#b8e186"
            ],
            [
             0.8,
             "#7fbc41"
            ],
            [
             0.9,
             "#4d9221"
            ],
            [
             1,
             "#276419"
            ]
           ],
           "sequential": [
            [
             0,
             "#0d0887"
            ],
            [
             0.1111111111111111,
             "#46039f"
            ],
            [
             0.2222222222222222,
             "#7201a8"
            ],
            [
             0.3333333333333333,
             "#9c179e"
            ],
            [
             0.4444444444444444,
             "#bd3786"
            ],
            [
             0.5555555555555556,
             "#d8576b"
            ],
            [
             0.6666666666666666,
             "#ed7953"
            ],
            [
             0.7777777777777778,
             "#fb9f3a"
            ],
            [
             0.8888888888888888,
             "#fdca26"
            ],
            [
             1,
             "#f0f921"
            ]
           ],
           "sequentialminus": [
            [
             0,
             "#0d0887"
            ],
            [
             0.1111111111111111,
             "#46039f"
            ],
            [
             0.2222222222222222,
             "#7201a8"
            ],
            [
             0.3333333333333333,
             "#9c179e"
            ],
            [
             0.4444444444444444,
             "#bd3786"
            ],
            [
             0.5555555555555556,
             "#d8576b"
            ],
            [
             0.6666666666666666,
             "#ed7953"
            ],
            [
             0.7777777777777778,
             "#fb9f3a"
            ],
            [
             0.8888888888888888,
             "#fdca26"
            ],
            [
             1,
             "#f0f921"
            ]
           ]
          },
          "colorway": [
           "#636efa",
           "#EF553B",
           "#00cc96",
           "#ab63fa",
           "#FFA15A",
           "#19d3f3",
           "#FF6692",
           "#B6E880",
           "#FF97FF",
           "#FECB52"
          ],
          "font": {
           "color": "#2a3f5f"
          },
          "geo": {
           "bgcolor": "white",
           "lakecolor": "white",
           "landcolor": "white",
           "showlakes": true,
           "showland": true,
           "subunitcolor": "#C8D4E3"
          },
          "hoverlabel": {
           "align": "left"
          },
          "hovermode": "closest",
          "mapbox": {
           "style": "light"
          },
          "paper_bgcolor": "white",
          "plot_bgcolor": "white",
          "polar": {
           "angularaxis": {
            "gridcolor": "#EBF0F8",
            "linecolor": "#EBF0F8",
            "ticks": ""
           },
           "bgcolor": "white",
           "radialaxis": {
            "gridcolor": "#EBF0F8",
            "linecolor": "#EBF0F8",
            "ticks": ""
           }
          },
          "scene": {
           "xaxis": {
            "backgroundcolor": "white",
            "gridcolor": "#DFE8F3",
            "gridwidth": 2,
            "linecolor": "#EBF0F8",
            "showbackground": true,
            "ticks": "",
            "zerolinecolor": "#EBF0F8"
           },
           "yaxis": {
            "backgroundcolor": "white",
            "gridcolor": "#DFE8F3",
            "gridwidth": 2,
            "linecolor": "#EBF0F8",
            "showbackground": true,
            "ticks": "",
            "zerolinecolor": "#EBF0F8"
           },
           "zaxis": {
            "backgroundcolor": "white",
            "gridcolor": "#DFE8F3",
            "gridwidth": 2,
            "linecolor": "#EBF0F8",
            "showbackground": true,
            "ticks": "",
            "zerolinecolor": "#EBF0F8"
           }
          },
          "shapedefaults": {
           "line": {
            "color": "#2a3f5f"
           }
          },
          "ternary": {
           "aaxis": {
            "gridcolor": "#DFE8F3",
            "linecolor": "#A2B1C6",
            "ticks": ""
           },
           "baxis": {
            "gridcolor": "#DFE8F3",
            "linecolor": "#A2B1C6",
            "ticks": ""
           },
           "bgcolor": "white",
           "caxis": {
            "gridcolor": "#DFE8F3",
            "linecolor": "#A2B1C6",
            "ticks": ""
           }
          },
          "title": {
           "x": 0.05
          },
          "xaxis": {
           "automargin": true,
           "gridcolor": "#EBF0F8",
           "linecolor": "#EBF0F8",
           "ticks": "",
           "title": {
            "standoff": 15
           },
           "zerolinecolor": "#EBF0F8",
           "zerolinewidth": 2
          },
          "yaxis": {
           "automargin": true,
           "gridcolor": "#EBF0F8",
           "linecolor": "#EBF0F8",
           "ticks": "",
           "title": {
            "standoff": 15
           },
           "zerolinecolor": "#EBF0F8",
           "zerolinewidth": 2
          }
         }
        },
        "xaxis": {
         "anchor": "y",
         "domain": [
          0,
          1
         ]
        },
        "yaxis": {
         "anchor": "x",
         "domain": [
          0,
          1
         ],
         "ticksuffix": "%"
        }
       }
      },
      "text/html": [
       "<div>                            <div id=\"fc409ab3-5ecd-456b-8b51-4fe4a23cb57f\" class=\"plotly-graph-div\" style=\"height:600px; width:100%;\"></div>            <script type=\"text/javascript\">                require([\"plotly\"], function(Plotly) {                    window.PLOTLYENV=window.PLOTLYENV || {};                                    if (document.getElementById(\"fc409ab3-5ecd-456b-8b51-4fe4a23cb57f\")) {                    Plotly.newPlot(                        \"fc409ab3-5ecd-456b-8b51-4fe4a23cb57f\",                        [{\"histnorm\":\"percent\",\"marker\":{\"color\":\"#23A1E0\"},\"name\":\"Biological\",\"showlegend\":true,\"x\":[0.0319016,0.22649333333333335,0.2975622,0.0338896,0.4126073142857143,0.5810848,0.3900596,0.1663074,0.5890958461538461,0.034205200000000005,0.004,0.004,0.09627229795918368,0.009072802020202022,0.022020400000000002,0.05988511914893618,0.2532913647058823,0.15728479999999997,0.5983148210526317,0.3963820461538462,0.12591036326530614,0.021087232653061228,0.282063952688172,0.009798002020202022,0.4377990967741935,0.004,0.35534957681159424,0.28563635087719297,0.5525628666666667,0.5511859333333333,0.2708936317460317,0.3618360512820512,0.004,0.18072474736842103,0.008612802020202022,0.004,0.20305936551724138,0.010327802020202021,0.503294082352941,0.028049408080808087,0.12545375652173912,0.0311988,0.04399,0.1064244,0.0708900888888889,0.07007301616161618,0.026855200000000003,0.6582173974025973,0.09138559999999998,0.1802128,0.176068,0.015240400000000001,0.004,0.19509993333333334,0.29097983636363633,0.6562673777777778,0.3186880571428571,0.45689659726027393,0.10395126666666665,0.0743324181818182,0.004,0.33508367692307695,0.04062193763440859,0.14242963157894736,0.3227885130434783,0.004,0.004,0.004,0.0647828,0.30848504444444447,0.6346063512195121,0.4796024210526316,0.4427990987951807,0.0721068,0.16406619591836735,0.034205200000000005,0.4716613818181818,0.004,0.38355489473684207,0.5083591157894738,0.6197021333333333,0.38439627619047617,0.26170564615384617,0.28316728888888887,0.0228332,0.10115978969072166,0.22547993333333333,0.05143208163265307,0.03313000000000001,0.052923599999999994,0.07735881414141414,0.19920025714285716,0.20258124347826084,0.17011426315789474,0.0092172,0.6073833925925926,0.23241304761904757,0.22014711304347828,0.07187879999999999,0.4490404,0.10403759999999998,0.6163868,0.16872983820224718,0.0332524,0.07495586530612244,0.46809042105263166,0.6795051939393939,0.2861656,0.02162,0.38762940000000007,0.02273573333333334,0.0321308,0.05981673333333334,0.4215589813953489,0.5116153389830509,0.11914562702702702,0.6077454631578947,0.3282897846153846,0.09451760000000001,0.035558799999999995,0.4758797951219512,0.004,0.45075112413793106,0.0377884,0.014707416326530614,0.24196004444444447,0.004,0.004,0.14116550574712644,0.0405252,0.3714161529411764,0.2707794190476191,0.0253648,0.0495434752688172,0.5764442558139535,0.08957928837209303,0.07370271134020619,0.18247432727272728,0.2811794909090909,0.5155627555555555,0.5155627555555555,0.3824357692307692,0.3084726888888889,0.0536476,0.022810000000000004,0.0789012,0.0792848,0.07938920000000001,0.04458251578947369,0.3569146731707318,0.004,0.26108972183908047,0.1550684,0.15458053608247424,0.08620559512195122,0.38646538181818185,0.32747621538461535,0.004,0.0536628,0.06513120000000001,0.0911741052631579,0.03408020808080808,0.2514687523809524,0.09440726666666667,0.0516072,0.0930310101010101,0.004,0.13125990909090907,0.37690574285714284,0.4120482516129032,0.021296804040404044,0.19234108163265304,0.07115160000000001,0.10275102268041239,0.10127280000000001,0.6368451272727274,0.0189064,0.25482453513513514,0.017833599999999998,0.3095424608695653,0.6163868,0.44295495555555553,0.24249467228915664,0.14625446804123712,0.09491736326530612,0.6643362808510638,0.08963360000000001,0.4816468736842106,0.055008822680412385,0.21780059999999998,0.6785432,0.4441873333333334,0.3631743534883721,0.1311356,0.0800404,0.0334,0.204202,0.004,0.3126505789473685,0.2878402686567164,0.025008006060606065,0.2207088,0.4891467555555556,0.20303606206896552,0.17559013191489364,0.3839296490566037,0.019198399999999997,0.1490666551724138,0.26311050864197527,0.45050999999999997,0.6587225473684211,0.11303784897959186,0.04877198947368422,0.67824,0.004,0.004,0.3518097272727273,0.0414372,0.2496863106382979,0.07732434693877552,0.6453854222222223,0.004,0.3342309473684211,0.23278065853658533,0.03799999999999999,0.004,0.20646086666666666,0.33757529629629623,0.31712853333333335,0.004,0.20610332972972972,0.0339392,0.06454341414141415,0.042170859574468096,0.19265315789473686,0.0159732,0.10919763030303031,0.5824763333333334,0.05157080000000001,0.22014711304347828,0.5416143703703703,0.11241366666666668,0.09989079999999999,0.15543381758241756,0.09915159999999999,0.1585736,0.37572054054054055,0.04410560606060606,0.2576867897435897,0.32486429620253165,0.0400088,0.696546,0.040884000000000004,0.056401014141414144,0.004,0.0189528556701031,0.02908,0.0674748,0.3814507294117647,0.08266280000000001,0.008094,0.058430941176470595,0.5920043999999999,0.016223599999999998,0.058811999999999996,0.11398421978021978,0.6745498571428572,0.269499,0.5975821333333333,0.18108923255813952,0.0426908,0.24196004444444447,0.03149804897959184,0.22463669565217392,0.17227448421052632,0.04185119999999999,0.4430411333333333,0.5381337096774194,0.6411724,0.1929029142857143,0.18809123478260867,0.0635844,0.6402414444444445,0.10801750103092785,0.6080664666666666,0.1538976695652174,0.010877600000000001,0.09397231428571429,0.25509277377049183,0.047023075268817195,0.0422628,0.5453523428571428,0.036546800000000004,0.5562752941176471,0.13951684536082476,0.009411600000000001,0.0343652,0.3793236606060606,0.10512041010101011,0.03485360404040404,0.07500456326530612,0.14933883157894737,0.22739658947368419,0.38628358271604935,0.2245181569620253,0.0913708101010101,0.13531320000000002,0.1209330210526316,0.06384811428571428,0.24249467228915664,0.22243822608695654,0.3477803517241379,0.07896841616161618,0.025944000000000002,0.471837,0.39861688695652175,0.3627118,0.004,0.1817358666666667,0.004,0.013236404040404043,0.6591878,0.08811093333333334,0.6388628492753623,0.0082668,0.3260966888888889,0.6769174492753623,0.17308131340206184,0.6386986461538461,0.021087232653061228,0.11764640000000001,0.0208,0.09018635670103092,0.19680998426966292,0.16570322077922078,0.5760533945945946,0.07348421212121212,0.3808352275862069,0.017406,0.09890007710843375,0.1590548608695652,0.004,0.29915812643678164,0.6494244,0.6516780000000001,0.004,0.382837105882353,0.2849456631578947,0.14485041414141414,0.13792980000000002,0.3171571724137931,0.4845968,0.13977212307692308,0.05690897872340426,0.0639692,0.12034822626262627,0.41854420000000003,0.004,0.27866720487804886,0.0193488556701031,0.5923382,0.004,0.16917716543209876,0.5764442558139535,0.02852771134020619,0.14171166086956521,0.08707079999999999],\"type\":\"histogram\",\"xaxis\":\"x\",\"yaxis\":\"y\"},{\"histnorm\":\"percent\",\"marker\":{\"color\":\"#A22223\"},\"name\":\"Linguistic\",\"showlegend\":true,\"x\":[0.004,0.2023367090909091,0.583071387012987,0.06723960000000001,0.5159368,0.5364502,0.4975028,0.5216198727272727,0.1861684476190476,0.035902,0.026611600000000003,0.0443704,0.43487398709677416,0.35818726486486485,0.6135086492753623,0.0526668,0.0327576,0.6609101555555557,0.0468956,0.1328646761904762,0.5416148476190477,0.004,0.010202002020202022,0.008666799999999999,0.057590212121212125,0.6001832222222223,0.11985799999999999,0.5179096000000001,0.0194124,0.673553,0.4922424476190477,0.06088911428571429,0.0085108,0.410505,0.4855005641025641,0.6066439897435897,0.1594490705882353,0.23872328780487803,0.034372,0.009600000000000001,0.5347778492753623,0.41574220000000006,0.5506588235294118,0.13710840317460318,0.15791863174603177,0.0655892,0.004,0.004,0.6114618985915493,0.026618000000000003,0.4366746307692308,0.004,0.004,0.04207399999999999,0.004,0.41470651428571426,0.4469096,0.004,0.4005101904761904,0.004,0.6371601333333333,0.211297,0.6228604974358974,0.004,0.004,0.0867636,0.5237509714285714,0.018626399999999998,0.10435559999999999,0.5974026,0.0812292,0.32886888148148147,0.4507416186046512,0.2905253566265061,0.3892125714285714,0.004,0.6406548000000001,0.056451600000000005,0.28272857142857144,0.6298539999999999,0.0368068,0.44765722950819675,0.004,0.046089599999999994,0.23824633559322034,0.5819212280701754,0.15788524935064935,0.14115127341772152,0.07744960000000001,0.024727199999999998,0.004,0.08068162268041237,0.013686400000000001,0.3657315333333333,0.004,0.5199404476190477,0.18840712941176468,0.037898799999999996,0.5979219703703704,0.5602507538461537,0.514471,0.0286248,0.44064892258064514,0.3101039935483871,0.34990964864864865,0.043915408080808085,0.0442288,0.35998808571428575,0.013380399999999997,0.03077160808080808,0.004,0.5582864000000001,0.0197112,0.5889708,0.6450637544303797,0.07229479999999999,0.004,0.004,0.29798330588235294,0.405868,0.5060485974025973,0.004,0.1877106,0.08217768163265307,0.004,0.22912937849462364,0.054805599999999996,0.2730384,0.3197489612903226,0.004,0.06346080000000001,0.18761638260869568,0.6965697936507936,0.0487692,0.010262799999999999,0.4274238705882352,0.0404676,0.0478076,0.5281219636363637,0.0191992,0.6599188,0.2695407789473684,0.14928200845070422,0.3015176,0.0240212,0.4801008451612903,0.51867,0.07891920000000001,0.004,0.039626800000000004,0.5672572,0.3459611194805195,0.6963898666666666,0.2916476444444444,0.41677797073170736,0.1556076904109589,0.5310056,0.6411711999999999,0.4931812000000001,0.10020199999999999,0.4020776,0.0337324,0.13256053333333334,0.06621161818181819,0.026039999999999997,0.12806283157894738,0.6511242571428572,0.13494829795918367,0.5890859612903225,0.039749599999999996,0.22276337777777777,0.004,0.008727200000000001,0.2398231217391304,0.0629964,0.004,0.6205428222222222,0.6405861851851852,0.5851439647058824,0.023871999999999997,0.6250470888888888,0.40573023414634146,0.46502384516129036,0.004,0.019658000000000002,0.049344,0.2056168037735849,0.004,0.2388635393939394,0.4936287714285714,0.3451767555555556,0.3913902888888889,0.1799506857142857,0.6571815968253969,0.42645625,0.5410479756097561,0.004,0.33013276744186043,0.06815922222222222,0.6772592,0.004,0.2828590584269663,0.014016400000000002,0.0490568,0.6149462,0.02117133333333334,0.19244989213483146,0.0548928,0.13225042702702702,0.019926000000000003,0.40018940000000003,0.4586153614457831,0.6672950969696969,0.14543066666666668,0.0196292,0.1358384,0.6203195512195121,0.11816176543209875,0.5916214392156862,0.09284840000000001,0.26736377142857143,0.5202739333333334,0.5450634345679013,0.5773027544303797,0.004,0.493276096969697,0.1058632,0.5485728,0.4699990761904762,0.5822537435897436,0.0623032,0.027116800000000003,0.004,0.2676071789473684,0.004,0.0410564,0.30350459999999996],\"type\":\"histogram\",\"xaxis\":\"x\",\"yaxis\":\"y\"}],                        {\"template\":{\"data\":{\"barpolar\":[{\"marker\":{\"line\":{\"color\":\"white\",\"width\":0.5},\"pattern\":{\"fillmode\":\"overlay\",\"size\":10,\"solidity\":0.2}},\"type\":\"barpolar\"}],\"bar\":[{\"error_x\":{\"color\":\"#2a3f5f\"},\"error_y\":{\"color\":\"#2a3f5f\"},\"marker\":{\"line\":{\"color\":\"white\",\"width\":0.5},\"pattern\":{\"fillmode\":\"overlay\",\"size\":10,\"solidity\":0.2}},\"type\":\"bar\"}],\"carpet\":[{\"aaxis\":{\"endlinecolor\":\"#2a3f5f\",\"gridcolor\":\"#C8D4E3\",\"linecolor\":\"#C8D4E3\",\"minorgridcolor\":\"#C8D4E3\",\"startlinecolor\":\"#2a3f5f\"},\"baxis\":{\"endlinecolor\":\"#2a3f5f\",\"gridcolor\":\"#C8D4E3\",\"linecolor\":\"#C8D4E3\",\"minorgridcolor\":\"#C8D4E3\",\"startlinecolor\":\"#2a3f5f\"},\"type\":\"carpet\"}],\"choropleth\":[{\"colorbar\":{\"outlinewidth\":0,\"ticks\":\"\"},\"type\":\"choropleth\"}],\"contourcarpet\":[{\"colorbar\":{\"outlinewidth\":0,\"ticks\":\"\"},\"type\":\"contourcarpet\"}],\"contour\":[{\"colorbar\":{\"outlinewidth\":0,\"ticks\":\"\"},\"colorscale\":[[0.0,\"#0d0887\"],[0.1111111111111111,\"#46039f\"],[0.2222222222222222,\"#7201a8\"],[0.3333333333333333,\"#9c179e\"],[0.4444444444444444,\"#bd3786\"],[0.5555555555555556,\"#d8576b\"],[0.6666666666666666,\"#ed7953\"],[0.7777777777777778,\"#fb9f3a\"],[0.8888888888888888,\"#fdca26\"],[1.0,\"#f0f921\"]],\"type\":\"contour\"}],\"heatmapgl\":[{\"colorbar\":{\"outlinewidth\":0,\"ticks\":\"\"},\"colorscale\":[[0.0,\"#0d0887\"],[0.1111111111111111,\"#46039f\"],[0.2222222222222222,\"#7201a8\"],[0.3333333333333333,\"#9c179e\"],[0.4444444444444444,\"#bd3786\"],[0.5555555555555556,\"#d8576b\"],[0.6666666666666666,\"#ed7953\"],[0.7777777777777778,\"#fb9f3a\"],[0.8888888888888888,\"#fdca26\"],[1.0,\"#f0f921\"]],\"type\":\"heatmapgl\"}],\"heatmap\":[{\"colorbar\":{\"outlinewidth\":0,\"ticks\":\"\"},\"colorscale\":[[0.0,\"#0d0887\"],[0.1111111111111111,\"#46039f\"],[0.2222222222222222,\"#7201a8\"],[0.3333333333333333,\"#9c179e\"],[0.4444444444444444,\"#bd3786\"],[0.5555555555555556,\"#d8576b\"],[0.6666666666666666,\"#ed7953\"],[0.7777777777777778,\"#fb9f3a\"],[0.8888888888888888,\"#fdca26\"],[1.0,\"#f0f921\"]],\"type\":\"heatmap\"}],\"histogram2dcontour\":[{\"colorbar\":{\"outlinewidth\":0,\"ticks\":\"\"},\"colorscale\":[[0.0,\"#0d0887\"],[0.1111111111111111,\"#46039f\"],[0.2222222222222222,\"#7201a8\"],[0.3333333333333333,\"#9c179e\"],[0.4444444444444444,\"#bd3786\"],[0.5555555555555556,\"#d8576b\"],[0.6666666666666666,\"#ed7953\"],[0.7777777777777778,\"#fb9f3a\"],[0.8888888888888888,\"#fdca26\"],[1.0,\"#f0f921\"]],\"type\":\"histogram2dcontour\"}],\"histogram2d\":[{\"colorbar\":{\"outlinewidth\":0,\"ticks\":\"\"},\"colorscale\":[[0.0,\"#0d0887\"],[0.1111111111111111,\"#46039f\"],[0.2222222222222222,\"#7201a8\"],[0.3333333333333333,\"#9c179e\"],[0.4444444444444444,\"#bd3786\"],[0.5555555555555556,\"#d8576b\"],[0.6666666666666666,\"#ed7953\"],[0.7777777777777778,\"#fb9f3a\"],[0.8888888888888888,\"#fdca26\"],[1.0,\"#f0f921\"]],\"type\":\"histogram2d\"}],\"histogram\":[{\"marker\":{\"pattern\":{\"fillmode\":\"overlay\",\"size\":10,\"solidity\":0.2}},\"type\":\"histogram\"}],\"mesh3d\":[{\"colorbar\":{\"outlinewidth\":0,\"ticks\":\"\"},\"type\":\"mesh3d\"}],\"parcoords\":[{\"line\":{\"colorbar\":{\"outlinewidth\":0,\"ticks\":\"\"}},\"type\":\"parcoords\"}],\"pie\":[{\"automargin\":true,\"type\":\"pie\"}],\"scatter3d\":[{\"line\":{\"colorbar\":{\"outlinewidth\":0,\"ticks\":\"\"}},\"marker\":{\"colorbar\":{\"outlinewidth\":0,\"ticks\":\"\"}},\"type\":\"scatter3d\"}],\"scattercarpet\":[{\"marker\":{\"colorbar\":{\"outlinewidth\":0,\"ticks\":\"\"}},\"type\":\"scattercarpet\"}],\"scattergeo\":[{\"marker\":{\"colorbar\":{\"outlinewidth\":0,\"ticks\":\"\"}},\"type\":\"scattergeo\"}],\"scattergl\":[{\"marker\":{\"colorbar\":{\"outlinewidth\":0,\"ticks\":\"\"}},\"type\":\"scattergl\"}],\"scattermapbox\":[{\"marker\":{\"colorbar\":{\"outlinewidth\":0,\"ticks\":\"\"}},\"type\":\"scattermapbox\"}],\"scatterpolargl\":[{\"marker\":{\"colorbar\":{\"outlinewidth\":0,\"ticks\":\"\"}},\"type\":\"scatterpolargl\"}],\"scatterpolar\":[{\"marker\":{\"colorbar\":{\"outlinewidth\":0,\"ticks\":\"\"}},\"type\":\"scatterpolar\"}],\"scatter\":[{\"fillpattern\":{\"fillmode\":\"overlay\",\"size\":10,\"solidity\":0.2},\"type\":\"scatter\"}],\"scatterternary\":[{\"marker\":{\"colorbar\":{\"outlinewidth\":0,\"ticks\":\"\"}},\"type\":\"scatterternary\"}],\"surface\":[{\"colorbar\":{\"outlinewidth\":0,\"ticks\":\"\"},\"colorscale\":[[0.0,\"#0d0887\"],[0.1111111111111111,\"#46039f\"],[0.2222222222222222,\"#7201a8\"],[0.3333333333333333,\"#9c179e\"],[0.4444444444444444,\"#bd3786\"],[0.5555555555555556,\"#d8576b\"],[0.6666666666666666,\"#ed7953\"],[0.7777777777777778,\"#fb9f3a\"],[0.8888888888888888,\"#fdca26\"],[1.0,\"#f0f921\"]],\"type\":\"surface\"}],\"table\":[{\"cells\":{\"fill\":{\"color\":\"#EBF0F8\"},\"line\":{\"color\":\"white\"}},\"header\":{\"fill\":{\"color\":\"#C8D4E3\"},\"line\":{\"color\":\"white\"}},\"type\":\"table\"}]},\"layout\":{\"annotationdefaults\":{\"arrowcolor\":\"#2a3f5f\",\"arrowhead\":0,\"arrowwidth\":1},\"autotypenumbers\":\"strict\",\"coloraxis\":{\"colorbar\":{\"outlinewidth\":0,\"ticks\":\"\"}},\"colorscale\":{\"diverging\":[[0,\"#8e0152\"],[0.1,\"#c51b7d\"],[0.2,\"#de77ae\"],[0.3,\"#f1b6da\"],[0.4,\"#fde0ef\"],[0.5,\"#f7f7f7\"],[0.6,\"#e6f5d0\"],[0.7,\"#b8e186\"],[0.8,\"#7fbc41\"],[0.9,\"#4d9221\"],[1,\"#276419\"]],\"sequential\":[[0.0,\"#0d0887\"],[0.1111111111111111,\"#46039f\"],[0.2222222222222222,\"#7201a8\"],[0.3333333333333333,\"#9c179e\"],[0.4444444444444444,\"#bd3786\"],[0.5555555555555556,\"#d8576b\"],[0.6666666666666666,\"#ed7953\"],[0.7777777777777778,\"#fb9f3a\"],[0.8888888888888888,\"#fdca26\"],[1.0,\"#f0f921\"]],\"sequentialminus\":[[0.0,\"#0d0887\"],[0.1111111111111111,\"#46039f\"],[0.2222222222222222,\"#7201a8\"],[0.3333333333333333,\"#9c179e\"],[0.4444444444444444,\"#bd3786\"],[0.5555555555555556,\"#d8576b\"],[0.6666666666666666,\"#ed7953\"],[0.7777777777777778,\"#fb9f3a\"],[0.8888888888888888,\"#fdca26\"],[1.0,\"#f0f921\"]]},\"colorway\":[\"#636efa\",\"#EF553B\",\"#00cc96\",\"#ab63fa\",\"#FFA15A\",\"#19d3f3\",\"#FF6692\",\"#B6E880\",\"#FF97FF\",\"#FECB52\"],\"font\":{\"color\":\"#2a3f5f\"},\"geo\":{\"bgcolor\":\"white\",\"lakecolor\":\"white\",\"landcolor\":\"white\",\"showlakes\":true,\"showland\":true,\"subunitcolor\":\"#C8D4E3\"},\"hoverlabel\":{\"align\":\"left\"},\"hovermode\":\"closest\",\"mapbox\":{\"style\":\"light\"},\"paper_bgcolor\":\"white\",\"plot_bgcolor\":\"white\",\"polar\":{\"angularaxis\":{\"gridcolor\":\"#EBF0F8\",\"linecolor\":\"#EBF0F8\",\"ticks\":\"\"},\"bgcolor\":\"white\",\"radialaxis\":{\"gridcolor\":\"#EBF0F8\",\"linecolor\":\"#EBF0F8\",\"ticks\":\"\"}},\"scene\":{\"xaxis\":{\"backgroundcolor\":\"white\",\"gridcolor\":\"#DFE8F3\",\"gridwidth\":2,\"linecolor\":\"#EBF0F8\",\"showbackground\":true,\"ticks\":\"\",\"zerolinecolor\":\"#EBF0F8\"},\"yaxis\":{\"backgroundcolor\":\"white\",\"gridcolor\":\"#DFE8F3\",\"gridwidth\":2,\"linecolor\":\"#EBF0F8\",\"showbackground\":true,\"ticks\":\"\",\"zerolinecolor\":\"#EBF0F8\"},\"zaxis\":{\"backgroundcolor\":\"white\",\"gridcolor\":\"#DFE8F3\",\"gridwidth\":2,\"linecolor\":\"#EBF0F8\",\"showbackground\":true,\"ticks\":\"\",\"zerolinecolor\":\"#EBF0F8\"}},\"shapedefaults\":{\"line\":{\"color\":\"#2a3f5f\"}},\"ternary\":{\"aaxis\":{\"gridcolor\":\"#DFE8F3\",\"linecolor\":\"#A2B1C6\",\"ticks\":\"\"},\"baxis\":{\"gridcolor\":\"#DFE8F3\",\"linecolor\":\"#A2B1C6\",\"ticks\":\"\"},\"bgcolor\":\"white\",\"caxis\":{\"gridcolor\":\"#DFE8F3\",\"linecolor\":\"#A2B1C6\",\"ticks\":\"\"}},\"title\":{\"x\":0.05},\"xaxis\":{\"automargin\":true,\"gridcolor\":\"#EBF0F8\",\"linecolor\":\"#EBF0F8\",\"ticks\":\"\",\"title\":{\"standoff\":15},\"zerolinecolor\":\"#EBF0F8\",\"zerolinewidth\":2},\"yaxis\":{\"automargin\":true,\"gridcolor\":\"#EBF0F8\",\"linecolor\":\"#EBF0F8\",\"ticks\":\"\",\"title\":{\"standoff\":15},\"zerolinecolor\":\"#EBF0F8\",\"zerolinewidth\":2}}},\"xaxis\":{\"anchor\":\"y\",\"domain\":[0.0,1.0]},\"yaxis\":{\"anchor\":\"x\",\"domain\":[0.0,1.0],\"ticksuffix\":\"%\"},\"annotations\":[{\"font\":{\"size\":16},\"showarrow\":false,\"text\":\"Difficulty score\",\"x\":0.5,\"xanchor\":\"center\",\"xref\":\"paper\",\"y\":0,\"yanchor\":\"top\",\"yref\":\"paper\",\"yshift\":-30},{\"font\":{\"size\":16},\"showarrow\":false,\"text\":\"Proportion of MSAs\",\"textangle\":-90,\"x\":0,\"xanchor\":\"right\",\"xref\":\"paper\",\"xshift\":-40,\"y\":0.5,\"yanchor\":\"middle\",\"yref\":\"paper\"}],\"height\":600},                        {\"responsive\": true}                    ).then(function(){\n",
       "                            \n",
       "var gd = document.getElementById('fc409ab3-5ecd-456b-8b51-4fe4a23cb57f');\n",
       "var x = new MutationObserver(function (mutations, observer) {{\n",
       "        var display = window.getComputedStyle(gd).display;\n",
       "        if (!display || display === 'none') {{\n",
       "            console.log([gd, 'removed!']);\n",
       "            Plotly.purge(gd);\n",
       "            observer.disconnect();\n",
       "        }}\n",
       "}});\n",
       "\n",
       "// Listen for the removal of the full notebook cells\n",
       "var notebookContainer = gd.closest('#notebook-container');\n",
       "if (notebookContainer) {{\n",
       "    x.observe(notebookContainer, {childList: true});\n",
       "}}\n",
       "\n",
       "// Listen for the clearing of the current output cell\n",
       "var outputEl = gd.closest('.output');\n",
       "if (outputEl) {{\n",
       "    x.observe(outputEl, {childList: true});\n",
       "}}\n",
       "\n",
       "                        })                };                });            </script>        </div>"
      ]
     },
     "metadata": {},
     "output_type": "display_data"
    }
   ],
   "source": [
    "def plots_for_column(col, title, eliminate_outlier = False):\n",
    "    fig = make_subplots(\n",
    "        rows=1,\n",
    "        cols=1,\n",
    "        #subplot_titles=[title, \"\"],\n",
    "        x_title=title,\n",
    "        y_title=\"Proportion of MSAs\"\n",
    "    )\n",
    "\n",
    "    all_data = pd.concat([morph_data, lang_data], join=\"inner\")\n",
    "    if eliminate_outlier:\n",
    "        lower = all_data[col].quantile(0.05)\n",
    "        upper = all_data[col].quantile(0.95)\n",
    "    else:\n",
    "        lower = all_data[col].min()\n",
    "        upper = all_data[col].max()\n",
    "    \n",
    "    \n",
    "    fig.append_trace(\n",
    "        go.Histogram(\n",
    "            x=morph_data.loc[morph_data[col].between(lower, upper)][col],\n",
    "            name=\"Biological\",\n",
    "            marker_color=cc_morph.get_model_color(\"BIN\"),\n",
    "            showlegend=True\n",
    "            , histnorm=\"percent\",\n",
    "        ),\n",
    "        row=1,\n",
    "        col=1\n",
    "    )\n",
    "    fig.append_trace(\n",
    "        go.Histogram(\n",
    "            x=lang_data.loc[lang_data[col].between(lower, upper)][col],\n",
    "            name=\"Linguistic\",\n",
    "            marker_color=cc_lang.get_model_color(\"BIN\"),\n",
    "            showlegend=True\n",
    "            , histnorm=\"percent\"\n",
    "        ),\n",
    "        row=1,\n",
    "        col=1\n",
    "    )\n",
    "    fig.update_yaxes(dict(ticksuffix=\"%\"))\n",
    "    return fig\n",
    "\n",
    "column = \"difficult\"\n",
    "\n",
    "plots_for_column(column, \"Difficulty score\", True).update_layout(\n",
    "    template=\"plotly_white\", height=600)\n",
    "#plots_for_column(column).write_image(column + \".png\") "
   ]
  },
  {
   "cell_type": "code",
   "execution_count": null,
   "id": "31579305",
   "metadata": {},
   "outputs": [],
   "source": [
    "import numpy as np\n",
    "from scipy import stats\n",
    "\n",
    "def scatter(col1, col2):\n",
    "    data = []\n",
    "    \n",
    "    \n",
    "    data.append(\n",
    "        go.Scatter(\n",
    "            mode = 'markers',\n",
    "            x=morph_data[col1],\n",
    "            y=morph_data[col2],\n",
    "            name=\"Biological\",\n",
    "            marker_color=cc_morph.get_model_color(\"BIN\"),\n",
    "            showlegend=True\n",
    "        )\n",
    "    )\n",
    "    data.append(\n",
    "        go.Scatter(\n",
    "            mode = 'markers',\n",
    "            x=cc_lang_data[col1],\n",
    "            y=cc_lang_data[col2],\n",
    "            name=\"Cognate\",\n",
    "            marker_color=cc_lang.get_subtype_color(\"cc\"),\n",
    "            showlegend=True\n",
    "        )\n",
    "    )\n",
    "    data.append(\n",
    "        go.Scatter(\n",
    "            mode = 'markers',\n",
    "            x=sc_lang_data[col1],\n",
    "            y=sc_lang_data[col2],\n",
    "            name=\"Sound-class\",\n",
    "            marker_color=cc_lang.get_subtype_color(\"sc\"),\n",
    "            showlegend=True\n",
    "        )\n",
    "    )\n",
    "    data.append(\n",
    "        go.Scatter(\n",
    "            mode = 'markers',\n",
    "            x=ms_lang_data[col1],\n",
    "            y=ms_lang_data[col2],\n",
    "            name=\"Morphological\",\n",
    "            marker_color=cc_lang.get_subtype_color(\"ms\"),\n",
    "            showlegend=True\n",
    "        )\n",
    "    )\n",
    "\n",
    "    df = pd.concat([morph_data, lang_data])\n",
    "    corr = df[col1].corr(df[col2])\n",
    "    print(\"\\t\".join([col1, col2, str(corr)]))\n",
    "    print(stats.ttest_ind(df[col1], df[col2])[1])\n",
    "    return go.Figure(data)\n",
    "\n",
    "\n",
    "scatter(\"median_external_brlens\", \"entropy\")\n"
   ]
  },
  {
   "cell_type": "markdown",
   "id": "1612c7e4",
   "metadata": {},
   "source": []
  }
 ],
 "metadata": {
  "kernelspec": {
   "display_name": "Python 3 (ipykernel)",
   "language": "python",
   "name": "python3"
  },
  "language_info": {
   "codemirror_mode": {
    "name": "ipython",
    "version": 3
   },
   "file_extension": ".py",
   "mimetype": "text/x-python",
   "name": "python",
   "nbconvert_exporter": "python",
   "pygments_lexer": "ipython3",
   "version": "3.10.10"
  }
 },
 "nbformat": 4,
 "nbformat_minor": 5
}
