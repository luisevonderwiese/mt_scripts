{
 "cells": [
  {
   "cell_type": "code",
   "execution_count": 1,
   "id": "b4e4c34e",
   "metadata": {},
   "outputs": [],
   "source": [
    "#Analysis for comparing results of morphological data in BIN and MULTI representation\n",
    "#Consider the LH of the tree found with BIN alignment under the MULTI alignment and model\n",
    "#and the other way around\n",
    "\n",
    "#Distances of best trees / consensus trees\n",
    "\n",
    "#Correlations"
   ]
  },
  {
   "cell_type": "code",
   "execution_count": 2,
   "id": "05bde35e",
   "metadata": {},
   "outputs": [],
   "source": [
    "import os\n",
    "import pandas as pd\n",
    "import matplotlib.pyplot as plt\n",
    "from plotly import graph_objects as go\n",
    "from plotly.subplots import make_subplots\n",
    "import plotly.express as px\n",
    "from ete3 import Tree\n"
   ]
  },
  {
   "cell_type": "code",
   "execution_count": 10,
   "id": "3fa1fffd",
   "metadata": {},
   "outputs": [],
   "source": [
    "def rf_distance(t1, t2):\n",
    "    rf, max_rf, common_leaves, parts_t1, parts_t2,discard_t1, discart_t2 = t1.robinson_foulds(t2, unrooted_trees = True)\n",
    "    if max_rf == 0:\n",
    "        print(\"?!\")\n",
    "        return 0\n",
    "    return rf/max_rf\n",
    "\n",
    "def read_consensus_trees(model):\n",
    "    if model == \"BIN\":\n",
    "        d = \"morph_parquets/bin/\"\n",
    "    elif model == \"GTR\":\n",
    "        d = \"morph_parquets/multi/GTR/\"\n",
    "    elif model == \"MK\": \n",
    "        d = \"morph_parquets/multi/MK/\"\n",
    "    else:\n",
    "        print(model + \" does not exist!\")\n",
    "    consensus_trees = {}\n",
    "    with os.scandir(d) as it:\n",
    "        for entry in it:\n",
    "            if not entry.is_dir():\n",
    "                continue\n",
    "            tree_path = os.path.join(d, os.path.join(entry.name, \"consense.raxml.consensusTreeMR\"))\n",
    "            if not os.path.exists(tree_path):\n",
    "                print(\"No consensus tree for \" + model + \" and \" + entry.name)\n",
    "                tree = Tree()\n",
    "            else:\n",
    "                tree = Tree(tree_path)\n",
    "            #tree.resolve_polytomy(recursive=True)\n",
    "            name = entry.name.split(\".\")[0] + \".phy\"\n",
    "            consensus_trees[name] = tree\n",
    "    return consensus_trees\n",
    "\n",
    "def rfd_consensus_trees(model1, model2):\n",
    "    consensus_trees1 = read_consensus_trees(model1)\n",
    "    consensus_trees2 = read_consensus_trees(model2)\n",
    "    rfd_dict = {}\n",
    "    for (name, tree) in consensus_trees1.items():\n",
    "        if name in consensus_trees2:\n",
    "            tree2 = consensus_trees2[name]\n",
    "            rfd_dict[name] = rf_distance(tree1, tree2)\n",
    "        else:\n",
    "            rfd_dict[name] = float(\"nan\")\n",
    "            print(\"No consensus rf distance for \" + name)\n",
    "    return rfd_dict\n",
    "    \n",
    "    \n",
    "def rfd_eval_trees(morph_data_multistate, morph_data_binarized):\n",
    "    rfd_dict = {}\n",
    "    for index, row in morph_data_multistate.iterrows():\n",
    "        multitree = Tree(row[\"MULTI_newick_eval\"])\n",
    "        name = row['MULTI_verbose_name'].split('.')[0] + \".BIN.phy\"\n",
    "        bintree =  Tree(morph_data_binarized.loc[(morph_data_binarized['BIN_verbose_name'] == name)].iloc[0][\"BIN_newick_eval\"])\n",
    "        rfd_dict[row['MULTI_verbose_name'].split('.')[0]]= rf_distance(multitree, bintree)\n",
    "    return rfd_dict\n",
    "\n",
    "def plot_rfds(rfd_dict):\n",
    "    rfds = []\n",
    "    for (name, rfd) in rfd_dict.items():\n",
    "        rfds.append(rfd)\n",
    "    plt.xlabel(\"RF Distance\")\n",
    "    plt.ylabel(\"Number of datasets\")\n",
    "    plt.hist(rfds, bins=100)\n",
    "    plt.show()\n",
    "    plt.xlabel(\"RF Distance\")\n",
    "    plt.ylabel(\"Number of datasets\")\n",
    "    plt.hist(rfds, bins=30)\n",
    "    plt.show()"
   ]
  },
  {
   "cell_type": "code",
   "execution_count": 24,
   "id": "9913869a",
   "metadata": {},
   "outputs": [],
   "source": [
    "#Original model: Under this model a best tree was calculated with 100 tree searches\n",
    "#Cross model: Now determine the likelihood of the best tree under this model\n",
    "\n",
    "def cross_data_csv():\n",
    "    out_file = open(\"temp/all_lhs.csv\", \"w+\")\n",
    "    out_file.write(\"name,original_model,cross_model,lh\\n\")\n",
    "    lines = open(\"temp/lhs_GTR.csv\", \"r\").read().split(\"\\n\")[1:-1]\n",
    "    for line in lines:\n",
    "        data = line.split(\",\")\n",
    "        if data[0].endswith(\".BIN.phy\"):\n",
    "            cross_model = \"BIN\"\n",
    "            original_model=\"GTR\"\n",
    "            name = data[1]\n",
    "        else:\n",
    "            cross_model = \"GTR\"\n",
    "            original_model=\"BIN\"\n",
    "            name = data[0]\n",
    "        out_file.write(name + \",\" + original_model  + \",\" + cross_model + \",\" + data[3] + \"\\n\")\n",
    "    lines = open(\"temp/lhs_MK.csv\", \"r\").read().split(\"\\n\")[1:-1]\n",
    "    for line in lines:\n",
    "        data = line.split(\",\")\n",
    "        if data[0].endswith(\".BIN.phy\"):\n",
    "            cross_model = \"BIN\"\n",
    "            original_model=\"MK\"\n",
    "            name = data[1]\n",
    "        else:\n",
    "            cross_model = \"MK\"\n",
    "            original_model=\"BIN\"\n",
    "            name = data[0]\n",
    "        out_file.write(name + \",\" + original_model  + \",\" + cross_model + \",\" + data[3] + \"\\n\")\n",
    "    lines = open(\"temp/lhs_mk_gtr.csv\", \"r\").read().split(\"\\n\")[1:-1]\n",
    "    for line in lines:\n",
    "        data = line.split(\",\")\n",
    "        if data[2].endswith(\"GTR\"):\n",
    "            cross_model = \"GTR\"\n",
    "            original_model=\"MK\"\n",
    "            name = data[0]\n",
    "        else:\n",
    "            cross_model = \"MK\"\n",
    "            original_model=\"GTR\"\n",
    "            name = data[0]\n",
    "        out_file.write(name + \",\" + original_model  + \",\" + cross_model + \",\" + data[3] + \"\\n\")\n",
    "        \n",
    "cross_data_csv()"
   ]
  },
  {
   "cell_type": "code",
   "execution_count": 27,
   "id": "411bae75",
   "metadata": {},
   "outputs": [
    {
     "name": "stdout",
     "output_type": "stream",
     "text": [
      "For 20361_0.phy no cross evaluation with original model MK and cross model GTR\n",
      "For 20361_0.phy no cross evaluation with original model MK and cross model BIN\n",
      "No consensus tree for GTR and 12916_0.phy\n",
      "No consensus tree for GTR and 10045_0.phy\n",
      "No consensus tree for GTR and 170_0.phy\n",
      "No consensus tree for GTR and 12880_0.phy\n",
      "No consensus tree for GTR and 12895_0.phy\n",
      "No consensus tree for GTR and 12893_0.phy\n",
      "No consensus tree for GTR and 12931_0.phy\n",
      "No consensus tree for GTR and 12527_0.phy\n",
      "No consensus tree for GTR and 12936_0.phy\n",
      "No consensus tree for GTR and 298_0.phy\n",
      "No consensus tree for GTR and 12447_0.phy\n",
      "No consensus tree for GTR and 13353_0.phy\n",
      "No consensus tree for GTR and 12957_0.phy\n",
      "No consensus tree for GTR and 13182_0.phy\n",
      "No consensus tree for GTR and 12933_0.phy\n",
      "No consensus tree for GTR and 12905_0.phy\n",
      "No consensus tree for GTR and 12883_0.phy\n",
      "No consensus tree for GTR and 10075_0.phy\n",
      "No consensus tree for GTR and 12850_0.phy\n",
      "No consensus tree for GTR and 11700_1.phy\n",
      "No consensus tree for GTR and 12918_0.phy\n",
      "No consensus tree for GTR and 10520_0.phy\n",
      "No consensus tree for GTR and 13093_0.phy\n",
      "No consensus tree for GTR and 12909_0.phy\n",
      "No consensus tree for GTR and 22198_0.phy\n",
      "No consensus tree for GTR and 12915_0.phy\n",
      "No consensus tree for GTR and 17496_0.phy\n",
      "No consensus tree for GTR and 296_0.phy\n",
      "No consensus tree for GTR and 13071_0.phy\n",
      "No consensus tree for GTR and 10671_0.phy\n",
      "No consensus tree for GTR and 12906_0.phy\n",
      "No consensus tree for GTR and 13097_0.phy\n",
      "No consensus tree for GTR and 13767_0.phy\n",
      "No consensus tree for GTR and 13606_0.phy\n",
      "No consensus tree for GTR and 12935_0.phy\n",
      "No consensus tree for GTR and 12885_0.phy\n",
      "No consensus tree for GTR and 19520_0.phy\n",
      "No consensus tree for GTR and 12912_0.phy\n",
      "No consensus tree for GTR and 13104_0.phy\n",
      "No consensus tree for GTR and 12932_0.phy\n",
      "No consensus tree for GTR and 12896_0.phy\n",
      "No consensus tree for GTR and 12940_0.phy\n",
      "No consensus tree for GTR and 11700_0.phy\n",
      "No consensus tree for GTR and 14990_0.phy\n",
      "No consensus tree for GTR and 26352_0.phy\n",
      "No consensus tree for GTR and 11367_0.phy\n",
      "No consensus tree for GTR and 12907_0.phy\n",
      "No consensus tree for GTR and 182_0.phy\n",
      "No consensus tree for GTR and 617_0.phy\n",
      "No consensus tree for MK and 20361_0.phy\n",
      "No consensus tree for MK and 12866_0.phy\n",
      "No consensus tree for MK and 374_0.phy\n",
      "No consensus tree for MK and 12439_1.phy\n",
      "No consensus tree for MK and 12439_0.phy\n",
      "No consensus tree for MK and 10066_0.phy\n",
      "No consensus tree for MK and 10184_0.phy\n",
      "?!\n",
      "?!\n"
     ]
    }
   ],
   "source": [
    "#The column cross_lh_x contains the likelihood of the best tree found under the tree model evalut\n",
    "def add_cross_data(df, eval_model, tree_model):\n",
    "    lhs_df = pd.read_csv(\"temp/all_lhs.csv\")\n",
    "    lhs_df = lhs_df[lhs_df[\"original_model\"] == tree_model]\n",
    "    lhs_df = lhs_df[lhs_df[\"cross_model\"] == eval_model]\n",
    "    d = {}\n",
    "    for idx, row in lhs_df.iterrows():\n",
    "        d[row[\"name\"]] = float(row[\"lh\"])\n",
    "    cross_lhs = []\n",
    "    diffs = []\n",
    "    for idx, row in df.iterrows():\n",
    "        name = row['verbose_name']\n",
    "        if name in d:\n",
    "            cross_lh = d[name]\n",
    "            eval_lh = row[\"llh_eval\"]\n",
    "            diff = cross_lh - eval_lh\n",
    "            cross_lhs.append(cross_lh)\n",
    "            diffs.append(diff)\n",
    "        else:\n",
    "            print(\"For \" + name + \" no cross evaluation with original model \" + tree_model + \" and cross model \" +eval_model)\n",
    "            cross_lhs.append(float(\"nan\"))\n",
    "            diffs.append(float(\"nan\"))\n",
    "    df[\"cross_lh_\" + tree_model] = cross_lhs\n",
    "    df[\"cross_diff_\" + tree_model] = diffs\n",
    "    return df\n",
    "\n",
    "\n",
    "def merge_dfs(morph_data_bin, morph_data_gtr, morph_data_mk):\n",
    "    morph_data_bin.columns = 'BIN_' + morph_data_bin.columns.values\n",
    "    morph_data_gtr.columns = 'GTR_' + morph_data_gtr.columns.values\n",
    "    morph_data_mk.columns = 'MK_' + morph_data_mk.columns.values\n",
    "    morph_data_bin = morph_data_bin.rename(columns={'BIN_verbose_name': 'verbose_name'})\n",
    "    morph_data_gtr = morph_data_gtr.rename(columns={'GTR_verbose_name': 'verbose_name'})\n",
    "    morph_data_mk = morph_data_mk.rename(columns={'MK_verbose_name': 'verbose_name'})\n",
    "    df = pd.merge(morph_data_bin, morph_data_gtr, on='verbose_name', how='inner')\n",
    "    df = pd.merge(df, morph_data_mk, on='verbose_name', how='inner')\n",
    "    df = df[(df.BIN_cross_lh_GTR != 1) & (df.BIN_cross_lh_MK != 1) \n",
    "           & (df.GTR_cross_lh_BIN != 1) & (df.GTR_cross_lh_MK != 1)\n",
    "           & (df.MK_cross_lh_BIN != 1) & (df.MK_cross_lh_GTR != 1)]\n",
    "    return df\n",
    "\n",
    "\n",
    "def add_rf_data(df):\n",
    "    consensus_trees_bin = read_consensus_trees(\"BIN\")\n",
    "    consensus_trees_gtr = read_consensus_trees(\"GTR\")\n",
    "    consensus_trees_mk = read_consensus_trees(\"MK\")\n",
    "    consensus_dist_bin_gtr = []\n",
    "    consensus_dist_bin_mk = []\n",
    "    consensus_dist_gtr_mk = []\n",
    "    eval_dist_bin_gtr = []\n",
    "    eval_dist_bin_mk = []\n",
    "    eval_dist_gtr_mk = []\n",
    "    \n",
    "    \n",
    "    for idx, row in df.iterrows():\n",
    "        name = row[\"verbose_name\"]\n",
    "        c_tree_bin = consensus_trees_bin[name]\n",
    "        c_tree_gtr = consensus_trees_gtr[name]\n",
    "        c_tree_mk = consensus_trees_mk[name]\n",
    "        e_tree_bin = Tree(row[\"BIN_newick_eval\"])\n",
    "        e_tree_gtr = Tree(row[\"GTR_newick_eval\"])\n",
    "        e_tree_mk = Tree(row[\"MK_newick_eval\"])\n",
    "        \n",
    "        consensus_dist_bin_gtr.append(rf_distance(c_tree_bin, c_tree_gtr))\n",
    "        consensus_dist_bin_mk.append(rf_distance(c_tree_bin, c_tree_mk))\n",
    "        consensus_dist_gtr_mk.append(rf_distance(c_tree_gtr, c_tree_mk))\n",
    "        eval_dist_bin_gtr.append(rf_distance(e_tree_bin, e_tree_gtr))\n",
    "        eval_dist_bin_mk.append(rf_distance(e_tree_bin, e_tree_mk))\n",
    "        eval_dist_gtr_mk.append(rf_distance(e_tree_gtr, e_tree_mk))\n",
    "        \n",
    "    df[\"consensus_dist_bin_gtr\"] = consensus_dist_bin_gtr\n",
    "    df[\"consensus_dist_bin_mk\"] = consensus_dist_bin_mk\n",
    "    df[\"consensus_dist_gtr_mk\"] = consensus_dist_gtr_mk\n",
    "    df[\"eval_dist_bin_gtr\"] = eval_dist_bin_gtr\n",
    "    df[\"eval_dist_bin_mk\"] = eval_dist_bin_mk\n",
    "    df[\"eval_dist_gtr_mk\"] = eval_dist_gtr_mk\n",
    "    \n",
    "    return df\n",
    "    \n",
    "morph_data_gtr = pd.read_parquet(\"training_data/morph_data_multistate.parquet\")\n",
    "morph_data_mk = pd.read_parquet(\"training_data/morph_data_with_tree_characteristics_mk_model.parquet\")\n",
    "morph_data_mk = morph_data_mk.groupby(morph_data_mk.state_type).get_group(\"multistate\")\n",
    "morph_data_bin = pd.read_parquet(\"training_data/morph_data_binarized.parquet\")\n",
    "names = []\n",
    "for index, row in morph_data_bin.iterrows():\n",
    "    names.append(row['verbose_name'].split('.')[0] + '.phy')\n",
    "morph_data_bin['verbose_name'] = names\n",
    "morph_data_gtr = add_cross_data(morph_data_gtr, \"GTR\", \"BIN\")\n",
    "morph_data_gtr = add_cross_data(morph_data_gtr, \"GTR\", \"MK\")\n",
    "morph_data_mk = add_cross_data(morph_data_mk, \"MK\", \"BIN\")\n",
    "morph_data_mk = add_cross_data(morph_data_mk, \"MK\", \"GTR\")\n",
    "morph_data_bin = add_cross_data(morph_data_bin, \"BIN\", \"GTR\")\n",
    "morph_data_bin = add_cross_data(morph_data_bin, \"BIN\", \"MK\")\n",
    "df = merge_dfs(morph_data_bin, morph_data_gtr, morph_data_mk)\n",
    "df = add_rf_data(df)"
   ]
  },
  {
   "cell_type": "code",
   "execution_count": 28,
   "id": "16692661",
   "metadata": {},
   "outputs": [
    {
     "data": {
      "application/vnd.plotly.v1+json": {
       "config": {
        "plotlyServerURL": "https://plot.ly"
       },
       "data": [
        {
         "hovertemplate": "BIN_cross_diff_GTR=%{x}<br>GTR_cross_diff_BIN=%{y}<extra></extra>",
         "legendgroup": "",
         "marker": {
          "color": "#636efa",
          "symbol": "circle"
         },
         "mode": "markers",
         "name": "",
         "orientation": "v",
         "showlegend": false,
         "type": "scatter",
         "x": [
          -68.907826,
          -56.94317299999966,
          -90.52040099999977,
          -97.346364,
          -1.4400030000000186,
          -0.4985899999999788,
          -24.351473,
          -8.582014999999956,
          -52.72975200000019,
          -39.26046300000007,
          -17.521928000000116,
          -61.79250199999933,
          -8.665487999999982,
          -5.504466999999977,
          -7.069152999999972,
          -0.11874999999999858,
          -87.14706100000012,
          -0.6734569999999849,
          -81.31262100000004,
          -67.18661500000053,
          -27.637627000000066,
          -14.467556999999942,
          -10.29798500000004,
          -28.082559000000003,
          -12.943078999999955,
          -75.63103800000044,
          -3.5136039999999866,
          -28.600716000000034,
          -11.369766000000027,
          -3.0138430000000085,
          -0.9093009999999992,
          -4.744115999999849,
          -7.115165000000019,
          -17.491645000000005,
          -97.60646599999927,
          -6.835826999999881,
          -19.782767999999805,
          -107.1127949999991,
          -6.982460000000174,
          -17.92099200000007,
          -26.791960000000472,
          -2.9421689999999785,
          -53.713636999999835,
          -31.633156999999983,
          -7.142977999999971,
          -2.9053729999999973,
          -26.74589900000001,
          -45.83805099999972,
          -57.64431799999966,
          -0.22831399999998325,
          -98.98049700000047,
          -4.49683200000004,
          -6.579158000000007,
          -6.64305800000011,
          -7.288076999999703,
          -27.850886000000173,
          -17.439540999999963,
          -0.04302400000005946,
          -11.670495999999957,
          -6.066453000000024,
          -203.83318999999983,
          -90.9852949999995,
          -40.933034000000134,
          -11.182741999999962,
          -187.9004840000007,
          -23.34694999999965,
          -61.74561399999993,
          -5.9654400000001715,
          -4.013981000000058,
          -56.125823999999966,
          -44.21907100000044,
          -42.945768000000044,
          -75.01471500000025,
          -0.6590669999999363,
          -26.195392999999967,
          -123.61595500000112,
          -22.85441199999991,
          -30.031726999999933,
          -39.26046300000007,
          -39.283204000000296,
          -30.310226000000057,
          -1.475301000000016,
          -279.99371099999917,
          -27.477790000000027,
          -0.1351020000000176,
          -37.085235999999895,
          -68.734654,
          -4.789202000000159,
          -32.61073999999999,
          -25.207280000000083,
          -22.93875100000014,
          -33.40787099999943,
          -4.395667000000003,
          -37.558619000000135,
          -33.82629700000007,
          -18.549868999999944,
          -102.612975,
          -62.28049800000008,
          -60.13263500000039,
          -7.390245999999934,
          -157.5558430000001,
          -20.197055999999975,
          -0.2730010000000078,
          -11.455156999999872,
          -46.60896300000013,
          -99.72926499999994,
          -13.408567000000062,
          -11.091815999999994,
          -341.314627,
          -65.18909000000008,
          -6.571513999999979,
          -24.584874000000013,
          -15.339492000000064,
          -6.635189000000082,
          -101.45095500000025,
          -27.345534000000043,
          -12.893506000000116,
          -37.81574099999989,
          -120.39838400000008,
          -38.91764000000012,
          -10.783386000000007,
          -633.6988690000017,
          -56.02249000000029,
          -33.91773399999988,
          -19.014672999999902,
          -3.237435000000005,
          -213.62294799999836,
          -6.892019000000346,
          -253.9490050000004,
          -170.54569900000024,
          -115.68149799999998,
          -14.16194100000007,
          -0.07064300000000401,
          -10.182254000000285,
          -38.54722200000015,
          -22.25944400000003,
          -43.66533700000036,
          -628.0280359999997,
          -23.447721,
          -14.160109000000034,
          -10.77171999999996,
          -6.131611999999961,
          -0.6244130000000041,
          -0.6244130000000041,
          -36.030092999999965,
          -112.80494499999986,
          -45.758730000000014,
          -4.653217999999981,
          -9.509788000000071,
          -105.23433099999966,
          -12.110700999999835,
          -115.49409600000035,
          -88.33013899999969,
          -8.72846800000002,
          -87.61155300000064,
          -60.34258599999998,
          -97.350547,
          -126.76627600000029,
          -0.1351020000000176,
          -112.58129000000008,
          -10.638739999999984,
          -19.238256000000092,
          -6.138532999999995,
          -80.19193499999983,
          -0.9062230000000113,
          -21.380510999999984,
          -2.9462139999999977,
          -55.78516300000001,
          -1050.2776980000017,
          -4.317685999999981,
          -44.8533739999998,
          -43.319094000000405,
          -28.236507000000074,
          -3.770241999999996,
          -36.06334700000002,
          -77.58654999999999,
          -1.4263990000000035,
          -19.154266999999948,
          -14.577774999999974,
          -12.369621999999993,
          -7.464215999999965,
          -107.70790900000065,
          -20.560754000000088,
          -91.89192899999989,
          -7.31391700000006,
          -46.60896300000013,
          -90.4197059999999,
          -108.60766899999999,
          -19.62601200000006,
          -224.52595099999962,
          -241.88925100000006,
          -113.9118299999991,
          -0.5984100000000012,
          -66.04256900000019,
          -27.66931300000033,
          -3.5080930000000023,
          -90.6137149999995,
          -2.873491999999999,
          -54.873955000000024,
          -2.2868629999999968,
          -61.51614100000006,
          -0.6346029999999985,
          -32.75554999999997,
          -1.8898140000000012,
          -5.787166999999954,
          -13.401046999999835,
          -33.728634000000056,
          -8.830770999999913,
          -91.88680099999965,
          -53.702776000000085,
          -2.7988299999999953,
          -97.57374600000003,
          -13.61726699999997,
          -16.698515999999984,
          -1.3452389999999923,
          -24.861903999999868,
          -25.402648999999997,
          -25.81872599999997,
          -27.5285540000001,
          -27.850886000000173,
          -76.361356,
          -37.35251599999992,
          -43.35143700000003,
          -10.218701999999894,
          -9.232164000000012,
          -47.48090400000001,
          -44.36874399999988,
          -25.238505000000032,
          -106.10766599999988,
          -14.526008000000047,
          -17.47653400000013,
          -274.88534200000004,
          -46.910901000000194,
          -0.4239740000000154,
          -21.543206000000055,
          -10.004011999999989,
          -2.8485959999999864,
          -15.068544000000003,
          -19.281450999999834,
          -3.5773699999999735,
          -36.85688700000014,
          -31.43666300000001,
          -145.29201300000022,
          -103.61967900000036,
          -157.5558430000001,
          -0.3720140000000356,
          -33.3669910000001,
          -24.170311999999967,
          -3.088542000000075,
          -0.8672150000000016,
          -14.949832000000015,
          -171.8554179999992,
          -9.194244000000253,
          -136.7038539999994,
          -146.99205699999948,
          -11.796898000000056,
          -19.239941000000044,
          -99.17319999999927,
          -51.097655999999915,
          -393.9571130000004,
          -6.4539599999998245,
          -1.9100300000000061,
          -0.4100859999999784,
          -15.413491000000022,
          -37.25729699999988,
          -120.27296999999999,
          -1.5850059999999928,
          -127.81351200000063,
          -8.93243700000005,
          -7.901600999999914,
          -21.854199000000335,
          -88.22567600000002,
          -35.60299200000003,
          -41.86265299999968,
          -472.5789299999997,
          -3.4227160000000083,
          -3.9548810000000003,
          -3.4878539999999987,
          -253.9490050000004,
          -108.14526500000011,
          -29.298986000000014,
          -63.36852599999929,
          -24.087752000000023,
          -20.849542999999812,
          -5.752870999999914,
          -138.1383340000002,
          -13.563686000000018,
          -9.192270000000008,
          -11.513449000000008,
          -1.998660000000001,
          -0.2523609999999934,
          -65.18370100000004,
          -0.18938500000001568,
          -1311.6413179999995,
          -31.64878499999986,
          -7.0510629999998855,
          -7.355166000000281,
          -3.485096999999996,
          -59.31819799999994,
          -101.61274000000049,
          -0.9116860000000031,
          -15.568506999999954,
          -5.595103999999992,
          -105.55915600000117,
          -28.543789999999944,
          -26.692731000000094,
          -39.54411800000025,
          -14.100238999999988,
          -87.25333299999966,
          -17.72183000000041,
          -33.42077500000005,
          -24.93512199999998,
          -85.85988700000053,
          -21.931407000000036,
          -2.692264999999992,
          -8.996976000000359,
          -6.864583000000039,
          -108.60766899999999,
          -52.521606999999676,
          -81.98305100000016,
          -103.8585869999988,
          -11.61193000000003,
          -37.99359900000002,
          -0.44946000000000197,
          -18.72414100000003,
          -9.618798999999967,
          -65.10395600000004,
          -10.39706000000001,
          -45.61226399999987,
          -9.304591000000073,
          -44.99452500000007,
          -34.59219099999996,
          -26.60818499999914,
          -22.835739999999987,
          -137.87179400000014,
          -96.22292800000105,
          -43.80482499999971,
          -14.467556999999942,
          -12.276403999999957,
          -9.783012000000099,
          -114.06522399999994,
          -60.429479000000356,
          -122.57587000000058,
          -42.87002799999982,
          -1.2497809999999845,
          -6.971287999999731,
          -112.26699899999949,
          -7.197221000000013,
          -144.3999070000009,
          -135.34649000000013,
          -139.9573260000002,
          -0.3143359999999973,
          -1.4619979999999941,
          -201.82995899999992,
          -323.08436599999914,
          -48.69527900000003,
          -1.4235479999999825,
          -17.753615999999965,
          -20.449071000000004,
          -173.47097399999984,
          -147.48111400000016,
          -6.847937999999999,
          -31.254268999999965,
          -33.959891999999854,
          -68.89158500000008,
          -105.06684700000187,
          -26.682106000000203,
          -21.006263000000217,
          -628.980431,
          -3.684606999999687,
          -138.64878999999928,
          -101.54917799999998
         ],
         "xaxis": "x",
         "y": [
          -19.072178000000008,
          -27.224960999999894,
          -31.613710999999967,
          -30.881347000000005,
          -0.6632000000000033,
          -0.38179999999999836,
          -11.923226,
          -3.779794999999922,
          -24.01167899999996,
          -11.845105999999987,
          -6.987525000000005,
          -23.954155000000355,
          -4.0047289999999975,
          -2.703204000000028,
          -3.0258189999999843,
          -0.9319389999999999,
          -57.05705799999987,
          0.2941730000000007,
          -29.25356499999998,
          -26.82079399999975,
          -17.820944000000054,
          -5.972504000000072,
          -6.87811499999998,
          -4.999217999999985,
          -6.715208999999987,
          -25.022125999999844,
          -0.6936520000000002,
          -16.151008000000047,
          -5.939642000000049,
          -2.9075559999999996,
          -2.299673999999996,
          -3.861622000000011,
          -6.970612000000003,
          -6.982692000000014,
          -50.184150000000045,
          -2.9540680000000066,
          -11.41388500000005,
          -59.96987900000022,
          -3.002187000000049,
          -5.623330999999894,
          -14.04292600000008,
          -0.8699289999999991,
          -25.37429599999996,
          -12.009242,
          -6.603820000000013,
          -5.481699999999989,
          -31.11414400000001,
          -17.955034999999953,
          -31.639151999999967,
          -0.0971410000000077,
          -42.919014999999945,
          -4.134706999999992,
          -3.817144000000013,
          -4.520583999999985,
          -3.4349750000001222,
          -14.011842000000343,
          -8.061118000000079,
          -0.028364999999951124,
          -4.636534000000097,
          -9.172598999999991,
          -65.79851800000006,
          -31.681508000000576,
          -21.417981000000054,
          -4.355362000000014,
          -71.02498400000013,
          -9.698199000000159,
          -42.95404399999984,
          -3.681884000000082,
          -1.6899069999999483,
          -22.166833999999994,
          -23.515608000000157,
          -19.651940000000195,
          -46.32675599999993,
          -0.32133900000002313,
          -12.95683199999985,
          -60.6464160000005,
          -9.893133000000034,
          -27.185427000000004,
          -11.845105999999987,
          -22.690030999999635,
          -13.501320999999962,
          -1.495112000000006,
          -146.2125900000001,
          -7.998996999999974,
          -0.07026400000000876,
          -22.9952159999998,
          -1.546609,
          -2.280993999999964,
          -10.258703999999994,
          -16.566155999999978,
          -11.89316900000017,
          -17.66446300000007,
          -2.5922160000000076,
          -13.534519000000046,
          -12.710578999999939,
          -9.891766999999959,
          -42.025862999999845,
          -32.40648799999963,
          -23.259367999999995,
          -6.8913499999999885,
          -50.8537580000002,
          -7.6482710000000225,
          -0.07482999999999862,
          -6.976442000000134,
          -25.460881999999856,
          -33.78963699999986,
          -4.039143000000024,
          -6.659186999999974,
          -35.41663200000005,
          -35.088802999999984,
          -7.629548999999997,
          -9.324078000000043,
          -10.859335000000101,
          -2.8821100000000115,
          -41.110077000000274,
          -17.519015999999965,
          -4.566261999999938,
          -26.753961000000118,
          -43.372518999999556,
          -26.641638000000057,
          -6.7057900000000075,
          -227.092521999999,
          -23.15959399999997,
          -15.244516999999973,
          -10.95717599999989,
          -1.1991610000000037,
          -94.83499199999915,
          -2.9580329999998867,
          -89.46849999999995,
          -67.53275600000052,
          -39.41142899999997,
          -6.200776000000019,
          -0.2222630000000052,
          -11.19255000000021,
          -14.891104999999925,
          -8.277561999999989,
          -15.508313000000044,
          -195.66771399999925,
          -10.094583999999998,
          -4.996221999999989,
          -7.4262619999999515,
          -3.789461999999986,
          -0.2800619999999867,
          -0.2800619999999867,
          -17.55169699999999,
          -58.8625949999996,
          -22.925051000000053,
          -1.7213549999999884,
          -6.714207999999985,
          -33.04458100000011,
          -6.465626999999927,
          -44.03132000000005,
          -46.49694600000021,
          -1.9134779999999978,
          -63.23478400000022,
          -20.978327999999976,
          -38.219114000000445,
          -46.11845199999971,
          -0.07026400000000876,
          -55.39824300000055,
          -5.620090000000005,
          -8.005920000000003,
          -3.2071269999999856,
          -41.86022300000013,
          -0.32017700000000104,
          -10.369536999999994,
          -2.902307999999991,
          -21.09155099999998,
          -381.86862199999996,
          -1.353555,
          -24.290580999999975,
          -17.17489599999999,
          -7.110202000000072,
          -1.8650519999999915,
          -30.76976300000001,
          -30.956285000000207,
          -1.9800300000000064,
          -13.091301999999985,
          -8.73466499999995,
          -4.625369000000006,
          -3.8953369999999836,
          -54.19716299999982,
          -7.54222800000025,
          -31.447857999999997,
          -3.978320999999994,
          -25.460881999999856,
          -39.68464599999999,
          -44.517565000000104,
          -7.478707000000043,
          -65.107798,
          -59.15745700000002,
          -64.85573999999997,
          -0.4125970000000052,
          -25.265548999999965,
          -13.40811500000018,
          -0.7377659999999935,
          -51.53328500000043,
          -1.883076999999986,
          -26.383677999999918,
          -1.4609999999999985,
          -47.85639199999969,
          -0.9970959999999991,
          -16.421557000000007,
          -2.827574000000027,
          -5.466762000000017,
          -7.188178999999991,
          -13.66617199999996,
          -4.580593000000022,
          -36.17155200000025,
          -25.72054900000012,
          -1.244498,
          -43.91305800000009,
          -7.131910000000005,
          -7.721450000000004,
          -1.4551100000000048,
          -24.88351499999999,
          -16.272432999999978,
          -12.402305999999953,
          -17.47407800000002,
          -14.011842000000343,
          -33.84125400000005,
          -19.11825799999997,
          -15.770029000000022,
          -7.5265210000000025,
          -4.280815000000075,
          -22.045005999999944,
          -16.061738000000105,
          -11.238543999999933,
          -40.727350000000115,
          -11.369183000000021,
          -10.057052999999996,
          -95.47282699999994,
          -24.031285000000025,
          -0.5324699999999893,
          -11.925450999999953,
          -2.7575490000000116,
          -5.415447999999998,
          -26.028255,
          -11.203267000000096,
          -1.322484999999915,
          -24.528733000000102,
          -10.516215000000017,
          -55.398331000000326,
          -50.81862899999987,
          -50.8537580000002,
          -0.15820299999995768,
          -26.328730000000064,
          -8.974200999999994,
          -6.56019399999991,
          -1.1633309999999994,
          -10.420372000000015,
          -61.43209300000035,
          -9.134909000000107,
          -59.11183600000004,
          -75.43883000000005,
          -3.868365000000267,
          -9.242645000000039,
          -40.82085999999981,
          -18.30582400000003,
          -148.9601249999996,
          -2.9699900000000525,
          -0.8335059999999999,
          -0.18684100000000115,
          -6.322002999999995,
          -13.865293999999949,
          -49.59145499999977,
          -1.496859999999998,
          -57.124079000000165,
          -6.453056000000004,
          -10.109122999999954,
          -10.75922700000001,
          -42.65351499999997,
          -23.756426000000005,
          -22.531718000000183,
          -301.5459840000003,
          -4.790212999999994,
          -1.8954570000000217,
          -1.29637799999999,
          -89.46849999999995,
          -42.66777699999966,
          -12.221960999999965,
          -28.466719000000012,
          -12.626607000000035,
          -11.548557999999957,
          -11.366737999999998,
          -44.11235399999998,
          -3.405315999999999,
          -2.4854080000000067,
          -9.266225000000006,
          -2.665881000000013,
          -0.5024230000000003,
          -20.449221000000023,
          -0.7729939999999829,
          -190.61333500000023,
          -13.270034000000123,
          -17.965910000000008,
          -2.8956570000000283,
          -1.5489079999999973,
          -32.58908199999996,
          -41.4472310000001,
          -6.208347000000003,
          -9.441845,
          -3.440761000000009,
          -46.19142699999975,
          -10.870980000000031,
          -19.459170000000086,
          -21.040616,
          -8.02344400000004,
          -43.28728099999989,
          -6.731753000000026,
          -8.75361300000003,
          -8.715596000000005,
          -44.89245099999971,
          -10.511506999999938,
          -1.4441479999999984,
          -4.886662999999999,
          -2.6572459999999865,
          -44.517565000000104,
          -25.551574999999957,
          -43.73428700000022,
          -36.76563100000021,
          -4.517695000000003,
          -14.392896000000007,
          -2.1490790000000004,
          -11.15472600000004,
          -7.990611999999999,
          -23.836926000000005,
          -3.8399109999999723,
          -17.194070999999894,
          -6.427325999999994,
          -29.24452199999996,
          -26.098803999999973,
          -15.959287000000131,
          -18.101679999999988,
          -56.50714000000016,
          -38.341081999999915,
          -23.391676999999845,
          -5.972504000000072,
          -5.625949999999989,
          -6.60240900000008,
          -58.4036659999997,
          -27.324715000000197,
          -43.708567000000585,
          -19.65035200000011,
          -1.525509999999997,
          -2.7262479999999414,
          -58.676784000000225,
          -2.5201020000000085,
          -76.72436199999993,
          -42.222271999999975,
          -47.69653400000004,
          -0.1545679999999976,
          0.5452319999999986,
          -59.211051,
          -127.15516800000114,
          -22.392205999999987,
          -1.063225999999986,
          -7.314238000000046,
          -12.028306999999984,
          -120.70105500000136,
          -87.7845870000001,
          -1.6502210000000161,
          -8.695160999999985,
          -14.046929999999975,
          -14.714317999999935,
          -54.43867300000056,
          -13.9702199999997,
          -7.6416400000002795,
          -195.7349949999989,
          -1.772265999999945,
          -57.20862699999998,
          -57.387555999999904
         ],
         "yaxis": "y"
        }
       ],
       "layout": {
        "legend": {
         "tracegroupgap": 0
        },
        "margin": {
         "t": 60
        },
        "template": {
         "data": {
          "bar": [
           {
            "error_x": {
             "color": "#2a3f5f"
            },
            "error_y": {
             "color": "#2a3f5f"
            },
            "marker": {
             "line": {
              "color": "#E5ECF6",
              "width": 0.5
             },
             "pattern": {
              "fillmode": "overlay",
              "size": 10,
              "solidity": 0.2
             }
            },
            "type": "bar"
           }
          ],
          "barpolar": [
           {
            "marker": {
             "line": {
              "color": "#E5ECF6",
              "width": 0.5
             },
             "pattern": {
              "fillmode": "overlay",
              "size": 10,
              "solidity": 0.2
             }
            },
            "type": "barpolar"
           }
          ],
          "carpet": [
           {
            "aaxis": {
             "endlinecolor": "#2a3f5f",
             "gridcolor": "white",
             "linecolor": "white",
             "minorgridcolor": "white",
             "startlinecolor": "#2a3f5f"
            },
            "baxis": {
             "endlinecolor": "#2a3f5f",
             "gridcolor": "white",
             "linecolor": "white",
             "minorgridcolor": "white",
             "startlinecolor": "#2a3f5f"
            },
            "type": "carpet"
           }
          ],
          "choropleth": [
           {
            "colorbar": {
             "outlinewidth": 0,
             "ticks": ""
            },
            "type": "choropleth"
           }
          ],
          "contour": [
           {
            "colorbar": {
             "outlinewidth": 0,
             "ticks": ""
            },
            "colorscale": [
             [
              0,
              "#0d0887"
             ],
             [
              0.1111111111111111,
              "#46039f"
             ],
             [
              0.2222222222222222,
              "#7201a8"
             ],
             [
              0.3333333333333333,
              "#9c179e"
             ],
             [
              0.4444444444444444,
              "#bd3786"
             ],
             [
              0.5555555555555556,
              "#d8576b"
             ],
             [
              0.6666666666666666,
              "#ed7953"
             ],
             [
              0.7777777777777778,
              "#fb9f3a"
             ],
             [
              0.8888888888888888,
              "#fdca26"
             ],
             [
              1,
              "#f0f921"
             ]
            ],
            "type": "contour"
           }
          ],
          "contourcarpet": [
           {
            "colorbar": {
             "outlinewidth": 0,
             "ticks": ""
            },
            "type": "contourcarpet"
           }
          ],
          "heatmap": [
           {
            "colorbar": {
             "outlinewidth": 0,
             "ticks": ""
            },
            "colorscale": [
             [
              0,
              "#0d0887"
             ],
             [
              0.1111111111111111,
              "#46039f"
             ],
             [
              0.2222222222222222,
              "#7201a8"
             ],
             [
              0.3333333333333333,
              "#9c179e"
             ],
             [
              0.4444444444444444,
              "#bd3786"
             ],
             [
              0.5555555555555556,
              "#d8576b"
             ],
             [
              0.6666666666666666,
              "#ed7953"
             ],
             [
              0.7777777777777778,
              "#fb9f3a"
             ],
             [
              0.8888888888888888,
              "#fdca26"
             ],
             [
              1,
              "#f0f921"
             ]
            ],
            "type": "heatmap"
           }
          ],
          "heatmapgl": [
           {
            "colorbar": {
             "outlinewidth": 0,
             "ticks": ""
            },
            "colorscale": [
             [
              0,
              "#0d0887"
             ],
             [
              0.1111111111111111,
              "#46039f"
             ],
             [
              0.2222222222222222,
              "#7201a8"
             ],
             [
              0.3333333333333333,
              "#9c179e"
             ],
             [
              0.4444444444444444,
              "#bd3786"
             ],
             [
              0.5555555555555556,
              "#d8576b"
             ],
             [
              0.6666666666666666,
              "#ed7953"
             ],
             [
              0.7777777777777778,
              "#fb9f3a"
             ],
             [
              0.8888888888888888,
              "#fdca26"
             ],
             [
              1,
              "#f0f921"
             ]
            ],
            "type": "heatmapgl"
           }
          ],
          "histogram": [
           {
            "marker": {
             "pattern": {
              "fillmode": "overlay",
              "size": 10,
              "solidity": 0.2
             }
            },
            "type": "histogram"
           }
          ],
          "histogram2d": [
           {
            "colorbar": {
             "outlinewidth": 0,
             "ticks": ""
            },
            "colorscale": [
             [
              0,
              "#0d0887"
             ],
             [
              0.1111111111111111,
              "#46039f"
             ],
             [
              0.2222222222222222,
              "#7201a8"
             ],
             [
              0.3333333333333333,
              "#9c179e"
             ],
             [
              0.4444444444444444,
              "#bd3786"
             ],
             [
              0.5555555555555556,
              "#d8576b"
             ],
             [
              0.6666666666666666,
              "#ed7953"
             ],
             [
              0.7777777777777778,
              "#fb9f3a"
             ],
             [
              0.8888888888888888,
              "#fdca26"
             ],
             [
              1,
              "#f0f921"
             ]
            ],
            "type": "histogram2d"
           }
          ],
          "histogram2dcontour": [
           {
            "colorbar": {
             "outlinewidth": 0,
             "ticks": ""
            },
            "colorscale": [
             [
              0,
              "#0d0887"
             ],
             [
              0.1111111111111111,
              "#46039f"
             ],
             [
              0.2222222222222222,
              "#7201a8"
             ],
             [
              0.3333333333333333,
              "#9c179e"
             ],
             [
              0.4444444444444444,
              "#bd3786"
             ],
             [
              0.5555555555555556,
              "#d8576b"
             ],
             [
              0.6666666666666666,
              "#ed7953"
             ],
             [
              0.7777777777777778,
              "#fb9f3a"
             ],
             [
              0.8888888888888888,
              "#fdca26"
             ],
             [
              1,
              "#f0f921"
             ]
            ],
            "type": "histogram2dcontour"
           }
          ],
          "mesh3d": [
           {
            "colorbar": {
             "outlinewidth": 0,
             "ticks": ""
            },
            "type": "mesh3d"
           }
          ],
          "parcoords": [
           {
            "line": {
             "colorbar": {
              "outlinewidth": 0,
              "ticks": ""
             }
            },
            "type": "parcoords"
           }
          ],
          "pie": [
           {
            "automargin": true,
            "type": "pie"
           }
          ],
          "scatter": [
           {
            "fillpattern": {
             "fillmode": "overlay",
             "size": 10,
             "solidity": 0.2
            },
            "type": "scatter"
           }
          ],
          "scatter3d": [
           {
            "line": {
             "colorbar": {
              "outlinewidth": 0,
              "ticks": ""
             }
            },
            "marker": {
             "colorbar": {
              "outlinewidth": 0,
              "ticks": ""
             }
            },
            "type": "scatter3d"
           }
          ],
          "scattercarpet": [
           {
            "marker": {
             "colorbar": {
              "outlinewidth": 0,
              "ticks": ""
             }
            },
            "type": "scattercarpet"
           }
          ],
          "scattergeo": [
           {
            "marker": {
             "colorbar": {
              "outlinewidth": 0,
              "ticks": ""
             }
            },
            "type": "scattergeo"
           }
          ],
          "scattergl": [
           {
            "marker": {
             "colorbar": {
              "outlinewidth": 0,
              "ticks": ""
             }
            },
            "type": "scattergl"
           }
          ],
          "scattermapbox": [
           {
            "marker": {
             "colorbar": {
              "outlinewidth": 0,
              "ticks": ""
             }
            },
            "type": "scattermapbox"
           }
          ],
          "scatterpolar": [
           {
            "marker": {
             "colorbar": {
              "outlinewidth": 0,
              "ticks": ""
             }
            },
            "type": "scatterpolar"
           }
          ],
          "scatterpolargl": [
           {
            "marker": {
             "colorbar": {
              "outlinewidth": 0,
              "ticks": ""
             }
            },
            "type": "scatterpolargl"
           }
          ],
          "scatterternary": [
           {
            "marker": {
             "colorbar": {
              "outlinewidth": 0,
              "ticks": ""
             }
            },
            "type": "scatterternary"
           }
          ],
          "surface": [
           {
            "colorbar": {
             "outlinewidth": 0,
             "ticks": ""
            },
            "colorscale": [
             [
              0,
              "#0d0887"
             ],
             [
              0.1111111111111111,
              "#46039f"
             ],
             [
              0.2222222222222222,
              "#7201a8"
             ],
             [
              0.3333333333333333,
              "#9c179e"
             ],
             [
              0.4444444444444444,
              "#bd3786"
             ],
             [
              0.5555555555555556,
              "#d8576b"
             ],
             [
              0.6666666666666666,
              "#ed7953"
             ],
             [
              0.7777777777777778,
              "#fb9f3a"
             ],
             [
              0.8888888888888888,
              "#fdca26"
             ],
             [
              1,
              "#f0f921"
             ]
            ],
            "type": "surface"
           }
          ],
          "table": [
           {
            "cells": {
             "fill": {
              "color": "#EBF0F8"
             },
             "line": {
              "color": "white"
             }
            },
            "header": {
             "fill": {
              "color": "#C8D4E3"
             },
             "line": {
              "color": "white"
             }
            },
            "type": "table"
           }
          ]
         },
         "layout": {
          "annotationdefaults": {
           "arrowcolor": "#2a3f5f",
           "arrowhead": 0,
           "arrowwidth": 1
          },
          "autotypenumbers": "strict",
          "coloraxis": {
           "colorbar": {
            "outlinewidth": 0,
            "ticks": ""
           }
          },
          "colorscale": {
           "diverging": [
            [
             0,
             "#8e0152"
            ],
            [
             0.1,
             "#c51b7d"
            ],
            [
             0.2,
             "#de77ae"
            ],
            [
             0.3,
             "#f1b6da"
            ],
            [
             0.4,
             "#fde0ef"
            ],
            [
             0.5,
             "#f7f7f7"
            ],
            [
             0.6,
             "#e6f5d0"
            ],
            [
             0.7,
             "#b8e186"
            ],
            [
             0.8,
             "#7fbc41"
            ],
            [
             0.9,
             "#4d9221"
            ],
            [
             1,
             "#276419"
            ]
           ],
           "sequential": [
            [
             0,
             "#0d0887"
            ],
            [
             0.1111111111111111,
             "#46039f"
            ],
            [
             0.2222222222222222,
             "#7201a8"
            ],
            [
             0.3333333333333333,
             "#9c179e"
            ],
            [
             0.4444444444444444,
             "#bd3786"
            ],
            [
             0.5555555555555556,
             "#d8576b"
            ],
            [
             0.6666666666666666,
             "#ed7953"
            ],
            [
             0.7777777777777778,
             "#fb9f3a"
            ],
            [
             0.8888888888888888,
             "#fdca26"
            ],
            [
             1,
             "#f0f921"
            ]
           ],
           "sequentialminus": [
            [
             0,
             "#0d0887"
            ],
            [
             0.1111111111111111,
             "#46039f"
            ],
            [
             0.2222222222222222,
             "#7201a8"
            ],
            [
             0.3333333333333333,
             "#9c179e"
            ],
            [
             0.4444444444444444,
             "#bd3786"
            ],
            [
             0.5555555555555556,
             "#d8576b"
            ],
            [
             0.6666666666666666,
             "#ed7953"
            ],
            [
             0.7777777777777778,
             "#fb9f3a"
            ],
            [
             0.8888888888888888,
             "#fdca26"
            ],
            [
             1,
             "#f0f921"
            ]
           ]
          },
          "colorway": [
           "#636efa",
           "#EF553B",
           "#00cc96",
           "#ab63fa",
           "#FFA15A",
           "#19d3f3",
           "#FF6692",
           "#B6E880",
           "#FF97FF",
           "#FECB52"
          ],
          "font": {
           "color": "#2a3f5f"
          },
          "geo": {
           "bgcolor": "white",
           "lakecolor": "white",
           "landcolor": "#E5ECF6",
           "showlakes": true,
           "showland": true,
           "subunitcolor": "white"
          },
          "hoverlabel": {
           "align": "left"
          },
          "hovermode": "closest",
          "mapbox": {
           "style": "light"
          },
          "paper_bgcolor": "white",
          "plot_bgcolor": "#E5ECF6",
          "polar": {
           "angularaxis": {
            "gridcolor": "white",
            "linecolor": "white",
            "ticks": ""
           },
           "bgcolor": "#E5ECF6",
           "radialaxis": {
            "gridcolor": "white",
            "linecolor": "white",
            "ticks": ""
           }
          },
          "scene": {
           "xaxis": {
            "backgroundcolor": "#E5ECF6",
            "gridcolor": "white",
            "gridwidth": 2,
            "linecolor": "white",
            "showbackground": true,
            "ticks": "",
            "zerolinecolor": "white"
           },
           "yaxis": {
            "backgroundcolor": "#E5ECF6",
            "gridcolor": "white",
            "gridwidth": 2,
            "linecolor": "white",
            "showbackground": true,
            "ticks": "",
            "zerolinecolor": "white"
           },
           "zaxis": {
            "backgroundcolor": "#E5ECF6",
            "gridcolor": "white",
            "gridwidth": 2,
            "linecolor": "white",
            "showbackground": true,
            "ticks": "",
            "zerolinecolor": "white"
           }
          },
          "shapedefaults": {
           "line": {
            "color": "#2a3f5f"
           }
          },
          "ternary": {
           "aaxis": {
            "gridcolor": "white",
            "linecolor": "white",
            "ticks": ""
           },
           "baxis": {
            "gridcolor": "white",
            "linecolor": "white",
            "ticks": ""
           },
           "bgcolor": "#E5ECF6",
           "caxis": {
            "gridcolor": "white",
            "linecolor": "white",
            "ticks": ""
           }
          },
          "title": {
           "x": 0.05
          },
          "xaxis": {
           "automargin": true,
           "gridcolor": "white",
           "linecolor": "white",
           "ticks": "",
           "title": {
            "standoff": 15
           },
           "zerolinecolor": "white",
           "zerolinewidth": 2
          },
          "yaxis": {
           "automargin": true,
           "gridcolor": "white",
           "linecolor": "white",
           "ticks": "",
           "title": {
            "standoff": 15
           },
           "zerolinecolor": "white",
           "zerolinewidth": 2
          }
         }
        },
        "xaxis": {
         "anchor": "y",
         "domain": [
          0,
          1
         ],
         "title": {
          "text": "BIN_cross_diff_GTR"
         }
        },
        "yaxis": {
         "anchor": "x",
         "domain": [
          0,
          1
         ],
         "title": {
          "text": "GTR_cross_diff_BIN"
         }
        }
       }
      },
      "text/html": [
       "<div>                            <div id=\"566645c3-ea1e-45ea-af95-bf833cb0d710\" class=\"plotly-graph-div\" style=\"height:525px; width:100%;\"></div>            <script type=\"text/javascript\">                require([\"plotly\"], function(Plotly) {                    window.PLOTLYENV=window.PLOTLYENV || {};                                    if (document.getElementById(\"566645c3-ea1e-45ea-af95-bf833cb0d710\")) {                    Plotly.newPlot(                        \"566645c3-ea1e-45ea-af95-bf833cb0d710\",                        [{\"hovertemplate\":\"BIN_cross_diff_GTR=%{x}<br>GTR_cross_diff_BIN=%{y}<extra></extra>\",\"legendgroup\":\"\",\"marker\":{\"color\":\"#636efa\",\"symbol\":\"circle\"},\"mode\":\"markers\",\"name\":\"\",\"orientation\":\"v\",\"showlegend\":false,\"x\":[-68.907826,-56.94317299999966,-90.52040099999977,-97.346364,-1.4400030000000186,-0.4985899999999788,-24.351473,-8.582014999999956,-52.72975200000019,-39.26046300000007,-17.521928000000116,-61.79250199999933,-8.665487999999982,-5.504466999999977,-7.069152999999972,-0.11874999999999858,-87.14706100000012,-0.6734569999999849,-81.31262100000004,-67.18661500000053,-27.637627000000066,-14.467556999999942,-10.29798500000004,-28.082559000000003,-12.943078999999955,-75.63103800000044,-3.5136039999999866,-28.600716000000034,-11.369766000000027,-3.0138430000000085,-0.9093009999999992,-4.744115999999849,-7.115165000000019,-17.491645000000005,-97.60646599999927,-6.835826999999881,-19.782767999999805,-107.1127949999991,-6.982460000000174,-17.92099200000007,-26.791960000000472,-2.9421689999999785,-53.713636999999835,-31.633156999999983,-7.142977999999971,-2.9053729999999973,-26.74589900000001,-45.83805099999972,-57.64431799999966,-0.22831399999998325,-98.98049700000047,-4.49683200000004,-6.579158000000007,-6.64305800000011,-7.288076999999703,-27.850886000000173,-17.439540999999963,-0.04302400000005946,-11.670495999999957,-6.066453000000024,-203.83318999999983,-90.9852949999995,-40.933034000000134,-11.182741999999962,-187.9004840000007,-23.34694999999965,-61.74561399999993,-5.9654400000001715,-4.013981000000058,-56.125823999999966,-44.21907100000044,-42.945768000000044,-75.01471500000025,-0.6590669999999363,-26.195392999999967,-123.61595500000112,-22.85441199999991,-30.031726999999933,-39.26046300000007,-39.283204000000296,-30.310226000000057,-1.475301000000016,-279.99371099999917,-27.477790000000027,-0.1351020000000176,-37.085235999999895,-68.734654,-4.789202000000159,-32.61073999999999,-25.207280000000083,-22.93875100000014,-33.40787099999943,-4.395667000000003,-37.558619000000135,-33.82629700000007,-18.549868999999944,-102.612975,-62.28049800000008,-60.13263500000039,-7.390245999999934,-157.5558430000001,-20.197055999999975,-0.2730010000000078,-11.455156999999872,-46.60896300000013,-99.72926499999994,-13.408567000000062,-11.091815999999994,-341.314627,-65.18909000000008,-6.571513999999979,-24.584874000000013,-15.339492000000064,-6.635189000000082,-101.45095500000025,-27.345534000000043,-12.893506000000116,-37.81574099999989,-120.39838400000008,-38.91764000000012,-10.783386000000007,-633.6988690000017,-56.02249000000029,-33.91773399999988,-19.014672999999902,-3.237435000000005,-213.62294799999836,-6.892019000000346,-253.9490050000004,-170.54569900000024,-115.68149799999998,-14.16194100000007,-0.07064300000000401,-10.182254000000285,-38.54722200000015,-22.25944400000003,-43.66533700000036,-628.0280359999997,-23.447721,-14.160109000000034,-10.77171999999996,-6.131611999999961,-0.6244130000000041,-0.6244130000000041,-36.030092999999965,-112.80494499999986,-45.758730000000014,-4.653217999999981,-9.509788000000071,-105.23433099999966,-12.110700999999835,-115.49409600000035,-88.33013899999969,-8.72846800000002,-87.61155300000064,-60.34258599999998,-97.350547,-126.76627600000029,-0.1351020000000176,-112.58129000000008,-10.638739999999984,-19.238256000000092,-6.138532999999995,-80.19193499999983,-0.9062230000000113,-21.380510999999984,-2.9462139999999977,-55.78516300000001,-1050.2776980000017,-4.317685999999981,-44.8533739999998,-43.319094000000405,-28.236507000000074,-3.770241999999996,-36.06334700000002,-77.58654999999999,-1.4263990000000035,-19.154266999999948,-14.577774999999974,-12.369621999999993,-7.464215999999965,-107.70790900000065,-20.560754000000088,-91.89192899999989,-7.31391700000006,-46.60896300000013,-90.4197059999999,-108.60766899999999,-19.62601200000006,-224.52595099999962,-241.88925100000006,-113.9118299999991,-0.5984100000000012,-66.04256900000019,-27.66931300000033,-3.5080930000000023,-90.6137149999995,-2.873491999999999,-54.873955000000024,-2.2868629999999968,-61.51614100000006,-0.6346029999999985,-32.75554999999997,-1.8898140000000012,-5.787166999999954,-13.401046999999835,-33.728634000000056,-8.830770999999913,-91.88680099999965,-53.702776000000085,-2.7988299999999953,-97.57374600000003,-13.61726699999997,-16.698515999999984,-1.3452389999999923,-24.861903999999868,-25.402648999999997,-25.81872599999997,-27.5285540000001,-27.850886000000173,-76.361356,-37.35251599999992,-43.35143700000003,-10.218701999999894,-9.232164000000012,-47.48090400000001,-44.36874399999988,-25.238505000000032,-106.10766599999988,-14.526008000000047,-17.47653400000013,-274.88534200000004,-46.910901000000194,-0.4239740000000154,-21.543206000000055,-10.004011999999989,-2.8485959999999864,-15.068544000000003,-19.281450999999834,-3.5773699999999735,-36.85688700000014,-31.43666300000001,-145.29201300000022,-103.61967900000036,-157.5558430000001,-0.3720140000000356,-33.3669910000001,-24.170311999999967,-3.088542000000075,-0.8672150000000016,-14.949832000000015,-171.8554179999992,-9.194244000000253,-136.7038539999994,-146.99205699999948,-11.796898000000056,-19.239941000000044,-99.17319999999927,-51.097655999999915,-393.9571130000004,-6.4539599999998245,-1.9100300000000061,-0.4100859999999784,-15.413491000000022,-37.25729699999988,-120.27296999999999,-1.5850059999999928,-127.81351200000063,-8.93243700000005,-7.901600999999914,-21.854199000000335,-88.22567600000002,-35.60299200000003,-41.86265299999968,-472.5789299999997,-3.4227160000000083,-3.9548810000000003,-3.4878539999999987,-253.9490050000004,-108.14526500000011,-29.298986000000014,-63.36852599999929,-24.087752000000023,-20.849542999999812,-5.752870999999914,-138.1383340000002,-13.563686000000018,-9.192270000000008,-11.513449000000008,-1.998660000000001,-0.2523609999999934,-65.18370100000004,-0.18938500000001568,-1311.6413179999995,-31.64878499999986,-7.0510629999998855,-7.355166000000281,-3.485096999999996,-59.31819799999994,-101.61274000000049,-0.9116860000000031,-15.568506999999954,-5.595103999999992,-105.55915600000117,-28.543789999999944,-26.692731000000094,-39.54411800000025,-14.100238999999988,-87.25333299999966,-17.72183000000041,-33.42077500000005,-24.93512199999998,-85.85988700000053,-21.931407000000036,-2.692264999999992,-8.996976000000359,-6.864583000000039,-108.60766899999999,-52.521606999999676,-81.98305100000016,-103.8585869999988,-11.61193000000003,-37.99359900000002,-0.44946000000000197,-18.72414100000003,-9.618798999999967,-65.10395600000004,-10.39706000000001,-45.61226399999987,-9.304591000000073,-44.99452500000007,-34.59219099999996,-26.60818499999914,-22.835739999999987,-137.87179400000014,-96.22292800000105,-43.80482499999971,-14.467556999999942,-12.276403999999957,-9.783012000000099,-114.06522399999994,-60.429479000000356,-122.57587000000058,-42.87002799999982,-1.2497809999999845,-6.971287999999731,-112.26699899999949,-7.197221000000013,-144.3999070000009,-135.34649000000013,-139.9573260000002,-0.3143359999999973,-1.4619979999999941,-201.82995899999992,-323.08436599999914,-48.69527900000003,-1.4235479999999825,-17.753615999999965,-20.449071000000004,-173.47097399999984,-147.48111400000016,-6.847937999999999,-31.254268999999965,-33.959891999999854,-68.89158500000008,-105.06684700000187,-26.682106000000203,-21.006263000000217,-628.980431,-3.684606999999687,-138.64878999999928,-101.54917799999998],\"xaxis\":\"x\",\"y\":[-19.072178000000008,-27.224960999999894,-31.613710999999967,-30.881347000000005,-0.6632000000000033,-0.38179999999999836,-11.923226,-3.779794999999922,-24.01167899999996,-11.845105999999987,-6.987525000000005,-23.954155000000355,-4.0047289999999975,-2.703204000000028,-3.0258189999999843,-0.9319389999999999,-57.05705799999987,0.2941730000000007,-29.25356499999998,-26.82079399999975,-17.820944000000054,-5.972504000000072,-6.87811499999998,-4.999217999999985,-6.715208999999987,-25.022125999999844,-0.6936520000000002,-16.151008000000047,-5.939642000000049,-2.9075559999999996,-2.299673999999996,-3.861622000000011,-6.970612000000003,-6.982692000000014,-50.184150000000045,-2.9540680000000066,-11.41388500000005,-59.96987900000022,-3.002187000000049,-5.623330999999894,-14.04292600000008,-0.8699289999999991,-25.37429599999996,-12.009242,-6.603820000000013,-5.481699999999989,-31.11414400000001,-17.955034999999953,-31.639151999999967,-0.0971410000000077,-42.919014999999945,-4.134706999999992,-3.817144000000013,-4.520583999999985,-3.4349750000001222,-14.011842000000343,-8.061118000000079,-0.028364999999951124,-4.636534000000097,-9.172598999999991,-65.79851800000006,-31.681508000000576,-21.417981000000054,-4.355362000000014,-71.02498400000013,-9.698199000000159,-42.95404399999984,-3.681884000000082,-1.6899069999999483,-22.166833999999994,-23.515608000000157,-19.651940000000195,-46.32675599999993,-0.32133900000002313,-12.95683199999985,-60.6464160000005,-9.893133000000034,-27.185427000000004,-11.845105999999987,-22.690030999999635,-13.501320999999962,-1.495112000000006,-146.2125900000001,-7.998996999999974,-0.07026400000000876,-22.9952159999998,-1.546609,-2.280993999999964,-10.258703999999994,-16.566155999999978,-11.89316900000017,-17.66446300000007,-2.5922160000000076,-13.534519000000046,-12.710578999999939,-9.891766999999959,-42.025862999999845,-32.40648799999963,-23.259367999999995,-6.8913499999999885,-50.8537580000002,-7.6482710000000225,-0.07482999999999862,-6.976442000000134,-25.460881999999856,-33.78963699999986,-4.039143000000024,-6.659186999999974,-35.41663200000005,-35.088802999999984,-7.629548999999997,-9.324078000000043,-10.859335000000101,-2.8821100000000115,-41.110077000000274,-17.519015999999965,-4.566261999999938,-26.753961000000118,-43.372518999999556,-26.641638000000057,-6.7057900000000075,-227.092521999999,-23.15959399999997,-15.244516999999973,-10.95717599999989,-1.1991610000000037,-94.83499199999915,-2.9580329999998867,-89.46849999999995,-67.53275600000052,-39.41142899999997,-6.200776000000019,-0.2222630000000052,-11.19255000000021,-14.891104999999925,-8.277561999999989,-15.508313000000044,-195.66771399999925,-10.094583999999998,-4.996221999999989,-7.4262619999999515,-3.789461999999986,-0.2800619999999867,-0.2800619999999867,-17.55169699999999,-58.8625949999996,-22.925051000000053,-1.7213549999999884,-6.714207999999985,-33.04458100000011,-6.465626999999927,-44.03132000000005,-46.49694600000021,-1.9134779999999978,-63.23478400000022,-20.978327999999976,-38.219114000000445,-46.11845199999971,-0.07026400000000876,-55.39824300000055,-5.620090000000005,-8.005920000000003,-3.2071269999999856,-41.86022300000013,-0.32017700000000104,-10.369536999999994,-2.902307999999991,-21.09155099999998,-381.86862199999996,-1.353555,-24.290580999999975,-17.17489599999999,-7.110202000000072,-1.8650519999999915,-30.76976300000001,-30.956285000000207,-1.9800300000000064,-13.091301999999985,-8.73466499999995,-4.625369000000006,-3.8953369999999836,-54.19716299999982,-7.54222800000025,-31.447857999999997,-3.978320999999994,-25.460881999999856,-39.68464599999999,-44.517565000000104,-7.478707000000043,-65.107798,-59.15745700000002,-64.85573999999997,-0.4125970000000052,-25.265548999999965,-13.40811500000018,-0.7377659999999935,-51.53328500000043,-1.883076999999986,-26.383677999999918,-1.4609999999999985,-47.85639199999969,-0.9970959999999991,-16.421557000000007,-2.827574000000027,-5.466762000000017,-7.188178999999991,-13.66617199999996,-4.580593000000022,-36.17155200000025,-25.72054900000012,-1.244498,-43.91305800000009,-7.131910000000005,-7.721450000000004,-1.4551100000000048,-24.88351499999999,-16.272432999999978,-12.402305999999953,-17.47407800000002,-14.011842000000343,-33.84125400000005,-19.11825799999997,-15.770029000000022,-7.5265210000000025,-4.280815000000075,-22.045005999999944,-16.061738000000105,-11.238543999999933,-40.727350000000115,-11.369183000000021,-10.057052999999996,-95.47282699999994,-24.031285000000025,-0.5324699999999893,-11.925450999999953,-2.7575490000000116,-5.415447999999998,-26.028255,-11.203267000000096,-1.322484999999915,-24.528733000000102,-10.516215000000017,-55.398331000000326,-50.81862899999987,-50.8537580000002,-0.15820299999995768,-26.328730000000064,-8.974200999999994,-6.56019399999991,-1.1633309999999994,-10.420372000000015,-61.43209300000035,-9.134909000000107,-59.11183600000004,-75.43883000000005,-3.868365000000267,-9.242645000000039,-40.82085999999981,-18.30582400000003,-148.9601249999996,-2.9699900000000525,-0.8335059999999999,-0.18684100000000115,-6.322002999999995,-13.865293999999949,-49.59145499999977,-1.496859999999998,-57.124079000000165,-6.453056000000004,-10.109122999999954,-10.75922700000001,-42.65351499999997,-23.756426000000005,-22.531718000000183,-301.5459840000003,-4.790212999999994,-1.8954570000000217,-1.29637799999999,-89.46849999999995,-42.66777699999966,-12.221960999999965,-28.466719000000012,-12.626607000000035,-11.548557999999957,-11.366737999999998,-44.11235399999998,-3.405315999999999,-2.4854080000000067,-9.266225000000006,-2.665881000000013,-0.5024230000000003,-20.449221000000023,-0.7729939999999829,-190.61333500000023,-13.270034000000123,-17.965910000000008,-2.8956570000000283,-1.5489079999999973,-32.58908199999996,-41.4472310000001,-6.208347000000003,-9.441845,-3.440761000000009,-46.19142699999975,-10.870980000000031,-19.459170000000086,-21.040616,-8.02344400000004,-43.28728099999989,-6.731753000000026,-8.75361300000003,-8.715596000000005,-44.89245099999971,-10.511506999999938,-1.4441479999999984,-4.886662999999999,-2.6572459999999865,-44.517565000000104,-25.551574999999957,-43.73428700000022,-36.76563100000021,-4.517695000000003,-14.392896000000007,-2.1490790000000004,-11.15472600000004,-7.990611999999999,-23.836926000000005,-3.8399109999999723,-17.194070999999894,-6.427325999999994,-29.24452199999996,-26.098803999999973,-15.959287000000131,-18.101679999999988,-56.50714000000016,-38.341081999999915,-23.391676999999845,-5.972504000000072,-5.625949999999989,-6.60240900000008,-58.4036659999997,-27.324715000000197,-43.708567000000585,-19.65035200000011,-1.525509999999997,-2.7262479999999414,-58.676784000000225,-2.5201020000000085,-76.72436199999993,-42.222271999999975,-47.69653400000004,-0.1545679999999976,0.5452319999999986,-59.211051,-127.15516800000114,-22.392205999999987,-1.063225999999986,-7.314238000000046,-12.028306999999984,-120.70105500000136,-87.7845870000001,-1.6502210000000161,-8.695160999999985,-14.046929999999975,-14.714317999999935,-54.43867300000056,-13.9702199999997,-7.6416400000002795,-195.7349949999989,-1.772265999999945,-57.20862699999998,-57.387555999999904],\"yaxis\":\"y\",\"type\":\"scatter\"}],                        {\"template\":{\"data\":{\"histogram2dcontour\":[{\"type\":\"histogram2dcontour\",\"colorbar\":{\"outlinewidth\":0,\"ticks\":\"\"},\"colorscale\":[[0.0,\"#0d0887\"],[0.1111111111111111,\"#46039f\"],[0.2222222222222222,\"#7201a8\"],[0.3333333333333333,\"#9c179e\"],[0.4444444444444444,\"#bd3786\"],[0.5555555555555556,\"#d8576b\"],[0.6666666666666666,\"#ed7953\"],[0.7777777777777778,\"#fb9f3a\"],[0.8888888888888888,\"#fdca26\"],[1.0,\"#f0f921\"]]}],\"choropleth\":[{\"type\":\"choropleth\",\"colorbar\":{\"outlinewidth\":0,\"ticks\":\"\"}}],\"histogram2d\":[{\"type\":\"histogram2d\",\"colorbar\":{\"outlinewidth\":0,\"ticks\":\"\"},\"colorscale\":[[0.0,\"#0d0887\"],[0.1111111111111111,\"#46039f\"],[0.2222222222222222,\"#7201a8\"],[0.3333333333333333,\"#9c179e\"],[0.4444444444444444,\"#bd3786\"],[0.5555555555555556,\"#d8576b\"],[0.6666666666666666,\"#ed7953\"],[0.7777777777777778,\"#fb9f3a\"],[0.8888888888888888,\"#fdca26\"],[1.0,\"#f0f921\"]]}],\"heatmap\":[{\"type\":\"heatmap\",\"colorbar\":{\"outlinewidth\":0,\"ticks\":\"\"},\"colorscale\":[[0.0,\"#0d0887\"],[0.1111111111111111,\"#46039f\"],[0.2222222222222222,\"#7201a8\"],[0.3333333333333333,\"#9c179e\"],[0.4444444444444444,\"#bd3786\"],[0.5555555555555556,\"#d8576b\"],[0.6666666666666666,\"#ed7953\"],[0.7777777777777778,\"#fb9f3a\"],[0.8888888888888888,\"#fdca26\"],[1.0,\"#f0f921\"]]}],\"heatmapgl\":[{\"type\":\"heatmapgl\",\"colorbar\":{\"outlinewidth\":0,\"ticks\":\"\"},\"colorscale\":[[0.0,\"#0d0887\"],[0.1111111111111111,\"#46039f\"],[0.2222222222222222,\"#7201a8\"],[0.3333333333333333,\"#9c179e\"],[0.4444444444444444,\"#bd3786\"],[0.5555555555555556,\"#d8576b\"],[0.6666666666666666,\"#ed7953\"],[0.7777777777777778,\"#fb9f3a\"],[0.8888888888888888,\"#fdca26\"],[1.0,\"#f0f921\"]]}],\"contourcarpet\":[{\"type\":\"contourcarpet\",\"colorbar\":{\"outlinewidth\":0,\"ticks\":\"\"}}],\"contour\":[{\"type\":\"contour\",\"colorbar\":{\"outlinewidth\":0,\"ticks\":\"\"},\"colorscale\":[[0.0,\"#0d0887\"],[0.1111111111111111,\"#46039f\"],[0.2222222222222222,\"#7201a8\"],[0.3333333333333333,\"#9c179e\"],[0.4444444444444444,\"#bd3786\"],[0.5555555555555556,\"#d8576b\"],[0.6666666666666666,\"#ed7953\"],[0.7777777777777778,\"#fb9f3a\"],[0.8888888888888888,\"#fdca26\"],[1.0,\"#f0f921\"]]}],\"surface\":[{\"type\":\"surface\",\"colorbar\":{\"outlinewidth\":0,\"ticks\":\"\"},\"colorscale\":[[0.0,\"#0d0887\"],[0.1111111111111111,\"#46039f\"],[0.2222222222222222,\"#7201a8\"],[0.3333333333333333,\"#9c179e\"],[0.4444444444444444,\"#bd3786\"],[0.5555555555555556,\"#d8576b\"],[0.6666666666666666,\"#ed7953\"],[0.7777777777777778,\"#fb9f3a\"],[0.8888888888888888,\"#fdca26\"],[1.0,\"#f0f921\"]]}],\"mesh3d\":[{\"type\":\"mesh3d\",\"colorbar\":{\"outlinewidth\":0,\"ticks\":\"\"}}],\"scatter\":[{\"fillpattern\":{\"fillmode\":\"overlay\",\"size\":10,\"solidity\":0.2},\"type\":\"scatter\"}],\"parcoords\":[{\"type\":\"parcoords\",\"line\":{\"colorbar\":{\"outlinewidth\":0,\"ticks\":\"\"}}}],\"scatterpolargl\":[{\"type\":\"scatterpolargl\",\"marker\":{\"colorbar\":{\"outlinewidth\":0,\"ticks\":\"\"}}}],\"bar\":[{\"error_x\":{\"color\":\"#2a3f5f\"},\"error_y\":{\"color\":\"#2a3f5f\"},\"marker\":{\"line\":{\"color\":\"#E5ECF6\",\"width\":0.5},\"pattern\":{\"fillmode\":\"overlay\",\"size\":10,\"solidity\":0.2}},\"type\":\"bar\"}],\"scattergeo\":[{\"type\":\"scattergeo\",\"marker\":{\"colorbar\":{\"outlinewidth\":0,\"ticks\":\"\"}}}],\"scatterpolar\":[{\"type\":\"scatterpolar\",\"marker\":{\"colorbar\":{\"outlinewidth\":0,\"ticks\":\"\"}}}],\"histogram\":[{\"marker\":{\"pattern\":{\"fillmode\":\"overlay\",\"size\":10,\"solidity\":0.2}},\"type\":\"histogram\"}],\"scattergl\":[{\"type\":\"scattergl\",\"marker\":{\"colorbar\":{\"outlinewidth\":0,\"ticks\":\"\"}}}],\"scatter3d\":[{\"type\":\"scatter3d\",\"line\":{\"colorbar\":{\"outlinewidth\":0,\"ticks\":\"\"}},\"marker\":{\"colorbar\":{\"outlinewidth\":0,\"ticks\":\"\"}}}],\"scattermapbox\":[{\"type\":\"scattermapbox\",\"marker\":{\"colorbar\":{\"outlinewidth\":0,\"ticks\":\"\"}}}],\"scatterternary\":[{\"type\":\"scatterternary\",\"marker\":{\"colorbar\":{\"outlinewidth\":0,\"ticks\":\"\"}}}],\"scattercarpet\":[{\"type\":\"scattercarpet\",\"marker\":{\"colorbar\":{\"outlinewidth\":0,\"ticks\":\"\"}}}],\"carpet\":[{\"aaxis\":{\"endlinecolor\":\"#2a3f5f\",\"gridcolor\":\"white\",\"linecolor\":\"white\",\"minorgridcolor\":\"white\",\"startlinecolor\":\"#2a3f5f\"},\"baxis\":{\"endlinecolor\":\"#2a3f5f\",\"gridcolor\":\"white\",\"linecolor\":\"white\",\"minorgridcolor\":\"white\",\"startlinecolor\":\"#2a3f5f\"},\"type\":\"carpet\"}],\"table\":[{\"cells\":{\"fill\":{\"color\":\"#EBF0F8\"},\"line\":{\"color\":\"white\"}},\"header\":{\"fill\":{\"color\":\"#C8D4E3\"},\"line\":{\"color\":\"white\"}},\"type\":\"table\"}],\"barpolar\":[{\"marker\":{\"line\":{\"color\":\"#E5ECF6\",\"width\":0.5},\"pattern\":{\"fillmode\":\"overlay\",\"size\":10,\"solidity\":0.2}},\"type\":\"barpolar\"}],\"pie\":[{\"automargin\":true,\"type\":\"pie\"}]},\"layout\":{\"autotypenumbers\":\"strict\",\"colorway\":[\"#636efa\",\"#EF553B\",\"#00cc96\",\"#ab63fa\",\"#FFA15A\",\"#19d3f3\",\"#FF6692\",\"#B6E880\",\"#FF97FF\",\"#FECB52\"],\"font\":{\"color\":\"#2a3f5f\"},\"hovermode\":\"closest\",\"hoverlabel\":{\"align\":\"left\"},\"paper_bgcolor\":\"white\",\"plot_bgcolor\":\"#E5ECF6\",\"polar\":{\"bgcolor\":\"#E5ECF6\",\"angularaxis\":{\"gridcolor\":\"white\",\"linecolor\":\"white\",\"ticks\":\"\"},\"radialaxis\":{\"gridcolor\":\"white\",\"linecolor\":\"white\",\"ticks\":\"\"}},\"ternary\":{\"bgcolor\":\"#E5ECF6\",\"aaxis\":{\"gridcolor\":\"white\",\"linecolor\":\"white\",\"ticks\":\"\"},\"baxis\":{\"gridcolor\":\"white\",\"linecolor\":\"white\",\"ticks\":\"\"},\"caxis\":{\"gridcolor\":\"white\",\"linecolor\":\"white\",\"ticks\":\"\"}},\"coloraxis\":{\"colorbar\":{\"outlinewidth\":0,\"ticks\":\"\"}},\"colorscale\":{\"sequential\":[[0.0,\"#0d0887\"],[0.1111111111111111,\"#46039f\"],[0.2222222222222222,\"#7201a8\"],[0.3333333333333333,\"#9c179e\"],[0.4444444444444444,\"#bd3786\"],[0.5555555555555556,\"#d8576b\"],[0.6666666666666666,\"#ed7953\"],[0.7777777777777778,\"#fb9f3a\"],[0.8888888888888888,\"#fdca26\"],[1.0,\"#f0f921\"]],\"sequentialminus\":[[0.0,\"#0d0887\"],[0.1111111111111111,\"#46039f\"],[0.2222222222222222,\"#7201a8\"],[0.3333333333333333,\"#9c179e\"],[0.4444444444444444,\"#bd3786\"],[0.5555555555555556,\"#d8576b\"],[0.6666666666666666,\"#ed7953\"],[0.7777777777777778,\"#fb9f3a\"],[0.8888888888888888,\"#fdca26\"],[1.0,\"#f0f921\"]],\"diverging\":[[0,\"#8e0152\"],[0.1,\"#c51b7d\"],[0.2,\"#de77ae\"],[0.3,\"#f1b6da\"],[0.4,\"#fde0ef\"],[0.5,\"#f7f7f7\"],[0.6,\"#e6f5d0\"],[0.7,\"#b8e186\"],[0.8,\"#7fbc41\"],[0.9,\"#4d9221\"],[1,\"#276419\"]]},\"xaxis\":{\"gridcolor\":\"white\",\"linecolor\":\"white\",\"ticks\":\"\",\"title\":{\"standoff\":15},\"zerolinecolor\":\"white\",\"automargin\":true,\"zerolinewidth\":2},\"yaxis\":{\"gridcolor\":\"white\",\"linecolor\":\"white\",\"ticks\":\"\",\"title\":{\"standoff\":15},\"zerolinecolor\":\"white\",\"automargin\":true,\"zerolinewidth\":2},\"scene\":{\"xaxis\":{\"backgroundcolor\":\"#E5ECF6\",\"gridcolor\":\"white\",\"linecolor\":\"white\",\"showbackground\":true,\"ticks\":\"\",\"zerolinecolor\":\"white\",\"gridwidth\":2},\"yaxis\":{\"backgroundcolor\":\"#E5ECF6\",\"gridcolor\":\"white\",\"linecolor\":\"white\",\"showbackground\":true,\"ticks\":\"\",\"zerolinecolor\":\"white\",\"gridwidth\":2},\"zaxis\":{\"backgroundcolor\":\"#E5ECF6\",\"gridcolor\":\"white\",\"linecolor\":\"white\",\"showbackground\":true,\"ticks\":\"\",\"zerolinecolor\":\"white\",\"gridwidth\":2}},\"shapedefaults\":{\"line\":{\"color\":\"#2a3f5f\"}},\"annotationdefaults\":{\"arrowcolor\":\"#2a3f5f\",\"arrowhead\":0,\"arrowwidth\":1},\"geo\":{\"bgcolor\":\"white\",\"landcolor\":\"#E5ECF6\",\"subunitcolor\":\"white\",\"showland\":true,\"showlakes\":true,\"lakecolor\":\"white\"},\"title\":{\"x\":0.05},\"mapbox\":{\"style\":\"light\"}}},\"xaxis\":{\"anchor\":\"y\",\"domain\":[0.0,1.0],\"title\":{\"text\":\"BIN_cross_diff_GTR\"}},\"yaxis\":{\"anchor\":\"x\",\"domain\":[0.0,1.0],\"title\":{\"text\":\"GTR_cross_diff_BIN\"}},\"legend\":{\"tracegroupgap\":0},\"margin\":{\"t\":60}},                        {\"responsive\": true}                    ).then(function(){\n",
       "                            \n",
       "var gd = document.getElementById('566645c3-ea1e-45ea-af95-bf833cb0d710');\n",
       "var x = new MutationObserver(function (mutations, observer) {{\n",
       "        var display = window.getComputedStyle(gd).display;\n",
       "        if (!display || display === 'none') {{\n",
       "            console.log([gd, 'removed!']);\n",
       "            Plotly.purge(gd);\n",
       "            observer.disconnect();\n",
       "        }}\n",
       "}});\n",
       "\n",
       "// Listen for the removal of the full notebook cells\n",
       "var notebookContainer = gd.closest('#notebook-container');\n",
       "if (notebookContainer) {{\n",
       "    x.observe(notebookContainer, {childList: true});\n",
       "}}\n",
       "\n",
       "// Listen for the clearing of the current output cell\n",
       "var outputEl = gd.closest('.output');\n",
       "if (outputEl) {{\n",
       "    x.observe(outputEl, {childList: true});\n",
       "}}\n",
       "\n",
       "                        })                };                });            </script>        </div>"
      ]
     },
     "metadata": {},
     "output_type": "display_data"
    },
    {
     "data": {
      "application/vnd.plotly.v1+json": {
       "config": {
        "plotlyServerURL": "https://plot.ly"
       },
       "data": [
        {
         "hovertemplate": "BIN_cross_diff_MK=%{x}<br>MK_cross_diff_BIN=%{y}<extra></extra>",
         "legendgroup": "",
         "marker": {
          "color": "#636efa",
          "symbol": "circle"
         },
         "mode": "markers",
         "name": "",
         "orientation": "v",
         "showlegend": false,
         "type": "scatter",
         "x": [
          -4.8016810000000305,
          -9.410516999999345,
          -10.094861000000037,
          -9.337588000000324,
          -0.24383400000002098,
          -2.3003369999999563,
          -3.272207000000037,
          -3.22295599999984,
          -2.447733999999855,
          -21.05428299999994,
          -6.318537000000106,
          -7.239362999999685,
          -3.69454300000001,
          -2.9238800000000538,
          -0.4311339999999859,
          -0.06527899999999676,
          -28.33185800000001,
          -0.15502200000000244,
          -5.71799800000008,
          -5.37236700000085,
          -8.617318999999952,
          -13.406203000000005,
          -1.445999000000029,
          -2.19125600000001,
          -7.2118789999999535,
          -7.430871999999908,
          -0.12055499999999597,
          -2.765038000000004,
          -1.4504710000001069,
          -0.31872599999999807,
          -0.8355749999999773,
          -2.8955369999998766,
          -2.614564999999999,
          -5.549802,
          -23.244104999999763,
          -8.24471399999993,
          -4.312059999999974,
          -14.735815000000002,
          -7.056152999999995,
          -1.2899500000000899,
          -9.320663000000422,
          -0.028518999999988637,
          -7.192587000000003,
          -6.724575000000016,
          -0.25271299999997154,
          -2.0907589999999914,
          -17.73967700000003,
          -4.070076999999856,
          -6.015336999999818,
          -0.34059299999998416,
          -28.790423000000374,
          -1.6377800000000207,
          -2.6169330000000173,
          -3.0576230000001487,
          -8.07821899999999,
          -8.264231000000109,
          -1.8408280000001014,
          -1.023074000000065,
          -1.3613569999999982,
          -17.135493999999994,
          -13.458795999999893,
          -11.142582999999831,
          -13.437171000000035,
          -4.400837999999965,
          -139.36347999999998,
          -5.72515199999998,
          -23.446619000000055,
          -1.7292879999999968,
          -6.145980000000009,
          -4.417507999999998,
          -12.59076400000049,
          -10.79821899999979,
          -29.370670000000246,
          -1.8367620000000215,
          -6.907543999999689,
          -31.244001000000935,
          -2.671096000000034,
          -20.961698999999953,
          -21.05428299999994,
          -9.041866999999911,
          -8.032224999999926,
          -0.23863900000000626,
          -26.210065999999642,
          -2.504568000000063,
          -0.7807109999999966,
          -16.966491999999562,
          -115.006414,
          -5.2708520000001045,
          -15.778280999999964,
          -3.875807000000009,
          -8.639714999999796,
          -24.740772999999535,
          -1.0166000000000395,
          -3.356160999999929,
          -2.2113919999999325,
          -4.324806999999964,
          -15.711506999999983,
          -18.7991320000001,
          -14.38534800000025,
          -1.3472079999999096,
          -94.54125999999997,
          -7.111407999999983,
          -0.04970400000000552,
          -3.5492189999999937,
          -15.411329999999907,
          -13.581100000000333,
          -1.2096750000000611,
          -4.0517019999999775,
          -187.56304699999998,
          -34.096262000000024,
          -0.7889040000000023,
          -6.463765999999964,
          -19.198191999999835,
          -7.787135000000035,
          -11.124560000000201,
          -9.247980000000098,
          -6.457610000000159,
          -5.686986000000161,
          -9.11507999999958,
          -10.110987999999907,
          -3.345286999999985,
          -501.6676669999997,
          -10.031214000000091,
          -8.65053399999988,
          -3.2742490000000544,
          -0.08841500000005453,
          -25.660107999998218,
          -7.4710360000003675,
          -123.54297600000064,
          -13.943124999999782,
          -85.34201200000001,
          -1.8493200000000343,
          -0.4301640000000049,
          -18.88072000000011,
          -9.01088000000027,
          -5.760407999999984,
          -3.9968590000003132,
          -524.3449870000004,
          -13.865317000000005,
          -2.520324999999957,
          -7.3613450000000284,
          -1.8731070000000045,
          -1.1912429999999858,
          -1.1912429999999858,
          -15.743698999999992,
          -30.53077200000007,
          -1.6261269999999968,
          -0.6692249999999831,
          -3.514550999999983,
          -17.67163999999866,
          -4.659260999999788,
          -25.077903000000333,
          -18.99968700000045,
          -0.3477350000000001,
          -23.433646999999837,
          -9.454258999999979,
          -18.680403000000297,
          -13.070544000000154,
          -0.7807109999999966,
          -14.142486000000645,
          -6.4765129999999544,
          -2.2058370000000878,
          -1.712508000000014,
          -30.30228299999999,
          -0.9327729999999974,
          -0.9117609999999843,
          -0.34629800000001865,
          -9.726646999999957,
          -759.0141620000031,
          -3.5666499999999814,
          -11.29979400000002,
          -2.8769900000002053,
          -2.9524569999998675,
          -1.4817229999999881,
          -9.046243000000004,
          -7.536480999999185,
          -0.29279900000000225,
          -2.031612999999993,
          -3.765376999999944,
          -4.414768999999978,
          -2.0877570000000105,
          -14.085641000001488,
          -18.221895000000586,
          -3.3239589999998316,
          -2.6713600000000497,
          -15.411329999999907,
          -32.534447,
          -12.541651999999885,
          -1.1786409999999705,
          -7.257826000000023,
          -71.95418699999982,
          -20.494038999999248,
          -1.0218679999999836,
          -15.266651000000365,
          -15.183552999999847,
          -2.7426519999999925,
          -24.182159999998476,
          -1.5266710000000216,
          -29.83872400000007,
          -0.08744699999999739,
          -16.592991000001348,
          -0.28555299999999306,
          -6.436286999999993,
          -3.259907999999996,
          -2.4347980000000007,
          -2.8991729999997915,
          -7.484086000000389,
          -5.071115999999847,
          -5.999735999999757,
          -9.541667000000416,
          -0.7107429999999937,
          -16.611337999998796,
          -2.0070709999999963,
          -3.3332999999999515,
          -0.8117420000000095,
          -3.384461999999985,
          -5.564284999999984,
          -9.542311000000154,
          -6.63562300000001,
          -8.264231000000109,
          -9.969383999999991,
          -10.455023999999867,
          -3.6537070000001677,
          -6.884637999999995,
          -10.854491000000053,
          -2.5517580000000635,
          -8.268912999999884,
          -5.689093000000071,
          -13.643702999999732,
          -1.4117549999998573,
          -1.6223810000001322,
          -177.2891370000002,
          -11.978310999999849,
          -0.19518700000000422,
          -4.275503999999955,
          -1.355436999999995,
          -2.273015999999984,
          -1.8855409999999893,
          -1.7102229999998144,
          -3.469823000000133,
          -5.422535000000153,
          -8.60803500000003,
          -35.57150300000012,
          -26.719200000000455,
          -94.54125999999997,
          -1.2007579999999507,
          -3.3975840000000517,
          -2.2755600000000413,
          -3.4527550000000247,
          -0.10614699999999289,
          -0.3291140000000041,
          -24.328354999999647,
          -7.28310300000021,
          -32.428054999998494,
          -47.266491999998834,
          -10.76910399999997,
          -13.527544000000034,
          -10.890471000000616,
          -1.2724759999998696,
          -357.1104090000008,
          -7.787941000000046,
          -0.10622200000000248,
          -0.047943999999972675,
          -4.05365299999994,
          -2.264993000000004,
          -10.751538000000437,
          -0.5846540000000005,
          -17.997691999999915,
          -2.064988000000085,
          -9.124955999999997,
          -8.350132999999914,
          -22.482218000000103,
          -10.762597000000028,
          -13.289279999999962,
          -50.317103999997926,
          -0.6626090000000033,
          -0.37126200000000154,
          -0.28219400000000405,
          -123.54297600000064,
          -26.169882000000143,
          -0.8700049999999919,
          -14.163257999999587,
          -7.340683000000013,
          -11.195189999999911,
          -13.599905999999919,
          -48.287708000000066,
          -0.7265820000000076,
          -1.5263410000000022,
          -1.0057280000000048,
          -0.6855309999999974,
          -0.16297999999999035,
          -7.840806000000043,
          -2.554603000000043,
          -1029.267641,
          -5.348038999999972,
          -2.950791999999865,
          -0.8754910000002383,
          -0.25480699999999956,
          -11.526589000000058,
          -13.333623000000443,
          -1.907149000000004,
          -1.5688470000000052,
          -0.13977699999998094,
          -18.931219000000056,
          -3.3875530000000253,
          -18.382530000000088,
          -12.440390000000207,
          -1.1302839999999605,
          -33.28531800000019,
          -16.631207999999788,
          -3.7266510000000608,
          -1.5791269999999713,
          -13.094576000001325,
          -3.420139000000063,
          -0.3147419999999954,
          -6.121321999999964,
          -0.43556199999989076,
          -12.541651999999885,
          -17.218219000000317,
          -19.400015000000167,
          -12.312540999999328,
          -2.5427240000001348,
          -1.048167000000035,
          -0.2534069999999957,
          -11.276419000000033,
          -4.852927999999963,
          -33.58856800000001,
          -3.603749999999991,
          -7.136260999999649,
          -0.3090950000000703,
          -10.699284999999918,
          -9.010569999999916,
          -8.624345999999605,
          -4.293013999999857,
          -14.309993000000304,
          -6.2112230000002455,
          -14.640551999999843,
          -13.406203000000005,
          -3.5727889999998297,
          -2.945660000000089,
          -30.10474400000021,
          -10.663062999999966,
          -8.07376099999965,
          -10.798219000000245,
          -0.21904499999999416,
          -0.8218010000000504,
          -25.635408999999527,
          -1.123309000000006,
          -45.60155200000008,
          -47.8909470000001,
          -49.58138699999995,
          -0.27738400000001207,
          -1.8967319999999859,
          -112.66971199999989,
          -34.57118199999968,
          -12.564262999999755,
          -3.1312090000000126,
          -11.177947000000131,
          -1.4824740000000247,
          -41.614692000001014,
          -29.12871300000006,
          -4.1551659999999515,
          -3.756170999999995,
          -17.959297999999762,
          -5.014664999999923,
          -24.84655600000042,
          -8.326634999999442,
          -16.69350200000008,
          -524.3449870000004,
          -2.5146859999999833,
          -11.931117000000086,
          -7.184799999999996
         ],
         "xaxis": "x",
         "y": [
          -3.0051460000000816,
          -7.035563999999795,
          -10.091971999999942,
          -9.976145999999972,
          -0.1173610000000167,
          -3.843886999999995,
          -2.247667000000007,
          -3.614579000000049,
          -4.858758000000307,
          -24.012615000000096,
          -6.33189399999992,
          -7.402238000000125,
          -4.411506000000031,
          -2.680360999999948,
          -0.2988539999999773,
          -0.029821000000001874,
          -21.727515999999923,
          -0.1562060000000116,
          -3.7784690000000865,
          -4.249575999999706,
          -6.079040999999961,
          -8.550825000000259,
          -0.8536790000000565,
          -1.274249999999995,
          -3.663591999999994,
          -7.579559000000245,
          -0.15966099999999983,
          -1.6943360000000212,
          -1.9509329999999636,
          -0.2153069999999957,
          -1.8068480000000022,
          -2.584190000000035,
          -1.7558779999999956,
          -3.3122129999999856,
          -14.66630299999997,
          -7.3668689999999515,
          -2.9317379999999957,
          -13.427592000000004,
          -6.6503719999996065,
          -1.3848690000000943,
          -8.706932000000052,
          -0.017045999999993455,
          -4.12372100000016,
          -2.263981000000001,
          -0.19857099999998695,
          -1.7153399999999692,
          -17.244212000000005,
          -3.1010489999998754,
          -4.331926999999951,
          -0.2698259999999948,
          -19.753073999999742,
          -1.9576090000000477,
          -2.3049680000000308,
          -3.234905000000026,
          -7.332070999999814,
          -7.5024920000005295,
          -1.5045249999998305,
          -0.7046679999999697,
          -0.9948779999999715,
          -10.790648999999917,
          -7.078149999999823,
          -9.64715299999989,
          -18.300530999999864,
          -2.980329999999981,
          -65.74667199999976,
          -5.264999999999873,
          -13.02187200000003,
          -1.8048149999999623,
          -7.039372000000185,
          -5.257985000000019,
          -8.231576000000132,
          -17.239141000000018,
          -17.51429999999982,
          -1.3848690000000374,
          -11.733562999999776,
          -20.577639000001,
          -4.305565999999999,
          -17.60302999999999,
          -24.012615000000096,
          -8.03695400000015,
          -4.9309749999999894,
          -0.19289999999999452,
          -54.018670000000384,
          -2.1271790000000124,
          -1.5490580000000023,
          -16.628613999999743,
          -2.037414,
          -3.4873349999999164,
          -7.60876300000001,
          -3.251794999999902,
          -7.836159999999836,
          -17.826349000000846,
          -0.7227689999999711,
          -1.6388379999999643,
          -1.376068000000032,
          -1.5780859999999848,
          -16.51376800000071,
          -14.081012999999984,
          -7.199446999999964,
          -4.263188000000014,
          -48.15459499999997,
          -3.763596000000007,
          -0.08072500000000105,
          -3.0293950000000223,
          -11.651908000000049,
          -16.338748999999552,
          -0.7286479999999642,
          -2.6783249999999725,
          -62.73000300000001,
          -15.754368999999997,
          -1.1999369999999772,
          -3.4099600000000123,
          -14.074019000000135,
          -6.97551999999996,
          -6.580878999999186,
          -14.088194999999814,
          -12.440360000000055,
          -6.513486999999714,
          -7.84573200000068,
          -4.028890000000047,
          -4.353880000000004,
          -228.56096600000092,
          -5.522834000000103,
          -5.778534000000036,
          -2.6968919999999343,
          -0.048583000000007814,
          -16.56059599999935,
          -6.746344000000136,
          -65.68924400000014,
          -12.446133000000373,
          -39.16931499999998,
          -3.0358889999999974,
          -0.6377299999999906,
          -13.69917200000009,
          -3.121893,
          -3.096490000000017,
          -3.0460180000000037,
          -314.49834999999985,
          -8.139721000000009,
          -1.5629639999999654,
          -6.460115000000087,
          -1.4866389999999967,
          -1.1105110000000877,
          -1.1105110000000877,
          -10.165024000000017,
          -29.518528999999944,
          -1.3577080000000024,
          -0.9061809999999753,
          -3.176955000000021,
          -15.391372999999476,
          -2.8146020000000362,
          -22.580972000000656,
          -21.781824000000597,
          -0.32043999999999073,
          -11.790836000000127,
          -6.216150999999968,
          -22.574118999999882,
          -8.560558999999557,
          -1.5490580000000023,
          -19.78285599999981,
          -5.546096000000034,
          -6.590319999999906,
          -3.159073000000035,
          -20.516982999999527,
          -0.7420160000000067,
          -1.5270939999999769,
          -0.1941500000000076,
          -6.660474000000022,
          -325.2646199999981,
          -4.257025999999996,
          -17.43643899999961,
          -2.1475439999999253,
          -2.460879999999861,
          -1.4416539999999713,
          -7.036316000000056,
          -9.353498999999829,
          -0.13465999999999667,
          -1.6596289999999954,
          -2.588019999999915,
          -2.9286280000000033,
          -3.160603999999978,
          -5.763441000000057,
          -9.942543000000114,
          -1.799639999999954,
          -3.6609019999999646,
          -11.651908000000049,
          -12.969506999999908,
          -9.931430999999975,
          -0.6949919999999565,
          -4.942418000000089,
          -31.38880199999994,
          -19.083110999999917,
          -0.6325480000000425,
          -11.494759999999815,
          -16.620658000000276,
          -1.9579949999999826,
          -20.589876000000004,
          -3.3260489999999834,
          -16.274458000000095,
          -0.05155700000000252,
          -15.357250000000022,
          -0.16631499999999733,
          -4.103529000000094,
          -3.357541000000026,
          -2.8136460000000625,
          -3.0021449999999277,
          -7.47242099999994,
          -12.865841000000046,
          -8.759691999999632,
          -6.693764999999985,
          -0.486512999999988,
          -5.8999949999997625,
          -1.563662000000022,
          -1.5165359999999737,
          -0.6752670000000052,
          -2.4724169999999503,
          -3.4705960000000005,
          -11.956674000000021,
          -3.300662999999986,
          -7.5024920000005295,
          -8.16237000000001,
          -13.45049199999994,
          -2.526984000000084,
          -7.2258290000002035,
          -14.692923999999948,
          -1.1412869999999202,
          -7.14655700000003,
          -2.9873489999999947,
          -22.595804999999928,
          -2.524308000000019,
          -1.36548700000003,
          -102.98316900000009,
          -4.873986000000059,
          -0.2598650000000049,
          -2.864753999999948,
          -3.050432999999998,
          -1.7701660000000174,
          -0.9668579999999736,
          -0.8272170000000187,
          -2.432260000000042,
          -5.590711000000056,
          -4.251835,
          -20.19078300000001,
          -13.646891000000323,
          -48.15459499999997,
          -1.263510999999994,
          -2.320787999999993,
          -2.575823000000014,
          -3.9326489999999694,
          -0.0317489999999907,
          -0.2114480000000185,
          -21.768051999999443,
          -7.582886000000144,
          -21.76328200000171,
          -35.888582999999926,
          -8.178947000000335,
          -18.909582,
          -6.566350000000057,
          -0.7998900000000049,
          -154.75437500000044,
          -6.566471999999976,
          -0.06761500000000353,
          -0.03517099999999118,
          -3.0225060000000212,
          -2.499569000000065,
          -6.831814000000122,
          -1.9594360000000108,
          -7.29570700000022,
          -1.2443569999999795,
          -8.785244000000034,
          -6.497701000000234,
          -20.398389999999836,
          -4.632091000000003,
          -17.584665999999743,
          -37.44344799999817,
          -0.3881049999999959,
          -0.1938470000000052,
          -0.23311099999999385,
          -65.68924400000014,
          -14.606210999999348,
          -0.6837799999999561,
          -9.11479700000018,
          -4.0735180000000355,
          -13.29972500000008,
          -14.063312999999994,
          -20.371832999999924,
          -1.3443609999999921,
          -0.4168319999999994,
          -0.6311329999999771,
          -0.4586879999999951,
          -0.12411300000000125,
          -3.903385999999955,
          -2.4186920000000214,
          -386.33577799999966,
          -7.766368999999941,
          -2.6832390000000714,
          -0.4494449999999688,
          -0.21415000000001783,
          -14.878376000000117,
          -5.794377000000168,
          -1.3002189999999985,
          -1.8532220000000166,
          -0.08965100000000348,
          -9.772576999999728,
          -3.547413000000006,
          -26.879912999999988,
          -12.56664499999988,
          -0.6250200000000063,
          -20.0923159999993,
          -9.910364999999729,
          -1.9744310000000382,
          -1.325407000000041,
          -16.96491900000001,
          -1.0413149999999405,
          -0.2842639999999932,
          -6.823879000000034,
          -0.27497699999992165,
          -9.931430999999975,
          -16.100097000000005,
          -19.43405100000018,
          -20.594796999999744,
          -2.3738220000000183,
          -0.8290230000000065,
          -0.3739999999999952,
          -8.000854000000004,
          -1.937039000000027,
          -19.070707999999968,
          -2.0100069999999732,
          -7.779751999999917,
          -0.18196000000034473,
          -8.008853000000045,
          -5.746550999999954,
          -9.160036000000218,
          -6.396285000000262,
          -18.074775000000045,
          -5.793195000000196,
          -10.31591800000001,
          -8.550825000000259,
          -4.3448490000000675,
          -1.9596419999998034,
          -31.75672399999985,
          -6.9312849999996615,
          -12.112644999999247,
          -17.23453500000005,
          -0.29245799999999633,
          -0.40786400000001777,
          -19.71096099999977,
          -0.6495409999999993,
          -34.33482999999978,
          -21.675988999999845,
          -20.810261999999966,
          -0.2739559999999983,
          -3.003631999999982,
          -46.547684000000004,
          -32.6922319999976,
          -6.139251999999942,
          -3.3336249999999836,
          -4.692134000000124,
          -1.913802999999973,
          -54.68408500000078,
          -18.64336000000003,
          -6.637971999999991,
          -1.9841759999999908,
          -17.480743000000075,
          -3.8700940000001083,
          -16.326961000000665,
          -7.6065920000000915,
          -9.886101000000053,
          -314.49834999999985,
          -2.6187480000003234,
          -8.325599000000693,
          -5.487854000000198
         ],
         "yaxis": "y"
        }
       ],
       "layout": {
        "legend": {
         "tracegroupgap": 0
        },
        "margin": {
         "t": 60
        },
        "template": {
         "data": {
          "bar": [
           {
            "error_x": {
             "color": "#2a3f5f"
            },
            "error_y": {
             "color": "#2a3f5f"
            },
            "marker": {
             "line": {
              "color": "#E5ECF6",
              "width": 0.5
             },
             "pattern": {
              "fillmode": "overlay",
              "size": 10,
              "solidity": 0.2
             }
            },
            "type": "bar"
           }
          ],
          "barpolar": [
           {
            "marker": {
             "line": {
              "color": "#E5ECF6",
              "width": 0.5
             },
             "pattern": {
              "fillmode": "overlay",
              "size": 10,
              "solidity": 0.2
             }
            },
            "type": "barpolar"
           }
          ],
          "carpet": [
           {
            "aaxis": {
             "endlinecolor": "#2a3f5f",
             "gridcolor": "white",
             "linecolor": "white",
             "minorgridcolor": "white",
             "startlinecolor": "#2a3f5f"
            },
            "baxis": {
             "endlinecolor": "#2a3f5f",
             "gridcolor": "white",
             "linecolor": "white",
             "minorgridcolor": "white",
             "startlinecolor": "#2a3f5f"
            },
            "type": "carpet"
           }
          ],
          "choropleth": [
           {
            "colorbar": {
             "outlinewidth": 0,
             "ticks": ""
            },
            "type": "choropleth"
           }
          ],
          "contour": [
           {
            "colorbar": {
             "outlinewidth": 0,
             "ticks": ""
            },
            "colorscale": [
             [
              0,
              "#0d0887"
             ],
             [
              0.1111111111111111,
              "#46039f"
             ],
             [
              0.2222222222222222,
              "#7201a8"
             ],
             [
              0.3333333333333333,
              "#9c179e"
             ],
             [
              0.4444444444444444,
              "#bd3786"
             ],
             [
              0.5555555555555556,
              "#d8576b"
             ],
             [
              0.6666666666666666,
              "#ed7953"
             ],
             [
              0.7777777777777778,
              "#fb9f3a"
             ],
             [
              0.8888888888888888,
              "#fdca26"
             ],
             [
              1,
              "#f0f921"
             ]
            ],
            "type": "contour"
           }
          ],
          "contourcarpet": [
           {
            "colorbar": {
             "outlinewidth": 0,
             "ticks": ""
            },
            "type": "contourcarpet"
           }
          ],
          "heatmap": [
           {
            "colorbar": {
             "outlinewidth": 0,
             "ticks": ""
            },
            "colorscale": [
             [
              0,
              "#0d0887"
             ],
             [
              0.1111111111111111,
              "#46039f"
             ],
             [
              0.2222222222222222,
              "#7201a8"
             ],
             [
              0.3333333333333333,
              "#9c179e"
             ],
             [
              0.4444444444444444,
              "#bd3786"
             ],
             [
              0.5555555555555556,
              "#d8576b"
             ],
             [
              0.6666666666666666,
              "#ed7953"
             ],
             [
              0.7777777777777778,
              "#fb9f3a"
             ],
             [
              0.8888888888888888,
              "#fdca26"
             ],
             [
              1,
              "#f0f921"
             ]
            ],
            "type": "heatmap"
           }
          ],
          "heatmapgl": [
           {
            "colorbar": {
             "outlinewidth": 0,
             "ticks": ""
            },
            "colorscale": [
             [
              0,
              "#0d0887"
             ],
             [
              0.1111111111111111,
              "#46039f"
             ],
             [
              0.2222222222222222,
              "#7201a8"
             ],
             [
              0.3333333333333333,
              "#9c179e"
             ],
             [
              0.4444444444444444,
              "#bd3786"
             ],
             [
              0.5555555555555556,
              "#d8576b"
             ],
             [
              0.6666666666666666,
              "#ed7953"
             ],
             [
              0.7777777777777778,
              "#fb9f3a"
             ],
             [
              0.8888888888888888,
              "#fdca26"
             ],
             [
              1,
              "#f0f921"
             ]
            ],
            "type": "heatmapgl"
           }
          ],
          "histogram": [
           {
            "marker": {
             "pattern": {
              "fillmode": "overlay",
              "size": 10,
              "solidity": 0.2
             }
            },
            "type": "histogram"
           }
          ],
          "histogram2d": [
           {
            "colorbar": {
             "outlinewidth": 0,
             "ticks": ""
            },
            "colorscale": [
             [
              0,
              "#0d0887"
             ],
             [
              0.1111111111111111,
              "#46039f"
             ],
             [
              0.2222222222222222,
              "#7201a8"
             ],
             [
              0.3333333333333333,
              "#9c179e"
             ],
             [
              0.4444444444444444,
              "#bd3786"
             ],
             [
              0.5555555555555556,
              "#d8576b"
             ],
             [
              0.6666666666666666,
              "#ed7953"
             ],
             [
              0.7777777777777778,
              "#fb9f3a"
             ],
             [
              0.8888888888888888,
              "#fdca26"
             ],
             [
              1,
              "#f0f921"
             ]
            ],
            "type": "histogram2d"
           }
          ],
          "histogram2dcontour": [
           {
            "colorbar": {
             "outlinewidth": 0,
             "ticks": ""
            },
            "colorscale": [
             [
              0,
              "#0d0887"
             ],
             [
              0.1111111111111111,
              "#46039f"
             ],
             [
              0.2222222222222222,
              "#7201a8"
             ],
             [
              0.3333333333333333,
              "#9c179e"
             ],
             [
              0.4444444444444444,
              "#bd3786"
             ],
             [
              0.5555555555555556,
              "#d8576b"
             ],
             [
              0.6666666666666666,
              "#ed7953"
             ],
             [
              0.7777777777777778,
              "#fb9f3a"
             ],
             [
              0.8888888888888888,
              "#fdca26"
             ],
             [
              1,
              "#f0f921"
             ]
            ],
            "type": "histogram2dcontour"
           }
          ],
          "mesh3d": [
           {
            "colorbar": {
             "outlinewidth": 0,
             "ticks": ""
            },
            "type": "mesh3d"
           }
          ],
          "parcoords": [
           {
            "line": {
             "colorbar": {
              "outlinewidth": 0,
              "ticks": ""
             }
            },
            "type": "parcoords"
           }
          ],
          "pie": [
           {
            "automargin": true,
            "type": "pie"
           }
          ],
          "scatter": [
           {
            "fillpattern": {
             "fillmode": "overlay",
             "size": 10,
             "solidity": 0.2
            },
            "type": "scatter"
           }
          ],
          "scatter3d": [
           {
            "line": {
             "colorbar": {
              "outlinewidth": 0,
              "ticks": ""
             }
            },
            "marker": {
             "colorbar": {
              "outlinewidth": 0,
              "ticks": ""
             }
            },
            "type": "scatter3d"
           }
          ],
          "scattercarpet": [
           {
            "marker": {
             "colorbar": {
              "outlinewidth": 0,
              "ticks": ""
             }
            },
            "type": "scattercarpet"
           }
          ],
          "scattergeo": [
           {
            "marker": {
             "colorbar": {
              "outlinewidth": 0,
              "ticks": ""
             }
            },
            "type": "scattergeo"
           }
          ],
          "scattergl": [
           {
            "marker": {
             "colorbar": {
              "outlinewidth": 0,
              "ticks": ""
             }
            },
            "type": "scattergl"
           }
          ],
          "scattermapbox": [
           {
            "marker": {
             "colorbar": {
              "outlinewidth": 0,
              "ticks": ""
             }
            },
            "type": "scattermapbox"
           }
          ],
          "scatterpolar": [
           {
            "marker": {
             "colorbar": {
              "outlinewidth": 0,
              "ticks": ""
             }
            },
            "type": "scatterpolar"
           }
          ],
          "scatterpolargl": [
           {
            "marker": {
             "colorbar": {
              "outlinewidth": 0,
              "ticks": ""
             }
            },
            "type": "scatterpolargl"
           }
          ],
          "scatterternary": [
           {
            "marker": {
             "colorbar": {
              "outlinewidth": 0,
              "ticks": ""
             }
            },
            "type": "scatterternary"
           }
          ],
          "surface": [
           {
            "colorbar": {
             "outlinewidth": 0,
             "ticks": ""
            },
            "colorscale": [
             [
              0,
              "#0d0887"
             ],
             [
              0.1111111111111111,
              "#46039f"
             ],
             [
              0.2222222222222222,
              "#7201a8"
             ],
             [
              0.3333333333333333,
              "#9c179e"
             ],
             [
              0.4444444444444444,
              "#bd3786"
             ],
             [
              0.5555555555555556,
              "#d8576b"
             ],
             [
              0.6666666666666666,
              "#ed7953"
             ],
             [
              0.7777777777777778,
              "#fb9f3a"
             ],
             [
              0.8888888888888888,
              "#fdca26"
             ],
             [
              1,
              "#f0f921"
             ]
            ],
            "type": "surface"
           }
          ],
          "table": [
           {
            "cells": {
             "fill": {
              "color": "#EBF0F8"
             },
             "line": {
              "color": "white"
             }
            },
            "header": {
             "fill": {
              "color": "#C8D4E3"
             },
             "line": {
              "color": "white"
             }
            },
            "type": "table"
           }
          ]
         },
         "layout": {
          "annotationdefaults": {
           "arrowcolor": "#2a3f5f",
           "arrowhead": 0,
           "arrowwidth": 1
          },
          "autotypenumbers": "strict",
          "coloraxis": {
           "colorbar": {
            "outlinewidth": 0,
            "ticks": ""
           }
          },
          "colorscale": {
           "diverging": [
            [
             0,
             "#8e0152"
            ],
            [
             0.1,
             "#c51b7d"
            ],
            [
             0.2,
             "#de77ae"
            ],
            [
             0.3,
             "#f1b6da"
            ],
            [
             0.4,
             "#fde0ef"
            ],
            [
             0.5,
             "#f7f7f7"
            ],
            [
             0.6,
             "#e6f5d0"
            ],
            [
             0.7,
             "#b8e186"
            ],
            [
             0.8,
             "#7fbc41"
            ],
            [
             0.9,
             "#4d9221"
            ],
            [
             1,
             "#276419"
            ]
           ],
           "sequential": [
            [
             0,
             "#0d0887"
            ],
            [
             0.1111111111111111,
             "#46039f"
            ],
            [
             0.2222222222222222,
             "#7201a8"
            ],
            [
             0.3333333333333333,
             "#9c179e"
            ],
            [
             0.4444444444444444,
             "#bd3786"
            ],
            [
             0.5555555555555556,
             "#d8576b"
            ],
            [
             0.6666666666666666,
             "#ed7953"
            ],
            [
             0.7777777777777778,
             "#fb9f3a"
            ],
            [
             0.8888888888888888,
             "#fdca26"
            ],
            [
             1,
             "#f0f921"
            ]
           ],
           "sequentialminus": [
            [
             0,
             "#0d0887"
            ],
            [
             0.1111111111111111,
             "#46039f"
            ],
            [
             0.2222222222222222,
             "#7201a8"
            ],
            [
             0.3333333333333333,
             "#9c179e"
            ],
            [
             0.4444444444444444,
             "#bd3786"
            ],
            [
             0.5555555555555556,
             "#d8576b"
            ],
            [
             0.6666666666666666,
             "#ed7953"
            ],
            [
             0.7777777777777778,
             "#fb9f3a"
            ],
            [
             0.8888888888888888,
             "#fdca26"
            ],
            [
             1,
             "#f0f921"
            ]
           ]
          },
          "colorway": [
           "#636efa",
           "#EF553B",
           "#00cc96",
           "#ab63fa",
           "#FFA15A",
           "#19d3f3",
           "#FF6692",
           "#B6E880",
           "#FF97FF",
           "#FECB52"
          ],
          "font": {
           "color": "#2a3f5f"
          },
          "geo": {
           "bgcolor": "white",
           "lakecolor": "white",
           "landcolor": "#E5ECF6",
           "showlakes": true,
           "showland": true,
           "subunitcolor": "white"
          },
          "hoverlabel": {
           "align": "left"
          },
          "hovermode": "closest",
          "mapbox": {
           "style": "light"
          },
          "paper_bgcolor": "white",
          "plot_bgcolor": "#E5ECF6",
          "polar": {
           "angularaxis": {
            "gridcolor": "white",
            "linecolor": "white",
            "ticks": ""
           },
           "bgcolor": "#E5ECF6",
           "radialaxis": {
            "gridcolor": "white",
            "linecolor": "white",
            "ticks": ""
           }
          },
          "scene": {
           "xaxis": {
            "backgroundcolor": "#E5ECF6",
            "gridcolor": "white",
            "gridwidth": 2,
            "linecolor": "white",
            "showbackground": true,
            "ticks": "",
            "zerolinecolor": "white"
           },
           "yaxis": {
            "backgroundcolor": "#E5ECF6",
            "gridcolor": "white",
            "gridwidth": 2,
            "linecolor": "white",
            "showbackground": true,
            "ticks": "",
            "zerolinecolor": "white"
           },
           "zaxis": {
            "backgroundcolor": "#E5ECF6",
            "gridcolor": "white",
            "gridwidth": 2,
            "linecolor": "white",
            "showbackground": true,
            "ticks": "",
            "zerolinecolor": "white"
           }
          },
          "shapedefaults": {
           "line": {
            "color": "#2a3f5f"
           }
          },
          "ternary": {
           "aaxis": {
            "gridcolor": "white",
            "linecolor": "white",
            "ticks": ""
           },
           "baxis": {
            "gridcolor": "white",
            "linecolor": "white",
            "ticks": ""
           },
           "bgcolor": "#E5ECF6",
           "caxis": {
            "gridcolor": "white",
            "linecolor": "white",
            "ticks": ""
           }
          },
          "title": {
           "x": 0.05
          },
          "xaxis": {
           "automargin": true,
           "gridcolor": "white",
           "linecolor": "white",
           "ticks": "",
           "title": {
            "standoff": 15
           },
           "zerolinecolor": "white",
           "zerolinewidth": 2
          },
          "yaxis": {
           "automargin": true,
           "gridcolor": "white",
           "linecolor": "white",
           "ticks": "",
           "title": {
            "standoff": 15
           },
           "zerolinecolor": "white",
           "zerolinewidth": 2
          }
         }
        },
        "xaxis": {
         "anchor": "y",
         "domain": [
          0,
          1
         ],
         "title": {
          "text": "BIN_cross_diff_MK"
         }
        },
        "yaxis": {
         "anchor": "x",
         "domain": [
          0,
          1
         ],
         "title": {
          "text": "MK_cross_diff_BIN"
         }
        }
       }
      },
      "text/html": [
       "<div>                            <div id=\"9049502f-08a7-4689-822a-6c836061d202\" class=\"plotly-graph-div\" style=\"height:525px; width:100%;\"></div>            <script type=\"text/javascript\">                require([\"plotly\"], function(Plotly) {                    window.PLOTLYENV=window.PLOTLYENV || {};                                    if (document.getElementById(\"9049502f-08a7-4689-822a-6c836061d202\")) {                    Plotly.newPlot(                        \"9049502f-08a7-4689-822a-6c836061d202\",                        [{\"hovertemplate\":\"BIN_cross_diff_MK=%{x}<br>MK_cross_diff_BIN=%{y}<extra></extra>\",\"legendgroup\":\"\",\"marker\":{\"color\":\"#636efa\",\"symbol\":\"circle\"},\"mode\":\"markers\",\"name\":\"\",\"orientation\":\"v\",\"showlegend\":false,\"x\":[-4.8016810000000305,-9.410516999999345,-10.094861000000037,-9.337588000000324,-0.24383400000002098,-2.3003369999999563,-3.272207000000037,-3.22295599999984,-2.447733999999855,-21.05428299999994,-6.318537000000106,-7.239362999999685,-3.69454300000001,-2.9238800000000538,-0.4311339999999859,-0.06527899999999676,-28.33185800000001,-0.15502200000000244,-5.71799800000008,-5.37236700000085,-8.617318999999952,-13.406203000000005,-1.445999000000029,-2.19125600000001,-7.2118789999999535,-7.430871999999908,-0.12055499999999597,-2.765038000000004,-1.4504710000001069,-0.31872599999999807,-0.8355749999999773,-2.8955369999998766,-2.614564999999999,-5.549802,-23.244104999999763,-8.24471399999993,-4.312059999999974,-14.735815000000002,-7.056152999999995,-1.2899500000000899,-9.320663000000422,-0.028518999999988637,-7.192587000000003,-6.724575000000016,-0.25271299999997154,-2.0907589999999914,-17.73967700000003,-4.070076999999856,-6.015336999999818,-0.34059299999998416,-28.790423000000374,-1.6377800000000207,-2.6169330000000173,-3.0576230000001487,-8.07821899999999,-8.264231000000109,-1.8408280000001014,-1.023074000000065,-1.3613569999999982,-17.135493999999994,-13.458795999999893,-11.142582999999831,-13.437171000000035,-4.400837999999965,-139.36347999999998,-5.72515199999998,-23.446619000000055,-1.7292879999999968,-6.145980000000009,-4.417507999999998,-12.59076400000049,-10.79821899999979,-29.370670000000246,-1.8367620000000215,-6.907543999999689,-31.244001000000935,-2.671096000000034,-20.961698999999953,-21.05428299999994,-9.041866999999911,-8.032224999999926,-0.23863900000000626,-26.210065999999642,-2.504568000000063,-0.7807109999999966,-16.966491999999562,-115.006414,-5.2708520000001045,-15.778280999999964,-3.875807000000009,-8.639714999999796,-24.740772999999535,-1.0166000000000395,-3.356160999999929,-2.2113919999999325,-4.324806999999964,-15.711506999999983,-18.7991320000001,-14.38534800000025,-1.3472079999999096,-94.54125999999997,-7.111407999999983,-0.04970400000000552,-3.5492189999999937,-15.411329999999907,-13.581100000000333,-1.2096750000000611,-4.0517019999999775,-187.56304699999998,-34.096262000000024,-0.7889040000000023,-6.463765999999964,-19.198191999999835,-7.787135000000035,-11.124560000000201,-9.247980000000098,-6.457610000000159,-5.686986000000161,-9.11507999999958,-10.110987999999907,-3.345286999999985,-501.6676669999997,-10.031214000000091,-8.65053399999988,-3.2742490000000544,-0.08841500000005453,-25.660107999998218,-7.4710360000003675,-123.54297600000064,-13.943124999999782,-85.34201200000001,-1.8493200000000343,-0.4301640000000049,-18.88072000000011,-9.01088000000027,-5.760407999999984,-3.9968590000003132,-524.3449870000004,-13.865317000000005,-2.520324999999957,-7.3613450000000284,-1.8731070000000045,-1.1912429999999858,-1.1912429999999858,-15.743698999999992,-30.53077200000007,-1.6261269999999968,-0.6692249999999831,-3.514550999999983,-17.67163999999866,-4.659260999999788,-25.077903000000333,-18.99968700000045,-0.3477350000000001,-23.433646999999837,-9.454258999999979,-18.680403000000297,-13.070544000000154,-0.7807109999999966,-14.142486000000645,-6.4765129999999544,-2.2058370000000878,-1.712508000000014,-30.30228299999999,-0.9327729999999974,-0.9117609999999843,-0.34629800000001865,-9.726646999999957,-759.0141620000031,-3.5666499999999814,-11.29979400000002,-2.8769900000002053,-2.9524569999998675,-1.4817229999999881,-9.046243000000004,-7.536480999999185,-0.29279900000000225,-2.031612999999993,-3.765376999999944,-4.414768999999978,-2.0877570000000105,-14.085641000001488,-18.221895000000586,-3.3239589999998316,-2.6713600000000497,-15.411329999999907,-32.534447,-12.541651999999885,-1.1786409999999705,-7.257826000000023,-71.95418699999982,-20.494038999999248,-1.0218679999999836,-15.266651000000365,-15.183552999999847,-2.7426519999999925,-24.182159999998476,-1.5266710000000216,-29.83872400000007,-0.08744699999999739,-16.592991000001348,-0.28555299999999306,-6.436286999999993,-3.259907999999996,-2.4347980000000007,-2.8991729999997915,-7.484086000000389,-5.071115999999847,-5.999735999999757,-9.541667000000416,-0.7107429999999937,-16.611337999998796,-2.0070709999999963,-3.3332999999999515,-0.8117420000000095,-3.384461999999985,-5.564284999999984,-9.542311000000154,-6.63562300000001,-8.264231000000109,-9.969383999999991,-10.455023999999867,-3.6537070000001677,-6.884637999999995,-10.854491000000053,-2.5517580000000635,-8.268912999999884,-5.689093000000071,-13.643702999999732,-1.4117549999998573,-1.6223810000001322,-177.2891370000002,-11.978310999999849,-0.19518700000000422,-4.275503999999955,-1.355436999999995,-2.273015999999984,-1.8855409999999893,-1.7102229999998144,-3.469823000000133,-5.422535000000153,-8.60803500000003,-35.57150300000012,-26.719200000000455,-94.54125999999997,-1.2007579999999507,-3.3975840000000517,-2.2755600000000413,-3.4527550000000247,-0.10614699999999289,-0.3291140000000041,-24.328354999999647,-7.28310300000021,-32.428054999998494,-47.266491999998834,-10.76910399999997,-13.527544000000034,-10.890471000000616,-1.2724759999998696,-357.1104090000008,-7.787941000000046,-0.10622200000000248,-0.047943999999972675,-4.05365299999994,-2.264993000000004,-10.751538000000437,-0.5846540000000005,-17.997691999999915,-2.064988000000085,-9.124955999999997,-8.350132999999914,-22.482218000000103,-10.762597000000028,-13.289279999999962,-50.317103999997926,-0.6626090000000033,-0.37126200000000154,-0.28219400000000405,-123.54297600000064,-26.169882000000143,-0.8700049999999919,-14.163257999999587,-7.340683000000013,-11.195189999999911,-13.599905999999919,-48.287708000000066,-0.7265820000000076,-1.5263410000000022,-1.0057280000000048,-0.6855309999999974,-0.16297999999999035,-7.840806000000043,-2.554603000000043,-1029.267641,-5.348038999999972,-2.950791999999865,-0.8754910000002383,-0.25480699999999956,-11.526589000000058,-13.333623000000443,-1.907149000000004,-1.5688470000000052,-0.13977699999998094,-18.931219000000056,-3.3875530000000253,-18.382530000000088,-12.440390000000207,-1.1302839999999605,-33.28531800000019,-16.631207999999788,-3.7266510000000608,-1.5791269999999713,-13.094576000001325,-3.420139000000063,-0.3147419999999954,-6.121321999999964,-0.43556199999989076,-12.541651999999885,-17.218219000000317,-19.400015000000167,-12.312540999999328,-2.5427240000001348,-1.048167000000035,-0.2534069999999957,-11.276419000000033,-4.852927999999963,-33.58856800000001,-3.603749999999991,-7.136260999999649,-0.3090950000000703,-10.699284999999918,-9.010569999999916,-8.624345999999605,-4.293013999999857,-14.309993000000304,-6.2112230000002455,-14.640551999999843,-13.406203000000005,-3.5727889999998297,-2.945660000000089,-30.10474400000021,-10.663062999999966,-8.07376099999965,-10.798219000000245,-0.21904499999999416,-0.8218010000000504,-25.635408999999527,-1.123309000000006,-45.60155200000008,-47.8909470000001,-49.58138699999995,-0.27738400000001207,-1.8967319999999859,-112.66971199999989,-34.57118199999968,-12.564262999999755,-3.1312090000000126,-11.177947000000131,-1.4824740000000247,-41.614692000001014,-29.12871300000006,-4.1551659999999515,-3.756170999999995,-17.959297999999762,-5.014664999999923,-24.84655600000042,-8.326634999999442,-16.69350200000008,-524.3449870000004,-2.5146859999999833,-11.931117000000086,-7.184799999999996],\"xaxis\":\"x\",\"y\":[-3.0051460000000816,-7.035563999999795,-10.091971999999942,-9.976145999999972,-0.1173610000000167,-3.843886999999995,-2.247667000000007,-3.614579000000049,-4.858758000000307,-24.012615000000096,-6.33189399999992,-7.402238000000125,-4.411506000000031,-2.680360999999948,-0.2988539999999773,-0.029821000000001874,-21.727515999999923,-0.1562060000000116,-3.7784690000000865,-4.249575999999706,-6.079040999999961,-8.550825000000259,-0.8536790000000565,-1.274249999999995,-3.663591999999994,-7.579559000000245,-0.15966099999999983,-1.6943360000000212,-1.9509329999999636,-0.2153069999999957,-1.8068480000000022,-2.584190000000035,-1.7558779999999956,-3.3122129999999856,-14.66630299999997,-7.3668689999999515,-2.9317379999999957,-13.427592000000004,-6.6503719999996065,-1.3848690000000943,-8.706932000000052,-0.017045999999993455,-4.12372100000016,-2.263981000000001,-0.19857099999998695,-1.7153399999999692,-17.244212000000005,-3.1010489999998754,-4.331926999999951,-0.2698259999999948,-19.753073999999742,-1.9576090000000477,-2.3049680000000308,-3.234905000000026,-7.332070999999814,-7.5024920000005295,-1.5045249999998305,-0.7046679999999697,-0.9948779999999715,-10.790648999999917,-7.078149999999823,-9.64715299999989,-18.300530999999864,-2.980329999999981,-65.74667199999976,-5.264999999999873,-13.02187200000003,-1.8048149999999623,-7.039372000000185,-5.257985000000019,-8.231576000000132,-17.239141000000018,-17.51429999999982,-1.3848690000000374,-11.733562999999776,-20.577639000001,-4.305565999999999,-17.60302999999999,-24.012615000000096,-8.03695400000015,-4.9309749999999894,-0.19289999999999452,-54.018670000000384,-2.1271790000000124,-1.5490580000000023,-16.628613999999743,-2.037414,-3.4873349999999164,-7.60876300000001,-3.251794999999902,-7.836159999999836,-17.826349000000846,-0.7227689999999711,-1.6388379999999643,-1.376068000000032,-1.5780859999999848,-16.51376800000071,-14.081012999999984,-7.199446999999964,-4.263188000000014,-48.15459499999997,-3.763596000000007,-0.08072500000000105,-3.0293950000000223,-11.651908000000049,-16.338748999999552,-0.7286479999999642,-2.6783249999999725,-62.73000300000001,-15.754368999999997,-1.1999369999999772,-3.4099600000000123,-14.074019000000135,-6.97551999999996,-6.580878999999186,-14.088194999999814,-12.440360000000055,-6.513486999999714,-7.84573200000068,-4.028890000000047,-4.353880000000004,-228.56096600000092,-5.522834000000103,-5.778534000000036,-2.6968919999999343,-0.048583000000007814,-16.56059599999935,-6.746344000000136,-65.68924400000014,-12.446133000000373,-39.16931499999998,-3.0358889999999974,-0.6377299999999906,-13.69917200000009,-3.121893,-3.096490000000017,-3.0460180000000037,-314.49834999999985,-8.139721000000009,-1.5629639999999654,-6.460115000000087,-1.4866389999999967,-1.1105110000000877,-1.1105110000000877,-10.165024000000017,-29.518528999999944,-1.3577080000000024,-0.9061809999999753,-3.176955000000021,-15.391372999999476,-2.8146020000000362,-22.580972000000656,-21.781824000000597,-0.32043999999999073,-11.790836000000127,-6.216150999999968,-22.574118999999882,-8.560558999999557,-1.5490580000000023,-19.78285599999981,-5.546096000000034,-6.590319999999906,-3.159073000000035,-20.516982999999527,-0.7420160000000067,-1.5270939999999769,-0.1941500000000076,-6.660474000000022,-325.2646199999981,-4.257025999999996,-17.43643899999961,-2.1475439999999253,-2.460879999999861,-1.4416539999999713,-7.036316000000056,-9.353498999999829,-0.13465999999999667,-1.6596289999999954,-2.588019999999915,-2.9286280000000033,-3.160603999999978,-5.763441000000057,-9.942543000000114,-1.799639999999954,-3.6609019999999646,-11.651908000000049,-12.969506999999908,-9.931430999999975,-0.6949919999999565,-4.942418000000089,-31.38880199999994,-19.083110999999917,-0.6325480000000425,-11.494759999999815,-16.620658000000276,-1.9579949999999826,-20.589876000000004,-3.3260489999999834,-16.274458000000095,-0.05155700000000252,-15.357250000000022,-0.16631499999999733,-4.103529000000094,-3.357541000000026,-2.8136460000000625,-3.0021449999999277,-7.47242099999994,-12.865841000000046,-8.759691999999632,-6.693764999999985,-0.486512999999988,-5.8999949999997625,-1.563662000000022,-1.5165359999999737,-0.6752670000000052,-2.4724169999999503,-3.4705960000000005,-11.956674000000021,-3.300662999999986,-7.5024920000005295,-8.16237000000001,-13.45049199999994,-2.526984000000084,-7.2258290000002035,-14.692923999999948,-1.1412869999999202,-7.14655700000003,-2.9873489999999947,-22.595804999999928,-2.524308000000019,-1.36548700000003,-102.98316900000009,-4.873986000000059,-0.2598650000000049,-2.864753999999948,-3.050432999999998,-1.7701660000000174,-0.9668579999999736,-0.8272170000000187,-2.432260000000042,-5.590711000000056,-4.251835,-20.19078300000001,-13.646891000000323,-48.15459499999997,-1.263510999999994,-2.320787999999993,-2.575823000000014,-3.9326489999999694,-0.0317489999999907,-0.2114480000000185,-21.768051999999443,-7.582886000000144,-21.76328200000171,-35.888582999999926,-8.178947000000335,-18.909582,-6.566350000000057,-0.7998900000000049,-154.75437500000044,-6.566471999999976,-0.06761500000000353,-0.03517099999999118,-3.0225060000000212,-2.499569000000065,-6.831814000000122,-1.9594360000000108,-7.29570700000022,-1.2443569999999795,-8.785244000000034,-6.497701000000234,-20.398389999999836,-4.632091000000003,-17.584665999999743,-37.44344799999817,-0.3881049999999959,-0.1938470000000052,-0.23311099999999385,-65.68924400000014,-14.606210999999348,-0.6837799999999561,-9.11479700000018,-4.0735180000000355,-13.29972500000008,-14.063312999999994,-20.371832999999924,-1.3443609999999921,-0.4168319999999994,-0.6311329999999771,-0.4586879999999951,-0.12411300000000125,-3.903385999999955,-2.4186920000000214,-386.33577799999966,-7.766368999999941,-2.6832390000000714,-0.4494449999999688,-0.21415000000001783,-14.878376000000117,-5.794377000000168,-1.3002189999999985,-1.8532220000000166,-0.08965100000000348,-9.772576999999728,-3.547413000000006,-26.879912999999988,-12.56664499999988,-0.6250200000000063,-20.0923159999993,-9.910364999999729,-1.9744310000000382,-1.325407000000041,-16.96491900000001,-1.0413149999999405,-0.2842639999999932,-6.823879000000034,-0.27497699999992165,-9.931430999999975,-16.100097000000005,-19.43405100000018,-20.594796999999744,-2.3738220000000183,-0.8290230000000065,-0.3739999999999952,-8.000854000000004,-1.937039000000027,-19.070707999999968,-2.0100069999999732,-7.779751999999917,-0.18196000000034473,-8.008853000000045,-5.746550999999954,-9.160036000000218,-6.396285000000262,-18.074775000000045,-5.793195000000196,-10.31591800000001,-8.550825000000259,-4.3448490000000675,-1.9596419999998034,-31.75672399999985,-6.9312849999996615,-12.112644999999247,-17.23453500000005,-0.29245799999999633,-0.40786400000001777,-19.71096099999977,-0.6495409999999993,-34.33482999999978,-21.675988999999845,-20.810261999999966,-0.2739559999999983,-3.003631999999982,-46.547684000000004,-32.6922319999976,-6.139251999999942,-3.3336249999999836,-4.692134000000124,-1.913802999999973,-54.68408500000078,-18.64336000000003,-6.637971999999991,-1.9841759999999908,-17.480743000000075,-3.8700940000001083,-16.326961000000665,-7.6065920000000915,-9.886101000000053,-314.49834999999985,-2.6187480000003234,-8.325599000000693,-5.487854000000198],\"yaxis\":\"y\",\"type\":\"scatter\"}],                        {\"template\":{\"data\":{\"histogram2dcontour\":[{\"type\":\"histogram2dcontour\",\"colorbar\":{\"outlinewidth\":0,\"ticks\":\"\"},\"colorscale\":[[0.0,\"#0d0887\"],[0.1111111111111111,\"#46039f\"],[0.2222222222222222,\"#7201a8\"],[0.3333333333333333,\"#9c179e\"],[0.4444444444444444,\"#bd3786\"],[0.5555555555555556,\"#d8576b\"],[0.6666666666666666,\"#ed7953\"],[0.7777777777777778,\"#fb9f3a\"],[0.8888888888888888,\"#fdca26\"],[1.0,\"#f0f921\"]]}],\"choropleth\":[{\"type\":\"choropleth\",\"colorbar\":{\"outlinewidth\":0,\"ticks\":\"\"}}],\"histogram2d\":[{\"type\":\"histogram2d\",\"colorbar\":{\"outlinewidth\":0,\"ticks\":\"\"},\"colorscale\":[[0.0,\"#0d0887\"],[0.1111111111111111,\"#46039f\"],[0.2222222222222222,\"#7201a8\"],[0.3333333333333333,\"#9c179e\"],[0.4444444444444444,\"#bd3786\"],[0.5555555555555556,\"#d8576b\"],[0.6666666666666666,\"#ed7953\"],[0.7777777777777778,\"#fb9f3a\"],[0.8888888888888888,\"#fdca26\"],[1.0,\"#f0f921\"]]}],\"heatmap\":[{\"type\":\"heatmap\",\"colorbar\":{\"outlinewidth\":0,\"ticks\":\"\"},\"colorscale\":[[0.0,\"#0d0887\"],[0.1111111111111111,\"#46039f\"],[0.2222222222222222,\"#7201a8\"],[0.3333333333333333,\"#9c179e\"],[0.4444444444444444,\"#bd3786\"],[0.5555555555555556,\"#d8576b\"],[0.6666666666666666,\"#ed7953\"],[0.7777777777777778,\"#fb9f3a\"],[0.8888888888888888,\"#fdca26\"],[1.0,\"#f0f921\"]]}],\"heatmapgl\":[{\"type\":\"heatmapgl\",\"colorbar\":{\"outlinewidth\":0,\"ticks\":\"\"},\"colorscale\":[[0.0,\"#0d0887\"],[0.1111111111111111,\"#46039f\"],[0.2222222222222222,\"#7201a8\"],[0.3333333333333333,\"#9c179e\"],[0.4444444444444444,\"#bd3786\"],[0.5555555555555556,\"#d8576b\"],[0.6666666666666666,\"#ed7953\"],[0.7777777777777778,\"#fb9f3a\"],[0.8888888888888888,\"#fdca26\"],[1.0,\"#f0f921\"]]}],\"contourcarpet\":[{\"type\":\"contourcarpet\",\"colorbar\":{\"outlinewidth\":0,\"ticks\":\"\"}}],\"contour\":[{\"type\":\"contour\",\"colorbar\":{\"outlinewidth\":0,\"ticks\":\"\"},\"colorscale\":[[0.0,\"#0d0887\"],[0.1111111111111111,\"#46039f\"],[0.2222222222222222,\"#7201a8\"],[0.3333333333333333,\"#9c179e\"],[0.4444444444444444,\"#bd3786\"],[0.5555555555555556,\"#d8576b\"],[0.6666666666666666,\"#ed7953\"],[0.7777777777777778,\"#fb9f3a\"],[0.8888888888888888,\"#fdca26\"],[1.0,\"#f0f921\"]]}],\"surface\":[{\"type\":\"surface\",\"colorbar\":{\"outlinewidth\":0,\"ticks\":\"\"},\"colorscale\":[[0.0,\"#0d0887\"],[0.1111111111111111,\"#46039f\"],[0.2222222222222222,\"#7201a8\"],[0.3333333333333333,\"#9c179e\"],[0.4444444444444444,\"#bd3786\"],[0.5555555555555556,\"#d8576b\"],[0.6666666666666666,\"#ed7953\"],[0.7777777777777778,\"#fb9f3a\"],[0.8888888888888888,\"#fdca26\"],[1.0,\"#f0f921\"]]}],\"mesh3d\":[{\"type\":\"mesh3d\",\"colorbar\":{\"outlinewidth\":0,\"ticks\":\"\"}}],\"scatter\":[{\"fillpattern\":{\"fillmode\":\"overlay\",\"size\":10,\"solidity\":0.2},\"type\":\"scatter\"}],\"parcoords\":[{\"type\":\"parcoords\",\"line\":{\"colorbar\":{\"outlinewidth\":0,\"ticks\":\"\"}}}],\"scatterpolargl\":[{\"type\":\"scatterpolargl\",\"marker\":{\"colorbar\":{\"outlinewidth\":0,\"ticks\":\"\"}}}],\"bar\":[{\"error_x\":{\"color\":\"#2a3f5f\"},\"error_y\":{\"color\":\"#2a3f5f\"},\"marker\":{\"line\":{\"color\":\"#E5ECF6\",\"width\":0.5},\"pattern\":{\"fillmode\":\"overlay\",\"size\":10,\"solidity\":0.2}},\"type\":\"bar\"}],\"scattergeo\":[{\"type\":\"scattergeo\",\"marker\":{\"colorbar\":{\"outlinewidth\":0,\"ticks\":\"\"}}}],\"scatterpolar\":[{\"type\":\"scatterpolar\",\"marker\":{\"colorbar\":{\"outlinewidth\":0,\"ticks\":\"\"}}}],\"histogram\":[{\"marker\":{\"pattern\":{\"fillmode\":\"overlay\",\"size\":10,\"solidity\":0.2}},\"type\":\"histogram\"}],\"scattergl\":[{\"type\":\"scattergl\",\"marker\":{\"colorbar\":{\"outlinewidth\":0,\"ticks\":\"\"}}}],\"scatter3d\":[{\"type\":\"scatter3d\",\"line\":{\"colorbar\":{\"outlinewidth\":0,\"ticks\":\"\"}},\"marker\":{\"colorbar\":{\"outlinewidth\":0,\"ticks\":\"\"}}}],\"scattermapbox\":[{\"type\":\"scattermapbox\",\"marker\":{\"colorbar\":{\"outlinewidth\":0,\"ticks\":\"\"}}}],\"scatterternary\":[{\"type\":\"scatterternary\",\"marker\":{\"colorbar\":{\"outlinewidth\":0,\"ticks\":\"\"}}}],\"scattercarpet\":[{\"type\":\"scattercarpet\",\"marker\":{\"colorbar\":{\"outlinewidth\":0,\"ticks\":\"\"}}}],\"carpet\":[{\"aaxis\":{\"endlinecolor\":\"#2a3f5f\",\"gridcolor\":\"white\",\"linecolor\":\"white\",\"minorgridcolor\":\"white\",\"startlinecolor\":\"#2a3f5f\"},\"baxis\":{\"endlinecolor\":\"#2a3f5f\",\"gridcolor\":\"white\",\"linecolor\":\"white\",\"minorgridcolor\":\"white\",\"startlinecolor\":\"#2a3f5f\"},\"type\":\"carpet\"}],\"table\":[{\"cells\":{\"fill\":{\"color\":\"#EBF0F8\"},\"line\":{\"color\":\"white\"}},\"header\":{\"fill\":{\"color\":\"#C8D4E3\"},\"line\":{\"color\":\"white\"}},\"type\":\"table\"}],\"barpolar\":[{\"marker\":{\"line\":{\"color\":\"#E5ECF6\",\"width\":0.5},\"pattern\":{\"fillmode\":\"overlay\",\"size\":10,\"solidity\":0.2}},\"type\":\"barpolar\"}],\"pie\":[{\"automargin\":true,\"type\":\"pie\"}]},\"layout\":{\"autotypenumbers\":\"strict\",\"colorway\":[\"#636efa\",\"#EF553B\",\"#00cc96\",\"#ab63fa\",\"#FFA15A\",\"#19d3f3\",\"#FF6692\",\"#B6E880\",\"#FF97FF\",\"#FECB52\"],\"font\":{\"color\":\"#2a3f5f\"},\"hovermode\":\"closest\",\"hoverlabel\":{\"align\":\"left\"},\"paper_bgcolor\":\"white\",\"plot_bgcolor\":\"#E5ECF6\",\"polar\":{\"bgcolor\":\"#E5ECF6\",\"angularaxis\":{\"gridcolor\":\"white\",\"linecolor\":\"white\",\"ticks\":\"\"},\"radialaxis\":{\"gridcolor\":\"white\",\"linecolor\":\"white\",\"ticks\":\"\"}},\"ternary\":{\"bgcolor\":\"#E5ECF6\",\"aaxis\":{\"gridcolor\":\"white\",\"linecolor\":\"white\",\"ticks\":\"\"},\"baxis\":{\"gridcolor\":\"white\",\"linecolor\":\"white\",\"ticks\":\"\"},\"caxis\":{\"gridcolor\":\"white\",\"linecolor\":\"white\",\"ticks\":\"\"}},\"coloraxis\":{\"colorbar\":{\"outlinewidth\":0,\"ticks\":\"\"}},\"colorscale\":{\"sequential\":[[0.0,\"#0d0887\"],[0.1111111111111111,\"#46039f\"],[0.2222222222222222,\"#7201a8\"],[0.3333333333333333,\"#9c179e\"],[0.4444444444444444,\"#bd3786\"],[0.5555555555555556,\"#d8576b\"],[0.6666666666666666,\"#ed7953\"],[0.7777777777777778,\"#fb9f3a\"],[0.8888888888888888,\"#fdca26\"],[1.0,\"#f0f921\"]],\"sequentialminus\":[[0.0,\"#0d0887\"],[0.1111111111111111,\"#46039f\"],[0.2222222222222222,\"#7201a8\"],[0.3333333333333333,\"#9c179e\"],[0.4444444444444444,\"#bd3786\"],[0.5555555555555556,\"#d8576b\"],[0.6666666666666666,\"#ed7953\"],[0.7777777777777778,\"#fb9f3a\"],[0.8888888888888888,\"#fdca26\"],[1.0,\"#f0f921\"]],\"diverging\":[[0,\"#8e0152\"],[0.1,\"#c51b7d\"],[0.2,\"#de77ae\"],[0.3,\"#f1b6da\"],[0.4,\"#fde0ef\"],[0.5,\"#f7f7f7\"],[0.6,\"#e6f5d0\"],[0.7,\"#b8e186\"],[0.8,\"#7fbc41\"],[0.9,\"#4d9221\"],[1,\"#276419\"]]},\"xaxis\":{\"gridcolor\":\"white\",\"linecolor\":\"white\",\"ticks\":\"\",\"title\":{\"standoff\":15},\"zerolinecolor\":\"white\",\"automargin\":true,\"zerolinewidth\":2},\"yaxis\":{\"gridcolor\":\"white\",\"linecolor\":\"white\",\"ticks\":\"\",\"title\":{\"standoff\":15},\"zerolinecolor\":\"white\",\"automargin\":true,\"zerolinewidth\":2},\"scene\":{\"xaxis\":{\"backgroundcolor\":\"#E5ECF6\",\"gridcolor\":\"white\",\"linecolor\":\"white\",\"showbackground\":true,\"ticks\":\"\",\"zerolinecolor\":\"white\",\"gridwidth\":2},\"yaxis\":{\"backgroundcolor\":\"#E5ECF6\",\"gridcolor\":\"white\",\"linecolor\":\"white\",\"showbackground\":true,\"ticks\":\"\",\"zerolinecolor\":\"white\",\"gridwidth\":2},\"zaxis\":{\"backgroundcolor\":\"#E5ECF6\",\"gridcolor\":\"white\",\"linecolor\":\"white\",\"showbackground\":true,\"ticks\":\"\",\"zerolinecolor\":\"white\",\"gridwidth\":2}},\"shapedefaults\":{\"line\":{\"color\":\"#2a3f5f\"}},\"annotationdefaults\":{\"arrowcolor\":\"#2a3f5f\",\"arrowhead\":0,\"arrowwidth\":1},\"geo\":{\"bgcolor\":\"white\",\"landcolor\":\"#E5ECF6\",\"subunitcolor\":\"white\",\"showland\":true,\"showlakes\":true,\"lakecolor\":\"white\"},\"title\":{\"x\":0.05},\"mapbox\":{\"style\":\"light\"}}},\"xaxis\":{\"anchor\":\"y\",\"domain\":[0.0,1.0],\"title\":{\"text\":\"BIN_cross_diff_MK\"}},\"yaxis\":{\"anchor\":\"x\",\"domain\":[0.0,1.0],\"title\":{\"text\":\"MK_cross_diff_BIN\"}},\"legend\":{\"tracegroupgap\":0},\"margin\":{\"t\":60}},                        {\"responsive\": true}                    ).then(function(){\n",
       "                            \n",
       "var gd = document.getElementById('9049502f-08a7-4689-822a-6c836061d202');\n",
       "var x = new MutationObserver(function (mutations, observer) {{\n",
       "        var display = window.getComputedStyle(gd).display;\n",
       "        if (!display || display === 'none') {{\n",
       "            console.log([gd, 'removed!']);\n",
       "            Plotly.purge(gd);\n",
       "            observer.disconnect();\n",
       "        }}\n",
       "}});\n",
       "\n",
       "// Listen for the removal of the full notebook cells\n",
       "var notebookContainer = gd.closest('#notebook-container');\n",
       "if (notebookContainer) {{\n",
       "    x.observe(notebookContainer, {childList: true});\n",
       "}}\n",
       "\n",
       "// Listen for the clearing of the current output cell\n",
       "var outputEl = gd.closest('.output');\n",
       "if (outputEl) {{\n",
       "    x.observe(outputEl, {childList: true});\n",
       "}}\n",
       "\n",
       "                        })                };                });            </script>        </div>"
      ]
     },
     "metadata": {},
     "output_type": "display_data"
    },
    {
     "data": {
      "application/vnd.plotly.v1+json": {
       "config": {
        "plotlyServerURL": "https://plot.ly"
       },
       "data": [
        {
         "hovertemplate": "MK_cross_diff_GTR=%{x}<br>GTR_cross_diff_MK=%{y}<extra></extra>",
         "legendgroup": "",
         "marker": {
          "color": "#636efa",
          "symbol": "circle"
         },
         "mode": "markers",
         "name": "",
         "orientation": "v",
         "showlegend": false,
         "type": "scatter",
         "x": [
          -61.11665400000004,
          -84.39396199999965,
          -87.09720199999992,
          -109.65376500000002,
          -0.28500999999999976,
          -2.2265939999999773,
          -15.500529,
          -11.514030000000048,
          -29.89609100000007,
          -108.62727799999993,
          -29.739055000000008,
          -61.59558399999969,
          -14.17724800000002,
          -8.330038999999942,
          -4.752034999999978,
          -0.29143099999999933,
          -59.63555699999961,
          -2.2387180000000058,
          -82.18189600000005,
          -47.19094700000005,
          -36.3790799999997,
          -44.06424100000004,
          -9.089155000000005,
          -27.060692000000017,
          -3.856004000000013,
          -84.65785199999982,
          -1.8738460000000003,
          -19.22425499999997,
          -6.64985200000001,
          -2.3974689999999725,
          -1.5349820000000136,
          -10.041424000000006,
          -3.3904310000000066,
          -5.330374000000006,
          -95.4796750000005,
          -17.08382500000016,
          -17.787295000000086,
          -125.22384299999976,
          -16.623935999999958,
          -12.833337000000029,
          -31.218171999999868,
          -1.9096779999999995,
          -40.317314000000124,
          -22.980771000000004,
          -6.051727,
          -8.327665999999965,
          -25.556993999999975,
          -38.716559999999845,
          -51.800677999999834,
          -0.5094589999999926,
          -98.89572999999973,
          -5.089961000000017,
          -2.9374290000000087,
          -11.254773,
          -17.870458999999755,
          -31.398549999999886,
          -19.82611799999995,
          -0.8214499999999703,
          -13.43317500000012,
          -37.443243999999936,
          -165.900263,
          -79.55197899999985,
          -47.10426400000006,
          -3.8190230000000156,
          -26.199739000000136,
          -19.932643999999982,
          -42.14419600000019,
          -11.00542699999994,
          -11.406269000000066,
          -44.563507000000016,
          -73.28825299999971,
          -60.20191999999997,
          -63.02936099999988,
          -1.2869160000000193,
          -39.61679400000003,
          -132.87396199999966,
          -20.240429999999947,
          -14.657930999999962,
          -108.62727799999993,
          -50.96828400000004,
          -14.313076000000137,
          -0.9105709999999902,
          -235.86605300000065,
          -26.75497200000001,
          -1.8024010000000317,
          -30.60365899999988,
          -9.999999996956888e-07,
          -10.985965999999962,
          -17.36988500000001,
          -41.36574299999995,
          -27.317633999999998,
          -31.757994000001418,
          -5.177342999999951,
          -24.56057199999998,
          -38.97522900000001,
          -17.050241000000028,
          -91.26662100000067,
          -35.193674999999985,
          -40.56296500000008,
          -15.501141000000018,
          -42.998051999999916,
          -7.2460260000000005,
          -0.40428999999999604,
          -14.594837999999982,
          -29.984615000000076,
          -89.67367300000024,
          -10.660684000000003,
          -6.687526000000048,
          -52.741018999999994,
          -19.056377999999995,
          -17.686005999999992,
          -12.878706000000022,
          -23.615348000000267,
          -16.3753999999999,
          -64.33406999999988,
          -36.88234899999998,
          -19.766485999999986,
          -38.031116999999995,
          -70.14952100000028,
          -27.296693000000005,
          -11.170786000000021,
          -69.18813600000067,
          -27.88555200000019,
          -29.177069999999958,
          -17.705872,
          -1.7532489999999825,
          -160.49926699999924,
          -16.510776000000078,
          -67.45060399999966,
          -131.02533700000004,
          -44.452991,
          -12.573118999999963,
          -1.2758800000000008,
          -22.595940000000155,
          -24.701039000000037,
          -9.513785000000041,
          -36.818334999999934,
          -235.67391099999986,
          -4.985469000000023,
          -10.00325399999997,
          -22.64708900000005,
          -2.81027899999998,
          -1.3237250000000813,
          -1.3237250000000813,
          -11.643648999999982,
          -97.16776200000004,
          -29.062333999999964,
          -6.953502999999984,
          -8.069357999999966,
          -83.70838399999957,
          -6.661470000000008,
          -133.43310699999984,
          -84.89726299999984,
          -7.133496999999977,
          -106.18143500000042,
          -26.020522000000028,
          -94.42192599999998,
          -81.14265100000011,
          -1.8024010000000317,
          -121.15456699999959,
          -37.91956700000003,
          -30.578145999999947,
          -17.498576000000014,
          -62.030351999999766,
          -1.9989360000000147,
          -19.78745999999998,
          -0.6594670000000065,
          -26.529416999999967,
          -24.077398999997968,
          -5.4360209999999825,
          -77.40639599999986,
          -28.33580299999994,
          -39.12157899999988,
          -5.290956999999992,
          -29.69941300000005,
          -70.40926499999932,
          -1.4103319999999968,
          -15.628693999999996,
          -17.75093599999991,
          -4.3180320000000165,
          -14.569496000000015,
          -89.8938390000003,
          -21.305970000000343,
          -82.20802000000003,
          -10.84181799999999,
          -29.984615000000076,
          -29.73719899999992,
          -119.37310499999967,
          -22.766571,
          -199.31803899999977,
          -51.72663999999986,
          -98.73066600000038,
          -1.337562000000048,
          -39.890805999999884,
          -27.890627000000222,
          -0.6828159999999741,
          -97.88397900000018,
          -3.7524259999999856,
          -16.265324000000078,
          -1.5657430000000048,
          -55.89690299999984,
          -0.5506209999999996,
          -43.876415000000065,
          -4.178182000000049,
          -10.597822000000065,
          -13.431341999999859,
          -23.382662999999866,
          -19.28517499999998,
          -116.39638800000012,
          -82.65078199999971,
          -2.0773009999999914,
          -88.79543099999955,
          -17.04391499999997,
          -6.975228999999956,
          -1.2257760000000104,
          -21.64286600000014,
          -37.29092400000002,
          -35.31703000000016,
          -13.816912000000002,
          -31.398549999999886,
          -52.09789799999999,
          -42.06932999999981,
          -55.151566999999886,
          -22.515854000000218,
          -28.96634700000004,
          -30.123743999999988,
          -61.463076,
          -38.13057100000003,
          -92.12689099999989,
          -10.738760999999954,
          -13.188583999999992,
          -36.197660999999925,
          -63.44142800000009,
          -0.330600000000004,
          -19.09319699999992,
          -12.135300999999998,
          -7.568283000000008,
          -5.9348369999999875,
          -6.361823999999956,
          -6.907975000000079,
          -30.715626000000043,
          -15.652323999999993,
          -87.33839499999976,
          -46.58148400000027,
          -42.998051999999916,
          -1.6067699999999832,
          -30.678696999999943,
          -24.90404000000001,
          -6.535566000000017,
          -0.9734089999999895,
          -11.917479000000014,
          -217.5405520000004,
          -18.482682999999724,
          -170.95854400000098,
          -88.59820799999943,
          -12.497471000000132,
          -26.74609899999996,
          -64.80434799999966,
          -42.84995099999992,
          -5.006354000001011,
          -16.567598999999973,
          -1.7133260000000092,
          -0.521097999999995,
          -12.296046000000047,
          -70.30340499999988,
          -96.76370599999973,
          -0.4120460000000037,
          -107.60291700000016,
          -5.506148999999937,
          -21.89534900000001,
          -26.327864000000318,
          -100.99650599999995,
          -22.01650600000002,
          -45.952894000000015,
          -314.7953379999999,
          -6.572596000000004,
          -1.913297,
          -2.8260279999999938,
          -67.45060399999966,
          -75.08324999999968,
          -23.015946999999983,
          -68.83224900000005,
          -24.887230000000045,
          -49.66902099999993,
          -58.91727800000001,
          -31.718542999999954,
          -11.889054999999985,
          -7.980550000000051,
          -10.434522999999984,
          -0.8950450000000103,
          -0.28834400000000215,
          -32.46863599999995,
          -3.3273849999999925,
          -77.51405899999963,
          -27.929427999999916,
          -18.668146999999976,
          -5.197835999999825,
          -3.6558100000000024,
          -51.255044,
          -63.340017000000444,
          -0.7067380000000014,
          -22.291425000000004,
          -2.7826080000000104,
          -83.15663399999994,
          -41.012827000000016,
          -35.17997799999989,
          -48.22219300000006,
          -12.475060000000042,
          -78.09536200000002,
          -17.7542269999999,
          -21.02028100000001,
          -17.00683700000002,
          -76.59807799999999,
          -22.326024999999845,
          -4.177482999999995,
          -17.9403870000001,
          -6.359920999999986,
          -119.37310499999967,
          -47.45268899999974,
          -68.5515460000006,
          -98.97402500000044,
          -13.797242000000097,
          -28.67000900000005,
          -1.333558999999994,
          -8.679593000000011,
          -10.346742000000006,
          -9.757890999999972,
          -8.821279000000004,
          -50.64971199999991,
          -5.748436000000311,
          -43.28120899999999,
          -31.700099000000023,
          -31.03724500000044,
          -33.159164000000146,
          -77.40304000000015,
          -83.06708299999991,
          -29.06899899999985,
          -44.06424100000004,
          -11.130683999999974,
          -13.446929999999838,
          -100.87981299999956,
          -31.653808000000026,
          -120.6863289999992,
          -59.924011000000064,
          -3.663513999999992,
          -4.8350030000001425,
          -84.2513770000005,
          -1.9382350000000201,
          -96.11897099999987,
          -30.883786999999984,
          -31.291811000000052,
          -0.6750310000000042,
          -10.717422,
          -30.062017999999966,
          -320.425468999998,
          -66.77053100000012,
          -0.8301879999999642,
          -23.902229999999918,
          -21.510658999999976,
          -261.1631639999996,
          -93.47681999999986,
          -12.64531199999999,
          -24.045061999999973,
          -34.99769400000014,
          -86.26370500000007,
          -90.87549199999921,
          -30.534593999999743,
          -20.713576999999987,
          -235.37350900000092,
          -5.837316000000101,
          -106.67004600000018,
          -92.51912200000015
         ],
         "xaxis": "x",
         "y": [
          -20.932618000000048,
          -36.8280920000002,
          -33.70509300000003,
          -40.923567999999705,
          -0.6461490000000083,
          -1.1220910000000117,
          -8.954318,
          -7.4678499999999985,
          -24.378221000000167,
          -28.56901999999991,
          -11.190226000000166,
          -32.19208200000003,
          -7.506529999999998,
          -5.0236340000000155,
          -2.9026039999999966,
          -0.9194620000000029,
          -43.731513999999834,
          0.13643199999999922,
          -44.88013599999999,
          -24.899947999999767,
          -25.893785000000207,
          -17.33824000000004,
          -7.047101999999995,
          -5.690025999999989,
          -5.132463999999999,
          -33.44426999999996,
          -0.811074000000005,
          -15.095623000000046,
          -4.354781000000003,
          -2.7259320000000002,
          -2.5349319999999977,
          -5.233786000000009,
          -7.790623000000011,
          -2.524723000000023,
          -64.03242599999976,
          -10.874191999999994,
          -9.424395000000004,
          -72.85468800000035,
          -10.654831999999942,
          -6.403962999999976,
          -16.174551000000065,
          -0.9588289999999944,
          -27.92461000000003,
          -8.969922999999994,
          -6.621584000000013,
          -8.136920000000003,
          -14.116206000000005,
          -20.996578000000227,
          -28.475280999999995,
          -0.30634300000001247,
          -83.52020399999992,
          -4.8645440000000235,
          -3.608296999999993,
          -5.374915999999985,
          -11.560735000000022,
          -16.69756499999994,
          -11.293242000000077,
          -0.779293999999993,
          -4.95261000000005,
          -11.516402999999968,
          -64.74903300000005,
          -37.0731310000001,
          -22.2931880000001,
          -3.236919999999998,
          -16.172977000000174,
          -11.833067000000028,
          -28.633374999999887,
          -5.277052000000026,
          -5.652563999999984,
          -17.169967999999983,
          -28.299003000000084,
          -23.825834000000214,
          -45.7119789999997,
          -0.9444900000000302,
          -21.288222000000133,
          -98.34922300000017,
          -7.655639000000065,
          -12.13067000000001,
          -28.56901999999991,
          -27.432544999999664,
          -9.142724000000044,
          -0.9372439999999926,
          -126.14402599999994,
          -5.307191999999986,
          -0.8092020000000275,
          -17.63377700000001,
          9.999999999177334e-07,
          -7.0921639999999115,
          -3.965993999999995,
          -19.185606000000007,
          -19.9900090000001,
          -27.370060000000194,
          -2.662633999999997,
          -11.410481000000004,
          -15.51861299999996,
          -17.328859999999963,
          -43.46917200000007,
          -23.328929999999673,
          -25.65858800000001,
          -10.217479999999966,
          -26.697307000000364,
          -3.4755150000000015,
          -0.09285100000000313,
          -7.346508999999969,
          -22.48443099999986,
          -47.84506400000009,
          -3.680536000000018,
          -2.5305829999999787,
          -13.435090000000002,
          -21.541653999999994,
          -7.643312000000009,
          -4.707732000000021,
          -16.25679900000023,
          -10.710593999999901,
          -40.680709000000206,
          -22.99679200000014,
          -8.647851999999943,
          -24.433138999999983,
          -39.05256399999962,
          -36.47234300000014,
          -7.809849000000014,
          -31.768066000000545,
          -16.644812,
          -12.51502000000005,
          -9.15341599999988,
          -1.0594890000000134,
          -78.18957599999976,
          -10.662180999999919,
          -26.25436499999978,
          -66.23379000000023,
          -11.768124999999998,
          -8.736868000000015,
          -0.7840910000000036,
          -22.764770000000226,
          -17.27812199999994,
          -3.8956079999999815,
          -18.693382000000156,
          -142.34594599999946,
          -1.9250750000000494,
          -9.418569999999988,
          -15.338510999999926,
          -2.235697999999985,
          -0.9708559999999693,
          -0.9708559999999693,
          -9.721222000000012,
          -53.1531759999998,
          -23.52239600000007,
          -3.058881999999983,
          -7.475821999999994,
          -40.850140000000465,
          -5.892654999999991,
          -69.11508099999992,
          -41.299205000000256,
          -2.5235359999999787,
          -69.39728500000001,
          -13.324483999999984,
          -54.36616200000026,
          -41.96849800000018,
          -0.8092020000000275,
          -70.547098,
          -8.596131000000014,
          -14.442738000000077,
          -4.985663999999986,
          -37.33589600000005,
          -1.0097299999999905,
          -9.82420900000001,
          -2.1068189999999873,
          -11.25344899999999,
          -24.72661599999992,
          -2.1673319999999876,
          -34.590950999999905,
          -15.818818000000192,
          -10.782674000000043,
          -2.7527299999999855,
          -27.049881000000028,
          -36.660639000000174,
          -0.8201409999999996,
          -11.225031999999999,
          -12.836176000000023,
          -3.3515580000000114,
          -7.569213999999988,
          -64.38527900000008,
          -16.262073000000328,
          -28.281132999999954,
          -6.122726999999998,
          -22.48443099999986,
          -13.625549000000035,
          -56.272435000000314,
          -7.671303000000023,
          -69.58413900000005,
          -31.498501000000033,
          -65.87586900000042,
          -1.1681239999999775,
          -20.93321100000003,
          -13.687199999999848,
          -0.5092159999999808,
          -72.41004500000054,
          -3.1500529999999856,
          -10.962871999999948,
          -1.3114550000000023,
          -60.5224589999998,
          -1.1763079999999988,
          -20.059654000000023,
          -4.273252000000014,
          -7.888959999999997,
          -6.594928999999979,
          -12.536759999999958,
          -7.463435000000004,
          -43.54480599999988,
          -35.59920899999997,
          -2.537868000000003,
          -60.23092900000029,
          -10.53231199999999,
          -6.327539000000002,
          -2.639780000000002,
          -27.216318999999885,
          -11.046507999999989,
          -20.764854000000014,
          -13.299453000000028,
          -16.69756499999994,
          -17.343795999999998,
          -23.841192000000092,
          -17.808373999999958,
          -13.711828999999966,
          -15.762477999999874,
          -30.24373099999991,
          -22.991792000000032,
          -19.01646299999993,
          -52.570168000000194,
          -12.733529999999973,
          -10.492657000000008,
          -37.00924299999997,
          -41.720408000000134,
          -0.8388519999999886,
          -9.967556999999942,
          -3.927182000000016,
          -7.952104999999989,
          -26.705528,
          -8.414713000000006,
          -4.137569999999982,
          -20.970636000000013,
          -4.082872000000009,
          -35.55656799999997,
          -31.249616999999944,
          -26.697307000000364,
          -1.0861400000000003,
          -28.429846999999995,
          -8.293908999999985,
          -4.176156999999989,
          -1.0726259999999996,
          -10.00105000000002,
          -81.31201800000053,
          -14.046370000000024,
          -88.31346199999916,
          -60.97811600000023,
          -9.38845100000026,
          -19.49714400000005,
          -40.726786000000175,
          -18.856690999999955,
          -5.875641999999061,
          -10.048216000000139,
          -0.9490760000000051,
          -0.27194299999999316,
          -6.187825999999973,
          -18.350068999999962,
          -51.23063499999989,
          -0.304064000000011,
          -65.510041,
          -7.232061999999985,
          -19.043000000000006,
          -16.782439000000068,
          -50.40927799999963,
          -20.383837,
          -28.372071000000233,
          -250.2608880000007,
          -5.3529279999999915,
          -1.785933,
          -1.3821379999999976,
          -26.25436499999978,
          -39.39934600000015,
          -13.454696999999953,
          -23.816111999999976,
          -13.278296000000012,
          -22.258460000000014,
          -10.654944999999941,
          -16.637012000000027,
          -5.8539829999999995,
          -4.1688159999999925,
          -9.616498000000007,
          -2.0637080000000196,
          -0.42113200000000006,
          -18.74367699999999,
          -1.676587999999981,
          -32.627396999999974,
          -14.548221000000012,
          -20.069727000000057,
          -3.77125500000011,
          -1.9679809999999947,
          -30.79764,
          -43.724999000000025,
          -6.190151999999998,
          -8.188550999999961,
          -3.379468000000003,
          -55.69140299999981,
          -19.469330000000014,
          -14.90494200000012,
          -20.556409999999914,
          -8.720209000000011,
          -38.859187999999904,
          -13.303539,
          -6.358069,
          -8.52993200000003,
          -47.153667999999925,
          -10.935784000000012,
          -1.4007100000000037,
          -9.925612000000001,
          -3.4401180000000977,
          -56.272435000000314,
          -32.23363100000006,
          -45.058828000000176,
          -47.26052600000003,
          -6.1807039999999915,
          -14.882484999999974,
          -2.820402999999999,
          -12.048577000000023,
          -10.682241000000033,
          -7.128554000000008,
          -4.820814999999982,
          -25.083086999999978,
          -6.744931999999608,
          -23.189239000000043,
          -27.61552000000006,
          -17.25151700000015,
          -23.828126999999995,
          -46.65223200000014,
          -41.54609400000027,
          -24.026022999999896,
          -17.33824000000004,
          -6.5817180000000235,
          -6.715108999999984,
          -52.49463400000013,
          -25.741993000000093,
          -38.41052600000057,
          -23.823115000000143,
          -2.346261999999996,
          -3.5399589999999534,
          -66.26749999999993,
          -1.290143999999998,
          -59.878999999999905,
          -16.282464000000004,
          -15.582221000000004,
          -0.5846599999999995,
          0.23566500000001156,
          -16.71937600000001,
          -150.42985899999985,
          -43.58415699999978,
          -0.7049729999999954,
          -13.419647000000055,
          -12.194983999999977,
          -166.41672199999994,
          -52.839668000000074,
          -5.553064000000006,
          -5.904977000000002,
          -21.13487000000032,
          -21.919182999999975,
          -76.1949139999997,
          -16.894091000000117,
          -13.828968000000259,
          -142.4132269999991,
          -4.042803999999933,
          -55.70162299999993,
          -45.41854000000001
         ],
         "yaxis": "y"
        }
       ],
       "layout": {
        "legend": {
         "tracegroupgap": 0
        },
        "margin": {
         "t": 60
        },
        "template": {
         "data": {
          "bar": [
           {
            "error_x": {
             "color": "#2a3f5f"
            },
            "error_y": {
             "color": "#2a3f5f"
            },
            "marker": {
             "line": {
              "color": "#E5ECF6",
              "width": 0.5
             },
             "pattern": {
              "fillmode": "overlay",
              "size": 10,
              "solidity": 0.2
             }
            },
            "type": "bar"
           }
          ],
          "barpolar": [
           {
            "marker": {
             "line": {
              "color": "#E5ECF6",
              "width": 0.5
             },
             "pattern": {
              "fillmode": "overlay",
              "size": 10,
              "solidity": 0.2
             }
            },
            "type": "barpolar"
           }
          ],
          "carpet": [
           {
            "aaxis": {
             "endlinecolor": "#2a3f5f",
             "gridcolor": "white",
             "linecolor": "white",
             "minorgridcolor": "white",
             "startlinecolor": "#2a3f5f"
            },
            "baxis": {
             "endlinecolor": "#2a3f5f",
             "gridcolor": "white",
             "linecolor": "white",
             "minorgridcolor": "white",
             "startlinecolor": "#2a3f5f"
            },
            "type": "carpet"
           }
          ],
          "choropleth": [
           {
            "colorbar": {
             "outlinewidth": 0,
             "ticks": ""
            },
            "type": "choropleth"
           }
          ],
          "contour": [
           {
            "colorbar": {
             "outlinewidth": 0,
             "ticks": ""
            },
            "colorscale": [
             [
              0,
              "#0d0887"
             ],
             [
              0.1111111111111111,
              "#46039f"
             ],
             [
              0.2222222222222222,
              "#7201a8"
             ],
             [
              0.3333333333333333,
              "#9c179e"
             ],
             [
              0.4444444444444444,
              "#bd3786"
             ],
             [
              0.5555555555555556,
              "#d8576b"
             ],
             [
              0.6666666666666666,
              "#ed7953"
             ],
             [
              0.7777777777777778,
              "#fb9f3a"
             ],
             [
              0.8888888888888888,
              "#fdca26"
             ],
             [
              1,
              "#f0f921"
             ]
            ],
            "type": "contour"
           }
          ],
          "contourcarpet": [
           {
            "colorbar": {
             "outlinewidth": 0,
             "ticks": ""
            },
            "type": "contourcarpet"
           }
          ],
          "heatmap": [
           {
            "colorbar": {
             "outlinewidth": 0,
             "ticks": ""
            },
            "colorscale": [
             [
              0,
              "#0d0887"
             ],
             [
              0.1111111111111111,
              "#46039f"
             ],
             [
              0.2222222222222222,
              "#7201a8"
             ],
             [
              0.3333333333333333,
              "#9c179e"
             ],
             [
              0.4444444444444444,
              "#bd3786"
             ],
             [
              0.5555555555555556,
              "#d8576b"
             ],
             [
              0.6666666666666666,
              "#ed7953"
             ],
             [
              0.7777777777777778,
              "#fb9f3a"
             ],
             [
              0.8888888888888888,
              "#fdca26"
             ],
             [
              1,
              "#f0f921"
             ]
            ],
            "type": "heatmap"
           }
          ],
          "heatmapgl": [
           {
            "colorbar": {
             "outlinewidth": 0,
             "ticks": ""
            },
            "colorscale": [
             [
              0,
              "#0d0887"
             ],
             [
              0.1111111111111111,
              "#46039f"
             ],
             [
              0.2222222222222222,
              "#7201a8"
             ],
             [
              0.3333333333333333,
              "#9c179e"
             ],
             [
              0.4444444444444444,
              "#bd3786"
             ],
             [
              0.5555555555555556,
              "#d8576b"
             ],
             [
              0.6666666666666666,
              "#ed7953"
             ],
             [
              0.7777777777777778,
              "#fb9f3a"
             ],
             [
              0.8888888888888888,
              "#fdca26"
             ],
             [
              1,
              "#f0f921"
             ]
            ],
            "type": "heatmapgl"
           }
          ],
          "histogram": [
           {
            "marker": {
             "pattern": {
              "fillmode": "overlay",
              "size": 10,
              "solidity": 0.2
             }
            },
            "type": "histogram"
           }
          ],
          "histogram2d": [
           {
            "colorbar": {
             "outlinewidth": 0,
             "ticks": ""
            },
            "colorscale": [
             [
              0,
              "#0d0887"
             ],
             [
              0.1111111111111111,
              "#46039f"
             ],
             [
              0.2222222222222222,
              "#7201a8"
             ],
             [
              0.3333333333333333,
              "#9c179e"
             ],
             [
              0.4444444444444444,
              "#bd3786"
             ],
             [
              0.5555555555555556,
              "#d8576b"
             ],
             [
              0.6666666666666666,
              "#ed7953"
             ],
             [
              0.7777777777777778,
              "#fb9f3a"
             ],
             [
              0.8888888888888888,
              "#fdca26"
             ],
             [
              1,
              "#f0f921"
             ]
            ],
            "type": "histogram2d"
           }
          ],
          "histogram2dcontour": [
           {
            "colorbar": {
             "outlinewidth": 0,
             "ticks": ""
            },
            "colorscale": [
             [
              0,
              "#0d0887"
             ],
             [
              0.1111111111111111,
              "#46039f"
             ],
             [
              0.2222222222222222,
              "#7201a8"
             ],
             [
              0.3333333333333333,
              "#9c179e"
             ],
             [
              0.4444444444444444,
              "#bd3786"
             ],
             [
              0.5555555555555556,
              "#d8576b"
             ],
             [
              0.6666666666666666,
              "#ed7953"
             ],
             [
              0.7777777777777778,
              "#fb9f3a"
             ],
             [
              0.8888888888888888,
              "#fdca26"
             ],
             [
              1,
              "#f0f921"
             ]
            ],
            "type": "histogram2dcontour"
           }
          ],
          "mesh3d": [
           {
            "colorbar": {
             "outlinewidth": 0,
             "ticks": ""
            },
            "type": "mesh3d"
           }
          ],
          "parcoords": [
           {
            "line": {
             "colorbar": {
              "outlinewidth": 0,
              "ticks": ""
             }
            },
            "type": "parcoords"
           }
          ],
          "pie": [
           {
            "automargin": true,
            "type": "pie"
           }
          ],
          "scatter": [
           {
            "fillpattern": {
             "fillmode": "overlay",
             "size": 10,
             "solidity": 0.2
            },
            "type": "scatter"
           }
          ],
          "scatter3d": [
           {
            "line": {
             "colorbar": {
              "outlinewidth": 0,
              "ticks": ""
             }
            },
            "marker": {
             "colorbar": {
              "outlinewidth": 0,
              "ticks": ""
             }
            },
            "type": "scatter3d"
           }
          ],
          "scattercarpet": [
           {
            "marker": {
             "colorbar": {
              "outlinewidth": 0,
              "ticks": ""
             }
            },
            "type": "scattercarpet"
           }
          ],
          "scattergeo": [
           {
            "marker": {
             "colorbar": {
              "outlinewidth": 0,
              "ticks": ""
             }
            },
            "type": "scattergeo"
           }
          ],
          "scattergl": [
           {
            "marker": {
             "colorbar": {
              "outlinewidth": 0,
              "ticks": ""
             }
            },
            "type": "scattergl"
           }
          ],
          "scattermapbox": [
           {
            "marker": {
             "colorbar": {
              "outlinewidth": 0,
              "ticks": ""
             }
            },
            "type": "scattermapbox"
           }
          ],
          "scatterpolar": [
           {
            "marker": {
             "colorbar": {
              "outlinewidth": 0,
              "ticks": ""
             }
            },
            "type": "scatterpolar"
           }
          ],
          "scatterpolargl": [
           {
            "marker": {
             "colorbar": {
              "outlinewidth": 0,
              "ticks": ""
             }
            },
            "type": "scatterpolargl"
           }
          ],
          "scatterternary": [
           {
            "marker": {
             "colorbar": {
              "outlinewidth": 0,
              "ticks": ""
             }
            },
            "type": "scatterternary"
           }
          ],
          "surface": [
           {
            "colorbar": {
             "outlinewidth": 0,
             "ticks": ""
            },
            "colorscale": [
             [
              0,
              "#0d0887"
             ],
             [
              0.1111111111111111,
              "#46039f"
             ],
             [
              0.2222222222222222,
              "#7201a8"
             ],
             [
              0.3333333333333333,
              "#9c179e"
             ],
             [
              0.4444444444444444,
              "#bd3786"
             ],
             [
              0.5555555555555556,
              "#d8576b"
             ],
             [
              0.6666666666666666,
              "#ed7953"
             ],
             [
              0.7777777777777778,
              "#fb9f3a"
             ],
             [
              0.8888888888888888,
              "#fdca26"
             ],
             [
              1,
              "#f0f921"
             ]
            ],
            "type": "surface"
           }
          ],
          "table": [
           {
            "cells": {
             "fill": {
              "color": "#EBF0F8"
             },
             "line": {
              "color": "white"
             }
            },
            "header": {
             "fill": {
              "color": "#C8D4E3"
             },
             "line": {
              "color": "white"
             }
            },
            "type": "table"
           }
          ]
         },
         "layout": {
          "annotationdefaults": {
           "arrowcolor": "#2a3f5f",
           "arrowhead": 0,
           "arrowwidth": 1
          },
          "autotypenumbers": "strict",
          "coloraxis": {
           "colorbar": {
            "outlinewidth": 0,
            "ticks": ""
           }
          },
          "colorscale": {
           "diverging": [
            [
             0,
             "#8e0152"
            ],
            [
             0.1,
             "#c51b7d"
            ],
            [
             0.2,
             "#de77ae"
            ],
            [
             0.3,
             "#f1b6da"
            ],
            [
             0.4,
             "#fde0ef"
            ],
            [
             0.5,
             "#f7f7f7"
            ],
            [
             0.6,
             "#e6f5d0"
            ],
            [
             0.7,
             "#b8e186"
            ],
            [
             0.8,
             "#7fbc41"
            ],
            [
             0.9,
             "#4d9221"
            ],
            [
             1,
             "#276419"
            ]
           ],
           "sequential": [
            [
             0,
             "#0d0887"
            ],
            [
             0.1111111111111111,
             "#46039f"
            ],
            [
             0.2222222222222222,
             "#7201a8"
            ],
            [
             0.3333333333333333,
             "#9c179e"
            ],
            [
             0.4444444444444444,
             "#bd3786"
            ],
            [
             0.5555555555555556,
             "#d8576b"
            ],
            [
             0.6666666666666666,
             "#ed7953"
            ],
            [
             0.7777777777777778,
             "#fb9f3a"
            ],
            [
             0.8888888888888888,
             "#fdca26"
            ],
            [
             1,
             "#f0f921"
            ]
           ],
           "sequentialminus": [
            [
             0,
             "#0d0887"
            ],
            [
             0.1111111111111111,
             "#46039f"
            ],
            [
             0.2222222222222222,
             "#7201a8"
            ],
            [
             0.3333333333333333,
             "#9c179e"
            ],
            [
             0.4444444444444444,
             "#bd3786"
            ],
            [
             0.5555555555555556,
             "#d8576b"
            ],
            [
             0.6666666666666666,
             "#ed7953"
            ],
            [
             0.7777777777777778,
             "#fb9f3a"
            ],
            [
             0.8888888888888888,
             "#fdca26"
            ],
            [
             1,
             "#f0f921"
            ]
           ]
          },
          "colorway": [
           "#636efa",
           "#EF553B",
           "#00cc96",
           "#ab63fa",
           "#FFA15A",
           "#19d3f3",
           "#FF6692",
           "#B6E880",
           "#FF97FF",
           "#FECB52"
          ],
          "font": {
           "color": "#2a3f5f"
          },
          "geo": {
           "bgcolor": "white",
           "lakecolor": "white",
           "landcolor": "#E5ECF6",
           "showlakes": true,
           "showland": true,
           "subunitcolor": "white"
          },
          "hoverlabel": {
           "align": "left"
          },
          "hovermode": "closest",
          "mapbox": {
           "style": "light"
          },
          "paper_bgcolor": "white",
          "plot_bgcolor": "#E5ECF6",
          "polar": {
           "angularaxis": {
            "gridcolor": "white",
            "linecolor": "white",
            "ticks": ""
           },
           "bgcolor": "#E5ECF6",
           "radialaxis": {
            "gridcolor": "white",
            "linecolor": "white",
            "ticks": ""
           }
          },
          "scene": {
           "xaxis": {
            "backgroundcolor": "#E5ECF6",
            "gridcolor": "white",
            "gridwidth": 2,
            "linecolor": "white",
            "showbackground": true,
            "ticks": "",
            "zerolinecolor": "white"
           },
           "yaxis": {
            "backgroundcolor": "#E5ECF6",
            "gridcolor": "white",
            "gridwidth": 2,
            "linecolor": "white",
            "showbackground": true,
            "ticks": "",
            "zerolinecolor": "white"
           },
           "zaxis": {
            "backgroundcolor": "#E5ECF6",
            "gridcolor": "white",
            "gridwidth": 2,
            "linecolor": "white",
            "showbackground": true,
            "ticks": "",
            "zerolinecolor": "white"
           }
          },
          "shapedefaults": {
           "line": {
            "color": "#2a3f5f"
           }
          },
          "ternary": {
           "aaxis": {
            "gridcolor": "white",
            "linecolor": "white",
            "ticks": ""
           },
           "baxis": {
            "gridcolor": "white",
            "linecolor": "white",
            "ticks": ""
           },
           "bgcolor": "#E5ECF6",
           "caxis": {
            "gridcolor": "white",
            "linecolor": "white",
            "ticks": ""
           }
          },
          "title": {
           "x": 0.05
          },
          "xaxis": {
           "automargin": true,
           "gridcolor": "white",
           "linecolor": "white",
           "ticks": "",
           "title": {
            "standoff": 15
           },
           "zerolinecolor": "white",
           "zerolinewidth": 2
          },
          "yaxis": {
           "automargin": true,
           "gridcolor": "white",
           "linecolor": "white",
           "ticks": "",
           "title": {
            "standoff": 15
           },
           "zerolinecolor": "white",
           "zerolinewidth": 2
          }
         }
        },
        "xaxis": {
         "anchor": "y",
         "domain": [
          0,
          1
         ],
         "title": {
          "text": "MK_cross_diff_GTR"
         }
        },
        "yaxis": {
         "anchor": "x",
         "domain": [
          0,
          1
         ],
         "title": {
          "text": "GTR_cross_diff_MK"
         }
        }
       }
      },
      "text/html": [
       "<div>                            <div id=\"2693c0ba-e66f-4cb9-a45a-26a7741a9199\" class=\"plotly-graph-div\" style=\"height:525px; width:100%;\"></div>            <script type=\"text/javascript\">                require([\"plotly\"], function(Plotly) {                    window.PLOTLYENV=window.PLOTLYENV || {};                                    if (document.getElementById(\"2693c0ba-e66f-4cb9-a45a-26a7741a9199\")) {                    Plotly.newPlot(                        \"2693c0ba-e66f-4cb9-a45a-26a7741a9199\",                        [{\"hovertemplate\":\"MK_cross_diff_GTR=%{x}<br>GTR_cross_diff_MK=%{y}<extra></extra>\",\"legendgroup\":\"\",\"marker\":{\"color\":\"#636efa\",\"symbol\":\"circle\"},\"mode\":\"markers\",\"name\":\"\",\"orientation\":\"v\",\"showlegend\":false,\"x\":[-61.11665400000004,-84.39396199999965,-87.09720199999992,-109.65376500000002,-0.28500999999999976,-2.2265939999999773,-15.500529,-11.514030000000048,-29.89609100000007,-108.62727799999993,-29.739055000000008,-61.59558399999969,-14.17724800000002,-8.330038999999942,-4.752034999999978,-0.29143099999999933,-59.63555699999961,-2.2387180000000058,-82.18189600000005,-47.19094700000005,-36.3790799999997,-44.06424100000004,-9.089155000000005,-27.060692000000017,-3.856004000000013,-84.65785199999982,-1.8738460000000003,-19.22425499999997,-6.64985200000001,-2.3974689999999725,-1.5349820000000136,-10.041424000000006,-3.3904310000000066,-5.330374000000006,-95.4796750000005,-17.08382500000016,-17.787295000000086,-125.22384299999976,-16.623935999999958,-12.833337000000029,-31.218171999999868,-1.9096779999999995,-40.317314000000124,-22.980771000000004,-6.051727,-8.327665999999965,-25.556993999999975,-38.716559999999845,-51.800677999999834,-0.5094589999999926,-98.89572999999973,-5.089961000000017,-2.9374290000000087,-11.254773,-17.870458999999755,-31.398549999999886,-19.82611799999995,-0.8214499999999703,-13.43317500000012,-37.443243999999936,-165.900263,-79.55197899999985,-47.10426400000006,-3.8190230000000156,-26.199739000000136,-19.932643999999982,-42.14419600000019,-11.00542699999994,-11.406269000000066,-44.563507000000016,-73.28825299999971,-60.20191999999997,-63.02936099999988,-1.2869160000000193,-39.61679400000003,-132.87396199999966,-20.240429999999947,-14.657930999999962,-108.62727799999993,-50.96828400000004,-14.313076000000137,-0.9105709999999902,-235.86605300000065,-26.75497200000001,-1.8024010000000317,-30.60365899999988,-9.999999996956888e-07,-10.985965999999962,-17.36988500000001,-41.36574299999995,-27.317633999999998,-31.757994000001418,-5.177342999999951,-24.56057199999998,-38.97522900000001,-17.050241000000028,-91.26662100000067,-35.193674999999985,-40.56296500000008,-15.501141000000018,-42.998051999999916,-7.2460260000000005,-0.40428999999999604,-14.594837999999982,-29.984615000000076,-89.67367300000024,-10.660684000000003,-6.687526000000048,-52.741018999999994,-19.056377999999995,-17.686005999999992,-12.878706000000022,-23.615348000000267,-16.3753999999999,-64.33406999999988,-36.88234899999998,-19.766485999999986,-38.031116999999995,-70.14952100000028,-27.296693000000005,-11.170786000000021,-69.18813600000067,-27.88555200000019,-29.177069999999958,-17.705872,-1.7532489999999825,-160.49926699999924,-16.510776000000078,-67.45060399999966,-131.02533700000004,-44.452991,-12.573118999999963,-1.2758800000000008,-22.595940000000155,-24.701039000000037,-9.513785000000041,-36.818334999999934,-235.67391099999986,-4.985469000000023,-10.00325399999997,-22.64708900000005,-2.81027899999998,-1.3237250000000813,-1.3237250000000813,-11.643648999999982,-97.16776200000004,-29.062333999999964,-6.953502999999984,-8.069357999999966,-83.70838399999957,-6.661470000000008,-133.43310699999984,-84.89726299999984,-7.133496999999977,-106.18143500000042,-26.020522000000028,-94.42192599999998,-81.14265100000011,-1.8024010000000317,-121.15456699999959,-37.91956700000003,-30.578145999999947,-17.498576000000014,-62.030351999999766,-1.9989360000000147,-19.78745999999998,-0.6594670000000065,-26.529416999999967,-24.077398999997968,-5.4360209999999825,-77.40639599999986,-28.33580299999994,-39.12157899999988,-5.290956999999992,-29.69941300000005,-70.40926499999932,-1.4103319999999968,-15.628693999999996,-17.75093599999991,-4.3180320000000165,-14.569496000000015,-89.8938390000003,-21.305970000000343,-82.20802000000003,-10.84181799999999,-29.984615000000076,-29.73719899999992,-119.37310499999967,-22.766571,-199.31803899999977,-51.72663999999986,-98.73066600000038,-1.337562000000048,-39.890805999999884,-27.890627000000222,-0.6828159999999741,-97.88397900000018,-3.7524259999999856,-16.265324000000078,-1.5657430000000048,-55.89690299999984,-0.5506209999999996,-43.876415000000065,-4.178182000000049,-10.597822000000065,-13.431341999999859,-23.382662999999866,-19.28517499999998,-116.39638800000012,-82.65078199999971,-2.0773009999999914,-88.79543099999955,-17.04391499999997,-6.975228999999956,-1.2257760000000104,-21.64286600000014,-37.29092400000002,-35.31703000000016,-13.816912000000002,-31.398549999999886,-52.09789799999999,-42.06932999999981,-55.151566999999886,-22.515854000000218,-28.96634700000004,-30.123743999999988,-61.463076,-38.13057100000003,-92.12689099999989,-10.738760999999954,-13.188583999999992,-36.197660999999925,-63.44142800000009,-0.330600000000004,-19.09319699999992,-12.135300999999998,-7.568283000000008,-5.9348369999999875,-6.361823999999956,-6.907975000000079,-30.715626000000043,-15.652323999999993,-87.33839499999976,-46.58148400000027,-42.998051999999916,-1.6067699999999832,-30.678696999999943,-24.90404000000001,-6.535566000000017,-0.9734089999999895,-11.917479000000014,-217.5405520000004,-18.482682999999724,-170.95854400000098,-88.59820799999943,-12.497471000000132,-26.74609899999996,-64.80434799999966,-42.84995099999992,-5.006354000001011,-16.567598999999973,-1.7133260000000092,-0.521097999999995,-12.296046000000047,-70.30340499999988,-96.76370599999973,-0.4120460000000037,-107.60291700000016,-5.506148999999937,-21.89534900000001,-26.327864000000318,-100.99650599999995,-22.01650600000002,-45.952894000000015,-314.7953379999999,-6.572596000000004,-1.913297,-2.8260279999999938,-67.45060399999966,-75.08324999999968,-23.015946999999983,-68.83224900000005,-24.887230000000045,-49.66902099999993,-58.91727800000001,-31.718542999999954,-11.889054999999985,-7.980550000000051,-10.434522999999984,-0.8950450000000103,-0.28834400000000215,-32.46863599999995,-3.3273849999999925,-77.51405899999963,-27.929427999999916,-18.668146999999976,-5.197835999999825,-3.6558100000000024,-51.255044,-63.340017000000444,-0.7067380000000014,-22.291425000000004,-2.7826080000000104,-83.15663399999994,-41.012827000000016,-35.17997799999989,-48.22219300000006,-12.475060000000042,-78.09536200000002,-17.7542269999999,-21.02028100000001,-17.00683700000002,-76.59807799999999,-22.326024999999845,-4.177482999999995,-17.9403870000001,-6.359920999999986,-119.37310499999967,-47.45268899999974,-68.5515460000006,-98.97402500000044,-13.797242000000097,-28.67000900000005,-1.333558999999994,-8.679593000000011,-10.346742000000006,-9.757890999999972,-8.821279000000004,-50.64971199999991,-5.748436000000311,-43.28120899999999,-31.700099000000023,-31.03724500000044,-33.159164000000146,-77.40304000000015,-83.06708299999991,-29.06899899999985,-44.06424100000004,-11.130683999999974,-13.446929999999838,-100.87981299999956,-31.653808000000026,-120.6863289999992,-59.924011000000064,-3.663513999999992,-4.8350030000001425,-84.2513770000005,-1.9382350000000201,-96.11897099999987,-30.883786999999984,-31.291811000000052,-0.6750310000000042,-10.717422,-30.062017999999966,-320.425468999998,-66.77053100000012,-0.8301879999999642,-23.902229999999918,-21.510658999999976,-261.1631639999996,-93.47681999999986,-12.64531199999999,-24.045061999999973,-34.99769400000014,-86.26370500000007,-90.87549199999921,-30.534593999999743,-20.713576999999987,-235.37350900000092,-5.837316000000101,-106.67004600000018,-92.51912200000015],\"xaxis\":\"x\",\"y\":[-20.932618000000048,-36.8280920000002,-33.70509300000003,-40.923567999999705,-0.6461490000000083,-1.1220910000000117,-8.954318,-7.4678499999999985,-24.378221000000167,-28.56901999999991,-11.190226000000166,-32.19208200000003,-7.506529999999998,-5.0236340000000155,-2.9026039999999966,-0.9194620000000029,-43.731513999999834,0.13643199999999922,-44.88013599999999,-24.899947999999767,-25.893785000000207,-17.33824000000004,-7.047101999999995,-5.690025999999989,-5.132463999999999,-33.44426999999996,-0.811074000000005,-15.095623000000046,-4.354781000000003,-2.7259320000000002,-2.5349319999999977,-5.233786000000009,-7.790623000000011,-2.524723000000023,-64.03242599999976,-10.874191999999994,-9.424395000000004,-72.85468800000035,-10.654831999999942,-6.403962999999976,-16.174551000000065,-0.9588289999999944,-27.92461000000003,-8.969922999999994,-6.621584000000013,-8.136920000000003,-14.116206000000005,-20.996578000000227,-28.475280999999995,-0.30634300000001247,-83.52020399999992,-4.8645440000000235,-3.608296999999993,-5.374915999999985,-11.560735000000022,-16.69756499999994,-11.293242000000077,-0.779293999999993,-4.95261000000005,-11.516402999999968,-64.74903300000005,-37.0731310000001,-22.2931880000001,-3.236919999999998,-16.172977000000174,-11.833067000000028,-28.633374999999887,-5.277052000000026,-5.652563999999984,-17.169967999999983,-28.299003000000084,-23.825834000000214,-45.7119789999997,-0.9444900000000302,-21.288222000000133,-98.34922300000017,-7.655639000000065,-12.13067000000001,-28.56901999999991,-27.432544999999664,-9.142724000000044,-0.9372439999999926,-126.14402599999994,-5.307191999999986,-0.8092020000000275,-17.63377700000001,9.999999999177334e-07,-7.0921639999999115,-3.965993999999995,-19.185606000000007,-19.9900090000001,-27.370060000000194,-2.662633999999997,-11.410481000000004,-15.51861299999996,-17.328859999999963,-43.46917200000007,-23.328929999999673,-25.65858800000001,-10.217479999999966,-26.697307000000364,-3.4755150000000015,-0.09285100000000313,-7.346508999999969,-22.48443099999986,-47.84506400000009,-3.680536000000018,-2.5305829999999787,-13.435090000000002,-21.541653999999994,-7.643312000000009,-4.707732000000021,-16.25679900000023,-10.710593999999901,-40.680709000000206,-22.99679200000014,-8.647851999999943,-24.433138999999983,-39.05256399999962,-36.47234300000014,-7.809849000000014,-31.768066000000545,-16.644812,-12.51502000000005,-9.15341599999988,-1.0594890000000134,-78.18957599999976,-10.662180999999919,-26.25436499999978,-66.23379000000023,-11.768124999999998,-8.736868000000015,-0.7840910000000036,-22.764770000000226,-17.27812199999994,-3.8956079999999815,-18.693382000000156,-142.34594599999946,-1.9250750000000494,-9.418569999999988,-15.338510999999926,-2.235697999999985,-0.9708559999999693,-0.9708559999999693,-9.721222000000012,-53.1531759999998,-23.52239600000007,-3.058881999999983,-7.475821999999994,-40.850140000000465,-5.892654999999991,-69.11508099999992,-41.299205000000256,-2.5235359999999787,-69.39728500000001,-13.324483999999984,-54.36616200000026,-41.96849800000018,-0.8092020000000275,-70.547098,-8.596131000000014,-14.442738000000077,-4.985663999999986,-37.33589600000005,-1.0097299999999905,-9.82420900000001,-2.1068189999999873,-11.25344899999999,-24.72661599999992,-2.1673319999999876,-34.590950999999905,-15.818818000000192,-10.782674000000043,-2.7527299999999855,-27.049881000000028,-36.660639000000174,-0.8201409999999996,-11.225031999999999,-12.836176000000023,-3.3515580000000114,-7.569213999999988,-64.38527900000008,-16.262073000000328,-28.281132999999954,-6.122726999999998,-22.48443099999986,-13.625549000000035,-56.272435000000314,-7.671303000000023,-69.58413900000005,-31.498501000000033,-65.87586900000042,-1.1681239999999775,-20.93321100000003,-13.687199999999848,-0.5092159999999808,-72.41004500000054,-3.1500529999999856,-10.962871999999948,-1.3114550000000023,-60.5224589999998,-1.1763079999999988,-20.059654000000023,-4.273252000000014,-7.888959999999997,-6.594928999999979,-12.536759999999958,-7.463435000000004,-43.54480599999988,-35.59920899999997,-2.537868000000003,-60.23092900000029,-10.53231199999999,-6.327539000000002,-2.639780000000002,-27.216318999999885,-11.046507999999989,-20.764854000000014,-13.299453000000028,-16.69756499999994,-17.343795999999998,-23.841192000000092,-17.808373999999958,-13.711828999999966,-15.762477999999874,-30.24373099999991,-22.991792000000032,-19.01646299999993,-52.570168000000194,-12.733529999999973,-10.492657000000008,-37.00924299999997,-41.720408000000134,-0.8388519999999886,-9.967556999999942,-3.927182000000016,-7.952104999999989,-26.705528,-8.414713000000006,-4.137569999999982,-20.970636000000013,-4.082872000000009,-35.55656799999997,-31.249616999999944,-26.697307000000364,-1.0861400000000003,-28.429846999999995,-8.293908999999985,-4.176156999999989,-1.0726259999999996,-10.00105000000002,-81.31201800000053,-14.046370000000024,-88.31346199999916,-60.97811600000023,-9.38845100000026,-19.49714400000005,-40.726786000000175,-18.856690999999955,-5.875641999999061,-10.048216000000139,-0.9490760000000051,-0.27194299999999316,-6.187825999999973,-18.350068999999962,-51.23063499999989,-0.304064000000011,-65.510041,-7.232061999999985,-19.043000000000006,-16.782439000000068,-50.40927799999963,-20.383837,-28.372071000000233,-250.2608880000007,-5.3529279999999915,-1.785933,-1.3821379999999976,-26.25436499999978,-39.39934600000015,-13.454696999999953,-23.816111999999976,-13.278296000000012,-22.258460000000014,-10.654944999999941,-16.637012000000027,-5.8539829999999995,-4.1688159999999925,-9.616498000000007,-2.0637080000000196,-0.42113200000000006,-18.74367699999999,-1.676587999999981,-32.627396999999974,-14.548221000000012,-20.069727000000057,-3.77125500000011,-1.9679809999999947,-30.79764,-43.724999000000025,-6.190151999999998,-8.188550999999961,-3.379468000000003,-55.69140299999981,-19.469330000000014,-14.90494200000012,-20.556409999999914,-8.720209000000011,-38.859187999999904,-13.303539,-6.358069,-8.52993200000003,-47.153667999999925,-10.935784000000012,-1.4007100000000037,-9.925612000000001,-3.4401180000000977,-56.272435000000314,-32.23363100000006,-45.058828000000176,-47.26052600000003,-6.1807039999999915,-14.882484999999974,-2.820402999999999,-12.048577000000023,-10.682241000000033,-7.128554000000008,-4.820814999999982,-25.083086999999978,-6.744931999999608,-23.189239000000043,-27.61552000000006,-17.25151700000015,-23.828126999999995,-46.65223200000014,-41.54609400000027,-24.026022999999896,-17.33824000000004,-6.5817180000000235,-6.715108999999984,-52.49463400000013,-25.741993000000093,-38.41052600000057,-23.823115000000143,-2.346261999999996,-3.5399589999999534,-66.26749999999993,-1.290143999999998,-59.878999999999905,-16.282464000000004,-15.582221000000004,-0.5846599999999995,0.23566500000001156,-16.71937600000001,-150.42985899999985,-43.58415699999978,-0.7049729999999954,-13.419647000000055,-12.194983999999977,-166.41672199999994,-52.839668000000074,-5.553064000000006,-5.904977000000002,-21.13487000000032,-21.919182999999975,-76.1949139999997,-16.894091000000117,-13.828968000000259,-142.4132269999991,-4.042803999999933,-55.70162299999993,-45.41854000000001],\"yaxis\":\"y\",\"type\":\"scatter\"}],                        {\"template\":{\"data\":{\"histogram2dcontour\":[{\"type\":\"histogram2dcontour\",\"colorbar\":{\"outlinewidth\":0,\"ticks\":\"\"},\"colorscale\":[[0.0,\"#0d0887\"],[0.1111111111111111,\"#46039f\"],[0.2222222222222222,\"#7201a8\"],[0.3333333333333333,\"#9c179e\"],[0.4444444444444444,\"#bd3786\"],[0.5555555555555556,\"#d8576b\"],[0.6666666666666666,\"#ed7953\"],[0.7777777777777778,\"#fb9f3a\"],[0.8888888888888888,\"#fdca26\"],[1.0,\"#f0f921\"]]}],\"choropleth\":[{\"type\":\"choropleth\",\"colorbar\":{\"outlinewidth\":0,\"ticks\":\"\"}}],\"histogram2d\":[{\"type\":\"histogram2d\",\"colorbar\":{\"outlinewidth\":0,\"ticks\":\"\"},\"colorscale\":[[0.0,\"#0d0887\"],[0.1111111111111111,\"#46039f\"],[0.2222222222222222,\"#7201a8\"],[0.3333333333333333,\"#9c179e\"],[0.4444444444444444,\"#bd3786\"],[0.5555555555555556,\"#d8576b\"],[0.6666666666666666,\"#ed7953\"],[0.7777777777777778,\"#fb9f3a\"],[0.8888888888888888,\"#fdca26\"],[1.0,\"#f0f921\"]]}],\"heatmap\":[{\"type\":\"heatmap\",\"colorbar\":{\"outlinewidth\":0,\"ticks\":\"\"},\"colorscale\":[[0.0,\"#0d0887\"],[0.1111111111111111,\"#46039f\"],[0.2222222222222222,\"#7201a8\"],[0.3333333333333333,\"#9c179e\"],[0.4444444444444444,\"#bd3786\"],[0.5555555555555556,\"#d8576b\"],[0.6666666666666666,\"#ed7953\"],[0.7777777777777778,\"#fb9f3a\"],[0.8888888888888888,\"#fdca26\"],[1.0,\"#f0f921\"]]}],\"heatmapgl\":[{\"type\":\"heatmapgl\",\"colorbar\":{\"outlinewidth\":0,\"ticks\":\"\"},\"colorscale\":[[0.0,\"#0d0887\"],[0.1111111111111111,\"#46039f\"],[0.2222222222222222,\"#7201a8\"],[0.3333333333333333,\"#9c179e\"],[0.4444444444444444,\"#bd3786\"],[0.5555555555555556,\"#d8576b\"],[0.6666666666666666,\"#ed7953\"],[0.7777777777777778,\"#fb9f3a\"],[0.8888888888888888,\"#fdca26\"],[1.0,\"#f0f921\"]]}],\"contourcarpet\":[{\"type\":\"contourcarpet\",\"colorbar\":{\"outlinewidth\":0,\"ticks\":\"\"}}],\"contour\":[{\"type\":\"contour\",\"colorbar\":{\"outlinewidth\":0,\"ticks\":\"\"},\"colorscale\":[[0.0,\"#0d0887\"],[0.1111111111111111,\"#46039f\"],[0.2222222222222222,\"#7201a8\"],[0.3333333333333333,\"#9c179e\"],[0.4444444444444444,\"#bd3786\"],[0.5555555555555556,\"#d8576b\"],[0.6666666666666666,\"#ed7953\"],[0.7777777777777778,\"#fb9f3a\"],[0.8888888888888888,\"#fdca26\"],[1.0,\"#f0f921\"]]}],\"surface\":[{\"type\":\"surface\",\"colorbar\":{\"outlinewidth\":0,\"ticks\":\"\"},\"colorscale\":[[0.0,\"#0d0887\"],[0.1111111111111111,\"#46039f\"],[0.2222222222222222,\"#7201a8\"],[0.3333333333333333,\"#9c179e\"],[0.4444444444444444,\"#bd3786\"],[0.5555555555555556,\"#d8576b\"],[0.6666666666666666,\"#ed7953\"],[0.7777777777777778,\"#fb9f3a\"],[0.8888888888888888,\"#fdca26\"],[1.0,\"#f0f921\"]]}],\"mesh3d\":[{\"type\":\"mesh3d\",\"colorbar\":{\"outlinewidth\":0,\"ticks\":\"\"}}],\"scatter\":[{\"fillpattern\":{\"fillmode\":\"overlay\",\"size\":10,\"solidity\":0.2},\"type\":\"scatter\"}],\"parcoords\":[{\"type\":\"parcoords\",\"line\":{\"colorbar\":{\"outlinewidth\":0,\"ticks\":\"\"}}}],\"scatterpolargl\":[{\"type\":\"scatterpolargl\",\"marker\":{\"colorbar\":{\"outlinewidth\":0,\"ticks\":\"\"}}}],\"bar\":[{\"error_x\":{\"color\":\"#2a3f5f\"},\"error_y\":{\"color\":\"#2a3f5f\"},\"marker\":{\"line\":{\"color\":\"#E5ECF6\",\"width\":0.5},\"pattern\":{\"fillmode\":\"overlay\",\"size\":10,\"solidity\":0.2}},\"type\":\"bar\"}],\"scattergeo\":[{\"type\":\"scattergeo\",\"marker\":{\"colorbar\":{\"outlinewidth\":0,\"ticks\":\"\"}}}],\"scatterpolar\":[{\"type\":\"scatterpolar\",\"marker\":{\"colorbar\":{\"outlinewidth\":0,\"ticks\":\"\"}}}],\"histogram\":[{\"marker\":{\"pattern\":{\"fillmode\":\"overlay\",\"size\":10,\"solidity\":0.2}},\"type\":\"histogram\"}],\"scattergl\":[{\"type\":\"scattergl\",\"marker\":{\"colorbar\":{\"outlinewidth\":0,\"ticks\":\"\"}}}],\"scatter3d\":[{\"type\":\"scatter3d\",\"line\":{\"colorbar\":{\"outlinewidth\":0,\"ticks\":\"\"}},\"marker\":{\"colorbar\":{\"outlinewidth\":0,\"ticks\":\"\"}}}],\"scattermapbox\":[{\"type\":\"scattermapbox\",\"marker\":{\"colorbar\":{\"outlinewidth\":0,\"ticks\":\"\"}}}],\"scatterternary\":[{\"type\":\"scatterternary\",\"marker\":{\"colorbar\":{\"outlinewidth\":0,\"ticks\":\"\"}}}],\"scattercarpet\":[{\"type\":\"scattercarpet\",\"marker\":{\"colorbar\":{\"outlinewidth\":0,\"ticks\":\"\"}}}],\"carpet\":[{\"aaxis\":{\"endlinecolor\":\"#2a3f5f\",\"gridcolor\":\"white\",\"linecolor\":\"white\",\"minorgridcolor\":\"white\",\"startlinecolor\":\"#2a3f5f\"},\"baxis\":{\"endlinecolor\":\"#2a3f5f\",\"gridcolor\":\"white\",\"linecolor\":\"white\",\"minorgridcolor\":\"white\",\"startlinecolor\":\"#2a3f5f\"},\"type\":\"carpet\"}],\"table\":[{\"cells\":{\"fill\":{\"color\":\"#EBF0F8\"},\"line\":{\"color\":\"white\"}},\"header\":{\"fill\":{\"color\":\"#C8D4E3\"},\"line\":{\"color\":\"white\"}},\"type\":\"table\"}],\"barpolar\":[{\"marker\":{\"line\":{\"color\":\"#E5ECF6\",\"width\":0.5},\"pattern\":{\"fillmode\":\"overlay\",\"size\":10,\"solidity\":0.2}},\"type\":\"barpolar\"}],\"pie\":[{\"automargin\":true,\"type\":\"pie\"}]},\"layout\":{\"autotypenumbers\":\"strict\",\"colorway\":[\"#636efa\",\"#EF553B\",\"#00cc96\",\"#ab63fa\",\"#FFA15A\",\"#19d3f3\",\"#FF6692\",\"#B6E880\",\"#FF97FF\",\"#FECB52\"],\"font\":{\"color\":\"#2a3f5f\"},\"hovermode\":\"closest\",\"hoverlabel\":{\"align\":\"left\"},\"paper_bgcolor\":\"white\",\"plot_bgcolor\":\"#E5ECF6\",\"polar\":{\"bgcolor\":\"#E5ECF6\",\"angularaxis\":{\"gridcolor\":\"white\",\"linecolor\":\"white\",\"ticks\":\"\"},\"radialaxis\":{\"gridcolor\":\"white\",\"linecolor\":\"white\",\"ticks\":\"\"}},\"ternary\":{\"bgcolor\":\"#E5ECF6\",\"aaxis\":{\"gridcolor\":\"white\",\"linecolor\":\"white\",\"ticks\":\"\"},\"baxis\":{\"gridcolor\":\"white\",\"linecolor\":\"white\",\"ticks\":\"\"},\"caxis\":{\"gridcolor\":\"white\",\"linecolor\":\"white\",\"ticks\":\"\"}},\"coloraxis\":{\"colorbar\":{\"outlinewidth\":0,\"ticks\":\"\"}},\"colorscale\":{\"sequential\":[[0.0,\"#0d0887\"],[0.1111111111111111,\"#46039f\"],[0.2222222222222222,\"#7201a8\"],[0.3333333333333333,\"#9c179e\"],[0.4444444444444444,\"#bd3786\"],[0.5555555555555556,\"#d8576b\"],[0.6666666666666666,\"#ed7953\"],[0.7777777777777778,\"#fb9f3a\"],[0.8888888888888888,\"#fdca26\"],[1.0,\"#f0f921\"]],\"sequentialminus\":[[0.0,\"#0d0887\"],[0.1111111111111111,\"#46039f\"],[0.2222222222222222,\"#7201a8\"],[0.3333333333333333,\"#9c179e\"],[0.4444444444444444,\"#bd3786\"],[0.5555555555555556,\"#d8576b\"],[0.6666666666666666,\"#ed7953\"],[0.7777777777777778,\"#fb9f3a\"],[0.8888888888888888,\"#fdca26\"],[1.0,\"#f0f921\"]],\"diverging\":[[0,\"#8e0152\"],[0.1,\"#c51b7d\"],[0.2,\"#de77ae\"],[0.3,\"#f1b6da\"],[0.4,\"#fde0ef\"],[0.5,\"#f7f7f7\"],[0.6,\"#e6f5d0\"],[0.7,\"#b8e186\"],[0.8,\"#7fbc41\"],[0.9,\"#4d9221\"],[1,\"#276419\"]]},\"xaxis\":{\"gridcolor\":\"white\",\"linecolor\":\"white\",\"ticks\":\"\",\"title\":{\"standoff\":15},\"zerolinecolor\":\"white\",\"automargin\":true,\"zerolinewidth\":2},\"yaxis\":{\"gridcolor\":\"white\",\"linecolor\":\"white\",\"ticks\":\"\",\"title\":{\"standoff\":15},\"zerolinecolor\":\"white\",\"automargin\":true,\"zerolinewidth\":2},\"scene\":{\"xaxis\":{\"backgroundcolor\":\"#E5ECF6\",\"gridcolor\":\"white\",\"linecolor\":\"white\",\"showbackground\":true,\"ticks\":\"\",\"zerolinecolor\":\"white\",\"gridwidth\":2},\"yaxis\":{\"backgroundcolor\":\"#E5ECF6\",\"gridcolor\":\"white\",\"linecolor\":\"white\",\"showbackground\":true,\"ticks\":\"\",\"zerolinecolor\":\"white\",\"gridwidth\":2},\"zaxis\":{\"backgroundcolor\":\"#E5ECF6\",\"gridcolor\":\"white\",\"linecolor\":\"white\",\"showbackground\":true,\"ticks\":\"\",\"zerolinecolor\":\"white\",\"gridwidth\":2}},\"shapedefaults\":{\"line\":{\"color\":\"#2a3f5f\"}},\"annotationdefaults\":{\"arrowcolor\":\"#2a3f5f\",\"arrowhead\":0,\"arrowwidth\":1},\"geo\":{\"bgcolor\":\"white\",\"landcolor\":\"#E5ECF6\",\"subunitcolor\":\"white\",\"showland\":true,\"showlakes\":true,\"lakecolor\":\"white\"},\"title\":{\"x\":0.05},\"mapbox\":{\"style\":\"light\"}}},\"xaxis\":{\"anchor\":\"y\",\"domain\":[0.0,1.0],\"title\":{\"text\":\"MK_cross_diff_GTR\"}},\"yaxis\":{\"anchor\":\"x\",\"domain\":[0.0,1.0],\"title\":{\"text\":\"GTR_cross_diff_MK\"}},\"legend\":{\"tracegroupgap\":0},\"margin\":{\"t\":60}},                        {\"responsive\": true}                    ).then(function(){\n",
       "                            \n",
       "var gd = document.getElementById('2693c0ba-e66f-4cb9-a45a-26a7741a9199');\n",
       "var x = new MutationObserver(function (mutations, observer) {{\n",
       "        var display = window.getComputedStyle(gd).display;\n",
       "        if (!display || display === 'none') {{\n",
       "            console.log([gd, 'removed!']);\n",
       "            Plotly.purge(gd);\n",
       "            observer.disconnect();\n",
       "        }}\n",
       "}});\n",
       "\n",
       "// Listen for the removal of the full notebook cells\n",
       "var notebookContainer = gd.closest('#notebook-container');\n",
       "if (notebookContainer) {{\n",
       "    x.observe(notebookContainer, {childList: true});\n",
       "}}\n",
       "\n",
       "// Listen for the clearing of the current output cell\n",
       "var outputEl = gd.closest('.output');\n",
       "if (outputEl) {{\n",
       "    x.observe(outputEl, {childList: true});\n",
       "}}\n",
       "\n",
       "                        })                };                });            </script>        </div>"
      ]
     },
     "metadata": {},
     "output_type": "display_data"
    }
   ],
   "source": [
    "\n",
    "fig = px.scatter(df, x=\"BIN_cross_diff_GTR\", y=\"GTR_cross_diff_BIN\")\n",
    "fig.show()\n",
    "fig = px.scatter(df, x=\"BIN_cross_diff_MK\", y=\"MK_cross_diff_BIN\")\n",
    "fig.show()\n",
    "fig = px.scatter(df, x=\"MK_cross_diff_GTR\", y=\"GTR_cross_diff_MK\")\n",
    "fig.show()"
   ]
  },
  {
   "cell_type": "code",
   "execution_count": 23,
   "id": "2b5a73df",
   "metadata": {},
   "outputs": [
    {
     "data": {
      "application/vnd.plotly.v1+json": {
       "config": {
        "plotlyServerURL": "https://plot.ly"
       },
       "data": [
        {
         "hovertemplate": "BIN_llh_eval=%{x}<br>BIN_cross_lh_GTR=%{y}<extra></extra>",
         "legendgroup": "",
         "marker": {
          "color": "#636efa",
          "symbol": "circle"
         },
         "mode": "markers",
         "name": "",
         "orientation": "v",
         "showlegend": false,
         "type": "scatter",
         "x": [
          -947.375809,
          -4519.094538,
          -2334.870057,
          -6641.128271,
          -208.698761,
          -493.91678,
          -293.601323,
          -1902.787651,
          -3489.096505,
          -2381.080709,
          -3700.956146,
          -5554.245407,
          -374.124191,
          -1031.520202,
          -389.749495,
          -48.404957,
          -3499.860482,
          -149.021723,
          -2531.889862,
          -4944.684976,
          -4495.278548,
          -3571.113945,
          -823.126349,
          -396.716551,
          -351.776177,
          -5502.239882,
          -156.988321,
          -944.277837,
          -1418.788362,
          -215.892717,
          -183.357547,
          -1076.894326,
          -173.014186,
          -342.241932,
          -12011.276602,
          -3006.428577,
          -1845.757348,
          -13802.074581,
          -2982.831999,
          -1472.171957,
          -5476.63624,
          -170.898782,
          -2393.593647,
          -272.539396,
          -316.730291,
          -420.48573,
          -339.3024,
          -3793.640025,
          -2199.11583,
          -221.507698,
          -5161.18632,
          -622.657573,
          -424.870727,
          -1283.454329,
          -3352.950216,
          -5656.8405,
          -1748.122944,
          -570.962725,
          -1855.487816,
          -969.828792,
          -2321.85611,
          -8126.71186,
          -4042.571407,
          -337.199063,
          -4324.056586,
          -2933.636319,
          -1781.028354,
          -1211.250343,
          -1452.885906,
          -561.041956,
          -5805.837877,
          -3987.219587,
          -7227.495451,
          -666.71118,
          -4503.567036,
          -14487.40518,
          -1214.351132,
          -568.408078,
          -2381.080709,
          -4244.803344,
          -2751.280288,
          -126.956679,
          -9745.302335,
          -543.993301,
          -500.582807,
          -5071.116514,
          -18.248438,
          -1270.135034,
          -250.244965,
          -998.965958,
          -3268.09832,
          -10696.691391,
          -416.063386,
          -1215.834349,
          -1399.463931,
          -1241.142125,
          -8486.539606,
          -4943.832116,
          -2835.292181,
          -558.366558,
          -7430.662861,
          -318.488448,
          -72.284219,
          -2063.092612,
          -2698.749315,
          -8164.986809,
          -524.883563,
          -984.905761,
          -628.420782,
          -1132.762947,
          -181.847562,
          -660.042272,
          -4799.363137,
          -3037.373782,
          -11181.102311,
          -3647.942873,
          -1788.290597,
          -3937.248505,
          -10980.956031,
          -2691.64595,
          -306.910162,
          -15999.270584,
          -2459.869628,
          -1532.912452,
          -1966.573294,
          -441.728577,
          -12877.795717,
          -3000.067428,
          -8571.260736,
          -10125.681536,
          -484.084402,
          -613.902074,
          -107.857519,
          -4781.311673,
          -2853.862147,
          -546.815882,
          -3781.489088,
          -19293.543693,
          -654.52457,
          -777.160975,
          -1920.498709,
          -314.72399,
          -975.292341,
          -975.292341,
          -504.908044,
          -7166.630174,
          -1581.086526,
          -297.329838,
          -1155.257422,
          -9229.993565,
          -1256.763914,
          -7710.235812,
          -5305.329433,
          -302.558162,
          -13166.961711,
          -672.241206,
          -8795.40318,
          -11194.248655,
          -500.582807,
          -14544.971174,
          -673.134976,
          -963.814952,
          -320.830227,
          -6388.607568,
          -298.483326,
          -222.186774,
          -218.1094,
          -668.019032,
          -27670.919506,
          -379.162529,
          -3571.902116,
          -3760.002608,
          -2136.366955,
          -468.836107,
          -1274.079389,
          -7531.523299,
          -116.940084,
          -489.991142,
          -1029.516871,
          -328.253332,
          -505.322278,
          -10025.68198,
          -5578.708962,
          -2729.805824,
          -798.870955,
          -2698.749315,
          -1057.291633,
          -7552.045683,
          -791.974516,
          -5394.675427,
          -3462.470756,
          -9122.657606,
          -508.455982,
          -2423.433847,
          -5004.04958,
          -225.954861,
          -13801.817225,
          -331.300847,
          -931.776216,
          -56.05098,
          -8545.123912,
          -64.027505,
          -686.95654,
          -591.755867,
          -793.791773,
          -1580.917331,
          -2938.831218,
          -1801.458094,
          -6246.930704,
          -4401.236774,
          -107.746052,
          -9963.481351,
          -366.916063,
          -446.735582,
          -159.975011,
          -3718.783151,
          -412.80797,
          -3395.25117,
          -548.293562,
          -5656.8405,
          -774.54353,
          -2439.32541,
          -1429.316101,
          -1925.059412,
          -3867.912672,
          -2060.916897,
          -2158.237725,
          -967.552965,
          -9003.723776,
          -1351.425052,
          -1428.64719,
          -1937.299184,
          -3972.197604,
          -172.823098,
          -1794.62706,
          -245.437734,
          -435.304871,
          -204.056735,
          -1124.143156,
          -1115.181024,
          -1238.608865,
          -299.389772,
          -4647.531,
          -6448.789406,
          -7430.662861,
          -1093.866806,
          -1259.136485,
          -774.166564,
          -972.379021,
          -104.400694,
          -434.620569,
          -13787.59605,
          -3173.669572,
          -13545.243125,
          -9506.233205,
          -3954.942724,
          -949.873929,
          -11056.235536,
          -1496.263952,
          -18797.189445,
          -3154.908472,
          -151.122885,
          -234.598585,
          -1076.377043,
          -1378.473113,
          -10860.345204,
          -221.27912,
          -6616.419287,
          -724.149153,
          -967.898448,
          -4633.843916,
          -4571.821595,
          -269.839033,
          -4076.034505,
          -24337.60697,
          -198.216422,
          -419.662656,
          -173.923763,
          -8571.260736,
          -7325.13871,
          -968.122306,
          -4254.165955,
          -810.16684,
          -2083.286109,
          -958.173439,
          -1942.890978,
          -320.400486,
          -454.200131,
          -211.55281,
          -234.823243,
          -80.088998,
          -603.431846,
          -761.275238,
          -4008.95969,
          -3917.188838,
          -1121.743715,
          -2173.897795,
          -232.513372,
          -2701.68187,
          -10874.26082,
          -197.191249,
          -542.071454,
          -380.555692,
          -10297.857568,
          -995.129402,
          -1937.609444,
          -2554.567013,
          -517.656554,
          -6717.826946,
          -5079.11766,
          -578.454618,
          -740.027337,
          -8897.072632,
          -1664.598103,
          -117.749474,
          -3275.628703,
          -1112.532195,
          -7552.045683,
          -4249.985831,
          -7206.093414,
          -8422.923892,
          -1447.628278,
          -962.488167,
          -121.904444,
          -630.344763,
          -451.34302,
          -628.993433,
          -801.869988,
          -2413.388346,
          -4070.146428,
          -1261.662519,
          -1205.475386,
          -5548.838542,
          -3867.168474,
          -2209.462396,
          -9073.546788,
          -2713.704799,
          -3571.113945,
          -1628.277972,
          -1998.737422,
          -7132.702188,
          -6838.946591,
          -9280.669504,
          -3987.218985,
          -132.592417,
          -2232.752593,
          -7951.92568,
          -309.252284,
          -9556.528873,
          -1942.782555,
          -1939.051293,
          -162.690329,
          -386.902202,
          -1031.484347,
          -27840.67529,
          -3979.414353,
          -736.546484,
          -1350.871138,
          -611.095335,
          -16027.06094,
          -3235.077531,
          -304.773225,
          -381.649126,
          -4404.275229,
          -1671.961487,
          -18193.72538,
          -5518.68544,
          -5281.536003,
          -19293.543693,
          -3589.193489,
          -8980.141454,
          -1789.77672
         ],
         "xaxis": "x",
         "y": [
          -1016.283635,
          -4576.037711,
          -2425.390458,
          -6738.474635,
          -210.138764,
          -494.41537,
          -317.952796,
          -1911.369666,
          -3541.826257,
          -2420.341172,
          -3718.478074,
          -5616.037909,
          -382.789679,
          -1037.024669,
          -396.818648,
          -48.523707,
          -3587.007543,
          -149.69518,
          -2613.202483,
          -5011.871591,
          -4522.916175,
          -3585.581502,
          -833.424334,
          -424.79911,
          -364.719256,
          -5577.87092,
          -160.501925,
          -972.878553,
          -1430.158128,
          -218.90656,
          -184.266848,
          -1081.638442,
          -180.129351,
          -359.733577,
          -12108.883068,
          -3013.264404,
          -1865.540116,
          -13909.187376,
          -2989.814459,
          -1490.092949,
          -5503.4282,
          -173.840951,
          -2447.307284,
          -304.172553,
          -323.873269,
          -423.391103,
          -366.048299,
          -3839.478076,
          -2256.760148,
          -221.736012,
          -5260.166817,
          -627.154405,
          -431.449885,
          -1290.097387,
          -3360.238293,
          -5684.691386,
          -1765.562485,
          -571.005749,
          -1867.158312,
          -975.895245,
          -2525.6893,
          -8217.697155,
          -4083.504441,
          -348.381805,
          -4511.95707,
          -2956.983269,
          -1842.773968,
          -1217.215783,
          -1456.899887,
          -617.16778,
          -5850.056948,
          -4030.165355,
          -7302.510166,
          -667.370247,
          -4529.762429,
          -14611.021135,
          -1237.205544,
          -598.439805,
          -2420.341172,
          -4284.086548,
          -2781.590514,
          -128.43198,
          -10025.296046,
          -571.471091,
          -500.717909,
          -5108.20175,
          -86.983092,
          -1274.924236,
          -282.855705,
          -1024.173238,
          -3291.037071,
          -10730.099262,
          -420.459053,
          -1253.392968,
          -1433.290228,
          -1259.691994,
          -8589.152581,
          -5006.112614,
          -2895.424816,
          -565.756804,
          -7588.218704,
          -338.685504,
          -72.55722,
          -2074.547769,
          -2745.358278,
          -8264.716074,
          -538.29213,
          -995.997577,
          -969.735409,
          -1197.952037,
          -188.419076,
          -684.627146,
          -4814.702629,
          -3044.008971,
          -11282.553266,
          -3675.288407,
          -1801.184103,
          -3975.064246,
          -11101.354415,
          -2730.56359,
          -317.693548,
          -16632.969453,
          -2515.892118,
          -1566.830186,
          -1985.587967,
          -444.966012,
          -13091.418665,
          -3006.959447,
          -8825.209741,
          -10296.227235,
          -599.7659,
          -628.064015,
          -107.928162,
          -4791.493927,
          -2892.409369,
          -569.075326,
          -3825.154425,
          -19921.571729,
          -677.972291,
          -791.321084,
          -1931.270429,
          -320.855602,
          -975.916754,
          -975.916754,
          -540.938137,
          -7279.435119,
          -1626.845256,
          -301.983056,
          -1164.76721,
          -9335.227896,
          -1268.874615,
          -7825.729908,
          -5393.659572,
          -311.28663,
          -13254.573264,
          -732.583792,
          -8892.753727,
          -11321.014931,
          -500.717909,
          -14657.552464,
          -683.773716,
          -983.053208,
          -326.96876,
          -6468.799503,
          -299.389549,
          -243.567285,
          -221.055614,
          -723.804195,
          -28721.197204,
          -383.480215,
          -3616.75549,
          -3803.321702,
          -2164.603462,
          -472.606349,
          -1310.142736,
          -7609.109849,
          -118.366483,
          -509.145409,
          -1044.094646,
          -340.622954,
          -512.786494,
          -10133.389889,
          -5599.269716,
          -2821.697753,
          -806.184872,
          -2745.358278,
          -1147.711339,
          -7660.653352,
          -811.600528,
          -5619.201378,
          -3704.360007,
          -9236.569436,
          -509.054392,
          -2489.476416,
          -5031.718893,
          -229.462954,
          -13892.43094,
          -334.174339,
          -986.650171,
          -58.337843,
          -8606.640053,
          -64.662108,
          -719.71209,
          -593.645681,
          -799.57894,
          -1594.318378,
          -2972.559852,
          -1810.288865,
          -6338.817505,
          -4454.93955,
          -110.544882,
          -10061.055097,
          -380.53333,
          -463.434098,
          -161.32025,
          -3743.645055,
          -438.210619,
          -3421.069896,
          -575.822116,
          -5684.691386,
          -850.904886,
          -2476.677926,
          -1472.667538,
          -1935.278114,
          -3877.144836,
          -2108.397801,
          -2202.606469,
          -992.79147,
          -9109.831442,
          -1365.95106,
          -1446.123724,
          -2212.184526,
          -4019.108505,
          -173.247072,
          -1816.170266,
          -255.441746,
          -438.153467,
          -219.125279,
          -1143.424607,
          -1118.758394,
          -1275.465752,
          -330.826435,
          -4792.823013,
          -6552.409085,
          -7588.218704,
          -1094.23882,
          -1292.503476,
          -798.336876,
          -975.467563,
          -105.267909,
          -449.570401,
          -13959.451468,
          -3182.863816,
          -13681.946979,
          -9653.225262,
          -3966.739622,
          -969.11387,
          -11155.408736,
          -1547.361608,
          -19191.146558,
          -3161.362432,
          -153.032915,
          -235.008671,
          -1091.790534,
          -1415.73041,
          -10980.618174,
          -222.864126,
          -6744.232799,
          -733.08159,
          -975.800049,
          -4655.698115,
          -4660.047271,
          -305.442025,
          -4117.897158,
          -24810.1859,
          -201.639138,
          -423.617537,
          -177.411617,
          -8825.209741,
          -7433.283975,
          -997.421292,
          -4317.534481,
          -834.254592,
          -2104.135652,
          -963.92631,
          -2081.029312,
          -333.964172,
          -463.392401,
          -223.066259,
          -236.821903,
          -80.341359,
          -668.615547,
          -761.464623,
          -5320.601008,
          -3948.837623,
          -1128.794778,
          -2181.252961,
          -235.998469,
          -2761.000068,
          -10975.87356,
          -198.102935,
          -557.639961,
          -386.150796,
          -10403.416724,
          -1023.673192,
          -1964.302175,
          -2594.111131,
          -531.756793,
          -6805.080279,
          -5096.83949,
          -611.875393,
          -764.962459,
          -8982.932519,
          -1686.52951,
          -120.441739,
          -3284.625679,
          -1119.396778,
          -7660.653352,
          -4302.507438,
          -7288.076465,
          -8526.782479,
          -1459.240208,
          -1000.481766,
          -122.353904,
          -649.068904,
          -460.961819,
          -694.097389,
          -812.267048,
          -2459.00061,
          -4079.451019,
          -1306.657044,
          -1240.067577,
          -5575.446727,
          -3890.004214,
          -2347.33419,
          -9169.769716,
          -2757.509624,
          -3585.581502,
          -1640.554376,
          -2008.520434,
          -7246.767412,
          -6899.37607,
          -9403.245374,
          -4030.089013,
          -133.842198,
          -2239.723881,
          -8064.192679,
          -316.449505,
          -9700.92878,
          -2078.129045,
          -2079.008619,
          -163.004665,
          -388.3642,
          -1233.314306,
          -28163.759656,
          -4028.109632,
          -737.970032,
          -1368.624754,
          -631.544406,
          -16200.531914,
          -3382.558645,
          -311.621163,
          -412.903395,
          -4438.235121,
          -1740.853072,
          -18298.792227,
          -5545.367546,
          -5302.542266,
          -19922.524124,
          -3592.878096,
          -9118.790244,
          -1891.325898
         ],
         "yaxis": "y"
        }
       ],
       "layout": {
        "legend": {
         "tracegroupgap": 0
        },
        "margin": {
         "t": 60
        },
        "template": {
         "data": {
          "bar": [
           {
            "error_x": {
             "color": "#2a3f5f"
            },
            "error_y": {
             "color": "#2a3f5f"
            },
            "marker": {
             "line": {
              "color": "#E5ECF6",
              "width": 0.5
             },
             "pattern": {
              "fillmode": "overlay",
              "size": 10,
              "solidity": 0.2
             }
            },
            "type": "bar"
           }
          ],
          "barpolar": [
           {
            "marker": {
             "line": {
              "color": "#E5ECF6",
              "width": 0.5
             },
             "pattern": {
              "fillmode": "overlay",
              "size": 10,
              "solidity": 0.2
             }
            },
            "type": "barpolar"
           }
          ],
          "carpet": [
           {
            "aaxis": {
             "endlinecolor": "#2a3f5f",
             "gridcolor": "white",
             "linecolor": "white",
             "minorgridcolor": "white",
             "startlinecolor": "#2a3f5f"
            },
            "baxis": {
             "endlinecolor": "#2a3f5f",
             "gridcolor": "white",
             "linecolor": "white",
             "minorgridcolor": "white",
             "startlinecolor": "#2a3f5f"
            },
            "type": "carpet"
           }
          ],
          "choropleth": [
           {
            "colorbar": {
             "outlinewidth": 0,
             "ticks": ""
            },
            "type": "choropleth"
           }
          ],
          "contour": [
           {
            "colorbar": {
             "outlinewidth": 0,
             "ticks": ""
            },
            "colorscale": [
             [
              0,
              "#0d0887"
             ],
             [
              0.1111111111111111,
              "#46039f"
             ],
             [
              0.2222222222222222,
              "#7201a8"
             ],
             [
              0.3333333333333333,
              "#9c179e"
             ],
             [
              0.4444444444444444,
              "#bd3786"
             ],
             [
              0.5555555555555556,
              "#d8576b"
             ],
             [
              0.6666666666666666,
              "#ed7953"
             ],
             [
              0.7777777777777778,
              "#fb9f3a"
             ],
             [
              0.8888888888888888,
              "#fdca26"
             ],
             [
              1,
              "#f0f921"
             ]
            ],
            "type": "contour"
           }
          ],
          "contourcarpet": [
           {
            "colorbar": {
             "outlinewidth": 0,
             "ticks": ""
            },
            "type": "contourcarpet"
           }
          ],
          "heatmap": [
           {
            "colorbar": {
             "outlinewidth": 0,
             "ticks": ""
            },
            "colorscale": [
             [
              0,
              "#0d0887"
             ],
             [
              0.1111111111111111,
              "#46039f"
             ],
             [
              0.2222222222222222,
              "#7201a8"
             ],
             [
              0.3333333333333333,
              "#9c179e"
             ],
             [
              0.4444444444444444,
              "#bd3786"
             ],
             [
              0.5555555555555556,
              "#d8576b"
             ],
             [
              0.6666666666666666,
              "#ed7953"
             ],
             [
              0.7777777777777778,
              "#fb9f3a"
             ],
             [
              0.8888888888888888,
              "#fdca26"
             ],
             [
              1,
              "#f0f921"
             ]
            ],
            "type": "heatmap"
           }
          ],
          "heatmapgl": [
           {
            "colorbar": {
             "outlinewidth": 0,
             "ticks": ""
            },
            "colorscale": [
             [
              0,
              "#0d0887"
             ],
             [
              0.1111111111111111,
              "#46039f"
             ],
             [
              0.2222222222222222,
              "#7201a8"
             ],
             [
              0.3333333333333333,
              "#9c179e"
             ],
             [
              0.4444444444444444,
              "#bd3786"
             ],
             [
              0.5555555555555556,
              "#d8576b"
             ],
             [
              0.6666666666666666,
              "#ed7953"
             ],
             [
              0.7777777777777778,
              "#fb9f3a"
             ],
             [
              0.8888888888888888,
              "#fdca26"
             ],
             [
              1,
              "#f0f921"
             ]
            ],
            "type": "heatmapgl"
           }
          ],
          "histogram": [
           {
            "marker": {
             "pattern": {
              "fillmode": "overlay",
              "size": 10,
              "solidity": 0.2
             }
            },
            "type": "histogram"
           }
          ],
          "histogram2d": [
           {
            "colorbar": {
             "outlinewidth": 0,
             "ticks": ""
            },
            "colorscale": [
             [
              0,
              "#0d0887"
             ],
             [
              0.1111111111111111,
              "#46039f"
             ],
             [
              0.2222222222222222,
              "#7201a8"
             ],
             [
              0.3333333333333333,
              "#9c179e"
             ],
             [
              0.4444444444444444,
              "#bd3786"
             ],
             [
              0.5555555555555556,
              "#d8576b"
             ],
             [
              0.6666666666666666,
              "#ed7953"
             ],
             [
              0.7777777777777778,
              "#fb9f3a"
             ],
             [
              0.8888888888888888,
              "#fdca26"
             ],
             [
              1,
              "#f0f921"
             ]
            ],
            "type": "histogram2d"
           }
          ],
          "histogram2dcontour": [
           {
            "colorbar": {
             "outlinewidth": 0,
             "ticks": ""
            },
            "colorscale": [
             [
              0,
              "#0d0887"
             ],
             [
              0.1111111111111111,
              "#46039f"
             ],
             [
              0.2222222222222222,
              "#7201a8"
             ],
             [
              0.3333333333333333,
              "#9c179e"
             ],
             [
              0.4444444444444444,
              "#bd3786"
             ],
             [
              0.5555555555555556,
              "#d8576b"
             ],
             [
              0.6666666666666666,
              "#ed7953"
             ],
             [
              0.7777777777777778,
              "#fb9f3a"
             ],
             [
              0.8888888888888888,
              "#fdca26"
             ],
             [
              1,
              "#f0f921"
             ]
            ],
            "type": "histogram2dcontour"
           }
          ],
          "mesh3d": [
           {
            "colorbar": {
             "outlinewidth": 0,
             "ticks": ""
            },
            "type": "mesh3d"
           }
          ],
          "parcoords": [
           {
            "line": {
             "colorbar": {
              "outlinewidth": 0,
              "ticks": ""
             }
            },
            "type": "parcoords"
           }
          ],
          "pie": [
           {
            "automargin": true,
            "type": "pie"
           }
          ],
          "scatter": [
           {
            "fillpattern": {
             "fillmode": "overlay",
             "size": 10,
             "solidity": 0.2
            },
            "type": "scatter"
           }
          ],
          "scatter3d": [
           {
            "line": {
             "colorbar": {
              "outlinewidth": 0,
              "ticks": ""
             }
            },
            "marker": {
             "colorbar": {
              "outlinewidth": 0,
              "ticks": ""
             }
            },
            "type": "scatter3d"
           }
          ],
          "scattercarpet": [
           {
            "marker": {
             "colorbar": {
              "outlinewidth": 0,
              "ticks": ""
             }
            },
            "type": "scattercarpet"
           }
          ],
          "scattergeo": [
           {
            "marker": {
             "colorbar": {
              "outlinewidth": 0,
              "ticks": ""
             }
            },
            "type": "scattergeo"
           }
          ],
          "scattergl": [
           {
            "marker": {
             "colorbar": {
              "outlinewidth": 0,
              "ticks": ""
             }
            },
            "type": "scattergl"
           }
          ],
          "scattermapbox": [
           {
            "marker": {
             "colorbar": {
              "outlinewidth": 0,
              "ticks": ""
             }
            },
            "type": "scattermapbox"
           }
          ],
          "scatterpolar": [
           {
            "marker": {
             "colorbar": {
              "outlinewidth": 0,
              "ticks": ""
             }
            },
            "type": "scatterpolar"
           }
          ],
          "scatterpolargl": [
           {
            "marker": {
             "colorbar": {
              "outlinewidth": 0,
              "ticks": ""
             }
            },
            "type": "scatterpolargl"
           }
          ],
          "scatterternary": [
           {
            "marker": {
             "colorbar": {
              "outlinewidth": 0,
              "ticks": ""
             }
            },
            "type": "scatterternary"
           }
          ],
          "surface": [
           {
            "colorbar": {
             "outlinewidth": 0,
             "ticks": ""
            },
            "colorscale": [
             [
              0,
              "#0d0887"
             ],
             [
              0.1111111111111111,
              "#46039f"
             ],
             [
              0.2222222222222222,
              "#7201a8"
             ],
             [
              0.3333333333333333,
              "#9c179e"
             ],
             [
              0.4444444444444444,
              "#bd3786"
             ],
             [
              0.5555555555555556,
              "#d8576b"
             ],
             [
              0.6666666666666666,
              "#ed7953"
             ],
             [
              0.7777777777777778,
              "#fb9f3a"
             ],
             [
              0.8888888888888888,
              "#fdca26"
             ],
             [
              1,
              "#f0f921"
             ]
            ],
            "type": "surface"
           }
          ],
          "table": [
           {
            "cells": {
             "fill": {
              "color": "#EBF0F8"
             },
             "line": {
              "color": "white"
             }
            },
            "header": {
             "fill": {
              "color": "#C8D4E3"
             },
             "line": {
              "color": "white"
             }
            },
            "type": "table"
           }
          ]
         },
         "layout": {
          "annotationdefaults": {
           "arrowcolor": "#2a3f5f",
           "arrowhead": 0,
           "arrowwidth": 1
          },
          "autotypenumbers": "strict",
          "coloraxis": {
           "colorbar": {
            "outlinewidth": 0,
            "ticks": ""
           }
          },
          "colorscale": {
           "diverging": [
            [
             0,
             "#8e0152"
            ],
            [
             0.1,
             "#c51b7d"
            ],
            [
             0.2,
             "#de77ae"
            ],
            [
             0.3,
             "#f1b6da"
            ],
            [
             0.4,
             "#fde0ef"
            ],
            [
             0.5,
             "#f7f7f7"
            ],
            [
             0.6,
             "#e6f5d0"
            ],
            [
             0.7,
             "#b8e186"
            ],
            [
             0.8,
             "#7fbc41"
            ],
            [
             0.9,
             "#4d9221"
            ],
            [
             1,
             "#276419"
            ]
           ],
           "sequential": [
            [
             0,
             "#0d0887"
            ],
            [
             0.1111111111111111,
             "#46039f"
            ],
            [
             0.2222222222222222,
             "#7201a8"
            ],
            [
             0.3333333333333333,
             "#9c179e"
            ],
            [
             0.4444444444444444,
             "#bd3786"
            ],
            [
             0.5555555555555556,
             "#d8576b"
            ],
            [
             0.6666666666666666,
             "#ed7953"
            ],
            [
             0.7777777777777778,
             "#fb9f3a"
            ],
            [
             0.8888888888888888,
             "#fdca26"
            ],
            [
             1,
             "#f0f921"
            ]
           ],
           "sequentialminus": [
            [
             0,
             "#0d0887"
            ],
            [
             0.1111111111111111,
             "#46039f"
            ],
            [
             0.2222222222222222,
             "#7201a8"
            ],
            [
             0.3333333333333333,
             "#9c179e"
            ],
            [
             0.4444444444444444,
             "#bd3786"
            ],
            [
             0.5555555555555556,
             "#d8576b"
            ],
            [
             0.6666666666666666,
             "#ed7953"
            ],
            [
             0.7777777777777778,
             "#fb9f3a"
            ],
            [
             0.8888888888888888,
             "#fdca26"
            ],
            [
             1,
             "#f0f921"
            ]
           ]
          },
          "colorway": [
           "#636efa",
           "#EF553B",
           "#00cc96",
           "#ab63fa",
           "#FFA15A",
           "#19d3f3",
           "#FF6692",
           "#B6E880",
           "#FF97FF",
           "#FECB52"
          ],
          "font": {
           "color": "#2a3f5f"
          },
          "geo": {
           "bgcolor": "white",
           "lakecolor": "white",
           "landcolor": "#E5ECF6",
           "showlakes": true,
           "showland": true,
           "subunitcolor": "white"
          },
          "hoverlabel": {
           "align": "left"
          },
          "hovermode": "closest",
          "mapbox": {
           "style": "light"
          },
          "paper_bgcolor": "white",
          "plot_bgcolor": "#E5ECF6",
          "polar": {
           "angularaxis": {
            "gridcolor": "white",
            "linecolor": "white",
            "ticks": ""
           },
           "bgcolor": "#E5ECF6",
           "radialaxis": {
            "gridcolor": "white",
            "linecolor": "white",
            "ticks": ""
           }
          },
          "scene": {
           "xaxis": {
            "backgroundcolor": "#E5ECF6",
            "gridcolor": "white",
            "gridwidth": 2,
            "linecolor": "white",
            "showbackground": true,
            "ticks": "",
            "zerolinecolor": "white"
           },
           "yaxis": {
            "backgroundcolor": "#E5ECF6",
            "gridcolor": "white",
            "gridwidth": 2,
            "linecolor": "white",
            "showbackground": true,
            "ticks": "",
            "zerolinecolor": "white"
           },
           "zaxis": {
            "backgroundcolor": "#E5ECF6",
            "gridcolor": "white",
            "gridwidth": 2,
            "linecolor": "white",
            "showbackground": true,
            "ticks": "",
            "zerolinecolor": "white"
           }
          },
          "shapedefaults": {
           "line": {
            "color": "#2a3f5f"
           }
          },
          "ternary": {
           "aaxis": {
            "gridcolor": "white",
            "linecolor": "white",
            "ticks": ""
           },
           "baxis": {
            "gridcolor": "white",
            "linecolor": "white",
            "ticks": ""
           },
           "bgcolor": "#E5ECF6",
           "caxis": {
            "gridcolor": "white",
            "linecolor": "white",
            "ticks": ""
           }
          },
          "title": {
           "x": 0.05
          },
          "xaxis": {
           "automargin": true,
           "gridcolor": "white",
           "linecolor": "white",
           "ticks": "",
           "title": {
            "standoff": 15
           },
           "zerolinecolor": "white",
           "zerolinewidth": 2
          },
          "yaxis": {
           "automargin": true,
           "gridcolor": "white",
           "linecolor": "white",
           "ticks": "",
           "title": {
            "standoff": 15
           },
           "zerolinecolor": "white",
           "zerolinewidth": 2
          }
         }
        },
        "xaxis": {
         "anchor": "y",
         "domain": [
          0,
          1
         ],
         "title": {
          "text": "BIN_llh_eval"
         }
        },
        "yaxis": {
         "anchor": "x",
         "domain": [
          0,
          1
         ],
         "title": {
          "text": "BIN_cross_lh_GTR"
         }
        }
       }
      },
      "text/html": [
       "<div>                            <div id=\"e2f383ce-7cd2-40fb-ae9f-3383551b0436\" class=\"plotly-graph-div\" style=\"height:525px; width:100%;\"></div>            <script type=\"text/javascript\">                require([\"plotly\"], function(Plotly) {                    window.PLOTLYENV=window.PLOTLYENV || {};                                    if (document.getElementById(\"e2f383ce-7cd2-40fb-ae9f-3383551b0436\")) {                    Plotly.newPlot(                        \"e2f383ce-7cd2-40fb-ae9f-3383551b0436\",                        [{\"hovertemplate\":\"BIN_llh_eval=%{x}<br>BIN_cross_lh_GTR=%{y}<extra></extra>\",\"legendgroup\":\"\",\"marker\":{\"color\":\"#636efa\",\"symbol\":\"circle\"},\"mode\":\"markers\",\"name\":\"\",\"orientation\":\"v\",\"showlegend\":false,\"x\":[-947.375809,-4519.094538,-2334.870057,-6641.128271,-208.698761,-493.91678,-293.601323,-1902.787651,-3489.096505,-2381.080709,-3700.956146,-5554.245407,-374.124191,-1031.520202,-389.749495,-48.404957,-3499.860482,-149.021723,-2531.889862,-4944.684976,-4495.278548,-3571.113945,-823.126349,-396.716551,-351.776177,-5502.239882,-156.988321,-944.277837,-1418.788362,-215.892717,-183.357547,-1076.894326,-173.014186,-342.241932,-12011.276602,-3006.428577,-1845.757348,-13802.074581,-2982.831999,-1472.171957,-5476.63624,-170.898782,-2393.593647,-272.539396,-316.730291,-420.48573,-339.3024,-3793.640025,-2199.11583,-221.507698,-5161.18632,-622.657573,-424.870727,-1283.454329,-3352.950216,-5656.8405,-1748.122944,-570.962725,-1855.487816,-969.828792,-2321.85611,-8126.71186,-4042.571407,-337.199063,-4324.056586,-2933.636319,-1781.028354,-1211.250343,-1452.885906,-561.041956,-5805.837877,-3987.219587,-7227.495451,-666.71118,-4503.567036,-14487.40518,-1214.351132,-568.408078,-2381.080709,-4244.803344,-2751.280288,-126.956679,-9745.302335,-543.993301,-500.582807,-5071.116514,-18.248438,-1270.135034,-250.244965,-998.965958,-3268.09832,-10696.691391,-416.063386,-1215.834349,-1399.463931,-1241.142125,-8486.539606,-4943.832116,-2835.292181,-558.366558,-7430.662861,-318.488448,-72.284219,-2063.092612,-2698.749315,-8164.986809,-524.883563,-984.905761,-628.420782,-1132.762947,-181.847562,-660.042272,-4799.363137,-3037.373782,-11181.102311,-3647.942873,-1788.290597,-3937.248505,-10980.956031,-2691.64595,-306.910162,-15999.270584,-2459.869628,-1532.912452,-1966.573294,-441.728577,-12877.795717,-3000.067428,-8571.260736,-10125.681536,-484.084402,-613.902074,-107.857519,-4781.311673,-2853.862147,-546.815882,-3781.489088,-19293.543693,-654.52457,-777.160975,-1920.498709,-314.72399,-975.292341,-975.292341,-504.908044,-7166.630174,-1581.086526,-297.329838,-1155.257422,-9229.993565,-1256.763914,-7710.235812,-5305.329433,-302.558162,-13166.961711,-672.241206,-8795.40318,-11194.248655,-500.582807,-14544.971174,-673.134976,-963.814952,-320.830227,-6388.607568,-298.483326,-222.186774,-218.1094,-668.019032,-27670.919506,-379.162529,-3571.902116,-3760.002608,-2136.366955,-468.836107,-1274.079389,-7531.523299,-116.940084,-489.991142,-1029.516871,-328.253332,-505.322278,-10025.68198,-5578.708962,-2729.805824,-798.870955,-2698.749315,-1057.291633,-7552.045683,-791.974516,-5394.675427,-3462.470756,-9122.657606,-508.455982,-2423.433847,-5004.04958,-225.954861,-13801.817225,-331.300847,-931.776216,-56.05098,-8545.123912,-64.027505,-686.95654,-591.755867,-793.791773,-1580.917331,-2938.831218,-1801.458094,-6246.930704,-4401.236774,-107.746052,-9963.481351,-366.916063,-446.735582,-159.975011,-3718.783151,-412.80797,-3395.25117,-548.293562,-5656.8405,-774.54353,-2439.32541,-1429.316101,-1925.059412,-3867.912672,-2060.916897,-2158.237725,-967.552965,-9003.723776,-1351.425052,-1428.64719,-1937.299184,-3972.197604,-172.823098,-1794.62706,-245.437734,-435.304871,-204.056735,-1124.143156,-1115.181024,-1238.608865,-299.389772,-4647.531,-6448.789406,-7430.662861,-1093.866806,-1259.136485,-774.166564,-972.379021,-104.400694,-434.620569,-13787.59605,-3173.669572,-13545.243125,-9506.233205,-3954.942724,-949.873929,-11056.235536,-1496.263952,-18797.189445,-3154.908472,-151.122885,-234.598585,-1076.377043,-1378.473113,-10860.345204,-221.27912,-6616.419287,-724.149153,-967.898448,-4633.843916,-4571.821595,-269.839033,-4076.034505,-24337.60697,-198.216422,-419.662656,-173.923763,-8571.260736,-7325.13871,-968.122306,-4254.165955,-810.16684,-2083.286109,-958.173439,-1942.890978,-320.400486,-454.200131,-211.55281,-234.823243,-80.088998,-603.431846,-761.275238,-4008.95969,-3917.188838,-1121.743715,-2173.897795,-232.513372,-2701.68187,-10874.26082,-197.191249,-542.071454,-380.555692,-10297.857568,-995.129402,-1937.609444,-2554.567013,-517.656554,-6717.826946,-5079.11766,-578.454618,-740.027337,-8897.072632,-1664.598103,-117.749474,-3275.628703,-1112.532195,-7552.045683,-4249.985831,-7206.093414,-8422.923892,-1447.628278,-962.488167,-121.904444,-630.344763,-451.34302,-628.993433,-801.869988,-2413.388346,-4070.146428,-1261.662519,-1205.475386,-5548.838542,-3867.168474,-2209.462396,-9073.546788,-2713.704799,-3571.113945,-1628.277972,-1998.737422,-7132.702188,-6838.946591,-9280.669504,-3987.218985,-132.592417,-2232.752593,-7951.92568,-309.252284,-9556.528873,-1942.782555,-1939.051293,-162.690329,-386.902202,-1031.484347,-27840.67529,-3979.414353,-736.546484,-1350.871138,-611.095335,-16027.06094,-3235.077531,-304.773225,-381.649126,-4404.275229,-1671.961487,-18193.72538,-5518.68544,-5281.536003,-19293.543693,-3589.193489,-8980.141454,-1789.77672],\"xaxis\":\"x\",\"y\":[-1016.283635,-4576.037711,-2425.390458,-6738.474635,-210.138764,-494.41537,-317.952796,-1911.369666,-3541.826257,-2420.341172,-3718.478074,-5616.037909,-382.789679,-1037.024669,-396.818648,-48.523707,-3587.007543,-149.69518,-2613.202483,-5011.871591,-4522.916175,-3585.581502,-833.424334,-424.79911,-364.719256,-5577.87092,-160.501925,-972.878553,-1430.158128,-218.90656,-184.266848,-1081.638442,-180.129351,-359.733577,-12108.883068,-3013.264404,-1865.540116,-13909.187376,-2989.814459,-1490.092949,-5503.4282,-173.840951,-2447.307284,-304.172553,-323.873269,-423.391103,-366.048299,-3839.478076,-2256.760148,-221.736012,-5260.166817,-627.154405,-431.449885,-1290.097387,-3360.238293,-5684.691386,-1765.562485,-571.005749,-1867.158312,-975.895245,-2525.6893,-8217.697155,-4083.504441,-348.381805,-4511.95707,-2956.983269,-1842.773968,-1217.215783,-1456.899887,-617.16778,-5850.056948,-4030.165355,-7302.510166,-667.370247,-4529.762429,-14611.021135,-1237.205544,-598.439805,-2420.341172,-4284.086548,-2781.590514,-128.43198,-10025.296046,-571.471091,-500.717909,-5108.20175,-86.983092,-1274.924236,-282.855705,-1024.173238,-3291.037071,-10730.099262,-420.459053,-1253.392968,-1433.290228,-1259.691994,-8589.152581,-5006.112614,-2895.424816,-565.756804,-7588.218704,-338.685504,-72.55722,-2074.547769,-2745.358278,-8264.716074,-538.29213,-995.997577,-969.735409,-1197.952037,-188.419076,-684.627146,-4814.702629,-3044.008971,-11282.553266,-3675.288407,-1801.184103,-3975.064246,-11101.354415,-2730.56359,-317.693548,-16632.969453,-2515.892118,-1566.830186,-1985.587967,-444.966012,-13091.418665,-3006.959447,-8825.209741,-10296.227235,-599.7659,-628.064015,-107.928162,-4791.493927,-2892.409369,-569.075326,-3825.154425,-19921.571729,-677.972291,-791.321084,-1931.270429,-320.855602,-975.916754,-975.916754,-540.938137,-7279.435119,-1626.845256,-301.983056,-1164.76721,-9335.227896,-1268.874615,-7825.729908,-5393.659572,-311.28663,-13254.573264,-732.583792,-8892.753727,-11321.014931,-500.717909,-14657.552464,-683.773716,-983.053208,-326.96876,-6468.799503,-299.389549,-243.567285,-221.055614,-723.804195,-28721.197204,-383.480215,-3616.75549,-3803.321702,-2164.603462,-472.606349,-1310.142736,-7609.109849,-118.366483,-509.145409,-1044.094646,-340.622954,-512.786494,-10133.389889,-5599.269716,-2821.697753,-806.184872,-2745.358278,-1147.711339,-7660.653352,-811.600528,-5619.201378,-3704.360007,-9236.569436,-509.054392,-2489.476416,-5031.718893,-229.462954,-13892.43094,-334.174339,-986.650171,-58.337843,-8606.640053,-64.662108,-719.71209,-593.645681,-799.57894,-1594.318378,-2972.559852,-1810.288865,-6338.817505,-4454.93955,-110.544882,-10061.055097,-380.53333,-463.434098,-161.32025,-3743.645055,-438.210619,-3421.069896,-575.822116,-5684.691386,-850.904886,-2476.677926,-1472.667538,-1935.278114,-3877.144836,-2108.397801,-2202.606469,-992.79147,-9109.831442,-1365.95106,-1446.123724,-2212.184526,-4019.108505,-173.247072,-1816.170266,-255.441746,-438.153467,-219.125279,-1143.424607,-1118.758394,-1275.465752,-330.826435,-4792.823013,-6552.409085,-7588.218704,-1094.23882,-1292.503476,-798.336876,-975.467563,-105.267909,-449.570401,-13959.451468,-3182.863816,-13681.946979,-9653.225262,-3966.739622,-969.11387,-11155.408736,-1547.361608,-19191.146558,-3161.362432,-153.032915,-235.008671,-1091.790534,-1415.73041,-10980.618174,-222.864126,-6744.232799,-733.08159,-975.800049,-4655.698115,-4660.047271,-305.442025,-4117.897158,-24810.1859,-201.639138,-423.617537,-177.411617,-8825.209741,-7433.283975,-997.421292,-4317.534481,-834.254592,-2104.135652,-963.92631,-2081.029312,-333.964172,-463.392401,-223.066259,-236.821903,-80.341359,-668.615547,-761.464623,-5320.601008,-3948.837623,-1128.794778,-2181.252961,-235.998469,-2761.000068,-10975.87356,-198.102935,-557.639961,-386.150796,-10403.416724,-1023.673192,-1964.302175,-2594.111131,-531.756793,-6805.080279,-5096.83949,-611.875393,-764.962459,-8982.932519,-1686.52951,-120.441739,-3284.625679,-1119.396778,-7660.653352,-4302.507438,-7288.076465,-8526.782479,-1459.240208,-1000.481766,-122.353904,-649.068904,-460.961819,-694.097389,-812.267048,-2459.00061,-4079.451019,-1306.657044,-1240.067577,-5575.446727,-3890.004214,-2347.33419,-9169.769716,-2757.509624,-3585.581502,-1640.554376,-2008.520434,-7246.767412,-6899.37607,-9403.245374,-4030.089013,-133.842198,-2239.723881,-8064.192679,-316.449505,-9700.92878,-2078.129045,-2079.008619,-163.004665,-388.3642,-1233.314306,-28163.759656,-4028.109632,-737.970032,-1368.624754,-631.544406,-16200.531914,-3382.558645,-311.621163,-412.903395,-4438.235121,-1740.853072,-18298.792227,-5545.367546,-5302.542266,-19922.524124,-3592.878096,-9118.790244,-1891.325898],\"yaxis\":\"y\",\"type\":\"scatter\"}],                        {\"template\":{\"data\":{\"histogram2dcontour\":[{\"type\":\"histogram2dcontour\",\"colorbar\":{\"outlinewidth\":0,\"ticks\":\"\"},\"colorscale\":[[0.0,\"#0d0887\"],[0.1111111111111111,\"#46039f\"],[0.2222222222222222,\"#7201a8\"],[0.3333333333333333,\"#9c179e\"],[0.4444444444444444,\"#bd3786\"],[0.5555555555555556,\"#d8576b\"],[0.6666666666666666,\"#ed7953\"],[0.7777777777777778,\"#fb9f3a\"],[0.8888888888888888,\"#fdca26\"],[1.0,\"#f0f921\"]]}],\"choropleth\":[{\"type\":\"choropleth\",\"colorbar\":{\"outlinewidth\":0,\"ticks\":\"\"}}],\"histogram2d\":[{\"type\":\"histogram2d\",\"colorbar\":{\"outlinewidth\":0,\"ticks\":\"\"},\"colorscale\":[[0.0,\"#0d0887\"],[0.1111111111111111,\"#46039f\"],[0.2222222222222222,\"#7201a8\"],[0.3333333333333333,\"#9c179e\"],[0.4444444444444444,\"#bd3786\"],[0.5555555555555556,\"#d8576b\"],[0.6666666666666666,\"#ed7953\"],[0.7777777777777778,\"#fb9f3a\"],[0.8888888888888888,\"#fdca26\"],[1.0,\"#f0f921\"]]}],\"heatmap\":[{\"type\":\"heatmap\",\"colorbar\":{\"outlinewidth\":0,\"ticks\":\"\"},\"colorscale\":[[0.0,\"#0d0887\"],[0.1111111111111111,\"#46039f\"],[0.2222222222222222,\"#7201a8\"],[0.3333333333333333,\"#9c179e\"],[0.4444444444444444,\"#bd3786\"],[0.5555555555555556,\"#d8576b\"],[0.6666666666666666,\"#ed7953\"],[0.7777777777777778,\"#fb9f3a\"],[0.8888888888888888,\"#fdca26\"],[1.0,\"#f0f921\"]]}],\"heatmapgl\":[{\"type\":\"heatmapgl\",\"colorbar\":{\"outlinewidth\":0,\"ticks\":\"\"},\"colorscale\":[[0.0,\"#0d0887\"],[0.1111111111111111,\"#46039f\"],[0.2222222222222222,\"#7201a8\"],[0.3333333333333333,\"#9c179e\"],[0.4444444444444444,\"#bd3786\"],[0.5555555555555556,\"#d8576b\"],[0.6666666666666666,\"#ed7953\"],[0.7777777777777778,\"#fb9f3a\"],[0.8888888888888888,\"#fdca26\"],[1.0,\"#f0f921\"]]}],\"contourcarpet\":[{\"type\":\"contourcarpet\",\"colorbar\":{\"outlinewidth\":0,\"ticks\":\"\"}}],\"contour\":[{\"type\":\"contour\",\"colorbar\":{\"outlinewidth\":0,\"ticks\":\"\"},\"colorscale\":[[0.0,\"#0d0887\"],[0.1111111111111111,\"#46039f\"],[0.2222222222222222,\"#7201a8\"],[0.3333333333333333,\"#9c179e\"],[0.4444444444444444,\"#bd3786\"],[0.5555555555555556,\"#d8576b\"],[0.6666666666666666,\"#ed7953\"],[0.7777777777777778,\"#fb9f3a\"],[0.8888888888888888,\"#fdca26\"],[1.0,\"#f0f921\"]]}],\"surface\":[{\"type\":\"surface\",\"colorbar\":{\"outlinewidth\":0,\"ticks\":\"\"},\"colorscale\":[[0.0,\"#0d0887\"],[0.1111111111111111,\"#46039f\"],[0.2222222222222222,\"#7201a8\"],[0.3333333333333333,\"#9c179e\"],[0.4444444444444444,\"#bd3786\"],[0.5555555555555556,\"#d8576b\"],[0.6666666666666666,\"#ed7953\"],[0.7777777777777778,\"#fb9f3a\"],[0.8888888888888888,\"#fdca26\"],[1.0,\"#f0f921\"]]}],\"mesh3d\":[{\"type\":\"mesh3d\",\"colorbar\":{\"outlinewidth\":0,\"ticks\":\"\"}}],\"scatter\":[{\"fillpattern\":{\"fillmode\":\"overlay\",\"size\":10,\"solidity\":0.2},\"type\":\"scatter\"}],\"parcoords\":[{\"type\":\"parcoords\",\"line\":{\"colorbar\":{\"outlinewidth\":0,\"ticks\":\"\"}}}],\"scatterpolargl\":[{\"type\":\"scatterpolargl\",\"marker\":{\"colorbar\":{\"outlinewidth\":0,\"ticks\":\"\"}}}],\"bar\":[{\"error_x\":{\"color\":\"#2a3f5f\"},\"error_y\":{\"color\":\"#2a3f5f\"},\"marker\":{\"line\":{\"color\":\"#E5ECF6\",\"width\":0.5},\"pattern\":{\"fillmode\":\"overlay\",\"size\":10,\"solidity\":0.2}},\"type\":\"bar\"}],\"scattergeo\":[{\"type\":\"scattergeo\",\"marker\":{\"colorbar\":{\"outlinewidth\":0,\"ticks\":\"\"}}}],\"scatterpolar\":[{\"type\":\"scatterpolar\",\"marker\":{\"colorbar\":{\"outlinewidth\":0,\"ticks\":\"\"}}}],\"histogram\":[{\"marker\":{\"pattern\":{\"fillmode\":\"overlay\",\"size\":10,\"solidity\":0.2}},\"type\":\"histogram\"}],\"scattergl\":[{\"type\":\"scattergl\",\"marker\":{\"colorbar\":{\"outlinewidth\":0,\"ticks\":\"\"}}}],\"scatter3d\":[{\"type\":\"scatter3d\",\"line\":{\"colorbar\":{\"outlinewidth\":0,\"ticks\":\"\"}},\"marker\":{\"colorbar\":{\"outlinewidth\":0,\"ticks\":\"\"}}}],\"scattermapbox\":[{\"type\":\"scattermapbox\",\"marker\":{\"colorbar\":{\"outlinewidth\":0,\"ticks\":\"\"}}}],\"scatterternary\":[{\"type\":\"scatterternary\",\"marker\":{\"colorbar\":{\"outlinewidth\":0,\"ticks\":\"\"}}}],\"scattercarpet\":[{\"type\":\"scattercarpet\",\"marker\":{\"colorbar\":{\"outlinewidth\":0,\"ticks\":\"\"}}}],\"carpet\":[{\"aaxis\":{\"endlinecolor\":\"#2a3f5f\",\"gridcolor\":\"white\",\"linecolor\":\"white\",\"minorgridcolor\":\"white\",\"startlinecolor\":\"#2a3f5f\"},\"baxis\":{\"endlinecolor\":\"#2a3f5f\",\"gridcolor\":\"white\",\"linecolor\":\"white\",\"minorgridcolor\":\"white\",\"startlinecolor\":\"#2a3f5f\"},\"type\":\"carpet\"}],\"table\":[{\"cells\":{\"fill\":{\"color\":\"#EBF0F8\"},\"line\":{\"color\":\"white\"}},\"header\":{\"fill\":{\"color\":\"#C8D4E3\"},\"line\":{\"color\":\"white\"}},\"type\":\"table\"}],\"barpolar\":[{\"marker\":{\"line\":{\"color\":\"#E5ECF6\",\"width\":0.5},\"pattern\":{\"fillmode\":\"overlay\",\"size\":10,\"solidity\":0.2}},\"type\":\"barpolar\"}],\"pie\":[{\"automargin\":true,\"type\":\"pie\"}]},\"layout\":{\"autotypenumbers\":\"strict\",\"colorway\":[\"#636efa\",\"#EF553B\",\"#00cc96\",\"#ab63fa\",\"#FFA15A\",\"#19d3f3\",\"#FF6692\",\"#B6E880\",\"#FF97FF\",\"#FECB52\"],\"font\":{\"color\":\"#2a3f5f\"},\"hovermode\":\"closest\",\"hoverlabel\":{\"align\":\"left\"},\"paper_bgcolor\":\"white\",\"plot_bgcolor\":\"#E5ECF6\",\"polar\":{\"bgcolor\":\"#E5ECF6\",\"angularaxis\":{\"gridcolor\":\"white\",\"linecolor\":\"white\",\"ticks\":\"\"},\"radialaxis\":{\"gridcolor\":\"white\",\"linecolor\":\"white\",\"ticks\":\"\"}},\"ternary\":{\"bgcolor\":\"#E5ECF6\",\"aaxis\":{\"gridcolor\":\"white\",\"linecolor\":\"white\",\"ticks\":\"\"},\"baxis\":{\"gridcolor\":\"white\",\"linecolor\":\"white\",\"ticks\":\"\"},\"caxis\":{\"gridcolor\":\"white\",\"linecolor\":\"white\",\"ticks\":\"\"}},\"coloraxis\":{\"colorbar\":{\"outlinewidth\":0,\"ticks\":\"\"}},\"colorscale\":{\"sequential\":[[0.0,\"#0d0887\"],[0.1111111111111111,\"#46039f\"],[0.2222222222222222,\"#7201a8\"],[0.3333333333333333,\"#9c179e\"],[0.4444444444444444,\"#bd3786\"],[0.5555555555555556,\"#d8576b\"],[0.6666666666666666,\"#ed7953\"],[0.7777777777777778,\"#fb9f3a\"],[0.8888888888888888,\"#fdca26\"],[1.0,\"#f0f921\"]],\"sequentialminus\":[[0.0,\"#0d0887\"],[0.1111111111111111,\"#46039f\"],[0.2222222222222222,\"#7201a8\"],[0.3333333333333333,\"#9c179e\"],[0.4444444444444444,\"#bd3786\"],[0.5555555555555556,\"#d8576b\"],[0.6666666666666666,\"#ed7953\"],[0.7777777777777778,\"#fb9f3a\"],[0.8888888888888888,\"#fdca26\"],[1.0,\"#f0f921\"]],\"diverging\":[[0,\"#8e0152\"],[0.1,\"#c51b7d\"],[0.2,\"#de77ae\"],[0.3,\"#f1b6da\"],[0.4,\"#fde0ef\"],[0.5,\"#f7f7f7\"],[0.6,\"#e6f5d0\"],[0.7,\"#b8e186\"],[0.8,\"#7fbc41\"],[0.9,\"#4d9221\"],[1,\"#276419\"]]},\"xaxis\":{\"gridcolor\":\"white\",\"linecolor\":\"white\",\"ticks\":\"\",\"title\":{\"standoff\":15},\"zerolinecolor\":\"white\",\"automargin\":true,\"zerolinewidth\":2},\"yaxis\":{\"gridcolor\":\"white\",\"linecolor\":\"white\",\"ticks\":\"\",\"title\":{\"standoff\":15},\"zerolinecolor\":\"white\",\"automargin\":true,\"zerolinewidth\":2},\"scene\":{\"xaxis\":{\"backgroundcolor\":\"#E5ECF6\",\"gridcolor\":\"white\",\"linecolor\":\"white\",\"showbackground\":true,\"ticks\":\"\",\"zerolinecolor\":\"white\",\"gridwidth\":2},\"yaxis\":{\"backgroundcolor\":\"#E5ECF6\",\"gridcolor\":\"white\",\"linecolor\":\"white\",\"showbackground\":true,\"ticks\":\"\",\"zerolinecolor\":\"white\",\"gridwidth\":2},\"zaxis\":{\"backgroundcolor\":\"#E5ECF6\",\"gridcolor\":\"white\",\"linecolor\":\"white\",\"showbackground\":true,\"ticks\":\"\",\"zerolinecolor\":\"white\",\"gridwidth\":2}},\"shapedefaults\":{\"line\":{\"color\":\"#2a3f5f\"}},\"annotationdefaults\":{\"arrowcolor\":\"#2a3f5f\",\"arrowhead\":0,\"arrowwidth\":1},\"geo\":{\"bgcolor\":\"white\",\"landcolor\":\"#E5ECF6\",\"subunitcolor\":\"white\",\"showland\":true,\"showlakes\":true,\"lakecolor\":\"white\"},\"title\":{\"x\":0.05},\"mapbox\":{\"style\":\"light\"}}},\"xaxis\":{\"anchor\":\"y\",\"domain\":[0.0,1.0],\"title\":{\"text\":\"BIN_llh_eval\"}},\"yaxis\":{\"anchor\":\"x\",\"domain\":[0.0,1.0],\"title\":{\"text\":\"BIN_cross_lh_GTR\"}},\"legend\":{\"tracegroupgap\":0},\"margin\":{\"t\":60}},                        {\"responsive\": true}                    ).then(function(){\n",
       "                            \n",
       "var gd = document.getElementById('e2f383ce-7cd2-40fb-ae9f-3383551b0436');\n",
       "var x = new MutationObserver(function (mutations, observer) {{\n",
       "        var display = window.getComputedStyle(gd).display;\n",
       "        if (!display || display === 'none') {{\n",
       "            console.log([gd, 'removed!']);\n",
       "            Plotly.purge(gd);\n",
       "            observer.disconnect();\n",
       "        }}\n",
       "}});\n",
       "\n",
       "// Listen for the removal of the full notebook cells\n",
       "var notebookContainer = gd.closest('#notebook-container');\n",
       "if (notebookContainer) {{\n",
       "    x.observe(notebookContainer, {childList: true});\n",
       "}}\n",
       "\n",
       "// Listen for the clearing of the current output cell\n",
       "var outputEl = gd.closest('.output');\n",
       "if (outputEl) {{\n",
       "    x.observe(outputEl, {childList: true});\n",
       "}}\n",
       "\n",
       "                        })                };                });            </script>        </div>"
      ]
     },
     "metadata": {},
     "output_type": "display_data"
    },
    {
     "data": {
      "application/vnd.plotly.v1+json": {
       "config": {
        "plotlyServerURL": "https://plot.ly"
       },
       "data": [
        {
         "hovertemplate": "BIN_llh_eval=%{x}<br>BIN_cross_lh_MK=%{y}<extra></extra>",
         "legendgroup": "",
         "marker": {
          "color": "#636efa",
          "symbol": "circle"
         },
         "mode": "markers",
         "name": "",
         "orientation": "v",
         "showlegend": false,
         "type": "scatter",
         "x": [
          -947.375809,
          -4519.094538,
          -2334.870057,
          -6641.128271,
          -208.698761,
          -493.91678,
          -293.601323,
          -1902.787651,
          -3489.096505,
          -2381.080709,
          -3700.956146,
          -5554.245407,
          -374.124191,
          -1031.520202,
          -389.749495,
          -48.404957,
          -3499.860482,
          -149.021723,
          -2531.889862,
          -4944.684976,
          -4495.278548,
          -3571.113945,
          -823.126349,
          -396.716551,
          -351.776177,
          -5502.239882,
          -156.988321,
          -944.277837,
          -1418.788362,
          -215.892717,
          -183.357547,
          -1076.894326,
          -173.014186,
          -342.241932,
          -12011.276602,
          -3006.428577,
          -1845.757348,
          -13802.074581,
          -2982.831999,
          -1472.171957,
          -5476.63624,
          -170.898782,
          -2393.593647,
          -272.539396,
          -316.730291,
          -420.48573,
          -339.3024,
          -3793.640025,
          -2199.11583,
          -221.507698,
          -5161.18632,
          -622.657573,
          -424.870727,
          -1283.454329,
          -3352.950216,
          -5656.8405,
          -1748.122944,
          -570.962725,
          -1855.487816,
          -969.828792,
          -2321.85611,
          -8126.71186,
          -4042.571407,
          -337.199063,
          -4324.056586,
          -2933.636319,
          -1781.028354,
          -1211.250343,
          -1452.885906,
          -561.041956,
          -5805.837877,
          -3987.219587,
          -7227.495451,
          -666.71118,
          -4503.567036,
          -14487.40518,
          -1214.351132,
          -568.408078,
          -2381.080709,
          -4244.803344,
          -2751.280288,
          -126.956679,
          -9745.302335,
          -543.993301,
          -500.582807,
          -5071.116514,
          -18.248438,
          -1270.135034,
          -250.244965,
          -998.965958,
          -3268.09832,
          -10696.691391,
          -416.063386,
          -1215.834349,
          -1399.463931,
          -1241.142125,
          -8486.539606,
          -4943.832116,
          -2835.292181,
          -558.366558,
          -7430.662861,
          -318.488448,
          -72.284219,
          -2063.092612,
          -2698.749315,
          -8164.986809,
          -524.883563,
          -984.905761,
          -628.420782,
          -1132.762947,
          -181.847562,
          -660.042272,
          -4799.363137,
          -3037.373782,
          -11181.102311,
          -3647.942873,
          -1788.290597,
          -3937.248505,
          -10980.956031,
          -2691.64595,
          -306.910162,
          -15999.270584,
          -2459.869628,
          -1532.912452,
          -1966.573294,
          -441.728577,
          -12877.795717,
          -3000.067428,
          -8571.260736,
          -10125.681536,
          -484.084402,
          -613.902074,
          -107.857519,
          -4781.311673,
          -2853.862147,
          -546.815882,
          -3781.489088,
          -19293.543693,
          -654.52457,
          -777.160975,
          -1920.498709,
          -314.72399,
          -975.292341,
          -975.292341,
          -504.908044,
          -7166.630174,
          -1581.086526,
          -297.329838,
          -1155.257422,
          -9229.993565,
          -1256.763914,
          -7710.235812,
          -5305.329433,
          -302.558162,
          -13166.961711,
          -672.241206,
          -8795.40318,
          -11194.248655,
          -500.582807,
          -14544.971174,
          -673.134976,
          -963.814952,
          -320.830227,
          -6388.607568,
          -298.483326,
          -222.186774,
          -218.1094,
          -668.019032,
          -27670.919506,
          -379.162529,
          -3571.902116,
          -3760.002608,
          -2136.366955,
          -468.836107,
          -1274.079389,
          -7531.523299,
          -116.940084,
          -489.991142,
          -1029.516871,
          -328.253332,
          -505.322278,
          -10025.68198,
          -5578.708962,
          -2729.805824,
          -798.870955,
          -2698.749315,
          -1057.291633,
          -7552.045683,
          -791.974516,
          -5394.675427,
          -3462.470756,
          -9122.657606,
          -508.455982,
          -2423.433847,
          -5004.04958,
          -225.954861,
          -13801.817225,
          -331.300847,
          -931.776216,
          -56.05098,
          -8545.123912,
          -64.027505,
          -686.95654,
          -591.755867,
          -793.791773,
          -1580.917331,
          -2938.831218,
          -1801.458094,
          -6246.930704,
          -4401.236774,
          -107.746052,
          -9963.481351,
          -366.916063,
          -446.735582,
          -159.975011,
          -3718.783151,
          -412.80797,
          -3395.25117,
          -548.293562,
          -5656.8405,
          -774.54353,
          -2439.32541,
          -1429.316101,
          -1925.059412,
          -3867.912672,
          -2060.916897,
          -2158.237725,
          -967.552965,
          -9003.723776,
          -1351.425052,
          -1428.64719,
          -1937.299184,
          -3972.197604,
          -172.823098,
          -1794.62706,
          -245.437734,
          -435.304871,
          -204.056735,
          -1124.143156,
          -1115.181024,
          -1238.608865,
          -299.389772,
          -4647.531,
          -6448.789406,
          -7430.662861,
          -1093.866806,
          -1259.136485,
          -774.166564,
          -972.379021,
          -104.400694,
          -434.620569,
          -13787.59605,
          -3173.669572,
          -13545.243125,
          -9506.233205,
          -3954.942724,
          -949.873929,
          -11056.235536,
          -1496.263952,
          -18797.189445,
          -3154.908472,
          -151.122885,
          -234.598585,
          -1076.377043,
          -1378.473113,
          -10860.345204,
          -221.27912,
          -6616.419287,
          -724.149153,
          -967.898448,
          -4633.843916,
          -4571.821595,
          -269.839033,
          -4076.034505,
          -24337.60697,
          -198.216422,
          -419.662656,
          -173.923763,
          -8571.260736,
          -7325.13871,
          -968.122306,
          -4254.165955,
          -810.16684,
          -2083.286109,
          -958.173439,
          -1942.890978,
          -320.400486,
          -454.200131,
          -211.55281,
          -234.823243,
          -80.088998,
          -603.431846,
          -761.275238,
          -4008.95969,
          -3917.188838,
          -1121.743715,
          -2173.897795,
          -232.513372,
          -2701.68187,
          -10874.26082,
          -197.191249,
          -542.071454,
          -380.555692,
          -10297.857568,
          -995.129402,
          -1937.609444,
          -2554.567013,
          -517.656554,
          -6717.826946,
          -5079.11766,
          -578.454618,
          -740.027337,
          -8897.072632,
          -1664.598103,
          -117.749474,
          -3275.628703,
          -1112.532195,
          -7552.045683,
          -4249.985831,
          -7206.093414,
          -8422.923892,
          -1447.628278,
          -962.488167,
          -121.904444,
          -630.344763,
          -451.34302,
          -628.993433,
          -801.869988,
          -2413.388346,
          -4070.146428,
          -1261.662519,
          -1205.475386,
          -5548.838542,
          -3867.168474,
          -2209.462396,
          -9073.546788,
          -2713.704799,
          -3571.113945,
          -1628.277972,
          -1998.737422,
          -7132.702188,
          -6838.946591,
          -9280.669504,
          -3987.218985,
          -132.592417,
          -2232.752593,
          -7951.92568,
          -309.252284,
          -9556.528873,
          -1942.782555,
          -1939.051293,
          -162.690329,
          -386.902202,
          -1031.484347,
          -27840.67529,
          -3979.414353,
          -736.546484,
          -1350.871138,
          -611.095335,
          -16027.06094,
          -3235.077531,
          -304.773225,
          -381.649126,
          -4404.275229,
          -1671.961487,
          -18193.72538,
          -5518.68544,
          -5281.536003,
          -19293.543693,
          -3589.193489,
          -8980.141454,
          -1789.77672
         ],
         "xaxis": "x",
         "y": [
          -952.17749,
          -4528.505055,
          -2344.964918,
          -6650.465859,
          -208.942595,
          -496.217117,
          -296.87353,
          -1906.010607,
          -3491.544239,
          -2402.134992,
          -3707.274683,
          -5561.48477,
          -377.818734,
          -1034.444082,
          -390.180629,
          -48.470236,
          -3528.19234,
          -149.176745,
          -2537.60786,
          -4950.057343,
          -4503.895867,
          -3584.520148,
          -824.572348,
          -398.907807,
          -358.988056,
          -5509.670754,
          -157.108876,
          -947.042875,
          -1420.238833,
          -216.211443,
          -184.193122,
          -1079.789863,
          -175.628751,
          -347.791734,
          -12034.520707,
          -3014.673291,
          -1850.069408,
          -13816.810396,
          -2989.888152,
          -1473.461907,
          -5485.956903,
          -170.927301,
          -2400.786234,
          -279.263971,
          -316.983004,
          -422.576489,
          -357.042077,
          -3797.710102,
          -2205.131167,
          -221.848291,
          -5189.976743,
          -624.295353,
          -427.48766,
          -1286.511952,
          -3361.028435,
          -5665.104731,
          -1749.963772,
          -571.985799,
          -1856.849173,
          -986.964286,
          -2335.314906,
          -8137.854443,
          -4056.008578,
          -341.599901,
          -4463.420066,
          -2939.361471,
          -1804.474973,
          -1212.979631,
          -1459.031886,
          -565.459464,
          -5818.428641,
          -3998.017806,
          -7256.866121,
          -668.547942,
          -4510.47458,
          -14518.649181,
          -1217.022228,
          -589.369777,
          -2402.134992,
          -4253.845211,
          -2759.312513,
          -127.195318,
          -9771.512401,
          -546.497869,
          -501.363518,
          -5088.083006,
          -133.254852,
          -1275.405886,
          -266.023246,
          -1002.841765,
          -3276.738035,
          -10721.432164,
          -417.079986,
          -1219.19051,
          -1401.675323,
          -1245.466932,
          -8502.251113,
          -4962.631248,
          -2849.677529,
          -559.713766,
          -7525.204121,
          -325.599856,
          -72.333923,
          -2066.641831,
          -2714.160645,
          -8178.567909,
          -526.093238,
          -988.957463,
          -815.983829,
          -1166.859209,
          -182.636466,
          -666.506038,
          -4818.561329,
          -3045.160917,
          -11192.226871,
          -3657.190853,
          -1794.748207,
          -3942.935491,
          -10990.071111,
          -2701.756938,
          -310.255449,
          -16500.938251,
          -2469.900842,
          -1541.562986,
          -1969.847543,
          -441.816992,
          -12903.455825,
          -3007.538464,
          -8694.803712,
          -10139.624661,
          -569.426414,
          -615.751394,
          -108.287683,
          -4800.192393,
          -2862.873027,
          -552.57629,
          -3785.485947,
          -19817.88868,
          -668.389887,
          -779.6813,
          -1927.860054,
          -316.597097,
          -976.483584,
          -976.483584,
          -520.651743,
          -7197.160946,
          -1582.712653,
          -297.999063,
          -1158.771973,
          -9247.665205,
          -1261.423175,
          -7735.313715,
          -5324.32912,
          -302.905897,
          -13190.395358,
          -681.695465,
          -8814.083583,
          -11207.319199,
          -501.363518,
          -14559.11366,
          -679.611489,
          -966.020789,
          -322.542735,
          -6418.909851,
          -299.416099,
          -223.098535,
          -218.455698,
          -677.745679,
          -28429.933668,
          -382.729179,
          -3583.20191,
          -3762.879598,
          -2139.319412,
          -470.31783,
          -1283.125632,
          -7539.05978,
          -117.232883,
          -492.022755,
          -1033.282248,
          -332.668101,
          -507.410035,
          -10039.767621,
          -5596.930857,
          -2733.129783,
          -801.542315,
          -2714.160645,
          -1089.82608,
          -7564.587335,
          -793.153157,
          -5401.933253,
          -3534.424943,
          -9143.151645,
          -509.47785,
          -2438.700498,
          -5019.233133,
          -228.697513,
          -13825.999385,
          -332.827518,
          -961.61494,
          -56.138427,
          -8561.716903,
          -64.313058,
          -693.392827,
          -595.015775,
          -796.226571,
          -1583.816504,
          -2946.315304,
          -1806.52921,
          -6252.93044,
          -4410.778441,
          -108.456795,
          -9980.092689,
          -368.923134,
          -450.068882,
          -160.786753,
          -3722.167613,
          -418.372255,
          -3404.793481,
          -554.929185,
          -5665.104731,
          -784.512914,
          -2449.780434,
          -1432.969808,
          -1931.94405,
          -3878.767163,
          -2063.468655,
          -2166.506638,
          -973.242058,
          -9017.367479,
          -1352.836807,
          -1430.269571,
          -2114.588321,
          -3984.175915,
          -173.018285,
          -1798.902564,
          -246.793171,
          -437.577887,
          -205.942276,
          -1125.853379,
          -1118.650847,
          -1244.0314,
          -307.997807,
          -4683.102503,
          -6475.508606,
          -7525.204121,
          -1095.067564,
          -1262.534069,
          -776.442124,
          -975.831776,
          -104.506841,
          -434.949683,
          -13811.924405,
          -3180.952675,
          -13577.67118,
          -9553.499697,
          -3965.711828,
          -963.401473,
          -11067.126007,
          -1497.536428,
          -19154.299854,
          -3162.696413,
          -151.229107,
          -234.646529,
          -1080.430696,
          -1380.738106,
          -10871.096742,
          -221.863774,
          -6634.416979,
          -726.214141,
          -977.023404,
          -4642.194049,
          -4594.303813,
          -280.60163,
          -4089.323785,
          -24387.924074,
          -198.879031,
          -420.033918,
          -174.205957,
          -8694.803712,
          -7351.308592,
          -968.992311,
          -4268.329213,
          -817.507523,
          -2094.481299,
          -971.773345,
          -1991.178686,
          -321.127068,
          -455.726472,
          -212.558538,
          -235.508774,
          -80.251978,
          -611.272652,
          -763.829841,
          -5038.227331,
          -3922.536877,
          -1124.694507,
          -2174.773286,
          -232.768179,
          -2713.208459,
          -10887.594443,
          -199.098398,
          -543.640301,
          -380.695469,
          -10316.788787,
          -998.516955,
          -1955.991974,
          -2567.007403,
          -518.786838,
          -6751.112264,
          -5095.748868,
          -582.181269,
          -741.606464,
          -8910.167208,
          -1668.018242,
          -118.064216,
          -3281.750025,
          -1112.967757,
          -7564.587335,
          -4267.20405,
          -7225.493429,
          -8435.236433,
          -1450.171002,
          -963.536334,
          -122.157851,
          -641.621182,
          -456.195948,
          -662.582001,
          -805.473738,
          -2420.524607,
          -4070.455523,
          -1272.361804,
          -1214.485956,
          -5557.462888,
          -3871.461488,
          -2223.772389,
          -9079.758011,
          -2728.345351,
          -3584.520148,
          -1631.850761,
          -2001.683082,
          -7162.806932,
          -6849.609654,
          -9288.743265,
          -3998.017204,
          -132.811462,
          -2233.574394,
          -7977.561089,
          -310.375593,
          -9602.130425,
          -1990.673502,
          -1988.63268,
          -162.967713,
          -388.798934,
          -1144.154059,
          -27875.246472,
          -3991.978616,
          -739.677693,
          -1362.049085,
          -612.577809,
          -16068.675632,
          -3264.206244,
          -308.928391,
          -385.405297,
          -4422.234527,
          -1676.976152,
          -18218.571936,
          -5527.012075,
          -5298.229505,
          -19817.88868,
          -3591.708175,
          -8992.072571,
          -1796.96152
         ],
         "yaxis": "y"
        }
       ],
       "layout": {
        "legend": {
         "tracegroupgap": 0
        },
        "margin": {
         "t": 60
        },
        "template": {
         "data": {
          "bar": [
           {
            "error_x": {
             "color": "#2a3f5f"
            },
            "error_y": {
             "color": "#2a3f5f"
            },
            "marker": {
             "line": {
              "color": "#E5ECF6",
              "width": 0.5
             },
             "pattern": {
              "fillmode": "overlay",
              "size": 10,
              "solidity": 0.2
             }
            },
            "type": "bar"
           }
          ],
          "barpolar": [
           {
            "marker": {
             "line": {
              "color": "#E5ECF6",
              "width": 0.5
             },
             "pattern": {
              "fillmode": "overlay",
              "size": 10,
              "solidity": 0.2
             }
            },
            "type": "barpolar"
           }
          ],
          "carpet": [
           {
            "aaxis": {
             "endlinecolor": "#2a3f5f",
             "gridcolor": "white",
             "linecolor": "white",
             "minorgridcolor": "white",
             "startlinecolor": "#2a3f5f"
            },
            "baxis": {
             "endlinecolor": "#2a3f5f",
             "gridcolor": "white",
             "linecolor": "white",
             "minorgridcolor": "white",
             "startlinecolor": "#2a3f5f"
            },
            "type": "carpet"
           }
          ],
          "choropleth": [
           {
            "colorbar": {
             "outlinewidth": 0,
             "ticks": ""
            },
            "type": "choropleth"
           }
          ],
          "contour": [
           {
            "colorbar": {
             "outlinewidth": 0,
             "ticks": ""
            },
            "colorscale": [
             [
              0,
              "#0d0887"
             ],
             [
              0.1111111111111111,
              "#46039f"
             ],
             [
              0.2222222222222222,
              "#7201a8"
             ],
             [
              0.3333333333333333,
              "#9c179e"
             ],
             [
              0.4444444444444444,
              "#bd3786"
             ],
             [
              0.5555555555555556,
              "#d8576b"
             ],
             [
              0.6666666666666666,
              "#ed7953"
             ],
             [
              0.7777777777777778,
              "#fb9f3a"
             ],
             [
              0.8888888888888888,
              "#fdca26"
             ],
             [
              1,
              "#f0f921"
             ]
            ],
            "type": "contour"
           }
          ],
          "contourcarpet": [
           {
            "colorbar": {
             "outlinewidth": 0,
             "ticks": ""
            },
            "type": "contourcarpet"
           }
          ],
          "heatmap": [
           {
            "colorbar": {
             "outlinewidth": 0,
             "ticks": ""
            },
            "colorscale": [
             [
              0,
              "#0d0887"
             ],
             [
              0.1111111111111111,
              "#46039f"
             ],
             [
              0.2222222222222222,
              "#7201a8"
             ],
             [
              0.3333333333333333,
              "#9c179e"
             ],
             [
              0.4444444444444444,
              "#bd3786"
             ],
             [
              0.5555555555555556,
              "#d8576b"
             ],
             [
              0.6666666666666666,
              "#ed7953"
             ],
             [
              0.7777777777777778,
              "#fb9f3a"
             ],
             [
              0.8888888888888888,
              "#fdca26"
             ],
             [
              1,
              "#f0f921"
             ]
            ],
            "type": "heatmap"
           }
          ],
          "heatmapgl": [
           {
            "colorbar": {
             "outlinewidth": 0,
             "ticks": ""
            },
            "colorscale": [
             [
              0,
              "#0d0887"
             ],
             [
              0.1111111111111111,
              "#46039f"
             ],
             [
              0.2222222222222222,
              "#7201a8"
             ],
             [
              0.3333333333333333,
              "#9c179e"
             ],
             [
              0.4444444444444444,
              "#bd3786"
             ],
             [
              0.5555555555555556,
              "#d8576b"
             ],
             [
              0.6666666666666666,
              "#ed7953"
             ],
             [
              0.7777777777777778,
              "#fb9f3a"
             ],
             [
              0.8888888888888888,
              "#fdca26"
             ],
             [
              1,
              "#f0f921"
             ]
            ],
            "type": "heatmapgl"
           }
          ],
          "histogram": [
           {
            "marker": {
             "pattern": {
              "fillmode": "overlay",
              "size": 10,
              "solidity": 0.2
             }
            },
            "type": "histogram"
           }
          ],
          "histogram2d": [
           {
            "colorbar": {
             "outlinewidth": 0,
             "ticks": ""
            },
            "colorscale": [
             [
              0,
              "#0d0887"
             ],
             [
              0.1111111111111111,
              "#46039f"
             ],
             [
              0.2222222222222222,
              "#7201a8"
             ],
             [
              0.3333333333333333,
              "#9c179e"
             ],
             [
              0.4444444444444444,
              "#bd3786"
             ],
             [
              0.5555555555555556,
              "#d8576b"
             ],
             [
              0.6666666666666666,
              "#ed7953"
             ],
             [
              0.7777777777777778,
              "#fb9f3a"
             ],
             [
              0.8888888888888888,
              "#fdca26"
             ],
             [
              1,
              "#f0f921"
             ]
            ],
            "type": "histogram2d"
           }
          ],
          "histogram2dcontour": [
           {
            "colorbar": {
             "outlinewidth": 0,
             "ticks": ""
            },
            "colorscale": [
             [
              0,
              "#0d0887"
             ],
             [
              0.1111111111111111,
              "#46039f"
             ],
             [
              0.2222222222222222,
              "#7201a8"
             ],
             [
              0.3333333333333333,
              "#9c179e"
             ],
             [
              0.4444444444444444,
              "#bd3786"
             ],
             [
              0.5555555555555556,
              "#d8576b"
             ],
             [
              0.6666666666666666,
              "#ed7953"
             ],
             [
              0.7777777777777778,
              "#fb9f3a"
             ],
             [
              0.8888888888888888,
              "#fdca26"
             ],
             [
              1,
              "#f0f921"
             ]
            ],
            "type": "histogram2dcontour"
           }
          ],
          "mesh3d": [
           {
            "colorbar": {
             "outlinewidth": 0,
             "ticks": ""
            },
            "type": "mesh3d"
           }
          ],
          "parcoords": [
           {
            "line": {
             "colorbar": {
              "outlinewidth": 0,
              "ticks": ""
             }
            },
            "type": "parcoords"
           }
          ],
          "pie": [
           {
            "automargin": true,
            "type": "pie"
           }
          ],
          "scatter": [
           {
            "fillpattern": {
             "fillmode": "overlay",
             "size": 10,
             "solidity": 0.2
            },
            "type": "scatter"
           }
          ],
          "scatter3d": [
           {
            "line": {
             "colorbar": {
              "outlinewidth": 0,
              "ticks": ""
             }
            },
            "marker": {
             "colorbar": {
              "outlinewidth": 0,
              "ticks": ""
             }
            },
            "type": "scatter3d"
           }
          ],
          "scattercarpet": [
           {
            "marker": {
             "colorbar": {
              "outlinewidth": 0,
              "ticks": ""
             }
            },
            "type": "scattercarpet"
           }
          ],
          "scattergeo": [
           {
            "marker": {
             "colorbar": {
              "outlinewidth": 0,
              "ticks": ""
             }
            },
            "type": "scattergeo"
           }
          ],
          "scattergl": [
           {
            "marker": {
             "colorbar": {
              "outlinewidth": 0,
              "ticks": ""
             }
            },
            "type": "scattergl"
           }
          ],
          "scattermapbox": [
           {
            "marker": {
             "colorbar": {
              "outlinewidth": 0,
              "ticks": ""
             }
            },
            "type": "scattermapbox"
           }
          ],
          "scatterpolar": [
           {
            "marker": {
             "colorbar": {
              "outlinewidth": 0,
              "ticks": ""
             }
            },
            "type": "scatterpolar"
           }
          ],
          "scatterpolargl": [
           {
            "marker": {
             "colorbar": {
              "outlinewidth": 0,
              "ticks": ""
             }
            },
            "type": "scatterpolargl"
           }
          ],
          "scatterternary": [
           {
            "marker": {
             "colorbar": {
              "outlinewidth": 0,
              "ticks": ""
             }
            },
            "type": "scatterternary"
           }
          ],
          "surface": [
           {
            "colorbar": {
             "outlinewidth": 0,
             "ticks": ""
            },
            "colorscale": [
             [
              0,
              "#0d0887"
             ],
             [
              0.1111111111111111,
              "#46039f"
             ],
             [
              0.2222222222222222,
              "#7201a8"
             ],
             [
              0.3333333333333333,
              "#9c179e"
             ],
             [
              0.4444444444444444,
              "#bd3786"
             ],
             [
              0.5555555555555556,
              "#d8576b"
             ],
             [
              0.6666666666666666,
              "#ed7953"
             ],
             [
              0.7777777777777778,
              "#fb9f3a"
             ],
             [
              0.8888888888888888,
              "#fdca26"
             ],
             [
              1,
              "#f0f921"
             ]
            ],
            "type": "surface"
           }
          ],
          "table": [
           {
            "cells": {
             "fill": {
              "color": "#EBF0F8"
             },
             "line": {
              "color": "white"
             }
            },
            "header": {
             "fill": {
              "color": "#C8D4E3"
             },
             "line": {
              "color": "white"
             }
            },
            "type": "table"
           }
          ]
         },
         "layout": {
          "annotationdefaults": {
           "arrowcolor": "#2a3f5f",
           "arrowhead": 0,
           "arrowwidth": 1
          },
          "autotypenumbers": "strict",
          "coloraxis": {
           "colorbar": {
            "outlinewidth": 0,
            "ticks": ""
           }
          },
          "colorscale": {
           "diverging": [
            [
             0,
             "#8e0152"
            ],
            [
             0.1,
             "#c51b7d"
            ],
            [
             0.2,
             "#de77ae"
            ],
            [
             0.3,
             "#f1b6da"
            ],
            [
             0.4,
             "#fde0ef"
            ],
            [
             0.5,
             "#f7f7f7"
            ],
            [
             0.6,
             "#e6f5d0"
            ],
            [
             0.7,
             "#b8e186"
            ],
            [
             0.8,
             "#7fbc41"
            ],
            [
             0.9,
             "#4d9221"
            ],
            [
             1,
             "#276419"
            ]
           ],
           "sequential": [
            [
             0,
             "#0d0887"
            ],
            [
             0.1111111111111111,
             "#46039f"
            ],
            [
             0.2222222222222222,
             "#7201a8"
            ],
            [
             0.3333333333333333,
             "#9c179e"
            ],
            [
             0.4444444444444444,
             "#bd3786"
            ],
            [
             0.5555555555555556,
             "#d8576b"
            ],
            [
             0.6666666666666666,
             "#ed7953"
            ],
            [
             0.7777777777777778,
             "#fb9f3a"
            ],
            [
             0.8888888888888888,
             "#fdca26"
            ],
            [
             1,
             "#f0f921"
            ]
           ],
           "sequentialminus": [
            [
             0,
             "#0d0887"
            ],
            [
             0.1111111111111111,
             "#46039f"
            ],
            [
             0.2222222222222222,
             "#7201a8"
            ],
            [
             0.3333333333333333,
             "#9c179e"
            ],
            [
             0.4444444444444444,
             "#bd3786"
            ],
            [
             0.5555555555555556,
             "#d8576b"
            ],
            [
             0.6666666666666666,
             "#ed7953"
            ],
            [
             0.7777777777777778,
             "#fb9f3a"
            ],
            [
             0.8888888888888888,
             "#fdca26"
            ],
            [
             1,
             "#f0f921"
            ]
           ]
          },
          "colorway": [
           "#636efa",
           "#EF553B",
           "#00cc96",
           "#ab63fa",
           "#FFA15A",
           "#19d3f3",
           "#FF6692",
           "#B6E880",
           "#FF97FF",
           "#FECB52"
          ],
          "font": {
           "color": "#2a3f5f"
          },
          "geo": {
           "bgcolor": "white",
           "lakecolor": "white",
           "landcolor": "#E5ECF6",
           "showlakes": true,
           "showland": true,
           "subunitcolor": "white"
          },
          "hoverlabel": {
           "align": "left"
          },
          "hovermode": "closest",
          "mapbox": {
           "style": "light"
          },
          "paper_bgcolor": "white",
          "plot_bgcolor": "#E5ECF6",
          "polar": {
           "angularaxis": {
            "gridcolor": "white",
            "linecolor": "white",
            "ticks": ""
           },
           "bgcolor": "#E5ECF6",
           "radialaxis": {
            "gridcolor": "white",
            "linecolor": "white",
            "ticks": ""
           }
          },
          "scene": {
           "xaxis": {
            "backgroundcolor": "#E5ECF6",
            "gridcolor": "white",
            "gridwidth": 2,
            "linecolor": "white",
            "showbackground": true,
            "ticks": "",
            "zerolinecolor": "white"
           },
           "yaxis": {
            "backgroundcolor": "#E5ECF6",
            "gridcolor": "white",
            "gridwidth": 2,
            "linecolor": "white",
            "showbackground": true,
            "ticks": "",
            "zerolinecolor": "white"
           },
           "zaxis": {
            "backgroundcolor": "#E5ECF6",
            "gridcolor": "white",
            "gridwidth": 2,
            "linecolor": "white",
            "showbackground": true,
            "ticks": "",
            "zerolinecolor": "white"
           }
          },
          "shapedefaults": {
           "line": {
            "color": "#2a3f5f"
           }
          },
          "ternary": {
           "aaxis": {
            "gridcolor": "white",
            "linecolor": "white",
            "ticks": ""
           },
           "baxis": {
            "gridcolor": "white",
            "linecolor": "white",
            "ticks": ""
           },
           "bgcolor": "#E5ECF6",
           "caxis": {
            "gridcolor": "white",
            "linecolor": "white",
            "ticks": ""
           }
          },
          "title": {
           "x": 0.05
          },
          "xaxis": {
           "automargin": true,
           "gridcolor": "white",
           "linecolor": "white",
           "ticks": "",
           "title": {
            "standoff": 15
           },
           "zerolinecolor": "white",
           "zerolinewidth": 2
          },
          "yaxis": {
           "automargin": true,
           "gridcolor": "white",
           "linecolor": "white",
           "ticks": "",
           "title": {
            "standoff": 15
           },
           "zerolinecolor": "white",
           "zerolinewidth": 2
          }
         }
        },
        "xaxis": {
         "anchor": "y",
         "domain": [
          0,
          1
         ],
         "title": {
          "text": "BIN_llh_eval"
         }
        },
        "yaxis": {
         "anchor": "x",
         "domain": [
          0,
          1
         ],
         "title": {
          "text": "BIN_cross_lh_MK"
         }
        }
       }
      },
      "text/html": [
       "<div>                            <div id=\"5764313a-565b-4c65-a67a-3f1c99833ade\" class=\"plotly-graph-div\" style=\"height:525px; width:100%;\"></div>            <script type=\"text/javascript\">                require([\"plotly\"], function(Plotly) {                    window.PLOTLYENV=window.PLOTLYENV || {};                                    if (document.getElementById(\"5764313a-565b-4c65-a67a-3f1c99833ade\")) {                    Plotly.newPlot(                        \"5764313a-565b-4c65-a67a-3f1c99833ade\",                        [{\"hovertemplate\":\"BIN_llh_eval=%{x}<br>BIN_cross_lh_MK=%{y}<extra></extra>\",\"legendgroup\":\"\",\"marker\":{\"color\":\"#636efa\",\"symbol\":\"circle\"},\"mode\":\"markers\",\"name\":\"\",\"orientation\":\"v\",\"showlegend\":false,\"x\":[-947.375809,-4519.094538,-2334.870057,-6641.128271,-208.698761,-493.91678,-293.601323,-1902.787651,-3489.096505,-2381.080709,-3700.956146,-5554.245407,-374.124191,-1031.520202,-389.749495,-48.404957,-3499.860482,-149.021723,-2531.889862,-4944.684976,-4495.278548,-3571.113945,-823.126349,-396.716551,-351.776177,-5502.239882,-156.988321,-944.277837,-1418.788362,-215.892717,-183.357547,-1076.894326,-173.014186,-342.241932,-12011.276602,-3006.428577,-1845.757348,-13802.074581,-2982.831999,-1472.171957,-5476.63624,-170.898782,-2393.593647,-272.539396,-316.730291,-420.48573,-339.3024,-3793.640025,-2199.11583,-221.507698,-5161.18632,-622.657573,-424.870727,-1283.454329,-3352.950216,-5656.8405,-1748.122944,-570.962725,-1855.487816,-969.828792,-2321.85611,-8126.71186,-4042.571407,-337.199063,-4324.056586,-2933.636319,-1781.028354,-1211.250343,-1452.885906,-561.041956,-5805.837877,-3987.219587,-7227.495451,-666.71118,-4503.567036,-14487.40518,-1214.351132,-568.408078,-2381.080709,-4244.803344,-2751.280288,-126.956679,-9745.302335,-543.993301,-500.582807,-5071.116514,-18.248438,-1270.135034,-250.244965,-998.965958,-3268.09832,-10696.691391,-416.063386,-1215.834349,-1399.463931,-1241.142125,-8486.539606,-4943.832116,-2835.292181,-558.366558,-7430.662861,-318.488448,-72.284219,-2063.092612,-2698.749315,-8164.986809,-524.883563,-984.905761,-628.420782,-1132.762947,-181.847562,-660.042272,-4799.363137,-3037.373782,-11181.102311,-3647.942873,-1788.290597,-3937.248505,-10980.956031,-2691.64595,-306.910162,-15999.270584,-2459.869628,-1532.912452,-1966.573294,-441.728577,-12877.795717,-3000.067428,-8571.260736,-10125.681536,-484.084402,-613.902074,-107.857519,-4781.311673,-2853.862147,-546.815882,-3781.489088,-19293.543693,-654.52457,-777.160975,-1920.498709,-314.72399,-975.292341,-975.292341,-504.908044,-7166.630174,-1581.086526,-297.329838,-1155.257422,-9229.993565,-1256.763914,-7710.235812,-5305.329433,-302.558162,-13166.961711,-672.241206,-8795.40318,-11194.248655,-500.582807,-14544.971174,-673.134976,-963.814952,-320.830227,-6388.607568,-298.483326,-222.186774,-218.1094,-668.019032,-27670.919506,-379.162529,-3571.902116,-3760.002608,-2136.366955,-468.836107,-1274.079389,-7531.523299,-116.940084,-489.991142,-1029.516871,-328.253332,-505.322278,-10025.68198,-5578.708962,-2729.805824,-798.870955,-2698.749315,-1057.291633,-7552.045683,-791.974516,-5394.675427,-3462.470756,-9122.657606,-508.455982,-2423.433847,-5004.04958,-225.954861,-13801.817225,-331.300847,-931.776216,-56.05098,-8545.123912,-64.027505,-686.95654,-591.755867,-793.791773,-1580.917331,-2938.831218,-1801.458094,-6246.930704,-4401.236774,-107.746052,-9963.481351,-366.916063,-446.735582,-159.975011,-3718.783151,-412.80797,-3395.25117,-548.293562,-5656.8405,-774.54353,-2439.32541,-1429.316101,-1925.059412,-3867.912672,-2060.916897,-2158.237725,-967.552965,-9003.723776,-1351.425052,-1428.64719,-1937.299184,-3972.197604,-172.823098,-1794.62706,-245.437734,-435.304871,-204.056735,-1124.143156,-1115.181024,-1238.608865,-299.389772,-4647.531,-6448.789406,-7430.662861,-1093.866806,-1259.136485,-774.166564,-972.379021,-104.400694,-434.620569,-13787.59605,-3173.669572,-13545.243125,-9506.233205,-3954.942724,-949.873929,-11056.235536,-1496.263952,-18797.189445,-3154.908472,-151.122885,-234.598585,-1076.377043,-1378.473113,-10860.345204,-221.27912,-6616.419287,-724.149153,-967.898448,-4633.843916,-4571.821595,-269.839033,-4076.034505,-24337.60697,-198.216422,-419.662656,-173.923763,-8571.260736,-7325.13871,-968.122306,-4254.165955,-810.16684,-2083.286109,-958.173439,-1942.890978,-320.400486,-454.200131,-211.55281,-234.823243,-80.088998,-603.431846,-761.275238,-4008.95969,-3917.188838,-1121.743715,-2173.897795,-232.513372,-2701.68187,-10874.26082,-197.191249,-542.071454,-380.555692,-10297.857568,-995.129402,-1937.609444,-2554.567013,-517.656554,-6717.826946,-5079.11766,-578.454618,-740.027337,-8897.072632,-1664.598103,-117.749474,-3275.628703,-1112.532195,-7552.045683,-4249.985831,-7206.093414,-8422.923892,-1447.628278,-962.488167,-121.904444,-630.344763,-451.34302,-628.993433,-801.869988,-2413.388346,-4070.146428,-1261.662519,-1205.475386,-5548.838542,-3867.168474,-2209.462396,-9073.546788,-2713.704799,-3571.113945,-1628.277972,-1998.737422,-7132.702188,-6838.946591,-9280.669504,-3987.218985,-132.592417,-2232.752593,-7951.92568,-309.252284,-9556.528873,-1942.782555,-1939.051293,-162.690329,-386.902202,-1031.484347,-27840.67529,-3979.414353,-736.546484,-1350.871138,-611.095335,-16027.06094,-3235.077531,-304.773225,-381.649126,-4404.275229,-1671.961487,-18193.72538,-5518.68544,-5281.536003,-19293.543693,-3589.193489,-8980.141454,-1789.77672],\"xaxis\":\"x\",\"y\":[-952.17749,-4528.505055,-2344.964918,-6650.465859,-208.942595,-496.217117,-296.87353,-1906.010607,-3491.544239,-2402.134992,-3707.274683,-5561.48477,-377.818734,-1034.444082,-390.180629,-48.470236,-3528.19234,-149.176745,-2537.60786,-4950.057343,-4503.895867,-3584.520148,-824.572348,-398.907807,-358.988056,-5509.670754,-157.108876,-947.042875,-1420.238833,-216.211443,-184.193122,-1079.789863,-175.628751,-347.791734,-12034.520707,-3014.673291,-1850.069408,-13816.810396,-2989.888152,-1473.461907,-5485.956903,-170.927301,-2400.786234,-279.263971,-316.983004,-422.576489,-357.042077,-3797.710102,-2205.131167,-221.848291,-5189.976743,-624.295353,-427.48766,-1286.511952,-3361.028435,-5665.104731,-1749.963772,-571.985799,-1856.849173,-986.964286,-2335.314906,-8137.854443,-4056.008578,-341.599901,-4463.420066,-2939.361471,-1804.474973,-1212.979631,-1459.031886,-565.459464,-5818.428641,-3998.017806,-7256.866121,-668.547942,-4510.47458,-14518.649181,-1217.022228,-589.369777,-2402.134992,-4253.845211,-2759.312513,-127.195318,-9771.512401,-546.497869,-501.363518,-5088.083006,-133.254852,-1275.405886,-266.023246,-1002.841765,-3276.738035,-10721.432164,-417.079986,-1219.19051,-1401.675323,-1245.466932,-8502.251113,-4962.631248,-2849.677529,-559.713766,-7525.204121,-325.599856,-72.333923,-2066.641831,-2714.160645,-8178.567909,-526.093238,-988.957463,-815.983829,-1166.859209,-182.636466,-666.506038,-4818.561329,-3045.160917,-11192.226871,-3657.190853,-1794.748207,-3942.935491,-10990.071111,-2701.756938,-310.255449,-16500.938251,-2469.900842,-1541.562986,-1969.847543,-441.816992,-12903.455825,-3007.538464,-8694.803712,-10139.624661,-569.426414,-615.751394,-108.287683,-4800.192393,-2862.873027,-552.57629,-3785.485947,-19817.88868,-668.389887,-779.6813,-1927.860054,-316.597097,-976.483584,-976.483584,-520.651743,-7197.160946,-1582.712653,-297.999063,-1158.771973,-9247.665205,-1261.423175,-7735.313715,-5324.32912,-302.905897,-13190.395358,-681.695465,-8814.083583,-11207.319199,-501.363518,-14559.11366,-679.611489,-966.020789,-322.542735,-6418.909851,-299.416099,-223.098535,-218.455698,-677.745679,-28429.933668,-382.729179,-3583.20191,-3762.879598,-2139.319412,-470.31783,-1283.125632,-7539.05978,-117.232883,-492.022755,-1033.282248,-332.668101,-507.410035,-10039.767621,-5596.930857,-2733.129783,-801.542315,-2714.160645,-1089.82608,-7564.587335,-793.153157,-5401.933253,-3534.424943,-9143.151645,-509.47785,-2438.700498,-5019.233133,-228.697513,-13825.999385,-332.827518,-961.61494,-56.138427,-8561.716903,-64.313058,-693.392827,-595.015775,-796.226571,-1583.816504,-2946.315304,-1806.52921,-6252.93044,-4410.778441,-108.456795,-9980.092689,-368.923134,-450.068882,-160.786753,-3722.167613,-418.372255,-3404.793481,-554.929185,-5665.104731,-784.512914,-2449.780434,-1432.969808,-1931.94405,-3878.767163,-2063.468655,-2166.506638,-973.242058,-9017.367479,-1352.836807,-1430.269571,-2114.588321,-3984.175915,-173.018285,-1798.902564,-246.793171,-437.577887,-205.942276,-1125.853379,-1118.650847,-1244.0314,-307.997807,-4683.102503,-6475.508606,-7525.204121,-1095.067564,-1262.534069,-776.442124,-975.831776,-104.506841,-434.949683,-13811.924405,-3180.952675,-13577.67118,-9553.499697,-3965.711828,-963.401473,-11067.126007,-1497.536428,-19154.299854,-3162.696413,-151.229107,-234.646529,-1080.430696,-1380.738106,-10871.096742,-221.863774,-6634.416979,-726.214141,-977.023404,-4642.194049,-4594.303813,-280.60163,-4089.323785,-24387.924074,-198.879031,-420.033918,-174.205957,-8694.803712,-7351.308592,-968.992311,-4268.329213,-817.507523,-2094.481299,-971.773345,-1991.178686,-321.127068,-455.726472,-212.558538,-235.508774,-80.251978,-611.272652,-763.829841,-5038.227331,-3922.536877,-1124.694507,-2174.773286,-232.768179,-2713.208459,-10887.594443,-199.098398,-543.640301,-380.695469,-10316.788787,-998.516955,-1955.991974,-2567.007403,-518.786838,-6751.112264,-5095.748868,-582.181269,-741.606464,-8910.167208,-1668.018242,-118.064216,-3281.750025,-1112.967757,-7564.587335,-4267.20405,-7225.493429,-8435.236433,-1450.171002,-963.536334,-122.157851,-641.621182,-456.195948,-662.582001,-805.473738,-2420.524607,-4070.455523,-1272.361804,-1214.485956,-5557.462888,-3871.461488,-2223.772389,-9079.758011,-2728.345351,-3584.520148,-1631.850761,-2001.683082,-7162.806932,-6849.609654,-9288.743265,-3998.017204,-132.811462,-2233.574394,-7977.561089,-310.375593,-9602.130425,-1990.673502,-1988.63268,-162.967713,-388.798934,-1144.154059,-27875.246472,-3991.978616,-739.677693,-1362.049085,-612.577809,-16068.675632,-3264.206244,-308.928391,-385.405297,-4422.234527,-1676.976152,-18218.571936,-5527.012075,-5298.229505,-19817.88868,-3591.708175,-8992.072571,-1796.96152],\"yaxis\":\"y\",\"type\":\"scatter\"}],                        {\"template\":{\"data\":{\"histogram2dcontour\":[{\"type\":\"histogram2dcontour\",\"colorbar\":{\"outlinewidth\":0,\"ticks\":\"\"},\"colorscale\":[[0.0,\"#0d0887\"],[0.1111111111111111,\"#46039f\"],[0.2222222222222222,\"#7201a8\"],[0.3333333333333333,\"#9c179e\"],[0.4444444444444444,\"#bd3786\"],[0.5555555555555556,\"#d8576b\"],[0.6666666666666666,\"#ed7953\"],[0.7777777777777778,\"#fb9f3a\"],[0.8888888888888888,\"#fdca26\"],[1.0,\"#f0f921\"]]}],\"choropleth\":[{\"type\":\"choropleth\",\"colorbar\":{\"outlinewidth\":0,\"ticks\":\"\"}}],\"histogram2d\":[{\"type\":\"histogram2d\",\"colorbar\":{\"outlinewidth\":0,\"ticks\":\"\"},\"colorscale\":[[0.0,\"#0d0887\"],[0.1111111111111111,\"#46039f\"],[0.2222222222222222,\"#7201a8\"],[0.3333333333333333,\"#9c179e\"],[0.4444444444444444,\"#bd3786\"],[0.5555555555555556,\"#d8576b\"],[0.6666666666666666,\"#ed7953\"],[0.7777777777777778,\"#fb9f3a\"],[0.8888888888888888,\"#fdca26\"],[1.0,\"#f0f921\"]]}],\"heatmap\":[{\"type\":\"heatmap\",\"colorbar\":{\"outlinewidth\":0,\"ticks\":\"\"},\"colorscale\":[[0.0,\"#0d0887\"],[0.1111111111111111,\"#46039f\"],[0.2222222222222222,\"#7201a8\"],[0.3333333333333333,\"#9c179e\"],[0.4444444444444444,\"#bd3786\"],[0.5555555555555556,\"#d8576b\"],[0.6666666666666666,\"#ed7953\"],[0.7777777777777778,\"#fb9f3a\"],[0.8888888888888888,\"#fdca26\"],[1.0,\"#f0f921\"]]}],\"heatmapgl\":[{\"type\":\"heatmapgl\",\"colorbar\":{\"outlinewidth\":0,\"ticks\":\"\"},\"colorscale\":[[0.0,\"#0d0887\"],[0.1111111111111111,\"#46039f\"],[0.2222222222222222,\"#7201a8\"],[0.3333333333333333,\"#9c179e\"],[0.4444444444444444,\"#bd3786\"],[0.5555555555555556,\"#d8576b\"],[0.6666666666666666,\"#ed7953\"],[0.7777777777777778,\"#fb9f3a\"],[0.8888888888888888,\"#fdca26\"],[1.0,\"#f0f921\"]]}],\"contourcarpet\":[{\"type\":\"contourcarpet\",\"colorbar\":{\"outlinewidth\":0,\"ticks\":\"\"}}],\"contour\":[{\"type\":\"contour\",\"colorbar\":{\"outlinewidth\":0,\"ticks\":\"\"},\"colorscale\":[[0.0,\"#0d0887\"],[0.1111111111111111,\"#46039f\"],[0.2222222222222222,\"#7201a8\"],[0.3333333333333333,\"#9c179e\"],[0.4444444444444444,\"#bd3786\"],[0.5555555555555556,\"#d8576b\"],[0.6666666666666666,\"#ed7953\"],[0.7777777777777778,\"#fb9f3a\"],[0.8888888888888888,\"#fdca26\"],[1.0,\"#f0f921\"]]}],\"surface\":[{\"type\":\"surface\",\"colorbar\":{\"outlinewidth\":0,\"ticks\":\"\"},\"colorscale\":[[0.0,\"#0d0887\"],[0.1111111111111111,\"#46039f\"],[0.2222222222222222,\"#7201a8\"],[0.3333333333333333,\"#9c179e\"],[0.4444444444444444,\"#bd3786\"],[0.5555555555555556,\"#d8576b\"],[0.6666666666666666,\"#ed7953\"],[0.7777777777777778,\"#fb9f3a\"],[0.8888888888888888,\"#fdca26\"],[1.0,\"#f0f921\"]]}],\"mesh3d\":[{\"type\":\"mesh3d\",\"colorbar\":{\"outlinewidth\":0,\"ticks\":\"\"}}],\"scatter\":[{\"fillpattern\":{\"fillmode\":\"overlay\",\"size\":10,\"solidity\":0.2},\"type\":\"scatter\"}],\"parcoords\":[{\"type\":\"parcoords\",\"line\":{\"colorbar\":{\"outlinewidth\":0,\"ticks\":\"\"}}}],\"scatterpolargl\":[{\"type\":\"scatterpolargl\",\"marker\":{\"colorbar\":{\"outlinewidth\":0,\"ticks\":\"\"}}}],\"bar\":[{\"error_x\":{\"color\":\"#2a3f5f\"},\"error_y\":{\"color\":\"#2a3f5f\"},\"marker\":{\"line\":{\"color\":\"#E5ECF6\",\"width\":0.5},\"pattern\":{\"fillmode\":\"overlay\",\"size\":10,\"solidity\":0.2}},\"type\":\"bar\"}],\"scattergeo\":[{\"type\":\"scattergeo\",\"marker\":{\"colorbar\":{\"outlinewidth\":0,\"ticks\":\"\"}}}],\"scatterpolar\":[{\"type\":\"scatterpolar\",\"marker\":{\"colorbar\":{\"outlinewidth\":0,\"ticks\":\"\"}}}],\"histogram\":[{\"marker\":{\"pattern\":{\"fillmode\":\"overlay\",\"size\":10,\"solidity\":0.2}},\"type\":\"histogram\"}],\"scattergl\":[{\"type\":\"scattergl\",\"marker\":{\"colorbar\":{\"outlinewidth\":0,\"ticks\":\"\"}}}],\"scatter3d\":[{\"type\":\"scatter3d\",\"line\":{\"colorbar\":{\"outlinewidth\":0,\"ticks\":\"\"}},\"marker\":{\"colorbar\":{\"outlinewidth\":0,\"ticks\":\"\"}}}],\"scattermapbox\":[{\"type\":\"scattermapbox\",\"marker\":{\"colorbar\":{\"outlinewidth\":0,\"ticks\":\"\"}}}],\"scatterternary\":[{\"type\":\"scatterternary\",\"marker\":{\"colorbar\":{\"outlinewidth\":0,\"ticks\":\"\"}}}],\"scattercarpet\":[{\"type\":\"scattercarpet\",\"marker\":{\"colorbar\":{\"outlinewidth\":0,\"ticks\":\"\"}}}],\"carpet\":[{\"aaxis\":{\"endlinecolor\":\"#2a3f5f\",\"gridcolor\":\"white\",\"linecolor\":\"white\",\"minorgridcolor\":\"white\",\"startlinecolor\":\"#2a3f5f\"},\"baxis\":{\"endlinecolor\":\"#2a3f5f\",\"gridcolor\":\"white\",\"linecolor\":\"white\",\"minorgridcolor\":\"white\",\"startlinecolor\":\"#2a3f5f\"},\"type\":\"carpet\"}],\"table\":[{\"cells\":{\"fill\":{\"color\":\"#EBF0F8\"},\"line\":{\"color\":\"white\"}},\"header\":{\"fill\":{\"color\":\"#C8D4E3\"},\"line\":{\"color\":\"white\"}},\"type\":\"table\"}],\"barpolar\":[{\"marker\":{\"line\":{\"color\":\"#E5ECF6\",\"width\":0.5},\"pattern\":{\"fillmode\":\"overlay\",\"size\":10,\"solidity\":0.2}},\"type\":\"barpolar\"}],\"pie\":[{\"automargin\":true,\"type\":\"pie\"}]},\"layout\":{\"autotypenumbers\":\"strict\",\"colorway\":[\"#636efa\",\"#EF553B\",\"#00cc96\",\"#ab63fa\",\"#FFA15A\",\"#19d3f3\",\"#FF6692\",\"#B6E880\",\"#FF97FF\",\"#FECB52\"],\"font\":{\"color\":\"#2a3f5f\"},\"hovermode\":\"closest\",\"hoverlabel\":{\"align\":\"left\"},\"paper_bgcolor\":\"white\",\"plot_bgcolor\":\"#E5ECF6\",\"polar\":{\"bgcolor\":\"#E5ECF6\",\"angularaxis\":{\"gridcolor\":\"white\",\"linecolor\":\"white\",\"ticks\":\"\"},\"radialaxis\":{\"gridcolor\":\"white\",\"linecolor\":\"white\",\"ticks\":\"\"}},\"ternary\":{\"bgcolor\":\"#E5ECF6\",\"aaxis\":{\"gridcolor\":\"white\",\"linecolor\":\"white\",\"ticks\":\"\"},\"baxis\":{\"gridcolor\":\"white\",\"linecolor\":\"white\",\"ticks\":\"\"},\"caxis\":{\"gridcolor\":\"white\",\"linecolor\":\"white\",\"ticks\":\"\"}},\"coloraxis\":{\"colorbar\":{\"outlinewidth\":0,\"ticks\":\"\"}},\"colorscale\":{\"sequential\":[[0.0,\"#0d0887\"],[0.1111111111111111,\"#46039f\"],[0.2222222222222222,\"#7201a8\"],[0.3333333333333333,\"#9c179e\"],[0.4444444444444444,\"#bd3786\"],[0.5555555555555556,\"#d8576b\"],[0.6666666666666666,\"#ed7953\"],[0.7777777777777778,\"#fb9f3a\"],[0.8888888888888888,\"#fdca26\"],[1.0,\"#f0f921\"]],\"sequentialminus\":[[0.0,\"#0d0887\"],[0.1111111111111111,\"#46039f\"],[0.2222222222222222,\"#7201a8\"],[0.3333333333333333,\"#9c179e\"],[0.4444444444444444,\"#bd3786\"],[0.5555555555555556,\"#d8576b\"],[0.6666666666666666,\"#ed7953\"],[0.7777777777777778,\"#fb9f3a\"],[0.8888888888888888,\"#fdca26\"],[1.0,\"#f0f921\"]],\"diverging\":[[0,\"#8e0152\"],[0.1,\"#c51b7d\"],[0.2,\"#de77ae\"],[0.3,\"#f1b6da\"],[0.4,\"#fde0ef\"],[0.5,\"#f7f7f7\"],[0.6,\"#e6f5d0\"],[0.7,\"#b8e186\"],[0.8,\"#7fbc41\"],[0.9,\"#4d9221\"],[1,\"#276419\"]]},\"xaxis\":{\"gridcolor\":\"white\",\"linecolor\":\"white\",\"ticks\":\"\",\"title\":{\"standoff\":15},\"zerolinecolor\":\"white\",\"automargin\":true,\"zerolinewidth\":2},\"yaxis\":{\"gridcolor\":\"white\",\"linecolor\":\"white\",\"ticks\":\"\",\"title\":{\"standoff\":15},\"zerolinecolor\":\"white\",\"automargin\":true,\"zerolinewidth\":2},\"scene\":{\"xaxis\":{\"backgroundcolor\":\"#E5ECF6\",\"gridcolor\":\"white\",\"linecolor\":\"white\",\"showbackground\":true,\"ticks\":\"\",\"zerolinecolor\":\"white\",\"gridwidth\":2},\"yaxis\":{\"backgroundcolor\":\"#E5ECF6\",\"gridcolor\":\"white\",\"linecolor\":\"white\",\"showbackground\":true,\"ticks\":\"\",\"zerolinecolor\":\"white\",\"gridwidth\":2},\"zaxis\":{\"backgroundcolor\":\"#E5ECF6\",\"gridcolor\":\"white\",\"linecolor\":\"white\",\"showbackground\":true,\"ticks\":\"\",\"zerolinecolor\":\"white\",\"gridwidth\":2}},\"shapedefaults\":{\"line\":{\"color\":\"#2a3f5f\"}},\"annotationdefaults\":{\"arrowcolor\":\"#2a3f5f\",\"arrowhead\":0,\"arrowwidth\":1},\"geo\":{\"bgcolor\":\"white\",\"landcolor\":\"#E5ECF6\",\"subunitcolor\":\"white\",\"showland\":true,\"showlakes\":true,\"lakecolor\":\"white\"},\"title\":{\"x\":0.05},\"mapbox\":{\"style\":\"light\"}}},\"xaxis\":{\"anchor\":\"y\",\"domain\":[0.0,1.0],\"title\":{\"text\":\"BIN_llh_eval\"}},\"yaxis\":{\"anchor\":\"x\",\"domain\":[0.0,1.0],\"title\":{\"text\":\"BIN_cross_lh_MK\"}},\"legend\":{\"tracegroupgap\":0},\"margin\":{\"t\":60}},                        {\"responsive\": true}                    ).then(function(){\n",
       "                            \n",
       "var gd = document.getElementById('5764313a-565b-4c65-a67a-3f1c99833ade');\n",
       "var x = new MutationObserver(function (mutations, observer) {{\n",
       "        var display = window.getComputedStyle(gd).display;\n",
       "        if (!display || display === 'none') {{\n",
       "            console.log([gd, 'removed!']);\n",
       "            Plotly.purge(gd);\n",
       "            observer.disconnect();\n",
       "        }}\n",
       "}});\n",
       "\n",
       "// Listen for the removal of the full notebook cells\n",
       "var notebookContainer = gd.closest('#notebook-container');\n",
       "if (notebookContainer) {{\n",
       "    x.observe(notebookContainer, {childList: true});\n",
       "}}\n",
       "\n",
       "// Listen for the clearing of the current output cell\n",
       "var outputEl = gd.closest('.output');\n",
       "if (outputEl) {{\n",
       "    x.observe(outputEl, {childList: true});\n",
       "}}\n",
       "\n",
       "                        })                };                });            </script>        </div>"
      ]
     },
     "metadata": {},
     "output_type": "display_data"
    },
    {
     "data": {
      "application/vnd.plotly.v1+json": {
       "config": {
        "plotlyServerURL": "https://plot.ly"
       },
       "data": [
        {
         "hovertemplate": "MK_llh_eval=%{x}<br>MK_cross_lh_GTR=%{y}<extra></extra>",
         "legendgroup": "",
         "marker": {
          "color": "#636efa",
          "symbol": "circle"
         },
         "mode": "markers",
         "name": "",
         "orientation": "v",
         "showlegend": false,
         "type": "scatter",
         "x": [
          -656.915675,
          -3132.778846,
          -1724.907015,
          -4817.688129,
          -129.922736,
          -340.647917,
          -208.08016,
          -1232.667894,
          -2215.732889,
          -1990.135065,
          -2759.752892,
          -4051.61643,
          -285.470959,
          -835.933706,
          -239.811977,
          -30.074019,
          -2883.623746,
          -98.168714,
          -1862.408401,
          -3309.9724,
          -3501.553025,
          -2833.421693,
          -522.778525,
          -314.490118,
          -243.307989,
          -4016.771066,
          -99.360222,
          -552.893316,
          -897.142379,
          -134.724362,
          -133.426372,
          -711.708251,
          -125.592276,
          -316.993245,
          -9275.033904,
          -2417.260933,
          -1315.643288,
          -10638.146526,
          -2398.631803,
          -869.91793,
          -4533.976689,
          -108.560011,
          -1679.611843,
          -204.082312,
          -197.222202,
          -306.029377,
          -279.320467,
          -2701.701936,
          -1554.704216,
          -145.587442,
          -3919.701457,
          -436.863413,
          -309.744088,
          -951.465286,
          -2672.006753,
          -4663.500443,
          -1132.987227,
          -378.30313,
          -1316.47012,
          -812.987065,
          -1659.652348,
          -6260.363845,
          -3366.168757,
          -300.243786,
          -3024.126197,
          -2116.076689,
          -1497.958348,
          -872.53714,
          -1241.448563,
          -430.137336,
          -4156.687379,
          -3325.93112,
          -5825.891459,
          -426.690278,
          -3402.438713,
          -11115.593642,
          -870.127369,
          -430.396289,
          -1990.135065,
          -3227.954026,
          -1930.131831,
          -93.694028,
          -7448.405228,
          -361.929758,
          -337.040289,
          -3222.070243,
          -2.772635,
          -984.891334,
          -176.591513,
          -675.143126,
          -2686.30103,
          -8227.694832,
          -297.318299,
          -858.598832,
          -910.468021,
          -766.135667,
          -6491.650126,
          -3596.554,
          -2096.447024,
          -395.602218,
          -5553.109779,
          -201.783033,
          -48.275536,
          -1329.403107,
          -1998.219424,
          -6257.534286,
          -354.513364,
          -718.64423,
          -411.965332,
          -891.57705,
          -141.404084,
          -460.228212,
          -3365.367777,
          -2441.964788,
          -7751.514909,
          -2989.193161,
          -1384.032769,
          -2962.197153,
          -7077.82403,
          -1751.274698,
          -251.358542,
          -11080.040185,
          -1681.371211,
          -1102.721834,
          -1391.558489,
          -361.761751,
          -10091.091963,
          -2411.030084,
          -6387.485977,
          -7559.202262,
          -341.309728,
          -428.24999,
          -73.134961,
          -3355.179153,
          -2018.8859,
          -383.820029,
          -2693.661715,
          -14392.113414,
          -488.464503,
          -548.232387,
          -1239.283706,
          -216.048841,
          -640.44225,
          -640.44225,
          -362.328865,
          -5780.838869,
          -1103.980553,
          -210.24896,
          -832.437364,
          -7071.127368,
          -931.327734,
          -6455.096159,
          -4271.513381,
          -191.842755,
          -10167.416464,
          -552.073847,
          -6743.646273,
          -7673.916384,
          -337.040289,
          -11156.455333,
          -589.665435,
          -782.510019,
          -292.173141,
          -5183.631492,
          -203.551877,
          -151.178309,
          -134.946853,
          -501.567953,
          -20447.897249,
          -401.664983,
          -2584.536304,
          -2690.802554,
          -1492.111065,
          -310.857138,
          -990.553901,
          -5457.191547,
          -82.169931,
          -358.197187,
          -725.999619,
          -291.791379,
          -368.527605,
          -7073.256304,
          -3525.675512,
          -2015.404508,
          -615.624184,
          -1998.219424,
          -793.332339,
          -5419.319069,
          -611.209835,
          -3607.581055,
          -2511.646871,
          -6559.261356,
          -342.028647,
          -1932.360096,
          -3185.140094,
          -212.351389,
          -10608.436278,
          -226.189176,
          -656.93297,
          -34.994367,
          -6399.191488,
          -45.571702,
          -549.963812,
          -401.355626,
          -610.58782,
          -1135.468358,
          -2041.918483,
          -1388.183244,
          -4522.87295,
          -3050.596734,
          -73.720076,
          -7031.237145,
          -268.814164,
          -288.756901,
          -114.699001,
          -2320.600133,
          -364.178208,
          -2788.092017,
          -399.861957,
          -4663.500443,
          -655.476261,
          -2028.628095,
          -1172.539217,
          -1241.285209,
          -3270.89827,
          -1227.384219,
          -1606.882529,
          -658.851634,
          -6879.612819,
          -958.714777,
          -1009.877262,
          -1434.254774,
          -2781.858836,
          -111.377568,
          -1279.344368,
          -194.125713,
          -314.490053,
          -142.968373,
          -665.5888,
          -727.044411,
          -907.686648,
          -200.5568,
          -3230.32402,
          -4153.171937,
          -5553.109779,
          -708.422037,
          -850.43677,
          -543.224702,
          -690.332812,
          -67.480455,
          -315.633026,
          -11127.554651,
          -2530.343683,
          -10952.929701,
          -7094.990345,
          -2792.258,
          -897.63066,
          -7665.765349,
          -1089.400008,
          -12216.33147,
          -2522.415468,
          -98.631779,
          -166.58278,
          -722.530363,
          -1182.771641,
          -7674.915661,
          -206.018137,
          -4460.914229,
          -510.51548,
          -756.164688,
          -3221.340668,
          -3841.022624,
          -153.473911,
          -3392.103438,
          -16900.672654,
          -143.806231,
          -265.770812,
          -111.705284,
          -6387.485977,
          -5633.528129,
          -599.938838,
          -3287.994209,
          -615.891727,
          -1556.592942,
          -807.363374,
          -1409.399274,
          -199.285819,
          -277.25476,
          -144.484426,
          -142.806098,
          -52.516169,
          -410.449332,
          -498.37869,
          -2736.646493,
          -2692.179753,
          -855.760278,
          -1331.594745,
          -149.300199,
          -2091.004097,
          -7545.00185,
          -142.51145,
          -405.152779,
          -234.131107,
          -6746.248875,
          -672.088316,
          -1455.638989,
          -2286.90823,
          -400.749624,
          -5407.374727,
          -3219.884261,
          -402.844503,
          -541.81979,
          -6828.683929,
          -1123.659323,
          -80.143415,
          -2605.43259,
          -682.098593,
          -5419.319069,
          -3528.986404,
          -5812.12735,
          -6465.272032,
          -1048.988531,
          -637.123171,
          -78.766084,
          -452.99019,
          -334.801858,
          -503.694125,
          -590.765986,
          -1931.064223,
          -2406.314564,
          -920.014877,
          -879.90052,
          -4582.067787,
          -2803.769515,
          -1709.45266,
          -7116.352749,
          -2005.978865,
          -2833.421693,
          -1104.357638,
          -1615.020672,
          -5752.174895,
          -4539.280711,
          -6928.425323,
          -3325.93086,
          -96.979714,
          -1366.937677,
          -6328.599918,
          -224.000298,
          -7132.732196,
          -1410.281905,
          -1405.940095,
          -107.926146,
          -299.76198,
          -742.066999,
          -23436.906448,
          -2783.805442,
          -490.287729,
          -1110.907653,
          -407.665562,
          -12810.633746,
          -2243.279333,
          -254.286182,
          -333.310016,
          -3294.394037,
          -1203.072798,
          -13974.852567,
          -4558.084801,
          -3341.117092,
          -14392.113414,
          -2220.799991,
          -6436.24526,
          -1430.544487
         ],
         "xaxis": "x",
         "y": [
          -546.310461,
          -2470.97364,
          -1285.91245,
          -3573.067639,
          -113.015201,
          -262.748131,
          -171.52687,
          -1040.040627,
          -1831.068177,
          -1223.075416,
          -1994.741764,
          -3010.741694,
          -215.900839,
          -546.028547,
          -211.357583,
          -28.110693,
          -2034.622815,
          -79.884562,
          -1329.247127,
          -2689.001269,
          -2436.698612,
          -1887.976282,
          -432.038279,
          -203.42988,
          -201.498019,
          -2984.591262,
          -80.778732,
          -515.663843,
          -777.671788,
          -119.790634,
          -102.596278,
          -578.473206,
          -105.014553,
          -187.187496,
          -6402.120707,
          -1588.468261,
          -992.589842,
          -7289.54381,
          -1575.759366,
          -780.6643,
          -3065.006926,
          -86.121015,
          -1318.22971,
          -153.356473,
          -178.326119,
          -249.964696,
          -157.525079,
          -2059.011992,
          -1213.611651,
          -114.151255,
          -2773.941626,
          -321.267573,
          -245.101387,
          -697.187941,
          -1762.786521,
          -3160.039262,
          -969.647403,
          -300.626773,
          -963.30196,
          -531.178809,
          -1272.718212,
          -4280.382984,
          -2275.33227,
          -163.498742,
          -2346.859277,
          -1544.86133,
          -1047.986874,
          -660.894633,
          -802.191627,
          -334.816368,
          -3273.450825,
          -2255.134136,
          -4066.927222,
          -349.206764,
          -2359.335523,
          -7666.982623,
          -698.786454,
          -363.311611,
          -1223.075416,
          -2230.179992,
          -1553.199546,
          -72.416187,
          -5458.756007,
          -303.695061,
          -262.598027,
          -2564.633847,
          -1.388338,
          -690.556488,
          -138.182852,
          -543.388783,
          -1825.247781,
          -5787.445226,
          -239.477074,
          -649.183779,
          -740.474062,
          -650.638063,
          -4474.237357,
          -2795.502842,
          -1605.740506,
          -309.849837,
          -4342.101386,
          -152.351386,
          -40.904789,
          -1131.774798,
          -1535.006997,
          -4319.065832,
          -296.51745,
          -544.241805,
          -275.250008,
          -671.824042,
          -104.1029,
          -388.791541,
          -2475.056829,
          -1603.992108,
          -5925.919605,
          -2026.234664,
          -992.318368,
          -2030.690365,
          -5874.893676,
          -1426.29166,
          -168.474588,
          -8456.02474,
          -1343.392368,
          -851.752638,
          -1061.090213,
          -241.373085,
          -7049.977678,
          -1584.732841,
          -4991.931986,
          -5597.124549,
          -237.05904,
          -340.014116,
          -57.003039,
          -2473.827646,
          -1555.113977,
          -326.308006,
          -2050.172872,
          -11343.703209,
          -412.270276,
          -439.157062,
          -989.319455,
          -189.812154,
          -508.445389,
          -508.445389,
          -302.654605,
          -4049.550158,
          -820.673665,
          -163.048464,
          -614.333852,
          -4856.544418,
          -684.079018,
          -4154.685026,
          -2991.798951,
          -169.917918,
          -6973.359901,
          -365.405347,
          -4653.939811,
          -5989.973506,
          -262.598027,
          -7668.854767,
          -377.780619,
          -518.224493,
          -159.524282,
          -3618.763825,
          -152.01469,
          -129.647861,
          -113.422159,
          -396.136916,
          -15983.852877,
          -207.755003,
          -1979.150365,
          -2075.460449,
          -1135.680181,
          -245.253325,
          -752.74381,
          -4072.582488,
          -60.419594,
          -279.661489,
          -570.03637,
          -158.969522,
          -282.203063,
          -5396.192462,
          -2823.265432,
          -1491.822697,
          -427.601722,
          -1535.006997,
          -496.846761,
          -3998.866202,
          -420.637991,
          -2886.149762,
          -1996.330208,
          -5091.686369,
          -266.971521,
          -1430.158374,
          -2530.725897,
          -131.511485,
          -7298.841537,
          -180.428488,
          -591.521984,
          -32.008211,
          -4717.904753,
          -38.081356,
          -409.375018,
          -314.427368,
          -421.978842,
          -861.858042,
          -1586.615605,
          -1005.142912,
          -3349.67678,
          -2400.194388,
          -64.658877,
          -5354.421261,
          -211.446521,
          -237.891459,
          -94.599948,
          -1985.522004,
          -225.847037,
          -1889.756018,
          -328.457917,
          -3160.039262,
          -468.217544,
          -1386.842595,
          -752.111285,
          -989.637199,
          -2042.808443,
          -1024.240028,
          -1162.685522,
          -527.770418,
          -4771.864855,
          -761.531344,
          -802.632193,
          -909.84209,
          -2197.955796,
          -94.375312,
          -965.646943,
          -144.381324,
          -256.914947,
          -122.097919,
          -597.519288,
          -581.551458,
          -717.470519,
          -152.132903,
          -2594.800567,
          -3553.161446,
          -4342.101386,
          -569.150174,
          -695.586244,
          -417.45892,
          -540.714146,
          -53.944612,
          -231.00227,
          -7396.212741,
          -1677.533563,
          -7279.740174,
          -5235.770373,
          -2205.24067,
          -570.524853,
          -5858.298942,
          -820.96854,
          -11016.291532,
          -1662.880703,
          -85.456089,
          -119.183246,
          -572.873642,
          -748.579981,
          -5791.39326,
          -106.370112,
          -3632.225783,
          -410.099834,
          -544.969737,
          -2446.859648,
          -2479.635986,
          -152.998843,
          -2298.276838,
          -12762.088254,
          -116.413563,
          -234.887736,
          -89.423196,
          -4991.931986,
          -4140.941761,
          -490.887572,
          -2310.517832,
          -476.197026,
          -1133.890228,
          -520.861954,
          -966.535566,
          -170.235952,
          -231.381025,
          -120.822057,
          -132.038461,
          -41.763218,
          -342.968602,
          -386.594188,
          -1919.348822,
          -2161.034506,
          -625.110631,
          -1142.051744,
          -124.561357,
          -1503.929809,
          -5768.522694,
          -123.443663,
          -316.17598,
          -204.663141,
          -5519.871405,
          -542.244292,
          -1052.057651,
          -1485.183241,
          -289.634057,
          -3785.045811,
          -2565.533726,
          -318.697999,
          -400.850793,
          -4692.386872,
          -900.095947,
          -65.118616,
          -1726.910392,
          -554.495025,
          -3998.866202,
          -2401.244658,
          -4059.918561,
          -4450.472557,
          -789.284495,
          -504.662158,
          -68.326206,
          -377.920143,
          -268.794095,
          -324.256439,
          -428.929467,
          -1370.09214,
          -2055.492344,
          -713.287853,
          -656.936449,
          -3101.45915,
          -2040.131886,
          -1203.059363,
          -4906.22389,
          -1541.615992,
          -1887.976282,
          -874.181181,
          -1132.824218,
          -4031.860864,
          -3768.096298,
          -4832.557359,
          -2255.130353,
          -72.608891,
          -1172.42057,
          -4386.836127,
          -178.303055,
          -5262.586229,
          -964.662651,
          -969.505895,
          -85.171788,
          -199.677876,
          -499.9184,
          -14978.475916,
          -2205.482806,
          -396.007656,
          -731.090952,
          -338.144057,
          -8603.869104,
          -1825.366573,
          -168.460296,
          -193.930684,
          -2367.805905,
          -886.749234,
          -9706.706123,
          -3085.274776,
          -2664.877237,
          -11343.703209,
          -1878.986688,
          -4875.686877,
          -986.968055
         ],
         "yaxis": "y"
        }
       ],
       "layout": {
        "legend": {
         "tracegroupgap": 0
        },
        "margin": {
         "t": 60
        },
        "template": {
         "data": {
          "bar": [
           {
            "error_x": {
             "color": "#2a3f5f"
            },
            "error_y": {
             "color": "#2a3f5f"
            },
            "marker": {
             "line": {
              "color": "#E5ECF6",
              "width": 0.5
             },
             "pattern": {
              "fillmode": "overlay",
              "size": 10,
              "solidity": 0.2
             }
            },
            "type": "bar"
           }
          ],
          "barpolar": [
           {
            "marker": {
             "line": {
              "color": "#E5ECF6",
              "width": 0.5
             },
             "pattern": {
              "fillmode": "overlay",
              "size": 10,
              "solidity": 0.2
             }
            },
            "type": "barpolar"
           }
          ],
          "carpet": [
           {
            "aaxis": {
             "endlinecolor": "#2a3f5f",
             "gridcolor": "white",
             "linecolor": "white",
             "minorgridcolor": "white",
             "startlinecolor": "#2a3f5f"
            },
            "baxis": {
             "endlinecolor": "#2a3f5f",
             "gridcolor": "white",
             "linecolor": "white",
             "minorgridcolor": "white",
             "startlinecolor": "#2a3f5f"
            },
            "type": "carpet"
           }
          ],
          "choropleth": [
           {
            "colorbar": {
             "outlinewidth": 0,
             "ticks": ""
            },
            "type": "choropleth"
           }
          ],
          "contour": [
           {
            "colorbar": {
             "outlinewidth": 0,
             "ticks": ""
            },
            "colorscale": [
             [
              0,
              "#0d0887"
             ],
             [
              0.1111111111111111,
              "#46039f"
             ],
             [
              0.2222222222222222,
              "#7201a8"
             ],
             [
              0.3333333333333333,
              "#9c179e"
             ],
             [
              0.4444444444444444,
              "#bd3786"
             ],
             [
              0.5555555555555556,
              "#d8576b"
             ],
             [
              0.6666666666666666,
              "#ed7953"
             ],
             [
              0.7777777777777778,
              "#fb9f3a"
             ],
             [
              0.8888888888888888,
              "#fdca26"
             ],
             [
              1,
              "#f0f921"
             ]
            ],
            "type": "contour"
           }
          ],
          "contourcarpet": [
           {
            "colorbar": {
             "outlinewidth": 0,
             "ticks": ""
            },
            "type": "contourcarpet"
           }
          ],
          "heatmap": [
           {
            "colorbar": {
             "outlinewidth": 0,
             "ticks": ""
            },
            "colorscale": [
             [
              0,
              "#0d0887"
             ],
             [
              0.1111111111111111,
              "#46039f"
             ],
             [
              0.2222222222222222,
              "#7201a8"
             ],
             [
              0.3333333333333333,
              "#9c179e"
             ],
             [
              0.4444444444444444,
              "#bd3786"
             ],
             [
              0.5555555555555556,
              "#d8576b"
             ],
             [
              0.6666666666666666,
              "#ed7953"
             ],
             [
              0.7777777777777778,
              "#fb9f3a"
             ],
             [
              0.8888888888888888,
              "#fdca26"
             ],
             [
              1,
              "#f0f921"
             ]
            ],
            "type": "heatmap"
           }
          ],
          "heatmapgl": [
           {
            "colorbar": {
             "outlinewidth": 0,
             "ticks": ""
            },
            "colorscale": [
             [
              0,
              "#0d0887"
             ],
             [
              0.1111111111111111,
              "#46039f"
             ],
             [
              0.2222222222222222,
              "#7201a8"
             ],
             [
              0.3333333333333333,
              "#9c179e"
             ],
             [
              0.4444444444444444,
              "#bd3786"
             ],
             [
              0.5555555555555556,
              "#d8576b"
             ],
             [
              0.6666666666666666,
              "#ed7953"
             ],
             [
              0.7777777777777778,
              "#fb9f3a"
             ],
             [
              0.8888888888888888,
              "#fdca26"
             ],
             [
              1,
              "#f0f921"
             ]
            ],
            "type": "heatmapgl"
           }
          ],
          "histogram": [
           {
            "marker": {
             "pattern": {
              "fillmode": "overlay",
              "size": 10,
              "solidity": 0.2
             }
            },
            "type": "histogram"
           }
          ],
          "histogram2d": [
           {
            "colorbar": {
             "outlinewidth": 0,
             "ticks": ""
            },
            "colorscale": [
             [
              0,
              "#0d0887"
             ],
             [
              0.1111111111111111,
              "#46039f"
             ],
             [
              0.2222222222222222,
              "#7201a8"
             ],
             [
              0.3333333333333333,
              "#9c179e"
             ],
             [
              0.4444444444444444,
              "#bd3786"
             ],
             [
              0.5555555555555556,
              "#d8576b"
             ],
             [
              0.6666666666666666,
              "#ed7953"
             ],
             [
              0.7777777777777778,
              "#fb9f3a"
             ],
             [
              0.8888888888888888,
              "#fdca26"
             ],
             [
              1,
              "#f0f921"
             ]
            ],
            "type": "histogram2d"
           }
          ],
          "histogram2dcontour": [
           {
            "colorbar": {
             "outlinewidth": 0,
             "ticks": ""
            },
            "colorscale": [
             [
              0,
              "#0d0887"
             ],
             [
              0.1111111111111111,
              "#46039f"
             ],
             [
              0.2222222222222222,
              "#7201a8"
             ],
             [
              0.3333333333333333,
              "#9c179e"
             ],
             [
              0.4444444444444444,
              "#bd3786"
             ],
             [
              0.5555555555555556,
              "#d8576b"
             ],
             [
              0.6666666666666666,
              "#ed7953"
             ],
             [
              0.7777777777777778,
              "#fb9f3a"
             ],
             [
              0.8888888888888888,
              "#fdca26"
             ],
             [
              1,
              "#f0f921"
             ]
            ],
            "type": "histogram2dcontour"
           }
          ],
          "mesh3d": [
           {
            "colorbar": {
             "outlinewidth": 0,
             "ticks": ""
            },
            "type": "mesh3d"
           }
          ],
          "parcoords": [
           {
            "line": {
             "colorbar": {
              "outlinewidth": 0,
              "ticks": ""
             }
            },
            "type": "parcoords"
           }
          ],
          "pie": [
           {
            "automargin": true,
            "type": "pie"
           }
          ],
          "scatter": [
           {
            "fillpattern": {
             "fillmode": "overlay",
             "size": 10,
             "solidity": 0.2
            },
            "type": "scatter"
           }
          ],
          "scatter3d": [
           {
            "line": {
             "colorbar": {
              "outlinewidth": 0,
              "ticks": ""
             }
            },
            "marker": {
             "colorbar": {
              "outlinewidth": 0,
              "ticks": ""
             }
            },
            "type": "scatter3d"
           }
          ],
          "scattercarpet": [
           {
            "marker": {
             "colorbar": {
              "outlinewidth": 0,
              "ticks": ""
             }
            },
            "type": "scattercarpet"
           }
          ],
          "scattergeo": [
           {
            "marker": {
             "colorbar": {
              "outlinewidth": 0,
              "ticks": ""
             }
            },
            "type": "scattergeo"
           }
          ],
          "scattergl": [
           {
            "marker": {
             "colorbar": {
              "outlinewidth": 0,
              "ticks": ""
             }
            },
            "type": "scattergl"
           }
          ],
          "scattermapbox": [
           {
            "marker": {
             "colorbar": {
              "outlinewidth": 0,
              "ticks": ""
             }
            },
            "type": "scattermapbox"
           }
          ],
          "scatterpolar": [
           {
            "marker": {
             "colorbar": {
              "outlinewidth": 0,
              "ticks": ""
             }
            },
            "type": "scatterpolar"
           }
          ],
          "scatterpolargl": [
           {
            "marker": {
             "colorbar": {
              "outlinewidth": 0,
              "ticks": ""
             }
            },
            "type": "scatterpolargl"
           }
          ],
          "scatterternary": [
           {
            "marker": {
             "colorbar": {
              "outlinewidth": 0,
              "ticks": ""
             }
            },
            "type": "scatterternary"
           }
          ],
          "surface": [
           {
            "colorbar": {
             "outlinewidth": 0,
             "ticks": ""
            },
            "colorscale": [
             [
              0,
              "#0d0887"
             ],
             [
              0.1111111111111111,
              "#46039f"
             ],
             [
              0.2222222222222222,
              "#7201a8"
             ],
             [
              0.3333333333333333,
              "#9c179e"
             ],
             [
              0.4444444444444444,
              "#bd3786"
             ],
             [
              0.5555555555555556,
              "#d8576b"
             ],
             [
              0.6666666666666666,
              "#ed7953"
             ],
             [
              0.7777777777777778,
              "#fb9f3a"
             ],
             [
              0.8888888888888888,
              "#fdca26"
             ],
             [
              1,
              "#f0f921"
             ]
            ],
            "type": "surface"
           }
          ],
          "table": [
           {
            "cells": {
             "fill": {
              "color": "#EBF0F8"
             },
             "line": {
              "color": "white"
             }
            },
            "header": {
             "fill": {
              "color": "#C8D4E3"
             },
             "line": {
              "color": "white"
             }
            },
            "type": "table"
           }
          ]
         },
         "layout": {
          "annotationdefaults": {
           "arrowcolor": "#2a3f5f",
           "arrowhead": 0,
           "arrowwidth": 1
          },
          "autotypenumbers": "strict",
          "coloraxis": {
           "colorbar": {
            "outlinewidth": 0,
            "ticks": ""
           }
          },
          "colorscale": {
           "diverging": [
            [
             0,
             "#8e0152"
            ],
            [
             0.1,
             "#c51b7d"
            ],
            [
             0.2,
             "#de77ae"
            ],
            [
             0.3,
             "#f1b6da"
            ],
            [
             0.4,
             "#fde0ef"
            ],
            [
             0.5,
             "#f7f7f7"
            ],
            [
             0.6,
             "#e6f5d0"
            ],
            [
             0.7,
             "#b8e186"
            ],
            [
             0.8,
             "#7fbc41"
            ],
            [
             0.9,
             "#4d9221"
            ],
            [
             1,
             "#276419"
            ]
           ],
           "sequential": [
            [
             0,
             "#0d0887"
            ],
            [
             0.1111111111111111,
             "#46039f"
            ],
            [
             0.2222222222222222,
             "#7201a8"
            ],
            [
             0.3333333333333333,
             "#9c179e"
            ],
            [
             0.4444444444444444,
             "#bd3786"
            ],
            [
             0.5555555555555556,
             "#d8576b"
            ],
            [
             0.6666666666666666,
             "#ed7953"
            ],
            [
             0.7777777777777778,
             "#fb9f3a"
            ],
            [
             0.8888888888888888,
             "#fdca26"
            ],
            [
             1,
             "#f0f921"
            ]
           ],
           "sequentialminus": [
            [
             0,
             "#0d0887"
            ],
            [
             0.1111111111111111,
             "#46039f"
            ],
            [
             0.2222222222222222,
             "#7201a8"
            ],
            [
             0.3333333333333333,
             "#9c179e"
            ],
            [
             0.4444444444444444,
             "#bd3786"
            ],
            [
             0.5555555555555556,
             "#d8576b"
            ],
            [
             0.6666666666666666,
             "#ed7953"
            ],
            [
             0.7777777777777778,
             "#fb9f3a"
            ],
            [
             0.8888888888888888,
             "#fdca26"
            ],
            [
             1,
             "#f0f921"
            ]
           ]
          },
          "colorway": [
           "#636efa",
           "#EF553B",
           "#00cc96",
           "#ab63fa",
           "#FFA15A",
           "#19d3f3",
           "#FF6692",
           "#B6E880",
           "#FF97FF",
           "#FECB52"
          ],
          "font": {
           "color": "#2a3f5f"
          },
          "geo": {
           "bgcolor": "white",
           "lakecolor": "white",
           "landcolor": "#E5ECF6",
           "showlakes": true,
           "showland": true,
           "subunitcolor": "white"
          },
          "hoverlabel": {
           "align": "left"
          },
          "hovermode": "closest",
          "mapbox": {
           "style": "light"
          },
          "paper_bgcolor": "white",
          "plot_bgcolor": "#E5ECF6",
          "polar": {
           "angularaxis": {
            "gridcolor": "white",
            "linecolor": "white",
            "ticks": ""
           },
           "bgcolor": "#E5ECF6",
           "radialaxis": {
            "gridcolor": "white",
            "linecolor": "white",
            "ticks": ""
           }
          },
          "scene": {
           "xaxis": {
            "backgroundcolor": "#E5ECF6",
            "gridcolor": "white",
            "gridwidth": 2,
            "linecolor": "white",
            "showbackground": true,
            "ticks": "",
            "zerolinecolor": "white"
           },
           "yaxis": {
            "backgroundcolor": "#E5ECF6",
            "gridcolor": "white",
            "gridwidth": 2,
            "linecolor": "white",
            "showbackground": true,
            "ticks": "",
            "zerolinecolor": "white"
           },
           "zaxis": {
            "backgroundcolor": "#E5ECF6",
            "gridcolor": "white",
            "gridwidth": 2,
            "linecolor": "white",
            "showbackground": true,
            "ticks": "",
            "zerolinecolor": "white"
           }
          },
          "shapedefaults": {
           "line": {
            "color": "#2a3f5f"
           }
          },
          "ternary": {
           "aaxis": {
            "gridcolor": "white",
            "linecolor": "white",
            "ticks": ""
           },
           "baxis": {
            "gridcolor": "white",
            "linecolor": "white",
            "ticks": ""
           },
           "bgcolor": "#E5ECF6",
           "caxis": {
            "gridcolor": "white",
            "linecolor": "white",
            "ticks": ""
           }
          },
          "title": {
           "x": 0.05
          },
          "xaxis": {
           "automargin": true,
           "gridcolor": "white",
           "linecolor": "white",
           "ticks": "",
           "title": {
            "standoff": 15
           },
           "zerolinecolor": "white",
           "zerolinewidth": 2
          },
          "yaxis": {
           "automargin": true,
           "gridcolor": "white",
           "linecolor": "white",
           "ticks": "",
           "title": {
            "standoff": 15
           },
           "zerolinecolor": "white",
           "zerolinewidth": 2
          }
         }
        },
        "xaxis": {
         "anchor": "y",
         "domain": [
          0,
          1
         ],
         "title": {
          "text": "MK_llh_eval"
         }
        },
        "yaxis": {
         "anchor": "x",
         "domain": [
          0,
          1
         ],
         "title": {
          "text": "MK_cross_lh_GTR"
         }
        }
       }
      },
      "text/html": [
       "<div>                            <div id=\"6df245af-90b4-4f68-94a8-1f00c28dd553\" class=\"plotly-graph-div\" style=\"height:525px; width:100%;\"></div>            <script type=\"text/javascript\">                require([\"plotly\"], function(Plotly) {                    window.PLOTLYENV=window.PLOTLYENV || {};                                    if (document.getElementById(\"6df245af-90b4-4f68-94a8-1f00c28dd553\")) {                    Plotly.newPlot(                        \"6df245af-90b4-4f68-94a8-1f00c28dd553\",                        [{\"hovertemplate\":\"MK_llh_eval=%{x}<br>MK_cross_lh_GTR=%{y}<extra></extra>\",\"legendgroup\":\"\",\"marker\":{\"color\":\"#636efa\",\"symbol\":\"circle\"},\"mode\":\"markers\",\"name\":\"\",\"orientation\":\"v\",\"showlegend\":false,\"x\":[-656.915675,-3132.778846,-1724.907015,-4817.688129,-129.922736,-340.647917,-208.08016,-1232.667894,-2215.732889,-1990.135065,-2759.752892,-4051.61643,-285.470959,-835.933706,-239.811977,-30.074019,-2883.623746,-98.168714,-1862.408401,-3309.9724,-3501.553025,-2833.421693,-522.778525,-314.490118,-243.307989,-4016.771066,-99.360222,-552.893316,-897.142379,-134.724362,-133.426372,-711.708251,-125.592276,-316.993245,-9275.033904,-2417.260933,-1315.643288,-10638.146526,-2398.631803,-869.91793,-4533.976689,-108.560011,-1679.611843,-204.082312,-197.222202,-306.029377,-279.320467,-2701.701936,-1554.704216,-145.587442,-3919.701457,-436.863413,-309.744088,-951.465286,-2672.006753,-4663.500443,-1132.987227,-378.30313,-1316.47012,-812.987065,-1659.652348,-6260.363845,-3366.168757,-300.243786,-3024.126197,-2116.076689,-1497.958348,-872.53714,-1241.448563,-430.137336,-4156.687379,-3325.93112,-5825.891459,-426.690278,-3402.438713,-11115.593642,-870.127369,-430.396289,-1990.135065,-3227.954026,-1930.131831,-93.694028,-7448.405228,-361.929758,-337.040289,-3222.070243,-2.772635,-984.891334,-176.591513,-675.143126,-2686.30103,-8227.694832,-297.318299,-858.598832,-910.468021,-766.135667,-6491.650126,-3596.554,-2096.447024,-395.602218,-5553.109779,-201.783033,-48.275536,-1329.403107,-1998.219424,-6257.534286,-354.513364,-718.64423,-411.965332,-891.57705,-141.404084,-460.228212,-3365.367777,-2441.964788,-7751.514909,-2989.193161,-1384.032769,-2962.197153,-7077.82403,-1751.274698,-251.358542,-11080.040185,-1681.371211,-1102.721834,-1391.558489,-361.761751,-10091.091963,-2411.030084,-6387.485977,-7559.202262,-341.309728,-428.24999,-73.134961,-3355.179153,-2018.8859,-383.820029,-2693.661715,-14392.113414,-488.464503,-548.232387,-1239.283706,-216.048841,-640.44225,-640.44225,-362.328865,-5780.838869,-1103.980553,-210.24896,-832.437364,-7071.127368,-931.327734,-6455.096159,-4271.513381,-191.842755,-10167.416464,-552.073847,-6743.646273,-7673.916384,-337.040289,-11156.455333,-589.665435,-782.510019,-292.173141,-5183.631492,-203.551877,-151.178309,-134.946853,-501.567953,-20447.897249,-401.664983,-2584.536304,-2690.802554,-1492.111065,-310.857138,-990.553901,-5457.191547,-82.169931,-358.197187,-725.999619,-291.791379,-368.527605,-7073.256304,-3525.675512,-2015.404508,-615.624184,-1998.219424,-793.332339,-5419.319069,-611.209835,-3607.581055,-2511.646871,-6559.261356,-342.028647,-1932.360096,-3185.140094,-212.351389,-10608.436278,-226.189176,-656.93297,-34.994367,-6399.191488,-45.571702,-549.963812,-401.355626,-610.58782,-1135.468358,-2041.918483,-1388.183244,-4522.87295,-3050.596734,-73.720076,-7031.237145,-268.814164,-288.756901,-114.699001,-2320.600133,-364.178208,-2788.092017,-399.861957,-4663.500443,-655.476261,-2028.628095,-1172.539217,-1241.285209,-3270.89827,-1227.384219,-1606.882529,-658.851634,-6879.612819,-958.714777,-1009.877262,-1434.254774,-2781.858836,-111.377568,-1279.344368,-194.125713,-314.490053,-142.968373,-665.5888,-727.044411,-907.686648,-200.5568,-3230.32402,-4153.171937,-5553.109779,-708.422037,-850.43677,-543.224702,-690.332812,-67.480455,-315.633026,-11127.554651,-2530.343683,-10952.929701,-7094.990345,-2792.258,-897.63066,-7665.765349,-1089.400008,-12216.33147,-2522.415468,-98.631779,-166.58278,-722.530363,-1182.771641,-7674.915661,-206.018137,-4460.914229,-510.51548,-756.164688,-3221.340668,-3841.022624,-153.473911,-3392.103438,-16900.672654,-143.806231,-265.770812,-111.705284,-6387.485977,-5633.528129,-599.938838,-3287.994209,-615.891727,-1556.592942,-807.363374,-1409.399274,-199.285819,-277.25476,-144.484426,-142.806098,-52.516169,-410.449332,-498.37869,-2736.646493,-2692.179753,-855.760278,-1331.594745,-149.300199,-2091.004097,-7545.00185,-142.51145,-405.152779,-234.131107,-6746.248875,-672.088316,-1455.638989,-2286.90823,-400.749624,-5407.374727,-3219.884261,-402.844503,-541.81979,-6828.683929,-1123.659323,-80.143415,-2605.43259,-682.098593,-5419.319069,-3528.986404,-5812.12735,-6465.272032,-1048.988531,-637.123171,-78.766084,-452.99019,-334.801858,-503.694125,-590.765986,-1931.064223,-2406.314564,-920.014877,-879.90052,-4582.067787,-2803.769515,-1709.45266,-7116.352749,-2005.978865,-2833.421693,-1104.357638,-1615.020672,-5752.174895,-4539.280711,-6928.425323,-3325.93086,-96.979714,-1366.937677,-6328.599918,-224.000298,-7132.732196,-1410.281905,-1405.940095,-107.926146,-299.76198,-742.066999,-23436.906448,-2783.805442,-490.287729,-1110.907653,-407.665562,-12810.633746,-2243.279333,-254.286182,-333.310016,-3294.394037,-1203.072798,-13974.852567,-4558.084801,-3341.117092,-14392.113414,-2220.799991,-6436.24526,-1430.544487],\"xaxis\":\"x\",\"y\":[-546.310461,-2470.97364,-1285.91245,-3573.067639,-113.015201,-262.748131,-171.52687,-1040.040627,-1831.068177,-1223.075416,-1994.741764,-3010.741694,-215.900839,-546.028547,-211.357583,-28.110693,-2034.622815,-79.884562,-1329.247127,-2689.001269,-2436.698612,-1887.976282,-432.038279,-203.42988,-201.498019,-2984.591262,-80.778732,-515.663843,-777.671788,-119.790634,-102.596278,-578.473206,-105.014553,-187.187496,-6402.120707,-1588.468261,-992.589842,-7289.54381,-1575.759366,-780.6643,-3065.006926,-86.121015,-1318.22971,-153.356473,-178.326119,-249.964696,-157.525079,-2059.011992,-1213.611651,-114.151255,-2773.941626,-321.267573,-245.101387,-697.187941,-1762.786521,-3160.039262,-969.647403,-300.626773,-963.30196,-531.178809,-1272.718212,-4280.382984,-2275.33227,-163.498742,-2346.859277,-1544.86133,-1047.986874,-660.894633,-802.191627,-334.816368,-3273.450825,-2255.134136,-4066.927222,-349.206764,-2359.335523,-7666.982623,-698.786454,-363.311611,-1223.075416,-2230.179992,-1553.199546,-72.416187,-5458.756007,-303.695061,-262.598027,-2564.633847,-1.388338,-690.556488,-138.182852,-543.388783,-1825.247781,-5787.445226,-239.477074,-649.183779,-740.474062,-650.638063,-4474.237357,-2795.502842,-1605.740506,-309.849837,-4342.101386,-152.351386,-40.904789,-1131.774798,-1535.006997,-4319.065832,-296.51745,-544.241805,-275.250008,-671.824042,-104.1029,-388.791541,-2475.056829,-1603.992108,-5925.919605,-2026.234664,-992.318368,-2030.690365,-5874.893676,-1426.29166,-168.474588,-8456.02474,-1343.392368,-851.752638,-1061.090213,-241.373085,-7049.977678,-1584.732841,-4991.931986,-5597.124549,-237.05904,-340.014116,-57.003039,-2473.827646,-1555.113977,-326.308006,-2050.172872,-11343.703209,-412.270276,-439.157062,-989.319455,-189.812154,-508.445389,-508.445389,-302.654605,-4049.550158,-820.673665,-163.048464,-614.333852,-4856.544418,-684.079018,-4154.685026,-2991.798951,-169.917918,-6973.359901,-365.405347,-4653.939811,-5989.973506,-262.598027,-7668.854767,-377.780619,-518.224493,-159.524282,-3618.763825,-152.01469,-129.647861,-113.422159,-396.136916,-15983.852877,-207.755003,-1979.150365,-2075.460449,-1135.680181,-245.253325,-752.74381,-4072.582488,-60.419594,-279.661489,-570.03637,-158.969522,-282.203063,-5396.192462,-2823.265432,-1491.822697,-427.601722,-1535.006997,-496.846761,-3998.866202,-420.637991,-2886.149762,-1996.330208,-5091.686369,-266.971521,-1430.158374,-2530.725897,-131.511485,-7298.841537,-180.428488,-591.521984,-32.008211,-4717.904753,-38.081356,-409.375018,-314.427368,-421.978842,-861.858042,-1586.615605,-1005.142912,-3349.67678,-2400.194388,-64.658877,-5354.421261,-211.446521,-237.891459,-94.599948,-1985.522004,-225.847037,-1889.756018,-328.457917,-3160.039262,-468.217544,-1386.842595,-752.111285,-989.637199,-2042.808443,-1024.240028,-1162.685522,-527.770418,-4771.864855,-761.531344,-802.632193,-909.84209,-2197.955796,-94.375312,-965.646943,-144.381324,-256.914947,-122.097919,-597.519288,-581.551458,-717.470519,-152.132903,-2594.800567,-3553.161446,-4342.101386,-569.150174,-695.586244,-417.45892,-540.714146,-53.944612,-231.00227,-7396.212741,-1677.533563,-7279.740174,-5235.770373,-2205.24067,-570.524853,-5858.298942,-820.96854,-11016.291532,-1662.880703,-85.456089,-119.183246,-572.873642,-748.579981,-5791.39326,-106.370112,-3632.225783,-410.099834,-544.969737,-2446.859648,-2479.635986,-152.998843,-2298.276838,-12762.088254,-116.413563,-234.887736,-89.423196,-4991.931986,-4140.941761,-490.887572,-2310.517832,-476.197026,-1133.890228,-520.861954,-966.535566,-170.235952,-231.381025,-120.822057,-132.038461,-41.763218,-342.968602,-386.594188,-1919.348822,-2161.034506,-625.110631,-1142.051744,-124.561357,-1503.929809,-5768.522694,-123.443663,-316.17598,-204.663141,-5519.871405,-542.244292,-1052.057651,-1485.183241,-289.634057,-3785.045811,-2565.533726,-318.697999,-400.850793,-4692.386872,-900.095947,-65.118616,-1726.910392,-554.495025,-3998.866202,-2401.244658,-4059.918561,-4450.472557,-789.284495,-504.662158,-68.326206,-377.920143,-268.794095,-324.256439,-428.929467,-1370.09214,-2055.492344,-713.287853,-656.936449,-3101.45915,-2040.131886,-1203.059363,-4906.22389,-1541.615992,-1887.976282,-874.181181,-1132.824218,-4031.860864,-3768.096298,-4832.557359,-2255.130353,-72.608891,-1172.42057,-4386.836127,-178.303055,-5262.586229,-964.662651,-969.505895,-85.171788,-199.677876,-499.9184,-14978.475916,-2205.482806,-396.007656,-731.090952,-338.144057,-8603.869104,-1825.366573,-168.460296,-193.930684,-2367.805905,-886.749234,-9706.706123,-3085.274776,-2664.877237,-11343.703209,-1878.986688,-4875.686877,-986.968055],\"yaxis\":\"y\",\"type\":\"scatter\"}],                        {\"template\":{\"data\":{\"histogram2dcontour\":[{\"type\":\"histogram2dcontour\",\"colorbar\":{\"outlinewidth\":0,\"ticks\":\"\"},\"colorscale\":[[0.0,\"#0d0887\"],[0.1111111111111111,\"#46039f\"],[0.2222222222222222,\"#7201a8\"],[0.3333333333333333,\"#9c179e\"],[0.4444444444444444,\"#bd3786\"],[0.5555555555555556,\"#d8576b\"],[0.6666666666666666,\"#ed7953\"],[0.7777777777777778,\"#fb9f3a\"],[0.8888888888888888,\"#fdca26\"],[1.0,\"#f0f921\"]]}],\"choropleth\":[{\"type\":\"choropleth\",\"colorbar\":{\"outlinewidth\":0,\"ticks\":\"\"}}],\"histogram2d\":[{\"type\":\"histogram2d\",\"colorbar\":{\"outlinewidth\":0,\"ticks\":\"\"},\"colorscale\":[[0.0,\"#0d0887\"],[0.1111111111111111,\"#46039f\"],[0.2222222222222222,\"#7201a8\"],[0.3333333333333333,\"#9c179e\"],[0.4444444444444444,\"#bd3786\"],[0.5555555555555556,\"#d8576b\"],[0.6666666666666666,\"#ed7953\"],[0.7777777777777778,\"#fb9f3a\"],[0.8888888888888888,\"#fdca26\"],[1.0,\"#f0f921\"]]}],\"heatmap\":[{\"type\":\"heatmap\",\"colorbar\":{\"outlinewidth\":0,\"ticks\":\"\"},\"colorscale\":[[0.0,\"#0d0887\"],[0.1111111111111111,\"#46039f\"],[0.2222222222222222,\"#7201a8\"],[0.3333333333333333,\"#9c179e\"],[0.4444444444444444,\"#bd3786\"],[0.5555555555555556,\"#d8576b\"],[0.6666666666666666,\"#ed7953\"],[0.7777777777777778,\"#fb9f3a\"],[0.8888888888888888,\"#fdca26\"],[1.0,\"#f0f921\"]]}],\"heatmapgl\":[{\"type\":\"heatmapgl\",\"colorbar\":{\"outlinewidth\":0,\"ticks\":\"\"},\"colorscale\":[[0.0,\"#0d0887\"],[0.1111111111111111,\"#46039f\"],[0.2222222222222222,\"#7201a8\"],[0.3333333333333333,\"#9c179e\"],[0.4444444444444444,\"#bd3786\"],[0.5555555555555556,\"#d8576b\"],[0.6666666666666666,\"#ed7953\"],[0.7777777777777778,\"#fb9f3a\"],[0.8888888888888888,\"#fdca26\"],[1.0,\"#f0f921\"]]}],\"contourcarpet\":[{\"type\":\"contourcarpet\",\"colorbar\":{\"outlinewidth\":0,\"ticks\":\"\"}}],\"contour\":[{\"type\":\"contour\",\"colorbar\":{\"outlinewidth\":0,\"ticks\":\"\"},\"colorscale\":[[0.0,\"#0d0887\"],[0.1111111111111111,\"#46039f\"],[0.2222222222222222,\"#7201a8\"],[0.3333333333333333,\"#9c179e\"],[0.4444444444444444,\"#bd3786\"],[0.5555555555555556,\"#d8576b\"],[0.6666666666666666,\"#ed7953\"],[0.7777777777777778,\"#fb9f3a\"],[0.8888888888888888,\"#fdca26\"],[1.0,\"#f0f921\"]]}],\"surface\":[{\"type\":\"surface\",\"colorbar\":{\"outlinewidth\":0,\"ticks\":\"\"},\"colorscale\":[[0.0,\"#0d0887\"],[0.1111111111111111,\"#46039f\"],[0.2222222222222222,\"#7201a8\"],[0.3333333333333333,\"#9c179e\"],[0.4444444444444444,\"#bd3786\"],[0.5555555555555556,\"#d8576b\"],[0.6666666666666666,\"#ed7953\"],[0.7777777777777778,\"#fb9f3a\"],[0.8888888888888888,\"#fdca26\"],[1.0,\"#f0f921\"]]}],\"mesh3d\":[{\"type\":\"mesh3d\",\"colorbar\":{\"outlinewidth\":0,\"ticks\":\"\"}}],\"scatter\":[{\"fillpattern\":{\"fillmode\":\"overlay\",\"size\":10,\"solidity\":0.2},\"type\":\"scatter\"}],\"parcoords\":[{\"type\":\"parcoords\",\"line\":{\"colorbar\":{\"outlinewidth\":0,\"ticks\":\"\"}}}],\"scatterpolargl\":[{\"type\":\"scatterpolargl\",\"marker\":{\"colorbar\":{\"outlinewidth\":0,\"ticks\":\"\"}}}],\"bar\":[{\"error_x\":{\"color\":\"#2a3f5f\"},\"error_y\":{\"color\":\"#2a3f5f\"},\"marker\":{\"line\":{\"color\":\"#E5ECF6\",\"width\":0.5},\"pattern\":{\"fillmode\":\"overlay\",\"size\":10,\"solidity\":0.2}},\"type\":\"bar\"}],\"scattergeo\":[{\"type\":\"scattergeo\",\"marker\":{\"colorbar\":{\"outlinewidth\":0,\"ticks\":\"\"}}}],\"scatterpolar\":[{\"type\":\"scatterpolar\",\"marker\":{\"colorbar\":{\"outlinewidth\":0,\"ticks\":\"\"}}}],\"histogram\":[{\"marker\":{\"pattern\":{\"fillmode\":\"overlay\",\"size\":10,\"solidity\":0.2}},\"type\":\"histogram\"}],\"scattergl\":[{\"type\":\"scattergl\",\"marker\":{\"colorbar\":{\"outlinewidth\":0,\"ticks\":\"\"}}}],\"scatter3d\":[{\"type\":\"scatter3d\",\"line\":{\"colorbar\":{\"outlinewidth\":0,\"ticks\":\"\"}},\"marker\":{\"colorbar\":{\"outlinewidth\":0,\"ticks\":\"\"}}}],\"scattermapbox\":[{\"type\":\"scattermapbox\",\"marker\":{\"colorbar\":{\"outlinewidth\":0,\"ticks\":\"\"}}}],\"scatterternary\":[{\"type\":\"scatterternary\",\"marker\":{\"colorbar\":{\"outlinewidth\":0,\"ticks\":\"\"}}}],\"scattercarpet\":[{\"type\":\"scattercarpet\",\"marker\":{\"colorbar\":{\"outlinewidth\":0,\"ticks\":\"\"}}}],\"carpet\":[{\"aaxis\":{\"endlinecolor\":\"#2a3f5f\",\"gridcolor\":\"white\",\"linecolor\":\"white\",\"minorgridcolor\":\"white\",\"startlinecolor\":\"#2a3f5f\"},\"baxis\":{\"endlinecolor\":\"#2a3f5f\",\"gridcolor\":\"white\",\"linecolor\":\"white\",\"minorgridcolor\":\"white\",\"startlinecolor\":\"#2a3f5f\"},\"type\":\"carpet\"}],\"table\":[{\"cells\":{\"fill\":{\"color\":\"#EBF0F8\"},\"line\":{\"color\":\"white\"}},\"header\":{\"fill\":{\"color\":\"#C8D4E3\"},\"line\":{\"color\":\"white\"}},\"type\":\"table\"}],\"barpolar\":[{\"marker\":{\"line\":{\"color\":\"#E5ECF6\",\"width\":0.5},\"pattern\":{\"fillmode\":\"overlay\",\"size\":10,\"solidity\":0.2}},\"type\":\"barpolar\"}],\"pie\":[{\"automargin\":true,\"type\":\"pie\"}]},\"layout\":{\"autotypenumbers\":\"strict\",\"colorway\":[\"#636efa\",\"#EF553B\",\"#00cc96\",\"#ab63fa\",\"#FFA15A\",\"#19d3f3\",\"#FF6692\",\"#B6E880\",\"#FF97FF\",\"#FECB52\"],\"font\":{\"color\":\"#2a3f5f\"},\"hovermode\":\"closest\",\"hoverlabel\":{\"align\":\"left\"},\"paper_bgcolor\":\"white\",\"plot_bgcolor\":\"#E5ECF6\",\"polar\":{\"bgcolor\":\"#E5ECF6\",\"angularaxis\":{\"gridcolor\":\"white\",\"linecolor\":\"white\",\"ticks\":\"\"},\"radialaxis\":{\"gridcolor\":\"white\",\"linecolor\":\"white\",\"ticks\":\"\"}},\"ternary\":{\"bgcolor\":\"#E5ECF6\",\"aaxis\":{\"gridcolor\":\"white\",\"linecolor\":\"white\",\"ticks\":\"\"},\"baxis\":{\"gridcolor\":\"white\",\"linecolor\":\"white\",\"ticks\":\"\"},\"caxis\":{\"gridcolor\":\"white\",\"linecolor\":\"white\",\"ticks\":\"\"}},\"coloraxis\":{\"colorbar\":{\"outlinewidth\":0,\"ticks\":\"\"}},\"colorscale\":{\"sequential\":[[0.0,\"#0d0887\"],[0.1111111111111111,\"#46039f\"],[0.2222222222222222,\"#7201a8\"],[0.3333333333333333,\"#9c179e\"],[0.4444444444444444,\"#bd3786\"],[0.5555555555555556,\"#d8576b\"],[0.6666666666666666,\"#ed7953\"],[0.7777777777777778,\"#fb9f3a\"],[0.8888888888888888,\"#fdca26\"],[1.0,\"#f0f921\"]],\"sequentialminus\":[[0.0,\"#0d0887\"],[0.1111111111111111,\"#46039f\"],[0.2222222222222222,\"#7201a8\"],[0.3333333333333333,\"#9c179e\"],[0.4444444444444444,\"#bd3786\"],[0.5555555555555556,\"#d8576b\"],[0.6666666666666666,\"#ed7953\"],[0.7777777777777778,\"#fb9f3a\"],[0.8888888888888888,\"#fdca26\"],[1.0,\"#f0f921\"]],\"diverging\":[[0,\"#8e0152\"],[0.1,\"#c51b7d\"],[0.2,\"#de77ae\"],[0.3,\"#f1b6da\"],[0.4,\"#fde0ef\"],[0.5,\"#f7f7f7\"],[0.6,\"#e6f5d0\"],[0.7,\"#b8e186\"],[0.8,\"#7fbc41\"],[0.9,\"#4d9221\"],[1,\"#276419\"]]},\"xaxis\":{\"gridcolor\":\"white\",\"linecolor\":\"white\",\"ticks\":\"\",\"title\":{\"standoff\":15},\"zerolinecolor\":\"white\",\"automargin\":true,\"zerolinewidth\":2},\"yaxis\":{\"gridcolor\":\"white\",\"linecolor\":\"white\",\"ticks\":\"\",\"title\":{\"standoff\":15},\"zerolinecolor\":\"white\",\"automargin\":true,\"zerolinewidth\":2},\"scene\":{\"xaxis\":{\"backgroundcolor\":\"#E5ECF6\",\"gridcolor\":\"white\",\"linecolor\":\"white\",\"showbackground\":true,\"ticks\":\"\",\"zerolinecolor\":\"white\",\"gridwidth\":2},\"yaxis\":{\"backgroundcolor\":\"#E5ECF6\",\"gridcolor\":\"white\",\"linecolor\":\"white\",\"showbackground\":true,\"ticks\":\"\",\"zerolinecolor\":\"white\",\"gridwidth\":2},\"zaxis\":{\"backgroundcolor\":\"#E5ECF6\",\"gridcolor\":\"white\",\"linecolor\":\"white\",\"showbackground\":true,\"ticks\":\"\",\"zerolinecolor\":\"white\",\"gridwidth\":2}},\"shapedefaults\":{\"line\":{\"color\":\"#2a3f5f\"}},\"annotationdefaults\":{\"arrowcolor\":\"#2a3f5f\",\"arrowhead\":0,\"arrowwidth\":1},\"geo\":{\"bgcolor\":\"white\",\"landcolor\":\"#E5ECF6\",\"subunitcolor\":\"white\",\"showland\":true,\"showlakes\":true,\"lakecolor\":\"white\"},\"title\":{\"x\":0.05},\"mapbox\":{\"style\":\"light\"}}},\"xaxis\":{\"anchor\":\"y\",\"domain\":[0.0,1.0],\"title\":{\"text\":\"MK_llh_eval\"}},\"yaxis\":{\"anchor\":\"x\",\"domain\":[0.0,1.0],\"title\":{\"text\":\"MK_cross_lh_GTR\"}},\"legend\":{\"tracegroupgap\":0},\"margin\":{\"t\":60}},                        {\"responsive\": true}                    ).then(function(){\n",
       "                            \n",
       "var gd = document.getElementById('6df245af-90b4-4f68-94a8-1f00c28dd553');\n",
       "var x = new MutationObserver(function (mutations, observer) {{\n",
       "        var display = window.getComputedStyle(gd).display;\n",
       "        if (!display || display === 'none') {{\n",
       "            console.log([gd, 'removed!']);\n",
       "            Plotly.purge(gd);\n",
       "            observer.disconnect();\n",
       "        }}\n",
       "}});\n",
       "\n",
       "// Listen for the removal of the full notebook cells\n",
       "var notebookContainer = gd.closest('#notebook-container');\n",
       "if (notebookContainer) {{\n",
       "    x.observe(notebookContainer, {childList: true});\n",
       "}}\n",
       "\n",
       "// Listen for the clearing of the current output cell\n",
       "var outputEl = gd.closest('.output');\n",
       "if (outputEl) {{\n",
       "    x.observe(outputEl, {childList: true});\n",
       "}}\n",
       "\n",
       "                        })                };                });            </script>        </div>"
      ]
     },
     "metadata": {},
     "output_type": "display_data"
    }
   ],
   "source": [
    "fig = px.scatter(df, x=\"BIN_llh_eval\", y=\"BIN_cross_lh_GTR\")\n",
    "fig.show()\n",
    "fig = px.scatter(df, x=\"BIN_llh_eval\", y=\"BIN_cross_lh_MK\")\n",
    "fig.show()\n",
    "fig = px.scatter(df, x=\"MK_llh_eval\", y=\"MK_cross_lh_GTR\")\n",
    "fig.show()"
   ]
  },
  {
   "cell_type": "code",
   "execution_count": 29,
   "id": "0d6a3147",
   "metadata": {},
   "outputs": [
    {
     "data": {
      "application/vnd.plotly.v1+json": {
       "config": {
        "plotlyServerURL": "https://plot.ly"
       },
       "data": [
        {
         "hovertemplate": "GTR_cross_lh_MK=%{x}<br>GTR_cross_diff_MK=%{y}<extra></extra>",
         "legendgroup": "",
         "marker": {
          "color": "#636efa",
          "symbol": "circle"
         },
         "mode": "markers",
         "name": "",
         "orientation": "v",
         "showlegend": false,
         "type": "scatter",
         "x": [
          -546.310461,
          -2470.97364,
          -1285.91245,
          -3573.067639,
          -113.015201,
          -262.748131,
          -171.52687,
          -1040.040627,
          -1831.068177,
          -1223.075416,
          -1994.741764,
          -3010.741694,
          -215.900839,
          -546.028547,
          -211.357583,
          -28.110693,
          -2034.622815,
          -79.884562,
          -1329.247127,
          -2689.001269,
          -2436.698612,
          -1887.976282,
          -432.038279,
          -203.42988,
          -201.498019,
          -2984.591262,
          -80.778732,
          -515.663843,
          -777.671788,
          -119.790634,
          -102.596278,
          -578.473206,
          -105.014553,
          -187.187496,
          -6402.120707,
          -1588.468261,
          -992.589842,
          -7289.54381,
          -1575.759366,
          -780.6643,
          -3065.006926,
          -86.121015,
          -1318.22971,
          -153.356473,
          -178.326119,
          -249.964696,
          -157.525079,
          -2059.011992,
          -1213.611651,
          -114.151255,
          -2773.941626,
          -321.267573,
          -245.101387,
          -697.187941,
          -1762.786521,
          -3160.039262,
          -969.647403,
          -300.626773,
          -963.30196,
          -531.178809,
          -1272.718212,
          -4280.382984,
          -2275.33227,
          -163.498742,
          -2346.859277,
          -1544.86133,
          -1047.986874,
          -660.894633,
          -802.191627,
          -334.816368,
          -3273.450825,
          -2255.134136,
          -4066.927222,
          -349.206764,
          -2359.335523,
          -7666.982623,
          -698.786454,
          -363.311611,
          -1223.075416,
          -2230.179992,
          -1553.199546,
          -72.416187,
          -5458.756007,
          -303.695061,
          -262.598027,
          -2564.633847,
          -1.388338,
          -690.556488,
          -138.182852,
          -543.388783,
          -1825.247781,
          -5787.445226,
          -239.477074,
          -649.183779,
          -740.474062,
          -650.638063,
          -4474.237357,
          -2795.502842,
          -1605.740506,
          -309.849837,
          -4342.101386,
          -152.351386,
          -40.904789,
          -1131.774798,
          -1535.006997,
          -4319.065832,
          -296.51745,
          -544.241805,
          -275.250008,
          -671.824042,
          -104.1029,
          -388.791541,
          -2475.056829,
          -1603.992108,
          -5925.919605,
          -2026.234664,
          -992.318368,
          -2030.690365,
          -5874.893676,
          -1426.29166,
          -168.474588,
          -8456.02474,
          -1343.392368,
          -851.752638,
          -1061.090213,
          -241.373085,
          -7049.977678,
          -1584.732841,
          -4991.931986,
          -5597.124549,
          -237.05904,
          -340.014116,
          -57.003039,
          -2473.827646,
          -1555.113977,
          -326.308006,
          -2050.172872,
          -11343.703209,
          -412.270276,
          -439.157062,
          -989.319455,
          -189.812154,
          -508.445389,
          -508.445389,
          -302.654605,
          -4049.550158,
          -820.673665,
          -163.048464,
          -614.333852,
          -4856.544418,
          -684.079018,
          -4154.685026,
          -2991.798951,
          -169.917918,
          -6973.359901,
          -365.405347,
          -4653.939811,
          -5989.973506,
          -262.598027,
          -7668.854767,
          -377.780619,
          -518.224493,
          -159.524282,
          -3618.763825,
          -152.01469,
          -129.647861,
          -113.422159,
          -396.136916,
          -15983.852877,
          -207.755003,
          -1979.150365,
          -2075.460449,
          -1135.680181,
          -245.253325,
          -752.74381,
          -4072.582488,
          -60.419594,
          -279.661489,
          -570.03637,
          -158.969522,
          -282.203063,
          -5396.192462,
          -2823.265432,
          -1491.822697,
          -427.601722,
          -1535.006997,
          -496.846761,
          -3998.866202,
          -420.637991,
          -2886.149762,
          -1996.330208,
          -5091.686369,
          -266.971521,
          -1430.158374,
          -2530.725897,
          -131.511485,
          -7298.841537,
          -180.428488,
          -591.521984,
          -32.008211,
          -4717.904753,
          -38.081356,
          -409.375018,
          -314.427368,
          -421.978842,
          -861.858042,
          -1586.615605,
          -1005.142912,
          -3349.67678,
          -2400.194388,
          -64.658877,
          -5354.421261,
          -211.446521,
          -237.891459,
          -94.599948,
          -1985.522004,
          -225.847037,
          -1889.756018,
          -328.457917,
          -3160.039262,
          -468.217544,
          -1386.842595,
          -752.111285,
          -989.637199,
          -2042.808443,
          -1024.240028,
          -1162.685522,
          -527.770418,
          -4771.864855,
          -761.531344,
          -802.632193,
          -909.84209,
          -2197.955796,
          -94.375312,
          -965.646943,
          -144.381324,
          -256.914947,
          -122.097919,
          -597.519288,
          -581.551458,
          -717.470519,
          -152.132903,
          -2594.800567,
          -3553.161446,
          -4342.101386,
          -569.150174,
          -695.586244,
          -417.45892,
          -540.714146,
          -53.944612,
          -231.00227,
          -7396.212741,
          -1677.533563,
          -7279.740174,
          -5235.770373,
          -2205.24067,
          -570.524853,
          -5858.298942,
          -820.96854,
          -11016.291532,
          -1662.880703,
          -85.456089,
          -119.183246,
          -572.873642,
          -748.579981,
          -5791.39326,
          -106.370112,
          -3632.225783,
          -410.099834,
          -544.969737,
          -2446.859648,
          -2479.635986,
          -152.998843,
          -2298.276838,
          -12762.088254,
          -116.413563,
          -234.887736,
          -89.423196,
          -4991.931986,
          -4140.941761,
          -490.887572,
          -2310.517832,
          -476.197026,
          -1133.890228,
          -520.861954,
          -966.535566,
          -170.235952,
          -231.381025,
          -120.822057,
          -132.038461,
          -41.763218,
          -342.968602,
          -386.594188,
          -1919.348822,
          -2161.034506,
          -625.110631,
          -1142.051744,
          -124.561357,
          -1503.929809,
          -5768.522694,
          -123.443663,
          -316.17598,
          -204.663141,
          -5519.871405,
          -542.244292,
          -1052.057651,
          -1485.183241,
          -289.634057,
          -3785.045811,
          -2565.533726,
          -318.697999,
          -400.850793,
          -4692.386872,
          -900.095947,
          -65.118616,
          -1726.910392,
          -554.495025,
          -3998.866202,
          -2401.244658,
          -4059.918561,
          -4450.472557,
          -789.284495,
          -504.662158,
          -68.326206,
          -377.920143,
          -268.794095,
          -324.256439,
          -428.929467,
          -1370.09214,
          -2055.492344,
          -713.287853,
          -656.936449,
          -3101.45915,
          -2040.131886,
          -1203.059363,
          -4906.22389,
          -1541.615992,
          -1887.976282,
          -874.181181,
          -1132.824218,
          -4031.860864,
          -3768.096298,
          -4832.557359,
          -2255.130353,
          -72.608891,
          -1172.42057,
          -4386.836127,
          -178.303055,
          -5262.586229,
          -964.662651,
          -969.505895,
          -85.171788,
          -199.677876,
          -499.9184,
          -14978.475916,
          -2205.482806,
          -396.007656,
          -731.090952,
          -338.144057,
          -8603.869104,
          -1825.366573,
          -168.460296,
          -193.930684,
          -2367.805905,
          -886.749234,
          -9706.706123,
          -3085.274776,
          -2664.877237,
          -11343.703209,
          -1878.986688,
          -4875.686877,
          -986.968055
         ],
         "xaxis": "x",
         "y": [
          -20.932618000000048,
          -36.8280920000002,
          -33.70509300000003,
          -40.923567999999705,
          -0.6461490000000083,
          -1.1220910000000117,
          -8.954318,
          -7.4678499999999985,
          -24.378221000000167,
          -28.56901999999991,
          -11.190226000000166,
          -32.19208200000003,
          -7.506529999999998,
          -5.0236340000000155,
          -2.9026039999999966,
          -0.9194620000000029,
          -43.731513999999834,
          0.13643199999999922,
          -44.88013599999999,
          -24.899947999999767,
          -25.893785000000207,
          -17.33824000000004,
          -7.047101999999995,
          -5.690025999999989,
          -5.132463999999999,
          -33.44426999999996,
          -0.811074000000005,
          -15.095623000000046,
          -4.354781000000003,
          -2.7259320000000002,
          -2.5349319999999977,
          -5.233786000000009,
          -7.790623000000011,
          -2.524723000000023,
          -64.03242599999976,
          -10.874191999999994,
          -9.424395000000004,
          -72.85468800000035,
          -10.654831999999942,
          -6.403962999999976,
          -16.174551000000065,
          -0.9588289999999944,
          -27.92461000000003,
          -8.969922999999994,
          -6.621584000000013,
          -8.136920000000003,
          -14.116206000000005,
          -20.996578000000227,
          -28.475280999999995,
          -0.30634300000001247,
          -83.52020399999992,
          -4.8645440000000235,
          -3.608296999999993,
          -5.374915999999985,
          -11.560735000000022,
          -16.69756499999994,
          -11.293242000000077,
          -0.779293999999993,
          -4.95261000000005,
          -11.516402999999968,
          -64.74903300000005,
          -37.0731310000001,
          -22.2931880000001,
          -3.236919999999998,
          -16.172977000000174,
          -11.833067000000028,
          -28.633374999999887,
          -5.277052000000026,
          -5.652563999999984,
          -17.169967999999983,
          -28.299003000000084,
          -23.825834000000214,
          -45.7119789999997,
          -0.9444900000000302,
          -21.288222000000133,
          -98.34922300000017,
          -7.655639000000065,
          -12.13067000000001,
          -28.56901999999991,
          -27.432544999999664,
          -9.142724000000044,
          -0.9372439999999926,
          -126.14402599999994,
          -5.307191999999986,
          -0.8092020000000275,
          -17.63377700000001,
          9.999999999177334e-07,
          -7.0921639999999115,
          -3.965993999999995,
          -19.185606000000007,
          -19.9900090000001,
          -27.370060000000194,
          -2.662633999999997,
          -11.410481000000004,
          -15.51861299999996,
          -17.328859999999963,
          -43.46917200000007,
          -23.328929999999673,
          -25.65858800000001,
          -10.217479999999966,
          -26.697307000000364,
          -3.4755150000000015,
          -0.09285100000000313,
          -7.346508999999969,
          -22.48443099999986,
          -47.84506400000009,
          -3.680536000000018,
          -2.5305829999999787,
          -13.435090000000002,
          -21.541653999999994,
          -7.643312000000009,
          -4.707732000000021,
          -16.25679900000023,
          -10.710593999999901,
          -40.680709000000206,
          -22.99679200000014,
          -8.647851999999943,
          -24.433138999999983,
          -39.05256399999962,
          -36.47234300000014,
          -7.809849000000014,
          -31.768066000000545,
          -16.644812,
          -12.51502000000005,
          -9.15341599999988,
          -1.0594890000000134,
          -78.18957599999976,
          -10.662180999999919,
          -26.25436499999978,
          -66.23379000000023,
          -11.768124999999998,
          -8.736868000000015,
          -0.7840910000000036,
          -22.764770000000226,
          -17.27812199999994,
          -3.8956079999999815,
          -18.693382000000156,
          -142.34594599999946,
          -1.9250750000000494,
          -9.418569999999988,
          -15.338510999999926,
          -2.235697999999985,
          -0.9708559999999693,
          -0.9708559999999693,
          -9.721222000000012,
          -53.1531759999998,
          -23.52239600000007,
          -3.058881999999983,
          -7.475821999999994,
          -40.850140000000465,
          -5.892654999999991,
          -69.11508099999992,
          -41.299205000000256,
          -2.5235359999999787,
          -69.39728500000001,
          -13.324483999999984,
          -54.36616200000026,
          -41.96849800000018,
          -0.8092020000000275,
          -70.547098,
          -8.596131000000014,
          -14.442738000000077,
          -4.985663999999986,
          -37.33589600000005,
          -1.0097299999999905,
          -9.82420900000001,
          -2.1068189999999873,
          -11.25344899999999,
          -24.72661599999992,
          -2.1673319999999876,
          -34.590950999999905,
          -15.818818000000192,
          -10.782674000000043,
          -2.7527299999999855,
          -27.049881000000028,
          -36.660639000000174,
          -0.8201409999999996,
          -11.225031999999999,
          -12.836176000000023,
          -3.3515580000000114,
          -7.569213999999988,
          -64.38527900000008,
          -16.262073000000328,
          -28.281132999999954,
          -6.122726999999998,
          -22.48443099999986,
          -13.625549000000035,
          -56.272435000000314,
          -7.671303000000023,
          -69.58413900000005,
          -31.498501000000033,
          -65.87586900000042,
          -1.1681239999999775,
          -20.93321100000003,
          -13.687199999999848,
          -0.5092159999999808,
          -72.41004500000054,
          -3.1500529999999856,
          -10.962871999999948,
          -1.3114550000000023,
          -60.5224589999998,
          -1.1763079999999988,
          -20.059654000000023,
          -4.273252000000014,
          -7.888959999999997,
          -6.594928999999979,
          -12.536759999999958,
          -7.463435000000004,
          -43.54480599999988,
          -35.59920899999997,
          -2.537868000000003,
          -60.23092900000029,
          -10.53231199999999,
          -6.327539000000002,
          -2.639780000000002,
          -27.216318999999885,
          -11.046507999999989,
          -20.764854000000014,
          -13.299453000000028,
          -16.69756499999994,
          -17.343795999999998,
          -23.841192000000092,
          -17.808373999999958,
          -13.711828999999966,
          -15.762477999999874,
          -30.24373099999991,
          -22.991792000000032,
          -19.01646299999993,
          -52.570168000000194,
          -12.733529999999973,
          -10.492657000000008,
          -37.00924299999997,
          -41.720408000000134,
          -0.8388519999999886,
          -9.967556999999942,
          -3.927182000000016,
          -7.952104999999989,
          -26.705528,
          -8.414713000000006,
          -4.137569999999982,
          -20.970636000000013,
          -4.082872000000009,
          -35.55656799999997,
          -31.249616999999944,
          -26.697307000000364,
          -1.0861400000000003,
          -28.429846999999995,
          -8.293908999999985,
          -4.176156999999989,
          -1.0726259999999996,
          -10.00105000000002,
          -81.31201800000053,
          -14.046370000000024,
          -88.31346199999916,
          -60.97811600000023,
          -9.38845100000026,
          -19.49714400000005,
          -40.726786000000175,
          -18.856690999999955,
          -5.875641999999061,
          -10.048216000000139,
          -0.9490760000000051,
          -0.27194299999999316,
          -6.187825999999973,
          -18.350068999999962,
          -51.23063499999989,
          -0.304064000000011,
          -65.510041,
          -7.232061999999985,
          -19.043000000000006,
          -16.782439000000068,
          -50.40927799999963,
          -20.383837,
          -28.372071000000233,
          -250.2608880000007,
          -5.3529279999999915,
          -1.785933,
          -1.3821379999999976,
          -26.25436499999978,
          -39.39934600000015,
          -13.454696999999953,
          -23.816111999999976,
          -13.278296000000012,
          -22.258460000000014,
          -10.654944999999941,
          -16.637012000000027,
          -5.8539829999999995,
          -4.1688159999999925,
          -9.616498000000007,
          -2.0637080000000196,
          -0.42113200000000006,
          -18.74367699999999,
          -1.676587999999981,
          -32.627396999999974,
          -14.548221000000012,
          -20.069727000000057,
          -3.77125500000011,
          -1.9679809999999947,
          -30.79764,
          -43.724999000000025,
          -6.190151999999998,
          -8.188550999999961,
          -3.379468000000003,
          -55.69140299999981,
          -19.469330000000014,
          -14.90494200000012,
          -20.556409999999914,
          -8.720209000000011,
          -38.859187999999904,
          -13.303539,
          -6.358069,
          -8.52993200000003,
          -47.153667999999925,
          -10.935784000000012,
          -1.4007100000000037,
          -9.925612000000001,
          -3.4401180000000977,
          -56.272435000000314,
          -32.23363100000006,
          -45.058828000000176,
          -47.26052600000003,
          -6.1807039999999915,
          -14.882484999999974,
          -2.820402999999999,
          -12.048577000000023,
          -10.682241000000033,
          -7.128554000000008,
          -4.820814999999982,
          -25.083086999999978,
          -6.744931999999608,
          -23.189239000000043,
          -27.61552000000006,
          -17.25151700000015,
          -23.828126999999995,
          -46.65223200000014,
          -41.54609400000027,
          -24.026022999999896,
          -17.33824000000004,
          -6.5817180000000235,
          -6.715108999999984,
          -52.49463400000013,
          -25.741993000000093,
          -38.41052600000057,
          -23.823115000000143,
          -2.346261999999996,
          -3.5399589999999534,
          -66.26749999999993,
          -1.290143999999998,
          -59.878999999999905,
          -16.282464000000004,
          -15.582221000000004,
          -0.5846599999999995,
          0.23566500000001156,
          -16.71937600000001,
          -150.42985899999985,
          -43.58415699999978,
          -0.7049729999999954,
          -13.419647000000055,
          -12.194983999999977,
          -166.41672199999994,
          -52.839668000000074,
          -5.553064000000006,
          -5.904977000000002,
          -21.13487000000032,
          -21.919182999999975,
          -76.1949139999997,
          -16.894091000000117,
          -13.828968000000259,
          -142.4132269999991,
          -4.042803999999933,
          -55.70162299999993,
          -45.41854000000001
         ],
         "yaxis": "y"
        }
       ],
       "layout": {
        "legend": {
         "tracegroupgap": 0
        },
        "margin": {
         "t": 60
        },
        "template": {
         "data": {
          "bar": [
           {
            "error_x": {
             "color": "#2a3f5f"
            },
            "error_y": {
             "color": "#2a3f5f"
            },
            "marker": {
             "line": {
              "color": "#E5ECF6",
              "width": 0.5
             },
             "pattern": {
              "fillmode": "overlay",
              "size": 10,
              "solidity": 0.2
             }
            },
            "type": "bar"
           }
          ],
          "barpolar": [
           {
            "marker": {
             "line": {
              "color": "#E5ECF6",
              "width": 0.5
             },
             "pattern": {
              "fillmode": "overlay",
              "size": 10,
              "solidity": 0.2
             }
            },
            "type": "barpolar"
           }
          ],
          "carpet": [
           {
            "aaxis": {
             "endlinecolor": "#2a3f5f",
             "gridcolor": "white",
             "linecolor": "white",
             "minorgridcolor": "white",
             "startlinecolor": "#2a3f5f"
            },
            "baxis": {
             "endlinecolor": "#2a3f5f",
             "gridcolor": "white",
             "linecolor": "white",
             "minorgridcolor": "white",
             "startlinecolor": "#2a3f5f"
            },
            "type": "carpet"
           }
          ],
          "choropleth": [
           {
            "colorbar": {
             "outlinewidth": 0,
             "ticks": ""
            },
            "type": "choropleth"
           }
          ],
          "contour": [
           {
            "colorbar": {
             "outlinewidth": 0,
             "ticks": ""
            },
            "colorscale": [
             [
              0,
              "#0d0887"
             ],
             [
              0.1111111111111111,
              "#46039f"
             ],
             [
              0.2222222222222222,
              "#7201a8"
             ],
             [
              0.3333333333333333,
              "#9c179e"
             ],
             [
              0.4444444444444444,
              "#bd3786"
             ],
             [
              0.5555555555555556,
              "#d8576b"
             ],
             [
              0.6666666666666666,
              "#ed7953"
             ],
             [
              0.7777777777777778,
              "#fb9f3a"
             ],
             [
              0.8888888888888888,
              "#fdca26"
             ],
             [
              1,
              "#f0f921"
             ]
            ],
            "type": "contour"
           }
          ],
          "contourcarpet": [
           {
            "colorbar": {
             "outlinewidth": 0,
             "ticks": ""
            },
            "type": "contourcarpet"
           }
          ],
          "heatmap": [
           {
            "colorbar": {
             "outlinewidth": 0,
             "ticks": ""
            },
            "colorscale": [
             [
              0,
              "#0d0887"
             ],
             [
              0.1111111111111111,
              "#46039f"
             ],
             [
              0.2222222222222222,
              "#7201a8"
             ],
             [
              0.3333333333333333,
              "#9c179e"
             ],
             [
              0.4444444444444444,
              "#bd3786"
             ],
             [
              0.5555555555555556,
              "#d8576b"
             ],
             [
              0.6666666666666666,
              "#ed7953"
             ],
             [
              0.7777777777777778,
              "#fb9f3a"
             ],
             [
              0.8888888888888888,
              "#fdca26"
             ],
             [
              1,
              "#f0f921"
             ]
            ],
            "type": "heatmap"
           }
          ],
          "heatmapgl": [
           {
            "colorbar": {
             "outlinewidth": 0,
             "ticks": ""
            },
            "colorscale": [
             [
              0,
              "#0d0887"
             ],
             [
              0.1111111111111111,
              "#46039f"
             ],
             [
              0.2222222222222222,
              "#7201a8"
             ],
             [
              0.3333333333333333,
              "#9c179e"
             ],
             [
              0.4444444444444444,
              "#bd3786"
             ],
             [
              0.5555555555555556,
              "#d8576b"
             ],
             [
              0.6666666666666666,
              "#ed7953"
             ],
             [
              0.7777777777777778,
              "#fb9f3a"
             ],
             [
              0.8888888888888888,
              "#fdca26"
             ],
             [
              1,
              "#f0f921"
             ]
            ],
            "type": "heatmapgl"
           }
          ],
          "histogram": [
           {
            "marker": {
             "pattern": {
              "fillmode": "overlay",
              "size": 10,
              "solidity": 0.2
             }
            },
            "type": "histogram"
           }
          ],
          "histogram2d": [
           {
            "colorbar": {
             "outlinewidth": 0,
             "ticks": ""
            },
            "colorscale": [
             [
              0,
              "#0d0887"
             ],
             [
              0.1111111111111111,
              "#46039f"
             ],
             [
              0.2222222222222222,
              "#7201a8"
             ],
             [
              0.3333333333333333,
              "#9c179e"
             ],
             [
              0.4444444444444444,
              "#bd3786"
             ],
             [
              0.5555555555555556,
              "#d8576b"
             ],
             [
              0.6666666666666666,
              "#ed7953"
             ],
             [
              0.7777777777777778,
              "#fb9f3a"
             ],
             [
              0.8888888888888888,
              "#fdca26"
             ],
             [
              1,
              "#f0f921"
             ]
            ],
            "type": "histogram2d"
           }
          ],
          "histogram2dcontour": [
           {
            "colorbar": {
             "outlinewidth": 0,
             "ticks": ""
            },
            "colorscale": [
             [
              0,
              "#0d0887"
             ],
             [
              0.1111111111111111,
              "#46039f"
             ],
             [
              0.2222222222222222,
              "#7201a8"
             ],
             [
              0.3333333333333333,
              "#9c179e"
             ],
             [
              0.4444444444444444,
              "#bd3786"
             ],
             [
              0.5555555555555556,
              "#d8576b"
             ],
             [
              0.6666666666666666,
              "#ed7953"
             ],
             [
              0.7777777777777778,
              "#fb9f3a"
             ],
             [
              0.8888888888888888,
              "#fdca26"
             ],
             [
              1,
              "#f0f921"
             ]
            ],
            "type": "histogram2dcontour"
           }
          ],
          "mesh3d": [
           {
            "colorbar": {
             "outlinewidth": 0,
             "ticks": ""
            },
            "type": "mesh3d"
           }
          ],
          "parcoords": [
           {
            "line": {
             "colorbar": {
              "outlinewidth": 0,
              "ticks": ""
             }
            },
            "type": "parcoords"
           }
          ],
          "pie": [
           {
            "automargin": true,
            "type": "pie"
           }
          ],
          "scatter": [
           {
            "fillpattern": {
             "fillmode": "overlay",
             "size": 10,
             "solidity": 0.2
            },
            "type": "scatter"
           }
          ],
          "scatter3d": [
           {
            "line": {
             "colorbar": {
              "outlinewidth": 0,
              "ticks": ""
             }
            },
            "marker": {
             "colorbar": {
              "outlinewidth": 0,
              "ticks": ""
             }
            },
            "type": "scatter3d"
           }
          ],
          "scattercarpet": [
           {
            "marker": {
             "colorbar": {
              "outlinewidth": 0,
              "ticks": ""
             }
            },
            "type": "scattercarpet"
           }
          ],
          "scattergeo": [
           {
            "marker": {
             "colorbar": {
              "outlinewidth": 0,
              "ticks": ""
             }
            },
            "type": "scattergeo"
           }
          ],
          "scattergl": [
           {
            "marker": {
             "colorbar": {
              "outlinewidth": 0,
              "ticks": ""
             }
            },
            "type": "scattergl"
           }
          ],
          "scattermapbox": [
           {
            "marker": {
             "colorbar": {
              "outlinewidth": 0,
              "ticks": ""
             }
            },
            "type": "scattermapbox"
           }
          ],
          "scatterpolar": [
           {
            "marker": {
             "colorbar": {
              "outlinewidth": 0,
              "ticks": ""
             }
            },
            "type": "scatterpolar"
           }
          ],
          "scatterpolargl": [
           {
            "marker": {
             "colorbar": {
              "outlinewidth": 0,
              "ticks": ""
             }
            },
            "type": "scatterpolargl"
           }
          ],
          "scatterternary": [
           {
            "marker": {
             "colorbar": {
              "outlinewidth": 0,
              "ticks": ""
             }
            },
            "type": "scatterternary"
           }
          ],
          "surface": [
           {
            "colorbar": {
             "outlinewidth": 0,
             "ticks": ""
            },
            "colorscale": [
             [
              0,
              "#0d0887"
             ],
             [
              0.1111111111111111,
              "#46039f"
             ],
             [
              0.2222222222222222,
              "#7201a8"
             ],
             [
              0.3333333333333333,
              "#9c179e"
             ],
             [
              0.4444444444444444,
              "#bd3786"
             ],
             [
              0.5555555555555556,
              "#d8576b"
             ],
             [
              0.6666666666666666,
              "#ed7953"
             ],
             [
              0.7777777777777778,
              "#fb9f3a"
             ],
             [
              0.8888888888888888,
              "#fdca26"
             ],
             [
              1,
              "#f0f921"
             ]
            ],
            "type": "surface"
           }
          ],
          "table": [
           {
            "cells": {
             "fill": {
              "color": "#EBF0F8"
             },
             "line": {
              "color": "white"
             }
            },
            "header": {
             "fill": {
              "color": "#C8D4E3"
             },
             "line": {
              "color": "white"
             }
            },
            "type": "table"
           }
          ]
         },
         "layout": {
          "annotationdefaults": {
           "arrowcolor": "#2a3f5f",
           "arrowhead": 0,
           "arrowwidth": 1
          },
          "autotypenumbers": "strict",
          "coloraxis": {
           "colorbar": {
            "outlinewidth": 0,
            "ticks": ""
           }
          },
          "colorscale": {
           "diverging": [
            [
             0,
             "#8e0152"
            ],
            [
             0.1,
             "#c51b7d"
            ],
            [
             0.2,
             "#de77ae"
            ],
            [
             0.3,
             "#f1b6da"
            ],
            [
             0.4,
             "#fde0ef"
            ],
            [
             0.5,
             "#f7f7f7"
            ],
            [
             0.6,
             "#e6f5d0"
            ],
            [
             0.7,
             "#b8e186"
            ],
            [
             0.8,
             "#7fbc41"
            ],
            [
             0.9,
             "#4d9221"
            ],
            [
             1,
             "#276419"
            ]
           ],
           "sequential": [
            [
             0,
             "#0d0887"
            ],
            [
             0.1111111111111111,
             "#46039f"
            ],
            [
             0.2222222222222222,
             "#7201a8"
            ],
            [
             0.3333333333333333,
             "#9c179e"
            ],
            [
             0.4444444444444444,
             "#bd3786"
            ],
            [
             0.5555555555555556,
             "#d8576b"
            ],
            [
             0.6666666666666666,
             "#ed7953"
            ],
            [
             0.7777777777777778,
             "#fb9f3a"
            ],
            [
             0.8888888888888888,
             "#fdca26"
            ],
            [
             1,
             "#f0f921"
            ]
           ],
           "sequentialminus": [
            [
             0,
             "#0d0887"
            ],
            [
             0.1111111111111111,
             "#46039f"
            ],
            [
             0.2222222222222222,
             "#7201a8"
            ],
            [
             0.3333333333333333,
             "#9c179e"
            ],
            [
             0.4444444444444444,
             "#bd3786"
            ],
            [
             0.5555555555555556,
             "#d8576b"
            ],
            [
             0.6666666666666666,
             "#ed7953"
            ],
            [
             0.7777777777777778,
             "#fb9f3a"
            ],
            [
             0.8888888888888888,
             "#fdca26"
            ],
            [
             1,
             "#f0f921"
            ]
           ]
          },
          "colorway": [
           "#636efa",
           "#EF553B",
           "#00cc96",
           "#ab63fa",
           "#FFA15A",
           "#19d3f3",
           "#FF6692",
           "#B6E880",
           "#FF97FF",
           "#FECB52"
          ],
          "font": {
           "color": "#2a3f5f"
          },
          "geo": {
           "bgcolor": "white",
           "lakecolor": "white",
           "landcolor": "#E5ECF6",
           "showlakes": true,
           "showland": true,
           "subunitcolor": "white"
          },
          "hoverlabel": {
           "align": "left"
          },
          "hovermode": "closest",
          "mapbox": {
           "style": "light"
          },
          "paper_bgcolor": "white",
          "plot_bgcolor": "#E5ECF6",
          "polar": {
           "angularaxis": {
            "gridcolor": "white",
            "linecolor": "white",
            "ticks": ""
           },
           "bgcolor": "#E5ECF6",
           "radialaxis": {
            "gridcolor": "white",
            "linecolor": "white",
            "ticks": ""
           }
          },
          "scene": {
           "xaxis": {
            "backgroundcolor": "#E5ECF6",
            "gridcolor": "white",
            "gridwidth": 2,
            "linecolor": "white",
            "showbackground": true,
            "ticks": "",
            "zerolinecolor": "white"
           },
           "yaxis": {
            "backgroundcolor": "#E5ECF6",
            "gridcolor": "white",
            "gridwidth": 2,
            "linecolor": "white",
            "showbackground": true,
            "ticks": "",
            "zerolinecolor": "white"
           },
           "zaxis": {
            "backgroundcolor": "#E5ECF6",
            "gridcolor": "white",
            "gridwidth": 2,
            "linecolor": "white",
            "showbackground": true,
            "ticks": "",
            "zerolinecolor": "white"
           }
          },
          "shapedefaults": {
           "line": {
            "color": "#2a3f5f"
           }
          },
          "ternary": {
           "aaxis": {
            "gridcolor": "white",
            "linecolor": "white",
            "ticks": ""
           },
           "baxis": {
            "gridcolor": "white",
            "linecolor": "white",
            "ticks": ""
           },
           "bgcolor": "#E5ECF6",
           "caxis": {
            "gridcolor": "white",
            "linecolor": "white",
            "ticks": ""
           }
          },
          "title": {
           "x": 0.05
          },
          "xaxis": {
           "automargin": true,
           "gridcolor": "white",
           "linecolor": "white",
           "ticks": "",
           "title": {
            "standoff": 15
           },
           "zerolinecolor": "white",
           "zerolinewidth": 2
          },
          "yaxis": {
           "automargin": true,
           "gridcolor": "white",
           "linecolor": "white",
           "ticks": "",
           "title": {
            "standoff": 15
           },
           "zerolinecolor": "white",
           "zerolinewidth": 2
          }
         }
        },
        "xaxis": {
         "anchor": "y",
         "domain": [
          0,
          1
         ],
         "title": {
          "text": "GTR_cross_lh_MK"
         }
        },
        "yaxis": {
         "anchor": "x",
         "domain": [
          0,
          1
         ],
         "title": {
          "text": "GTR_cross_diff_MK"
         }
        }
       }
      },
      "text/html": [
       "<div>                            <div id=\"acff3dc4-2269-46ce-a2ef-1893dc75dd13\" class=\"plotly-graph-div\" style=\"height:525px; width:100%;\"></div>            <script type=\"text/javascript\">                require([\"plotly\"], function(Plotly) {                    window.PLOTLYENV=window.PLOTLYENV || {};                                    if (document.getElementById(\"acff3dc4-2269-46ce-a2ef-1893dc75dd13\")) {                    Plotly.newPlot(                        \"acff3dc4-2269-46ce-a2ef-1893dc75dd13\",                        [{\"hovertemplate\":\"GTR_cross_lh_MK=%{x}<br>GTR_cross_diff_MK=%{y}<extra></extra>\",\"legendgroup\":\"\",\"marker\":{\"color\":\"#636efa\",\"symbol\":\"circle\"},\"mode\":\"markers\",\"name\":\"\",\"orientation\":\"v\",\"showlegend\":false,\"x\":[-546.310461,-2470.97364,-1285.91245,-3573.067639,-113.015201,-262.748131,-171.52687,-1040.040627,-1831.068177,-1223.075416,-1994.741764,-3010.741694,-215.900839,-546.028547,-211.357583,-28.110693,-2034.622815,-79.884562,-1329.247127,-2689.001269,-2436.698612,-1887.976282,-432.038279,-203.42988,-201.498019,-2984.591262,-80.778732,-515.663843,-777.671788,-119.790634,-102.596278,-578.473206,-105.014553,-187.187496,-6402.120707,-1588.468261,-992.589842,-7289.54381,-1575.759366,-780.6643,-3065.006926,-86.121015,-1318.22971,-153.356473,-178.326119,-249.964696,-157.525079,-2059.011992,-1213.611651,-114.151255,-2773.941626,-321.267573,-245.101387,-697.187941,-1762.786521,-3160.039262,-969.647403,-300.626773,-963.30196,-531.178809,-1272.718212,-4280.382984,-2275.33227,-163.498742,-2346.859277,-1544.86133,-1047.986874,-660.894633,-802.191627,-334.816368,-3273.450825,-2255.134136,-4066.927222,-349.206764,-2359.335523,-7666.982623,-698.786454,-363.311611,-1223.075416,-2230.179992,-1553.199546,-72.416187,-5458.756007,-303.695061,-262.598027,-2564.633847,-1.388338,-690.556488,-138.182852,-543.388783,-1825.247781,-5787.445226,-239.477074,-649.183779,-740.474062,-650.638063,-4474.237357,-2795.502842,-1605.740506,-309.849837,-4342.101386,-152.351386,-40.904789,-1131.774798,-1535.006997,-4319.065832,-296.51745,-544.241805,-275.250008,-671.824042,-104.1029,-388.791541,-2475.056829,-1603.992108,-5925.919605,-2026.234664,-992.318368,-2030.690365,-5874.893676,-1426.29166,-168.474588,-8456.02474,-1343.392368,-851.752638,-1061.090213,-241.373085,-7049.977678,-1584.732841,-4991.931986,-5597.124549,-237.05904,-340.014116,-57.003039,-2473.827646,-1555.113977,-326.308006,-2050.172872,-11343.703209,-412.270276,-439.157062,-989.319455,-189.812154,-508.445389,-508.445389,-302.654605,-4049.550158,-820.673665,-163.048464,-614.333852,-4856.544418,-684.079018,-4154.685026,-2991.798951,-169.917918,-6973.359901,-365.405347,-4653.939811,-5989.973506,-262.598027,-7668.854767,-377.780619,-518.224493,-159.524282,-3618.763825,-152.01469,-129.647861,-113.422159,-396.136916,-15983.852877,-207.755003,-1979.150365,-2075.460449,-1135.680181,-245.253325,-752.74381,-4072.582488,-60.419594,-279.661489,-570.03637,-158.969522,-282.203063,-5396.192462,-2823.265432,-1491.822697,-427.601722,-1535.006997,-496.846761,-3998.866202,-420.637991,-2886.149762,-1996.330208,-5091.686369,-266.971521,-1430.158374,-2530.725897,-131.511485,-7298.841537,-180.428488,-591.521984,-32.008211,-4717.904753,-38.081356,-409.375018,-314.427368,-421.978842,-861.858042,-1586.615605,-1005.142912,-3349.67678,-2400.194388,-64.658877,-5354.421261,-211.446521,-237.891459,-94.599948,-1985.522004,-225.847037,-1889.756018,-328.457917,-3160.039262,-468.217544,-1386.842595,-752.111285,-989.637199,-2042.808443,-1024.240028,-1162.685522,-527.770418,-4771.864855,-761.531344,-802.632193,-909.84209,-2197.955796,-94.375312,-965.646943,-144.381324,-256.914947,-122.097919,-597.519288,-581.551458,-717.470519,-152.132903,-2594.800567,-3553.161446,-4342.101386,-569.150174,-695.586244,-417.45892,-540.714146,-53.944612,-231.00227,-7396.212741,-1677.533563,-7279.740174,-5235.770373,-2205.24067,-570.524853,-5858.298942,-820.96854,-11016.291532,-1662.880703,-85.456089,-119.183246,-572.873642,-748.579981,-5791.39326,-106.370112,-3632.225783,-410.099834,-544.969737,-2446.859648,-2479.635986,-152.998843,-2298.276838,-12762.088254,-116.413563,-234.887736,-89.423196,-4991.931986,-4140.941761,-490.887572,-2310.517832,-476.197026,-1133.890228,-520.861954,-966.535566,-170.235952,-231.381025,-120.822057,-132.038461,-41.763218,-342.968602,-386.594188,-1919.348822,-2161.034506,-625.110631,-1142.051744,-124.561357,-1503.929809,-5768.522694,-123.443663,-316.17598,-204.663141,-5519.871405,-542.244292,-1052.057651,-1485.183241,-289.634057,-3785.045811,-2565.533726,-318.697999,-400.850793,-4692.386872,-900.095947,-65.118616,-1726.910392,-554.495025,-3998.866202,-2401.244658,-4059.918561,-4450.472557,-789.284495,-504.662158,-68.326206,-377.920143,-268.794095,-324.256439,-428.929467,-1370.09214,-2055.492344,-713.287853,-656.936449,-3101.45915,-2040.131886,-1203.059363,-4906.22389,-1541.615992,-1887.976282,-874.181181,-1132.824218,-4031.860864,-3768.096298,-4832.557359,-2255.130353,-72.608891,-1172.42057,-4386.836127,-178.303055,-5262.586229,-964.662651,-969.505895,-85.171788,-199.677876,-499.9184,-14978.475916,-2205.482806,-396.007656,-731.090952,-338.144057,-8603.869104,-1825.366573,-168.460296,-193.930684,-2367.805905,-886.749234,-9706.706123,-3085.274776,-2664.877237,-11343.703209,-1878.986688,-4875.686877,-986.968055],\"xaxis\":\"x\",\"y\":[-20.932618000000048,-36.8280920000002,-33.70509300000003,-40.923567999999705,-0.6461490000000083,-1.1220910000000117,-8.954318,-7.4678499999999985,-24.378221000000167,-28.56901999999991,-11.190226000000166,-32.19208200000003,-7.506529999999998,-5.0236340000000155,-2.9026039999999966,-0.9194620000000029,-43.731513999999834,0.13643199999999922,-44.88013599999999,-24.899947999999767,-25.893785000000207,-17.33824000000004,-7.047101999999995,-5.690025999999989,-5.132463999999999,-33.44426999999996,-0.811074000000005,-15.095623000000046,-4.354781000000003,-2.7259320000000002,-2.5349319999999977,-5.233786000000009,-7.790623000000011,-2.524723000000023,-64.03242599999976,-10.874191999999994,-9.424395000000004,-72.85468800000035,-10.654831999999942,-6.403962999999976,-16.174551000000065,-0.9588289999999944,-27.92461000000003,-8.969922999999994,-6.621584000000013,-8.136920000000003,-14.116206000000005,-20.996578000000227,-28.475280999999995,-0.30634300000001247,-83.52020399999992,-4.8645440000000235,-3.608296999999993,-5.374915999999985,-11.560735000000022,-16.69756499999994,-11.293242000000077,-0.779293999999993,-4.95261000000005,-11.516402999999968,-64.74903300000005,-37.0731310000001,-22.2931880000001,-3.236919999999998,-16.172977000000174,-11.833067000000028,-28.633374999999887,-5.277052000000026,-5.652563999999984,-17.169967999999983,-28.299003000000084,-23.825834000000214,-45.7119789999997,-0.9444900000000302,-21.288222000000133,-98.34922300000017,-7.655639000000065,-12.13067000000001,-28.56901999999991,-27.432544999999664,-9.142724000000044,-0.9372439999999926,-126.14402599999994,-5.307191999999986,-0.8092020000000275,-17.63377700000001,9.999999999177334e-07,-7.0921639999999115,-3.965993999999995,-19.185606000000007,-19.9900090000001,-27.370060000000194,-2.662633999999997,-11.410481000000004,-15.51861299999996,-17.328859999999963,-43.46917200000007,-23.328929999999673,-25.65858800000001,-10.217479999999966,-26.697307000000364,-3.4755150000000015,-0.09285100000000313,-7.346508999999969,-22.48443099999986,-47.84506400000009,-3.680536000000018,-2.5305829999999787,-13.435090000000002,-21.541653999999994,-7.643312000000009,-4.707732000000021,-16.25679900000023,-10.710593999999901,-40.680709000000206,-22.99679200000014,-8.647851999999943,-24.433138999999983,-39.05256399999962,-36.47234300000014,-7.809849000000014,-31.768066000000545,-16.644812,-12.51502000000005,-9.15341599999988,-1.0594890000000134,-78.18957599999976,-10.662180999999919,-26.25436499999978,-66.23379000000023,-11.768124999999998,-8.736868000000015,-0.7840910000000036,-22.764770000000226,-17.27812199999994,-3.8956079999999815,-18.693382000000156,-142.34594599999946,-1.9250750000000494,-9.418569999999988,-15.338510999999926,-2.235697999999985,-0.9708559999999693,-0.9708559999999693,-9.721222000000012,-53.1531759999998,-23.52239600000007,-3.058881999999983,-7.475821999999994,-40.850140000000465,-5.892654999999991,-69.11508099999992,-41.299205000000256,-2.5235359999999787,-69.39728500000001,-13.324483999999984,-54.36616200000026,-41.96849800000018,-0.8092020000000275,-70.547098,-8.596131000000014,-14.442738000000077,-4.985663999999986,-37.33589600000005,-1.0097299999999905,-9.82420900000001,-2.1068189999999873,-11.25344899999999,-24.72661599999992,-2.1673319999999876,-34.590950999999905,-15.818818000000192,-10.782674000000043,-2.7527299999999855,-27.049881000000028,-36.660639000000174,-0.8201409999999996,-11.225031999999999,-12.836176000000023,-3.3515580000000114,-7.569213999999988,-64.38527900000008,-16.262073000000328,-28.281132999999954,-6.122726999999998,-22.48443099999986,-13.625549000000035,-56.272435000000314,-7.671303000000023,-69.58413900000005,-31.498501000000033,-65.87586900000042,-1.1681239999999775,-20.93321100000003,-13.687199999999848,-0.5092159999999808,-72.41004500000054,-3.1500529999999856,-10.962871999999948,-1.3114550000000023,-60.5224589999998,-1.1763079999999988,-20.059654000000023,-4.273252000000014,-7.888959999999997,-6.594928999999979,-12.536759999999958,-7.463435000000004,-43.54480599999988,-35.59920899999997,-2.537868000000003,-60.23092900000029,-10.53231199999999,-6.327539000000002,-2.639780000000002,-27.216318999999885,-11.046507999999989,-20.764854000000014,-13.299453000000028,-16.69756499999994,-17.343795999999998,-23.841192000000092,-17.808373999999958,-13.711828999999966,-15.762477999999874,-30.24373099999991,-22.991792000000032,-19.01646299999993,-52.570168000000194,-12.733529999999973,-10.492657000000008,-37.00924299999997,-41.720408000000134,-0.8388519999999886,-9.967556999999942,-3.927182000000016,-7.952104999999989,-26.705528,-8.414713000000006,-4.137569999999982,-20.970636000000013,-4.082872000000009,-35.55656799999997,-31.249616999999944,-26.697307000000364,-1.0861400000000003,-28.429846999999995,-8.293908999999985,-4.176156999999989,-1.0726259999999996,-10.00105000000002,-81.31201800000053,-14.046370000000024,-88.31346199999916,-60.97811600000023,-9.38845100000026,-19.49714400000005,-40.726786000000175,-18.856690999999955,-5.875641999999061,-10.048216000000139,-0.9490760000000051,-0.27194299999999316,-6.187825999999973,-18.350068999999962,-51.23063499999989,-0.304064000000011,-65.510041,-7.232061999999985,-19.043000000000006,-16.782439000000068,-50.40927799999963,-20.383837,-28.372071000000233,-250.2608880000007,-5.3529279999999915,-1.785933,-1.3821379999999976,-26.25436499999978,-39.39934600000015,-13.454696999999953,-23.816111999999976,-13.278296000000012,-22.258460000000014,-10.654944999999941,-16.637012000000027,-5.8539829999999995,-4.1688159999999925,-9.616498000000007,-2.0637080000000196,-0.42113200000000006,-18.74367699999999,-1.676587999999981,-32.627396999999974,-14.548221000000012,-20.069727000000057,-3.77125500000011,-1.9679809999999947,-30.79764,-43.724999000000025,-6.190151999999998,-8.188550999999961,-3.379468000000003,-55.69140299999981,-19.469330000000014,-14.90494200000012,-20.556409999999914,-8.720209000000011,-38.859187999999904,-13.303539,-6.358069,-8.52993200000003,-47.153667999999925,-10.935784000000012,-1.4007100000000037,-9.925612000000001,-3.4401180000000977,-56.272435000000314,-32.23363100000006,-45.058828000000176,-47.26052600000003,-6.1807039999999915,-14.882484999999974,-2.820402999999999,-12.048577000000023,-10.682241000000033,-7.128554000000008,-4.820814999999982,-25.083086999999978,-6.744931999999608,-23.189239000000043,-27.61552000000006,-17.25151700000015,-23.828126999999995,-46.65223200000014,-41.54609400000027,-24.026022999999896,-17.33824000000004,-6.5817180000000235,-6.715108999999984,-52.49463400000013,-25.741993000000093,-38.41052600000057,-23.823115000000143,-2.346261999999996,-3.5399589999999534,-66.26749999999993,-1.290143999999998,-59.878999999999905,-16.282464000000004,-15.582221000000004,-0.5846599999999995,0.23566500000001156,-16.71937600000001,-150.42985899999985,-43.58415699999978,-0.7049729999999954,-13.419647000000055,-12.194983999999977,-166.41672199999994,-52.839668000000074,-5.553064000000006,-5.904977000000002,-21.13487000000032,-21.919182999999975,-76.1949139999997,-16.894091000000117,-13.828968000000259,-142.4132269999991,-4.042803999999933,-55.70162299999993,-45.41854000000001],\"yaxis\":\"y\",\"type\":\"scatter\"}],                        {\"template\":{\"data\":{\"histogram2dcontour\":[{\"type\":\"histogram2dcontour\",\"colorbar\":{\"outlinewidth\":0,\"ticks\":\"\"},\"colorscale\":[[0.0,\"#0d0887\"],[0.1111111111111111,\"#46039f\"],[0.2222222222222222,\"#7201a8\"],[0.3333333333333333,\"#9c179e\"],[0.4444444444444444,\"#bd3786\"],[0.5555555555555556,\"#d8576b\"],[0.6666666666666666,\"#ed7953\"],[0.7777777777777778,\"#fb9f3a\"],[0.8888888888888888,\"#fdca26\"],[1.0,\"#f0f921\"]]}],\"choropleth\":[{\"type\":\"choropleth\",\"colorbar\":{\"outlinewidth\":0,\"ticks\":\"\"}}],\"histogram2d\":[{\"type\":\"histogram2d\",\"colorbar\":{\"outlinewidth\":0,\"ticks\":\"\"},\"colorscale\":[[0.0,\"#0d0887\"],[0.1111111111111111,\"#46039f\"],[0.2222222222222222,\"#7201a8\"],[0.3333333333333333,\"#9c179e\"],[0.4444444444444444,\"#bd3786\"],[0.5555555555555556,\"#d8576b\"],[0.6666666666666666,\"#ed7953\"],[0.7777777777777778,\"#fb9f3a\"],[0.8888888888888888,\"#fdca26\"],[1.0,\"#f0f921\"]]}],\"heatmap\":[{\"type\":\"heatmap\",\"colorbar\":{\"outlinewidth\":0,\"ticks\":\"\"},\"colorscale\":[[0.0,\"#0d0887\"],[0.1111111111111111,\"#46039f\"],[0.2222222222222222,\"#7201a8\"],[0.3333333333333333,\"#9c179e\"],[0.4444444444444444,\"#bd3786\"],[0.5555555555555556,\"#d8576b\"],[0.6666666666666666,\"#ed7953\"],[0.7777777777777778,\"#fb9f3a\"],[0.8888888888888888,\"#fdca26\"],[1.0,\"#f0f921\"]]}],\"heatmapgl\":[{\"type\":\"heatmapgl\",\"colorbar\":{\"outlinewidth\":0,\"ticks\":\"\"},\"colorscale\":[[0.0,\"#0d0887\"],[0.1111111111111111,\"#46039f\"],[0.2222222222222222,\"#7201a8\"],[0.3333333333333333,\"#9c179e\"],[0.4444444444444444,\"#bd3786\"],[0.5555555555555556,\"#d8576b\"],[0.6666666666666666,\"#ed7953\"],[0.7777777777777778,\"#fb9f3a\"],[0.8888888888888888,\"#fdca26\"],[1.0,\"#f0f921\"]]}],\"contourcarpet\":[{\"type\":\"contourcarpet\",\"colorbar\":{\"outlinewidth\":0,\"ticks\":\"\"}}],\"contour\":[{\"type\":\"contour\",\"colorbar\":{\"outlinewidth\":0,\"ticks\":\"\"},\"colorscale\":[[0.0,\"#0d0887\"],[0.1111111111111111,\"#46039f\"],[0.2222222222222222,\"#7201a8\"],[0.3333333333333333,\"#9c179e\"],[0.4444444444444444,\"#bd3786\"],[0.5555555555555556,\"#d8576b\"],[0.6666666666666666,\"#ed7953\"],[0.7777777777777778,\"#fb9f3a\"],[0.8888888888888888,\"#fdca26\"],[1.0,\"#f0f921\"]]}],\"surface\":[{\"type\":\"surface\",\"colorbar\":{\"outlinewidth\":0,\"ticks\":\"\"},\"colorscale\":[[0.0,\"#0d0887\"],[0.1111111111111111,\"#46039f\"],[0.2222222222222222,\"#7201a8\"],[0.3333333333333333,\"#9c179e\"],[0.4444444444444444,\"#bd3786\"],[0.5555555555555556,\"#d8576b\"],[0.6666666666666666,\"#ed7953\"],[0.7777777777777778,\"#fb9f3a\"],[0.8888888888888888,\"#fdca26\"],[1.0,\"#f0f921\"]]}],\"mesh3d\":[{\"type\":\"mesh3d\",\"colorbar\":{\"outlinewidth\":0,\"ticks\":\"\"}}],\"scatter\":[{\"fillpattern\":{\"fillmode\":\"overlay\",\"size\":10,\"solidity\":0.2},\"type\":\"scatter\"}],\"parcoords\":[{\"type\":\"parcoords\",\"line\":{\"colorbar\":{\"outlinewidth\":0,\"ticks\":\"\"}}}],\"scatterpolargl\":[{\"type\":\"scatterpolargl\",\"marker\":{\"colorbar\":{\"outlinewidth\":0,\"ticks\":\"\"}}}],\"bar\":[{\"error_x\":{\"color\":\"#2a3f5f\"},\"error_y\":{\"color\":\"#2a3f5f\"},\"marker\":{\"line\":{\"color\":\"#E5ECF6\",\"width\":0.5},\"pattern\":{\"fillmode\":\"overlay\",\"size\":10,\"solidity\":0.2}},\"type\":\"bar\"}],\"scattergeo\":[{\"type\":\"scattergeo\",\"marker\":{\"colorbar\":{\"outlinewidth\":0,\"ticks\":\"\"}}}],\"scatterpolar\":[{\"type\":\"scatterpolar\",\"marker\":{\"colorbar\":{\"outlinewidth\":0,\"ticks\":\"\"}}}],\"histogram\":[{\"marker\":{\"pattern\":{\"fillmode\":\"overlay\",\"size\":10,\"solidity\":0.2}},\"type\":\"histogram\"}],\"scattergl\":[{\"type\":\"scattergl\",\"marker\":{\"colorbar\":{\"outlinewidth\":0,\"ticks\":\"\"}}}],\"scatter3d\":[{\"type\":\"scatter3d\",\"line\":{\"colorbar\":{\"outlinewidth\":0,\"ticks\":\"\"}},\"marker\":{\"colorbar\":{\"outlinewidth\":0,\"ticks\":\"\"}}}],\"scattermapbox\":[{\"type\":\"scattermapbox\",\"marker\":{\"colorbar\":{\"outlinewidth\":0,\"ticks\":\"\"}}}],\"scatterternary\":[{\"type\":\"scatterternary\",\"marker\":{\"colorbar\":{\"outlinewidth\":0,\"ticks\":\"\"}}}],\"scattercarpet\":[{\"type\":\"scattercarpet\",\"marker\":{\"colorbar\":{\"outlinewidth\":0,\"ticks\":\"\"}}}],\"carpet\":[{\"aaxis\":{\"endlinecolor\":\"#2a3f5f\",\"gridcolor\":\"white\",\"linecolor\":\"white\",\"minorgridcolor\":\"white\",\"startlinecolor\":\"#2a3f5f\"},\"baxis\":{\"endlinecolor\":\"#2a3f5f\",\"gridcolor\":\"white\",\"linecolor\":\"white\",\"minorgridcolor\":\"white\",\"startlinecolor\":\"#2a3f5f\"},\"type\":\"carpet\"}],\"table\":[{\"cells\":{\"fill\":{\"color\":\"#EBF0F8\"},\"line\":{\"color\":\"white\"}},\"header\":{\"fill\":{\"color\":\"#C8D4E3\"},\"line\":{\"color\":\"white\"}},\"type\":\"table\"}],\"barpolar\":[{\"marker\":{\"line\":{\"color\":\"#E5ECF6\",\"width\":0.5},\"pattern\":{\"fillmode\":\"overlay\",\"size\":10,\"solidity\":0.2}},\"type\":\"barpolar\"}],\"pie\":[{\"automargin\":true,\"type\":\"pie\"}]},\"layout\":{\"autotypenumbers\":\"strict\",\"colorway\":[\"#636efa\",\"#EF553B\",\"#00cc96\",\"#ab63fa\",\"#FFA15A\",\"#19d3f3\",\"#FF6692\",\"#B6E880\",\"#FF97FF\",\"#FECB52\"],\"font\":{\"color\":\"#2a3f5f\"},\"hovermode\":\"closest\",\"hoverlabel\":{\"align\":\"left\"},\"paper_bgcolor\":\"white\",\"plot_bgcolor\":\"#E5ECF6\",\"polar\":{\"bgcolor\":\"#E5ECF6\",\"angularaxis\":{\"gridcolor\":\"white\",\"linecolor\":\"white\",\"ticks\":\"\"},\"radialaxis\":{\"gridcolor\":\"white\",\"linecolor\":\"white\",\"ticks\":\"\"}},\"ternary\":{\"bgcolor\":\"#E5ECF6\",\"aaxis\":{\"gridcolor\":\"white\",\"linecolor\":\"white\",\"ticks\":\"\"},\"baxis\":{\"gridcolor\":\"white\",\"linecolor\":\"white\",\"ticks\":\"\"},\"caxis\":{\"gridcolor\":\"white\",\"linecolor\":\"white\",\"ticks\":\"\"}},\"coloraxis\":{\"colorbar\":{\"outlinewidth\":0,\"ticks\":\"\"}},\"colorscale\":{\"sequential\":[[0.0,\"#0d0887\"],[0.1111111111111111,\"#46039f\"],[0.2222222222222222,\"#7201a8\"],[0.3333333333333333,\"#9c179e\"],[0.4444444444444444,\"#bd3786\"],[0.5555555555555556,\"#d8576b\"],[0.6666666666666666,\"#ed7953\"],[0.7777777777777778,\"#fb9f3a\"],[0.8888888888888888,\"#fdca26\"],[1.0,\"#f0f921\"]],\"sequentialminus\":[[0.0,\"#0d0887\"],[0.1111111111111111,\"#46039f\"],[0.2222222222222222,\"#7201a8\"],[0.3333333333333333,\"#9c179e\"],[0.4444444444444444,\"#bd3786\"],[0.5555555555555556,\"#d8576b\"],[0.6666666666666666,\"#ed7953\"],[0.7777777777777778,\"#fb9f3a\"],[0.8888888888888888,\"#fdca26\"],[1.0,\"#f0f921\"]],\"diverging\":[[0,\"#8e0152\"],[0.1,\"#c51b7d\"],[0.2,\"#de77ae\"],[0.3,\"#f1b6da\"],[0.4,\"#fde0ef\"],[0.5,\"#f7f7f7\"],[0.6,\"#e6f5d0\"],[0.7,\"#b8e186\"],[0.8,\"#7fbc41\"],[0.9,\"#4d9221\"],[1,\"#276419\"]]},\"xaxis\":{\"gridcolor\":\"white\",\"linecolor\":\"white\",\"ticks\":\"\",\"title\":{\"standoff\":15},\"zerolinecolor\":\"white\",\"automargin\":true,\"zerolinewidth\":2},\"yaxis\":{\"gridcolor\":\"white\",\"linecolor\":\"white\",\"ticks\":\"\",\"title\":{\"standoff\":15},\"zerolinecolor\":\"white\",\"automargin\":true,\"zerolinewidth\":2},\"scene\":{\"xaxis\":{\"backgroundcolor\":\"#E5ECF6\",\"gridcolor\":\"white\",\"linecolor\":\"white\",\"showbackground\":true,\"ticks\":\"\",\"zerolinecolor\":\"white\",\"gridwidth\":2},\"yaxis\":{\"backgroundcolor\":\"#E5ECF6\",\"gridcolor\":\"white\",\"linecolor\":\"white\",\"showbackground\":true,\"ticks\":\"\",\"zerolinecolor\":\"white\",\"gridwidth\":2},\"zaxis\":{\"backgroundcolor\":\"#E5ECF6\",\"gridcolor\":\"white\",\"linecolor\":\"white\",\"showbackground\":true,\"ticks\":\"\",\"zerolinecolor\":\"white\",\"gridwidth\":2}},\"shapedefaults\":{\"line\":{\"color\":\"#2a3f5f\"}},\"annotationdefaults\":{\"arrowcolor\":\"#2a3f5f\",\"arrowhead\":0,\"arrowwidth\":1},\"geo\":{\"bgcolor\":\"white\",\"landcolor\":\"#E5ECF6\",\"subunitcolor\":\"white\",\"showland\":true,\"showlakes\":true,\"lakecolor\":\"white\"},\"title\":{\"x\":0.05},\"mapbox\":{\"style\":\"light\"}}},\"xaxis\":{\"anchor\":\"y\",\"domain\":[0.0,1.0],\"title\":{\"text\":\"GTR_cross_lh_MK\"}},\"yaxis\":{\"anchor\":\"x\",\"domain\":[0.0,1.0],\"title\":{\"text\":\"GTR_cross_diff_MK\"}},\"legend\":{\"tracegroupgap\":0},\"margin\":{\"t\":60}},                        {\"responsive\": true}                    ).then(function(){\n",
       "                            \n",
       "var gd = document.getElementById('acff3dc4-2269-46ce-a2ef-1893dc75dd13');\n",
       "var x = new MutationObserver(function (mutations, observer) {{\n",
       "        var display = window.getComputedStyle(gd).display;\n",
       "        if (!display || display === 'none') {{\n",
       "            console.log([gd, 'removed!']);\n",
       "            Plotly.purge(gd);\n",
       "            observer.disconnect();\n",
       "        }}\n",
       "}});\n",
       "\n",
       "// Listen for the removal of the full notebook cells\n",
       "var notebookContainer = gd.closest('#notebook-container');\n",
       "if (notebookContainer) {{\n",
       "    x.observe(notebookContainer, {childList: true});\n",
       "}}\n",
       "\n",
       "// Listen for the clearing of the current output cell\n",
       "var outputEl = gd.closest('.output');\n",
       "if (outputEl) {{\n",
       "    x.observe(outputEl, {childList: true});\n",
       "}}\n",
       "\n",
       "                        })                };                });            </script>        </div>"
      ]
     },
     "metadata": {},
     "output_type": "display_data"
    },
    {
     "data": {
      "application/vnd.plotly.v1+json": {
       "config": {
        "plotlyServerURL": "https://plot.ly"
       },
       "data": [
        {
         "hovertemplate": "MK_cross_lh_GTR=%{x}<br>MK_cross_diff_GTR=%{y}<extra></extra>",
         "legendgroup": "",
         "marker": {
          "color": "#636efa",
          "symbol": "circle"
         },
         "mode": "markers",
         "name": "",
         "orientation": "v",
         "showlegend": false,
         "type": "scatter",
         "x": [
          -718.032329,
          -3217.172808,
          -1812.004217,
          -4927.341894,
          -130.207746,
          -342.874511,
          -223.580689,
          -1244.181924,
          -2245.62898,
          -2098.762343,
          -2789.491947,
          -4113.212014,
          -299.648207,
          -844.263745,
          -244.564012,
          -30.36545,
          -2943.259303,
          -100.407432,
          -1944.590297,
          -3357.163347,
          -3537.932105,
          -2877.485934,
          -531.86768,
          -341.55081,
          -247.163993,
          -4101.428918,
          -101.234068,
          -572.117571,
          -903.792231,
          -137.121831,
          -134.961354,
          -721.749675,
          -128.982707,
          -322.323619,
          -9370.513579,
          -2434.344758,
          -1333.430583,
          -10763.370369,
          -2415.255739,
          -882.751267,
          -4565.194861,
          -110.469689,
          -1719.929157,
          -227.063083,
          -203.273929,
          -314.357043,
          -304.877461,
          -2740.418496,
          -1606.504894,
          -146.096901,
          -4018.597187,
          -441.953374,
          -312.681517,
          -962.720059,
          -2689.877212,
          -4694.898993,
          -1152.813345,
          -379.12458,
          -1329.903295,
          -850.430309,
          -1825.552611,
          -6339.915824,
          -3413.273021,
          -304.062809,
          -3050.325936,
          -2136.009333,
          -1540.102544,
          -883.542567,
          -1252.854832,
          -474.700843,
          -4229.975632,
          -3386.13304,
          -5888.92082,
          -427.977194,
          -3442.055507,
          -11248.467604,
          -890.367799,
          -445.05422,
          -2098.762343,
          -3278.92231,
          -1944.444907,
          -94.604599,
          -7684.271281,
          -388.68473,
          -338.84269,
          -3252.673902,
          -2.772636,
          -995.8773,
          -193.961398,
          -716.508869,
          -2713.618664,
          -8259.452826,
          -302.495642,
          -883.159404,
          -949.44325,
          -783.185908,
          -6582.916747,
          -3631.747675,
          -2137.009989,
          -411.103359,
          -5596.107831,
          -209.029059,
          -48.679826,
          -1343.997945,
          -2028.204039,
          -6347.207959,
          -365.174048,
          -725.331756,
          -464.706351,
          -910.633428,
          -159.09009,
          -473.106918,
          -3388.983125,
          -2458.340188,
          -7815.848979,
          -3026.07551,
          -1403.799255,
          -3000.22827,
          -7147.973551,
          -1778.571391,
          -262.529328,
          -11149.228321,
          -1709.256763,
          -1131.898904,
          -1409.264361,
          -363.515,
          -10251.59123,
          -2427.54086,
          -6454.936581,
          -7690.227599,
          -385.762719,
          -440.823109,
          -74.410841,
          -3377.775093,
          -2043.586939,
          -393.333814,
          -2730.48005,
          -14627.787325,
          -493.449972,
          -558.235641,
          -1261.930795,
          -218.85912,
          -641.765975,
          -641.765975,
          -373.972514,
          -5878.006631,
          -1133.042887,
          -217.202463,
          -840.506722,
          -7154.835752,
          -937.989204,
          -6588.529266,
          -4356.410644,
          -198.976252,
          -10273.597899,
          -578.094369,
          -6838.068199,
          -7755.059035,
          -338.84269,
          -11277.6099,
          -627.585002,
          -813.088165,
          -309.671717,
          -5245.661844,
          -205.550813,
          -170.965769,
          -135.60632,
          -528.09737,
          -20471.974648,
          -407.101004,
          -2661.9427,
          -2719.138357,
          -1531.232644,
          -316.148095,
          -1020.253314,
          -5527.600812,
          -83.580263,
          -373.825881,
          -743.750555,
          -296.109411,
          -383.097101,
          -7163.150143,
          -3546.981482,
          -2097.612528,
          -626.466002,
          -2028.204039,
          -823.069538,
          -5538.692174,
          -633.976406,
          -3806.899094,
          -2563.373511,
          -6657.992022,
          -343.366209,
          -1972.250902,
          -3213.030721,
          -213.034205,
          -10706.320257,
          -229.941602,
          -673.198294,
          -36.56011,
          -6455.088391,
          -46.122323,
          -593.840227,
          -405.533808,
          -621.185642,
          -1148.8997,
          -2065.301146,
          -1407.468419,
          -4639.269338,
          -3133.247516,
          -75.797377,
          -7120.032576,
          -285.858079,
          -295.73213,
          -115.924777,
          -2342.242999,
          -401.469132,
          -2823.409047,
          -413.678869,
          -4694.898993,
          -707.574159,
          -2070.697425,
          -1227.690784,
          -1263.801063,
          -3299.864617,
          -1257.507963,
          -1668.345605,
          -696.982205,
          -6971.73971,
          -969.453538,
          -1023.065846,
          -1470.452435,
          -2845.300264,
          -111.708168,
          -1298.437565,
          -206.261014,
          -322.058336,
          -148.90321,
          -671.950624,
          -733.952386,
          -938.402274,
          -216.209124,
          -3317.662415,
          -4199.753421,
          -5596.107831,
          -710.028807,
          -881.115467,
          -568.128742,
          -696.868378,
          -68.453864,
          -327.550505,
          -11345.095203,
          -2548.826366,
          -11123.888245,
          -7183.588553,
          -2804.755471,
          -924.376759,
          -7730.569697,
          -1132.249959,
          -12221.337824,
          -2538.983067,
          -100.345105,
          -167.103878,
          -734.826409,
          -1253.075046,
          -7771.679367,
          -206.430183,
          -4568.517146,
          -516.021629,
          -778.060037,
          -3247.668532,
          -3942.01913,
          -175.490417,
          -3438.056332,
          -17215.467992,
          -150.378827,
          -267.684109,
          -114.531312,
          -6454.936581,
          -5708.611379,
          -622.954785,
          -3356.826458,
          -640.778957,
          -1606.261963,
          -866.280652,
          -1441.117817,
          -211.174874,
          -285.23531,
          -154.918949,
          -143.701143,
          -52.804513,
          -442.917968,
          -501.706075,
          -2814.160552,
          -2720.109181,
          -874.428425,
          -1336.792581,
          -152.956009,
          -2142.259141,
          -7608.341867,
          -143.218188,
          -427.444204,
          -236.913715,
          -6829.405509,
          -713.101143,
          -1490.818967,
          -2335.130423,
          -413.224684,
          -5485.470089,
          -3237.638488,
          -423.864784,
          -558.826627,
          -6905.282007,
          -1145.985348,
          -84.320898,
          -2623.372977,
          -688.458514,
          -5538.692174,
          -3576.439093,
          -5880.678896,
          -6564.246057,
          -1062.785773,
          -665.79318,
          -80.099643,
          -461.669783,
          -345.1486,
          -513.452016,
          -599.587265,
          -1981.713935,
          -2412.063,
          -963.296086,
          -911.600619,
          -4613.105032,
          -2836.928679,
          -1786.8557,
          -7199.419832,
          -2035.047864,
          -2877.485934,
          -1115.488322,
          -1628.467602,
          -5853.054708,
          -4570.934519,
          -7049.111652,
          -3385.854871,
          -100.643228,
          -1371.77268,
          -6412.851295,
          -225.938533,
          -7228.851167,
          -1441.165692,
          -1437.231906,
          -108.601177,
          -310.479402,
          -772.129017,
          -23757.331917,
          -2850.575973,
          -491.117917,
          -1134.809883,
          -429.176221,
          -13071.79691,
          -2336.756153,
          -266.931494,
          -357.355078,
          -3329.391731,
          -1289.336503,
          -14065.728059,
          -4588.619395,
          -3361.830669,
          -14627.486923,
          -2226.637307,
          -6542.915306,
          -1523.063609
         ],
         "xaxis": "x",
         "y": [
          -61.11665400000004,
          -84.39396199999965,
          -87.09720199999992,
          -109.65376500000002,
          -0.28500999999999976,
          -2.2265939999999773,
          -15.500529,
          -11.514030000000048,
          -29.89609100000007,
          -108.62727799999993,
          -29.739055000000008,
          -61.59558399999969,
          -14.17724800000002,
          -8.330038999999942,
          -4.752034999999978,
          -0.29143099999999933,
          -59.63555699999961,
          -2.2387180000000058,
          -82.18189600000005,
          -47.19094700000005,
          -36.3790799999997,
          -44.06424100000004,
          -9.089155000000005,
          -27.060692000000017,
          -3.856004000000013,
          -84.65785199999982,
          -1.8738460000000003,
          -19.22425499999997,
          -6.64985200000001,
          -2.3974689999999725,
          -1.5349820000000136,
          -10.041424000000006,
          -3.3904310000000066,
          -5.330374000000006,
          -95.4796750000005,
          -17.08382500000016,
          -17.787295000000086,
          -125.22384299999976,
          -16.623935999999958,
          -12.833337000000029,
          -31.218171999999868,
          -1.9096779999999995,
          -40.317314000000124,
          -22.980771000000004,
          -6.051727,
          -8.327665999999965,
          -25.556993999999975,
          -38.716559999999845,
          -51.800677999999834,
          -0.5094589999999926,
          -98.89572999999973,
          -5.089961000000017,
          -2.9374290000000087,
          -11.254773,
          -17.870458999999755,
          -31.398549999999886,
          -19.82611799999995,
          -0.8214499999999703,
          -13.43317500000012,
          -37.443243999999936,
          -165.900263,
          -79.55197899999985,
          -47.10426400000006,
          -3.8190230000000156,
          -26.199739000000136,
          -19.932643999999982,
          -42.14419600000019,
          -11.00542699999994,
          -11.406269000000066,
          -44.563507000000016,
          -73.28825299999971,
          -60.20191999999997,
          -63.02936099999988,
          -1.2869160000000193,
          -39.61679400000003,
          -132.87396199999966,
          -20.240429999999947,
          -14.657930999999962,
          -108.62727799999993,
          -50.96828400000004,
          -14.313076000000137,
          -0.9105709999999902,
          -235.86605300000065,
          -26.75497200000001,
          -1.8024010000000317,
          -30.60365899999988,
          -9.999999996956888e-07,
          -10.985965999999962,
          -17.36988500000001,
          -41.36574299999995,
          -27.317633999999998,
          -31.757994000001418,
          -5.177342999999951,
          -24.56057199999998,
          -38.97522900000001,
          -17.050241000000028,
          -91.26662100000067,
          -35.193674999999985,
          -40.56296500000008,
          -15.501141000000018,
          -42.998051999999916,
          -7.2460260000000005,
          -0.40428999999999604,
          -14.594837999999982,
          -29.984615000000076,
          -89.67367300000024,
          -10.660684000000003,
          -6.687526000000048,
          -52.741018999999994,
          -19.056377999999995,
          -17.686005999999992,
          -12.878706000000022,
          -23.615348000000267,
          -16.3753999999999,
          -64.33406999999988,
          -36.88234899999998,
          -19.766485999999986,
          -38.031116999999995,
          -70.14952100000028,
          -27.296693000000005,
          -11.170786000000021,
          -69.18813600000067,
          -27.88555200000019,
          -29.177069999999958,
          -17.705872,
          -1.7532489999999825,
          -160.49926699999924,
          -16.510776000000078,
          -67.45060399999966,
          -131.02533700000004,
          -44.452991,
          -12.573118999999963,
          -1.2758800000000008,
          -22.595940000000155,
          -24.701039000000037,
          -9.513785000000041,
          -36.818334999999934,
          -235.67391099999986,
          -4.985469000000023,
          -10.00325399999997,
          -22.64708900000005,
          -2.81027899999998,
          -1.3237250000000813,
          -1.3237250000000813,
          -11.643648999999982,
          -97.16776200000004,
          -29.062333999999964,
          -6.953502999999984,
          -8.069357999999966,
          -83.70838399999957,
          -6.661470000000008,
          -133.43310699999984,
          -84.89726299999984,
          -7.133496999999977,
          -106.18143500000042,
          -26.020522000000028,
          -94.42192599999998,
          -81.14265100000011,
          -1.8024010000000317,
          -121.15456699999959,
          -37.91956700000003,
          -30.578145999999947,
          -17.498576000000014,
          -62.030351999999766,
          -1.9989360000000147,
          -19.78745999999998,
          -0.6594670000000065,
          -26.529416999999967,
          -24.077398999997968,
          -5.4360209999999825,
          -77.40639599999986,
          -28.33580299999994,
          -39.12157899999988,
          -5.290956999999992,
          -29.69941300000005,
          -70.40926499999932,
          -1.4103319999999968,
          -15.628693999999996,
          -17.75093599999991,
          -4.3180320000000165,
          -14.569496000000015,
          -89.8938390000003,
          -21.305970000000343,
          -82.20802000000003,
          -10.84181799999999,
          -29.984615000000076,
          -29.73719899999992,
          -119.37310499999967,
          -22.766571,
          -199.31803899999977,
          -51.72663999999986,
          -98.73066600000038,
          -1.337562000000048,
          -39.890805999999884,
          -27.890627000000222,
          -0.6828159999999741,
          -97.88397900000018,
          -3.7524259999999856,
          -16.265324000000078,
          -1.5657430000000048,
          -55.89690299999984,
          -0.5506209999999996,
          -43.876415000000065,
          -4.178182000000049,
          -10.597822000000065,
          -13.431341999999859,
          -23.382662999999866,
          -19.28517499999998,
          -116.39638800000012,
          -82.65078199999971,
          -2.0773009999999914,
          -88.79543099999955,
          -17.04391499999997,
          -6.975228999999956,
          -1.2257760000000104,
          -21.64286600000014,
          -37.29092400000002,
          -35.31703000000016,
          -13.816912000000002,
          -31.398549999999886,
          -52.09789799999999,
          -42.06932999999981,
          -55.151566999999886,
          -22.515854000000218,
          -28.96634700000004,
          -30.123743999999988,
          -61.463076,
          -38.13057100000003,
          -92.12689099999989,
          -10.738760999999954,
          -13.188583999999992,
          -36.197660999999925,
          -63.44142800000009,
          -0.330600000000004,
          -19.09319699999992,
          -12.135300999999998,
          -7.568283000000008,
          -5.9348369999999875,
          -6.361823999999956,
          -6.907975000000079,
          -30.715626000000043,
          -15.652323999999993,
          -87.33839499999976,
          -46.58148400000027,
          -42.998051999999916,
          -1.6067699999999832,
          -30.678696999999943,
          -24.90404000000001,
          -6.535566000000017,
          -0.9734089999999895,
          -11.917479000000014,
          -217.5405520000004,
          -18.482682999999724,
          -170.95854400000098,
          -88.59820799999943,
          -12.497471000000132,
          -26.74609899999996,
          -64.80434799999966,
          -42.84995099999992,
          -5.006354000001011,
          -16.567598999999973,
          -1.7133260000000092,
          -0.521097999999995,
          -12.296046000000047,
          -70.30340499999988,
          -96.76370599999973,
          -0.4120460000000037,
          -107.60291700000016,
          -5.506148999999937,
          -21.89534900000001,
          -26.327864000000318,
          -100.99650599999995,
          -22.01650600000002,
          -45.952894000000015,
          -314.7953379999999,
          -6.572596000000004,
          -1.913297,
          -2.8260279999999938,
          -67.45060399999966,
          -75.08324999999968,
          -23.015946999999983,
          -68.83224900000005,
          -24.887230000000045,
          -49.66902099999993,
          -58.91727800000001,
          -31.718542999999954,
          -11.889054999999985,
          -7.980550000000051,
          -10.434522999999984,
          -0.8950450000000103,
          -0.28834400000000215,
          -32.46863599999995,
          -3.3273849999999925,
          -77.51405899999963,
          -27.929427999999916,
          -18.668146999999976,
          -5.197835999999825,
          -3.6558100000000024,
          -51.255044,
          -63.340017000000444,
          -0.7067380000000014,
          -22.291425000000004,
          -2.7826080000000104,
          -83.15663399999994,
          -41.012827000000016,
          -35.17997799999989,
          -48.22219300000006,
          -12.475060000000042,
          -78.09536200000002,
          -17.7542269999999,
          -21.02028100000001,
          -17.00683700000002,
          -76.59807799999999,
          -22.326024999999845,
          -4.177482999999995,
          -17.9403870000001,
          -6.359920999999986,
          -119.37310499999967,
          -47.45268899999974,
          -68.5515460000006,
          -98.97402500000044,
          -13.797242000000097,
          -28.67000900000005,
          -1.333558999999994,
          -8.679593000000011,
          -10.346742000000006,
          -9.757890999999972,
          -8.821279000000004,
          -50.64971199999991,
          -5.748436000000311,
          -43.28120899999999,
          -31.700099000000023,
          -31.03724500000044,
          -33.159164000000146,
          -77.40304000000015,
          -83.06708299999991,
          -29.06899899999985,
          -44.06424100000004,
          -11.130683999999974,
          -13.446929999999838,
          -100.87981299999956,
          -31.653808000000026,
          -120.6863289999992,
          -59.924011000000064,
          -3.663513999999992,
          -4.8350030000001425,
          -84.2513770000005,
          -1.9382350000000201,
          -96.11897099999987,
          -30.883786999999984,
          -31.291811000000052,
          -0.6750310000000042,
          -10.717422,
          -30.062017999999966,
          -320.425468999998,
          -66.77053100000012,
          -0.8301879999999642,
          -23.902229999999918,
          -21.510658999999976,
          -261.1631639999996,
          -93.47681999999986,
          -12.64531199999999,
          -24.045061999999973,
          -34.99769400000014,
          -86.26370500000007,
          -90.87549199999921,
          -30.534593999999743,
          -20.713576999999987,
          -235.37350900000092,
          -5.837316000000101,
          -106.67004600000018,
          -92.51912200000015
         ],
         "yaxis": "y"
        }
       ],
       "layout": {
        "legend": {
         "tracegroupgap": 0
        },
        "margin": {
         "t": 60
        },
        "template": {
         "data": {
          "bar": [
           {
            "error_x": {
             "color": "#2a3f5f"
            },
            "error_y": {
             "color": "#2a3f5f"
            },
            "marker": {
             "line": {
              "color": "#E5ECF6",
              "width": 0.5
             },
             "pattern": {
              "fillmode": "overlay",
              "size": 10,
              "solidity": 0.2
             }
            },
            "type": "bar"
           }
          ],
          "barpolar": [
           {
            "marker": {
             "line": {
              "color": "#E5ECF6",
              "width": 0.5
             },
             "pattern": {
              "fillmode": "overlay",
              "size": 10,
              "solidity": 0.2
             }
            },
            "type": "barpolar"
           }
          ],
          "carpet": [
           {
            "aaxis": {
             "endlinecolor": "#2a3f5f",
             "gridcolor": "white",
             "linecolor": "white",
             "minorgridcolor": "white",
             "startlinecolor": "#2a3f5f"
            },
            "baxis": {
             "endlinecolor": "#2a3f5f",
             "gridcolor": "white",
             "linecolor": "white",
             "minorgridcolor": "white",
             "startlinecolor": "#2a3f5f"
            },
            "type": "carpet"
           }
          ],
          "choropleth": [
           {
            "colorbar": {
             "outlinewidth": 0,
             "ticks": ""
            },
            "type": "choropleth"
           }
          ],
          "contour": [
           {
            "colorbar": {
             "outlinewidth": 0,
             "ticks": ""
            },
            "colorscale": [
             [
              0,
              "#0d0887"
             ],
             [
              0.1111111111111111,
              "#46039f"
             ],
             [
              0.2222222222222222,
              "#7201a8"
             ],
             [
              0.3333333333333333,
              "#9c179e"
             ],
             [
              0.4444444444444444,
              "#bd3786"
             ],
             [
              0.5555555555555556,
              "#d8576b"
             ],
             [
              0.6666666666666666,
              "#ed7953"
             ],
             [
              0.7777777777777778,
              "#fb9f3a"
             ],
             [
              0.8888888888888888,
              "#fdca26"
             ],
             [
              1,
              "#f0f921"
             ]
            ],
            "type": "contour"
           }
          ],
          "contourcarpet": [
           {
            "colorbar": {
             "outlinewidth": 0,
             "ticks": ""
            },
            "type": "contourcarpet"
           }
          ],
          "heatmap": [
           {
            "colorbar": {
             "outlinewidth": 0,
             "ticks": ""
            },
            "colorscale": [
             [
              0,
              "#0d0887"
             ],
             [
              0.1111111111111111,
              "#46039f"
             ],
             [
              0.2222222222222222,
              "#7201a8"
             ],
             [
              0.3333333333333333,
              "#9c179e"
             ],
             [
              0.4444444444444444,
              "#bd3786"
             ],
             [
              0.5555555555555556,
              "#d8576b"
             ],
             [
              0.6666666666666666,
              "#ed7953"
             ],
             [
              0.7777777777777778,
              "#fb9f3a"
             ],
             [
              0.8888888888888888,
              "#fdca26"
             ],
             [
              1,
              "#f0f921"
             ]
            ],
            "type": "heatmap"
           }
          ],
          "heatmapgl": [
           {
            "colorbar": {
             "outlinewidth": 0,
             "ticks": ""
            },
            "colorscale": [
             [
              0,
              "#0d0887"
             ],
             [
              0.1111111111111111,
              "#46039f"
             ],
             [
              0.2222222222222222,
              "#7201a8"
             ],
             [
              0.3333333333333333,
              "#9c179e"
             ],
             [
              0.4444444444444444,
              "#bd3786"
             ],
             [
              0.5555555555555556,
              "#d8576b"
             ],
             [
              0.6666666666666666,
              "#ed7953"
             ],
             [
              0.7777777777777778,
              "#fb9f3a"
             ],
             [
              0.8888888888888888,
              "#fdca26"
             ],
             [
              1,
              "#f0f921"
             ]
            ],
            "type": "heatmapgl"
           }
          ],
          "histogram": [
           {
            "marker": {
             "pattern": {
              "fillmode": "overlay",
              "size": 10,
              "solidity": 0.2
             }
            },
            "type": "histogram"
           }
          ],
          "histogram2d": [
           {
            "colorbar": {
             "outlinewidth": 0,
             "ticks": ""
            },
            "colorscale": [
             [
              0,
              "#0d0887"
             ],
             [
              0.1111111111111111,
              "#46039f"
             ],
             [
              0.2222222222222222,
              "#7201a8"
             ],
             [
              0.3333333333333333,
              "#9c179e"
             ],
             [
              0.4444444444444444,
              "#bd3786"
             ],
             [
              0.5555555555555556,
              "#d8576b"
             ],
             [
              0.6666666666666666,
              "#ed7953"
             ],
             [
              0.7777777777777778,
              "#fb9f3a"
             ],
             [
              0.8888888888888888,
              "#fdca26"
             ],
             [
              1,
              "#f0f921"
             ]
            ],
            "type": "histogram2d"
           }
          ],
          "histogram2dcontour": [
           {
            "colorbar": {
             "outlinewidth": 0,
             "ticks": ""
            },
            "colorscale": [
             [
              0,
              "#0d0887"
             ],
             [
              0.1111111111111111,
              "#46039f"
             ],
             [
              0.2222222222222222,
              "#7201a8"
             ],
             [
              0.3333333333333333,
              "#9c179e"
             ],
             [
              0.4444444444444444,
              "#bd3786"
             ],
             [
              0.5555555555555556,
              "#d8576b"
             ],
             [
              0.6666666666666666,
              "#ed7953"
             ],
             [
              0.7777777777777778,
              "#fb9f3a"
             ],
             [
              0.8888888888888888,
              "#fdca26"
             ],
             [
              1,
              "#f0f921"
             ]
            ],
            "type": "histogram2dcontour"
           }
          ],
          "mesh3d": [
           {
            "colorbar": {
             "outlinewidth": 0,
             "ticks": ""
            },
            "type": "mesh3d"
           }
          ],
          "parcoords": [
           {
            "line": {
             "colorbar": {
              "outlinewidth": 0,
              "ticks": ""
             }
            },
            "type": "parcoords"
           }
          ],
          "pie": [
           {
            "automargin": true,
            "type": "pie"
           }
          ],
          "scatter": [
           {
            "fillpattern": {
             "fillmode": "overlay",
             "size": 10,
             "solidity": 0.2
            },
            "type": "scatter"
           }
          ],
          "scatter3d": [
           {
            "line": {
             "colorbar": {
              "outlinewidth": 0,
              "ticks": ""
             }
            },
            "marker": {
             "colorbar": {
              "outlinewidth": 0,
              "ticks": ""
             }
            },
            "type": "scatter3d"
           }
          ],
          "scattercarpet": [
           {
            "marker": {
             "colorbar": {
              "outlinewidth": 0,
              "ticks": ""
             }
            },
            "type": "scattercarpet"
           }
          ],
          "scattergeo": [
           {
            "marker": {
             "colorbar": {
              "outlinewidth": 0,
              "ticks": ""
             }
            },
            "type": "scattergeo"
           }
          ],
          "scattergl": [
           {
            "marker": {
             "colorbar": {
              "outlinewidth": 0,
              "ticks": ""
             }
            },
            "type": "scattergl"
           }
          ],
          "scattermapbox": [
           {
            "marker": {
             "colorbar": {
              "outlinewidth": 0,
              "ticks": ""
             }
            },
            "type": "scattermapbox"
           }
          ],
          "scatterpolar": [
           {
            "marker": {
             "colorbar": {
              "outlinewidth": 0,
              "ticks": ""
             }
            },
            "type": "scatterpolar"
           }
          ],
          "scatterpolargl": [
           {
            "marker": {
             "colorbar": {
              "outlinewidth": 0,
              "ticks": ""
             }
            },
            "type": "scatterpolargl"
           }
          ],
          "scatterternary": [
           {
            "marker": {
             "colorbar": {
              "outlinewidth": 0,
              "ticks": ""
             }
            },
            "type": "scatterternary"
           }
          ],
          "surface": [
           {
            "colorbar": {
             "outlinewidth": 0,
             "ticks": ""
            },
            "colorscale": [
             [
              0,
              "#0d0887"
             ],
             [
              0.1111111111111111,
              "#46039f"
             ],
             [
              0.2222222222222222,
              "#7201a8"
             ],
             [
              0.3333333333333333,
              "#9c179e"
             ],
             [
              0.4444444444444444,
              "#bd3786"
             ],
             [
              0.5555555555555556,
              "#d8576b"
             ],
             [
              0.6666666666666666,
              "#ed7953"
             ],
             [
              0.7777777777777778,
              "#fb9f3a"
             ],
             [
              0.8888888888888888,
              "#fdca26"
             ],
             [
              1,
              "#f0f921"
             ]
            ],
            "type": "surface"
           }
          ],
          "table": [
           {
            "cells": {
             "fill": {
              "color": "#EBF0F8"
             },
             "line": {
              "color": "white"
             }
            },
            "header": {
             "fill": {
              "color": "#C8D4E3"
             },
             "line": {
              "color": "white"
             }
            },
            "type": "table"
           }
          ]
         },
         "layout": {
          "annotationdefaults": {
           "arrowcolor": "#2a3f5f",
           "arrowhead": 0,
           "arrowwidth": 1
          },
          "autotypenumbers": "strict",
          "coloraxis": {
           "colorbar": {
            "outlinewidth": 0,
            "ticks": ""
           }
          },
          "colorscale": {
           "diverging": [
            [
             0,
             "#8e0152"
            ],
            [
             0.1,
             "#c51b7d"
            ],
            [
             0.2,
             "#de77ae"
            ],
            [
             0.3,
             "#f1b6da"
            ],
            [
             0.4,
             "#fde0ef"
            ],
            [
             0.5,
             "#f7f7f7"
            ],
            [
             0.6,
             "#e6f5d0"
            ],
            [
             0.7,
             "#b8e186"
            ],
            [
             0.8,
             "#7fbc41"
            ],
            [
             0.9,
             "#4d9221"
            ],
            [
             1,
             "#276419"
            ]
           ],
           "sequential": [
            [
             0,
             "#0d0887"
            ],
            [
             0.1111111111111111,
             "#46039f"
            ],
            [
             0.2222222222222222,
             "#7201a8"
            ],
            [
             0.3333333333333333,
             "#9c179e"
            ],
            [
             0.4444444444444444,
             "#bd3786"
            ],
            [
             0.5555555555555556,
             "#d8576b"
            ],
            [
             0.6666666666666666,
             "#ed7953"
            ],
            [
             0.7777777777777778,
             "#fb9f3a"
            ],
            [
             0.8888888888888888,
             "#fdca26"
            ],
            [
             1,
             "#f0f921"
            ]
           ],
           "sequentialminus": [
            [
             0,
             "#0d0887"
            ],
            [
             0.1111111111111111,
             "#46039f"
            ],
            [
             0.2222222222222222,
             "#7201a8"
            ],
            [
             0.3333333333333333,
             "#9c179e"
            ],
            [
             0.4444444444444444,
             "#bd3786"
            ],
            [
             0.5555555555555556,
             "#d8576b"
            ],
            [
             0.6666666666666666,
             "#ed7953"
            ],
            [
             0.7777777777777778,
             "#fb9f3a"
            ],
            [
             0.8888888888888888,
             "#fdca26"
            ],
            [
             1,
             "#f0f921"
            ]
           ]
          },
          "colorway": [
           "#636efa",
           "#EF553B",
           "#00cc96",
           "#ab63fa",
           "#FFA15A",
           "#19d3f3",
           "#FF6692",
           "#B6E880",
           "#FF97FF",
           "#FECB52"
          ],
          "font": {
           "color": "#2a3f5f"
          },
          "geo": {
           "bgcolor": "white",
           "lakecolor": "white",
           "landcolor": "#E5ECF6",
           "showlakes": true,
           "showland": true,
           "subunitcolor": "white"
          },
          "hoverlabel": {
           "align": "left"
          },
          "hovermode": "closest",
          "mapbox": {
           "style": "light"
          },
          "paper_bgcolor": "white",
          "plot_bgcolor": "#E5ECF6",
          "polar": {
           "angularaxis": {
            "gridcolor": "white",
            "linecolor": "white",
            "ticks": ""
           },
           "bgcolor": "#E5ECF6",
           "radialaxis": {
            "gridcolor": "white",
            "linecolor": "white",
            "ticks": ""
           }
          },
          "scene": {
           "xaxis": {
            "backgroundcolor": "#E5ECF6",
            "gridcolor": "white",
            "gridwidth": 2,
            "linecolor": "white",
            "showbackground": true,
            "ticks": "",
            "zerolinecolor": "white"
           },
           "yaxis": {
            "backgroundcolor": "#E5ECF6",
            "gridcolor": "white",
            "gridwidth": 2,
            "linecolor": "white",
            "showbackground": true,
            "ticks": "",
            "zerolinecolor": "white"
           },
           "zaxis": {
            "backgroundcolor": "#E5ECF6",
            "gridcolor": "white",
            "gridwidth": 2,
            "linecolor": "white",
            "showbackground": true,
            "ticks": "",
            "zerolinecolor": "white"
           }
          },
          "shapedefaults": {
           "line": {
            "color": "#2a3f5f"
           }
          },
          "ternary": {
           "aaxis": {
            "gridcolor": "white",
            "linecolor": "white",
            "ticks": ""
           },
           "baxis": {
            "gridcolor": "white",
            "linecolor": "white",
            "ticks": ""
           },
           "bgcolor": "#E5ECF6",
           "caxis": {
            "gridcolor": "white",
            "linecolor": "white",
            "ticks": ""
           }
          },
          "title": {
           "x": 0.05
          },
          "xaxis": {
           "automargin": true,
           "gridcolor": "white",
           "linecolor": "white",
           "ticks": "",
           "title": {
            "standoff": 15
           },
           "zerolinecolor": "white",
           "zerolinewidth": 2
          },
          "yaxis": {
           "automargin": true,
           "gridcolor": "white",
           "linecolor": "white",
           "ticks": "",
           "title": {
            "standoff": 15
           },
           "zerolinecolor": "white",
           "zerolinewidth": 2
          }
         }
        },
        "xaxis": {
         "anchor": "y",
         "domain": [
          0,
          1
         ],
         "title": {
          "text": "MK_cross_lh_GTR"
         }
        },
        "yaxis": {
         "anchor": "x",
         "domain": [
          0,
          1
         ],
         "title": {
          "text": "MK_cross_diff_GTR"
         }
        }
       }
      },
      "text/html": [
       "<div>                            <div id=\"c2fa23cb-222e-4cf8-86c7-472ff54b51fd\" class=\"plotly-graph-div\" style=\"height:525px; width:100%;\"></div>            <script type=\"text/javascript\">                require([\"plotly\"], function(Plotly) {                    window.PLOTLYENV=window.PLOTLYENV || {};                                    if (document.getElementById(\"c2fa23cb-222e-4cf8-86c7-472ff54b51fd\")) {                    Plotly.newPlot(                        \"c2fa23cb-222e-4cf8-86c7-472ff54b51fd\",                        [{\"hovertemplate\":\"MK_cross_lh_GTR=%{x}<br>MK_cross_diff_GTR=%{y}<extra></extra>\",\"legendgroup\":\"\",\"marker\":{\"color\":\"#636efa\",\"symbol\":\"circle\"},\"mode\":\"markers\",\"name\":\"\",\"orientation\":\"v\",\"showlegend\":false,\"x\":[-718.032329,-3217.172808,-1812.004217,-4927.341894,-130.207746,-342.874511,-223.580689,-1244.181924,-2245.62898,-2098.762343,-2789.491947,-4113.212014,-299.648207,-844.263745,-244.564012,-30.36545,-2943.259303,-100.407432,-1944.590297,-3357.163347,-3537.932105,-2877.485934,-531.86768,-341.55081,-247.163993,-4101.428918,-101.234068,-572.117571,-903.792231,-137.121831,-134.961354,-721.749675,-128.982707,-322.323619,-9370.513579,-2434.344758,-1333.430583,-10763.370369,-2415.255739,-882.751267,-4565.194861,-110.469689,-1719.929157,-227.063083,-203.273929,-314.357043,-304.877461,-2740.418496,-1606.504894,-146.096901,-4018.597187,-441.953374,-312.681517,-962.720059,-2689.877212,-4694.898993,-1152.813345,-379.12458,-1329.903295,-850.430309,-1825.552611,-6339.915824,-3413.273021,-304.062809,-3050.325936,-2136.009333,-1540.102544,-883.542567,-1252.854832,-474.700843,-4229.975632,-3386.13304,-5888.92082,-427.977194,-3442.055507,-11248.467604,-890.367799,-445.05422,-2098.762343,-3278.92231,-1944.444907,-94.604599,-7684.271281,-388.68473,-338.84269,-3252.673902,-2.772636,-995.8773,-193.961398,-716.508869,-2713.618664,-8259.452826,-302.495642,-883.159404,-949.44325,-783.185908,-6582.916747,-3631.747675,-2137.009989,-411.103359,-5596.107831,-209.029059,-48.679826,-1343.997945,-2028.204039,-6347.207959,-365.174048,-725.331756,-464.706351,-910.633428,-159.09009,-473.106918,-3388.983125,-2458.340188,-7815.848979,-3026.07551,-1403.799255,-3000.22827,-7147.973551,-1778.571391,-262.529328,-11149.228321,-1709.256763,-1131.898904,-1409.264361,-363.515,-10251.59123,-2427.54086,-6454.936581,-7690.227599,-385.762719,-440.823109,-74.410841,-3377.775093,-2043.586939,-393.333814,-2730.48005,-14627.787325,-493.449972,-558.235641,-1261.930795,-218.85912,-641.765975,-641.765975,-373.972514,-5878.006631,-1133.042887,-217.202463,-840.506722,-7154.835752,-937.989204,-6588.529266,-4356.410644,-198.976252,-10273.597899,-578.094369,-6838.068199,-7755.059035,-338.84269,-11277.6099,-627.585002,-813.088165,-309.671717,-5245.661844,-205.550813,-170.965769,-135.60632,-528.09737,-20471.974648,-407.101004,-2661.9427,-2719.138357,-1531.232644,-316.148095,-1020.253314,-5527.600812,-83.580263,-373.825881,-743.750555,-296.109411,-383.097101,-7163.150143,-3546.981482,-2097.612528,-626.466002,-2028.204039,-823.069538,-5538.692174,-633.976406,-3806.899094,-2563.373511,-6657.992022,-343.366209,-1972.250902,-3213.030721,-213.034205,-10706.320257,-229.941602,-673.198294,-36.56011,-6455.088391,-46.122323,-593.840227,-405.533808,-621.185642,-1148.8997,-2065.301146,-1407.468419,-4639.269338,-3133.247516,-75.797377,-7120.032576,-285.858079,-295.73213,-115.924777,-2342.242999,-401.469132,-2823.409047,-413.678869,-4694.898993,-707.574159,-2070.697425,-1227.690784,-1263.801063,-3299.864617,-1257.507963,-1668.345605,-696.982205,-6971.73971,-969.453538,-1023.065846,-1470.452435,-2845.300264,-111.708168,-1298.437565,-206.261014,-322.058336,-148.90321,-671.950624,-733.952386,-938.402274,-216.209124,-3317.662415,-4199.753421,-5596.107831,-710.028807,-881.115467,-568.128742,-696.868378,-68.453864,-327.550505,-11345.095203,-2548.826366,-11123.888245,-7183.588553,-2804.755471,-924.376759,-7730.569697,-1132.249959,-12221.337824,-2538.983067,-100.345105,-167.103878,-734.826409,-1253.075046,-7771.679367,-206.430183,-4568.517146,-516.021629,-778.060037,-3247.668532,-3942.01913,-175.490417,-3438.056332,-17215.467992,-150.378827,-267.684109,-114.531312,-6454.936581,-5708.611379,-622.954785,-3356.826458,-640.778957,-1606.261963,-866.280652,-1441.117817,-211.174874,-285.23531,-154.918949,-143.701143,-52.804513,-442.917968,-501.706075,-2814.160552,-2720.109181,-874.428425,-1336.792581,-152.956009,-2142.259141,-7608.341867,-143.218188,-427.444204,-236.913715,-6829.405509,-713.101143,-1490.818967,-2335.130423,-413.224684,-5485.470089,-3237.638488,-423.864784,-558.826627,-6905.282007,-1145.985348,-84.320898,-2623.372977,-688.458514,-5538.692174,-3576.439093,-5880.678896,-6564.246057,-1062.785773,-665.79318,-80.099643,-461.669783,-345.1486,-513.452016,-599.587265,-1981.713935,-2412.063,-963.296086,-911.600619,-4613.105032,-2836.928679,-1786.8557,-7199.419832,-2035.047864,-2877.485934,-1115.488322,-1628.467602,-5853.054708,-4570.934519,-7049.111652,-3385.854871,-100.643228,-1371.77268,-6412.851295,-225.938533,-7228.851167,-1441.165692,-1437.231906,-108.601177,-310.479402,-772.129017,-23757.331917,-2850.575973,-491.117917,-1134.809883,-429.176221,-13071.79691,-2336.756153,-266.931494,-357.355078,-3329.391731,-1289.336503,-14065.728059,-4588.619395,-3361.830669,-14627.486923,-2226.637307,-6542.915306,-1523.063609],\"xaxis\":\"x\",\"y\":[-61.11665400000004,-84.39396199999965,-87.09720199999992,-109.65376500000002,-0.28500999999999976,-2.2265939999999773,-15.500529,-11.514030000000048,-29.89609100000007,-108.62727799999993,-29.739055000000008,-61.59558399999969,-14.17724800000002,-8.330038999999942,-4.752034999999978,-0.29143099999999933,-59.63555699999961,-2.2387180000000058,-82.18189600000005,-47.19094700000005,-36.3790799999997,-44.06424100000004,-9.089155000000005,-27.060692000000017,-3.856004000000013,-84.65785199999982,-1.8738460000000003,-19.22425499999997,-6.64985200000001,-2.3974689999999725,-1.5349820000000136,-10.041424000000006,-3.3904310000000066,-5.330374000000006,-95.4796750000005,-17.08382500000016,-17.787295000000086,-125.22384299999976,-16.623935999999958,-12.833337000000029,-31.218171999999868,-1.9096779999999995,-40.317314000000124,-22.980771000000004,-6.051727,-8.327665999999965,-25.556993999999975,-38.716559999999845,-51.800677999999834,-0.5094589999999926,-98.89572999999973,-5.089961000000017,-2.9374290000000087,-11.254773,-17.870458999999755,-31.398549999999886,-19.82611799999995,-0.8214499999999703,-13.43317500000012,-37.443243999999936,-165.900263,-79.55197899999985,-47.10426400000006,-3.8190230000000156,-26.199739000000136,-19.932643999999982,-42.14419600000019,-11.00542699999994,-11.406269000000066,-44.563507000000016,-73.28825299999971,-60.20191999999997,-63.02936099999988,-1.2869160000000193,-39.61679400000003,-132.87396199999966,-20.240429999999947,-14.657930999999962,-108.62727799999993,-50.96828400000004,-14.313076000000137,-0.9105709999999902,-235.86605300000065,-26.75497200000001,-1.8024010000000317,-30.60365899999988,-9.999999996956888e-07,-10.985965999999962,-17.36988500000001,-41.36574299999995,-27.317633999999998,-31.757994000001418,-5.177342999999951,-24.56057199999998,-38.97522900000001,-17.050241000000028,-91.26662100000067,-35.193674999999985,-40.56296500000008,-15.501141000000018,-42.998051999999916,-7.2460260000000005,-0.40428999999999604,-14.594837999999982,-29.984615000000076,-89.67367300000024,-10.660684000000003,-6.687526000000048,-52.741018999999994,-19.056377999999995,-17.686005999999992,-12.878706000000022,-23.615348000000267,-16.3753999999999,-64.33406999999988,-36.88234899999998,-19.766485999999986,-38.031116999999995,-70.14952100000028,-27.296693000000005,-11.170786000000021,-69.18813600000067,-27.88555200000019,-29.177069999999958,-17.705872,-1.7532489999999825,-160.49926699999924,-16.510776000000078,-67.45060399999966,-131.02533700000004,-44.452991,-12.573118999999963,-1.2758800000000008,-22.595940000000155,-24.701039000000037,-9.513785000000041,-36.818334999999934,-235.67391099999986,-4.985469000000023,-10.00325399999997,-22.64708900000005,-2.81027899999998,-1.3237250000000813,-1.3237250000000813,-11.643648999999982,-97.16776200000004,-29.062333999999964,-6.953502999999984,-8.069357999999966,-83.70838399999957,-6.661470000000008,-133.43310699999984,-84.89726299999984,-7.133496999999977,-106.18143500000042,-26.020522000000028,-94.42192599999998,-81.14265100000011,-1.8024010000000317,-121.15456699999959,-37.91956700000003,-30.578145999999947,-17.498576000000014,-62.030351999999766,-1.9989360000000147,-19.78745999999998,-0.6594670000000065,-26.529416999999967,-24.077398999997968,-5.4360209999999825,-77.40639599999986,-28.33580299999994,-39.12157899999988,-5.290956999999992,-29.69941300000005,-70.40926499999932,-1.4103319999999968,-15.628693999999996,-17.75093599999991,-4.3180320000000165,-14.569496000000015,-89.8938390000003,-21.305970000000343,-82.20802000000003,-10.84181799999999,-29.984615000000076,-29.73719899999992,-119.37310499999967,-22.766571,-199.31803899999977,-51.72663999999986,-98.73066600000038,-1.337562000000048,-39.890805999999884,-27.890627000000222,-0.6828159999999741,-97.88397900000018,-3.7524259999999856,-16.265324000000078,-1.5657430000000048,-55.89690299999984,-0.5506209999999996,-43.876415000000065,-4.178182000000049,-10.597822000000065,-13.431341999999859,-23.382662999999866,-19.28517499999998,-116.39638800000012,-82.65078199999971,-2.0773009999999914,-88.79543099999955,-17.04391499999997,-6.975228999999956,-1.2257760000000104,-21.64286600000014,-37.29092400000002,-35.31703000000016,-13.816912000000002,-31.398549999999886,-52.09789799999999,-42.06932999999981,-55.151566999999886,-22.515854000000218,-28.96634700000004,-30.123743999999988,-61.463076,-38.13057100000003,-92.12689099999989,-10.738760999999954,-13.188583999999992,-36.197660999999925,-63.44142800000009,-0.330600000000004,-19.09319699999992,-12.135300999999998,-7.568283000000008,-5.9348369999999875,-6.361823999999956,-6.907975000000079,-30.715626000000043,-15.652323999999993,-87.33839499999976,-46.58148400000027,-42.998051999999916,-1.6067699999999832,-30.678696999999943,-24.90404000000001,-6.535566000000017,-0.9734089999999895,-11.917479000000014,-217.5405520000004,-18.482682999999724,-170.95854400000098,-88.59820799999943,-12.497471000000132,-26.74609899999996,-64.80434799999966,-42.84995099999992,-5.006354000001011,-16.567598999999973,-1.7133260000000092,-0.521097999999995,-12.296046000000047,-70.30340499999988,-96.76370599999973,-0.4120460000000037,-107.60291700000016,-5.506148999999937,-21.89534900000001,-26.327864000000318,-100.99650599999995,-22.01650600000002,-45.952894000000015,-314.7953379999999,-6.572596000000004,-1.913297,-2.8260279999999938,-67.45060399999966,-75.08324999999968,-23.015946999999983,-68.83224900000005,-24.887230000000045,-49.66902099999993,-58.91727800000001,-31.718542999999954,-11.889054999999985,-7.980550000000051,-10.434522999999984,-0.8950450000000103,-0.28834400000000215,-32.46863599999995,-3.3273849999999925,-77.51405899999963,-27.929427999999916,-18.668146999999976,-5.197835999999825,-3.6558100000000024,-51.255044,-63.340017000000444,-0.7067380000000014,-22.291425000000004,-2.7826080000000104,-83.15663399999994,-41.012827000000016,-35.17997799999989,-48.22219300000006,-12.475060000000042,-78.09536200000002,-17.7542269999999,-21.02028100000001,-17.00683700000002,-76.59807799999999,-22.326024999999845,-4.177482999999995,-17.9403870000001,-6.359920999999986,-119.37310499999967,-47.45268899999974,-68.5515460000006,-98.97402500000044,-13.797242000000097,-28.67000900000005,-1.333558999999994,-8.679593000000011,-10.346742000000006,-9.757890999999972,-8.821279000000004,-50.64971199999991,-5.748436000000311,-43.28120899999999,-31.700099000000023,-31.03724500000044,-33.159164000000146,-77.40304000000015,-83.06708299999991,-29.06899899999985,-44.06424100000004,-11.130683999999974,-13.446929999999838,-100.87981299999956,-31.653808000000026,-120.6863289999992,-59.924011000000064,-3.663513999999992,-4.8350030000001425,-84.2513770000005,-1.9382350000000201,-96.11897099999987,-30.883786999999984,-31.291811000000052,-0.6750310000000042,-10.717422,-30.062017999999966,-320.425468999998,-66.77053100000012,-0.8301879999999642,-23.902229999999918,-21.510658999999976,-261.1631639999996,-93.47681999999986,-12.64531199999999,-24.045061999999973,-34.99769400000014,-86.26370500000007,-90.87549199999921,-30.534593999999743,-20.713576999999987,-235.37350900000092,-5.837316000000101,-106.67004600000018,-92.51912200000015],\"yaxis\":\"y\",\"type\":\"scatter\"}],                        {\"template\":{\"data\":{\"histogram2dcontour\":[{\"type\":\"histogram2dcontour\",\"colorbar\":{\"outlinewidth\":0,\"ticks\":\"\"},\"colorscale\":[[0.0,\"#0d0887\"],[0.1111111111111111,\"#46039f\"],[0.2222222222222222,\"#7201a8\"],[0.3333333333333333,\"#9c179e\"],[0.4444444444444444,\"#bd3786\"],[0.5555555555555556,\"#d8576b\"],[0.6666666666666666,\"#ed7953\"],[0.7777777777777778,\"#fb9f3a\"],[0.8888888888888888,\"#fdca26\"],[1.0,\"#f0f921\"]]}],\"choropleth\":[{\"type\":\"choropleth\",\"colorbar\":{\"outlinewidth\":0,\"ticks\":\"\"}}],\"histogram2d\":[{\"type\":\"histogram2d\",\"colorbar\":{\"outlinewidth\":0,\"ticks\":\"\"},\"colorscale\":[[0.0,\"#0d0887\"],[0.1111111111111111,\"#46039f\"],[0.2222222222222222,\"#7201a8\"],[0.3333333333333333,\"#9c179e\"],[0.4444444444444444,\"#bd3786\"],[0.5555555555555556,\"#d8576b\"],[0.6666666666666666,\"#ed7953\"],[0.7777777777777778,\"#fb9f3a\"],[0.8888888888888888,\"#fdca26\"],[1.0,\"#f0f921\"]]}],\"heatmap\":[{\"type\":\"heatmap\",\"colorbar\":{\"outlinewidth\":0,\"ticks\":\"\"},\"colorscale\":[[0.0,\"#0d0887\"],[0.1111111111111111,\"#46039f\"],[0.2222222222222222,\"#7201a8\"],[0.3333333333333333,\"#9c179e\"],[0.4444444444444444,\"#bd3786\"],[0.5555555555555556,\"#d8576b\"],[0.6666666666666666,\"#ed7953\"],[0.7777777777777778,\"#fb9f3a\"],[0.8888888888888888,\"#fdca26\"],[1.0,\"#f0f921\"]]}],\"heatmapgl\":[{\"type\":\"heatmapgl\",\"colorbar\":{\"outlinewidth\":0,\"ticks\":\"\"},\"colorscale\":[[0.0,\"#0d0887\"],[0.1111111111111111,\"#46039f\"],[0.2222222222222222,\"#7201a8\"],[0.3333333333333333,\"#9c179e\"],[0.4444444444444444,\"#bd3786\"],[0.5555555555555556,\"#d8576b\"],[0.6666666666666666,\"#ed7953\"],[0.7777777777777778,\"#fb9f3a\"],[0.8888888888888888,\"#fdca26\"],[1.0,\"#f0f921\"]]}],\"contourcarpet\":[{\"type\":\"contourcarpet\",\"colorbar\":{\"outlinewidth\":0,\"ticks\":\"\"}}],\"contour\":[{\"type\":\"contour\",\"colorbar\":{\"outlinewidth\":0,\"ticks\":\"\"},\"colorscale\":[[0.0,\"#0d0887\"],[0.1111111111111111,\"#46039f\"],[0.2222222222222222,\"#7201a8\"],[0.3333333333333333,\"#9c179e\"],[0.4444444444444444,\"#bd3786\"],[0.5555555555555556,\"#d8576b\"],[0.6666666666666666,\"#ed7953\"],[0.7777777777777778,\"#fb9f3a\"],[0.8888888888888888,\"#fdca26\"],[1.0,\"#f0f921\"]]}],\"surface\":[{\"type\":\"surface\",\"colorbar\":{\"outlinewidth\":0,\"ticks\":\"\"},\"colorscale\":[[0.0,\"#0d0887\"],[0.1111111111111111,\"#46039f\"],[0.2222222222222222,\"#7201a8\"],[0.3333333333333333,\"#9c179e\"],[0.4444444444444444,\"#bd3786\"],[0.5555555555555556,\"#d8576b\"],[0.6666666666666666,\"#ed7953\"],[0.7777777777777778,\"#fb9f3a\"],[0.8888888888888888,\"#fdca26\"],[1.0,\"#f0f921\"]]}],\"mesh3d\":[{\"type\":\"mesh3d\",\"colorbar\":{\"outlinewidth\":0,\"ticks\":\"\"}}],\"scatter\":[{\"fillpattern\":{\"fillmode\":\"overlay\",\"size\":10,\"solidity\":0.2},\"type\":\"scatter\"}],\"parcoords\":[{\"type\":\"parcoords\",\"line\":{\"colorbar\":{\"outlinewidth\":0,\"ticks\":\"\"}}}],\"scatterpolargl\":[{\"type\":\"scatterpolargl\",\"marker\":{\"colorbar\":{\"outlinewidth\":0,\"ticks\":\"\"}}}],\"bar\":[{\"error_x\":{\"color\":\"#2a3f5f\"},\"error_y\":{\"color\":\"#2a3f5f\"},\"marker\":{\"line\":{\"color\":\"#E5ECF6\",\"width\":0.5},\"pattern\":{\"fillmode\":\"overlay\",\"size\":10,\"solidity\":0.2}},\"type\":\"bar\"}],\"scattergeo\":[{\"type\":\"scattergeo\",\"marker\":{\"colorbar\":{\"outlinewidth\":0,\"ticks\":\"\"}}}],\"scatterpolar\":[{\"type\":\"scatterpolar\",\"marker\":{\"colorbar\":{\"outlinewidth\":0,\"ticks\":\"\"}}}],\"histogram\":[{\"marker\":{\"pattern\":{\"fillmode\":\"overlay\",\"size\":10,\"solidity\":0.2}},\"type\":\"histogram\"}],\"scattergl\":[{\"type\":\"scattergl\",\"marker\":{\"colorbar\":{\"outlinewidth\":0,\"ticks\":\"\"}}}],\"scatter3d\":[{\"type\":\"scatter3d\",\"line\":{\"colorbar\":{\"outlinewidth\":0,\"ticks\":\"\"}},\"marker\":{\"colorbar\":{\"outlinewidth\":0,\"ticks\":\"\"}}}],\"scattermapbox\":[{\"type\":\"scattermapbox\",\"marker\":{\"colorbar\":{\"outlinewidth\":0,\"ticks\":\"\"}}}],\"scatterternary\":[{\"type\":\"scatterternary\",\"marker\":{\"colorbar\":{\"outlinewidth\":0,\"ticks\":\"\"}}}],\"scattercarpet\":[{\"type\":\"scattercarpet\",\"marker\":{\"colorbar\":{\"outlinewidth\":0,\"ticks\":\"\"}}}],\"carpet\":[{\"aaxis\":{\"endlinecolor\":\"#2a3f5f\",\"gridcolor\":\"white\",\"linecolor\":\"white\",\"minorgridcolor\":\"white\",\"startlinecolor\":\"#2a3f5f\"},\"baxis\":{\"endlinecolor\":\"#2a3f5f\",\"gridcolor\":\"white\",\"linecolor\":\"white\",\"minorgridcolor\":\"white\",\"startlinecolor\":\"#2a3f5f\"},\"type\":\"carpet\"}],\"table\":[{\"cells\":{\"fill\":{\"color\":\"#EBF0F8\"},\"line\":{\"color\":\"white\"}},\"header\":{\"fill\":{\"color\":\"#C8D4E3\"},\"line\":{\"color\":\"white\"}},\"type\":\"table\"}],\"barpolar\":[{\"marker\":{\"line\":{\"color\":\"#E5ECF6\",\"width\":0.5},\"pattern\":{\"fillmode\":\"overlay\",\"size\":10,\"solidity\":0.2}},\"type\":\"barpolar\"}],\"pie\":[{\"automargin\":true,\"type\":\"pie\"}]},\"layout\":{\"autotypenumbers\":\"strict\",\"colorway\":[\"#636efa\",\"#EF553B\",\"#00cc96\",\"#ab63fa\",\"#FFA15A\",\"#19d3f3\",\"#FF6692\",\"#B6E880\",\"#FF97FF\",\"#FECB52\"],\"font\":{\"color\":\"#2a3f5f\"},\"hovermode\":\"closest\",\"hoverlabel\":{\"align\":\"left\"},\"paper_bgcolor\":\"white\",\"plot_bgcolor\":\"#E5ECF6\",\"polar\":{\"bgcolor\":\"#E5ECF6\",\"angularaxis\":{\"gridcolor\":\"white\",\"linecolor\":\"white\",\"ticks\":\"\"},\"radialaxis\":{\"gridcolor\":\"white\",\"linecolor\":\"white\",\"ticks\":\"\"}},\"ternary\":{\"bgcolor\":\"#E5ECF6\",\"aaxis\":{\"gridcolor\":\"white\",\"linecolor\":\"white\",\"ticks\":\"\"},\"baxis\":{\"gridcolor\":\"white\",\"linecolor\":\"white\",\"ticks\":\"\"},\"caxis\":{\"gridcolor\":\"white\",\"linecolor\":\"white\",\"ticks\":\"\"}},\"coloraxis\":{\"colorbar\":{\"outlinewidth\":0,\"ticks\":\"\"}},\"colorscale\":{\"sequential\":[[0.0,\"#0d0887\"],[0.1111111111111111,\"#46039f\"],[0.2222222222222222,\"#7201a8\"],[0.3333333333333333,\"#9c179e\"],[0.4444444444444444,\"#bd3786\"],[0.5555555555555556,\"#d8576b\"],[0.6666666666666666,\"#ed7953\"],[0.7777777777777778,\"#fb9f3a\"],[0.8888888888888888,\"#fdca26\"],[1.0,\"#f0f921\"]],\"sequentialminus\":[[0.0,\"#0d0887\"],[0.1111111111111111,\"#46039f\"],[0.2222222222222222,\"#7201a8\"],[0.3333333333333333,\"#9c179e\"],[0.4444444444444444,\"#bd3786\"],[0.5555555555555556,\"#d8576b\"],[0.6666666666666666,\"#ed7953\"],[0.7777777777777778,\"#fb9f3a\"],[0.8888888888888888,\"#fdca26\"],[1.0,\"#f0f921\"]],\"diverging\":[[0,\"#8e0152\"],[0.1,\"#c51b7d\"],[0.2,\"#de77ae\"],[0.3,\"#f1b6da\"],[0.4,\"#fde0ef\"],[0.5,\"#f7f7f7\"],[0.6,\"#e6f5d0\"],[0.7,\"#b8e186\"],[0.8,\"#7fbc41\"],[0.9,\"#4d9221\"],[1,\"#276419\"]]},\"xaxis\":{\"gridcolor\":\"white\",\"linecolor\":\"white\",\"ticks\":\"\",\"title\":{\"standoff\":15},\"zerolinecolor\":\"white\",\"automargin\":true,\"zerolinewidth\":2},\"yaxis\":{\"gridcolor\":\"white\",\"linecolor\":\"white\",\"ticks\":\"\",\"title\":{\"standoff\":15},\"zerolinecolor\":\"white\",\"automargin\":true,\"zerolinewidth\":2},\"scene\":{\"xaxis\":{\"backgroundcolor\":\"#E5ECF6\",\"gridcolor\":\"white\",\"linecolor\":\"white\",\"showbackground\":true,\"ticks\":\"\",\"zerolinecolor\":\"white\",\"gridwidth\":2},\"yaxis\":{\"backgroundcolor\":\"#E5ECF6\",\"gridcolor\":\"white\",\"linecolor\":\"white\",\"showbackground\":true,\"ticks\":\"\",\"zerolinecolor\":\"white\",\"gridwidth\":2},\"zaxis\":{\"backgroundcolor\":\"#E5ECF6\",\"gridcolor\":\"white\",\"linecolor\":\"white\",\"showbackground\":true,\"ticks\":\"\",\"zerolinecolor\":\"white\",\"gridwidth\":2}},\"shapedefaults\":{\"line\":{\"color\":\"#2a3f5f\"}},\"annotationdefaults\":{\"arrowcolor\":\"#2a3f5f\",\"arrowhead\":0,\"arrowwidth\":1},\"geo\":{\"bgcolor\":\"white\",\"landcolor\":\"#E5ECF6\",\"subunitcolor\":\"white\",\"showland\":true,\"showlakes\":true,\"lakecolor\":\"white\"},\"title\":{\"x\":0.05},\"mapbox\":{\"style\":\"light\"}}},\"xaxis\":{\"anchor\":\"y\",\"domain\":[0.0,1.0],\"title\":{\"text\":\"MK_cross_lh_GTR\"}},\"yaxis\":{\"anchor\":\"x\",\"domain\":[0.0,1.0],\"title\":{\"text\":\"MK_cross_diff_GTR\"}},\"legend\":{\"tracegroupgap\":0},\"margin\":{\"t\":60}},                        {\"responsive\": true}                    ).then(function(){\n",
       "                            \n",
       "var gd = document.getElementById('c2fa23cb-222e-4cf8-86c7-472ff54b51fd');\n",
       "var x = new MutationObserver(function (mutations, observer) {{\n",
       "        var display = window.getComputedStyle(gd).display;\n",
       "        if (!display || display === 'none') {{\n",
       "            console.log([gd, 'removed!']);\n",
       "            Plotly.purge(gd);\n",
       "            observer.disconnect();\n",
       "        }}\n",
       "}});\n",
       "\n",
       "// Listen for the removal of the full notebook cells\n",
       "var notebookContainer = gd.closest('#notebook-container');\n",
       "if (notebookContainer) {{\n",
       "    x.observe(notebookContainer, {childList: true});\n",
       "}}\n",
       "\n",
       "// Listen for the clearing of the current output cell\n",
       "var outputEl = gd.closest('.output');\n",
       "if (outputEl) {{\n",
       "    x.observe(outputEl, {childList: true});\n",
       "}}\n",
       "\n",
       "                        })                };                });            </script>        </div>"
      ]
     },
     "metadata": {},
     "output_type": "display_data"
    },
    {
     "data": {
      "application/vnd.plotly.v1+json": {
       "config": {
        "plotlyServerURL": "https://plot.ly"
       },
       "data": [
        {
         "hovertemplate": "GTR_cross_diff_MK=%{x}<br>MK_cross_diff_GTR=%{y}<extra></extra>",
         "legendgroup": "",
         "marker": {
          "color": "#636efa",
          "symbol": "circle"
         },
         "mode": "markers",
         "name": "",
         "orientation": "v",
         "showlegend": false,
         "type": "scatter",
         "x": [
          -20.932618000000048,
          -36.8280920000002,
          -33.70509300000003,
          -40.923567999999705,
          -0.6461490000000083,
          -1.1220910000000117,
          -8.954318,
          -7.4678499999999985,
          -24.378221000000167,
          -28.56901999999991,
          -11.190226000000166,
          -32.19208200000003,
          -7.506529999999998,
          -5.0236340000000155,
          -2.9026039999999966,
          -0.9194620000000029,
          -43.731513999999834,
          0.13643199999999922,
          -44.88013599999999,
          -24.899947999999767,
          -25.893785000000207,
          -17.33824000000004,
          -7.047101999999995,
          -5.690025999999989,
          -5.132463999999999,
          -33.44426999999996,
          -0.811074000000005,
          -15.095623000000046,
          -4.354781000000003,
          -2.7259320000000002,
          -2.5349319999999977,
          -5.233786000000009,
          -7.790623000000011,
          -2.524723000000023,
          -64.03242599999976,
          -10.874191999999994,
          -9.424395000000004,
          -72.85468800000035,
          -10.654831999999942,
          -6.403962999999976,
          -16.174551000000065,
          -0.9588289999999944,
          -27.92461000000003,
          -8.969922999999994,
          -6.621584000000013,
          -8.136920000000003,
          -14.116206000000005,
          -20.996578000000227,
          -28.475280999999995,
          -0.30634300000001247,
          -83.52020399999992,
          -4.8645440000000235,
          -3.608296999999993,
          -5.374915999999985,
          -11.560735000000022,
          -16.69756499999994,
          -11.293242000000077,
          -0.779293999999993,
          -4.95261000000005,
          -11.516402999999968,
          -64.74903300000005,
          -37.0731310000001,
          -22.2931880000001,
          -3.236919999999998,
          -16.172977000000174,
          -11.833067000000028,
          -28.633374999999887,
          -5.277052000000026,
          -5.652563999999984,
          -17.169967999999983,
          -28.299003000000084,
          -23.825834000000214,
          -45.7119789999997,
          -0.9444900000000302,
          -21.288222000000133,
          -98.34922300000017,
          -7.655639000000065,
          -12.13067000000001,
          -28.56901999999991,
          -27.432544999999664,
          -9.142724000000044,
          -0.9372439999999926,
          -126.14402599999994,
          -5.307191999999986,
          -0.8092020000000275,
          -17.63377700000001,
          9.999999999177334e-07,
          -7.0921639999999115,
          -3.965993999999995,
          -19.185606000000007,
          -19.9900090000001,
          -27.370060000000194,
          -2.662633999999997,
          -11.410481000000004,
          -15.51861299999996,
          -17.328859999999963,
          -43.46917200000007,
          -23.328929999999673,
          -25.65858800000001,
          -10.217479999999966,
          -26.697307000000364,
          -3.4755150000000015,
          -0.09285100000000313,
          -7.346508999999969,
          -22.48443099999986,
          -47.84506400000009,
          -3.680536000000018,
          -2.5305829999999787,
          -13.435090000000002,
          -21.541653999999994,
          -7.643312000000009,
          -4.707732000000021,
          -16.25679900000023,
          -10.710593999999901,
          -40.680709000000206,
          -22.99679200000014,
          -8.647851999999943,
          -24.433138999999983,
          -39.05256399999962,
          -36.47234300000014,
          -7.809849000000014,
          -31.768066000000545,
          -16.644812,
          -12.51502000000005,
          -9.15341599999988,
          -1.0594890000000134,
          -78.18957599999976,
          -10.662180999999919,
          -26.25436499999978,
          -66.23379000000023,
          -11.768124999999998,
          -8.736868000000015,
          -0.7840910000000036,
          -22.764770000000226,
          -17.27812199999994,
          -3.8956079999999815,
          -18.693382000000156,
          -142.34594599999946,
          -1.9250750000000494,
          -9.418569999999988,
          -15.338510999999926,
          -2.235697999999985,
          -0.9708559999999693,
          -0.9708559999999693,
          -9.721222000000012,
          -53.1531759999998,
          -23.52239600000007,
          -3.058881999999983,
          -7.475821999999994,
          -40.850140000000465,
          -5.892654999999991,
          -69.11508099999992,
          -41.299205000000256,
          -2.5235359999999787,
          -69.39728500000001,
          -13.324483999999984,
          -54.36616200000026,
          -41.96849800000018,
          -0.8092020000000275,
          -70.547098,
          -8.596131000000014,
          -14.442738000000077,
          -4.985663999999986,
          -37.33589600000005,
          -1.0097299999999905,
          -9.82420900000001,
          -2.1068189999999873,
          -11.25344899999999,
          -24.72661599999992,
          -2.1673319999999876,
          -34.590950999999905,
          -15.818818000000192,
          -10.782674000000043,
          -2.7527299999999855,
          -27.049881000000028,
          -36.660639000000174,
          -0.8201409999999996,
          -11.225031999999999,
          -12.836176000000023,
          -3.3515580000000114,
          -7.569213999999988,
          -64.38527900000008,
          -16.262073000000328,
          -28.281132999999954,
          -6.122726999999998,
          -22.48443099999986,
          -13.625549000000035,
          -56.272435000000314,
          -7.671303000000023,
          -69.58413900000005,
          -31.498501000000033,
          -65.87586900000042,
          -1.1681239999999775,
          -20.93321100000003,
          -13.687199999999848,
          -0.5092159999999808,
          -72.41004500000054,
          -3.1500529999999856,
          -10.962871999999948,
          -1.3114550000000023,
          -60.5224589999998,
          -1.1763079999999988,
          -20.059654000000023,
          -4.273252000000014,
          -7.888959999999997,
          -6.594928999999979,
          -12.536759999999958,
          -7.463435000000004,
          -43.54480599999988,
          -35.59920899999997,
          -2.537868000000003,
          -60.23092900000029,
          -10.53231199999999,
          -6.327539000000002,
          -2.639780000000002,
          -27.216318999999885,
          -11.046507999999989,
          -20.764854000000014,
          -13.299453000000028,
          -16.69756499999994,
          -17.343795999999998,
          -23.841192000000092,
          -17.808373999999958,
          -13.711828999999966,
          -15.762477999999874,
          -30.24373099999991,
          -22.991792000000032,
          -19.01646299999993,
          -52.570168000000194,
          -12.733529999999973,
          -10.492657000000008,
          -37.00924299999997,
          -41.720408000000134,
          -0.8388519999999886,
          -9.967556999999942,
          -3.927182000000016,
          -7.952104999999989,
          -26.705528,
          -8.414713000000006,
          -4.137569999999982,
          -20.970636000000013,
          -4.082872000000009,
          -35.55656799999997,
          -31.249616999999944,
          -26.697307000000364,
          -1.0861400000000003,
          -28.429846999999995,
          -8.293908999999985,
          -4.176156999999989,
          -1.0726259999999996,
          -10.00105000000002,
          -81.31201800000053,
          -14.046370000000024,
          -88.31346199999916,
          -60.97811600000023,
          -9.38845100000026,
          -19.49714400000005,
          -40.726786000000175,
          -18.856690999999955,
          -5.875641999999061,
          -10.048216000000139,
          -0.9490760000000051,
          -0.27194299999999316,
          -6.187825999999973,
          -18.350068999999962,
          -51.23063499999989,
          -0.304064000000011,
          -65.510041,
          -7.232061999999985,
          -19.043000000000006,
          -16.782439000000068,
          -50.40927799999963,
          -20.383837,
          -28.372071000000233,
          -250.2608880000007,
          -5.3529279999999915,
          -1.785933,
          -1.3821379999999976,
          -26.25436499999978,
          -39.39934600000015,
          -13.454696999999953,
          -23.816111999999976,
          -13.278296000000012,
          -22.258460000000014,
          -10.654944999999941,
          -16.637012000000027,
          -5.8539829999999995,
          -4.1688159999999925,
          -9.616498000000007,
          -2.0637080000000196,
          -0.42113200000000006,
          -18.74367699999999,
          -1.676587999999981,
          -32.627396999999974,
          -14.548221000000012,
          -20.069727000000057,
          -3.77125500000011,
          -1.9679809999999947,
          -30.79764,
          -43.724999000000025,
          -6.190151999999998,
          -8.188550999999961,
          -3.379468000000003,
          -55.69140299999981,
          -19.469330000000014,
          -14.90494200000012,
          -20.556409999999914,
          -8.720209000000011,
          -38.859187999999904,
          -13.303539,
          -6.358069,
          -8.52993200000003,
          -47.153667999999925,
          -10.935784000000012,
          -1.4007100000000037,
          -9.925612000000001,
          -3.4401180000000977,
          -56.272435000000314,
          -32.23363100000006,
          -45.058828000000176,
          -47.26052600000003,
          -6.1807039999999915,
          -14.882484999999974,
          -2.820402999999999,
          -12.048577000000023,
          -10.682241000000033,
          -7.128554000000008,
          -4.820814999999982,
          -25.083086999999978,
          -6.744931999999608,
          -23.189239000000043,
          -27.61552000000006,
          -17.25151700000015,
          -23.828126999999995,
          -46.65223200000014,
          -41.54609400000027,
          -24.026022999999896,
          -17.33824000000004,
          -6.5817180000000235,
          -6.715108999999984,
          -52.49463400000013,
          -25.741993000000093,
          -38.41052600000057,
          -23.823115000000143,
          -2.346261999999996,
          -3.5399589999999534,
          -66.26749999999993,
          -1.290143999999998,
          -59.878999999999905,
          -16.282464000000004,
          -15.582221000000004,
          -0.5846599999999995,
          0.23566500000001156,
          -16.71937600000001,
          -150.42985899999985,
          -43.58415699999978,
          -0.7049729999999954,
          -13.419647000000055,
          -12.194983999999977,
          -166.41672199999994,
          -52.839668000000074,
          -5.553064000000006,
          -5.904977000000002,
          -21.13487000000032,
          -21.919182999999975,
          -76.1949139999997,
          -16.894091000000117,
          -13.828968000000259,
          -142.4132269999991,
          -4.042803999999933,
          -55.70162299999993,
          -45.41854000000001
         ],
         "xaxis": "x",
         "y": [
          -61.11665400000004,
          -84.39396199999965,
          -87.09720199999992,
          -109.65376500000002,
          -0.28500999999999976,
          -2.2265939999999773,
          -15.500529,
          -11.514030000000048,
          -29.89609100000007,
          -108.62727799999993,
          -29.739055000000008,
          -61.59558399999969,
          -14.17724800000002,
          -8.330038999999942,
          -4.752034999999978,
          -0.29143099999999933,
          -59.63555699999961,
          -2.2387180000000058,
          -82.18189600000005,
          -47.19094700000005,
          -36.3790799999997,
          -44.06424100000004,
          -9.089155000000005,
          -27.060692000000017,
          -3.856004000000013,
          -84.65785199999982,
          -1.8738460000000003,
          -19.22425499999997,
          -6.64985200000001,
          -2.3974689999999725,
          -1.5349820000000136,
          -10.041424000000006,
          -3.3904310000000066,
          -5.330374000000006,
          -95.4796750000005,
          -17.08382500000016,
          -17.787295000000086,
          -125.22384299999976,
          -16.623935999999958,
          -12.833337000000029,
          -31.218171999999868,
          -1.9096779999999995,
          -40.317314000000124,
          -22.980771000000004,
          -6.051727,
          -8.327665999999965,
          -25.556993999999975,
          -38.716559999999845,
          -51.800677999999834,
          -0.5094589999999926,
          -98.89572999999973,
          -5.089961000000017,
          -2.9374290000000087,
          -11.254773,
          -17.870458999999755,
          -31.398549999999886,
          -19.82611799999995,
          -0.8214499999999703,
          -13.43317500000012,
          -37.443243999999936,
          -165.900263,
          -79.55197899999985,
          -47.10426400000006,
          -3.8190230000000156,
          -26.199739000000136,
          -19.932643999999982,
          -42.14419600000019,
          -11.00542699999994,
          -11.406269000000066,
          -44.563507000000016,
          -73.28825299999971,
          -60.20191999999997,
          -63.02936099999988,
          -1.2869160000000193,
          -39.61679400000003,
          -132.87396199999966,
          -20.240429999999947,
          -14.657930999999962,
          -108.62727799999993,
          -50.96828400000004,
          -14.313076000000137,
          -0.9105709999999902,
          -235.86605300000065,
          -26.75497200000001,
          -1.8024010000000317,
          -30.60365899999988,
          -9.999999996956888e-07,
          -10.985965999999962,
          -17.36988500000001,
          -41.36574299999995,
          -27.317633999999998,
          -31.757994000001418,
          -5.177342999999951,
          -24.56057199999998,
          -38.97522900000001,
          -17.050241000000028,
          -91.26662100000067,
          -35.193674999999985,
          -40.56296500000008,
          -15.501141000000018,
          -42.998051999999916,
          -7.2460260000000005,
          -0.40428999999999604,
          -14.594837999999982,
          -29.984615000000076,
          -89.67367300000024,
          -10.660684000000003,
          -6.687526000000048,
          -52.741018999999994,
          -19.056377999999995,
          -17.686005999999992,
          -12.878706000000022,
          -23.615348000000267,
          -16.3753999999999,
          -64.33406999999988,
          -36.88234899999998,
          -19.766485999999986,
          -38.031116999999995,
          -70.14952100000028,
          -27.296693000000005,
          -11.170786000000021,
          -69.18813600000067,
          -27.88555200000019,
          -29.177069999999958,
          -17.705872,
          -1.7532489999999825,
          -160.49926699999924,
          -16.510776000000078,
          -67.45060399999966,
          -131.02533700000004,
          -44.452991,
          -12.573118999999963,
          -1.2758800000000008,
          -22.595940000000155,
          -24.701039000000037,
          -9.513785000000041,
          -36.818334999999934,
          -235.67391099999986,
          -4.985469000000023,
          -10.00325399999997,
          -22.64708900000005,
          -2.81027899999998,
          -1.3237250000000813,
          -1.3237250000000813,
          -11.643648999999982,
          -97.16776200000004,
          -29.062333999999964,
          -6.953502999999984,
          -8.069357999999966,
          -83.70838399999957,
          -6.661470000000008,
          -133.43310699999984,
          -84.89726299999984,
          -7.133496999999977,
          -106.18143500000042,
          -26.020522000000028,
          -94.42192599999998,
          -81.14265100000011,
          -1.8024010000000317,
          -121.15456699999959,
          -37.91956700000003,
          -30.578145999999947,
          -17.498576000000014,
          -62.030351999999766,
          -1.9989360000000147,
          -19.78745999999998,
          -0.6594670000000065,
          -26.529416999999967,
          -24.077398999997968,
          -5.4360209999999825,
          -77.40639599999986,
          -28.33580299999994,
          -39.12157899999988,
          -5.290956999999992,
          -29.69941300000005,
          -70.40926499999932,
          -1.4103319999999968,
          -15.628693999999996,
          -17.75093599999991,
          -4.3180320000000165,
          -14.569496000000015,
          -89.8938390000003,
          -21.305970000000343,
          -82.20802000000003,
          -10.84181799999999,
          -29.984615000000076,
          -29.73719899999992,
          -119.37310499999967,
          -22.766571,
          -199.31803899999977,
          -51.72663999999986,
          -98.73066600000038,
          -1.337562000000048,
          -39.890805999999884,
          -27.890627000000222,
          -0.6828159999999741,
          -97.88397900000018,
          -3.7524259999999856,
          -16.265324000000078,
          -1.5657430000000048,
          -55.89690299999984,
          -0.5506209999999996,
          -43.876415000000065,
          -4.178182000000049,
          -10.597822000000065,
          -13.431341999999859,
          -23.382662999999866,
          -19.28517499999998,
          -116.39638800000012,
          -82.65078199999971,
          -2.0773009999999914,
          -88.79543099999955,
          -17.04391499999997,
          -6.975228999999956,
          -1.2257760000000104,
          -21.64286600000014,
          -37.29092400000002,
          -35.31703000000016,
          -13.816912000000002,
          -31.398549999999886,
          -52.09789799999999,
          -42.06932999999981,
          -55.151566999999886,
          -22.515854000000218,
          -28.96634700000004,
          -30.123743999999988,
          -61.463076,
          -38.13057100000003,
          -92.12689099999989,
          -10.738760999999954,
          -13.188583999999992,
          -36.197660999999925,
          -63.44142800000009,
          -0.330600000000004,
          -19.09319699999992,
          -12.135300999999998,
          -7.568283000000008,
          -5.9348369999999875,
          -6.361823999999956,
          -6.907975000000079,
          -30.715626000000043,
          -15.652323999999993,
          -87.33839499999976,
          -46.58148400000027,
          -42.998051999999916,
          -1.6067699999999832,
          -30.678696999999943,
          -24.90404000000001,
          -6.535566000000017,
          -0.9734089999999895,
          -11.917479000000014,
          -217.5405520000004,
          -18.482682999999724,
          -170.95854400000098,
          -88.59820799999943,
          -12.497471000000132,
          -26.74609899999996,
          -64.80434799999966,
          -42.84995099999992,
          -5.006354000001011,
          -16.567598999999973,
          -1.7133260000000092,
          -0.521097999999995,
          -12.296046000000047,
          -70.30340499999988,
          -96.76370599999973,
          -0.4120460000000037,
          -107.60291700000016,
          -5.506148999999937,
          -21.89534900000001,
          -26.327864000000318,
          -100.99650599999995,
          -22.01650600000002,
          -45.952894000000015,
          -314.7953379999999,
          -6.572596000000004,
          -1.913297,
          -2.8260279999999938,
          -67.45060399999966,
          -75.08324999999968,
          -23.015946999999983,
          -68.83224900000005,
          -24.887230000000045,
          -49.66902099999993,
          -58.91727800000001,
          -31.718542999999954,
          -11.889054999999985,
          -7.980550000000051,
          -10.434522999999984,
          -0.8950450000000103,
          -0.28834400000000215,
          -32.46863599999995,
          -3.3273849999999925,
          -77.51405899999963,
          -27.929427999999916,
          -18.668146999999976,
          -5.197835999999825,
          -3.6558100000000024,
          -51.255044,
          -63.340017000000444,
          -0.7067380000000014,
          -22.291425000000004,
          -2.7826080000000104,
          -83.15663399999994,
          -41.012827000000016,
          -35.17997799999989,
          -48.22219300000006,
          -12.475060000000042,
          -78.09536200000002,
          -17.7542269999999,
          -21.02028100000001,
          -17.00683700000002,
          -76.59807799999999,
          -22.326024999999845,
          -4.177482999999995,
          -17.9403870000001,
          -6.359920999999986,
          -119.37310499999967,
          -47.45268899999974,
          -68.5515460000006,
          -98.97402500000044,
          -13.797242000000097,
          -28.67000900000005,
          -1.333558999999994,
          -8.679593000000011,
          -10.346742000000006,
          -9.757890999999972,
          -8.821279000000004,
          -50.64971199999991,
          -5.748436000000311,
          -43.28120899999999,
          -31.700099000000023,
          -31.03724500000044,
          -33.159164000000146,
          -77.40304000000015,
          -83.06708299999991,
          -29.06899899999985,
          -44.06424100000004,
          -11.130683999999974,
          -13.446929999999838,
          -100.87981299999956,
          -31.653808000000026,
          -120.6863289999992,
          -59.924011000000064,
          -3.663513999999992,
          -4.8350030000001425,
          -84.2513770000005,
          -1.9382350000000201,
          -96.11897099999987,
          -30.883786999999984,
          -31.291811000000052,
          -0.6750310000000042,
          -10.717422,
          -30.062017999999966,
          -320.425468999998,
          -66.77053100000012,
          -0.8301879999999642,
          -23.902229999999918,
          -21.510658999999976,
          -261.1631639999996,
          -93.47681999999986,
          -12.64531199999999,
          -24.045061999999973,
          -34.99769400000014,
          -86.26370500000007,
          -90.87549199999921,
          -30.534593999999743,
          -20.713576999999987,
          -235.37350900000092,
          -5.837316000000101,
          -106.67004600000018,
          -92.51912200000015
         ],
         "yaxis": "y"
        }
       ],
       "layout": {
        "legend": {
         "tracegroupgap": 0
        },
        "margin": {
         "t": 60
        },
        "template": {
         "data": {
          "bar": [
           {
            "error_x": {
             "color": "#2a3f5f"
            },
            "error_y": {
             "color": "#2a3f5f"
            },
            "marker": {
             "line": {
              "color": "#E5ECF6",
              "width": 0.5
             },
             "pattern": {
              "fillmode": "overlay",
              "size": 10,
              "solidity": 0.2
             }
            },
            "type": "bar"
           }
          ],
          "barpolar": [
           {
            "marker": {
             "line": {
              "color": "#E5ECF6",
              "width": 0.5
             },
             "pattern": {
              "fillmode": "overlay",
              "size": 10,
              "solidity": 0.2
             }
            },
            "type": "barpolar"
           }
          ],
          "carpet": [
           {
            "aaxis": {
             "endlinecolor": "#2a3f5f",
             "gridcolor": "white",
             "linecolor": "white",
             "minorgridcolor": "white",
             "startlinecolor": "#2a3f5f"
            },
            "baxis": {
             "endlinecolor": "#2a3f5f",
             "gridcolor": "white",
             "linecolor": "white",
             "minorgridcolor": "white",
             "startlinecolor": "#2a3f5f"
            },
            "type": "carpet"
           }
          ],
          "choropleth": [
           {
            "colorbar": {
             "outlinewidth": 0,
             "ticks": ""
            },
            "type": "choropleth"
           }
          ],
          "contour": [
           {
            "colorbar": {
             "outlinewidth": 0,
             "ticks": ""
            },
            "colorscale": [
             [
              0,
              "#0d0887"
             ],
             [
              0.1111111111111111,
              "#46039f"
             ],
             [
              0.2222222222222222,
              "#7201a8"
             ],
             [
              0.3333333333333333,
              "#9c179e"
             ],
             [
              0.4444444444444444,
              "#bd3786"
             ],
             [
              0.5555555555555556,
              "#d8576b"
             ],
             [
              0.6666666666666666,
              "#ed7953"
             ],
             [
              0.7777777777777778,
              "#fb9f3a"
             ],
             [
              0.8888888888888888,
              "#fdca26"
             ],
             [
              1,
              "#f0f921"
             ]
            ],
            "type": "contour"
           }
          ],
          "contourcarpet": [
           {
            "colorbar": {
             "outlinewidth": 0,
             "ticks": ""
            },
            "type": "contourcarpet"
           }
          ],
          "heatmap": [
           {
            "colorbar": {
             "outlinewidth": 0,
             "ticks": ""
            },
            "colorscale": [
             [
              0,
              "#0d0887"
             ],
             [
              0.1111111111111111,
              "#46039f"
             ],
             [
              0.2222222222222222,
              "#7201a8"
             ],
             [
              0.3333333333333333,
              "#9c179e"
             ],
             [
              0.4444444444444444,
              "#bd3786"
             ],
             [
              0.5555555555555556,
              "#d8576b"
             ],
             [
              0.6666666666666666,
              "#ed7953"
             ],
             [
              0.7777777777777778,
              "#fb9f3a"
             ],
             [
              0.8888888888888888,
              "#fdca26"
             ],
             [
              1,
              "#f0f921"
             ]
            ],
            "type": "heatmap"
           }
          ],
          "heatmapgl": [
           {
            "colorbar": {
             "outlinewidth": 0,
             "ticks": ""
            },
            "colorscale": [
             [
              0,
              "#0d0887"
             ],
             [
              0.1111111111111111,
              "#46039f"
             ],
             [
              0.2222222222222222,
              "#7201a8"
             ],
             [
              0.3333333333333333,
              "#9c179e"
             ],
             [
              0.4444444444444444,
              "#bd3786"
             ],
             [
              0.5555555555555556,
              "#d8576b"
             ],
             [
              0.6666666666666666,
              "#ed7953"
             ],
             [
              0.7777777777777778,
              "#fb9f3a"
             ],
             [
              0.8888888888888888,
              "#fdca26"
             ],
             [
              1,
              "#f0f921"
             ]
            ],
            "type": "heatmapgl"
           }
          ],
          "histogram": [
           {
            "marker": {
             "pattern": {
              "fillmode": "overlay",
              "size": 10,
              "solidity": 0.2
             }
            },
            "type": "histogram"
           }
          ],
          "histogram2d": [
           {
            "colorbar": {
             "outlinewidth": 0,
             "ticks": ""
            },
            "colorscale": [
             [
              0,
              "#0d0887"
             ],
             [
              0.1111111111111111,
              "#46039f"
             ],
             [
              0.2222222222222222,
              "#7201a8"
             ],
             [
              0.3333333333333333,
              "#9c179e"
             ],
             [
              0.4444444444444444,
              "#bd3786"
             ],
             [
              0.5555555555555556,
              "#d8576b"
             ],
             [
              0.6666666666666666,
              "#ed7953"
             ],
             [
              0.7777777777777778,
              "#fb9f3a"
             ],
             [
              0.8888888888888888,
              "#fdca26"
             ],
             [
              1,
              "#f0f921"
             ]
            ],
            "type": "histogram2d"
           }
          ],
          "histogram2dcontour": [
           {
            "colorbar": {
             "outlinewidth": 0,
             "ticks": ""
            },
            "colorscale": [
             [
              0,
              "#0d0887"
             ],
             [
              0.1111111111111111,
              "#46039f"
             ],
             [
              0.2222222222222222,
              "#7201a8"
             ],
             [
              0.3333333333333333,
              "#9c179e"
             ],
             [
              0.4444444444444444,
              "#bd3786"
             ],
             [
              0.5555555555555556,
              "#d8576b"
             ],
             [
              0.6666666666666666,
              "#ed7953"
             ],
             [
              0.7777777777777778,
              "#fb9f3a"
             ],
             [
              0.8888888888888888,
              "#fdca26"
             ],
             [
              1,
              "#f0f921"
             ]
            ],
            "type": "histogram2dcontour"
           }
          ],
          "mesh3d": [
           {
            "colorbar": {
             "outlinewidth": 0,
             "ticks": ""
            },
            "type": "mesh3d"
           }
          ],
          "parcoords": [
           {
            "line": {
             "colorbar": {
              "outlinewidth": 0,
              "ticks": ""
             }
            },
            "type": "parcoords"
           }
          ],
          "pie": [
           {
            "automargin": true,
            "type": "pie"
           }
          ],
          "scatter": [
           {
            "fillpattern": {
             "fillmode": "overlay",
             "size": 10,
             "solidity": 0.2
            },
            "type": "scatter"
           }
          ],
          "scatter3d": [
           {
            "line": {
             "colorbar": {
              "outlinewidth": 0,
              "ticks": ""
             }
            },
            "marker": {
             "colorbar": {
              "outlinewidth": 0,
              "ticks": ""
             }
            },
            "type": "scatter3d"
           }
          ],
          "scattercarpet": [
           {
            "marker": {
             "colorbar": {
              "outlinewidth": 0,
              "ticks": ""
             }
            },
            "type": "scattercarpet"
           }
          ],
          "scattergeo": [
           {
            "marker": {
             "colorbar": {
              "outlinewidth": 0,
              "ticks": ""
             }
            },
            "type": "scattergeo"
           }
          ],
          "scattergl": [
           {
            "marker": {
             "colorbar": {
              "outlinewidth": 0,
              "ticks": ""
             }
            },
            "type": "scattergl"
           }
          ],
          "scattermapbox": [
           {
            "marker": {
             "colorbar": {
              "outlinewidth": 0,
              "ticks": ""
             }
            },
            "type": "scattermapbox"
           }
          ],
          "scatterpolar": [
           {
            "marker": {
             "colorbar": {
              "outlinewidth": 0,
              "ticks": ""
             }
            },
            "type": "scatterpolar"
           }
          ],
          "scatterpolargl": [
           {
            "marker": {
             "colorbar": {
              "outlinewidth": 0,
              "ticks": ""
             }
            },
            "type": "scatterpolargl"
           }
          ],
          "scatterternary": [
           {
            "marker": {
             "colorbar": {
              "outlinewidth": 0,
              "ticks": ""
             }
            },
            "type": "scatterternary"
           }
          ],
          "surface": [
           {
            "colorbar": {
             "outlinewidth": 0,
             "ticks": ""
            },
            "colorscale": [
             [
              0,
              "#0d0887"
             ],
             [
              0.1111111111111111,
              "#46039f"
             ],
             [
              0.2222222222222222,
              "#7201a8"
             ],
             [
              0.3333333333333333,
              "#9c179e"
             ],
             [
              0.4444444444444444,
              "#bd3786"
             ],
             [
              0.5555555555555556,
              "#d8576b"
             ],
             [
              0.6666666666666666,
              "#ed7953"
             ],
             [
              0.7777777777777778,
              "#fb9f3a"
             ],
             [
              0.8888888888888888,
              "#fdca26"
             ],
             [
              1,
              "#f0f921"
             ]
            ],
            "type": "surface"
           }
          ],
          "table": [
           {
            "cells": {
             "fill": {
              "color": "#EBF0F8"
             },
             "line": {
              "color": "white"
             }
            },
            "header": {
             "fill": {
              "color": "#C8D4E3"
             },
             "line": {
              "color": "white"
             }
            },
            "type": "table"
           }
          ]
         },
         "layout": {
          "annotationdefaults": {
           "arrowcolor": "#2a3f5f",
           "arrowhead": 0,
           "arrowwidth": 1
          },
          "autotypenumbers": "strict",
          "coloraxis": {
           "colorbar": {
            "outlinewidth": 0,
            "ticks": ""
           }
          },
          "colorscale": {
           "diverging": [
            [
             0,
             "#8e0152"
            ],
            [
             0.1,
             "#c51b7d"
            ],
            [
             0.2,
             "#de77ae"
            ],
            [
             0.3,
             "#f1b6da"
            ],
            [
             0.4,
             "#fde0ef"
            ],
            [
             0.5,
             "#f7f7f7"
            ],
            [
             0.6,
             "#e6f5d0"
            ],
            [
             0.7,
             "#b8e186"
            ],
            [
             0.8,
             "#7fbc41"
            ],
            [
             0.9,
             "#4d9221"
            ],
            [
             1,
             "#276419"
            ]
           ],
           "sequential": [
            [
             0,
             "#0d0887"
            ],
            [
             0.1111111111111111,
             "#46039f"
            ],
            [
             0.2222222222222222,
             "#7201a8"
            ],
            [
             0.3333333333333333,
             "#9c179e"
            ],
            [
             0.4444444444444444,
             "#bd3786"
            ],
            [
             0.5555555555555556,
             "#d8576b"
            ],
            [
             0.6666666666666666,
             "#ed7953"
            ],
            [
             0.7777777777777778,
             "#fb9f3a"
            ],
            [
             0.8888888888888888,
             "#fdca26"
            ],
            [
             1,
             "#f0f921"
            ]
           ],
           "sequentialminus": [
            [
             0,
             "#0d0887"
            ],
            [
             0.1111111111111111,
             "#46039f"
            ],
            [
             0.2222222222222222,
             "#7201a8"
            ],
            [
             0.3333333333333333,
             "#9c179e"
            ],
            [
             0.4444444444444444,
             "#bd3786"
            ],
            [
             0.5555555555555556,
             "#d8576b"
            ],
            [
             0.6666666666666666,
             "#ed7953"
            ],
            [
             0.7777777777777778,
             "#fb9f3a"
            ],
            [
             0.8888888888888888,
             "#fdca26"
            ],
            [
             1,
             "#f0f921"
            ]
           ]
          },
          "colorway": [
           "#636efa",
           "#EF553B",
           "#00cc96",
           "#ab63fa",
           "#FFA15A",
           "#19d3f3",
           "#FF6692",
           "#B6E880",
           "#FF97FF",
           "#FECB52"
          ],
          "font": {
           "color": "#2a3f5f"
          },
          "geo": {
           "bgcolor": "white",
           "lakecolor": "white",
           "landcolor": "#E5ECF6",
           "showlakes": true,
           "showland": true,
           "subunitcolor": "white"
          },
          "hoverlabel": {
           "align": "left"
          },
          "hovermode": "closest",
          "mapbox": {
           "style": "light"
          },
          "paper_bgcolor": "white",
          "plot_bgcolor": "#E5ECF6",
          "polar": {
           "angularaxis": {
            "gridcolor": "white",
            "linecolor": "white",
            "ticks": ""
           },
           "bgcolor": "#E5ECF6",
           "radialaxis": {
            "gridcolor": "white",
            "linecolor": "white",
            "ticks": ""
           }
          },
          "scene": {
           "xaxis": {
            "backgroundcolor": "#E5ECF6",
            "gridcolor": "white",
            "gridwidth": 2,
            "linecolor": "white",
            "showbackground": true,
            "ticks": "",
            "zerolinecolor": "white"
           },
           "yaxis": {
            "backgroundcolor": "#E5ECF6",
            "gridcolor": "white",
            "gridwidth": 2,
            "linecolor": "white",
            "showbackground": true,
            "ticks": "",
            "zerolinecolor": "white"
           },
           "zaxis": {
            "backgroundcolor": "#E5ECF6",
            "gridcolor": "white",
            "gridwidth": 2,
            "linecolor": "white",
            "showbackground": true,
            "ticks": "",
            "zerolinecolor": "white"
           }
          },
          "shapedefaults": {
           "line": {
            "color": "#2a3f5f"
           }
          },
          "ternary": {
           "aaxis": {
            "gridcolor": "white",
            "linecolor": "white",
            "ticks": ""
           },
           "baxis": {
            "gridcolor": "white",
            "linecolor": "white",
            "ticks": ""
           },
           "bgcolor": "#E5ECF6",
           "caxis": {
            "gridcolor": "white",
            "linecolor": "white",
            "ticks": ""
           }
          },
          "title": {
           "x": 0.05
          },
          "xaxis": {
           "automargin": true,
           "gridcolor": "white",
           "linecolor": "white",
           "ticks": "",
           "title": {
            "standoff": 15
           },
           "zerolinecolor": "white",
           "zerolinewidth": 2
          },
          "yaxis": {
           "automargin": true,
           "gridcolor": "white",
           "linecolor": "white",
           "ticks": "",
           "title": {
            "standoff": 15
           },
           "zerolinecolor": "white",
           "zerolinewidth": 2
          }
         }
        },
        "xaxis": {
         "anchor": "y",
         "domain": [
          0,
          1
         ],
         "title": {
          "text": "GTR_cross_diff_MK"
         }
        },
        "yaxis": {
         "anchor": "x",
         "domain": [
          0,
          1
         ],
         "title": {
          "text": "MK_cross_diff_GTR"
         }
        }
       }
      },
      "text/html": [
       "<div>                            <div id=\"185bc6ce-da5c-450e-95fd-8ec8875686c2\" class=\"plotly-graph-div\" style=\"height:525px; width:100%;\"></div>            <script type=\"text/javascript\">                require([\"plotly\"], function(Plotly) {                    window.PLOTLYENV=window.PLOTLYENV || {};                                    if (document.getElementById(\"185bc6ce-da5c-450e-95fd-8ec8875686c2\")) {                    Plotly.newPlot(                        \"185bc6ce-da5c-450e-95fd-8ec8875686c2\",                        [{\"hovertemplate\":\"GTR_cross_diff_MK=%{x}<br>MK_cross_diff_GTR=%{y}<extra></extra>\",\"legendgroup\":\"\",\"marker\":{\"color\":\"#636efa\",\"symbol\":\"circle\"},\"mode\":\"markers\",\"name\":\"\",\"orientation\":\"v\",\"showlegend\":false,\"x\":[-20.932618000000048,-36.8280920000002,-33.70509300000003,-40.923567999999705,-0.6461490000000083,-1.1220910000000117,-8.954318,-7.4678499999999985,-24.378221000000167,-28.56901999999991,-11.190226000000166,-32.19208200000003,-7.506529999999998,-5.0236340000000155,-2.9026039999999966,-0.9194620000000029,-43.731513999999834,0.13643199999999922,-44.88013599999999,-24.899947999999767,-25.893785000000207,-17.33824000000004,-7.047101999999995,-5.690025999999989,-5.132463999999999,-33.44426999999996,-0.811074000000005,-15.095623000000046,-4.354781000000003,-2.7259320000000002,-2.5349319999999977,-5.233786000000009,-7.790623000000011,-2.524723000000023,-64.03242599999976,-10.874191999999994,-9.424395000000004,-72.85468800000035,-10.654831999999942,-6.403962999999976,-16.174551000000065,-0.9588289999999944,-27.92461000000003,-8.969922999999994,-6.621584000000013,-8.136920000000003,-14.116206000000005,-20.996578000000227,-28.475280999999995,-0.30634300000001247,-83.52020399999992,-4.8645440000000235,-3.608296999999993,-5.374915999999985,-11.560735000000022,-16.69756499999994,-11.293242000000077,-0.779293999999993,-4.95261000000005,-11.516402999999968,-64.74903300000005,-37.0731310000001,-22.2931880000001,-3.236919999999998,-16.172977000000174,-11.833067000000028,-28.633374999999887,-5.277052000000026,-5.652563999999984,-17.169967999999983,-28.299003000000084,-23.825834000000214,-45.7119789999997,-0.9444900000000302,-21.288222000000133,-98.34922300000017,-7.655639000000065,-12.13067000000001,-28.56901999999991,-27.432544999999664,-9.142724000000044,-0.9372439999999926,-126.14402599999994,-5.307191999999986,-0.8092020000000275,-17.63377700000001,9.999999999177334e-07,-7.0921639999999115,-3.965993999999995,-19.185606000000007,-19.9900090000001,-27.370060000000194,-2.662633999999997,-11.410481000000004,-15.51861299999996,-17.328859999999963,-43.46917200000007,-23.328929999999673,-25.65858800000001,-10.217479999999966,-26.697307000000364,-3.4755150000000015,-0.09285100000000313,-7.346508999999969,-22.48443099999986,-47.84506400000009,-3.680536000000018,-2.5305829999999787,-13.435090000000002,-21.541653999999994,-7.643312000000009,-4.707732000000021,-16.25679900000023,-10.710593999999901,-40.680709000000206,-22.99679200000014,-8.647851999999943,-24.433138999999983,-39.05256399999962,-36.47234300000014,-7.809849000000014,-31.768066000000545,-16.644812,-12.51502000000005,-9.15341599999988,-1.0594890000000134,-78.18957599999976,-10.662180999999919,-26.25436499999978,-66.23379000000023,-11.768124999999998,-8.736868000000015,-0.7840910000000036,-22.764770000000226,-17.27812199999994,-3.8956079999999815,-18.693382000000156,-142.34594599999946,-1.9250750000000494,-9.418569999999988,-15.338510999999926,-2.235697999999985,-0.9708559999999693,-0.9708559999999693,-9.721222000000012,-53.1531759999998,-23.52239600000007,-3.058881999999983,-7.475821999999994,-40.850140000000465,-5.892654999999991,-69.11508099999992,-41.299205000000256,-2.5235359999999787,-69.39728500000001,-13.324483999999984,-54.36616200000026,-41.96849800000018,-0.8092020000000275,-70.547098,-8.596131000000014,-14.442738000000077,-4.985663999999986,-37.33589600000005,-1.0097299999999905,-9.82420900000001,-2.1068189999999873,-11.25344899999999,-24.72661599999992,-2.1673319999999876,-34.590950999999905,-15.818818000000192,-10.782674000000043,-2.7527299999999855,-27.049881000000028,-36.660639000000174,-0.8201409999999996,-11.225031999999999,-12.836176000000023,-3.3515580000000114,-7.569213999999988,-64.38527900000008,-16.262073000000328,-28.281132999999954,-6.122726999999998,-22.48443099999986,-13.625549000000035,-56.272435000000314,-7.671303000000023,-69.58413900000005,-31.498501000000033,-65.87586900000042,-1.1681239999999775,-20.93321100000003,-13.687199999999848,-0.5092159999999808,-72.41004500000054,-3.1500529999999856,-10.962871999999948,-1.3114550000000023,-60.5224589999998,-1.1763079999999988,-20.059654000000023,-4.273252000000014,-7.888959999999997,-6.594928999999979,-12.536759999999958,-7.463435000000004,-43.54480599999988,-35.59920899999997,-2.537868000000003,-60.23092900000029,-10.53231199999999,-6.327539000000002,-2.639780000000002,-27.216318999999885,-11.046507999999989,-20.764854000000014,-13.299453000000028,-16.69756499999994,-17.343795999999998,-23.841192000000092,-17.808373999999958,-13.711828999999966,-15.762477999999874,-30.24373099999991,-22.991792000000032,-19.01646299999993,-52.570168000000194,-12.733529999999973,-10.492657000000008,-37.00924299999997,-41.720408000000134,-0.8388519999999886,-9.967556999999942,-3.927182000000016,-7.952104999999989,-26.705528,-8.414713000000006,-4.137569999999982,-20.970636000000013,-4.082872000000009,-35.55656799999997,-31.249616999999944,-26.697307000000364,-1.0861400000000003,-28.429846999999995,-8.293908999999985,-4.176156999999989,-1.0726259999999996,-10.00105000000002,-81.31201800000053,-14.046370000000024,-88.31346199999916,-60.97811600000023,-9.38845100000026,-19.49714400000005,-40.726786000000175,-18.856690999999955,-5.875641999999061,-10.048216000000139,-0.9490760000000051,-0.27194299999999316,-6.187825999999973,-18.350068999999962,-51.23063499999989,-0.304064000000011,-65.510041,-7.232061999999985,-19.043000000000006,-16.782439000000068,-50.40927799999963,-20.383837,-28.372071000000233,-250.2608880000007,-5.3529279999999915,-1.785933,-1.3821379999999976,-26.25436499999978,-39.39934600000015,-13.454696999999953,-23.816111999999976,-13.278296000000012,-22.258460000000014,-10.654944999999941,-16.637012000000027,-5.8539829999999995,-4.1688159999999925,-9.616498000000007,-2.0637080000000196,-0.42113200000000006,-18.74367699999999,-1.676587999999981,-32.627396999999974,-14.548221000000012,-20.069727000000057,-3.77125500000011,-1.9679809999999947,-30.79764,-43.724999000000025,-6.190151999999998,-8.188550999999961,-3.379468000000003,-55.69140299999981,-19.469330000000014,-14.90494200000012,-20.556409999999914,-8.720209000000011,-38.859187999999904,-13.303539,-6.358069,-8.52993200000003,-47.153667999999925,-10.935784000000012,-1.4007100000000037,-9.925612000000001,-3.4401180000000977,-56.272435000000314,-32.23363100000006,-45.058828000000176,-47.26052600000003,-6.1807039999999915,-14.882484999999974,-2.820402999999999,-12.048577000000023,-10.682241000000033,-7.128554000000008,-4.820814999999982,-25.083086999999978,-6.744931999999608,-23.189239000000043,-27.61552000000006,-17.25151700000015,-23.828126999999995,-46.65223200000014,-41.54609400000027,-24.026022999999896,-17.33824000000004,-6.5817180000000235,-6.715108999999984,-52.49463400000013,-25.741993000000093,-38.41052600000057,-23.823115000000143,-2.346261999999996,-3.5399589999999534,-66.26749999999993,-1.290143999999998,-59.878999999999905,-16.282464000000004,-15.582221000000004,-0.5846599999999995,0.23566500000001156,-16.71937600000001,-150.42985899999985,-43.58415699999978,-0.7049729999999954,-13.419647000000055,-12.194983999999977,-166.41672199999994,-52.839668000000074,-5.553064000000006,-5.904977000000002,-21.13487000000032,-21.919182999999975,-76.1949139999997,-16.894091000000117,-13.828968000000259,-142.4132269999991,-4.042803999999933,-55.70162299999993,-45.41854000000001],\"xaxis\":\"x\",\"y\":[-61.11665400000004,-84.39396199999965,-87.09720199999992,-109.65376500000002,-0.28500999999999976,-2.2265939999999773,-15.500529,-11.514030000000048,-29.89609100000007,-108.62727799999993,-29.739055000000008,-61.59558399999969,-14.17724800000002,-8.330038999999942,-4.752034999999978,-0.29143099999999933,-59.63555699999961,-2.2387180000000058,-82.18189600000005,-47.19094700000005,-36.3790799999997,-44.06424100000004,-9.089155000000005,-27.060692000000017,-3.856004000000013,-84.65785199999982,-1.8738460000000003,-19.22425499999997,-6.64985200000001,-2.3974689999999725,-1.5349820000000136,-10.041424000000006,-3.3904310000000066,-5.330374000000006,-95.4796750000005,-17.08382500000016,-17.787295000000086,-125.22384299999976,-16.623935999999958,-12.833337000000029,-31.218171999999868,-1.9096779999999995,-40.317314000000124,-22.980771000000004,-6.051727,-8.327665999999965,-25.556993999999975,-38.716559999999845,-51.800677999999834,-0.5094589999999926,-98.89572999999973,-5.089961000000017,-2.9374290000000087,-11.254773,-17.870458999999755,-31.398549999999886,-19.82611799999995,-0.8214499999999703,-13.43317500000012,-37.443243999999936,-165.900263,-79.55197899999985,-47.10426400000006,-3.8190230000000156,-26.199739000000136,-19.932643999999982,-42.14419600000019,-11.00542699999994,-11.406269000000066,-44.563507000000016,-73.28825299999971,-60.20191999999997,-63.02936099999988,-1.2869160000000193,-39.61679400000003,-132.87396199999966,-20.240429999999947,-14.657930999999962,-108.62727799999993,-50.96828400000004,-14.313076000000137,-0.9105709999999902,-235.86605300000065,-26.75497200000001,-1.8024010000000317,-30.60365899999988,-9.999999996956888e-07,-10.985965999999962,-17.36988500000001,-41.36574299999995,-27.317633999999998,-31.757994000001418,-5.177342999999951,-24.56057199999998,-38.97522900000001,-17.050241000000028,-91.26662100000067,-35.193674999999985,-40.56296500000008,-15.501141000000018,-42.998051999999916,-7.2460260000000005,-0.40428999999999604,-14.594837999999982,-29.984615000000076,-89.67367300000024,-10.660684000000003,-6.687526000000048,-52.741018999999994,-19.056377999999995,-17.686005999999992,-12.878706000000022,-23.615348000000267,-16.3753999999999,-64.33406999999988,-36.88234899999998,-19.766485999999986,-38.031116999999995,-70.14952100000028,-27.296693000000005,-11.170786000000021,-69.18813600000067,-27.88555200000019,-29.177069999999958,-17.705872,-1.7532489999999825,-160.49926699999924,-16.510776000000078,-67.45060399999966,-131.02533700000004,-44.452991,-12.573118999999963,-1.2758800000000008,-22.595940000000155,-24.701039000000037,-9.513785000000041,-36.818334999999934,-235.67391099999986,-4.985469000000023,-10.00325399999997,-22.64708900000005,-2.81027899999998,-1.3237250000000813,-1.3237250000000813,-11.643648999999982,-97.16776200000004,-29.062333999999964,-6.953502999999984,-8.069357999999966,-83.70838399999957,-6.661470000000008,-133.43310699999984,-84.89726299999984,-7.133496999999977,-106.18143500000042,-26.020522000000028,-94.42192599999998,-81.14265100000011,-1.8024010000000317,-121.15456699999959,-37.91956700000003,-30.578145999999947,-17.498576000000014,-62.030351999999766,-1.9989360000000147,-19.78745999999998,-0.6594670000000065,-26.529416999999967,-24.077398999997968,-5.4360209999999825,-77.40639599999986,-28.33580299999994,-39.12157899999988,-5.290956999999992,-29.69941300000005,-70.40926499999932,-1.4103319999999968,-15.628693999999996,-17.75093599999991,-4.3180320000000165,-14.569496000000015,-89.8938390000003,-21.305970000000343,-82.20802000000003,-10.84181799999999,-29.984615000000076,-29.73719899999992,-119.37310499999967,-22.766571,-199.31803899999977,-51.72663999999986,-98.73066600000038,-1.337562000000048,-39.890805999999884,-27.890627000000222,-0.6828159999999741,-97.88397900000018,-3.7524259999999856,-16.265324000000078,-1.5657430000000048,-55.89690299999984,-0.5506209999999996,-43.876415000000065,-4.178182000000049,-10.597822000000065,-13.431341999999859,-23.382662999999866,-19.28517499999998,-116.39638800000012,-82.65078199999971,-2.0773009999999914,-88.79543099999955,-17.04391499999997,-6.975228999999956,-1.2257760000000104,-21.64286600000014,-37.29092400000002,-35.31703000000016,-13.816912000000002,-31.398549999999886,-52.09789799999999,-42.06932999999981,-55.151566999999886,-22.515854000000218,-28.96634700000004,-30.123743999999988,-61.463076,-38.13057100000003,-92.12689099999989,-10.738760999999954,-13.188583999999992,-36.197660999999925,-63.44142800000009,-0.330600000000004,-19.09319699999992,-12.135300999999998,-7.568283000000008,-5.9348369999999875,-6.361823999999956,-6.907975000000079,-30.715626000000043,-15.652323999999993,-87.33839499999976,-46.58148400000027,-42.998051999999916,-1.6067699999999832,-30.678696999999943,-24.90404000000001,-6.535566000000017,-0.9734089999999895,-11.917479000000014,-217.5405520000004,-18.482682999999724,-170.95854400000098,-88.59820799999943,-12.497471000000132,-26.74609899999996,-64.80434799999966,-42.84995099999992,-5.006354000001011,-16.567598999999973,-1.7133260000000092,-0.521097999999995,-12.296046000000047,-70.30340499999988,-96.76370599999973,-0.4120460000000037,-107.60291700000016,-5.506148999999937,-21.89534900000001,-26.327864000000318,-100.99650599999995,-22.01650600000002,-45.952894000000015,-314.7953379999999,-6.572596000000004,-1.913297,-2.8260279999999938,-67.45060399999966,-75.08324999999968,-23.015946999999983,-68.83224900000005,-24.887230000000045,-49.66902099999993,-58.91727800000001,-31.718542999999954,-11.889054999999985,-7.980550000000051,-10.434522999999984,-0.8950450000000103,-0.28834400000000215,-32.46863599999995,-3.3273849999999925,-77.51405899999963,-27.929427999999916,-18.668146999999976,-5.197835999999825,-3.6558100000000024,-51.255044,-63.340017000000444,-0.7067380000000014,-22.291425000000004,-2.7826080000000104,-83.15663399999994,-41.012827000000016,-35.17997799999989,-48.22219300000006,-12.475060000000042,-78.09536200000002,-17.7542269999999,-21.02028100000001,-17.00683700000002,-76.59807799999999,-22.326024999999845,-4.177482999999995,-17.9403870000001,-6.359920999999986,-119.37310499999967,-47.45268899999974,-68.5515460000006,-98.97402500000044,-13.797242000000097,-28.67000900000005,-1.333558999999994,-8.679593000000011,-10.346742000000006,-9.757890999999972,-8.821279000000004,-50.64971199999991,-5.748436000000311,-43.28120899999999,-31.700099000000023,-31.03724500000044,-33.159164000000146,-77.40304000000015,-83.06708299999991,-29.06899899999985,-44.06424100000004,-11.130683999999974,-13.446929999999838,-100.87981299999956,-31.653808000000026,-120.6863289999992,-59.924011000000064,-3.663513999999992,-4.8350030000001425,-84.2513770000005,-1.9382350000000201,-96.11897099999987,-30.883786999999984,-31.291811000000052,-0.6750310000000042,-10.717422,-30.062017999999966,-320.425468999998,-66.77053100000012,-0.8301879999999642,-23.902229999999918,-21.510658999999976,-261.1631639999996,-93.47681999999986,-12.64531199999999,-24.045061999999973,-34.99769400000014,-86.26370500000007,-90.87549199999921,-30.534593999999743,-20.713576999999987,-235.37350900000092,-5.837316000000101,-106.67004600000018,-92.51912200000015],\"yaxis\":\"y\",\"type\":\"scatter\"}],                        {\"template\":{\"data\":{\"histogram2dcontour\":[{\"type\":\"histogram2dcontour\",\"colorbar\":{\"outlinewidth\":0,\"ticks\":\"\"},\"colorscale\":[[0.0,\"#0d0887\"],[0.1111111111111111,\"#46039f\"],[0.2222222222222222,\"#7201a8\"],[0.3333333333333333,\"#9c179e\"],[0.4444444444444444,\"#bd3786\"],[0.5555555555555556,\"#d8576b\"],[0.6666666666666666,\"#ed7953\"],[0.7777777777777778,\"#fb9f3a\"],[0.8888888888888888,\"#fdca26\"],[1.0,\"#f0f921\"]]}],\"choropleth\":[{\"type\":\"choropleth\",\"colorbar\":{\"outlinewidth\":0,\"ticks\":\"\"}}],\"histogram2d\":[{\"type\":\"histogram2d\",\"colorbar\":{\"outlinewidth\":0,\"ticks\":\"\"},\"colorscale\":[[0.0,\"#0d0887\"],[0.1111111111111111,\"#46039f\"],[0.2222222222222222,\"#7201a8\"],[0.3333333333333333,\"#9c179e\"],[0.4444444444444444,\"#bd3786\"],[0.5555555555555556,\"#d8576b\"],[0.6666666666666666,\"#ed7953\"],[0.7777777777777778,\"#fb9f3a\"],[0.8888888888888888,\"#fdca26\"],[1.0,\"#f0f921\"]]}],\"heatmap\":[{\"type\":\"heatmap\",\"colorbar\":{\"outlinewidth\":0,\"ticks\":\"\"},\"colorscale\":[[0.0,\"#0d0887\"],[0.1111111111111111,\"#46039f\"],[0.2222222222222222,\"#7201a8\"],[0.3333333333333333,\"#9c179e\"],[0.4444444444444444,\"#bd3786\"],[0.5555555555555556,\"#d8576b\"],[0.6666666666666666,\"#ed7953\"],[0.7777777777777778,\"#fb9f3a\"],[0.8888888888888888,\"#fdca26\"],[1.0,\"#f0f921\"]]}],\"heatmapgl\":[{\"type\":\"heatmapgl\",\"colorbar\":{\"outlinewidth\":0,\"ticks\":\"\"},\"colorscale\":[[0.0,\"#0d0887\"],[0.1111111111111111,\"#46039f\"],[0.2222222222222222,\"#7201a8\"],[0.3333333333333333,\"#9c179e\"],[0.4444444444444444,\"#bd3786\"],[0.5555555555555556,\"#d8576b\"],[0.6666666666666666,\"#ed7953\"],[0.7777777777777778,\"#fb9f3a\"],[0.8888888888888888,\"#fdca26\"],[1.0,\"#f0f921\"]]}],\"contourcarpet\":[{\"type\":\"contourcarpet\",\"colorbar\":{\"outlinewidth\":0,\"ticks\":\"\"}}],\"contour\":[{\"type\":\"contour\",\"colorbar\":{\"outlinewidth\":0,\"ticks\":\"\"},\"colorscale\":[[0.0,\"#0d0887\"],[0.1111111111111111,\"#46039f\"],[0.2222222222222222,\"#7201a8\"],[0.3333333333333333,\"#9c179e\"],[0.4444444444444444,\"#bd3786\"],[0.5555555555555556,\"#d8576b\"],[0.6666666666666666,\"#ed7953\"],[0.7777777777777778,\"#fb9f3a\"],[0.8888888888888888,\"#fdca26\"],[1.0,\"#f0f921\"]]}],\"surface\":[{\"type\":\"surface\",\"colorbar\":{\"outlinewidth\":0,\"ticks\":\"\"},\"colorscale\":[[0.0,\"#0d0887\"],[0.1111111111111111,\"#46039f\"],[0.2222222222222222,\"#7201a8\"],[0.3333333333333333,\"#9c179e\"],[0.4444444444444444,\"#bd3786\"],[0.5555555555555556,\"#d8576b\"],[0.6666666666666666,\"#ed7953\"],[0.7777777777777778,\"#fb9f3a\"],[0.8888888888888888,\"#fdca26\"],[1.0,\"#f0f921\"]]}],\"mesh3d\":[{\"type\":\"mesh3d\",\"colorbar\":{\"outlinewidth\":0,\"ticks\":\"\"}}],\"scatter\":[{\"fillpattern\":{\"fillmode\":\"overlay\",\"size\":10,\"solidity\":0.2},\"type\":\"scatter\"}],\"parcoords\":[{\"type\":\"parcoords\",\"line\":{\"colorbar\":{\"outlinewidth\":0,\"ticks\":\"\"}}}],\"scatterpolargl\":[{\"type\":\"scatterpolargl\",\"marker\":{\"colorbar\":{\"outlinewidth\":0,\"ticks\":\"\"}}}],\"bar\":[{\"error_x\":{\"color\":\"#2a3f5f\"},\"error_y\":{\"color\":\"#2a3f5f\"},\"marker\":{\"line\":{\"color\":\"#E5ECF6\",\"width\":0.5},\"pattern\":{\"fillmode\":\"overlay\",\"size\":10,\"solidity\":0.2}},\"type\":\"bar\"}],\"scattergeo\":[{\"type\":\"scattergeo\",\"marker\":{\"colorbar\":{\"outlinewidth\":0,\"ticks\":\"\"}}}],\"scatterpolar\":[{\"type\":\"scatterpolar\",\"marker\":{\"colorbar\":{\"outlinewidth\":0,\"ticks\":\"\"}}}],\"histogram\":[{\"marker\":{\"pattern\":{\"fillmode\":\"overlay\",\"size\":10,\"solidity\":0.2}},\"type\":\"histogram\"}],\"scattergl\":[{\"type\":\"scattergl\",\"marker\":{\"colorbar\":{\"outlinewidth\":0,\"ticks\":\"\"}}}],\"scatter3d\":[{\"type\":\"scatter3d\",\"line\":{\"colorbar\":{\"outlinewidth\":0,\"ticks\":\"\"}},\"marker\":{\"colorbar\":{\"outlinewidth\":0,\"ticks\":\"\"}}}],\"scattermapbox\":[{\"type\":\"scattermapbox\",\"marker\":{\"colorbar\":{\"outlinewidth\":0,\"ticks\":\"\"}}}],\"scatterternary\":[{\"type\":\"scatterternary\",\"marker\":{\"colorbar\":{\"outlinewidth\":0,\"ticks\":\"\"}}}],\"scattercarpet\":[{\"type\":\"scattercarpet\",\"marker\":{\"colorbar\":{\"outlinewidth\":0,\"ticks\":\"\"}}}],\"carpet\":[{\"aaxis\":{\"endlinecolor\":\"#2a3f5f\",\"gridcolor\":\"white\",\"linecolor\":\"white\",\"minorgridcolor\":\"white\",\"startlinecolor\":\"#2a3f5f\"},\"baxis\":{\"endlinecolor\":\"#2a3f5f\",\"gridcolor\":\"white\",\"linecolor\":\"white\",\"minorgridcolor\":\"white\",\"startlinecolor\":\"#2a3f5f\"},\"type\":\"carpet\"}],\"table\":[{\"cells\":{\"fill\":{\"color\":\"#EBF0F8\"},\"line\":{\"color\":\"white\"}},\"header\":{\"fill\":{\"color\":\"#C8D4E3\"},\"line\":{\"color\":\"white\"}},\"type\":\"table\"}],\"barpolar\":[{\"marker\":{\"line\":{\"color\":\"#E5ECF6\",\"width\":0.5},\"pattern\":{\"fillmode\":\"overlay\",\"size\":10,\"solidity\":0.2}},\"type\":\"barpolar\"}],\"pie\":[{\"automargin\":true,\"type\":\"pie\"}]},\"layout\":{\"autotypenumbers\":\"strict\",\"colorway\":[\"#636efa\",\"#EF553B\",\"#00cc96\",\"#ab63fa\",\"#FFA15A\",\"#19d3f3\",\"#FF6692\",\"#B6E880\",\"#FF97FF\",\"#FECB52\"],\"font\":{\"color\":\"#2a3f5f\"},\"hovermode\":\"closest\",\"hoverlabel\":{\"align\":\"left\"},\"paper_bgcolor\":\"white\",\"plot_bgcolor\":\"#E5ECF6\",\"polar\":{\"bgcolor\":\"#E5ECF6\",\"angularaxis\":{\"gridcolor\":\"white\",\"linecolor\":\"white\",\"ticks\":\"\"},\"radialaxis\":{\"gridcolor\":\"white\",\"linecolor\":\"white\",\"ticks\":\"\"}},\"ternary\":{\"bgcolor\":\"#E5ECF6\",\"aaxis\":{\"gridcolor\":\"white\",\"linecolor\":\"white\",\"ticks\":\"\"},\"baxis\":{\"gridcolor\":\"white\",\"linecolor\":\"white\",\"ticks\":\"\"},\"caxis\":{\"gridcolor\":\"white\",\"linecolor\":\"white\",\"ticks\":\"\"}},\"coloraxis\":{\"colorbar\":{\"outlinewidth\":0,\"ticks\":\"\"}},\"colorscale\":{\"sequential\":[[0.0,\"#0d0887\"],[0.1111111111111111,\"#46039f\"],[0.2222222222222222,\"#7201a8\"],[0.3333333333333333,\"#9c179e\"],[0.4444444444444444,\"#bd3786\"],[0.5555555555555556,\"#d8576b\"],[0.6666666666666666,\"#ed7953\"],[0.7777777777777778,\"#fb9f3a\"],[0.8888888888888888,\"#fdca26\"],[1.0,\"#f0f921\"]],\"sequentialminus\":[[0.0,\"#0d0887\"],[0.1111111111111111,\"#46039f\"],[0.2222222222222222,\"#7201a8\"],[0.3333333333333333,\"#9c179e\"],[0.4444444444444444,\"#bd3786\"],[0.5555555555555556,\"#d8576b\"],[0.6666666666666666,\"#ed7953\"],[0.7777777777777778,\"#fb9f3a\"],[0.8888888888888888,\"#fdca26\"],[1.0,\"#f0f921\"]],\"diverging\":[[0,\"#8e0152\"],[0.1,\"#c51b7d\"],[0.2,\"#de77ae\"],[0.3,\"#f1b6da\"],[0.4,\"#fde0ef\"],[0.5,\"#f7f7f7\"],[0.6,\"#e6f5d0\"],[0.7,\"#b8e186\"],[0.8,\"#7fbc41\"],[0.9,\"#4d9221\"],[1,\"#276419\"]]},\"xaxis\":{\"gridcolor\":\"white\",\"linecolor\":\"white\",\"ticks\":\"\",\"title\":{\"standoff\":15},\"zerolinecolor\":\"white\",\"automargin\":true,\"zerolinewidth\":2},\"yaxis\":{\"gridcolor\":\"white\",\"linecolor\":\"white\",\"ticks\":\"\",\"title\":{\"standoff\":15},\"zerolinecolor\":\"white\",\"automargin\":true,\"zerolinewidth\":2},\"scene\":{\"xaxis\":{\"backgroundcolor\":\"#E5ECF6\",\"gridcolor\":\"white\",\"linecolor\":\"white\",\"showbackground\":true,\"ticks\":\"\",\"zerolinecolor\":\"white\",\"gridwidth\":2},\"yaxis\":{\"backgroundcolor\":\"#E5ECF6\",\"gridcolor\":\"white\",\"linecolor\":\"white\",\"showbackground\":true,\"ticks\":\"\",\"zerolinecolor\":\"white\",\"gridwidth\":2},\"zaxis\":{\"backgroundcolor\":\"#E5ECF6\",\"gridcolor\":\"white\",\"linecolor\":\"white\",\"showbackground\":true,\"ticks\":\"\",\"zerolinecolor\":\"white\",\"gridwidth\":2}},\"shapedefaults\":{\"line\":{\"color\":\"#2a3f5f\"}},\"annotationdefaults\":{\"arrowcolor\":\"#2a3f5f\",\"arrowhead\":0,\"arrowwidth\":1},\"geo\":{\"bgcolor\":\"white\",\"landcolor\":\"#E5ECF6\",\"subunitcolor\":\"white\",\"showland\":true,\"showlakes\":true,\"lakecolor\":\"white\"},\"title\":{\"x\":0.05},\"mapbox\":{\"style\":\"light\"}}},\"xaxis\":{\"anchor\":\"y\",\"domain\":[0.0,1.0],\"title\":{\"text\":\"GTR_cross_diff_MK\"}},\"yaxis\":{\"anchor\":\"x\",\"domain\":[0.0,1.0],\"title\":{\"text\":\"MK_cross_diff_GTR\"}},\"legend\":{\"tracegroupgap\":0},\"margin\":{\"t\":60}},                        {\"responsive\": true}                    ).then(function(){\n",
       "                            \n",
       "var gd = document.getElementById('185bc6ce-da5c-450e-95fd-8ec8875686c2');\n",
       "var x = new MutationObserver(function (mutations, observer) {{\n",
       "        var display = window.getComputedStyle(gd).display;\n",
       "        if (!display || display === 'none') {{\n",
       "            console.log([gd, 'removed!']);\n",
       "            Plotly.purge(gd);\n",
       "            observer.disconnect();\n",
       "        }}\n",
       "}});\n",
       "\n",
       "// Listen for the removal of the full notebook cells\n",
       "var notebookContainer = gd.closest('#notebook-container');\n",
       "if (notebookContainer) {{\n",
       "    x.observe(notebookContainer, {childList: true});\n",
       "}}\n",
       "\n",
       "// Listen for the clearing of the current output cell\n",
       "var outputEl = gd.closest('.output');\n",
       "if (outputEl) {{\n",
       "    x.observe(outputEl, {childList: true});\n",
       "}}\n",
       "\n",
       "                        })                };                });            </script>        </div>"
      ]
     },
     "metadata": {},
     "output_type": "display_data"
    }
   ],
   "source": [
    "fig = px.scatter(df, x=\"GTR_cross_lh_MK\", y=\"GTR_cross_diff_MK\")\n",
    "fig.show()\n",
    "fig = px.scatter(df, x=\"MK_cross_lh_GTR\", y=\"MK_cross_diff_GTR\")\n",
    "fig.show()\n",
    "fig = px.scatter(df, x=\"GTR_cross_diff_MK\", y=\"MK_cross_diff_GTR\")\n",
    "fig.show()"
   ]
  },
  {
   "cell_type": "code",
   "execution_count": 31,
   "id": "d8ed81a1",
   "metadata": {},
   "outputs": [
    {
     "data": {
      "application/vnd.plotly.v1+json": {
       "config": {
        "plotlyServerURL": "https://plot.ly"
       },
       "data": [
        {
         "hovertemplate": "BIN_difficult=%{x}<br>MK_difficult=%{y}<extra></extra>",
         "legendgroup": "",
         "marker": {
          "color": "#636efa",
          "symbol": "circle"
         },
         "mode": "markers",
         "name": "",
         "orientation": "v",
         "showlegend": false,
         "type": "scatter",
         "x": [
          0.0319016,
          0.22649333333333335,
          0.2975622,
          0.0338896,
          0.4126073142857143,
          0.5810848,
          0.3900596,
          0.1663074,
          0.5890958461538461,
          0.034205200000000005,
          0.004,
          0.004,
          0.09627229795918368,
          0.009072802020202022,
          0.022020400000000002,
          0.05988511914893618,
          0.2532913647058823,
          0.15728479999999997,
          0.5983148210526317,
          0.3963820461538462,
          0.12591036326530614,
          0.021087232653061228,
          0.282063952688172,
          0.009798002020202022,
          0.4377990967741935,
          0.004,
          0.853595,
          0.35534957681159424,
          0.28563635087719297,
          0.5525628666666667,
          0.5511859333333333,
          0.2708936317460317,
          0.3618360512820512,
          0.004,
          0.18072474736842103,
          0.008612802020202022,
          0.004,
          0.20305936551724138,
          0.010327802020202021,
          0.503294082352941,
          0.028049408080808087,
          0.7132284,
          0.12545375652173912,
          0.9329102,
          0.0311988,
          0.04399,
          0.1064244,
          0.0708900888888889,
          0.07007301616161618,
          0.026855200000000003,
          0.6582173974025973,
          0.09138559999999998,
          0.1802128,
          0.176068,
          0.015240400000000001,
          0.004,
          0.19509993333333334,
          0.29097983636363633,
          0.6562673777777778,
          0.3186880571428571,
          0.45689659726027393,
          0.10395126666666665,
          0.0743324181818182,
          0.004,
          0.33508367692307695,
          0.04062193763440859,
          0.14242963157894736,
          0.3227885130434783,
          0.004,
          0.004,
          0.004,
          0.0647828,
          0.30848504444444447,
          0.6346063512195121,
          0.4796024210526316,
          0.4427990987951807,
          0.0721068,
          0.16406619591836735,
          0.034205200000000005,
          0.4716613818181818,
          0.004,
          0.38355489473684207,
          0.5083591157894738,
          0.6197021333333333,
          0.38439627619047617,
          0.28316728888888887,
          0.9119073999999999,
          0.0228332,
          0.10115978969072166,
          0.22547993333333333,
          0.05143208163265307,
          0.03313000000000001,
          0.052923599999999994,
          0.07735881414141414,
          0.19920025714285716,
          0.20258124347826084,
          0.17011426315789474,
          0.0092172,
          0.6073833925925926,
          0.23241304761904757,
          0.22014711304347828,
          0.07187879999999999,
          0.4490404,
          0.10403759999999998,
          0.6163868,
          0.16872983820224718,
          0.0332524,
          0.07495586530612244,
          0.46809042105263166,
          0.6795051939393939,
          0.2861656,
          0.02162,
          0.38762940000000007,
          0.02273573333333334,
          0.0321308,
          0.05981673333333334,
          0.4215589813953489,
          0.5116153389830509,
          0.11914562702702702,
          0.6077454631578947,
          0.3282897846153846,
          0.09451760000000001,
          0.035558799999999995,
          0.4758797951219512,
          0.004,
          0.45075112413793106,
          0.0377884,
          0.014707416326530614,
          0.24196004444444447,
          0.004,
          0.004,
          0.14116550574712644,
          0.0405252,
          0.3714161529411764,
          0.2707794190476191,
          0.0253648,
          0.0495434752688172,
          0.5764442558139535,
          0.08957928837209303,
          0.07370271134020619,
          0.18247432727272728,
          0.2811794909090909,
          0.5155627555555555,
          0.5155627555555555,
          0.3824357692307692,
          0.3084726888888889,
          0.0536476,
          0.022810000000000004,
          0.0789012,
          0.0792848,
          0.07938920000000001,
          0.04458251578947369,
          0.3569146731707318,
          0.004,
          0.26108972183908047,
          0.1550684,
          0.15458053608247424,
          0.08620559512195122,
          0.38646538181818185,
          0.32747621538461535,
          0.004,
          0.0536628,
          0.06513120000000001,
          0.0911741052631579,
          0.03408020808080808,
          0.2514687523809524,
          0.7827008,
          0.09440726666666667,
          0.0516072,
          0.7580491333333335,
          0.0930310101010101,
          0.004,
          0.13125990909090907,
          0.37690574285714284,
          0.4120482516129032,
          0.021296804040404044,
          0.19234108163265304,
          0.07115160000000001,
          0.10275102268041239,
          0.10127280000000001,
          0.6368451272727274,
          0.0189064,
          0.25482453513513514,
          0.017833599999999998,
          0.3095424608695653,
          0.6163868,
          0.44295495555555553,
          0.24249467228915664,
          0.14625446804123712,
          0.09491736326530612,
          0.6643362808510638,
          0.08963360000000001,
          0.4816468736842106,
          0.055008822680412385,
          0.21780059999999998,
          0.6785432,
          0.4441873333333334,
          0.3631743534883721,
          0.1311356,
          0.0800404,
          0.0334,
          0.204202,
          0.004,
          0.3126505789473685,
          0.2878402686567164,
          0.025008006060606065,
          0.2207088,
          0.4891467555555556,
          0.20303606206896552,
          0.17559013191489364,
          0.3839296490566037,
          0.019198399999999997,
          0.1490666551724138,
          0.26311050864197527,
          0.45050999999999997,
          0.6587225473684211,
          0.11303784897959186,
          0.04877198947368422,
          0.67824,
          0.004,
          0.004,
          0.3518097272727273,
          0.0414372,
          0.2496863106382979,
          0.07732434693877552,
          0.6453854222222223,
          0.004,
          0.3342309473684211,
          0.23278065853658533,
          0.03799999999999999,
          0.004,
          0.20646086666666666,
          0.33757529629629623,
          0.31712853333333335,
          0.004,
          0.20610332972972972,
          0.0339392,
          0.8719723939393939,
          0.06454341414141415,
          0.042170859574468096,
          0.19265315789473686,
          0.0159732,
          0.10919763030303031,
          0.5824763333333334,
          0.22014711304347828,
          0.5416143703703703,
          0.11241366666666668,
          0.09989079999999999,
          0.15543381758241756,
          0.09915159999999999,
          0.1585736,
          0.37572054054054055,
          0.04410560606060606,
          0.2576867897435897,
          0.32486429620253165,
          0.0400088,
          0.696546,
          0.040884000000000004,
          0.056401014141414144,
          0.004,
          0.0189528556701031,
          0.02908,
          0.0674748,
          0.3814507294117647,
          0.08266280000000001,
          0.008094,
          0.058430941176470595,
          0.5920043999999999,
          0.016223599999999998,
          0.058811999999999996,
          0.11398421978021978,
          0.6745498571428572,
          0.8748431999999999,
          0.269499,
          0.5975821333333333,
          0.18108923255813952,
          0.0426908,
          0.7868729999999999,
          0.24196004444444447,
          0.03149804897959184,
          0.22463669565217392,
          0.17227448421052632,
          0.04185119999999999,
          0.4430411333333333,
          0.5381337096774194,
          0.6411724,
          0.1929029142857143,
          0.18809123478260867,
          0.0635844,
          0.6402414444444445,
          0.10801750103092785,
          0.6080664666666666,
          0.1538976695652174,
          0.010877600000000001,
          0.09397231428571429,
          0.25509277377049183,
          0.047023075268817195,
          0.0422628,
          0.5453523428571428,
          0.036546800000000004,
          0.5562752941176471,
          0.13951684536082476,
          0.009411600000000001,
          0.0343652,
          0.3793236606060606,
          0.10512041010101011,
          0.03485360404040404,
          0.765571,
          0.07500456326530612,
          0.14933883157894737,
          0.22739658947368419,
          0.38628358271604935,
          0.2245181569620253,
          0.0913708101010101,
          0.13531320000000002,
          0.1209330210526316,
          0.06384811428571428,
          0.24249467228915664,
          0.22243822608695654,
          0.3477803517241379,
          0.07896841616161618,
          0.025944000000000002,
          0.471837,
          0.39861688695652175,
          0.3627118,
          0.004,
          0.1817358666666667,
          0.004,
          0.013236404040404043,
          0.6591878,
          0.08811093333333334,
          0.6388628492753623,
          0.0082668,
          0.3260966888888889,
          0.6769174492753623,
          0.17308131340206184,
          0.6386986461538461,
          0.021087232653061228,
          0.0208,
          0.09018635670103092,
          0.19680998426966292,
          0.16570322077922078,
          0.5760533945945946,
          0.07348421212121212,
          0.017406,
          0.09890007710843375,
          0.1590548608695652,
          0.004,
          0.29915812643678164,
          0.6494244,
          0.6516780000000001,
          0.004,
          0.2849456631578947,
          0.14485041414141414,
          0.13792980000000002,
          0.3171571724137931,
          0.4845968,
          0.13977212307692308,
          0.05690897872340426,
          0.0639692,
          0.12034822626262627,
          0.41854420000000003,
          0.004,
          0.27866720487804886,
          0.0193488556701031,
          0.5923382,
          0.004,
          0.16917716543209876,
          0.5764442558139535,
          0.02852771134020619,
          0.14171166086956521,
          0.08707079999999999
         ],
         "xaxis": "x",
         "y": [
          0.0318712,
          0.19912784395604394,
          0.286782894117647,
          0.0447552,
          0.4383674,
          0.07159565217391303,
          0.4450066551724138,
          0.033877567010309285,
          0.6495618000000001,
          0.004,
          0.004,
          0.004,
          0.004,
          0.004,
          0.11828164444444444,
          0.1226668,
          0.20925565773195878,
          0.1284364,
          0.5971120210526315,
          0.32866825714285713,
          0.1193234,
          0.004,
          0.343903819047619,
          0.004,
          0.5527349448275862,
          0.004,
          0.8513166,
          0.3372474,
          0.004,
          0.4581407111111112,
          0.265146,
          0.03682356701030928,
          0.1086492101010101,
          0.004,
          0.10231812371134022,
          0.004,
          0.004,
          0.2565015218390805,
          0.004,
          0.5183775887323944,
          0.3266580930232558,
          0.64676525,
          0.15230040000000003,
          0.925944,
          0.06111120000000001,
          0.08978799999999999,
          0.19418200000000002,
          0.004,
          0.31470560000000003,
          0.0289292,
          0.6540714,
          0.07539289787234045,
          0.11163951794871796,
          0.0485388,
          0.004,
          0.065736,
          0.009251002020202022,
          0.27390579148936167,
          0.6762846666666666,
          0.23976766666666666,
          0.6311609111111112,
          0.021357599999999997,
          0.06033120000000001,
          0.07508080000000002,
          0.4340075549295775,
          0.047753199999999996,
          0.32953936595744676,
          0.15358853333333333,
          0.004,
          0.16100447272727272,
          0.0289292,
          0.030303199999999995,
          0.25942050337078654,
          0.6325154,
          0.4212817333333333,
          0.49871877215189875,
          0.0682812,
          0.0632728,
          0.004,
          0.47614786153846145,
          0.0336288,
          0.3875129848101266,
          0.47635059999999996,
          0.6614669818181819,
          0.1169735010752688,
          0.1050152,
          0.9801144,
          0.004,
          0.2002177243243243,
          0.09648480000000001,
          0.03301,
          0.08514402626262627,
          0.004,
          0.16522903956043955,
          0.2025862086956522,
          0.1807743139784946,
          0.038524800000000005,
          0.0847992,
          0.6265264666666666,
          0.19035923076923078,
          0.4373575894736842,
          0.10849279999999999,
          0.2677456,
          0.025598711340206193,
          0.6194278000000001,
          0.0541192,
          0.09675693043478259,
          0.07030679999999999,
          0.6569154896551724,
          0.695384657142857,
          0.5465921333333333,
          0.07159734693877551,
          0.3578637142857143,
          0.004,
          0.0472128,
          0.004,
          0.0094544,
          0.5320160972972973,
          0.0453708,
          0.639258,
          0.36581359999999996,
          0.1706974666666667,
          0.0360936,
          0.5808156727272726,
          0.004,
          0.46477579999999996,
          0.1319770202020202,
          0.004,
          0.3968635415730336,
          0.042083600000000006,
          0.012,
          0.025750000000000002,
          0.004,
          0.3732756677966102,
          0.5411380918918919,
          0.0440268,
          0.004,
          0.6270645756097561,
          0.2622036,
          0.0157852,
          0.1030185652173913,
          0.172008,
          0.17002103636363636,
          0.17002103636363636,
          0.5163274666666667,
          0.37047752727272726,
          0.044,
          0.047129599999999994,
          0.1445726086956522,
          0.0704010202020202,
          0.08351679999999999,
          0.0358344,
          0.26863278260869566,
          0.004,
          0.21075604347826085,
          0.1397843011235955,
          0.049094114285714294,
          0.0636776,
          0.1169735010752688,
          0.4731824787878788,
          0.004,
          0.0092632,
          0.0229092,
          0.21310205494505494,
          0.05818200000000001,
          0.2678070680851064,
          0.8060556372093023,
          0.0894625634408602,
          0.07486735670103092,
          0.7960426,
          0.12946640000000004,
          0.004,
          0.049817999999999994,
          0.11855418969072166,
          0.5265559428571429,
          0.004,
          0.117818,
          0.13353240000000002,
          0.16190221212121209,
          0.06512120000000002,
          0.6022472,
          0.042406,
          0.18836821126760564,
          0.03428,
          0.1456756,
          0.6194278000000001,
          0.6139132,
          0.1812352745762712,
          0.2829821853658537,
          0.20137373333333336,
          0.7025129999999999,
          0.07943381616161617,
          0.41885486666666666,
          0.047717199999999994,
          0.10990451428571428,
          0.7102890000000001,
          0.39424887323943664,
          0.044460799999999995,
          0.2504087282051282,
          0.004,
          0.004,
          0.1302628,
          0.0219488,
          0.0193308556701031,
          0.11330360000000002,
          0.004,
          0.0116176,
          0.04337919999999999,
          0.13845743636363633,
          0.16019246666666664,
          0.2350667927710844,
          0.05082681616161616,
          0.09142439999999999,
          0.46753108235294116,
          0.29730145797101454,
          0.6988391614457831,
          0.11564800000000001,
          0.004,
          0.7392508,
          0.065736,
          0.0229156,
          0.0641212,
          0.014372400000000002,
          0.1793803818181818,
          0.0293852,
          0.6598584,
          0.004,
          0.13773200404040403,
          0.19812295151515152,
          0.028476800000000003,
          0.030137599999999997,
          0.4045673826086956,
          0.28091246666666664,
          0.19166230344827587,
          0.0087544,
          0.004,
          0.0835108,
          0.896572648275862,
          0.0348372,
          0.004,
          0.2267441237113402,
          0.004,
          0.3413524172839506,
          0.6335770000000001,
          0.4373575894736842,
          0.1088795237113402,
          0.12500336326530612,
          0.17099814545454545,
          0.11650666666666668,
          0.3179677162790698,
          0.20156309411764708,
          0.3728958842105263,
          0.004,
          0.2628031428571429,
          0.22418574193548385,
          0.024089600000000003,
          0.7001232,
          0.0475712,
          0.0387528,
          0.018212,
          0.004,
          0.026336,
          0.033811600000000004,
          0.02886484897959184,
          0.004,
          0.004,
          0.15363193725490196,
          0.5928745333333334,
          0.15976819999999997,
          0.0633372,
          0.2402596,
          0.6664952,
          0.9256846,
          0.1464188938271605,
          0.5906252000000001,
          0.0158384,
          0.0247192,
          0.8215514,
          0.3968635415730336,
          0.0289744,
          0.26926828387096774,
          0.4003124153846154,
          0.037708,
          0.25036276610169494,
          0.0130908,
          0.6985532,
          0.12096081951219513,
          0.34790093846153847,
          0.009142800000000001,
          0.7039618,
          0.0808036,
          0.6781106,
          0.07882839999999999,
          0.11735161702127658,
          0.0638408,
          0.12867640000000002,
          0.009826602020202023,
          0.004,
          0.586752,
          0.13688501463414635,
          0.24402403174603174,
          0.020826400000000002,
          0.004,
          0.06502916344086021,
          0.14619760404040405,
          0.004,
          0.05454560000000001,
          0.7823642000000002,
          0.17286235268817202,
          0.021107311340206193,
          0.3450387604938271,
          0.6319679454545455,
          0.11136626666666667,
          0.13358674634146342,
          0.1634748,
          0.0628836,
          0.12500402626262627,
          0.1812352745762712,
          0.3548406064516129,
          0.21000517777777777,
          0.022705200000000002,
          0.004,
          0.5650476,
          0.016,
          0.19004393333333333,
          0.09991920000000001,
          0.1003344,
          0.014206,
          0.016145600000000003,
          0.652322,
          0.33828181568627447,
          0.6590426,
          0.0426584,
          0.15048573513513513,
          0.7131338571428572,
          0.23143615789473687,
          0.6430142,
          0.004,
          0.020939999999999997,
          0.18263267368421052,
          0.31357840000000003,
          0.1471648068965517,
          0.5647144641975308,
          0.030181999999999997,
          0.0669576,
          0.04318938947368421,
          0.23960635757575757,
          0.07667055789473684,
          0.16095433608247425,
          0.708191,
          0.7095596000000001,
          0.004,
          0.004,
          0.26487939672131144,
          0.0382888,
          0.35229326666666666,
          0.21348180845070425,
          0.2907106780487805,
          0.0190772,
          0.0382768,
          0.2725916666666667,
          0.16116163829787236,
          0.004,
          0.12411552727272727,
          0.031767199999999995,
          0.5957486000000001,
          0.051297999999999996,
          0.049758800000000006,
          0.6270645756097561,
          0.0326936,
          0.15826431304347824,
          0.11941826666666669
         ],
         "yaxis": "y"
        }
       ],
       "layout": {
        "legend": {
         "tracegroupgap": 0
        },
        "margin": {
         "t": 60
        },
        "template": {
         "data": {
          "bar": [
           {
            "error_x": {
             "color": "#2a3f5f"
            },
            "error_y": {
             "color": "#2a3f5f"
            },
            "marker": {
             "line": {
              "color": "#E5ECF6",
              "width": 0.5
             },
             "pattern": {
              "fillmode": "overlay",
              "size": 10,
              "solidity": 0.2
             }
            },
            "type": "bar"
           }
          ],
          "barpolar": [
           {
            "marker": {
             "line": {
              "color": "#E5ECF6",
              "width": 0.5
             },
             "pattern": {
              "fillmode": "overlay",
              "size": 10,
              "solidity": 0.2
             }
            },
            "type": "barpolar"
           }
          ],
          "carpet": [
           {
            "aaxis": {
             "endlinecolor": "#2a3f5f",
             "gridcolor": "white",
             "linecolor": "white",
             "minorgridcolor": "white",
             "startlinecolor": "#2a3f5f"
            },
            "baxis": {
             "endlinecolor": "#2a3f5f",
             "gridcolor": "white",
             "linecolor": "white",
             "minorgridcolor": "white",
             "startlinecolor": "#2a3f5f"
            },
            "type": "carpet"
           }
          ],
          "choropleth": [
           {
            "colorbar": {
             "outlinewidth": 0,
             "ticks": ""
            },
            "type": "choropleth"
           }
          ],
          "contour": [
           {
            "colorbar": {
             "outlinewidth": 0,
             "ticks": ""
            },
            "colorscale": [
             [
              0,
              "#0d0887"
             ],
             [
              0.1111111111111111,
              "#46039f"
             ],
             [
              0.2222222222222222,
              "#7201a8"
             ],
             [
              0.3333333333333333,
              "#9c179e"
             ],
             [
              0.4444444444444444,
              "#bd3786"
             ],
             [
              0.5555555555555556,
              "#d8576b"
             ],
             [
              0.6666666666666666,
              "#ed7953"
             ],
             [
              0.7777777777777778,
              "#fb9f3a"
             ],
             [
              0.8888888888888888,
              "#fdca26"
             ],
             [
              1,
              "#f0f921"
             ]
            ],
            "type": "contour"
           }
          ],
          "contourcarpet": [
           {
            "colorbar": {
             "outlinewidth": 0,
             "ticks": ""
            },
            "type": "contourcarpet"
           }
          ],
          "heatmap": [
           {
            "colorbar": {
             "outlinewidth": 0,
             "ticks": ""
            },
            "colorscale": [
             [
              0,
              "#0d0887"
             ],
             [
              0.1111111111111111,
              "#46039f"
             ],
             [
              0.2222222222222222,
              "#7201a8"
             ],
             [
              0.3333333333333333,
              "#9c179e"
             ],
             [
              0.4444444444444444,
              "#bd3786"
             ],
             [
              0.5555555555555556,
              "#d8576b"
             ],
             [
              0.6666666666666666,
              "#ed7953"
             ],
             [
              0.7777777777777778,
              "#fb9f3a"
             ],
             [
              0.8888888888888888,
              "#fdca26"
             ],
             [
              1,
              "#f0f921"
             ]
            ],
            "type": "heatmap"
           }
          ],
          "heatmapgl": [
           {
            "colorbar": {
             "outlinewidth": 0,
             "ticks": ""
            },
            "colorscale": [
             [
              0,
              "#0d0887"
             ],
             [
              0.1111111111111111,
              "#46039f"
             ],
             [
              0.2222222222222222,
              "#7201a8"
             ],
             [
              0.3333333333333333,
              "#9c179e"
             ],
             [
              0.4444444444444444,
              "#bd3786"
             ],
             [
              0.5555555555555556,
              "#d8576b"
             ],
             [
              0.6666666666666666,
              "#ed7953"
             ],
             [
              0.7777777777777778,
              "#fb9f3a"
             ],
             [
              0.8888888888888888,
              "#fdca26"
             ],
             [
              1,
              "#f0f921"
             ]
            ],
            "type": "heatmapgl"
           }
          ],
          "histogram": [
           {
            "marker": {
             "pattern": {
              "fillmode": "overlay",
              "size": 10,
              "solidity": 0.2
             }
            },
            "type": "histogram"
           }
          ],
          "histogram2d": [
           {
            "colorbar": {
             "outlinewidth": 0,
             "ticks": ""
            },
            "colorscale": [
             [
              0,
              "#0d0887"
             ],
             [
              0.1111111111111111,
              "#46039f"
             ],
             [
              0.2222222222222222,
              "#7201a8"
             ],
             [
              0.3333333333333333,
              "#9c179e"
             ],
             [
              0.4444444444444444,
              "#bd3786"
             ],
             [
              0.5555555555555556,
              "#d8576b"
             ],
             [
              0.6666666666666666,
              "#ed7953"
             ],
             [
              0.7777777777777778,
              "#fb9f3a"
             ],
             [
              0.8888888888888888,
              "#fdca26"
             ],
             [
              1,
              "#f0f921"
             ]
            ],
            "type": "histogram2d"
           }
          ],
          "histogram2dcontour": [
           {
            "colorbar": {
             "outlinewidth": 0,
             "ticks": ""
            },
            "colorscale": [
             [
              0,
              "#0d0887"
             ],
             [
              0.1111111111111111,
              "#46039f"
             ],
             [
              0.2222222222222222,
              "#7201a8"
             ],
             [
              0.3333333333333333,
              "#9c179e"
             ],
             [
              0.4444444444444444,
              "#bd3786"
             ],
             [
              0.5555555555555556,
              "#d8576b"
             ],
             [
              0.6666666666666666,
              "#ed7953"
             ],
             [
              0.7777777777777778,
              "#fb9f3a"
             ],
             [
              0.8888888888888888,
              "#fdca26"
             ],
             [
              1,
              "#f0f921"
             ]
            ],
            "type": "histogram2dcontour"
           }
          ],
          "mesh3d": [
           {
            "colorbar": {
             "outlinewidth": 0,
             "ticks": ""
            },
            "type": "mesh3d"
           }
          ],
          "parcoords": [
           {
            "line": {
             "colorbar": {
              "outlinewidth": 0,
              "ticks": ""
             }
            },
            "type": "parcoords"
           }
          ],
          "pie": [
           {
            "automargin": true,
            "type": "pie"
           }
          ],
          "scatter": [
           {
            "fillpattern": {
             "fillmode": "overlay",
             "size": 10,
             "solidity": 0.2
            },
            "type": "scatter"
           }
          ],
          "scatter3d": [
           {
            "line": {
             "colorbar": {
              "outlinewidth": 0,
              "ticks": ""
             }
            },
            "marker": {
             "colorbar": {
              "outlinewidth": 0,
              "ticks": ""
             }
            },
            "type": "scatter3d"
           }
          ],
          "scattercarpet": [
           {
            "marker": {
             "colorbar": {
              "outlinewidth": 0,
              "ticks": ""
             }
            },
            "type": "scattercarpet"
           }
          ],
          "scattergeo": [
           {
            "marker": {
             "colorbar": {
              "outlinewidth": 0,
              "ticks": ""
             }
            },
            "type": "scattergeo"
           }
          ],
          "scattergl": [
           {
            "marker": {
             "colorbar": {
              "outlinewidth": 0,
              "ticks": ""
             }
            },
            "type": "scattergl"
           }
          ],
          "scattermapbox": [
           {
            "marker": {
             "colorbar": {
              "outlinewidth": 0,
              "ticks": ""
             }
            },
            "type": "scattermapbox"
           }
          ],
          "scatterpolar": [
           {
            "marker": {
             "colorbar": {
              "outlinewidth": 0,
              "ticks": ""
             }
            },
            "type": "scatterpolar"
           }
          ],
          "scatterpolargl": [
           {
            "marker": {
             "colorbar": {
              "outlinewidth": 0,
              "ticks": ""
             }
            },
            "type": "scatterpolargl"
           }
          ],
          "scatterternary": [
           {
            "marker": {
             "colorbar": {
              "outlinewidth": 0,
              "ticks": ""
             }
            },
            "type": "scatterternary"
           }
          ],
          "surface": [
           {
            "colorbar": {
             "outlinewidth": 0,
             "ticks": ""
            },
            "colorscale": [
             [
              0,
              "#0d0887"
             ],
             [
              0.1111111111111111,
              "#46039f"
             ],
             [
              0.2222222222222222,
              "#7201a8"
             ],
             [
              0.3333333333333333,
              "#9c179e"
             ],
             [
              0.4444444444444444,
              "#bd3786"
             ],
             [
              0.5555555555555556,
              "#d8576b"
             ],
             [
              0.6666666666666666,
              "#ed7953"
             ],
             [
              0.7777777777777778,
              "#fb9f3a"
             ],
             [
              0.8888888888888888,
              "#fdca26"
             ],
             [
              1,
              "#f0f921"
             ]
            ],
            "type": "surface"
           }
          ],
          "table": [
           {
            "cells": {
             "fill": {
              "color": "#EBF0F8"
             },
             "line": {
              "color": "white"
             }
            },
            "header": {
             "fill": {
              "color": "#C8D4E3"
             },
             "line": {
              "color": "white"
             }
            },
            "type": "table"
           }
          ]
         },
         "layout": {
          "annotationdefaults": {
           "arrowcolor": "#2a3f5f",
           "arrowhead": 0,
           "arrowwidth": 1
          },
          "autotypenumbers": "strict",
          "coloraxis": {
           "colorbar": {
            "outlinewidth": 0,
            "ticks": ""
           }
          },
          "colorscale": {
           "diverging": [
            [
             0,
             "#8e0152"
            ],
            [
             0.1,
             "#c51b7d"
            ],
            [
             0.2,
             "#de77ae"
            ],
            [
             0.3,
             "#f1b6da"
            ],
            [
             0.4,
             "#fde0ef"
            ],
            [
             0.5,
             "#f7f7f7"
            ],
            [
             0.6,
             "#e6f5d0"
            ],
            [
             0.7,
             "#b8e186"
            ],
            [
             0.8,
             "#7fbc41"
            ],
            [
             0.9,
             "#4d9221"
            ],
            [
             1,
             "#276419"
            ]
           ],
           "sequential": [
            [
             0,
             "#0d0887"
            ],
            [
             0.1111111111111111,
             "#46039f"
            ],
            [
             0.2222222222222222,
             "#7201a8"
            ],
            [
             0.3333333333333333,
             "#9c179e"
            ],
            [
             0.4444444444444444,
             "#bd3786"
            ],
            [
             0.5555555555555556,
             "#d8576b"
            ],
            [
             0.6666666666666666,
             "#ed7953"
            ],
            [
             0.7777777777777778,
             "#fb9f3a"
            ],
            [
             0.8888888888888888,
             "#fdca26"
            ],
            [
             1,
             "#f0f921"
            ]
           ],
           "sequentialminus": [
            [
             0,
             "#0d0887"
            ],
            [
             0.1111111111111111,
             "#46039f"
            ],
            [
             0.2222222222222222,
             "#7201a8"
            ],
            [
             0.3333333333333333,
             "#9c179e"
            ],
            [
             0.4444444444444444,
             "#bd3786"
            ],
            [
             0.5555555555555556,
             "#d8576b"
            ],
            [
             0.6666666666666666,
             "#ed7953"
            ],
            [
             0.7777777777777778,
             "#fb9f3a"
            ],
            [
             0.8888888888888888,
             "#fdca26"
            ],
            [
             1,
             "#f0f921"
            ]
           ]
          },
          "colorway": [
           "#636efa",
           "#EF553B",
           "#00cc96",
           "#ab63fa",
           "#FFA15A",
           "#19d3f3",
           "#FF6692",
           "#B6E880",
           "#FF97FF",
           "#FECB52"
          ],
          "font": {
           "color": "#2a3f5f"
          },
          "geo": {
           "bgcolor": "white",
           "lakecolor": "white",
           "landcolor": "#E5ECF6",
           "showlakes": true,
           "showland": true,
           "subunitcolor": "white"
          },
          "hoverlabel": {
           "align": "left"
          },
          "hovermode": "closest",
          "mapbox": {
           "style": "light"
          },
          "paper_bgcolor": "white",
          "plot_bgcolor": "#E5ECF6",
          "polar": {
           "angularaxis": {
            "gridcolor": "white",
            "linecolor": "white",
            "ticks": ""
           },
           "bgcolor": "#E5ECF6",
           "radialaxis": {
            "gridcolor": "white",
            "linecolor": "white",
            "ticks": ""
           }
          },
          "scene": {
           "xaxis": {
            "backgroundcolor": "#E5ECF6",
            "gridcolor": "white",
            "gridwidth": 2,
            "linecolor": "white",
            "showbackground": true,
            "ticks": "",
            "zerolinecolor": "white"
           },
           "yaxis": {
            "backgroundcolor": "#E5ECF6",
            "gridcolor": "white",
            "gridwidth": 2,
            "linecolor": "white",
            "showbackground": true,
            "ticks": "",
            "zerolinecolor": "white"
           },
           "zaxis": {
            "backgroundcolor": "#E5ECF6",
            "gridcolor": "white",
            "gridwidth": 2,
            "linecolor": "white",
            "showbackground": true,
            "ticks": "",
            "zerolinecolor": "white"
           }
          },
          "shapedefaults": {
           "line": {
            "color": "#2a3f5f"
           }
          },
          "ternary": {
           "aaxis": {
            "gridcolor": "white",
            "linecolor": "white",
            "ticks": ""
           },
           "baxis": {
            "gridcolor": "white",
            "linecolor": "white",
            "ticks": ""
           },
           "bgcolor": "#E5ECF6",
           "caxis": {
            "gridcolor": "white",
            "linecolor": "white",
            "ticks": ""
           }
          },
          "title": {
           "x": 0.05
          },
          "xaxis": {
           "automargin": true,
           "gridcolor": "white",
           "linecolor": "white",
           "ticks": "",
           "title": {
            "standoff": 15
           },
           "zerolinecolor": "white",
           "zerolinewidth": 2
          },
          "yaxis": {
           "automargin": true,
           "gridcolor": "white",
           "linecolor": "white",
           "ticks": "",
           "title": {
            "standoff": 15
           },
           "zerolinecolor": "white",
           "zerolinewidth": 2
          }
         }
        },
        "xaxis": {
         "anchor": "y",
         "domain": [
          0,
          1
         ],
         "title": {
          "text": "BIN_difficult"
         }
        },
        "yaxis": {
         "anchor": "x",
         "domain": [
          0,
          1
         ],
         "title": {
          "text": "MK_difficult"
         }
        }
       }
      },
      "text/html": [
       "<div>                            <div id=\"ce34ae7b-0e70-49fd-9446-045679397fb0\" class=\"plotly-graph-div\" style=\"height:525px; width:100%;\"></div>            <script type=\"text/javascript\">                require([\"plotly\"], function(Plotly) {                    window.PLOTLYENV=window.PLOTLYENV || {};                                    if (document.getElementById(\"ce34ae7b-0e70-49fd-9446-045679397fb0\")) {                    Plotly.newPlot(                        \"ce34ae7b-0e70-49fd-9446-045679397fb0\",                        [{\"hovertemplate\":\"BIN_difficult=%{x}<br>MK_difficult=%{y}<extra></extra>\",\"legendgroup\":\"\",\"marker\":{\"color\":\"#636efa\",\"symbol\":\"circle\"},\"mode\":\"markers\",\"name\":\"\",\"orientation\":\"v\",\"showlegend\":false,\"x\":[0.0319016,0.22649333333333335,0.2975622,0.0338896,0.4126073142857143,0.5810848,0.3900596,0.1663074,0.5890958461538461,0.034205200000000005,0.004,0.004,0.09627229795918368,0.009072802020202022,0.022020400000000002,0.05988511914893618,0.2532913647058823,0.15728479999999997,0.5983148210526317,0.3963820461538462,0.12591036326530614,0.021087232653061228,0.282063952688172,0.009798002020202022,0.4377990967741935,0.004,0.853595,0.35534957681159424,0.28563635087719297,0.5525628666666667,0.5511859333333333,0.2708936317460317,0.3618360512820512,0.004,0.18072474736842103,0.008612802020202022,0.004,0.20305936551724138,0.010327802020202021,0.503294082352941,0.028049408080808087,0.7132284,0.12545375652173912,0.9329102,0.0311988,0.04399,0.1064244,0.0708900888888889,0.07007301616161618,0.026855200000000003,0.6582173974025973,0.09138559999999998,0.1802128,0.176068,0.015240400000000001,0.004,0.19509993333333334,0.29097983636363633,0.6562673777777778,0.3186880571428571,0.45689659726027393,0.10395126666666665,0.0743324181818182,0.004,0.33508367692307695,0.04062193763440859,0.14242963157894736,0.3227885130434783,0.004,0.004,0.004,0.0647828,0.30848504444444447,0.6346063512195121,0.4796024210526316,0.4427990987951807,0.0721068,0.16406619591836735,0.034205200000000005,0.4716613818181818,0.004,0.38355489473684207,0.5083591157894738,0.6197021333333333,0.38439627619047617,0.28316728888888887,0.9119073999999999,0.0228332,0.10115978969072166,0.22547993333333333,0.05143208163265307,0.03313000000000001,0.052923599999999994,0.07735881414141414,0.19920025714285716,0.20258124347826084,0.17011426315789474,0.0092172,0.6073833925925926,0.23241304761904757,0.22014711304347828,0.07187879999999999,0.4490404,0.10403759999999998,0.6163868,0.16872983820224718,0.0332524,0.07495586530612244,0.46809042105263166,0.6795051939393939,0.2861656,0.02162,0.38762940000000007,0.02273573333333334,0.0321308,0.05981673333333334,0.4215589813953489,0.5116153389830509,0.11914562702702702,0.6077454631578947,0.3282897846153846,0.09451760000000001,0.035558799999999995,0.4758797951219512,0.004,0.45075112413793106,0.0377884,0.014707416326530614,0.24196004444444447,0.004,0.004,0.14116550574712644,0.0405252,0.3714161529411764,0.2707794190476191,0.0253648,0.0495434752688172,0.5764442558139535,0.08957928837209303,0.07370271134020619,0.18247432727272728,0.2811794909090909,0.5155627555555555,0.5155627555555555,0.3824357692307692,0.3084726888888889,0.0536476,0.022810000000000004,0.0789012,0.0792848,0.07938920000000001,0.04458251578947369,0.3569146731707318,0.004,0.26108972183908047,0.1550684,0.15458053608247424,0.08620559512195122,0.38646538181818185,0.32747621538461535,0.004,0.0536628,0.06513120000000001,0.0911741052631579,0.03408020808080808,0.2514687523809524,0.7827008,0.09440726666666667,0.0516072,0.7580491333333335,0.0930310101010101,0.004,0.13125990909090907,0.37690574285714284,0.4120482516129032,0.021296804040404044,0.19234108163265304,0.07115160000000001,0.10275102268041239,0.10127280000000001,0.6368451272727274,0.0189064,0.25482453513513514,0.017833599999999998,0.3095424608695653,0.6163868,0.44295495555555553,0.24249467228915664,0.14625446804123712,0.09491736326530612,0.6643362808510638,0.08963360000000001,0.4816468736842106,0.055008822680412385,0.21780059999999998,0.6785432,0.4441873333333334,0.3631743534883721,0.1311356,0.0800404,0.0334,0.204202,0.004,0.3126505789473685,0.2878402686567164,0.025008006060606065,0.2207088,0.4891467555555556,0.20303606206896552,0.17559013191489364,0.3839296490566037,0.019198399999999997,0.1490666551724138,0.26311050864197527,0.45050999999999997,0.6587225473684211,0.11303784897959186,0.04877198947368422,0.67824,0.004,0.004,0.3518097272727273,0.0414372,0.2496863106382979,0.07732434693877552,0.6453854222222223,0.004,0.3342309473684211,0.23278065853658533,0.03799999999999999,0.004,0.20646086666666666,0.33757529629629623,0.31712853333333335,0.004,0.20610332972972972,0.0339392,0.8719723939393939,0.06454341414141415,0.042170859574468096,0.19265315789473686,0.0159732,0.10919763030303031,0.5824763333333334,0.22014711304347828,0.5416143703703703,0.11241366666666668,0.09989079999999999,0.15543381758241756,0.09915159999999999,0.1585736,0.37572054054054055,0.04410560606060606,0.2576867897435897,0.32486429620253165,0.0400088,0.696546,0.040884000000000004,0.056401014141414144,0.004,0.0189528556701031,0.02908,0.0674748,0.3814507294117647,0.08266280000000001,0.008094,0.058430941176470595,0.5920043999999999,0.016223599999999998,0.058811999999999996,0.11398421978021978,0.6745498571428572,0.8748431999999999,0.269499,0.5975821333333333,0.18108923255813952,0.0426908,0.7868729999999999,0.24196004444444447,0.03149804897959184,0.22463669565217392,0.17227448421052632,0.04185119999999999,0.4430411333333333,0.5381337096774194,0.6411724,0.1929029142857143,0.18809123478260867,0.0635844,0.6402414444444445,0.10801750103092785,0.6080664666666666,0.1538976695652174,0.010877600000000001,0.09397231428571429,0.25509277377049183,0.047023075268817195,0.0422628,0.5453523428571428,0.036546800000000004,0.5562752941176471,0.13951684536082476,0.009411600000000001,0.0343652,0.3793236606060606,0.10512041010101011,0.03485360404040404,0.765571,0.07500456326530612,0.14933883157894737,0.22739658947368419,0.38628358271604935,0.2245181569620253,0.0913708101010101,0.13531320000000002,0.1209330210526316,0.06384811428571428,0.24249467228915664,0.22243822608695654,0.3477803517241379,0.07896841616161618,0.025944000000000002,0.471837,0.39861688695652175,0.3627118,0.004,0.1817358666666667,0.004,0.013236404040404043,0.6591878,0.08811093333333334,0.6388628492753623,0.0082668,0.3260966888888889,0.6769174492753623,0.17308131340206184,0.6386986461538461,0.021087232653061228,0.0208,0.09018635670103092,0.19680998426966292,0.16570322077922078,0.5760533945945946,0.07348421212121212,0.017406,0.09890007710843375,0.1590548608695652,0.004,0.29915812643678164,0.6494244,0.6516780000000001,0.004,0.2849456631578947,0.14485041414141414,0.13792980000000002,0.3171571724137931,0.4845968,0.13977212307692308,0.05690897872340426,0.0639692,0.12034822626262627,0.41854420000000003,0.004,0.27866720487804886,0.0193488556701031,0.5923382,0.004,0.16917716543209876,0.5764442558139535,0.02852771134020619,0.14171166086956521,0.08707079999999999],\"xaxis\":\"x\",\"y\":[0.0318712,0.19912784395604394,0.286782894117647,0.0447552,0.4383674,0.07159565217391303,0.4450066551724138,0.033877567010309285,0.6495618000000001,0.004,0.004,0.004,0.004,0.004,0.11828164444444444,0.1226668,0.20925565773195878,0.1284364,0.5971120210526315,0.32866825714285713,0.1193234,0.004,0.343903819047619,0.004,0.5527349448275862,0.004,0.8513166,0.3372474,0.004,0.4581407111111112,0.265146,0.03682356701030928,0.1086492101010101,0.004,0.10231812371134022,0.004,0.004,0.2565015218390805,0.004,0.5183775887323944,0.3266580930232558,0.64676525,0.15230040000000003,0.925944,0.06111120000000001,0.08978799999999999,0.19418200000000002,0.004,0.31470560000000003,0.0289292,0.6540714,0.07539289787234045,0.11163951794871796,0.0485388,0.004,0.065736,0.009251002020202022,0.27390579148936167,0.6762846666666666,0.23976766666666666,0.6311609111111112,0.021357599999999997,0.06033120000000001,0.07508080000000002,0.4340075549295775,0.047753199999999996,0.32953936595744676,0.15358853333333333,0.004,0.16100447272727272,0.0289292,0.030303199999999995,0.25942050337078654,0.6325154,0.4212817333333333,0.49871877215189875,0.0682812,0.0632728,0.004,0.47614786153846145,0.0336288,0.3875129848101266,0.47635059999999996,0.6614669818181819,0.1169735010752688,0.1050152,0.9801144,0.004,0.2002177243243243,0.09648480000000001,0.03301,0.08514402626262627,0.004,0.16522903956043955,0.2025862086956522,0.1807743139784946,0.038524800000000005,0.0847992,0.6265264666666666,0.19035923076923078,0.4373575894736842,0.10849279999999999,0.2677456,0.025598711340206193,0.6194278000000001,0.0541192,0.09675693043478259,0.07030679999999999,0.6569154896551724,0.695384657142857,0.5465921333333333,0.07159734693877551,0.3578637142857143,0.004,0.0472128,0.004,0.0094544,0.5320160972972973,0.0453708,0.639258,0.36581359999999996,0.1706974666666667,0.0360936,0.5808156727272726,0.004,0.46477579999999996,0.1319770202020202,0.004,0.3968635415730336,0.042083600000000006,0.012,0.025750000000000002,0.004,0.3732756677966102,0.5411380918918919,0.0440268,0.004,0.6270645756097561,0.2622036,0.0157852,0.1030185652173913,0.172008,0.17002103636363636,0.17002103636363636,0.5163274666666667,0.37047752727272726,0.044,0.047129599999999994,0.1445726086956522,0.0704010202020202,0.08351679999999999,0.0358344,0.26863278260869566,0.004,0.21075604347826085,0.1397843011235955,0.049094114285714294,0.0636776,0.1169735010752688,0.4731824787878788,0.004,0.0092632,0.0229092,0.21310205494505494,0.05818200000000001,0.2678070680851064,0.8060556372093023,0.0894625634408602,0.07486735670103092,0.7960426,0.12946640000000004,0.004,0.049817999999999994,0.11855418969072166,0.5265559428571429,0.004,0.117818,0.13353240000000002,0.16190221212121209,0.06512120000000002,0.6022472,0.042406,0.18836821126760564,0.03428,0.1456756,0.6194278000000001,0.6139132,0.1812352745762712,0.2829821853658537,0.20137373333333336,0.7025129999999999,0.07943381616161617,0.41885486666666666,0.047717199999999994,0.10990451428571428,0.7102890000000001,0.39424887323943664,0.044460799999999995,0.2504087282051282,0.004,0.004,0.1302628,0.0219488,0.0193308556701031,0.11330360000000002,0.004,0.0116176,0.04337919999999999,0.13845743636363633,0.16019246666666664,0.2350667927710844,0.05082681616161616,0.09142439999999999,0.46753108235294116,0.29730145797101454,0.6988391614457831,0.11564800000000001,0.004,0.7392508,0.065736,0.0229156,0.0641212,0.014372400000000002,0.1793803818181818,0.0293852,0.6598584,0.004,0.13773200404040403,0.19812295151515152,0.028476800000000003,0.030137599999999997,0.4045673826086956,0.28091246666666664,0.19166230344827587,0.0087544,0.004,0.0835108,0.896572648275862,0.0348372,0.004,0.2267441237113402,0.004,0.3413524172839506,0.6335770000000001,0.4373575894736842,0.1088795237113402,0.12500336326530612,0.17099814545454545,0.11650666666666668,0.3179677162790698,0.20156309411764708,0.3728958842105263,0.004,0.2628031428571429,0.22418574193548385,0.024089600000000003,0.7001232,0.0475712,0.0387528,0.018212,0.004,0.026336,0.033811600000000004,0.02886484897959184,0.004,0.004,0.15363193725490196,0.5928745333333334,0.15976819999999997,0.0633372,0.2402596,0.6664952,0.9256846,0.1464188938271605,0.5906252000000001,0.0158384,0.0247192,0.8215514,0.3968635415730336,0.0289744,0.26926828387096774,0.4003124153846154,0.037708,0.25036276610169494,0.0130908,0.6985532,0.12096081951219513,0.34790093846153847,0.009142800000000001,0.7039618,0.0808036,0.6781106,0.07882839999999999,0.11735161702127658,0.0638408,0.12867640000000002,0.009826602020202023,0.004,0.586752,0.13688501463414635,0.24402403174603174,0.020826400000000002,0.004,0.06502916344086021,0.14619760404040405,0.004,0.05454560000000001,0.7823642000000002,0.17286235268817202,0.021107311340206193,0.3450387604938271,0.6319679454545455,0.11136626666666667,0.13358674634146342,0.1634748,0.0628836,0.12500402626262627,0.1812352745762712,0.3548406064516129,0.21000517777777777,0.022705200000000002,0.004,0.5650476,0.016,0.19004393333333333,0.09991920000000001,0.1003344,0.014206,0.016145600000000003,0.652322,0.33828181568627447,0.6590426,0.0426584,0.15048573513513513,0.7131338571428572,0.23143615789473687,0.6430142,0.004,0.020939999999999997,0.18263267368421052,0.31357840000000003,0.1471648068965517,0.5647144641975308,0.030181999999999997,0.0669576,0.04318938947368421,0.23960635757575757,0.07667055789473684,0.16095433608247425,0.708191,0.7095596000000001,0.004,0.004,0.26487939672131144,0.0382888,0.35229326666666666,0.21348180845070425,0.2907106780487805,0.0190772,0.0382768,0.2725916666666667,0.16116163829787236,0.004,0.12411552727272727,0.031767199999999995,0.5957486000000001,0.051297999999999996,0.049758800000000006,0.6270645756097561,0.0326936,0.15826431304347824,0.11941826666666669],\"yaxis\":\"y\",\"type\":\"scatter\"}],                        {\"template\":{\"data\":{\"histogram2dcontour\":[{\"type\":\"histogram2dcontour\",\"colorbar\":{\"outlinewidth\":0,\"ticks\":\"\"},\"colorscale\":[[0.0,\"#0d0887\"],[0.1111111111111111,\"#46039f\"],[0.2222222222222222,\"#7201a8\"],[0.3333333333333333,\"#9c179e\"],[0.4444444444444444,\"#bd3786\"],[0.5555555555555556,\"#d8576b\"],[0.6666666666666666,\"#ed7953\"],[0.7777777777777778,\"#fb9f3a\"],[0.8888888888888888,\"#fdca26\"],[1.0,\"#f0f921\"]]}],\"choropleth\":[{\"type\":\"choropleth\",\"colorbar\":{\"outlinewidth\":0,\"ticks\":\"\"}}],\"histogram2d\":[{\"type\":\"histogram2d\",\"colorbar\":{\"outlinewidth\":0,\"ticks\":\"\"},\"colorscale\":[[0.0,\"#0d0887\"],[0.1111111111111111,\"#46039f\"],[0.2222222222222222,\"#7201a8\"],[0.3333333333333333,\"#9c179e\"],[0.4444444444444444,\"#bd3786\"],[0.5555555555555556,\"#d8576b\"],[0.6666666666666666,\"#ed7953\"],[0.7777777777777778,\"#fb9f3a\"],[0.8888888888888888,\"#fdca26\"],[1.0,\"#f0f921\"]]}],\"heatmap\":[{\"type\":\"heatmap\",\"colorbar\":{\"outlinewidth\":0,\"ticks\":\"\"},\"colorscale\":[[0.0,\"#0d0887\"],[0.1111111111111111,\"#46039f\"],[0.2222222222222222,\"#7201a8\"],[0.3333333333333333,\"#9c179e\"],[0.4444444444444444,\"#bd3786\"],[0.5555555555555556,\"#d8576b\"],[0.6666666666666666,\"#ed7953\"],[0.7777777777777778,\"#fb9f3a\"],[0.8888888888888888,\"#fdca26\"],[1.0,\"#f0f921\"]]}],\"heatmapgl\":[{\"type\":\"heatmapgl\",\"colorbar\":{\"outlinewidth\":0,\"ticks\":\"\"},\"colorscale\":[[0.0,\"#0d0887\"],[0.1111111111111111,\"#46039f\"],[0.2222222222222222,\"#7201a8\"],[0.3333333333333333,\"#9c179e\"],[0.4444444444444444,\"#bd3786\"],[0.5555555555555556,\"#d8576b\"],[0.6666666666666666,\"#ed7953\"],[0.7777777777777778,\"#fb9f3a\"],[0.8888888888888888,\"#fdca26\"],[1.0,\"#f0f921\"]]}],\"contourcarpet\":[{\"type\":\"contourcarpet\",\"colorbar\":{\"outlinewidth\":0,\"ticks\":\"\"}}],\"contour\":[{\"type\":\"contour\",\"colorbar\":{\"outlinewidth\":0,\"ticks\":\"\"},\"colorscale\":[[0.0,\"#0d0887\"],[0.1111111111111111,\"#46039f\"],[0.2222222222222222,\"#7201a8\"],[0.3333333333333333,\"#9c179e\"],[0.4444444444444444,\"#bd3786\"],[0.5555555555555556,\"#d8576b\"],[0.6666666666666666,\"#ed7953\"],[0.7777777777777778,\"#fb9f3a\"],[0.8888888888888888,\"#fdca26\"],[1.0,\"#f0f921\"]]}],\"surface\":[{\"type\":\"surface\",\"colorbar\":{\"outlinewidth\":0,\"ticks\":\"\"},\"colorscale\":[[0.0,\"#0d0887\"],[0.1111111111111111,\"#46039f\"],[0.2222222222222222,\"#7201a8\"],[0.3333333333333333,\"#9c179e\"],[0.4444444444444444,\"#bd3786\"],[0.5555555555555556,\"#d8576b\"],[0.6666666666666666,\"#ed7953\"],[0.7777777777777778,\"#fb9f3a\"],[0.8888888888888888,\"#fdca26\"],[1.0,\"#f0f921\"]]}],\"mesh3d\":[{\"type\":\"mesh3d\",\"colorbar\":{\"outlinewidth\":0,\"ticks\":\"\"}}],\"scatter\":[{\"fillpattern\":{\"fillmode\":\"overlay\",\"size\":10,\"solidity\":0.2},\"type\":\"scatter\"}],\"parcoords\":[{\"type\":\"parcoords\",\"line\":{\"colorbar\":{\"outlinewidth\":0,\"ticks\":\"\"}}}],\"scatterpolargl\":[{\"type\":\"scatterpolargl\",\"marker\":{\"colorbar\":{\"outlinewidth\":0,\"ticks\":\"\"}}}],\"bar\":[{\"error_x\":{\"color\":\"#2a3f5f\"},\"error_y\":{\"color\":\"#2a3f5f\"},\"marker\":{\"line\":{\"color\":\"#E5ECF6\",\"width\":0.5},\"pattern\":{\"fillmode\":\"overlay\",\"size\":10,\"solidity\":0.2}},\"type\":\"bar\"}],\"scattergeo\":[{\"type\":\"scattergeo\",\"marker\":{\"colorbar\":{\"outlinewidth\":0,\"ticks\":\"\"}}}],\"scatterpolar\":[{\"type\":\"scatterpolar\",\"marker\":{\"colorbar\":{\"outlinewidth\":0,\"ticks\":\"\"}}}],\"histogram\":[{\"marker\":{\"pattern\":{\"fillmode\":\"overlay\",\"size\":10,\"solidity\":0.2}},\"type\":\"histogram\"}],\"scattergl\":[{\"type\":\"scattergl\",\"marker\":{\"colorbar\":{\"outlinewidth\":0,\"ticks\":\"\"}}}],\"scatter3d\":[{\"type\":\"scatter3d\",\"line\":{\"colorbar\":{\"outlinewidth\":0,\"ticks\":\"\"}},\"marker\":{\"colorbar\":{\"outlinewidth\":0,\"ticks\":\"\"}}}],\"scattermapbox\":[{\"type\":\"scattermapbox\",\"marker\":{\"colorbar\":{\"outlinewidth\":0,\"ticks\":\"\"}}}],\"scatterternary\":[{\"type\":\"scatterternary\",\"marker\":{\"colorbar\":{\"outlinewidth\":0,\"ticks\":\"\"}}}],\"scattercarpet\":[{\"type\":\"scattercarpet\",\"marker\":{\"colorbar\":{\"outlinewidth\":0,\"ticks\":\"\"}}}],\"carpet\":[{\"aaxis\":{\"endlinecolor\":\"#2a3f5f\",\"gridcolor\":\"white\",\"linecolor\":\"white\",\"minorgridcolor\":\"white\",\"startlinecolor\":\"#2a3f5f\"},\"baxis\":{\"endlinecolor\":\"#2a3f5f\",\"gridcolor\":\"white\",\"linecolor\":\"white\",\"minorgridcolor\":\"white\",\"startlinecolor\":\"#2a3f5f\"},\"type\":\"carpet\"}],\"table\":[{\"cells\":{\"fill\":{\"color\":\"#EBF0F8\"},\"line\":{\"color\":\"white\"}},\"header\":{\"fill\":{\"color\":\"#C8D4E3\"},\"line\":{\"color\":\"white\"}},\"type\":\"table\"}],\"barpolar\":[{\"marker\":{\"line\":{\"color\":\"#E5ECF6\",\"width\":0.5},\"pattern\":{\"fillmode\":\"overlay\",\"size\":10,\"solidity\":0.2}},\"type\":\"barpolar\"}],\"pie\":[{\"automargin\":true,\"type\":\"pie\"}]},\"layout\":{\"autotypenumbers\":\"strict\",\"colorway\":[\"#636efa\",\"#EF553B\",\"#00cc96\",\"#ab63fa\",\"#FFA15A\",\"#19d3f3\",\"#FF6692\",\"#B6E880\",\"#FF97FF\",\"#FECB52\"],\"font\":{\"color\":\"#2a3f5f\"},\"hovermode\":\"closest\",\"hoverlabel\":{\"align\":\"left\"},\"paper_bgcolor\":\"white\",\"plot_bgcolor\":\"#E5ECF6\",\"polar\":{\"bgcolor\":\"#E5ECF6\",\"angularaxis\":{\"gridcolor\":\"white\",\"linecolor\":\"white\",\"ticks\":\"\"},\"radialaxis\":{\"gridcolor\":\"white\",\"linecolor\":\"white\",\"ticks\":\"\"}},\"ternary\":{\"bgcolor\":\"#E5ECF6\",\"aaxis\":{\"gridcolor\":\"white\",\"linecolor\":\"white\",\"ticks\":\"\"},\"baxis\":{\"gridcolor\":\"white\",\"linecolor\":\"white\",\"ticks\":\"\"},\"caxis\":{\"gridcolor\":\"white\",\"linecolor\":\"white\",\"ticks\":\"\"}},\"coloraxis\":{\"colorbar\":{\"outlinewidth\":0,\"ticks\":\"\"}},\"colorscale\":{\"sequential\":[[0.0,\"#0d0887\"],[0.1111111111111111,\"#46039f\"],[0.2222222222222222,\"#7201a8\"],[0.3333333333333333,\"#9c179e\"],[0.4444444444444444,\"#bd3786\"],[0.5555555555555556,\"#d8576b\"],[0.6666666666666666,\"#ed7953\"],[0.7777777777777778,\"#fb9f3a\"],[0.8888888888888888,\"#fdca26\"],[1.0,\"#f0f921\"]],\"sequentialminus\":[[0.0,\"#0d0887\"],[0.1111111111111111,\"#46039f\"],[0.2222222222222222,\"#7201a8\"],[0.3333333333333333,\"#9c179e\"],[0.4444444444444444,\"#bd3786\"],[0.5555555555555556,\"#d8576b\"],[0.6666666666666666,\"#ed7953\"],[0.7777777777777778,\"#fb9f3a\"],[0.8888888888888888,\"#fdca26\"],[1.0,\"#f0f921\"]],\"diverging\":[[0,\"#8e0152\"],[0.1,\"#c51b7d\"],[0.2,\"#de77ae\"],[0.3,\"#f1b6da\"],[0.4,\"#fde0ef\"],[0.5,\"#f7f7f7\"],[0.6,\"#e6f5d0\"],[0.7,\"#b8e186\"],[0.8,\"#7fbc41\"],[0.9,\"#4d9221\"],[1,\"#276419\"]]},\"xaxis\":{\"gridcolor\":\"white\",\"linecolor\":\"white\",\"ticks\":\"\",\"title\":{\"standoff\":15},\"zerolinecolor\":\"white\",\"automargin\":true,\"zerolinewidth\":2},\"yaxis\":{\"gridcolor\":\"white\",\"linecolor\":\"white\",\"ticks\":\"\",\"title\":{\"standoff\":15},\"zerolinecolor\":\"white\",\"automargin\":true,\"zerolinewidth\":2},\"scene\":{\"xaxis\":{\"backgroundcolor\":\"#E5ECF6\",\"gridcolor\":\"white\",\"linecolor\":\"white\",\"showbackground\":true,\"ticks\":\"\",\"zerolinecolor\":\"white\",\"gridwidth\":2},\"yaxis\":{\"backgroundcolor\":\"#E5ECF6\",\"gridcolor\":\"white\",\"linecolor\":\"white\",\"showbackground\":true,\"ticks\":\"\",\"zerolinecolor\":\"white\",\"gridwidth\":2},\"zaxis\":{\"backgroundcolor\":\"#E5ECF6\",\"gridcolor\":\"white\",\"linecolor\":\"white\",\"showbackground\":true,\"ticks\":\"\",\"zerolinecolor\":\"white\",\"gridwidth\":2}},\"shapedefaults\":{\"line\":{\"color\":\"#2a3f5f\"}},\"annotationdefaults\":{\"arrowcolor\":\"#2a3f5f\",\"arrowhead\":0,\"arrowwidth\":1},\"geo\":{\"bgcolor\":\"white\",\"landcolor\":\"#E5ECF6\",\"subunitcolor\":\"white\",\"showland\":true,\"showlakes\":true,\"lakecolor\":\"white\"},\"title\":{\"x\":0.05},\"mapbox\":{\"style\":\"light\"}}},\"xaxis\":{\"anchor\":\"y\",\"domain\":[0.0,1.0],\"title\":{\"text\":\"BIN_difficult\"}},\"yaxis\":{\"anchor\":\"x\",\"domain\":[0.0,1.0],\"title\":{\"text\":\"MK_difficult\"}},\"legend\":{\"tracegroupgap\":0},\"margin\":{\"t\":60}},                        {\"responsive\": true}                    ).then(function(){\n",
       "                            \n",
       "var gd = document.getElementById('ce34ae7b-0e70-49fd-9446-045679397fb0');\n",
       "var x = new MutationObserver(function (mutations, observer) {{\n",
       "        var display = window.getComputedStyle(gd).display;\n",
       "        if (!display || display === 'none') {{\n",
       "            console.log([gd, 'removed!']);\n",
       "            Plotly.purge(gd);\n",
       "            observer.disconnect();\n",
       "        }}\n",
       "}});\n",
       "\n",
       "// Listen for the removal of the full notebook cells\n",
       "var notebookContainer = gd.closest('#notebook-container');\n",
       "if (notebookContainer) {{\n",
       "    x.observe(notebookContainer, {childList: true});\n",
       "}}\n",
       "\n",
       "// Listen for the clearing of the current output cell\n",
       "var outputEl = gd.closest('.output');\n",
       "if (outputEl) {{\n",
       "    x.observe(outputEl, {childList: true});\n",
       "}}\n",
       "\n",
       "                        })                };                });            </script>        </div>"
      ]
     },
     "metadata": {},
     "output_type": "display_data"
    }
   ],
   "source": [
    "fig = px.scatter(df, x=\"BIN_difficult\", y=\"MK_difficult\")\n",
    "fig.show()"
   ]
  },
  {
   "cell_type": "code",
   "execution_count": 36,
   "id": "fd55ed88",
   "metadata": {},
   "outputs": [
    {
     "data": {
      "application/vnd.plotly.v1+json": {
       "config": {
        "plotlyServerURL": "https://plot.ly"
       },
       "data": [
        {
         "hovertemplate": "consensus_dist_bin_gtr=%{x}<br>eval_dist_bin_gtr=%{y}<extra></extra>",
         "legendgroup": "",
         "marker": {
          "color": "#636efa",
          "symbol": "circle"
         },
         "mode": "markers",
         "name": "",
         "orientation": "v",
         "showlegend": false,
         "type": "scatter",
         "x": [
          0.6,
          0.323943661971831,
          0.49295774647887325,
          0.20512820512820512,
          0,
          0.2631578947368421,
          0.4666666666666667,
          0.14285714285714285,
          0.18072289156626506,
          0.25,
          0.08,
          0.03125,
          0.5,
          0,
          0.0625,
          0.3333333333333333,
          0.2916666666666667,
          0.4,
          0.3181818181818182,
          0.43434343434343436,
          0.2923076923076923,
          0.14705882352941177,
          0.5833333333333334,
          0,
          0.2972972972972973,
          0.125,
          0.16666666666666666,
          0.3442622950819672,
          0.14285714285714285,
          0.11764705882352941,
          0.5,
          0.8,
          0.25,
          0,
          0.375,
          0.037037037037037035,
          0.05263157894736842,
          0.23076923076923078,
          0.038461538461538464,
          0.2978723404255319,
          0.1320754716981132,
          0.06666666666666667,
          0.6103896103896104,
          0.1,
          0.5,
          0.3333333333333333,
          1,
          0.42857142857142855,
          0.5555555555555556,
          0,
          0.4336283185840708,
          0.24324324324324326,
          0.10344827586206896,
          0.16666666666666666,
          0.03333333333333333,
          0.12727272727272726,
          0.3076923076923077,
          0.07142857142857142,
          0.38095238095238093,
          0.5714285714285714,
          0.8441558441558441,
          0.18181818181818182,
          0.14754098360655737,
          0,
          0.36,
          0,
          0.5263157894736842,
          0.41935483870967744,
          0.2222222222222222,
          0.7647058823529411,
          0.14814814814814814,
          0.3877551020408163,
          0.3404255319148936,
          0.10526315789473684,
          0.3972602739726027,
          0.2676056338028169,
          0.48717948717948717,
          0.42857142857142855,
          0.25,
          0.4666666666666667,
          0.03125,
          0.09090909090909091,
          0.5970149253731343,
          0.6470588235294118,
          0.08333333333333333,
          0.3220338983050847,
          1,
          0,
          0.4166666666666667,
          0.7647058823529411,
          0.18518518518518517,
          0.11864406779661017,
          0.16666666666666666,
          0.23333333333333334,
          0.7073170731707317,
          0.7894736842105263,
          0.2826086956521739,
          0.31868131868131866,
          0.31645569620253167,
          0.3142857142857143,
          0.2786885245901639,
          0.7777777777777778,
          0.3333333333333333,
          0.3125,
          0.34782608695652173,
          0.3176470588235294,
          0.3157894736842105,
          0.12195121951219512,
          0.6,
          0.6,
          0.3333333333333333,
          0.6363636363636364,
          0.32558139534883723,
          0.037037037037037035,
          0.1038961038961039,
          0.32142857142857145,
          0.28205128205128205,
          0.25,
          0.10891089108910891,
          0.48936170212765956,
          0.25,
          0.15,
          0.24,
          0.6,
          0.09523809523809523,
          0.1111111111111111,
          0.31666666666666665,
          0.037037037037037035,
          0.323943661971831,
          0.4,
          0.7142857142857143,
          0.2777777777777778,
          0.6666666666666666,
          0.11392405063291139,
          0.2743362831858407,
          0.6666666666666666,
          0.2,
          0.38,
          0.15384615384615385,
          0.29411764705882354,
          0.36585365853658536,
          0.4666666666666667,
          0.0967741935483871,
          0.0967741935483871,
          0.49019607843137253,
          0.2653061224489796,
          0.3888888888888889,
          0.3333333333333333,
          0.08771929824561403,
          0.30612244897959184,
          0.4146341463414634,
          0.22123893805309736,
          0.6808510638297872,
          0.6923076923076923,
          0.2275132275132275,
          0.25,
          0.17307692307692307,
          0.13333333333333333,
          0.08333333333333333,
          0.21658986175115208,
          0.1,
          0.21052631578947367,
          0.38461538461538464,
          0.38636363636363635,
          0.14285714285714285,
          0.4838709677419355,
          0.5428571428571428,
          0.2916666666666667,
          0.07246376811594203,
          0.5384615384615384,
          0.5294117647058824,
          0.08333333333333333,
          0.4090909090909091,
          0.4,
          0.43661971830985913,
          0.125,
          0,
          0.5,
          0.6923076923076923,
          0,
          0.16666666666666666,
          0.13095238095238096,
          0.13432835820895522,
          0.1232876712328767,
          0.058823529411764705,
          0.34782608695652173,
          0.36231884057971014,
          0.25,
          0.391304347826087,
          0.6483516483516484,
          0.19384615384615383,
          0.7142857142857143,
          0.15789473684210525,
          0.3333333333333333,
          0.5849056603773585,
          0.05,
          0.2815533980582524,
          1,
          0.5625,
          0,
          0.03225806451612903,
          0.3333333333333333,
          0.36363636363636365,
          0.1,
          0.28,
          0.05555555555555555,
          0.3333333333333333,
          0.3488372093023256,
          0.22580645161290322,
          0.19480519480519481,
          1,
          0.16470588235294117,
          0.6,
          0.4444444444444444,
          0.42857142857142855,
          0.35135135135135137,
          0.42857142857142855,
          0.11538461538461539,
          0.3333333333333333,
          0.12727272727272726,
          0.2222222222222222,
          0.19148936170212766,
          0.1320754716981132,
          0.36363636363636365,
          0.06172839506172839,
          0.4,
          0.5454545454545454,
          0.5714285714285714,
          0.28,
          0.1794871794871795,
          0.14285714285714285,
          0.5757575757575758,
          0.52,
          0.16666666666666666,
          0.07317073170731707,
          0.6,
          0.4444444444444444,
          0.28,
          0.20754716981132076,
          0.037037037037037035,
          0.813953488372093,
          0.7,
          0.5180722891566265,
          0.40816326530612246,
          0.2786885245901639,
          0.11764705882352941,
          0.3333333333333333,
          0.5625,
          0.14285714285714285,
          0.6470588235294118,
          0.37142857142857144,
          0.20454545454545456,
          0.07142857142857142,
          0.2247191011235955,
          0.16556291390728478,
          0.18518518518518517,
          0.35,
          0.14666666666666667,
          0.49206349206349204,
          0.09375,
          0,
          0,
          0,
          0.4444444444444444,
          0.23076923076923078,
          0.17073170731707318,
          0.14285714285714285,
          0.329608938547486,
          0.10344827586206896,
          0.5333333333333333,
          0.3333333333333333,
          0.30666666666666664,
          0.3170731707317073,
          0.14285714285714285,
          0.3474576271186441,
          0.2,
          0.15789473684210525,
          0.07142857142857142,
          0.323943661971831,
          0.14,
          0.4,
          0.23076923076923078,
          0.5609756097560976,
          0.41935483870967744,
          0.6521739130434783,
          0.13178294573643412,
          0.3684210526315789,
          0.25,
          0.5714285714285714,
          0.5,
          0,
          0.24675324675324675,
          0.04,
          0.391304347826087,
          0.4482758620689655,
          0.625,
          0,
          0,
          0.359375,
          0.13924050632911392,
          0.16666666666666666,
          0.5789473684210527,
          0.11764705882352941,
          0.1686746987951807,
          0.7333333333333333,
          0.4857142857142857,
          0.46153846153846156,
          0.21951219512195122,
          0.25842696629213485,
          0.03125,
          0.3333333333333333,
          0.288135593220339,
          0.32608695652173914,
          0.5319148936170213,
          1,
          0.21212121212121213,
          0.1076923076923077,
          0.25,
          0.28125,
          0.3111111111111111,
          0.2127659574468085,
          0,
          0.36231884057971014,
          0.3333333333333333,
          0.23529411764705882,
          0.5,
          0.75,
          0.07142857142857142,
          0.1,
          0.06,
          0.6190476190476191,
          0.2830188679245283,
          0.22807017543859648,
          0.28735632183908044,
          0.4915254237288136,
          0.47368421052631576,
          0.34065934065934067,
          0.14705882352941177,
          0.10344827586206896,
          0.10344827586206896,
          0.3069306930693069,
          0.3118279569892473,
          0.31210191082802546,
          0.4166666666666667,
          0.75,
          0,
          0.3473684210526316,
          0.07692307692307693,
          0.30666666666666664,
          0.15873015873015872,
          0.14960629921259844,
          0.16666666666666666,
          0.125,
          0.42857142857142855,
          0.19696969696969696,
          0.6578947368421053,
          0.14285714285714285,
          0.4594594594594595,
          0.14285714285714285,
          0.38235294117647056,
          0.4838709677419355,
          0.7333333333333333,
          0.5833333333333334,
          0.29545454545454547,
          0.4482758620689655,
          0.21686746987951808,
          0.06896551724137931,
          0.15625,
          0.38,
          0.1388888888888889,
          0.22758620689655173,
          0.4909090909090909
         ],
         "xaxis": "x",
         "y": [
          0.6875,
          0.6511627906976745,
          0.6136363636363636,
          0.20512820512820512,
          0.1875,
          0.2,
          0.5789473684210527,
          0.14285714285714285,
          0.33121019108280253,
          0.25,
          0.08,
          0,
          0.25,
          0,
          0.125,
          0,
          0.5333333333333333,
          0.6,
          0.5522388059701493,
          0.43137254901960786,
          0.39473684210526316,
          0.14705882352941177,
          0.7391304347826086,
          0,
          0.42857142857142855,
          0.125,
          0.723404255319149,
          0.6,
          0,
          0.47368421052631576,
          0.1,
          0.46153846153846156,
          0.6,
          0,
          0.21052631578947367,
          0.037037037037037035,
          0.05,
          0.27722772277227725,
          0.038461538461538464,
          0.12962962962962962,
          0.06896551724137931,
          0.5952380952380952,
          0.4883720930232558,
          0.9551820728291317,
          0.6666666666666666,
          0.375,
          1,
          0.42857142857142855,
          0.6857142857142857,
          0,
          0.7254901960784313,
          0.2631578947368421,
          0.1875,
          0.08333333333333333,
          0.03333333333333333,
          0.06896551724137931,
          0.38461538461538464,
          0.3333333333333333,
          0.5957446808510638,
          0.625,
          0.8571428571428571,
          0.2222222222222222,
          0.16129032258064516,
          0,
          0.36363636363636365,
          0,
          0.6521739130434783,
          0.29411764705882354,
          0.2222222222222222,
          0.8461538461538461,
          0.2222222222222222,
          0.25925925925925924,
          0.38,
          0.23076923076923078,
          0.22448979591836735,
          0.33636363636363636,
          0.64,
          0.5,
          0.25,
          0.46808510638297873,
          0.0625,
          0.3333333333333333,
          0.6710526315789473,
          0.8076923076923077,
          0.38461538461538464,
          0.65625,
          0.9166666666666666,
          0,
          0.7142857142857143,
          0.7777777777777778,
          0.14814814814814814,
          0.06779661016949153,
          0.14285714285714285,
          0.16129032258064516,
          0.75,
          0.875,
          0.3404255319148936,
          0.32608695652173914,
          0.4576271186440678,
          0.5263157894736842,
          0.41025641025641024,
          0.7,
          1,
          0.1875,
          0.4827586206896552,
          0.4318181818181818,
          0.4,
          0.23809523809523808,
          0.7391304347826086,
          0.75,
          0.5333333333333333,
          0.7272727272727273,
          0.17777777777777778,
          0.037037037037037035,
          0.14285714285714285,
          0.20689655172413793,
          0.13636363636363635,
          0.32222222222222224,
          0.09900990099009901,
          0.5692307692307692,
          0.4375,
          0.23076923076923078,
          0.24,
          0.5952380952380952,
          0.17391304347826086,
          0.4,
          0.32786885245901637,
          0.037037037037037035,
          0.4883720930232558,
          0.4523809523809524,
          1,
          0.10526315789473684,
          0.6666666666666666,
          0.17391304347826086,
          0.19672131147540983,
          0.6666666666666666,
          0.25,
          0.64,
          0.5,
          0.3684210526315789,
          0.391304347826087,
          0.6,
          0.125,
          0.125,
          0.5428571428571428,
          0.3333333333333333,
          0.3888888888888889,
          0.45454545454545453,
          0.03333333333333333,
          0.3137254901960784,
          0.2,
          0.2413793103448276,
          0.6862745098039216,
          0.625,
          0.2755102040816326,
          0.47368421052631576,
          0.16981132075471697,
          0.16037735849056603,
          0.38461538461538464,
          0.26126126126126126,
          0.1,
          0.15789473684210525,
          0,
          0.4444444444444444,
          0.25,
          0.6875,
          0.6935483870967742,
          0.6153846153846154,
          0.11267605633802817,
          0.5517241379310345,
          0.5294117647058824,
          0.08333333333333333,
          0.20833333333333334,
          0.5454545454545454,
          0.5263157894736842,
          0.15,
          0.5,
          0.5384615384615384,
          0.65,
          0,
          0.5555555555555556,
          0.13095238095238096,
          0.14285714285714285,
          0.21621621621621623,
          0.8666666666666667,
          0.4827586206896552,
          0.43243243243243246,
          0.2753623188405797,
          0.4583333333333333,
          0.6538461538461539,
          0.5061728395061729,
          0.7142857142857143,
          0.38461538461538464,
          0.3181818181818182,
          0.7741935483870968,
          0.4482758620689655,
          0.26666666666666666,
          0.8,
          0.7391304347826086,
          0,
          0.16129032258064516,
          1,
          0.8461538461538461,
          0.2727272727272727,
          0.4666666666666667,
          0.1111111111111111,
          0.2692307692307692,
          0.45454545454545453,
          0.40298507462686567,
          0.5476190476190477,
          0.6666666666666666,
          0.16470588235294117,
          0.5,
          0.4,
          0.5,
          0.7291666666666666,
          0.8571428571428571,
          0.07407407407407407,
          0.5,
          0.06896551724137931,
          0.2631578947368421,
          0.16666666666666666,
          0.25,
          0.5,
          0,
          0.6415094339622641,
          0.5454545454545454,
          0.625,
          0.3148148148148148,
          0.2,
          0.09090909090909091,
          0.5714285714285714,
          0.5526315789473685,
          0.5714285714285714,
          0,
          0.25,
          0.4444444444444444,
          0.9043478260869565,
          0.2222222222222222,
          0.07142857142857142,
          0.9130434782608695,
          0.8333333333333334,
          0.5454545454545454,
          0.5882352941176471,
          0.41025641025641024,
          0.3157894736842105,
          0.48,
          0.75,
          0.2,
          0.6,
          0.45454545454545453,
          0.34,
          0.10714285714285714,
          0.25,
          0.22077922077922077,
          0.18518518518518517,
          0.4444444444444444,
          0.14666666666666667,
          0.4864864864864865,
          0.0625,
          0,
          0,
          0,
          0.45454545454545453,
          0.55,
          0.21176470588235294,
          0.14285714285714285,
          0.4603174603174603,
          0,
          0.5333333333333333,
          0.40476190476190477,
          0.6388888888888888,
          0.8764705882352941,
          0.23333333333333334,
          0.5766871165644172,
          0.6666666666666666,
          0.1,
          0.6153846153846154,
          0.4883720930232558,
          0.14,
          0.5416666666666666,
          0.15789473684210525,
          0.5909090909090909,
          0.6842105263157895,
          0.7692307692307693,
          0.3111111111111111,
          0.5909090909090909,
          0.4642857142857143,
          0.5714285714285714,
          0.42105263157894735,
          0.2222222222222222,
          0.49056603773584906,
          0,
          0.4782608695652174,
          0.38235294117647056,
          0.6956521739130435,
          0,
          0,
          0.5316455696202531,
          0.13924050632911392,
          0.3333333333333333,
          0.8181818181818182,
          0.11764705882352941,
          0.19767441860465115,
          0.8888888888888888,
          0.5555555555555556,
          0.46153846153846156,
          0.7454545454545455,
          0.3541666666666667,
          0.03125,
          0.2,
          0.43243243243243246,
          0.3333333333333333,
          0.4642857142857143,
          1,
          0.2571428571428571,
          0.11764705882352941,
          0.2753623188405797,
          0.21212121212121213,
          0.3673469387755102,
          0.2127659574468085,
          0.058823529411764705,
          0.5853658536585366,
          0.8,
          0.21052631578947367,
          0,
          0.09090909090909091,
          0.13333333333333333,
          0.1,
          0.477124183006536,
          0.6470588235294118,
          0.49333333333333335,
          0.23333333333333334,
          0.4090909090909091,
          0.5658914728682171,
          0.37209302325581395,
          0.5084745762711864,
          0.14705882352941177,
          0.16666666666666666,
          0.2413793103448276,
          0.35185185185185186,
          0.2545454545454545,
          0.4166666666666667,
          0.2692307692307692,
          0.8,
          0.030303030303030304,
          0.32,
          0,
          0.2857142857142857,
          0.37777777777777777,
          0.4111111111111111,
          0.16666666666666666,
          0,
          0.45,
          0.2463768115942029,
          0.6666666666666666,
          0.08333333333333333,
          0.5111111111111111,
          0.16,
          0.38235294117647056,
          0.5294117647058824,
          0.7272727272727273,
          0.5833333333333334,
          0.2553191489361702,
          0.5882352941176471,
          0.45098039215686275,
          0.06896551724137931,
          0.08823529411764706,
          0.64,
          0.027777777777777776,
          0.2191780821917808,
          0.4827586206896552
         ],
         "yaxis": "y"
        }
       ],
       "layout": {
        "legend": {
         "tracegroupgap": 0
        },
        "margin": {
         "t": 60
        },
        "template": {
         "data": {
          "bar": [
           {
            "error_x": {
             "color": "#2a3f5f"
            },
            "error_y": {
             "color": "#2a3f5f"
            },
            "marker": {
             "line": {
              "color": "#E5ECF6",
              "width": 0.5
             },
             "pattern": {
              "fillmode": "overlay",
              "size": 10,
              "solidity": 0.2
             }
            },
            "type": "bar"
           }
          ],
          "barpolar": [
           {
            "marker": {
             "line": {
              "color": "#E5ECF6",
              "width": 0.5
             },
             "pattern": {
              "fillmode": "overlay",
              "size": 10,
              "solidity": 0.2
             }
            },
            "type": "barpolar"
           }
          ],
          "carpet": [
           {
            "aaxis": {
             "endlinecolor": "#2a3f5f",
             "gridcolor": "white",
             "linecolor": "white",
             "minorgridcolor": "white",
             "startlinecolor": "#2a3f5f"
            },
            "baxis": {
             "endlinecolor": "#2a3f5f",
             "gridcolor": "white",
             "linecolor": "white",
             "minorgridcolor": "white",
             "startlinecolor": "#2a3f5f"
            },
            "type": "carpet"
           }
          ],
          "choropleth": [
           {
            "colorbar": {
             "outlinewidth": 0,
             "ticks": ""
            },
            "type": "choropleth"
           }
          ],
          "contour": [
           {
            "colorbar": {
             "outlinewidth": 0,
             "ticks": ""
            },
            "colorscale": [
             [
              0,
              "#0d0887"
             ],
             [
              0.1111111111111111,
              "#46039f"
             ],
             [
              0.2222222222222222,
              "#7201a8"
             ],
             [
              0.3333333333333333,
              "#9c179e"
             ],
             [
              0.4444444444444444,
              "#bd3786"
             ],
             [
              0.5555555555555556,
              "#d8576b"
             ],
             [
              0.6666666666666666,
              "#ed7953"
             ],
             [
              0.7777777777777778,
              "#fb9f3a"
             ],
             [
              0.8888888888888888,
              "#fdca26"
             ],
             [
              1,
              "#f0f921"
             ]
            ],
            "type": "contour"
           }
          ],
          "contourcarpet": [
           {
            "colorbar": {
             "outlinewidth": 0,
             "ticks": ""
            },
            "type": "contourcarpet"
           }
          ],
          "heatmap": [
           {
            "colorbar": {
             "outlinewidth": 0,
             "ticks": ""
            },
            "colorscale": [
             [
              0,
              "#0d0887"
             ],
             [
              0.1111111111111111,
              "#46039f"
             ],
             [
              0.2222222222222222,
              "#7201a8"
             ],
             [
              0.3333333333333333,
              "#9c179e"
             ],
             [
              0.4444444444444444,
              "#bd3786"
             ],
             [
              0.5555555555555556,
              "#d8576b"
             ],
             [
              0.6666666666666666,
              "#ed7953"
             ],
             [
              0.7777777777777778,
              "#fb9f3a"
             ],
             [
              0.8888888888888888,
              "#fdca26"
             ],
             [
              1,
              "#f0f921"
             ]
            ],
            "type": "heatmap"
           }
          ],
          "heatmapgl": [
           {
            "colorbar": {
             "outlinewidth": 0,
             "ticks": ""
            },
            "colorscale": [
             [
              0,
              "#0d0887"
             ],
             [
              0.1111111111111111,
              "#46039f"
             ],
             [
              0.2222222222222222,
              "#7201a8"
             ],
             [
              0.3333333333333333,
              "#9c179e"
             ],
             [
              0.4444444444444444,
              "#bd3786"
             ],
             [
              0.5555555555555556,
              "#d8576b"
             ],
             [
              0.6666666666666666,
              "#ed7953"
             ],
             [
              0.7777777777777778,
              "#fb9f3a"
             ],
             [
              0.8888888888888888,
              "#fdca26"
             ],
             [
              1,
              "#f0f921"
             ]
            ],
            "type": "heatmapgl"
           }
          ],
          "histogram": [
           {
            "marker": {
             "pattern": {
              "fillmode": "overlay",
              "size": 10,
              "solidity": 0.2
             }
            },
            "type": "histogram"
           }
          ],
          "histogram2d": [
           {
            "colorbar": {
             "outlinewidth": 0,
             "ticks": ""
            },
            "colorscale": [
             [
              0,
              "#0d0887"
             ],
             [
              0.1111111111111111,
              "#46039f"
             ],
             [
              0.2222222222222222,
              "#7201a8"
             ],
             [
              0.3333333333333333,
              "#9c179e"
             ],
             [
              0.4444444444444444,
              "#bd3786"
             ],
             [
              0.5555555555555556,
              "#d8576b"
             ],
             [
              0.6666666666666666,
              "#ed7953"
             ],
             [
              0.7777777777777778,
              "#fb9f3a"
             ],
             [
              0.8888888888888888,
              "#fdca26"
             ],
             [
              1,
              "#f0f921"
             ]
            ],
            "type": "histogram2d"
           }
          ],
          "histogram2dcontour": [
           {
            "colorbar": {
             "outlinewidth": 0,
             "ticks": ""
            },
            "colorscale": [
             [
              0,
              "#0d0887"
             ],
             [
              0.1111111111111111,
              "#46039f"
             ],
             [
              0.2222222222222222,
              "#7201a8"
             ],
             [
              0.3333333333333333,
              "#9c179e"
             ],
             [
              0.4444444444444444,
              "#bd3786"
             ],
             [
              0.5555555555555556,
              "#d8576b"
             ],
             [
              0.6666666666666666,
              "#ed7953"
             ],
             [
              0.7777777777777778,
              "#fb9f3a"
             ],
             [
              0.8888888888888888,
              "#fdca26"
             ],
             [
              1,
              "#f0f921"
             ]
            ],
            "type": "histogram2dcontour"
           }
          ],
          "mesh3d": [
           {
            "colorbar": {
             "outlinewidth": 0,
             "ticks": ""
            },
            "type": "mesh3d"
           }
          ],
          "parcoords": [
           {
            "line": {
             "colorbar": {
              "outlinewidth": 0,
              "ticks": ""
             }
            },
            "type": "parcoords"
           }
          ],
          "pie": [
           {
            "automargin": true,
            "type": "pie"
           }
          ],
          "scatter": [
           {
            "fillpattern": {
             "fillmode": "overlay",
             "size": 10,
             "solidity": 0.2
            },
            "type": "scatter"
           }
          ],
          "scatter3d": [
           {
            "line": {
             "colorbar": {
              "outlinewidth": 0,
              "ticks": ""
             }
            },
            "marker": {
             "colorbar": {
              "outlinewidth": 0,
              "ticks": ""
             }
            },
            "type": "scatter3d"
           }
          ],
          "scattercarpet": [
           {
            "marker": {
             "colorbar": {
              "outlinewidth": 0,
              "ticks": ""
             }
            },
            "type": "scattercarpet"
           }
          ],
          "scattergeo": [
           {
            "marker": {
             "colorbar": {
              "outlinewidth": 0,
              "ticks": ""
             }
            },
            "type": "scattergeo"
           }
          ],
          "scattergl": [
           {
            "marker": {
             "colorbar": {
              "outlinewidth": 0,
              "ticks": ""
             }
            },
            "type": "scattergl"
           }
          ],
          "scattermapbox": [
           {
            "marker": {
             "colorbar": {
              "outlinewidth": 0,
              "ticks": ""
             }
            },
            "type": "scattermapbox"
           }
          ],
          "scatterpolar": [
           {
            "marker": {
             "colorbar": {
              "outlinewidth": 0,
              "ticks": ""
             }
            },
            "type": "scatterpolar"
           }
          ],
          "scatterpolargl": [
           {
            "marker": {
             "colorbar": {
              "outlinewidth": 0,
              "ticks": ""
             }
            },
            "type": "scatterpolargl"
           }
          ],
          "scatterternary": [
           {
            "marker": {
             "colorbar": {
              "outlinewidth": 0,
              "ticks": ""
             }
            },
            "type": "scatterternary"
           }
          ],
          "surface": [
           {
            "colorbar": {
             "outlinewidth": 0,
             "ticks": ""
            },
            "colorscale": [
             [
              0,
              "#0d0887"
             ],
             [
              0.1111111111111111,
              "#46039f"
             ],
             [
              0.2222222222222222,
              "#7201a8"
             ],
             [
              0.3333333333333333,
              "#9c179e"
             ],
             [
              0.4444444444444444,
              "#bd3786"
             ],
             [
              0.5555555555555556,
              "#d8576b"
             ],
             [
              0.6666666666666666,
              "#ed7953"
             ],
             [
              0.7777777777777778,
              "#fb9f3a"
             ],
             [
              0.8888888888888888,
              "#fdca26"
             ],
             [
              1,
              "#f0f921"
             ]
            ],
            "type": "surface"
           }
          ],
          "table": [
           {
            "cells": {
             "fill": {
              "color": "#EBF0F8"
             },
             "line": {
              "color": "white"
             }
            },
            "header": {
             "fill": {
              "color": "#C8D4E3"
             },
             "line": {
              "color": "white"
             }
            },
            "type": "table"
           }
          ]
         },
         "layout": {
          "annotationdefaults": {
           "arrowcolor": "#2a3f5f",
           "arrowhead": 0,
           "arrowwidth": 1
          },
          "autotypenumbers": "strict",
          "coloraxis": {
           "colorbar": {
            "outlinewidth": 0,
            "ticks": ""
           }
          },
          "colorscale": {
           "diverging": [
            [
             0,
             "#8e0152"
            ],
            [
             0.1,
             "#c51b7d"
            ],
            [
             0.2,
             "#de77ae"
            ],
            [
             0.3,
             "#f1b6da"
            ],
            [
             0.4,
             "#fde0ef"
            ],
            [
             0.5,
             "#f7f7f7"
            ],
            [
             0.6,
             "#e6f5d0"
            ],
            [
             0.7,
             "#b8e186"
            ],
            [
             0.8,
             "#7fbc41"
            ],
            [
             0.9,
             "#4d9221"
            ],
            [
             1,
             "#276419"
            ]
           ],
           "sequential": [
            [
             0,
             "#0d0887"
            ],
            [
             0.1111111111111111,
             "#46039f"
            ],
            [
             0.2222222222222222,
             "#7201a8"
            ],
            [
             0.3333333333333333,
             "#9c179e"
            ],
            [
             0.4444444444444444,
             "#bd3786"
            ],
            [
             0.5555555555555556,
             "#d8576b"
            ],
            [
             0.6666666666666666,
             "#ed7953"
            ],
            [
             0.7777777777777778,
             "#fb9f3a"
            ],
            [
             0.8888888888888888,
             "#fdca26"
            ],
            [
             1,
             "#f0f921"
            ]
           ],
           "sequentialminus": [
            [
             0,
             "#0d0887"
            ],
            [
             0.1111111111111111,
             "#46039f"
            ],
            [
             0.2222222222222222,
             "#7201a8"
            ],
            [
             0.3333333333333333,
             "#9c179e"
            ],
            [
             0.4444444444444444,
             "#bd3786"
            ],
            [
             0.5555555555555556,
             "#d8576b"
            ],
            [
             0.6666666666666666,
             "#ed7953"
            ],
            [
             0.7777777777777778,
             "#fb9f3a"
            ],
            [
             0.8888888888888888,
             "#fdca26"
            ],
            [
             1,
             "#f0f921"
            ]
           ]
          },
          "colorway": [
           "#636efa",
           "#EF553B",
           "#00cc96",
           "#ab63fa",
           "#FFA15A",
           "#19d3f3",
           "#FF6692",
           "#B6E880",
           "#FF97FF",
           "#FECB52"
          ],
          "font": {
           "color": "#2a3f5f"
          },
          "geo": {
           "bgcolor": "white",
           "lakecolor": "white",
           "landcolor": "#E5ECF6",
           "showlakes": true,
           "showland": true,
           "subunitcolor": "white"
          },
          "hoverlabel": {
           "align": "left"
          },
          "hovermode": "closest",
          "mapbox": {
           "style": "light"
          },
          "paper_bgcolor": "white",
          "plot_bgcolor": "#E5ECF6",
          "polar": {
           "angularaxis": {
            "gridcolor": "white",
            "linecolor": "white",
            "ticks": ""
           },
           "bgcolor": "#E5ECF6",
           "radialaxis": {
            "gridcolor": "white",
            "linecolor": "white",
            "ticks": ""
           }
          },
          "scene": {
           "xaxis": {
            "backgroundcolor": "#E5ECF6",
            "gridcolor": "white",
            "gridwidth": 2,
            "linecolor": "white",
            "showbackground": true,
            "ticks": "",
            "zerolinecolor": "white"
           },
           "yaxis": {
            "backgroundcolor": "#E5ECF6",
            "gridcolor": "white",
            "gridwidth": 2,
            "linecolor": "white",
            "showbackground": true,
            "ticks": "",
            "zerolinecolor": "white"
           },
           "zaxis": {
            "backgroundcolor": "#E5ECF6",
            "gridcolor": "white",
            "gridwidth": 2,
            "linecolor": "white",
            "showbackground": true,
            "ticks": "",
            "zerolinecolor": "white"
           }
          },
          "shapedefaults": {
           "line": {
            "color": "#2a3f5f"
           }
          },
          "ternary": {
           "aaxis": {
            "gridcolor": "white",
            "linecolor": "white",
            "ticks": ""
           },
           "baxis": {
            "gridcolor": "white",
            "linecolor": "white",
            "ticks": ""
           },
           "bgcolor": "#E5ECF6",
           "caxis": {
            "gridcolor": "white",
            "linecolor": "white",
            "ticks": ""
           }
          },
          "title": {
           "x": 0.05
          },
          "xaxis": {
           "automargin": true,
           "gridcolor": "white",
           "linecolor": "white",
           "ticks": "",
           "title": {
            "standoff": 15
           },
           "zerolinecolor": "white",
           "zerolinewidth": 2
          },
          "yaxis": {
           "automargin": true,
           "gridcolor": "white",
           "linecolor": "white",
           "ticks": "",
           "title": {
            "standoff": 15
           },
           "zerolinecolor": "white",
           "zerolinewidth": 2
          }
         }
        },
        "xaxis": {
         "anchor": "y",
         "domain": [
          0,
          1
         ],
         "title": {
          "text": "consensus_dist_bin_gtr"
         }
        },
        "yaxis": {
         "anchor": "x",
         "domain": [
          0,
          1
         ],
         "title": {
          "text": "eval_dist_bin_gtr"
         }
        }
       }
      },
      "text/html": [
       "<div>                            <div id=\"18bd3a52-cedd-4c6e-a5df-4ddd7de55091\" class=\"plotly-graph-div\" style=\"height:525px; width:100%;\"></div>            <script type=\"text/javascript\">                require([\"plotly\"], function(Plotly) {                    window.PLOTLYENV=window.PLOTLYENV || {};                                    if (document.getElementById(\"18bd3a52-cedd-4c6e-a5df-4ddd7de55091\")) {                    Plotly.newPlot(                        \"18bd3a52-cedd-4c6e-a5df-4ddd7de55091\",                        [{\"hovertemplate\":\"consensus_dist_bin_gtr=%{x}<br>eval_dist_bin_gtr=%{y}<extra></extra>\",\"legendgroup\":\"\",\"marker\":{\"color\":\"#636efa\",\"symbol\":\"circle\"},\"mode\":\"markers\",\"name\":\"\",\"orientation\":\"v\",\"showlegend\":false,\"x\":[0.6,0.323943661971831,0.49295774647887325,0.20512820512820512,0.0,0.2631578947368421,0.4666666666666667,0.14285714285714285,0.18072289156626506,0.25,0.08,0.03125,0.5,0.0,0.0625,0.3333333333333333,0.2916666666666667,0.4,0.3181818181818182,0.43434343434343436,0.2923076923076923,0.14705882352941177,0.5833333333333334,0.0,0.2972972972972973,0.125,0.16666666666666666,0.3442622950819672,0.14285714285714285,0.11764705882352941,0.5,0.8,0.25,0.0,0.375,0.037037037037037035,0.05263157894736842,0.23076923076923078,0.038461538461538464,0.2978723404255319,0.1320754716981132,0.06666666666666667,0.6103896103896104,0.1,0.5,0.3333333333333333,1.0,0.42857142857142855,0.5555555555555556,0.0,0.4336283185840708,0.24324324324324326,0.10344827586206896,0.16666666666666666,0.03333333333333333,0.12727272727272726,0.3076923076923077,0.07142857142857142,0.38095238095238093,0.5714285714285714,0.8441558441558441,0.18181818181818182,0.14754098360655737,0.0,0.36,0.0,0.5263157894736842,0.41935483870967744,0.2222222222222222,0.7647058823529411,0.14814814814814814,0.3877551020408163,0.3404255319148936,0.10526315789473684,0.3972602739726027,0.2676056338028169,0.48717948717948717,0.42857142857142855,0.25,0.4666666666666667,0.03125,0.09090909090909091,0.5970149253731343,0.6470588235294118,0.08333333333333333,0.3220338983050847,1.0,0.0,0.4166666666666667,0.7647058823529411,0.18518518518518517,0.11864406779661017,0.16666666666666666,0.23333333333333334,0.7073170731707317,0.7894736842105263,0.2826086956521739,0.31868131868131866,0.31645569620253167,0.3142857142857143,0.2786885245901639,0.7777777777777778,0.3333333333333333,0.3125,0.34782608695652173,0.3176470588235294,0.3157894736842105,0.12195121951219512,0.6,0.6,0.3333333333333333,0.6363636363636364,0.32558139534883723,0.037037037037037035,0.1038961038961039,0.32142857142857145,0.28205128205128205,0.25,0.10891089108910891,0.48936170212765956,0.25,0.15,0.24,0.6,0.09523809523809523,0.1111111111111111,0.31666666666666665,0.037037037037037035,0.323943661971831,0.4,0.7142857142857143,0.2777777777777778,0.6666666666666666,0.11392405063291139,0.2743362831858407,0.6666666666666666,0.2,0.38,0.15384615384615385,0.29411764705882354,0.36585365853658536,0.4666666666666667,0.0967741935483871,0.0967741935483871,0.49019607843137253,0.2653061224489796,0.3888888888888889,0.3333333333333333,0.08771929824561403,0.30612244897959184,0.4146341463414634,0.22123893805309736,0.6808510638297872,0.6923076923076923,0.2275132275132275,0.25,0.17307692307692307,0.13333333333333333,0.08333333333333333,0.21658986175115208,0.1,0.21052631578947367,0.38461538461538464,0.38636363636363635,0.14285714285714285,0.4838709677419355,0.5428571428571428,0.2916666666666667,0.07246376811594203,0.5384615384615384,0.5294117647058824,0.08333333333333333,0.4090909090909091,0.4,0.43661971830985913,0.125,0.0,0.5,0.6923076923076923,0.0,0.16666666666666666,0.13095238095238096,0.13432835820895522,0.1232876712328767,0.058823529411764705,0.34782608695652173,0.36231884057971014,0.25,0.391304347826087,0.6483516483516484,0.19384615384615383,0.7142857142857143,0.15789473684210525,0.3333333333333333,0.5849056603773585,0.05,0.2815533980582524,1.0,0.5625,0.0,0.03225806451612903,0.3333333333333333,0.36363636363636365,0.1,0.28,0.05555555555555555,0.3333333333333333,0.3488372093023256,0.22580645161290322,0.19480519480519481,1.0,0.16470588235294117,0.6,0.4444444444444444,0.42857142857142855,0.35135135135135137,0.42857142857142855,0.11538461538461539,0.3333333333333333,0.12727272727272726,0.2222222222222222,0.19148936170212766,0.1320754716981132,0.36363636363636365,0.06172839506172839,0.4,0.5454545454545454,0.5714285714285714,0.28,0.1794871794871795,0.14285714285714285,0.5757575757575758,0.52,0.16666666666666666,0.07317073170731707,0.6,0.4444444444444444,0.28,0.20754716981132076,0.037037037037037035,0.813953488372093,0.7,0.5180722891566265,0.40816326530612246,0.2786885245901639,0.11764705882352941,0.3333333333333333,0.5625,0.14285714285714285,0.6470588235294118,0.37142857142857144,0.20454545454545456,0.07142857142857142,0.2247191011235955,0.16556291390728478,0.18518518518518517,0.35,0.14666666666666667,0.49206349206349204,0.09375,0.0,0.0,0.0,0.4444444444444444,0.23076923076923078,0.17073170731707318,0.14285714285714285,0.329608938547486,0.10344827586206896,0.5333333333333333,0.3333333333333333,0.30666666666666664,0.3170731707317073,0.14285714285714285,0.3474576271186441,0.2,0.15789473684210525,0.07142857142857142,0.323943661971831,0.14,0.4,0.23076923076923078,0.5609756097560976,0.41935483870967744,0.6521739130434783,0.13178294573643412,0.3684210526315789,0.25,0.5714285714285714,0.5,0.0,0.24675324675324675,0.04,0.391304347826087,0.4482758620689655,0.625,0.0,0.0,0.359375,0.13924050632911392,0.16666666666666666,0.5789473684210527,0.11764705882352941,0.1686746987951807,0.7333333333333333,0.4857142857142857,0.46153846153846156,0.21951219512195122,0.25842696629213485,0.03125,0.3333333333333333,0.288135593220339,0.32608695652173914,0.5319148936170213,1.0,0.21212121212121213,0.1076923076923077,0.25,0.28125,0.3111111111111111,0.2127659574468085,0.0,0.36231884057971014,0.3333333333333333,0.23529411764705882,0.5,0.75,0.07142857142857142,0.1,0.06,0.6190476190476191,0.2830188679245283,0.22807017543859648,0.28735632183908044,0.4915254237288136,0.47368421052631576,0.34065934065934067,0.14705882352941177,0.10344827586206896,0.10344827586206896,0.3069306930693069,0.3118279569892473,0.31210191082802546,0.4166666666666667,0.75,0.0,0.3473684210526316,0.07692307692307693,0.30666666666666664,0.15873015873015872,0.14960629921259844,0.16666666666666666,0.125,0.42857142857142855,0.19696969696969696,0.6578947368421053,0.14285714285714285,0.4594594594594595,0.14285714285714285,0.38235294117647056,0.4838709677419355,0.7333333333333333,0.5833333333333334,0.29545454545454547,0.4482758620689655,0.21686746987951808,0.06896551724137931,0.15625,0.38,0.1388888888888889,0.22758620689655173,0.4909090909090909],\"xaxis\":\"x\",\"y\":[0.6875,0.6511627906976745,0.6136363636363636,0.20512820512820512,0.1875,0.2,0.5789473684210527,0.14285714285714285,0.33121019108280253,0.25,0.08,0.0,0.25,0.0,0.125,0.0,0.5333333333333333,0.6,0.5522388059701493,0.43137254901960786,0.39473684210526316,0.14705882352941177,0.7391304347826086,0.0,0.42857142857142855,0.125,0.723404255319149,0.6,0.0,0.47368421052631576,0.1,0.46153846153846156,0.6,0.0,0.21052631578947367,0.037037037037037035,0.05,0.27722772277227725,0.038461538461538464,0.12962962962962962,0.06896551724137931,0.5952380952380952,0.4883720930232558,0.9551820728291317,0.6666666666666666,0.375,1.0,0.42857142857142855,0.6857142857142857,0.0,0.7254901960784313,0.2631578947368421,0.1875,0.08333333333333333,0.03333333333333333,0.06896551724137931,0.38461538461538464,0.3333333333333333,0.5957446808510638,0.625,0.8571428571428571,0.2222222222222222,0.16129032258064516,0.0,0.36363636363636365,0.0,0.6521739130434783,0.29411764705882354,0.2222222222222222,0.8461538461538461,0.2222222222222222,0.25925925925925924,0.38,0.23076923076923078,0.22448979591836735,0.33636363636363636,0.64,0.5,0.25,0.46808510638297873,0.0625,0.3333333333333333,0.6710526315789473,0.8076923076923077,0.38461538461538464,0.65625,0.9166666666666666,0.0,0.7142857142857143,0.7777777777777778,0.14814814814814814,0.06779661016949153,0.14285714285714285,0.16129032258064516,0.75,0.875,0.3404255319148936,0.32608695652173914,0.4576271186440678,0.5263157894736842,0.41025641025641024,0.7,1.0,0.1875,0.4827586206896552,0.4318181818181818,0.4,0.23809523809523808,0.7391304347826086,0.75,0.5333333333333333,0.7272727272727273,0.17777777777777778,0.037037037037037035,0.14285714285714285,0.20689655172413793,0.13636363636363635,0.32222222222222224,0.09900990099009901,0.5692307692307692,0.4375,0.23076923076923078,0.24,0.5952380952380952,0.17391304347826086,0.4,0.32786885245901637,0.037037037037037035,0.4883720930232558,0.4523809523809524,1.0,0.10526315789473684,0.6666666666666666,0.17391304347826086,0.19672131147540983,0.6666666666666666,0.25,0.64,0.5,0.3684210526315789,0.391304347826087,0.6,0.125,0.125,0.5428571428571428,0.3333333333333333,0.3888888888888889,0.45454545454545453,0.03333333333333333,0.3137254901960784,0.2,0.2413793103448276,0.6862745098039216,0.625,0.2755102040816326,0.47368421052631576,0.16981132075471697,0.16037735849056603,0.38461538461538464,0.26126126126126126,0.1,0.15789473684210525,0.0,0.4444444444444444,0.25,0.6875,0.6935483870967742,0.6153846153846154,0.11267605633802817,0.5517241379310345,0.5294117647058824,0.08333333333333333,0.20833333333333334,0.5454545454545454,0.5263157894736842,0.15,0.5,0.5384615384615384,0.65,0.0,0.5555555555555556,0.13095238095238096,0.14285714285714285,0.21621621621621623,0.8666666666666667,0.4827586206896552,0.43243243243243246,0.2753623188405797,0.4583333333333333,0.6538461538461539,0.5061728395061729,0.7142857142857143,0.38461538461538464,0.3181818181818182,0.7741935483870968,0.4482758620689655,0.26666666666666666,0.8,0.7391304347826086,0.0,0.16129032258064516,1.0,0.8461538461538461,0.2727272727272727,0.4666666666666667,0.1111111111111111,0.2692307692307692,0.45454545454545453,0.40298507462686567,0.5476190476190477,0.6666666666666666,0.16470588235294117,0.5,0.4,0.5,0.7291666666666666,0.8571428571428571,0.07407407407407407,0.5,0.06896551724137931,0.2631578947368421,0.16666666666666666,0.25,0.5,0.0,0.6415094339622641,0.5454545454545454,0.625,0.3148148148148148,0.2,0.09090909090909091,0.5714285714285714,0.5526315789473685,0.5714285714285714,0.0,0.25,0.4444444444444444,0.9043478260869565,0.2222222222222222,0.07142857142857142,0.9130434782608695,0.8333333333333334,0.5454545454545454,0.5882352941176471,0.41025641025641024,0.3157894736842105,0.48,0.75,0.2,0.6,0.45454545454545453,0.34,0.10714285714285714,0.25,0.22077922077922077,0.18518518518518517,0.4444444444444444,0.14666666666666667,0.4864864864864865,0.0625,0.0,0.0,0.0,0.45454545454545453,0.55,0.21176470588235294,0.14285714285714285,0.4603174603174603,0.0,0.5333333333333333,0.40476190476190477,0.6388888888888888,0.8764705882352941,0.23333333333333334,0.5766871165644172,0.6666666666666666,0.1,0.6153846153846154,0.4883720930232558,0.14,0.5416666666666666,0.15789473684210525,0.5909090909090909,0.6842105263157895,0.7692307692307693,0.3111111111111111,0.5909090909090909,0.4642857142857143,0.5714285714285714,0.42105263157894735,0.2222222222222222,0.49056603773584906,0.0,0.4782608695652174,0.38235294117647056,0.6956521739130435,0.0,0.0,0.5316455696202531,0.13924050632911392,0.3333333333333333,0.8181818181818182,0.11764705882352941,0.19767441860465115,0.8888888888888888,0.5555555555555556,0.46153846153846156,0.7454545454545455,0.3541666666666667,0.03125,0.2,0.43243243243243246,0.3333333333333333,0.4642857142857143,1.0,0.2571428571428571,0.11764705882352941,0.2753623188405797,0.21212121212121213,0.3673469387755102,0.2127659574468085,0.058823529411764705,0.5853658536585366,0.8,0.21052631578947367,0.0,0.09090909090909091,0.13333333333333333,0.1,0.477124183006536,0.6470588235294118,0.49333333333333335,0.23333333333333334,0.4090909090909091,0.5658914728682171,0.37209302325581395,0.5084745762711864,0.14705882352941177,0.16666666666666666,0.2413793103448276,0.35185185185185186,0.2545454545454545,0.4166666666666667,0.2692307692307692,0.8,0.030303030303030304,0.32,0.0,0.2857142857142857,0.37777777777777777,0.4111111111111111,0.16666666666666666,0.0,0.45,0.2463768115942029,0.6666666666666666,0.08333333333333333,0.5111111111111111,0.16,0.38235294117647056,0.5294117647058824,0.7272727272727273,0.5833333333333334,0.2553191489361702,0.5882352941176471,0.45098039215686275,0.06896551724137931,0.08823529411764706,0.64,0.027777777777777776,0.2191780821917808,0.4827586206896552],\"yaxis\":\"y\",\"type\":\"scatter\"}],                        {\"template\":{\"data\":{\"histogram2dcontour\":[{\"type\":\"histogram2dcontour\",\"colorbar\":{\"outlinewidth\":0,\"ticks\":\"\"},\"colorscale\":[[0.0,\"#0d0887\"],[0.1111111111111111,\"#46039f\"],[0.2222222222222222,\"#7201a8\"],[0.3333333333333333,\"#9c179e\"],[0.4444444444444444,\"#bd3786\"],[0.5555555555555556,\"#d8576b\"],[0.6666666666666666,\"#ed7953\"],[0.7777777777777778,\"#fb9f3a\"],[0.8888888888888888,\"#fdca26\"],[1.0,\"#f0f921\"]]}],\"choropleth\":[{\"type\":\"choropleth\",\"colorbar\":{\"outlinewidth\":0,\"ticks\":\"\"}}],\"histogram2d\":[{\"type\":\"histogram2d\",\"colorbar\":{\"outlinewidth\":0,\"ticks\":\"\"},\"colorscale\":[[0.0,\"#0d0887\"],[0.1111111111111111,\"#46039f\"],[0.2222222222222222,\"#7201a8\"],[0.3333333333333333,\"#9c179e\"],[0.4444444444444444,\"#bd3786\"],[0.5555555555555556,\"#d8576b\"],[0.6666666666666666,\"#ed7953\"],[0.7777777777777778,\"#fb9f3a\"],[0.8888888888888888,\"#fdca26\"],[1.0,\"#f0f921\"]]}],\"heatmap\":[{\"type\":\"heatmap\",\"colorbar\":{\"outlinewidth\":0,\"ticks\":\"\"},\"colorscale\":[[0.0,\"#0d0887\"],[0.1111111111111111,\"#46039f\"],[0.2222222222222222,\"#7201a8\"],[0.3333333333333333,\"#9c179e\"],[0.4444444444444444,\"#bd3786\"],[0.5555555555555556,\"#d8576b\"],[0.6666666666666666,\"#ed7953\"],[0.7777777777777778,\"#fb9f3a\"],[0.8888888888888888,\"#fdca26\"],[1.0,\"#f0f921\"]]}],\"heatmapgl\":[{\"type\":\"heatmapgl\",\"colorbar\":{\"outlinewidth\":0,\"ticks\":\"\"},\"colorscale\":[[0.0,\"#0d0887\"],[0.1111111111111111,\"#46039f\"],[0.2222222222222222,\"#7201a8\"],[0.3333333333333333,\"#9c179e\"],[0.4444444444444444,\"#bd3786\"],[0.5555555555555556,\"#d8576b\"],[0.6666666666666666,\"#ed7953\"],[0.7777777777777778,\"#fb9f3a\"],[0.8888888888888888,\"#fdca26\"],[1.0,\"#f0f921\"]]}],\"contourcarpet\":[{\"type\":\"contourcarpet\",\"colorbar\":{\"outlinewidth\":0,\"ticks\":\"\"}}],\"contour\":[{\"type\":\"contour\",\"colorbar\":{\"outlinewidth\":0,\"ticks\":\"\"},\"colorscale\":[[0.0,\"#0d0887\"],[0.1111111111111111,\"#46039f\"],[0.2222222222222222,\"#7201a8\"],[0.3333333333333333,\"#9c179e\"],[0.4444444444444444,\"#bd3786\"],[0.5555555555555556,\"#d8576b\"],[0.6666666666666666,\"#ed7953\"],[0.7777777777777778,\"#fb9f3a\"],[0.8888888888888888,\"#fdca26\"],[1.0,\"#f0f921\"]]}],\"surface\":[{\"type\":\"surface\",\"colorbar\":{\"outlinewidth\":0,\"ticks\":\"\"},\"colorscale\":[[0.0,\"#0d0887\"],[0.1111111111111111,\"#46039f\"],[0.2222222222222222,\"#7201a8\"],[0.3333333333333333,\"#9c179e\"],[0.4444444444444444,\"#bd3786\"],[0.5555555555555556,\"#d8576b\"],[0.6666666666666666,\"#ed7953\"],[0.7777777777777778,\"#fb9f3a\"],[0.8888888888888888,\"#fdca26\"],[1.0,\"#f0f921\"]]}],\"mesh3d\":[{\"type\":\"mesh3d\",\"colorbar\":{\"outlinewidth\":0,\"ticks\":\"\"}}],\"scatter\":[{\"fillpattern\":{\"fillmode\":\"overlay\",\"size\":10,\"solidity\":0.2},\"type\":\"scatter\"}],\"parcoords\":[{\"type\":\"parcoords\",\"line\":{\"colorbar\":{\"outlinewidth\":0,\"ticks\":\"\"}}}],\"scatterpolargl\":[{\"type\":\"scatterpolargl\",\"marker\":{\"colorbar\":{\"outlinewidth\":0,\"ticks\":\"\"}}}],\"bar\":[{\"error_x\":{\"color\":\"#2a3f5f\"},\"error_y\":{\"color\":\"#2a3f5f\"},\"marker\":{\"line\":{\"color\":\"#E5ECF6\",\"width\":0.5},\"pattern\":{\"fillmode\":\"overlay\",\"size\":10,\"solidity\":0.2}},\"type\":\"bar\"}],\"scattergeo\":[{\"type\":\"scattergeo\",\"marker\":{\"colorbar\":{\"outlinewidth\":0,\"ticks\":\"\"}}}],\"scatterpolar\":[{\"type\":\"scatterpolar\",\"marker\":{\"colorbar\":{\"outlinewidth\":0,\"ticks\":\"\"}}}],\"histogram\":[{\"marker\":{\"pattern\":{\"fillmode\":\"overlay\",\"size\":10,\"solidity\":0.2}},\"type\":\"histogram\"}],\"scattergl\":[{\"type\":\"scattergl\",\"marker\":{\"colorbar\":{\"outlinewidth\":0,\"ticks\":\"\"}}}],\"scatter3d\":[{\"type\":\"scatter3d\",\"line\":{\"colorbar\":{\"outlinewidth\":0,\"ticks\":\"\"}},\"marker\":{\"colorbar\":{\"outlinewidth\":0,\"ticks\":\"\"}}}],\"scattermapbox\":[{\"type\":\"scattermapbox\",\"marker\":{\"colorbar\":{\"outlinewidth\":0,\"ticks\":\"\"}}}],\"scatterternary\":[{\"type\":\"scatterternary\",\"marker\":{\"colorbar\":{\"outlinewidth\":0,\"ticks\":\"\"}}}],\"scattercarpet\":[{\"type\":\"scattercarpet\",\"marker\":{\"colorbar\":{\"outlinewidth\":0,\"ticks\":\"\"}}}],\"carpet\":[{\"aaxis\":{\"endlinecolor\":\"#2a3f5f\",\"gridcolor\":\"white\",\"linecolor\":\"white\",\"minorgridcolor\":\"white\",\"startlinecolor\":\"#2a3f5f\"},\"baxis\":{\"endlinecolor\":\"#2a3f5f\",\"gridcolor\":\"white\",\"linecolor\":\"white\",\"minorgridcolor\":\"white\",\"startlinecolor\":\"#2a3f5f\"},\"type\":\"carpet\"}],\"table\":[{\"cells\":{\"fill\":{\"color\":\"#EBF0F8\"},\"line\":{\"color\":\"white\"}},\"header\":{\"fill\":{\"color\":\"#C8D4E3\"},\"line\":{\"color\":\"white\"}},\"type\":\"table\"}],\"barpolar\":[{\"marker\":{\"line\":{\"color\":\"#E5ECF6\",\"width\":0.5},\"pattern\":{\"fillmode\":\"overlay\",\"size\":10,\"solidity\":0.2}},\"type\":\"barpolar\"}],\"pie\":[{\"automargin\":true,\"type\":\"pie\"}]},\"layout\":{\"autotypenumbers\":\"strict\",\"colorway\":[\"#636efa\",\"#EF553B\",\"#00cc96\",\"#ab63fa\",\"#FFA15A\",\"#19d3f3\",\"#FF6692\",\"#B6E880\",\"#FF97FF\",\"#FECB52\"],\"font\":{\"color\":\"#2a3f5f\"},\"hovermode\":\"closest\",\"hoverlabel\":{\"align\":\"left\"},\"paper_bgcolor\":\"white\",\"plot_bgcolor\":\"#E5ECF6\",\"polar\":{\"bgcolor\":\"#E5ECF6\",\"angularaxis\":{\"gridcolor\":\"white\",\"linecolor\":\"white\",\"ticks\":\"\"},\"radialaxis\":{\"gridcolor\":\"white\",\"linecolor\":\"white\",\"ticks\":\"\"}},\"ternary\":{\"bgcolor\":\"#E5ECF6\",\"aaxis\":{\"gridcolor\":\"white\",\"linecolor\":\"white\",\"ticks\":\"\"},\"baxis\":{\"gridcolor\":\"white\",\"linecolor\":\"white\",\"ticks\":\"\"},\"caxis\":{\"gridcolor\":\"white\",\"linecolor\":\"white\",\"ticks\":\"\"}},\"coloraxis\":{\"colorbar\":{\"outlinewidth\":0,\"ticks\":\"\"}},\"colorscale\":{\"sequential\":[[0.0,\"#0d0887\"],[0.1111111111111111,\"#46039f\"],[0.2222222222222222,\"#7201a8\"],[0.3333333333333333,\"#9c179e\"],[0.4444444444444444,\"#bd3786\"],[0.5555555555555556,\"#d8576b\"],[0.6666666666666666,\"#ed7953\"],[0.7777777777777778,\"#fb9f3a\"],[0.8888888888888888,\"#fdca26\"],[1.0,\"#f0f921\"]],\"sequentialminus\":[[0.0,\"#0d0887\"],[0.1111111111111111,\"#46039f\"],[0.2222222222222222,\"#7201a8\"],[0.3333333333333333,\"#9c179e\"],[0.4444444444444444,\"#bd3786\"],[0.5555555555555556,\"#d8576b\"],[0.6666666666666666,\"#ed7953\"],[0.7777777777777778,\"#fb9f3a\"],[0.8888888888888888,\"#fdca26\"],[1.0,\"#f0f921\"]],\"diverging\":[[0,\"#8e0152\"],[0.1,\"#c51b7d\"],[0.2,\"#de77ae\"],[0.3,\"#f1b6da\"],[0.4,\"#fde0ef\"],[0.5,\"#f7f7f7\"],[0.6,\"#e6f5d0\"],[0.7,\"#b8e186\"],[0.8,\"#7fbc41\"],[0.9,\"#4d9221\"],[1,\"#276419\"]]},\"xaxis\":{\"gridcolor\":\"white\",\"linecolor\":\"white\",\"ticks\":\"\",\"title\":{\"standoff\":15},\"zerolinecolor\":\"white\",\"automargin\":true,\"zerolinewidth\":2},\"yaxis\":{\"gridcolor\":\"white\",\"linecolor\":\"white\",\"ticks\":\"\",\"title\":{\"standoff\":15},\"zerolinecolor\":\"white\",\"automargin\":true,\"zerolinewidth\":2},\"scene\":{\"xaxis\":{\"backgroundcolor\":\"#E5ECF6\",\"gridcolor\":\"white\",\"linecolor\":\"white\",\"showbackground\":true,\"ticks\":\"\",\"zerolinecolor\":\"white\",\"gridwidth\":2},\"yaxis\":{\"backgroundcolor\":\"#E5ECF6\",\"gridcolor\":\"white\",\"linecolor\":\"white\",\"showbackground\":true,\"ticks\":\"\",\"zerolinecolor\":\"white\",\"gridwidth\":2},\"zaxis\":{\"backgroundcolor\":\"#E5ECF6\",\"gridcolor\":\"white\",\"linecolor\":\"white\",\"showbackground\":true,\"ticks\":\"\",\"zerolinecolor\":\"white\",\"gridwidth\":2}},\"shapedefaults\":{\"line\":{\"color\":\"#2a3f5f\"}},\"annotationdefaults\":{\"arrowcolor\":\"#2a3f5f\",\"arrowhead\":0,\"arrowwidth\":1},\"geo\":{\"bgcolor\":\"white\",\"landcolor\":\"#E5ECF6\",\"subunitcolor\":\"white\",\"showland\":true,\"showlakes\":true,\"lakecolor\":\"white\"},\"title\":{\"x\":0.05},\"mapbox\":{\"style\":\"light\"}}},\"xaxis\":{\"anchor\":\"y\",\"domain\":[0.0,1.0],\"title\":{\"text\":\"consensus_dist_bin_gtr\"}},\"yaxis\":{\"anchor\":\"x\",\"domain\":[0.0,1.0],\"title\":{\"text\":\"eval_dist_bin_gtr\"}},\"legend\":{\"tracegroupgap\":0},\"margin\":{\"t\":60}},                        {\"responsive\": true}                    ).then(function(){\n",
       "                            \n",
       "var gd = document.getElementById('18bd3a52-cedd-4c6e-a5df-4ddd7de55091');\n",
       "var x = new MutationObserver(function (mutations, observer) {{\n",
       "        var display = window.getComputedStyle(gd).display;\n",
       "        if (!display || display === 'none') {{\n",
       "            console.log([gd, 'removed!']);\n",
       "            Plotly.purge(gd);\n",
       "            observer.disconnect();\n",
       "        }}\n",
       "}});\n",
       "\n",
       "// Listen for the removal of the full notebook cells\n",
       "var notebookContainer = gd.closest('#notebook-container');\n",
       "if (notebookContainer) {{\n",
       "    x.observe(notebookContainer, {childList: true});\n",
       "}}\n",
       "\n",
       "// Listen for the clearing of the current output cell\n",
       "var outputEl = gd.closest('.output');\n",
       "if (outputEl) {{\n",
       "    x.observe(outputEl, {childList: true});\n",
       "}}\n",
       "\n",
       "                        })                };                });            </script>        </div>"
      ]
     },
     "metadata": {},
     "output_type": "display_data"
    },
    {
     "data": {
      "application/vnd.plotly.v1+json": {
       "config": {
        "plotlyServerURL": "https://plot.ly"
       },
       "data": [
        {
         "hovertemplate": "consensus_dist_bin_mk=%{x}<br>eval_dist_bin_mk=%{y}<extra></extra>",
         "legendgroup": "",
         "marker": {
          "color": "#636efa",
          "symbol": "circle"
         },
         "mode": "markers",
         "name": "",
         "orientation": "v",
         "showlegend": false,
         "type": "scatter",
         "x": [
          0.09375,
          0.22077922077922077,
          0.21621621621621623,
          0.20512820512820512,
          0,
          0.4,
          0.35294117647058826,
          0,
          0.08333333333333333,
          0.125,
          0.28,
          0.030303030303030304,
          0.125,
          0.05263157894736842,
          0.03225806451612903,
          0,
          0.13725490196078433,
          0,
          0.045454545454545456,
          0.2708333333333333,
          0.2463768115942029,
          0.23529411764705882,
          0.16666666666666666,
          0,
          0.3333333333333333,
          0.03125,
          0.2,
          0.014492753623188406,
          0.10344827586206896,
          0.030303030303030304,
          0.06666666666666667,
          0.15384615384615385,
          0.42857142857142855,
          0,
          0.21818181818181817,
          0.1111111111111111,
          0.15,
          0.06930693069306931,
          0.07692307692307693,
          0.07368421052631578,
          0.13793103448275862,
          0.10344827586206896,
          0.11627906976744186,
          0.29411764705882354,
          0,
          0.25,
          1,
          0.09523809523809523,
          0.08571428571428572,
          0.1111111111111111,
          0.18518518518518517,
          0.05263157894736842,
          0.2,
          0.08333333333333333,
          0.1,
          0,
          0,
          0.10344827586206896,
          0.13636363636363635,
          0.35714285714285715,
          0.3150684931506849,
          0.06666666666666667,
          0.22580645161290322,
          0.125,
          0.14285714285714285,
          0.1111111111111111,
          0.2,
          0.16129032258064516,
          0.1111111111111111,
          0.6,
          0.037037037037037035,
          0.25925925925925924,
          0.19540229885057472,
          0.15789473684210525,
          0.15217391304347827,
          0.12077294685990338,
          0.08,
          0.5,
          0.125,
          0.16666666666666666,
          0,
          0.09090909090909091,
          0.34328358208955223,
          0.3333333333333333,
          0.36,
          0.3125,
          0,
          0.1875,
          0.1111111111111111,
          0,
          0.14814814814814814,
          0.1694915254237288,
          0,
          0,
          0.10638297872340426,
          0.08333333333333333,
          0.06521739130434782,
          0.17391304347826086,
          0.21951219512195122,
          0.1111111111111111,
          0.07246376811594203,
          0,
          0,
          0.0625,
          0.3,
          0.06976744186046512,
          0.02564102564102564,
          0.12195121951219512,
          0.2631578947368421,
          0.38235294117647056,
          0,
          0.045454545454545456,
          0.4418604651162791,
          0.07407407407407407,
          0.06493506493506493,
          0.2413793103448276,
          0.3170731707317073,
          0.1656441717791411,
          0.009900990099009901,
          0.0684931506849315,
          0.4482758620689655,
          0.09401709401709402,
          0.02,
          0.28125,
          0.17391304347826086,
          0,
          0.04132231404958678,
          0.07407407407407407,
          0.17333333333333334,
          0.07142857142857142,
          0.25,
          0,
          0,
          0.25301204819277107,
          0.1826086956521739,
          0.05555555555555555,
          0.05,
          0.22916666666666666,
          0.07692307692307693,
          0.05263157894736842,
          0.2608695652173913,
          0.3333333333333333,
          0.125,
          0.125,
          0.1076923076923077,
          0.1650485436893204,
          0.16666666666666666,
          0.047619047619047616,
          0.11864406779661017,
          0.11764705882352941,
          0,
          0.08620689655172414,
          0.32608695652173914,
          0,
          0.06666666666666667,
          0.42857142857142855,
          0.1619047619047619,
          0.0660377358490566,
          0.36,
          0.10091743119266056,
          0,
          0.21052631578947367,
          0.5,
          0.16666666666666666,
          0.25,
          0.13333333333333333,
          0.4883720930232558,
          0.07692307692307693,
          0.028169014084507043,
          0.5625,
          0.3793103448275862,
          0,
          0.17391304347826086,
          0.14285714285714285,
          0.21739130434782608,
          0.025,
          0.3333333333333333,
          0.16666666666666666,
          0.2727272727272727,
          0.125,
          0.5384615384615384,
          0.017964071856287425,
          0.30303030303030304,
          0.0136986301369863,
          0.2,
          0.3,
          0.030303030303030304,
          0.125,
          0.19047619047619047,
          0.16,
          0.20743034055727555,
          0.2857142857142857,
          0.4166666666666667,
          0.13636363636363635,
          0.3584905660377358,
          0.05,
          0.1724137931034483,
          0.3333333333333333,
          0.15555555555555556,
          0,
          0.16129032258064516,
          0.3333333333333333,
          0.07692307692307693,
          0.2727272727272727,
          0.23076923076923078,
          0.05555555555555555,
          0.2549019607843137,
          0.4090909090909091,
          0.06766917293233082,
          0.18421052631578946,
          0.5,
          0.023809523809523808,
          0.125,
          0.10526315789473684,
          0.14285714285714285,
          0.22580645161290322,
          0.2857142857142857,
          0.14814814814814814,
          0.08771929824561403,
          0,
          0.2631578947368421,
          0.2608695652173913,
          0,
          0.23404255319148937,
          0.13253012048192772,
          0.08333333333333333,
          0.18181818181818182,
          0.07692307692307693,
          0.27102803738317754,
          0,
          0.09090909090909091,
          0.3103448275862069,
          0.2571428571428571,
          0.45454545454545453,
          0.19047619047619047,
          0.3333333333333333,
          0.2222222222222222,
          0.4166666666666667,
          0,
          0.14285714285714285,
          0.65,
          0,
          0.22077922077922077,
          0.25773195876288657,
          0.07246376811594203,
          0.13513513513513514,
          0.06666666666666667,
          0.05,
          0.3333333333333333,
          0.05263157894736842,
          0.11627906976744186,
          0.1368421052631579,
          0.07142857142857142,
          0.12432432432432433,
          0.2080536912751678,
          0.1111111111111111,
          0.2549019607843137,
          0.09333333333333334,
          0,
          0.09375,
          0.06896551724137931,
          0.09090909090909091,
          0,
          0.14285714285714285,
          0.1,
          0.011764705882352941,
          0.14285714285714285,
          0.14285714285714285,
          0.1111111111111111,
          0.3333333333333333,
          0.13924050632911392,
          0.2,
          0.21052631578947367,
          0.12280701754385964,
          0.16317991631799164,
          0.2727272727272727,
          0.1,
          0.03225806451612903,
          0.17333333333333334,
          0.06,
          0.2,
          0.17647058823529413,
          0.13636363636363635,
          0.40540540540540543,
          0.07692307692307693,
          0.08064516129032258,
          0.09090909090909091,
          0.2830188679245283,
          0,
          0.1111111111111111,
          0.125,
          0.1891891891891892,
          0,
          0.18181818181818182,
          0.11764705882352941,
          0.25,
          0,
          0,
          0.11940298507462686,
          0.08860759493670886,
          0.09090909090909091,
          0.18181818181818182,
          0,
          0.04093567251461988,
          0.5,
          0.3333333333333333,
          0.23076923076923078,
          0.3488372093023256,
          0.12087912087912088,
          0.09375,
          0.4418604651162791,
          0.04918032786885246,
          0.12359550561797752,
          0.14285714285714285,
          0,
          0.06060606060606061,
          0.17647058823529413,
          0.125,
          0.2903225806451613,
          0.15217391304347827,
          0.10638297872340426,
          0.058823529411764705,
          0.0410958904109589,
          0.8,
          0.16666666666666666,
          0.5,
          0,
          0.06666666666666667,
          0.15,
          0.03482587064676617,
          0.16417910447761194,
          0.23809523809523808,
          0.2,
          0.1724137931034483,
          0.32231404958677684,
          0.16216216216216217,
          0.3333333333333333,
          0.23529411764705882,
          0.1724137931034483,
          0.15384615384615385,
          0.18518518518518517,
          0.16666666666666666,
          0.08641975308641975,
          0.2692307692307692,
          0.4,
          0,
          0.1956521739130435,
          0.04,
          0.10344827586206896,
          0.07317073170731707,
          0.05785123966942149,
          0,
          0.29411764705882354,
          0.1111111111111111,
          0.1259259259259259,
          0.25,
          0.2727272727272727,
          0.11627906976744186,
          0.08,
          0.3235294117647059,
          0.20634920634920634,
          0.2,
          0,
          0.3333333333333333,
          0,
          0.1839080459770115,
          0,
          0.1044776119402985,
          0.22916666666666666,
          0.1111111111111111,
          0.034482758620689655,
          0.018867924528301886
         ],
         "xaxis": "x",
         "y": [
          0.125,
          0.16279069767441862,
          0.25,
          0.10256410256410256,
          0,
          0.2,
          0.631578947368421,
          0,
          0.267515923566879,
          0.125,
          0.28,
          0.030303030303030304,
          0.125,
          0.05263157894736842,
          0,
          0,
          0.23333333333333334,
          0,
          0.3880597014925373,
          0.3137254901960784,
          0.13157894736842105,
          0.23529411764705882,
          0,
          0,
          0.42857142857142855,
          0.03125,
          0.5957446808510638,
          0.05714285714285714,
          0,
          0.15789473684210525,
          0.1,
          0.15384615384615385,
          0.2,
          0,
          0.10526315789473684,
          0.1111111111111111,
          0.15,
          0.04950495049504951,
          0.07692307692307693,
          0.16666666666666666,
          0.10344827586206896,
          0.5952380952380952,
          0.16279069767441862,
          0.957983193277311,
          0,
          0.5,
          0.5,
          0.09523809523809523,
          0.08571428571428572,
          0.1111111111111111,
          0.5,
          0.05263157894736842,
          0.1875,
          0.08333333333333333,
          0.1,
          0,
          0,
          0.06666666666666667,
          0.3617021276595745,
          0.625,
          0.1836734693877551,
          0.06666666666666667,
          0.22580645161290322,
          0.125,
          0.15151515151515152,
          0.1111111111111111,
          0.4782608695652174,
          0.058823529411764705,
          0.1111111111111111,
          0.6153846153846154,
          0.037037037037037035,
          0.25925925925925924,
          0.32,
          0.23076923076923078,
          0.40816326530612246,
          0.2636363636363636,
          0.08,
          0.5,
          0.125,
          0.2765957446808511,
          0,
          0.3333333333333333,
          0.5263157894736842,
          0.5384615384615384,
          0.46153846153846156,
          0.40625,
          0.9583333333333334,
          0.1875,
          0.07142857142857142,
          0,
          0.14814814814814814,
          0.2033898305084746,
          0,
          0,
          0.08333333333333333,
          0.6666666666666666,
          0.1276595744680851,
          0.17391304347826086,
          0.22033898305084745,
          0.2631578947368421,
          0.1794871794871795,
          0,
          0,
          0.0625,
          0.4482758620689655,
          0.22727272727272727,
          0.05,
          0.23809523809523808,
          0.043478260869565216,
          0.359375,
          0.13333333333333333,
          0.045454545454545456,
          0.4,
          0.07407407407407407,
          0.09090909090909091,
          0.2413793103448276,
          0.4090909090909091,
          0.1111111111111111,
          0.039603960396039604,
          0.4153846153846154,
          0.5,
          0.23076923076923078,
          0.02,
          0.2857142857142857,
          0.17391304347826086,
          0.2,
          0.04918032786885246,
          0.07407407407407407,
          0.20930232558139536,
          0.07142857142857142,
          0.25,
          0.3157894736842105,
          0,
          0.2826086956521739,
          0.06557377049180328,
          0.05555555555555555,
          0.05,
          0.4266666666666667,
          0.07142857142857142,
          0.05263157894736842,
          0.21739130434782608,
          0,
          0.125,
          0.125,
          0.2,
          0.25925925925925924,
          0,
          0,
          0.1,
          0.11764705882352941,
          0.04,
          0.08620689655172414,
          0.3137254901960784,
          0,
          0.04081632653061224,
          0.2631578947368421,
          0.18867924528301888,
          0.04716981132075472,
          0.46153846153846156,
          0.08108108108108109,
          0,
          0.21052631578947367,
          0.75,
          0.28888888888888886,
          0,
          0.25,
          0.7741935483870968,
          0.11538461538461539,
          0.07042253521126761,
          0.5517241379310345,
          0.4117647058823529,
          0,
          0,
          0.09090909090909091,
          0.13157894736842105,
          0.075,
          0,
          0.15384615384615385,
          0.5,
          0.125,
          0.3888888888888889,
          0.047619047619047616,
          0.17142857142857143,
          0.02702702702702703,
          0.06666666666666667,
          0.4482758620689655,
          0.35135135135135137,
          0.2463768115942029,
          0.041666666666666664,
          0.1346153846153846,
          0.4567901234567901,
          0.2857142857142857,
          0.46153846153846156,
          0.13636363636363635,
          0.4838709677419355,
          0.2413793103448276,
          0.12380952380952381,
          0.8,
          0.08695652173913043,
          0,
          0.06451612903225806,
          1,
          0.07692307692307693,
          0.09090909090909091,
          0.13333333333333333,
          0.05555555555555555,
          0.15384615384615385,
          0.09090909090909091,
          0.08955223880597014,
          0.16666666666666666,
          0,
          0.07058823529411765,
          0.75,
          0.12,
          0.5,
          0.020833333333333332,
          0,
          0.14814814814814814,
          0.325,
          0,
          0.2631578947368421,
          0.20833333333333334,
          0,
          0.20833333333333334,
          0.11904761904761904,
          0.2830188679245283,
          0.18181818181818182,
          0.75,
          0.2222222222222222,
          0.15,
          0,
          0.47619047619047616,
          0.21052631578947367,
          0,
          0.19047619047619047,
          0.25,
          0.3333333333333333,
          0.808695652173913,
          0,
          0.14285714285714285,
          0.21739130434782608,
          0,
          0.09090909090909091,
          0.27941176470588236,
          0.1794871794871795,
          0.05263157894736842,
          0.24,
          0.05,
          0.45,
          0.1,
          0.045454545454545456,
          0.17,
          0.10714285714285714,
          0.16666666666666666,
          0.2597402597402597,
          0.1111111111111111,
          0.4166666666666667,
          0.09333333333333334,
          0,
          0.09375,
          0.06896551724137931,
          0.09090909090909091,
          0.08333333333333333,
          0.09090909090909091,
          0.1,
          0.011764705882352941,
          0.14285714285714285,
          0.2777777777777778,
          0.06666666666666667,
          0.3333333333333333,
          0.07142857142857142,
          0.5277777777777778,
          0.8705882352941177,
          0.16666666666666666,
          0.3558282208588957,
          0,
          0.1,
          0.5128205128205128,
          0.20930232558139536,
          0.06,
          0.041666666666666664,
          0.14035087719298245,
          0.13636363636363635,
          0.21052631578947367,
          0.07692307692307693,
          0.28888888888888886,
          0.22727272727272727,
          0.2857142857142857,
          0,
          0.21052631578947367,
          0.1111111111111111,
          0.37735849056603776,
          0,
          0.2608695652173913,
          0.11764705882352941,
          0,
          0,
          0,
          0.24050632911392406,
          0.08860759493670886,
          0.16666666666666666,
          0.18181818181818182,
          0,
          0.09302325581395349,
          0.6666666666666666,
          0.3333333333333333,
          0,
          0.5454545454545454,
          0.1875,
          0.09375,
          0.2,
          0.2972972972972973,
          0.08333333333333333,
          0.10714285714285714,
          0.5,
          0.02857142857142857,
          0.029411764705882353,
          0.2463768115942029,
          0.30303030303030304,
          0.10204081632653061,
          0.10638297872340426,
          0.058823529411764705,
          0.04878048780487805,
          0,
          0.15789473684210525,
          0.5,
          0.9090909090909091,
          0.06666666666666667,
          0.15,
          0.39215686274509803,
          0.17647058823529413,
          0.4666666666666667,
          0.2,
          0.1590909090909091,
          0.6201550387596899,
          0.046511627906976744,
          0.5084745762711864,
          0.23529411764705882,
          0.2,
          0.034482758620689655,
          0.25925925925925924,
          0.14545454545454545,
          0.19444444444444445,
          0.2692307692307692,
          0,
          0,
          0.22,
          0.07692307692307693,
          0.18181818181818182,
          0.3,
          0.36666666666666664,
          0,
          0,
          0.1,
          0.13043478260869565,
          0.358974358974359,
          0.3333333333333333,
          0.15555555555555556,
          0.08,
          0.3235294117647059,
          0.2647058823529412,
          0.6363636363636364,
          0,
          0.425531914893617,
          0.11764705882352941,
          0.35294117647058826,
          0,
          0.08823529411764706,
          0.4266666666666667,
          0.1111111111111111,
          0.0273972602739726,
          0.034482758620689655
         ],
         "yaxis": "y"
        }
       ],
       "layout": {
        "legend": {
         "tracegroupgap": 0
        },
        "margin": {
         "t": 60
        },
        "template": {
         "data": {
          "bar": [
           {
            "error_x": {
             "color": "#2a3f5f"
            },
            "error_y": {
             "color": "#2a3f5f"
            },
            "marker": {
             "line": {
              "color": "#E5ECF6",
              "width": 0.5
             },
             "pattern": {
              "fillmode": "overlay",
              "size": 10,
              "solidity": 0.2
             }
            },
            "type": "bar"
           }
          ],
          "barpolar": [
           {
            "marker": {
             "line": {
              "color": "#E5ECF6",
              "width": 0.5
             },
             "pattern": {
              "fillmode": "overlay",
              "size": 10,
              "solidity": 0.2
             }
            },
            "type": "barpolar"
           }
          ],
          "carpet": [
           {
            "aaxis": {
             "endlinecolor": "#2a3f5f",
             "gridcolor": "white",
             "linecolor": "white",
             "minorgridcolor": "white",
             "startlinecolor": "#2a3f5f"
            },
            "baxis": {
             "endlinecolor": "#2a3f5f",
             "gridcolor": "white",
             "linecolor": "white",
             "minorgridcolor": "white",
             "startlinecolor": "#2a3f5f"
            },
            "type": "carpet"
           }
          ],
          "choropleth": [
           {
            "colorbar": {
             "outlinewidth": 0,
             "ticks": ""
            },
            "type": "choropleth"
           }
          ],
          "contour": [
           {
            "colorbar": {
             "outlinewidth": 0,
             "ticks": ""
            },
            "colorscale": [
             [
              0,
              "#0d0887"
             ],
             [
              0.1111111111111111,
              "#46039f"
             ],
             [
              0.2222222222222222,
              "#7201a8"
             ],
             [
              0.3333333333333333,
              "#9c179e"
             ],
             [
              0.4444444444444444,
              "#bd3786"
             ],
             [
              0.5555555555555556,
              "#d8576b"
             ],
             [
              0.6666666666666666,
              "#ed7953"
             ],
             [
              0.7777777777777778,
              "#fb9f3a"
             ],
             [
              0.8888888888888888,
              "#fdca26"
             ],
             [
              1,
              "#f0f921"
             ]
            ],
            "type": "contour"
           }
          ],
          "contourcarpet": [
           {
            "colorbar": {
             "outlinewidth": 0,
             "ticks": ""
            },
            "type": "contourcarpet"
           }
          ],
          "heatmap": [
           {
            "colorbar": {
             "outlinewidth": 0,
             "ticks": ""
            },
            "colorscale": [
             [
              0,
              "#0d0887"
             ],
             [
              0.1111111111111111,
              "#46039f"
             ],
             [
              0.2222222222222222,
              "#7201a8"
             ],
             [
              0.3333333333333333,
              "#9c179e"
             ],
             [
              0.4444444444444444,
              "#bd3786"
             ],
             [
              0.5555555555555556,
              "#d8576b"
             ],
             [
              0.6666666666666666,
              "#ed7953"
             ],
             [
              0.7777777777777778,
              "#fb9f3a"
             ],
             [
              0.8888888888888888,
              "#fdca26"
             ],
             [
              1,
              "#f0f921"
             ]
            ],
            "type": "heatmap"
           }
          ],
          "heatmapgl": [
           {
            "colorbar": {
             "outlinewidth": 0,
             "ticks": ""
            },
            "colorscale": [
             [
              0,
              "#0d0887"
             ],
             [
              0.1111111111111111,
              "#46039f"
             ],
             [
              0.2222222222222222,
              "#7201a8"
             ],
             [
              0.3333333333333333,
              "#9c179e"
             ],
             [
              0.4444444444444444,
              "#bd3786"
             ],
             [
              0.5555555555555556,
              "#d8576b"
             ],
             [
              0.6666666666666666,
              "#ed7953"
             ],
             [
              0.7777777777777778,
              "#fb9f3a"
             ],
             [
              0.8888888888888888,
              "#fdca26"
             ],
             [
              1,
              "#f0f921"
             ]
            ],
            "type": "heatmapgl"
           }
          ],
          "histogram": [
           {
            "marker": {
             "pattern": {
              "fillmode": "overlay",
              "size": 10,
              "solidity": 0.2
             }
            },
            "type": "histogram"
           }
          ],
          "histogram2d": [
           {
            "colorbar": {
             "outlinewidth": 0,
             "ticks": ""
            },
            "colorscale": [
             [
              0,
              "#0d0887"
             ],
             [
              0.1111111111111111,
              "#46039f"
             ],
             [
              0.2222222222222222,
              "#7201a8"
             ],
             [
              0.3333333333333333,
              "#9c179e"
             ],
             [
              0.4444444444444444,
              "#bd3786"
             ],
             [
              0.5555555555555556,
              "#d8576b"
             ],
             [
              0.6666666666666666,
              "#ed7953"
             ],
             [
              0.7777777777777778,
              "#fb9f3a"
             ],
             [
              0.8888888888888888,
              "#fdca26"
             ],
             [
              1,
              "#f0f921"
             ]
            ],
            "type": "histogram2d"
           }
          ],
          "histogram2dcontour": [
           {
            "colorbar": {
             "outlinewidth": 0,
             "ticks": ""
            },
            "colorscale": [
             [
              0,
              "#0d0887"
             ],
             [
              0.1111111111111111,
              "#46039f"
             ],
             [
              0.2222222222222222,
              "#7201a8"
             ],
             [
              0.3333333333333333,
              "#9c179e"
             ],
             [
              0.4444444444444444,
              "#bd3786"
             ],
             [
              0.5555555555555556,
              "#d8576b"
             ],
             [
              0.6666666666666666,
              "#ed7953"
             ],
             [
              0.7777777777777778,
              "#fb9f3a"
             ],
             [
              0.8888888888888888,
              "#fdca26"
             ],
             [
              1,
              "#f0f921"
             ]
            ],
            "type": "histogram2dcontour"
           }
          ],
          "mesh3d": [
           {
            "colorbar": {
             "outlinewidth": 0,
             "ticks": ""
            },
            "type": "mesh3d"
           }
          ],
          "parcoords": [
           {
            "line": {
             "colorbar": {
              "outlinewidth": 0,
              "ticks": ""
             }
            },
            "type": "parcoords"
           }
          ],
          "pie": [
           {
            "automargin": true,
            "type": "pie"
           }
          ],
          "scatter": [
           {
            "fillpattern": {
             "fillmode": "overlay",
             "size": 10,
             "solidity": 0.2
            },
            "type": "scatter"
           }
          ],
          "scatter3d": [
           {
            "line": {
             "colorbar": {
              "outlinewidth": 0,
              "ticks": ""
             }
            },
            "marker": {
             "colorbar": {
              "outlinewidth": 0,
              "ticks": ""
             }
            },
            "type": "scatter3d"
           }
          ],
          "scattercarpet": [
           {
            "marker": {
             "colorbar": {
              "outlinewidth": 0,
              "ticks": ""
             }
            },
            "type": "scattercarpet"
           }
          ],
          "scattergeo": [
           {
            "marker": {
             "colorbar": {
              "outlinewidth": 0,
              "ticks": ""
             }
            },
            "type": "scattergeo"
           }
          ],
          "scattergl": [
           {
            "marker": {
             "colorbar": {
              "outlinewidth": 0,
              "ticks": ""
             }
            },
            "type": "scattergl"
           }
          ],
          "scattermapbox": [
           {
            "marker": {
             "colorbar": {
              "outlinewidth": 0,
              "ticks": ""
             }
            },
            "type": "scattermapbox"
           }
          ],
          "scatterpolar": [
           {
            "marker": {
             "colorbar": {
              "outlinewidth": 0,
              "ticks": ""
             }
            },
            "type": "scatterpolar"
           }
          ],
          "scatterpolargl": [
           {
            "marker": {
             "colorbar": {
              "outlinewidth": 0,
              "ticks": ""
             }
            },
            "type": "scatterpolargl"
           }
          ],
          "scatterternary": [
           {
            "marker": {
             "colorbar": {
              "outlinewidth": 0,
              "ticks": ""
             }
            },
            "type": "scatterternary"
           }
          ],
          "surface": [
           {
            "colorbar": {
             "outlinewidth": 0,
             "ticks": ""
            },
            "colorscale": [
             [
              0,
              "#0d0887"
             ],
             [
              0.1111111111111111,
              "#46039f"
             ],
             [
              0.2222222222222222,
              "#7201a8"
             ],
             [
              0.3333333333333333,
              "#9c179e"
             ],
             [
              0.4444444444444444,
              "#bd3786"
             ],
             [
              0.5555555555555556,
              "#d8576b"
             ],
             [
              0.6666666666666666,
              "#ed7953"
             ],
             [
              0.7777777777777778,
              "#fb9f3a"
             ],
             [
              0.8888888888888888,
              "#fdca26"
             ],
             [
              1,
              "#f0f921"
             ]
            ],
            "type": "surface"
           }
          ],
          "table": [
           {
            "cells": {
             "fill": {
              "color": "#EBF0F8"
             },
             "line": {
              "color": "white"
             }
            },
            "header": {
             "fill": {
              "color": "#C8D4E3"
             },
             "line": {
              "color": "white"
             }
            },
            "type": "table"
           }
          ]
         },
         "layout": {
          "annotationdefaults": {
           "arrowcolor": "#2a3f5f",
           "arrowhead": 0,
           "arrowwidth": 1
          },
          "autotypenumbers": "strict",
          "coloraxis": {
           "colorbar": {
            "outlinewidth": 0,
            "ticks": ""
           }
          },
          "colorscale": {
           "diverging": [
            [
             0,
             "#8e0152"
            ],
            [
             0.1,
             "#c51b7d"
            ],
            [
             0.2,
             "#de77ae"
            ],
            [
             0.3,
             "#f1b6da"
            ],
            [
             0.4,
             "#fde0ef"
            ],
            [
             0.5,
             "#f7f7f7"
            ],
            [
             0.6,
             "#e6f5d0"
            ],
            [
             0.7,
             "#b8e186"
            ],
            [
             0.8,
             "#7fbc41"
            ],
            [
             0.9,
             "#4d9221"
            ],
            [
             1,
             "#276419"
            ]
           ],
           "sequential": [
            [
             0,
             "#0d0887"
            ],
            [
             0.1111111111111111,
             "#46039f"
            ],
            [
             0.2222222222222222,
             "#7201a8"
            ],
            [
             0.3333333333333333,
             "#9c179e"
            ],
            [
             0.4444444444444444,
             "#bd3786"
            ],
            [
             0.5555555555555556,
             "#d8576b"
            ],
            [
             0.6666666666666666,
             "#ed7953"
            ],
            [
             0.7777777777777778,
             "#fb9f3a"
            ],
            [
             0.8888888888888888,
             "#fdca26"
            ],
            [
             1,
             "#f0f921"
            ]
           ],
           "sequentialminus": [
            [
             0,
             "#0d0887"
            ],
            [
             0.1111111111111111,
             "#46039f"
            ],
            [
             0.2222222222222222,
             "#7201a8"
            ],
            [
             0.3333333333333333,
             "#9c179e"
            ],
            [
             0.4444444444444444,
             "#bd3786"
            ],
            [
             0.5555555555555556,
             "#d8576b"
            ],
            [
             0.6666666666666666,
             "#ed7953"
            ],
            [
             0.7777777777777778,
             "#fb9f3a"
            ],
            [
             0.8888888888888888,
             "#fdca26"
            ],
            [
             1,
             "#f0f921"
            ]
           ]
          },
          "colorway": [
           "#636efa",
           "#EF553B",
           "#00cc96",
           "#ab63fa",
           "#FFA15A",
           "#19d3f3",
           "#FF6692",
           "#B6E880",
           "#FF97FF",
           "#FECB52"
          ],
          "font": {
           "color": "#2a3f5f"
          },
          "geo": {
           "bgcolor": "white",
           "lakecolor": "white",
           "landcolor": "#E5ECF6",
           "showlakes": true,
           "showland": true,
           "subunitcolor": "white"
          },
          "hoverlabel": {
           "align": "left"
          },
          "hovermode": "closest",
          "mapbox": {
           "style": "light"
          },
          "paper_bgcolor": "white",
          "plot_bgcolor": "#E5ECF6",
          "polar": {
           "angularaxis": {
            "gridcolor": "white",
            "linecolor": "white",
            "ticks": ""
           },
           "bgcolor": "#E5ECF6",
           "radialaxis": {
            "gridcolor": "white",
            "linecolor": "white",
            "ticks": ""
           }
          },
          "scene": {
           "xaxis": {
            "backgroundcolor": "#E5ECF6",
            "gridcolor": "white",
            "gridwidth": 2,
            "linecolor": "white",
            "showbackground": true,
            "ticks": "",
            "zerolinecolor": "white"
           },
           "yaxis": {
            "backgroundcolor": "#E5ECF6",
            "gridcolor": "white",
            "gridwidth": 2,
            "linecolor": "white",
            "showbackground": true,
            "ticks": "",
            "zerolinecolor": "white"
           },
           "zaxis": {
            "backgroundcolor": "#E5ECF6",
            "gridcolor": "white",
            "gridwidth": 2,
            "linecolor": "white",
            "showbackground": true,
            "ticks": "",
            "zerolinecolor": "white"
           }
          },
          "shapedefaults": {
           "line": {
            "color": "#2a3f5f"
           }
          },
          "ternary": {
           "aaxis": {
            "gridcolor": "white",
            "linecolor": "white",
            "ticks": ""
           },
           "baxis": {
            "gridcolor": "white",
            "linecolor": "white",
            "ticks": ""
           },
           "bgcolor": "#E5ECF6",
           "caxis": {
            "gridcolor": "white",
            "linecolor": "white",
            "ticks": ""
           }
          },
          "title": {
           "x": 0.05
          },
          "xaxis": {
           "automargin": true,
           "gridcolor": "white",
           "linecolor": "white",
           "ticks": "",
           "title": {
            "standoff": 15
           },
           "zerolinecolor": "white",
           "zerolinewidth": 2
          },
          "yaxis": {
           "automargin": true,
           "gridcolor": "white",
           "linecolor": "white",
           "ticks": "",
           "title": {
            "standoff": 15
           },
           "zerolinecolor": "white",
           "zerolinewidth": 2
          }
         }
        },
        "xaxis": {
         "anchor": "y",
         "domain": [
          0,
          1
         ],
         "title": {
          "text": "consensus_dist_bin_mk"
         }
        },
        "yaxis": {
         "anchor": "x",
         "domain": [
          0,
          1
         ],
         "title": {
          "text": "eval_dist_bin_mk"
         }
        }
       }
      },
      "text/html": [
       "<div>                            <div id=\"1d6d7112-ddd9-47af-aa82-148c7fa94eac\" class=\"plotly-graph-div\" style=\"height:525px; width:100%;\"></div>            <script type=\"text/javascript\">                require([\"plotly\"], function(Plotly) {                    window.PLOTLYENV=window.PLOTLYENV || {};                                    if (document.getElementById(\"1d6d7112-ddd9-47af-aa82-148c7fa94eac\")) {                    Plotly.newPlot(                        \"1d6d7112-ddd9-47af-aa82-148c7fa94eac\",                        [{\"hovertemplate\":\"consensus_dist_bin_mk=%{x}<br>eval_dist_bin_mk=%{y}<extra></extra>\",\"legendgroup\":\"\",\"marker\":{\"color\":\"#636efa\",\"symbol\":\"circle\"},\"mode\":\"markers\",\"name\":\"\",\"orientation\":\"v\",\"showlegend\":false,\"x\":[0.09375,0.22077922077922077,0.21621621621621623,0.20512820512820512,0.0,0.4,0.35294117647058826,0.0,0.08333333333333333,0.125,0.28,0.030303030303030304,0.125,0.05263157894736842,0.03225806451612903,0.0,0.13725490196078433,0.0,0.045454545454545456,0.2708333333333333,0.2463768115942029,0.23529411764705882,0.16666666666666666,0.0,0.3333333333333333,0.03125,0.2,0.014492753623188406,0.10344827586206896,0.030303030303030304,0.06666666666666667,0.15384615384615385,0.42857142857142855,0.0,0.21818181818181817,0.1111111111111111,0.15,0.06930693069306931,0.07692307692307693,0.07368421052631578,0.13793103448275862,0.10344827586206896,0.11627906976744186,0.29411764705882354,0.0,0.25,1.0,0.09523809523809523,0.08571428571428572,0.1111111111111111,0.18518518518518517,0.05263157894736842,0.2,0.08333333333333333,0.1,0.0,0.0,0.10344827586206896,0.13636363636363635,0.35714285714285715,0.3150684931506849,0.06666666666666667,0.22580645161290322,0.125,0.14285714285714285,0.1111111111111111,0.2,0.16129032258064516,0.1111111111111111,0.6,0.037037037037037035,0.25925925925925924,0.19540229885057472,0.15789473684210525,0.15217391304347827,0.12077294685990338,0.08,0.5,0.125,0.16666666666666666,0.0,0.09090909090909091,0.34328358208955223,0.3333333333333333,0.36,0.3125,0.0,0.1875,0.1111111111111111,0.0,0.14814814814814814,0.1694915254237288,0.0,0.0,0.10638297872340426,0.08333333333333333,0.06521739130434782,0.17391304347826086,0.21951219512195122,0.1111111111111111,0.07246376811594203,0.0,0.0,0.0625,0.3,0.06976744186046512,0.02564102564102564,0.12195121951219512,0.2631578947368421,0.38235294117647056,0.0,0.045454545454545456,0.4418604651162791,0.07407407407407407,0.06493506493506493,0.2413793103448276,0.3170731707317073,0.1656441717791411,0.009900990099009901,0.0684931506849315,0.4482758620689655,0.09401709401709402,0.02,0.28125,0.17391304347826086,0.0,0.04132231404958678,0.07407407407407407,0.17333333333333334,0.07142857142857142,0.25,0.0,0.0,0.25301204819277107,0.1826086956521739,0.05555555555555555,0.05,0.22916666666666666,0.07692307692307693,0.05263157894736842,0.2608695652173913,0.3333333333333333,0.125,0.125,0.1076923076923077,0.1650485436893204,0.16666666666666666,0.047619047619047616,0.11864406779661017,0.11764705882352941,0.0,0.08620689655172414,0.32608695652173914,0.0,0.06666666666666667,0.42857142857142855,0.1619047619047619,0.0660377358490566,0.36,0.10091743119266056,0.0,0.21052631578947367,0.5,0.16666666666666666,0.25,0.13333333333333333,0.4883720930232558,0.07692307692307693,0.028169014084507043,0.5625,0.3793103448275862,0.0,0.17391304347826086,0.14285714285714285,0.21739130434782608,0.025,0.3333333333333333,0.16666666666666666,0.2727272727272727,0.125,0.5384615384615384,0.017964071856287425,0.30303030303030304,0.0136986301369863,0.2,0.3,0.030303030303030304,0.125,0.19047619047619047,0.16,0.20743034055727555,0.2857142857142857,0.4166666666666667,0.13636363636363635,0.3584905660377358,0.05,0.1724137931034483,0.3333333333333333,0.15555555555555556,0.0,0.16129032258064516,0.3333333333333333,0.07692307692307693,0.2727272727272727,0.23076923076923078,0.05555555555555555,0.2549019607843137,0.4090909090909091,0.06766917293233082,0.18421052631578946,0.5,0.023809523809523808,0.125,0.10526315789473684,0.14285714285714285,0.22580645161290322,0.2857142857142857,0.14814814814814814,0.08771929824561403,0.0,0.2631578947368421,0.2608695652173913,0.0,0.23404255319148937,0.13253012048192772,0.08333333333333333,0.18181818181818182,0.07692307692307693,0.27102803738317754,0.0,0.09090909090909091,0.3103448275862069,0.2571428571428571,0.45454545454545453,0.19047619047619047,0.3333333333333333,0.2222222222222222,0.4166666666666667,0.0,0.14285714285714285,0.65,0.0,0.22077922077922077,0.25773195876288657,0.07246376811594203,0.13513513513513514,0.06666666666666667,0.05,0.3333333333333333,0.05263157894736842,0.11627906976744186,0.1368421052631579,0.07142857142857142,0.12432432432432433,0.2080536912751678,0.1111111111111111,0.2549019607843137,0.09333333333333334,0.0,0.09375,0.06896551724137931,0.09090909090909091,0.0,0.14285714285714285,0.1,0.011764705882352941,0.14285714285714285,0.14285714285714285,0.1111111111111111,0.3333333333333333,0.13924050632911392,0.2,0.21052631578947367,0.12280701754385964,0.16317991631799164,0.2727272727272727,0.1,0.03225806451612903,0.17333333333333334,0.06,0.2,0.17647058823529413,0.13636363636363635,0.40540540540540543,0.07692307692307693,0.08064516129032258,0.09090909090909091,0.2830188679245283,0.0,0.1111111111111111,0.125,0.1891891891891892,0.0,0.18181818181818182,0.11764705882352941,0.25,0.0,0.0,0.11940298507462686,0.08860759493670886,0.09090909090909091,0.18181818181818182,0.0,0.04093567251461988,0.5,0.3333333333333333,0.23076923076923078,0.3488372093023256,0.12087912087912088,0.09375,0.4418604651162791,0.04918032786885246,0.12359550561797752,0.14285714285714285,0.0,0.06060606060606061,0.17647058823529413,0.125,0.2903225806451613,0.15217391304347827,0.10638297872340426,0.058823529411764705,0.0410958904109589,0.8,0.16666666666666666,0.5,0.0,0.06666666666666667,0.15,0.03482587064676617,0.16417910447761194,0.23809523809523808,0.2,0.1724137931034483,0.32231404958677684,0.16216216216216217,0.3333333333333333,0.23529411764705882,0.1724137931034483,0.15384615384615385,0.18518518518518517,0.16666666666666666,0.08641975308641975,0.2692307692307692,0.4,0.0,0.1956521739130435,0.04,0.10344827586206896,0.07317073170731707,0.05785123966942149,0.0,0.29411764705882354,0.1111111111111111,0.1259259259259259,0.25,0.2727272727272727,0.11627906976744186,0.08,0.3235294117647059,0.20634920634920634,0.2,0.0,0.3333333333333333,0.0,0.1839080459770115,0.0,0.1044776119402985,0.22916666666666666,0.1111111111111111,0.034482758620689655,0.018867924528301886],\"xaxis\":\"x\",\"y\":[0.125,0.16279069767441862,0.25,0.10256410256410256,0.0,0.2,0.631578947368421,0.0,0.267515923566879,0.125,0.28,0.030303030303030304,0.125,0.05263157894736842,0.0,0.0,0.23333333333333334,0.0,0.3880597014925373,0.3137254901960784,0.13157894736842105,0.23529411764705882,0.0,0.0,0.42857142857142855,0.03125,0.5957446808510638,0.05714285714285714,0.0,0.15789473684210525,0.1,0.15384615384615385,0.2,0.0,0.10526315789473684,0.1111111111111111,0.15,0.04950495049504951,0.07692307692307693,0.16666666666666666,0.10344827586206896,0.5952380952380952,0.16279069767441862,0.957983193277311,0.0,0.5,0.5,0.09523809523809523,0.08571428571428572,0.1111111111111111,0.5,0.05263157894736842,0.1875,0.08333333333333333,0.1,0.0,0.0,0.06666666666666667,0.3617021276595745,0.625,0.1836734693877551,0.06666666666666667,0.22580645161290322,0.125,0.15151515151515152,0.1111111111111111,0.4782608695652174,0.058823529411764705,0.1111111111111111,0.6153846153846154,0.037037037037037035,0.25925925925925924,0.32,0.23076923076923078,0.40816326530612246,0.2636363636363636,0.08,0.5,0.125,0.2765957446808511,0.0,0.3333333333333333,0.5263157894736842,0.5384615384615384,0.46153846153846156,0.40625,0.9583333333333334,0.1875,0.07142857142857142,0.0,0.14814814814814814,0.2033898305084746,0.0,0.0,0.08333333333333333,0.6666666666666666,0.1276595744680851,0.17391304347826086,0.22033898305084745,0.2631578947368421,0.1794871794871795,0.0,0.0,0.0625,0.4482758620689655,0.22727272727272727,0.05,0.23809523809523808,0.043478260869565216,0.359375,0.13333333333333333,0.045454545454545456,0.4,0.07407407407407407,0.09090909090909091,0.2413793103448276,0.4090909090909091,0.1111111111111111,0.039603960396039604,0.4153846153846154,0.5,0.23076923076923078,0.02,0.2857142857142857,0.17391304347826086,0.2,0.04918032786885246,0.07407407407407407,0.20930232558139536,0.07142857142857142,0.25,0.3157894736842105,0.0,0.2826086956521739,0.06557377049180328,0.05555555555555555,0.05,0.4266666666666667,0.07142857142857142,0.05263157894736842,0.21739130434782608,0.0,0.125,0.125,0.2,0.25925925925925924,0.0,0.0,0.1,0.11764705882352941,0.04,0.08620689655172414,0.3137254901960784,0.0,0.04081632653061224,0.2631578947368421,0.18867924528301888,0.04716981132075472,0.46153846153846156,0.08108108108108109,0.0,0.21052631578947367,0.75,0.28888888888888886,0.0,0.25,0.7741935483870968,0.11538461538461539,0.07042253521126761,0.5517241379310345,0.4117647058823529,0.0,0.0,0.09090909090909091,0.13157894736842105,0.075,0.0,0.15384615384615385,0.5,0.125,0.3888888888888889,0.047619047619047616,0.17142857142857143,0.02702702702702703,0.06666666666666667,0.4482758620689655,0.35135135135135137,0.2463768115942029,0.041666666666666664,0.1346153846153846,0.4567901234567901,0.2857142857142857,0.46153846153846156,0.13636363636363635,0.4838709677419355,0.2413793103448276,0.12380952380952381,0.8,0.08695652173913043,0.0,0.06451612903225806,1.0,0.07692307692307693,0.09090909090909091,0.13333333333333333,0.05555555555555555,0.15384615384615385,0.09090909090909091,0.08955223880597014,0.16666666666666666,0.0,0.07058823529411765,0.75,0.12,0.5,0.020833333333333332,0.0,0.14814814814814814,0.325,0.0,0.2631578947368421,0.20833333333333334,0.0,0.20833333333333334,0.11904761904761904,0.2830188679245283,0.18181818181818182,0.75,0.2222222222222222,0.15,0.0,0.47619047619047616,0.21052631578947367,0.0,0.19047619047619047,0.25,0.3333333333333333,0.808695652173913,0.0,0.14285714285714285,0.21739130434782608,0.0,0.09090909090909091,0.27941176470588236,0.1794871794871795,0.05263157894736842,0.24,0.05,0.45,0.1,0.045454545454545456,0.17,0.10714285714285714,0.16666666666666666,0.2597402597402597,0.1111111111111111,0.4166666666666667,0.09333333333333334,0.0,0.09375,0.06896551724137931,0.09090909090909091,0.08333333333333333,0.09090909090909091,0.1,0.011764705882352941,0.14285714285714285,0.2777777777777778,0.06666666666666667,0.3333333333333333,0.07142857142857142,0.5277777777777778,0.8705882352941177,0.16666666666666666,0.3558282208588957,0.0,0.1,0.5128205128205128,0.20930232558139536,0.06,0.041666666666666664,0.14035087719298245,0.13636363636363635,0.21052631578947367,0.07692307692307693,0.28888888888888886,0.22727272727272727,0.2857142857142857,0.0,0.21052631578947367,0.1111111111111111,0.37735849056603776,0.0,0.2608695652173913,0.11764705882352941,0.0,0.0,0.0,0.24050632911392406,0.08860759493670886,0.16666666666666666,0.18181818181818182,0.0,0.09302325581395349,0.6666666666666666,0.3333333333333333,0.0,0.5454545454545454,0.1875,0.09375,0.2,0.2972972972972973,0.08333333333333333,0.10714285714285714,0.5,0.02857142857142857,0.029411764705882353,0.2463768115942029,0.30303030303030304,0.10204081632653061,0.10638297872340426,0.058823529411764705,0.04878048780487805,0.0,0.15789473684210525,0.5,0.9090909090909091,0.06666666666666667,0.15,0.39215686274509803,0.17647058823529413,0.4666666666666667,0.2,0.1590909090909091,0.6201550387596899,0.046511627906976744,0.5084745762711864,0.23529411764705882,0.2,0.034482758620689655,0.25925925925925924,0.14545454545454545,0.19444444444444445,0.2692307692307692,0.0,0.0,0.22,0.07692307692307693,0.18181818181818182,0.3,0.36666666666666664,0.0,0.0,0.1,0.13043478260869565,0.358974358974359,0.3333333333333333,0.15555555555555556,0.08,0.3235294117647059,0.2647058823529412,0.6363636363636364,0.0,0.425531914893617,0.11764705882352941,0.35294117647058826,0.0,0.08823529411764706,0.4266666666666667,0.1111111111111111,0.0273972602739726,0.034482758620689655],\"yaxis\":\"y\",\"type\":\"scatter\"}],                        {\"template\":{\"data\":{\"histogram2dcontour\":[{\"type\":\"histogram2dcontour\",\"colorbar\":{\"outlinewidth\":0,\"ticks\":\"\"},\"colorscale\":[[0.0,\"#0d0887\"],[0.1111111111111111,\"#46039f\"],[0.2222222222222222,\"#7201a8\"],[0.3333333333333333,\"#9c179e\"],[0.4444444444444444,\"#bd3786\"],[0.5555555555555556,\"#d8576b\"],[0.6666666666666666,\"#ed7953\"],[0.7777777777777778,\"#fb9f3a\"],[0.8888888888888888,\"#fdca26\"],[1.0,\"#f0f921\"]]}],\"choropleth\":[{\"type\":\"choropleth\",\"colorbar\":{\"outlinewidth\":0,\"ticks\":\"\"}}],\"histogram2d\":[{\"type\":\"histogram2d\",\"colorbar\":{\"outlinewidth\":0,\"ticks\":\"\"},\"colorscale\":[[0.0,\"#0d0887\"],[0.1111111111111111,\"#46039f\"],[0.2222222222222222,\"#7201a8\"],[0.3333333333333333,\"#9c179e\"],[0.4444444444444444,\"#bd3786\"],[0.5555555555555556,\"#d8576b\"],[0.6666666666666666,\"#ed7953\"],[0.7777777777777778,\"#fb9f3a\"],[0.8888888888888888,\"#fdca26\"],[1.0,\"#f0f921\"]]}],\"heatmap\":[{\"type\":\"heatmap\",\"colorbar\":{\"outlinewidth\":0,\"ticks\":\"\"},\"colorscale\":[[0.0,\"#0d0887\"],[0.1111111111111111,\"#46039f\"],[0.2222222222222222,\"#7201a8\"],[0.3333333333333333,\"#9c179e\"],[0.4444444444444444,\"#bd3786\"],[0.5555555555555556,\"#d8576b\"],[0.6666666666666666,\"#ed7953\"],[0.7777777777777778,\"#fb9f3a\"],[0.8888888888888888,\"#fdca26\"],[1.0,\"#f0f921\"]]}],\"heatmapgl\":[{\"type\":\"heatmapgl\",\"colorbar\":{\"outlinewidth\":0,\"ticks\":\"\"},\"colorscale\":[[0.0,\"#0d0887\"],[0.1111111111111111,\"#46039f\"],[0.2222222222222222,\"#7201a8\"],[0.3333333333333333,\"#9c179e\"],[0.4444444444444444,\"#bd3786\"],[0.5555555555555556,\"#d8576b\"],[0.6666666666666666,\"#ed7953\"],[0.7777777777777778,\"#fb9f3a\"],[0.8888888888888888,\"#fdca26\"],[1.0,\"#f0f921\"]]}],\"contourcarpet\":[{\"type\":\"contourcarpet\",\"colorbar\":{\"outlinewidth\":0,\"ticks\":\"\"}}],\"contour\":[{\"type\":\"contour\",\"colorbar\":{\"outlinewidth\":0,\"ticks\":\"\"},\"colorscale\":[[0.0,\"#0d0887\"],[0.1111111111111111,\"#46039f\"],[0.2222222222222222,\"#7201a8\"],[0.3333333333333333,\"#9c179e\"],[0.4444444444444444,\"#bd3786\"],[0.5555555555555556,\"#d8576b\"],[0.6666666666666666,\"#ed7953\"],[0.7777777777777778,\"#fb9f3a\"],[0.8888888888888888,\"#fdca26\"],[1.0,\"#f0f921\"]]}],\"surface\":[{\"type\":\"surface\",\"colorbar\":{\"outlinewidth\":0,\"ticks\":\"\"},\"colorscale\":[[0.0,\"#0d0887\"],[0.1111111111111111,\"#46039f\"],[0.2222222222222222,\"#7201a8\"],[0.3333333333333333,\"#9c179e\"],[0.4444444444444444,\"#bd3786\"],[0.5555555555555556,\"#d8576b\"],[0.6666666666666666,\"#ed7953\"],[0.7777777777777778,\"#fb9f3a\"],[0.8888888888888888,\"#fdca26\"],[1.0,\"#f0f921\"]]}],\"mesh3d\":[{\"type\":\"mesh3d\",\"colorbar\":{\"outlinewidth\":0,\"ticks\":\"\"}}],\"scatter\":[{\"fillpattern\":{\"fillmode\":\"overlay\",\"size\":10,\"solidity\":0.2},\"type\":\"scatter\"}],\"parcoords\":[{\"type\":\"parcoords\",\"line\":{\"colorbar\":{\"outlinewidth\":0,\"ticks\":\"\"}}}],\"scatterpolargl\":[{\"type\":\"scatterpolargl\",\"marker\":{\"colorbar\":{\"outlinewidth\":0,\"ticks\":\"\"}}}],\"bar\":[{\"error_x\":{\"color\":\"#2a3f5f\"},\"error_y\":{\"color\":\"#2a3f5f\"},\"marker\":{\"line\":{\"color\":\"#E5ECF6\",\"width\":0.5},\"pattern\":{\"fillmode\":\"overlay\",\"size\":10,\"solidity\":0.2}},\"type\":\"bar\"}],\"scattergeo\":[{\"type\":\"scattergeo\",\"marker\":{\"colorbar\":{\"outlinewidth\":0,\"ticks\":\"\"}}}],\"scatterpolar\":[{\"type\":\"scatterpolar\",\"marker\":{\"colorbar\":{\"outlinewidth\":0,\"ticks\":\"\"}}}],\"histogram\":[{\"marker\":{\"pattern\":{\"fillmode\":\"overlay\",\"size\":10,\"solidity\":0.2}},\"type\":\"histogram\"}],\"scattergl\":[{\"type\":\"scattergl\",\"marker\":{\"colorbar\":{\"outlinewidth\":0,\"ticks\":\"\"}}}],\"scatter3d\":[{\"type\":\"scatter3d\",\"line\":{\"colorbar\":{\"outlinewidth\":0,\"ticks\":\"\"}},\"marker\":{\"colorbar\":{\"outlinewidth\":0,\"ticks\":\"\"}}}],\"scattermapbox\":[{\"type\":\"scattermapbox\",\"marker\":{\"colorbar\":{\"outlinewidth\":0,\"ticks\":\"\"}}}],\"scatterternary\":[{\"type\":\"scatterternary\",\"marker\":{\"colorbar\":{\"outlinewidth\":0,\"ticks\":\"\"}}}],\"scattercarpet\":[{\"type\":\"scattercarpet\",\"marker\":{\"colorbar\":{\"outlinewidth\":0,\"ticks\":\"\"}}}],\"carpet\":[{\"aaxis\":{\"endlinecolor\":\"#2a3f5f\",\"gridcolor\":\"white\",\"linecolor\":\"white\",\"minorgridcolor\":\"white\",\"startlinecolor\":\"#2a3f5f\"},\"baxis\":{\"endlinecolor\":\"#2a3f5f\",\"gridcolor\":\"white\",\"linecolor\":\"white\",\"minorgridcolor\":\"white\",\"startlinecolor\":\"#2a3f5f\"},\"type\":\"carpet\"}],\"table\":[{\"cells\":{\"fill\":{\"color\":\"#EBF0F8\"},\"line\":{\"color\":\"white\"}},\"header\":{\"fill\":{\"color\":\"#C8D4E3\"},\"line\":{\"color\":\"white\"}},\"type\":\"table\"}],\"barpolar\":[{\"marker\":{\"line\":{\"color\":\"#E5ECF6\",\"width\":0.5},\"pattern\":{\"fillmode\":\"overlay\",\"size\":10,\"solidity\":0.2}},\"type\":\"barpolar\"}],\"pie\":[{\"automargin\":true,\"type\":\"pie\"}]},\"layout\":{\"autotypenumbers\":\"strict\",\"colorway\":[\"#636efa\",\"#EF553B\",\"#00cc96\",\"#ab63fa\",\"#FFA15A\",\"#19d3f3\",\"#FF6692\",\"#B6E880\",\"#FF97FF\",\"#FECB52\"],\"font\":{\"color\":\"#2a3f5f\"},\"hovermode\":\"closest\",\"hoverlabel\":{\"align\":\"left\"},\"paper_bgcolor\":\"white\",\"plot_bgcolor\":\"#E5ECF6\",\"polar\":{\"bgcolor\":\"#E5ECF6\",\"angularaxis\":{\"gridcolor\":\"white\",\"linecolor\":\"white\",\"ticks\":\"\"},\"radialaxis\":{\"gridcolor\":\"white\",\"linecolor\":\"white\",\"ticks\":\"\"}},\"ternary\":{\"bgcolor\":\"#E5ECF6\",\"aaxis\":{\"gridcolor\":\"white\",\"linecolor\":\"white\",\"ticks\":\"\"},\"baxis\":{\"gridcolor\":\"white\",\"linecolor\":\"white\",\"ticks\":\"\"},\"caxis\":{\"gridcolor\":\"white\",\"linecolor\":\"white\",\"ticks\":\"\"}},\"coloraxis\":{\"colorbar\":{\"outlinewidth\":0,\"ticks\":\"\"}},\"colorscale\":{\"sequential\":[[0.0,\"#0d0887\"],[0.1111111111111111,\"#46039f\"],[0.2222222222222222,\"#7201a8\"],[0.3333333333333333,\"#9c179e\"],[0.4444444444444444,\"#bd3786\"],[0.5555555555555556,\"#d8576b\"],[0.6666666666666666,\"#ed7953\"],[0.7777777777777778,\"#fb9f3a\"],[0.8888888888888888,\"#fdca26\"],[1.0,\"#f0f921\"]],\"sequentialminus\":[[0.0,\"#0d0887\"],[0.1111111111111111,\"#46039f\"],[0.2222222222222222,\"#7201a8\"],[0.3333333333333333,\"#9c179e\"],[0.4444444444444444,\"#bd3786\"],[0.5555555555555556,\"#d8576b\"],[0.6666666666666666,\"#ed7953\"],[0.7777777777777778,\"#fb9f3a\"],[0.8888888888888888,\"#fdca26\"],[1.0,\"#f0f921\"]],\"diverging\":[[0,\"#8e0152\"],[0.1,\"#c51b7d\"],[0.2,\"#de77ae\"],[0.3,\"#f1b6da\"],[0.4,\"#fde0ef\"],[0.5,\"#f7f7f7\"],[0.6,\"#e6f5d0\"],[0.7,\"#b8e186\"],[0.8,\"#7fbc41\"],[0.9,\"#4d9221\"],[1,\"#276419\"]]},\"xaxis\":{\"gridcolor\":\"white\",\"linecolor\":\"white\",\"ticks\":\"\",\"title\":{\"standoff\":15},\"zerolinecolor\":\"white\",\"automargin\":true,\"zerolinewidth\":2},\"yaxis\":{\"gridcolor\":\"white\",\"linecolor\":\"white\",\"ticks\":\"\",\"title\":{\"standoff\":15},\"zerolinecolor\":\"white\",\"automargin\":true,\"zerolinewidth\":2},\"scene\":{\"xaxis\":{\"backgroundcolor\":\"#E5ECF6\",\"gridcolor\":\"white\",\"linecolor\":\"white\",\"showbackground\":true,\"ticks\":\"\",\"zerolinecolor\":\"white\",\"gridwidth\":2},\"yaxis\":{\"backgroundcolor\":\"#E5ECF6\",\"gridcolor\":\"white\",\"linecolor\":\"white\",\"showbackground\":true,\"ticks\":\"\",\"zerolinecolor\":\"white\",\"gridwidth\":2},\"zaxis\":{\"backgroundcolor\":\"#E5ECF6\",\"gridcolor\":\"white\",\"linecolor\":\"white\",\"showbackground\":true,\"ticks\":\"\",\"zerolinecolor\":\"white\",\"gridwidth\":2}},\"shapedefaults\":{\"line\":{\"color\":\"#2a3f5f\"}},\"annotationdefaults\":{\"arrowcolor\":\"#2a3f5f\",\"arrowhead\":0,\"arrowwidth\":1},\"geo\":{\"bgcolor\":\"white\",\"landcolor\":\"#E5ECF6\",\"subunitcolor\":\"white\",\"showland\":true,\"showlakes\":true,\"lakecolor\":\"white\"},\"title\":{\"x\":0.05},\"mapbox\":{\"style\":\"light\"}}},\"xaxis\":{\"anchor\":\"y\",\"domain\":[0.0,1.0],\"title\":{\"text\":\"consensus_dist_bin_mk\"}},\"yaxis\":{\"anchor\":\"x\",\"domain\":[0.0,1.0],\"title\":{\"text\":\"eval_dist_bin_mk\"}},\"legend\":{\"tracegroupgap\":0},\"margin\":{\"t\":60}},                        {\"responsive\": true}                    ).then(function(){\n",
       "                            \n",
       "var gd = document.getElementById('1d6d7112-ddd9-47af-aa82-148c7fa94eac');\n",
       "var x = new MutationObserver(function (mutations, observer) {{\n",
       "        var display = window.getComputedStyle(gd).display;\n",
       "        if (!display || display === 'none') {{\n",
       "            console.log([gd, 'removed!']);\n",
       "            Plotly.purge(gd);\n",
       "            observer.disconnect();\n",
       "        }}\n",
       "}});\n",
       "\n",
       "// Listen for the removal of the full notebook cells\n",
       "var notebookContainer = gd.closest('#notebook-container');\n",
       "if (notebookContainer) {{\n",
       "    x.observe(notebookContainer, {childList: true});\n",
       "}}\n",
       "\n",
       "// Listen for the clearing of the current output cell\n",
       "var outputEl = gd.closest('.output');\n",
       "if (outputEl) {{\n",
       "    x.observe(outputEl, {childList: true});\n",
       "}}\n",
       "\n",
       "                        })                };                });            </script>        </div>"
      ]
     },
     "metadata": {},
     "output_type": "display_data"
    },
    {
     "data": {
      "application/vnd.plotly.v1+json": {
       "config": {
        "plotlyServerURL": "https://plot.ly"
       },
       "data": [
        {
         "hovertemplate": "consensus_dist_gtr_mk=%{x}<br>eval_dist_gtr_mk=%{y}<extra></extra>",
         "legendgroup": "",
         "marker": {
          "color": "#636efa",
          "symbol": "circle"
         },
         "mode": "markers",
         "name": "",
         "orientation": "v",
         "showlegend": false,
         "type": "scatter",
         "x": [
          0.6,
          0.3333333333333333,
          0.38461538461538464,
          0.3076923076923077,
          0,
          0.15789473684210525,
          0.5714285714285714,
          0.14285714285714285,
          0.16455696202531644,
          0.3333333333333333,
          0.28,
          0.0625,
          0.5,
          0.05263157894736842,
          0.0967741935483871,
          0.3333333333333333,
          0.37254901960784315,
          0.4,
          0.3333333333333333,
          0.31958762886597936,
          0.3333333333333333,
          0.29411764705882354,
          0.6666666666666666,
          0,
          0.2972972972972973,
          0.15625,
          0.13043478260869565,
          0.3333333333333333,
          0.034482758620689655,
          0.15151515151515152,
          0.4117647058823529,
          0.8,
          0.3333333333333333,
          0,
          0.2777777777777778,
          0.1111111111111111,
          0.10526315789473684,
          0.26153846153846155,
          0.07692307692307693,
          0.22580645161290322,
          0.20754716981132076,
          0.10344827586206896,
          0.6103896103896104,
          0.3333333333333333,
          0.5,
          0.6,
          1,
          0.47619047619047616,
          0.5873015873015873,
          0.1111111111111111,
          0.4782608695652174,
          0.1891891891891892,
          0.2413793103448276,
          0.08333333333333333,
          0.1,
          0.12727272727272726,
          0.3076923076923077,
          0.18518518518518517,
          0.3,
          0.42857142857142855,
          0.8,
          0.22727272727272727,
          0.11475409836065574,
          0.125,
          0.30612244897959184,
          0.1111111111111111,
          0.5555555555555556,
          0.42857142857142855,
          0.2222222222222222,
          0.625,
          0.18518518518518517,
          0.22448979591836735,
          0.23076923076923078,
          0.25,
          0.4805194805194805,
          0.2980769230769231,
          0.5384615384615384,
          0.5714285714285714,
          0.3333333333333333,
          0.4666666666666667,
          0.03125,
          0,
          0.5945945945945946,
          0.5384615384615384,
          0.30434782608695654,
          0.4576271186440678,
          0,
          0.1875,
          0.4782608695652174,
          0.7647058823529411,
          0.18518518518518517,
          0.1864406779661017,
          0.16666666666666666,
          0.23333333333333334,
          0.7142857142857143,
          0.7894736842105263,
          0.2765957446808511,
          0.31868131868131866,
          0.30864197530864196,
          0.3142857142857143,
          0.21428571428571427,
          0.7777777777777778,
          0.3333333333333333,
          0.25,
          0.37777777777777777,
          0.26436781609195403,
          0.2972972972972973,
          0.14285714285714285,
          0.6,
          0.5272727272727272,
          0.3333333333333333,
          0.6363636363636364,
          0.2558139534883721,
          0.07407407407407407,
          0.14285714285714285,
          0.2857142857142857,
          0.14285714285714285,
          0.23870967741935484,
          0.1188118811881188,
          0.4945054945054945,
          0.28,
          0.2125984251968504,
          0.22,
          0.43478260869565216,
          0.09523809523809523,
          0.1111111111111111,
          0.36134453781512604,
          0.07407407407407407,
          0.15625,
          0.4,
          0.7142857142857143,
          0.2777777777777778,
          0.6666666666666666,
          0.3333333333333333,
          0.2037037037037037,
          0.6666666666666666,
          0.25,
          0.3181818181818182,
          0.08333333333333333,
          0.29411764705882354,
          0.3170731707317073,
          0.3333333333333333,
          0.0967741935483871,
          0.0967741935483871,
          0.5,
          0.21212121212121213,
          0.2222222222222222,
          0.3,
          0.13793103448275862,
          0.22448979591836735,
          0.4146341463414634,
          0.2920353982300885,
          0.6122448979591837,
          0.6923076923076923,
          0.26595744680851063,
          0.37142857142857144,
          0.29523809523809524,
          0.10476190476190476,
          0.30434782608695654,
          0.2651162790697674,
          0.1,
          0.3684210526315789,
          0.23076923076923078,
          0.2926829268292683,
          0.14285714285714285,
          0.5172413793103449,
          0.4666666666666667,
          0.2916666666666667,
          0.10144927536231885,
          0.5862068965517241,
          0.6551724137931034,
          0.08333333333333333,
          0.4782608695652174,
          0.5238095238095238,
          0.3939393939393939,
          0.15,
          0.3333333333333333,
          0.5454545454545454,
          0.7931034482758621,
          0.125,
          0.6363636363636364,
          0.1497005988023952,
          0.373134328358209,
          0.1111111111111111,
          0.23809523809523808,
          0.37777777777777777,
          0.373134328358209,
          0.26153846153846155,
          0.3,
          0.5698924731182796,
          0.19745222929936307,
          0.6,
          0.3333333333333333,
          0.38095238095238093,
          0.3793103448275862,
          0,
          0.2975609756097561,
          1,
          0.696969696969697,
          0,
          0.1935483870967742,
          0.5,
          0.36363636363636365,
          0.3,
          0.3793103448275862,
          0,
          0.19230769230769232,
          0.06976744186046512,
          0.25203252032520324,
          0.3333333333333333,
          0.5,
          0.17857142857142858,
          0.4666666666666667,
          0.47058823529411764,
          0.3333333333333333,
          0.4444444444444444,
          0.14285714285714285,
          0.19230769230769232,
          0.37037037037037035,
          0.12727272727272726,
          0.3333333333333333,
          0.24444444444444444,
          0.1320754716981132,
          0.3333333333333333,
          0.1951219512195122,
          0.42857142857142855,
          0.6363636363636364,
          0.5384615384615384,
          0.24752475247524752,
          0.1794871794871795,
          0.23809523809523808,
          0.5,
          0.5942028985507246,
          0.5384615384615384,
          0.12195121951219512,
          0.25,
          0.6666666666666666,
          0.47368421052631576,
          0.20754716981132076,
          0.18518518518518517,
          0.5609756097560976,
          0.7,
          0.6944444444444444,
          0.4025974025974026,
          0.21428571428571427,
          0.14285714285714285,
          0.2765957446808511,
          0.625,
          0.2903225806451613,
          0.625,
          0.29411764705882354,
          0.30337078651685395,
          0.10714285714285714,
          0.26011560693641617,
          0.26666666666666666,
          0.2222222222222222,
          0.4634146341463415,
          0.16,
          0.49206349206349204,
          0.125,
          0.06896551724137931,
          0.09090909090909091,
          0,
          0.2631578947368421,
          0.1794871794871795,
          0.18292682926829268,
          0,
          0.29545454545454547,
          0.07692307692307693,
          0.5333333333333333,
          0.4,
          0.3333333333333333,
          0.3333333333333333,
          0.19298245614035087,
          0.36796536796536794,
          0.45454545454545453,
          0.2631578947368421,
          0.10344827586206896,
          0.15625,
          0.18,
          0.3684210526315789,
          0.27450980392156865,
          0.6585365853658537,
          0.4666666666666667,
          0.6521739130434783,
          0.152,
          0.42105263157894735,
          0.3191489361702128,
          0.5714285714285714,
          0.48148148148148145,
          0.125,
          0.24675324675324675,
          0.04,
          0.36363636363636365,
          0.4482758620689655,
          0.6153846153846154,
          0,
          0,
          0.32786885245901637,
          0.1518987341772152,
          0.09090909090909091,
          0.47368421052631576,
          0.11764705882352941,
          0.17575757575757575,
          0.6470588235294118,
          0.2571428571428571,
          0.46153846153846156,
          0.3684210526315789,
          0.16666666666666666,
          0.125,
          0.2631578947368421,
          0.3103448275862069,
          0.26881720430107525,
          0.48936170212765956,
          1,
          0.2571428571428571,
          0.13846153846153847,
          0.26153846153846155,
          0.16666666666666666,
          0.2765957446808511,
          0.2553191489361702,
          0.058823529411764705,
          0.4,
          1,
          0.29411764705882354,
          0.5,
          0.75,
          0.07142857142857142,
          0.15,
          0.06532663316582915,
          0.6129032258064516,
          0.3333333333333333,
          0.12280701754385964,
          0.4186046511627907,
          0.5145631067961165,
          0.35135135135135137,
          0.4065934065934066,
          0.29411764705882354,
          0.10344827586206896,
          0.2692307692307692,
          0.24752475247524752,
          0.2967032967032967,
          0.3248407643312102,
          0.25,
          0.5,
          0,
          0.24731182795698925,
          0.04,
          0.2689655172413793,
          0.12195121951219512,
          0.14516129032258066,
          0.16666666666666666,
          0.17647058823529413,
          0.5151515151515151,
          0.21481481481481482,
          0.6571428571428571,
          0.14285714285714285,
          0.3888888888888889,
          0.10204081632653061,
          0.38235294117647056,
          0.43859649122807015,
          0.4666666666666667,
          0.5833333333333334,
          0.34782608695652173,
          0.4482758620689655,
          0.22093023255813954,
          0.06896551724137931,
          0.23809523809523808,
          0.3181818181818182,
          0.16666666666666666,
          0.2222222222222222,
          0.5
         ],
         "xaxis": "x",
         "y": [
          0.71875,
          0.5581395348837209,
          0.6363636363636364,
          0.28205128205128205,
          0.1875,
          0,
          0.7368421052631579,
          0.14285714285714285,
          0.31210191082802546,
          0.3333333333333333,
          0.28,
          0.030303030303030304,
          0.375,
          0.05263157894736842,
          0.125,
          0,
          0.43333333333333335,
          0.6,
          0.6119402985074627,
          0.35294117647058826,
          0.4473684210526316,
          0.29411764705882354,
          0.7391304347826086,
          0,
          0.38095238095238093,
          0.15625,
          0.7446808510638298,
          0.6,
          0,
          0.47368421052631576,
          0,
          0.38461538461538464,
          0.4,
          0,
          0.17543859649122806,
          0.1111111111111111,
          0.2,
          0.2871287128712871,
          0.07692307692307693,
          0.25925925925925924,
          0.13793103448275862,
          0.5238095238095238,
          0.5348837209302325,
          0.957983193277311,
          0.6666666666666666,
          0.75,
          1,
          0.47619047619047616,
          0.7142857142857143,
          0.1111111111111111,
          0.7254901960784313,
          0.21052631578947367,
          0.3125,
          0,
          0.1,
          0.06896551724137931,
          0.38461538461538464,
          0.26666666666666666,
          0.5106382978723404,
          0.625,
          0.8367346938775511,
          0.26666666666666666,
          0.12903225806451613,
          0.125,
          0.2727272727272727,
          0.1111111111111111,
          0.7391304347826086,
          0.35294117647058826,
          0.2222222222222222,
          1,
          0.25925925925925924,
          0.25925925925925924,
          0.3,
          0.19230769230769232,
          0.30612244897959184,
          0.33636363636363636,
          0.68,
          0.625,
          0.3333333333333333,
          0.48936170212765956,
          0.0625,
          0.16666666666666666,
          0.5921052631578947,
          0.8846153846153846,
          0.07692307692307693,
          0.46875,
          0.9166666666666666,
          0.1875,
          0.7142857142857143,
          0.7777777777777778,
          0.14814814814814814,
          0.1864406779661017,
          0.14285714285714285,
          0.16129032258064516,
          0.75,
          0.875,
          0.2765957446808511,
          0.30434782608695654,
          0.423728813559322,
          0.5263157894736842,
          0.48717948717948717,
          0.7,
          1,
          0.125,
          0.5517241379310345,
          0.3409090909090909,
          0.4,
          0.14285714285714285,
          0.782608695652174,
          0.71875,
          0.4666666666666667,
          0.7272727272727273,
          0.3111111111111111,
          0.07407407407407407,
          0.15584415584415584,
          0.20689655172413793,
          0.45454545454545453,
          0.35555555555555557,
          0.13861386138613863,
          0.6461538461538462,
          0.4375,
          0.2153846153846154,
          0.22,
          0.5714285714285714,
          0.043478260869565216,
          0.2,
          0.36065573770491804,
          0.07407407407407407,
          0.4883720930232558,
          0.4523809523809524,
          1,
          0.3684210526315789,
          0.6666666666666666,
          0.43478260869565216,
          0.21311475409836064,
          0.6111111111111112,
          0.3,
          0.5866666666666667,
          0.5,
          0.3684210526315789,
          0.34782608695652173,
          0.6,
          0.25,
          0.25,
          0.5142857142857142,
          0.3333333333333333,
          0.3888888888888889,
          0.45454545454545453,
          0.06666666666666667,
          0.23529411764705882,
          0.2,
          0.3103448275862069,
          0.6470588235294118,
          0.625,
          0.2857142857142857,
          0.5263157894736842,
          0.3018867924528302,
          0.14150943396226415,
          0.07692307692307693,
          0.25225225225225223,
          0.1,
          0.3157894736842105,
          0.75,
          0.28888888888888886,
          0.25,
          0.625,
          0.7580645161290323,
          0.5769230769230769,
          0.18309859154929578,
          0.4827586206896552,
          0.23529411764705882,
          0.08333333333333333,
          0.20833333333333334,
          0.5454545454545454,
          0.5789473684210527,
          0.15,
          0.5,
          0.6153846153846154,
          0.8,
          0.125,
          0.6111111111111112,
          0.16666666666666666,
          0.3142857142857143,
          0.1891891891891892,
          0.8,
          0.5517241379310345,
          0.4864864864864865,
          0.34782608695652173,
          0.5,
          0.5961538461538461,
          0.49794238683127573,
          0.6,
          0.38461538461538464,
          0.4090909090909091,
          0.45161290322580644,
          0.3793103448275862,
          0.29523809523809524,
          1,
          0.7391304347826086,
          0,
          0.1935483870967742,
          0,
          0.8461538461538461,
          0.36363636363636365,
          0.4666666666666667,
          0.05555555555555555,
          0.19230769230769232,
          0.5,
          0.417910447761194,
          0.6190476190476191,
          0.6666666666666666,
          0.21176470588235294,
          0.5,
          0.36,
          0.5,
          0.7291666666666666,
          0.8571428571428571,
          0.14814814814814814,
          0.575,
          0.06896551724137931,
          0.3684210526315789,
          0.2916666666666667,
          0.25,
          0.4583333333333333,
          0.11904761904761904,
          0.6792452830188679,
          0.6363636363636364,
          0.875,
          0.2962962962962963,
          0.2,
          0.09090909090909091,
          0.6666666666666666,
          0.5,
          0.5714285714285714,
          0.19047619047619047,
          0.25,
          0.6666666666666666,
          0.9043478260869565,
          0.2222222222222222,
          0.21428571428571427,
          0.8260869565217391,
          0.8333333333333334,
          0.5681818181818182,
          0.5,
          0.48717948717948717,
          0.2631578947368421,
          0.4,
          0.75,
          0.25,
          0.6,
          0.45454545454545453,
          0.37,
          0.10714285714285714,
          0.3958333333333333,
          0.33766233766233766,
          0.2222222222222222,
          0.4722222222222222,
          0.16,
          0.4864864864864865,
          0.09375,
          0.06896551724137931,
          0.09090909090909091,
          0.08333333333333333,
          0.36363636363636365,
          0.6,
          0.2235294117647059,
          0,
          0.4444444444444444,
          0.06666666666666667,
          0.5333333333333333,
          0.42857142857142855,
          0.6944444444444444,
          0.9,
          0.3333333333333333,
          0.5460122699386503,
          0.6666666666666666,
          0.2,
          0.5641025641025641,
          0.4883720930232558,
          0.18,
          0.5833333333333334,
          0.22807017543859648,
          0.6818181818181818,
          0.6842105263157895,
          0.6923076923076923,
          0.3888888888888889,
          0.45454545454545453,
          0.5357142857142857,
          0.5714285714285714,
          0.47368421052631576,
          0.1111111111111111,
          0.4716981132075472,
          0,
          0.4782608695652174,
          0.4117647058823529,
          0.6956521739130435,
          0,
          0,
          0.5189873417721519,
          0.1518987341772152,
          0.16666666666666666,
          0.7272727272727273,
          0.11764705882352941,
          0.19767441860465115,
          0.8888888888888888,
          0.3888888888888889,
          0.46153846153846156,
          0.7818181818181819,
          0.3541666666666667,
          0.125,
          0.16,
          0.4864864864864865,
          0.2916666666666667,
          0.4642857142857143,
          1,
          0.2571428571428571,
          0.14705882352941177,
          0.34782608695652173,
          0.36363636363636365,
          0.32653061224489793,
          0.2553191489361702,
          0.11764705882352941,
          0.6097560975609756,
          0.8,
          0.3157894736842105,
          0.5,
          0.9090909090909091,
          0.2,
          0.15,
          0.47058823529411764,
          0.6470588235294118,
          0.41333333333333333,
          0.06666666666666667,
          0.5,
          0.7674418604651163,
          0.3953488372093023,
          0.576271186440678,
          0.29411764705882354,
          0.06666666666666667,
          0.20689655172413793,
          0.35185185185185186,
          0.2727272727272727,
          0.32407407407407407,
          0.2692307692307692,
          0.8,
          0.030303030303030304,
          0.3,
          0.07692307692307693,
          0.3116883116883117,
          0.4222222222222222,
          0.35555555555555557,
          0.16666666666666666,
          0,
          0.45,
          0.2318840579710145,
          0.717948717948718,
          0.25,
          0.4666666666666667,
          0.12,
          0.38235294117647056,
          0.5588235294117647,
          0.7272727272727273,
          0.5833333333333334,
          0.3829787234042553,
          0.7058823529411765,
          0.4803921568627451,
          0.06896551724137931,
          0.17647058823529413,
          0.5866666666666667,
          0.08333333333333333,
          0.2054794520547945,
          0.5172413793103449
         ],
         "yaxis": "y"
        }
       ],
       "layout": {
        "legend": {
         "tracegroupgap": 0
        },
        "margin": {
         "t": 60
        },
        "template": {
         "data": {
          "bar": [
           {
            "error_x": {
             "color": "#2a3f5f"
            },
            "error_y": {
             "color": "#2a3f5f"
            },
            "marker": {
             "line": {
              "color": "#E5ECF6",
              "width": 0.5
             },
             "pattern": {
              "fillmode": "overlay",
              "size": 10,
              "solidity": 0.2
             }
            },
            "type": "bar"
           }
          ],
          "barpolar": [
           {
            "marker": {
             "line": {
              "color": "#E5ECF6",
              "width": 0.5
             },
             "pattern": {
              "fillmode": "overlay",
              "size": 10,
              "solidity": 0.2
             }
            },
            "type": "barpolar"
           }
          ],
          "carpet": [
           {
            "aaxis": {
             "endlinecolor": "#2a3f5f",
             "gridcolor": "white",
             "linecolor": "white",
             "minorgridcolor": "white",
             "startlinecolor": "#2a3f5f"
            },
            "baxis": {
             "endlinecolor": "#2a3f5f",
             "gridcolor": "white",
             "linecolor": "white",
             "minorgridcolor": "white",
             "startlinecolor": "#2a3f5f"
            },
            "type": "carpet"
           }
          ],
          "choropleth": [
           {
            "colorbar": {
             "outlinewidth": 0,
             "ticks": ""
            },
            "type": "choropleth"
           }
          ],
          "contour": [
           {
            "colorbar": {
             "outlinewidth": 0,
             "ticks": ""
            },
            "colorscale": [
             [
              0,
              "#0d0887"
             ],
             [
              0.1111111111111111,
              "#46039f"
             ],
             [
              0.2222222222222222,
              "#7201a8"
             ],
             [
              0.3333333333333333,
              "#9c179e"
             ],
             [
              0.4444444444444444,
              "#bd3786"
             ],
             [
              0.5555555555555556,
              "#d8576b"
             ],
             [
              0.6666666666666666,
              "#ed7953"
             ],
             [
              0.7777777777777778,
              "#fb9f3a"
             ],
             [
              0.8888888888888888,
              "#fdca26"
             ],
             [
              1,
              "#f0f921"
             ]
            ],
            "type": "contour"
           }
          ],
          "contourcarpet": [
           {
            "colorbar": {
             "outlinewidth": 0,
             "ticks": ""
            },
            "type": "contourcarpet"
           }
          ],
          "heatmap": [
           {
            "colorbar": {
             "outlinewidth": 0,
             "ticks": ""
            },
            "colorscale": [
             [
              0,
              "#0d0887"
             ],
             [
              0.1111111111111111,
              "#46039f"
             ],
             [
              0.2222222222222222,
              "#7201a8"
             ],
             [
              0.3333333333333333,
              "#9c179e"
             ],
             [
              0.4444444444444444,
              "#bd3786"
             ],
             [
              0.5555555555555556,
              "#d8576b"
             ],
             [
              0.6666666666666666,
              "#ed7953"
             ],
             [
              0.7777777777777778,
              "#fb9f3a"
             ],
             [
              0.8888888888888888,
              "#fdca26"
             ],
             [
              1,
              "#f0f921"
             ]
            ],
            "type": "heatmap"
           }
          ],
          "heatmapgl": [
           {
            "colorbar": {
             "outlinewidth": 0,
             "ticks": ""
            },
            "colorscale": [
             [
              0,
              "#0d0887"
             ],
             [
              0.1111111111111111,
              "#46039f"
             ],
             [
              0.2222222222222222,
              "#7201a8"
             ],
             [
              0.3333333333333333,
              "#9c179e"
             ],
             [
              0.4444444444444444,
              "#bd3786"
             ],
             [
              0.5555555555555556,
              "#d8576b"
             ],
             [
              0.6666666666666666,
              "#ed7953"
             ],
             [
              0.7777777777777778,
              "#fb9f3a"
             ],
             [
              0.8888888888888888,
              "#fdca26"
             ],
             [
              1,
              "#f0f921"
             ]
            ],
            "type": "heatmapgl"
           }
          ],
          "histogram": [
           {
            "marker": {
             "pattern": {
              "fillmode": "overlay",
              "size": 10,
              "solidity": 0.2
             }
            },
            "type": "histogram"
           }
          ],
          "histogram2d": [
           {
            "colorbar": {
             "outlinewidth": 0,
             "ticks": ""
            },
            "colorscale": [
             [
              0,
              "#0d0887"
             ],
             [
              0.1111111111111111,
              "#46039f"
             ],
             [
              0.2222222222222222,
              "#7201a8"
             ],
             [
              0.3333333333333333,
              "#9c179e"
             ],
             [
              0.4444444444444444,
              "#bd3786"
             ],
             [
              0.5555555555555556,
              "#d8576b"
             ],
             [
              0.6666666666666666,
              "#ed7953"
             ],
             [
              0.7777777777777778,
              "#fb9f3a"
             ],
             [
              0.8888888888888888,
              "#fdca26"
             ],
             [
              1,
              "#f0f921"
             ]
            ],
            "type": "histogram2d"
           }
          ],
          "histogram2dcontour": [
           {
            "colorbar": {
             "outlinewidth": 0,
             "ticks": ""
            },
            "colorscale": [
             [
              0,
              "#0d0887"
             ],
             [
              0.1111111111111111,
              "#46039f"
             ],
             [
              0.2222222222222222,
              "#7201a8"
             ],
             [
              0.3333333333333333,
              "#9c179e"
             ],
             [
              0.4444444444444444,
              "#bd3786"
             ],
             [
              0.5555555555555556,
              "#d8576b"
             ],
             [
              0.6666666666666666,
              "#ed7953"
             ],
             [
              0.7777777777777778,
              "#fb9f3a"
             ],
             [
              0.8888888888888888,
              "#fdca26"
             ],
             [
              1,
              "#f0f921"
             ]
            ],
            "type": "histogram2dcontour"
           }
          ],
          "mesh3d": [
           {
            "colorbar": {
             "outlinewidth": 0,
             "ticks": ""
            },
            "type": "mesh3d"
           }
          ],
          "parcoords": [
           {
            "line": {
             "colorbar": {
              "outlinewidth": 0,
              "ticks": ""
             }
            },
            "type": "parcoords"
           }
          ],
          "pie": [
           {
            "automargin": true,
            "type": "pie"
           }
          ],
          "scatter": [
           {
            "fillpattern": {
             "fillmode": "overlay",
             "size": 10,
             "solidity": 0.2
            },
            "type": "scatter"
           }
          ],
          "scatter3d": [
           {
            "line": {
             "colorbar": {
              "outlinewidth": 0,
              "ticks": ""
             }
            },
            "marker": {
             "colorbar": {
              "outlinewidth": 0,
              "ticks": ""
             }
            },
            "type": "scatter3d"
           }
          ],
          "scattercarpet": [
           {
            "marker": {
             "colorbar": {
              "outlinewidth": 0,
              "ticks": ""
             }
            },
            "type": "scattercarpet"
           }
          ],
          "scattergeo": [
           {
            "marker": {
             "colorbar": {
              "outlinewidth": 0,
              "ticks": ""
             }
            },
            "type": "scattergeo"
           }
          ],
          "scattergl": [
           {
            "marker": {
             "colorbar": {
              "outlinewidth": 0,
              "ticks": ""
             }
            },
            "type": "scattergl"
           }
          ],
          "scattermapbox": [
           {
            "marker": {
             "colorbar": {
              "outlinewidth": 0,
              "ticks": ""
             }
            },
            "type": "scattermapbox"
           }
          ],
          "scatterpolar": [
           {
            "marker": {
             "colorbar": {
              "outlinewidth": 0,
              "ticks": ""
             }
            },
            "type": "scatterpolar"
           }
          ],
          "scatterpolargl": [
           {
            "marker": {
             "colorbar": {
              "outlinewidth": 0,
              "ticks": ""
             }
            },
            "type": "scatterpolargl"
           }
          ],
          "scatterternary": [
           {
            "marker": {
             "colorbar": {
              "outlinewidth": 0,
              "ticks": ""
             }
            },
            "type": "scatterternary"
           }
          ],
          "surface": [
           {
            "colorbar": {
             "outlinewidth": 0,
             "ticks": ""
            },
            "colorscale": [
             [
              0,
              "#0d0887"
             ],
             [
              0.1111111111111111,
              "#46039f"
             ],
             [
              0.2222222222222222,
              "#7201a8"
             ],
             [
              0.3333333333333333,
              "#9c179e"
             ],
             [
              0.4444444444444444,
              "#bd3786"
             ],
             [
              0.5555555555555556,
              "#d8576b"
             ],
             [
              0.6666666666666666,
              "#ed7953"
             ],
             [
              0.7777777777777778,
              "#fb9f3a"
             ],
             [
              0.8888888888888888,
              "#fdca26"
             ],
             [
              1,
              "#f0f921"
             ]
            ],
            "type": "surface"
           }
          ],
          "table": [
           {
            "cells": {
             "fill": {
              "color": "#EBF0F8"
             },
             "line": {
              "color": "white"
             }
            },
            "header": {
             "fill": {
              "color": "#C8D4E3"
             },
             "line": {
              "color": "white"
             }
            },
            "type": "table"
           }
          ]
         },
         "layout": {
          "annotationdefaults": {
           "arrowcolor": "#2a3f5f",
           "arrowhead": 0,
           "arrowwidth": 1
          },
          "autotypenumbers": "strict",
          "coloraxis": {
           "colorbar": {
            "outlinewidth": 0,
            "ticks": ""
           }
          },
          "colorscale": {
           "diverging": [
            [
             0,
             "#8e0152"
            ],
            [
             0.1,
             "#c51b7d"
            ],
            [
             0.2,
             "#de77ae"
            ],
            [
             0.3,
             "#f1b6da"
            ],
            [
             0.4,
             "#fde0ef"
            ],
            [
             0.5,
             "#f7f7f7"
            ],
            [
             0.6,
             "#e6f5d0"
            ],
            [
             0.7,
             "#b8e186"
            ],
            [
             0.8,
             "#7fbc41"
            ],
            [
             0.9,
             "#4d9221"
            ],
            [
             1,
             "#276419"
            ]
           ],
           "sequential": [
            [
             0,
             "#0d0887"
            ],
            [
             0.1111111111111111,
             "#46039f"
            ],
            [
             0.2222222222222222,
             "#7201a8"
            ],
            [
             0.3333333333333333,
             "#9c179e"
            ],
            [
             0.4444444444444444,
             "#bd3786"
            ],
            [
             0.5555555555555556,
             "#d8576b"
            ],
            [
             0.6666666666666666,
             "#ed7953"
            ],
            [
             0.7777777777777778,
             "#fb9f3a"
            ],
            [
             0.8888888888888888,
             "#fdca26"
            ],
            [
             1,
             "#f0f921"
            ]
           ],
           "sequentialminus": [
            [
             0,
             "#0d0887"
            ],
            [
             0.1111111111111111,
             "#46039f"
            ],
            [
             0.2222222222222222,
             "#7201a8"
            ],
            [
             0.3333333333333333,
             "#9c179e"
            ],
            [
             0.4444444444444444,
             "#bd3786"
            ],
            [
             0.5555555555555556,
             "#d8576b"
            ],
            [
             0.6666666666666666,
             "#ed7953"
            ],
            [
             0.7777777777777778,
             "#fb9f3a"
            ],
            [
             0.8888888888888888,
             "#fdca26"
            ],
            [
             1,
             "#f0f921"
            ]
           ]
          },
          "colorway": [
           "#636efa",
           "#EF553B",
           "#00cc96",
           "#ab63fa",
           "#FFA15A",
           "#19d3f3",
           "#FF6692",
           "#B6E880",
           "#FF97FF",
           "#FECB52"
          ],
          "font": {
           "color": "#2a3f5f"
          },
          "geo": {
           "bgcolor": "white",
           "lakecolor": "white",
           "landcolor": "#E5ECF6",
           "showlakes": true,
           "showland": true,
           "subunitcolor": "white"
          },
          "hoverlabel": {
           "align": "left"
          },
          "hovermode": "closest",
          "mapbox": {
           "style": "light"
          },
          "paper_bgcolor": "white",
          "plot_bgcolor": "#E5ECF6",
          "polar": {
           "angularaxis": {
            "gridcolor": "white",
            "linecolor": "white",
            "ticks": ""
           },
           "bgcolor": "#E5ECF6",
           "radialaxis": {
            "gridcolor": "white",
            "linecolor": "white",
            "ticks": ""
           }
          },
          "scene": {
           "xaxis": {
            "backgroundcolor": "#E5ECF6",
            "gridcolor": "white",
            "gridwidth": 2,
            "linecolor": "white",
            "showbackground": true,
            "ticks": "",
            "zerolinecolor": "white"
           },
           "yaxis": {
            "backgroundcolor": "#E5ECF6",
            "gridcolor": "white",
            "gridwidth": 2,
            "linecolor": "white",
            "showbackground": true,
            "ticks": "",
            "zerolinecolor": "white"
           },
           "zaxis": {
            "backgroundcolor": "#E5ECF6",
            "gridcolor": "white",
            "gridwidth": 2,
            "linecolor": "white",
            "showbackground": true,
            "ticks": "",
            "zerolinecolor": "white"
           }
          },
          "shapedefaults": {
           "line": {
            "color": "#2a3f5f"
           }
          },
          "ternary": {
           "aaxis": {
            "gridcolor": "white",
            "linecolor": "white",
            "ticks": ""
           },
           "baxis": {
            "gridcolor": "white",
            "linecolor": "white",
            "ticks": ""
           },
           "bgcolor": "#E5ECF6",
           "caxis": {
            "gridcolor": "white",
            "linecolor": "white",
            "ticks": ""
           }
          },
          "title": {
           "x": 0.05
          },
          "xaxis": {
           "automargin": true,
           "gridcolor": "white",
           "linecolor": "white",
           "ticks": "",
           "title": {
            "standoff": 15
           },
           "zerolinecolor": "white",
           "zerolinewidth": 2
          },
          "yaxis": {
           "automargin": true,
           "gridcolor": "white",
           "linecolor": "white",
           "ticks": "",
           "title": {
            "standoff": 15
           },
           "zerolinecolor": "white",
           "zerolinewidth": 2
          }
         }
        },
        "xaxis": {
         "anchor": "y",
         "domain": [
          0,
          1
         ],
         "title": {
          "text": "consensus_dist_gtr_mk"
         }
        },
        "yaxis": {
         "anchor": "x",
         "domain": [
          0,
          1
         ],
         "title": {
          "text": "eval_dist_gtr_mk"
         }
        }
       }
      },
      "text/html": [
       "<div>                            <div id=\"272c1a66-141e-45a1-9447-99ddf91171fd\" class=\"plotly-graph-div\" style=\"height:525px; width:100%;\"></div>            <script type=\"text/javascript\">                require([\"plotly\"], function(Plotly) {                    window.PLOTLYENV=window.PLOTLYENV || {};                                    if (document.getElementById(\"272c1a66-141e-45a1-9447-99ddf91171fd\")) {                    Plotly.newPlot(                        \"272c1a66-141e-45a1-9447-99ddf91171fd\",                        [{\"hovertemplate\":\"consensus_dist_gtr_mk=%{x}<br>eval_dist_gtr_mk=%{y}<extra></extra>\",\"legendgroup\":\"\",\"marker\":{\"color\":\"#636efa\",\"symbol\":\"circle\"},\"mode\":\"markers\",\"name\":\"\",\"orientation\":\"v\",\"showlegend\":false,\"x\":[0.6,0.3333333333333333,0.38461538461538464,0.3076923076923077,0.0,0.15789473684210525,0.5714285714285714,0.14285714285714285,0.16455696202531644,0.3333333333333333,0.28,0.0625,0.5,0.05263157894736842,0.0967741935483871,0.3333333333333333,0.37254901960784315,0.4,0.3333333333333333,0.31958762886597936,0.3333333333333333,0.29411764705882354,0.6666666666666666,0.0,0.2972972972972973,0.15625,0.13043478260869565,0.3333333333333333,0.034482758620689655,0.15151515151515152,0.4117647058823529,0.8,0.3333333333333333,0.0,0.2777777777777778,0.1111111111111111,0.10526315789473684,0.26153846153846155,0.07692307692307693,0.22580645161290322,0.20754716981132076,0.10344827586206896,0.6103896103896104,0.3333333333333333,0.5,0.6,1.0,0.47619047619047616,0.5873015873015873,0.1111111111111111,0.4782608695652174,0.1891891891891892,0.2413793103448276,0.08333333333333333,0.1,0.12727272727272726,0.3076923076923077,0.18518518518518517,0.3,0.42857142857142855,0.8,0.22727272727272727,0.11475409836065574,0.125,0.30612244897959184,0.1111111111111111,0.5555555555555556,0.42857142857142855,0.2222222222222222,0.625,0.18518518518518517,0.22448979591836735,0.23076923076923078,0.25,0.4805194805194805,0.2980769230769231,0.5384615384615384,0.5714285714285714,0.3333333333333333,0.4666666666666667,0.03125,0.0,0.5945945945945946,0.5384615384615384,0.30434782608695654,0.4576271186440678,0.0,0.1875,0.4782608695652174,0.7647058823529411,0.18518518518518517,0.1864406779661017,0.16666666666666666,0.23333333333333334,0.7142857142857143,0.7894736842105263,0.2765957446808511,0.31868131868131866,0.30864197530864196,0.3142857142857143,0.21428571428571427,0.7777777777777778,0.3333333333333333,0.25,0.37777777777777777,0.26436781609195403,0.2972972972972973,0.14285714285714285,0.6,0.5272727272727272,0.3333333333333333,0.6363636363636364,0.2558139534883721,0.07407407407407407,0.14285714285714285,0.2857142857142857,0.14285714285714285,0.23870967741935484,0.1188118811881188,0.4945054945054945,0.28,0.2125984251968504,0.22,0.43478260869565216,0.09523809523809523,0.1111111111111111,0.36134453781512604,0.07407407407407407,0.15625,0.4,0.7142857142857143,0.2777777777777778,0.6666666666666666,0.3333333333333333,0.2037037037037037,0.6666666666666666,0.25,0.3181818181818182,0.08333333333333333,0.29411764705882354,0.3170731707317073,0.3333333333333333,0.0967741935483871,0.0967741935483871,0.5,0.21212121212121213,0.2222222222222222,0.3,0.13793103448275862,0.22448979591836735,0.4146341463414634,0.2920353982300885,0.6122448979591837,0.6923076923076923,0.26595744680851063,0.37142857142857144,0.29523809523809524,0.10476190476190476,0.30434782608695654,0.2651162790697674,0.1,0.3684210526315789,0.23076923076923078,0.2926829268292683,0.14285714285714285,0.5172413793103449,0.4666666666666667,0.2916666666666667,0.10144927536231885,0.5862068965517241,0.6551724137931034,0.08333333333333333,0.4782608695652174,0.5238095238095238,0.3939393939393939,0.15,0.3333333333333333,0.5454545454545454,0.7931034482758621,0.125,0.6363636363636364,0.1497005988023952,0.373134328358209,0.1111111111111111,0.23809523809523808,0.37777777777777777,0.373134328358209,0.26153846153846155,0.3,0.5698924731182796,0.19745222929936307,0.6,0.3333333333333333,0.38095238095238093,0.3793103448275862,0.0,0.2975609756097561,1.0,0.696969696969697,0.0,0.1935483870967742,0.5,0.36363636363636365,0.3,0.3793103448275862,0.0,0.19230769230769232,0.06976744186046512,0.25203252032520324,0.3333333333333333,0.5,0.17857142857142858,0.4666666666666667,0.47058823529411764,0.3333333333333333,0.4444444444444444,0.14285714285714285,0.19230769230769232,0.37037037037037035,0.12727272727272726,0.3333333333333333,0.24444444444444444,0.1320754716981132,0.3333333333333333,0.1951219512195122,0.42857142857142855,0.6363636363636364,0.5384615384615384,0.24752475247524752,0.1794871794871795,0.23809523809523808,0.5,0.5942028985507246,0.5384615384615384,0.12195121951219512,0.25,0.6666666666666666,0.47368421052631576,0.20754716981132076,0.18518518518518517,0.5609756097560976,0.7,0.6944444444444444,0.4025974025974026,0.21428571428571427,0.14285714285714285,0.2765957446808511,0.625,0.2903225806451613,0.625,0.29411764705882354,0.30337078651685395,0.10714285714285714,0.26011560693641617,0.26666666666666666,0.2222222222222222,0.4634146341463415,0.16,0.49206349206349204,0.125,0.06896551724137931,0.09090909090909091,0.0,0.2631578947368421,0.1794871794871795,0.18292682926829268,0.0,0.29545454545454547,0.07692307692307693,0.5333333333333333,0.4,0.3333333333333333,0.3333333333333333,0.19298245614035087,0.36796536796536794,0.45454545454545453,0.2631578947368421,0.10344827586206896,0.15625,0.18,0.3684210526315789,0.27450980392156865,0.6585365853658537,0.4666666666666667,0.6521739130434783,0.152,0.42105263157894735,0.3191489361702128,0.5714285714285714,0.48148148148148145,0.125,0.24675324675324675,0.04,0.36363636363636365,0.4482758620689655,0.6153846153846154,0.0,0.0,0.32786885245901637,0.1518987341772152,0.09090909090909091,0.47368421052631576,0.11764705882352941,0.17575757575757575,0.6470588235294118,0.2571428571428571,0.46153846153846156,0.3684210526315789,0.16666666666666666,0.125,0.2631578947368421,0.3103448275862069,0.26881720430107525,0.48936170212765956,1.0,0.2571428571428571,0.13846153846153847,0.26153846153846155,0.16666666666666666,0.2765957446808511,0.2553191489361702,0.058823529411764705,0.4,1.0,0.29411764705882354,0.5,0.75,0.07142857142857142,0.15,0.06532663316582915,0.6129032258064516,0.3333333333333333,0.12280701754385964,0.4186046511627907,0.5145631067961165,0.35135135135135137,0.4065934065934066,0.29411764705882354,0.10344827586206896,0.2692307692307692,0.24752475247524752,0.2967032967032967,0.3248407643312102,0.25,0.5,0.0,0.24731182795698925,0.04,0.2689655172413793,0.12195121951219512,0.14516129032258066,0.16666666666666666,0.17647058823529413,0.5151515151515151,0.21481481481481482,0.6571428571428571,0.14285714285714285,0.3888888888888889,0.10204081632653061,0.38235294117647056,0.43859649122807015,0.4666666666666667,0.5833333333333334,0.34782608695652173,0.4482758620689655,0.22093023255813954,0.06896551724137931,0.23809523809523808,0.3181818181818182,0.16666666666666666,0.2222222222222222,0.5],\"xaxis\":\"x\",\"y\":[0.71875,0.5581395348837209,0.6363636363636364,0.28205128205128205,0.1875,0.0,0.7368421052631579,0.14285714285714285,0.31210191082802546,0.3333333333333333,0.28,0.030303030303030304,0.375,0.05263157894736842,0.125,0.0,0.43333333333333335,0.6,0.6119402985074627,0.35294117647058826,0.4473684210526316,0.29411764705882354,0.7391304347826086,0.0,0.38095238095238093,0.15625,0.7446808510638298,0.6,0.0,0.47368421052631576,0.0,0.38461538461538464,0.4,0.0,0.17543859649122806,0.1111111111111111,0.2,0.2871287128712871,0.07692307692307693,0.25925925925925924,0.13793103448275862,0.5238095238095238,0.5348837209302325,0.957983193277311,0.6666666666666666,0.75,1.0,0.47619047619047616,0.7142857142857143,0.1111111111111111,0.7254901960784313,0.21052631578947367,0.3125,0.0,0.1,0.06896551724137931,0.38461538461538464,0.26666666666666666,0.5106382978723404,0.625,0.8367346938775511,0.26666666666666666,0.12903225806451613,0.125,0.2727272727272727,0.1111111111111111,0.7391304347826086,0.35294117647058826,0.2222222222222222,1.0,0.25925925925925924,0.25925925925925924,0.3,0.19230769230769232,0.30612244897959184,0.33636363636363636,0.68,0.625,0.3333333333333333,0.48936170212765956,0.0625,0.16666666666666666,0.5921052631578947,0.8846153846153846,0.07692307692307693,0.46875,0.9166666666666666,0.1875,0.7142857142857143,0.7777777777777778,0.14814814814814814,0.1864406779661017,0.14285714285714285,0.16129032258064516,0.75,0.875,0.2765957446808511,0.30434782608695654,0.423728813559322,0.5263157894736842,0.48717948717948717,0.7,1.0,0.125,0.5517241379310345,0.3409090909090909,0.4,0.14285714285714285,0.782608695652174,0.71875,0.4666666666666667,0.7272727272727273,0.3111111111111111,0.07407407407407407,0.15584415584415584,0.20689655172413793,0.45454545454545453,0.35555555555555557,0.13861386138613863,0.6461538461538462,0.4375,0.2153846153846154,0.22,0.5714285714285714,0.043478260869565216,0.2,0.36065573770491804,0.07407407407407407,0.4883720930232558,0.4523809523809524,1.0,0.3684210526315789,0.6666666666666666,0.43478260869565216,0.21311475409836064,0.6111111111111112,0.3,0.5866666666666667,0.5,0.3684210526315789,0.34782608695652173,0.6,0.25,0.25,0.5142857142857142,0.3333333333333333,0.3888888888888889,0.45454545454545453,0.06666666666666667,0.23529411764705882,0.2,0.3103448275862069,0.6470588235294118,0.625,0.2857142857142857,0.5263157894736842,0.3018867924528302,0.14150943396226415,0.07692307692307693,0.25225225225225223,0.1,0.3157894736842105,0.75,0.28888888888888886,0.25,0.625,0.7580645161290323,0.5769230769230769,0.18309859154929578,0.4827586206896552,0.23529411764705882,0.08333333333333333,0.20833333333333334,0.5454545454545454,0.5789473684210527,0.15,0.5,0.6153846153846154,0.8,0.125,0.6111111111111112,0.16666666666666666,0.3142857142857143,0.1891891891891892,0.8,0.5517241379310345,0.4864864864864865,0.34782608695652173,0.5,0.5961538461538461,0.49794238683127573,0.6,0.38461538461538464,0.4090909090909091,0.45161290322580644,0.3793103448275862,0.29523809523809524,1.0,0.7391304347826086,0.0,0.1935483870967742,0.0,0.8461538461538461,0.36363636363636365,0.4666666666666667,0.05555555555555555,0.19230769230769232,0.5,0.417910447761194,0.6190476190476191,0.6666666666666666,0.21176470588235294,0.5,0.36,0.5,0.7291666666666666,0.8571428571428571,0.14814814814814814,0.575,0.06896551724137931,0.3684210526315789,0.2916666666666667,0.25,0.4583333333333333,0.11904761904761904,0.6792452830188679,0.6363636363636364,0.875,0.2962962962962963,0.2,0.09090909090909091,0.6666666666666666,0.5,0.5714285714285714,0.19047619047619047,0.25,0.6666666666666666,0.9043478260869565,0.2222222222222222,0.21428571428571427,0.8260869565217391,0.8333333333333334,0.5681818181818182,0.5,0.48717948717948717,0.2631578947368421,0.4,0.75,0.25,0.6,0.45454545454545453,0.37,0.10714285714285714,0.3958333333333333,0.33766233766233766,0.2222222222222222,0.4722222222222222,0.16,0.4864864864864865,0.09375,0.06896551724137931,0.09090909090909091,0.08333333333333333,0.36363636363636365,0.6,0.2235294117647059,0.0,0.4444444444444444,0.06666666666666667,0.5333333333333333,0.42857142857142855,0.6944444444444444,0.9,0.3333333333333333,0.5460122699386503,0.6666666666666666,0.2,0.5641025641025641,0.4883720930232558,0.18,0.5833333333333334,0.22807017543859648,0.6818181818181818,0.6842105263157895,0.6923076923076923,0.3888888888888889,0.45454545454545453,0.5357142857142857,0.5714285714285714,0.47368421052631576,0.1111111111111111,0.4716981132075472,0.0,0.4782608695652174,0.4117647058823529,0.6956521739130435,0.0,0.0,0.5189873417721519,0.1518987341772152,0.16666666666666666,0.7272727272727273,0.11764705882352941,0.19767441860465115,0.8888888888888888,0.3888888888888889,0.46153846153846156,0.7818181818181819,0.3541666666666667,0.125,0.16,0.4864864864864865,0.2916666666666667,0.4642857142857143,1.0,0.2571428571428571,0.14705882352941177,0.34782608695652173,0.36363636363636365,0.32653061224489793,0.2553191489361702,0.11764705882352941,0.6097560975609756,0.8,0.3157894736842105,0.5,0.9090909090909091,0.2,0.15,0.47058823529411764,0.6470588235294118,0.41333333333333333,0.06666666666666667,0.5,0.7674418604651163,0.3953488372093023,0.576271186440678,0.29411764705882354,0.06666666666666667,0.20689655172413793,0.35185185185185186,0.2727272727272727,0.32407407407407407,0.2692307692307692,0.8,0.030303030303030304,0.3,0.07692307692307693,0.3116883116883117,0.4222222222222222,0.35555555555555557,0.16666666666666666,0.0,0.45,0.2318840579710145,0.717948717948718,0.25,0.4666666666666667,0.12,0.38235294117647056,0.5588235294117647,0.7272727272727273,0.5833333333333334,0.3829787234042553,0.7058823529411765,0.4803921568627451,0.06896551724137931,0.17647058823529413,0.5866666666666667,0.08333333333333333,0.2054794520547945,0.5172413793103449],\"yaxis\":\"y\",\"type\":\"scatter\"}],                        {\"template\":{\"data\":{\"histogram2dcontour\":[{\"type\":\"histogram2dcontour\",\"colorbar\":{\"outlinewidth\":0,\"ticks\":\"\"},\"colorscale\":[[0.0,\"#0d0887\"],[0.1111111111111111,\"#46039f\"],[0.2222222222222222,\"#7201a8\"],[0.3333333333333333,\"#9c179e\"],[0.4444444444444444,\"#bd3786\"],[0.5555555555555556,\"#d8576b\"],[0.6666666666666666,\"#ed7953\"],[0.7777777777777778,\"#fb9f3a\"],[0.8888888888888888,\"#fdca26\"],[1.0,\"#f0f921\"]]}],\"choropleth\":[{\"type\":\"choropleth\",\"colorbar\":{\"outlinewidth\":0,\"ticks\":\"\"}}],\"histogram2d\":[{\"type\":\"histogram2d\",\"colorbar\":{\"outlinewidth\":0,\"ticks\":\"\"},\"colorscale\":[[0.0,\"#0d0887\"],[0.1111111111111111,\"#46039f\"],[0.2222222222222222,\"#7201a8\"],[0.3333333333333333,\"#9c179e\"],[0.4444444444444444,\"#bd3786\"],[0.5555555555555556,\"#d8576b\"],[0.6666666666666666,\"#ed7953\"],[0.7777777777777778,\"#fb9f3a\"],[0.8888888888888888,\"#fdca26\"],[1.0,\"#f0f921\"]]}],\"heatmap\":[{\"type\":\"heatmap\",\"colorbar\":{\"outlinewidth\":0,\"ticks\":\"\"},\"colorscale\":[[0.0,\"#0d0887\"],[0.1111111111111111,\"#46039f\"],[0.2222222222222222,\"#7201a8\"],[0.3333333333333333,\"#9c179e\"],[0.4444444444444444,\"#bd3786\"],[0.5555555555555556,\"#d8576b\"],[0.6666666666666666,\"#ed7953\"],[0.7777777777777778,\"#fb9f3a\"],[0.8888888888888888,\"#fdca26\"],[1.0,\"#f0f921\"]]}],\"heatmapgl\":[{\"type\":\"heatmapgl\",\"colorbar\":{\"outlinewidth\":0,\"ticks\":\"\"},\"colorscale\":[[0.0,\"#0d0887\"],[0.1111111111111111,\"#46039f\"],[0.2222222222222222,\"#7201a8\"],[0.3333333333333333,\"#9c179e\"],[0.4444444444444444,\"#bd3786\"],[0.5555555555555556,\"#d8576b\"],[0.6666666666666666,\"#ed7953\"],[0.7777777777777778,\"#fb9f3a\"],[0.8888888888888888,\"#fdca26\"],[1.0,\"#f0f921\"]]}],\"contourcarpet\":[{\"type\":\"contourcarpet\",\"colorbar\":{\"outlinewidth\":0,\"ticks\":\"\"}}],\"contour\":[{\"type\":\"contour\",\"colorbar\":{\"outlinewidth\":0,\"ticks\":\"\"},\"colorscale\":[[0.0,\"#0d0887\"],[0.1111111111111111,\"#46039f\"],[0.2222222222222222,\"#7201a8\"],[0.3333333333333333,\"#9c179e\"],[0.4444444444444444,\"#bd3786\"],[0.5555555555555556,\"#d8576b\"],[0.6666666666666666,\"#ed7953\"],[0.7777777777777778,\"#fb9f3a\"],[0.8888888888888888,\"#fdca26\"],[1.0,\"#f0f921\"]]}],\"surface\":[{\"type\":\"surface\",\"colorbar\":{\"outlinewidth\":0,\"ticks\":\"\"},\"colorscale\":[[0.0,\"#0d0887\"],[0.1111111111111111,\"#46039f\"],[0.2222222222222222,\"#7201a8\"],[0.3333333333333333,\"#9c179e\"],[0.4444444444444444,\"#bd3786\"],[0.5555555555555556,\"#d8576b\"],[0.6666666666666666,\"#ed7953\"],[0.7777777777777778,\"#fb9f3a\"],[0.8888888888888888,\"#fdca26\"],[1.0,\"#f0f921\"]]}],\"mesh3d\":[{\"type\":\"mesh3d\",\"colorbar\":{\"outlinewidth\":0,\"ticks\":\"\"}}],\"scatter\":[{\"fillpattern\":{\"fillmode\":\"overlay\",\"size\":10,\"solidity\":0.2},\"type\":\"scatter\"}],\"parcoords\":[{\"type\":\"parcoords\",\"line\":{\"colorbar\":{\"outlinewidth\":0,\"ticks\":\"\"}}}],\"scatterpolargl\":[{\"type\":\"scatterpolargl\",\"marker\":{\"colorbar\":{\"outlinewidth\":0,\"ticks\":\"\"}}}],\"bar\":[{\"error_x\":{\"color\":\"#2a3f5f\"},\"error_y\":{\"color\":\"#2a3f5f\"},\"marker\":{\"line\":{\"color\":\"#E5ECF6\",\"width\":0.5},\"pattern\":{\"fillmode\":\"overlay\",\"size\":10,\"solidity\":0.2}},\"type\":\"bar\"}],\"scattergeo\":[{\"type\":\"scattergeo\",\"marker\":{\"colorbar\":{\"outlinewidth\":0,\"ticks\":\"\"}}}],\"scatterpolar\":[{\"type\":\"scatterpolar\",\"marker\":{\"colorbar\":{\"outlinewidth\":0,\"ticks\":\"\"}}}],\"histogram\":[{\"marker\":{\"pattern\":{\"fillmode\":\"overlay\",\"size\":10,\"solidity\":0.2}},\"type\":\"histogram\"}],\"scattergl\":[{\"type\":\"scattergl\",\"marker\":{\"colorbar\":{\"outlinewidth\":0,\"ticks\":\"\"}}}],\"scatter3d\":[{\"type\":\"scatter3d\",\"line\":{\"colorbar\":{\"outlinewidth\":0,\"ticks\":\"\"}},\"marker\":{\"colorbar\":{\"outlinewidth\":0,\"ticks\":\"\"}}}],\"scattermapbox\":[{\"type\":\"scattermapbox\",\"marker\":{\"colorbar\":{\"outlinewidth\":0,\"ticks\":\"\"}}}],\"scatterternary\":[{\"type\":\"scatterternary\",\"marker\":{\"colorbar\":{\"outlinewidth\":0,\"ticks\":\"\"}}}],\"scattercarpet\":[{\"type\":\"scattercarpet\",\"marker\":{\"colorbar\":{\"outlinewidth\":0,\"ticks\":\"\"}}}],\"carpet\":[{\"aaxis\":{\"endlinecolor\":\"#2a3f5f\",\"gridcolor\":\"white\",\"linecolor\":\"white\",\"minorgridcolor\":\"white\",\"startlinecolor\":\"#2a3f5f\"},\"baxis\":{\"endlinecolor\":\"#2a3f5f\",\"gridcolor\":\"white\",\"linecolor\":\"white\",\"minorgridcolor\":\"white\",\"startlinecolor\":\"#2a3f5f\"},\"type\":\"carpet\"}],\"table\":[{\"cells\":{\"fill\":{\"color\":\"#EBF0F8\"},\"line\":{\"color\":\"white\"}},\"header\":{\"fill\":{\"color\":\"#C8D4E3\"},\"line\":{\"color\":\"white\"}},\"type\":\"table\"}],\"barpolar\":[{\"marker\":{\"line\":{\"color\":\"#E5ECF6\",\"width\":0.5},\"pattern\":{\"fillmode\":\"overlay\",\"size\":10,\"solidity\":0.2}},\"type\":\"barpolar\"}],\"pie\":[{\"automargin\":true,\"type\":\"pie\"}]},\"layout\":{\"autotypenumbers\":\"strict\",\"colorway\":[\"#636efa\",\"#EF553B\",\"#00cc96\",\"#ab63fa\",\"#FFA15A\",\"#19d3f3\",\"#FF6692\",\"#B6E880\",\"#FF97FF\",\"#FECB52\"],\"font\":{\"color\":\"#2a3f5f\"},\"hovermode\":\"closest\",\"hoverlabel\":{\"align\":\"left\"},\"paper_bgcolor\":\"white\",\"plot_bgcolor\":\"#E5ECF6\",\"polar\":{\"bgcolor\":\"#E5ECF6\",\"angularaxis\":{\"gridcolor\":\"white\",\"linecolor\":\"white\",\"ticks\":\"\"},\"radialaxis\":{\"gridcolor\":\"white\",\"linecolor\":\"white\",\"ticks\":\"\"}},\"ternary\":{\"bgcolor\":\"#E5ECF6\",\"aaxis\":{\"gridcolor\":\"white\",\"linecolor\":\"white\",\"ticks\":\"\"},\"baxis\":{\"gridcolor\":\"white\",\"linecolor\":\"white\",\"ticks\":\"\"},\"caxis\":{\"gridcolor\":\"white\",\"linecolor\":\"white\",\"ticks\":\"\"}},\"coloraxis\":{\"colorbar\":{\"outlinewidth\":0,\"ticks\":\"\"}},\"colorscale\":{\"sequential\":[[0.0,\"#0d0887\"],[0.1111111111111111,\"#46039f\"],[0.2222222222222222,\"#7201a8\"],[0.3333333333333333,\"#9c179e\"],[0.4444444444444444,\"#bd3786\"],[0.5555555555555556,\"#d8576b\"],[0.6666666666666666,\"#ed7953\"],[0.7777777777777778,\"#fb9f3a\"],[0.8888888888888888,\"#fdca26\"],[1.0,\"#f0f921\"]],\"sequentialminus\":[[0.0,\"#0d0887\"],[0.1111111111111111,\"#46039f\"],[0.2222222222222222,\"#7201a8\"],[0.3333333333333333,\"#9c179e\"],[0.4444444444444444,\"#bd3786\"],[0.5555555555555556,\"#d8576b\"],[0.6666666666666666,\"#ed7953\"],[0.7777777777777778,\"#fb9f3a\"],[0.8888888888888888,\"#fdca26\"],[1.0,\"#f0f921\"]],\"diverging\":[[0,\"#8e0152\"],[0.1,\"#c51b7d\"],[0.2,\"#de77ae\"],[0.3,\"#f1b6da\"],[0.4,\"#fde0ef\"],[0.5,\"#f7f7f7\"],[0.6,\"#e6f5d0\"],[0.7,\"#b8e186\"],[0.8,\"#7fbc41\"],[0.9,\"#4d9221\"],[1,\"#276419\"]]},\"xaxis\":{\"gridcolor\":\"white\",\"linecolor\":\"white\",\"ticks\":\"\",\"title\":{\"standoff\":15},\"zerolinecolor\":\"white\",\"automargin\":true,\"zerolinewidth\":2},\"yaxis\":{\"gridcolor\":\"white\",\"linecolor\":\"white\",\"ticks\":\"\",\"title\":{\"standoff\":15},\"zerolinecolor\":\"white\",\"automargin\":true,\"zerolinewidth\":2},\"scene\":{\"xaxis\":{\"backgroundcolor\":\"#E5ECF6\",\"gridcolor\":\"white\",\"linecolor\":\"white\",\"showbackground\":true,\"ticks\":\"\",\"zerolinecolor\":\"white\",\"gridwidth\":2},\"yaxis\":{\"backgroundcolor\":\"#E5ECF6\",\"gridcolor\":\"white\",\"linecolor\":\"white\",\"showbackground\":true,\"ticks\":\"\",\"zerolinecolor\":\"white\",\"gridwidth\":2},\"zaxis\":{\"backgroundcolor\":\"#E5ECF6\",\"gridcolor\":\"white\",\"linecolor\":\"white\",\"showbackground\":true,\"ticks\":\"\",\"zerolinecolor\":\"white\",\"gridwidth\":2}},\"shapedefaults\":{\"line\":{\"color\":\"#2a3f5f\"}},\"annotationdefaults\":{\"arrowcolor\":\"#2a3f5f\",\"arrowhead\":0,\"arrowwidth\":1},\"geo\":{\"bgcolor\":\"white\",\"landcolor\":\"#E5ECF6\",\"subunitcolor\":\"white\",\"showland\":true,\"showlakes\":true,\"lakecolor\":\"white\"},\"title\":{\"x\":0.05},\"mapbox\":{\"style\":\"light\"}}},\"xaxis\":{\"anchor\":\"y\",\"domain\":[0.0,1.0],\"title\":{\"text\":\"consensus_dist_gtr_mk\"}},\"yaxis\":{\"anchor\":\"x\",\"domain\":[0.0,1.0],\"title\":{\"text\":\"eval_dist_gtr_mk\"}},\"legend\":{\"tracegroupgap\":0},\"margin\":{\"t\":60}},                        {\"responsive\": true}                    ).then(function(){\n",
       "                            \n",
       "var gd = document.getElementById('272c1a66-141e-45a1-9447-99ddf91171fd');\n",
       "var x = new MutationObserver(function (mutations, observer) {{\n",
       "        var display = window.getComputedStyle(gd).display;\n",
       "        if (!display || display === 'none') {{\n",
       "            console.log([gd, 'removed!']);\n",
       "            Plotly.purge(gd);\n",
       "            observer.disconnect();\n",
       "        }}\n",
       "}});\n",
       "\n",
       "// Listen for the removal of the full notebook cells\n",
       "var notebookContainer = gd.closest('#notebook-container');\n",
       "if (notebookContainer) {{\n",
       "    x.observe(notebookContainer, {childList: true});\n",
       "}}\n",
       "\n",
       "// Listen for the clearing of the current output cell\n",
       "var outputEl = gd.closest('.output');\n",
       "if (outputEl) {{\n",
       "    x.observe(outputEl, {childList: true});\n",
       "}}\n",
       "\n",
       "                        })                };                });            </script>        </div>"
      ]
     },
     "metadata": {},
     "output_type": "display_data"
    }
   ],
   "source": [
    "fig = px.scatter(df, x=\"consensus_dist_bin_gtr\", y=\"eval_dist_bin_gtr\")\n",
    "fig.show()\n",
    "fig = px.scatter(df, x=\"consensus_dist_bin_mk\", y=\"eval_dist_bin_mk\")\n",
    "fig.show()\n",
    "fig = px.scatter(df, x=\"consensus_dist_gtr_mk\", y=\"eval_dist_gtr_mk\")\n",
    "fig.show()"
   ]
  },
  {
   "cell_type": "code",
   "execution_count": 38,
   "id": "1a1f1237",
   "metadata": {},
   "outputs": [
    {
     "data": {
      "application/vnd.plotly.v1+json": {
       "config": {
        "plotlyServerURL": "https://plot.ly"
       },
       "data": [
        {
         "showlegend": true,
         "type": "histogram",
         "x": [
          0.6,
          0.323943661971831,
          0.49295774647887325,
          0.20512820512820512,
          0,
          0.2631578947368421,
          0.4666666666666667,
          0.14285714285714285,
          0.18072289156626506,
          0.25,
          0.08,
          0.03125,
          0.5,
          0,
          0.0625,
          0.3333333333333333,
          0.2916666666666667,
          0.4,
          0.3181818181818182,
          0.43434343434343436,
          0.2923076923076923,
          0.14705882352941177,
          0.5833333333333334,
          0,
          0.2972972972972973,
          0.125,
          0.16666666666666666,
          0.3442622950819672,
          0.14285714285714285,
          0.11764705882352941,
          0.5,
          0.8,
          0.25,
          0,
          0.375,
          0.037037037037037035,
          0.05263157894736842,
          0.23076923076923078,
          0.038461538461538464,
          0.2978723404255319,
          0.1320754716981132,
          0.06666666666666667,
          0.6103896103896104,
          0.1,
          0.5,
          0.3333333333333333,
          1,
          0.42857142857142855,
          0.5555555555555556,
          0,
          0.4336283185840708,
          0.24324324324324326,
          0.10344827586206896,
          0.16666666666666666,
          0.03333333333333333,
          0.12727272727272726,
          0.3076923076923077,
          0.07142857142857142,
          0.38095238095238093,
          0.5714285714285714,
          0.8441558441558441,
          0.18181818181818182,
          0.14754098360655737,
          0,
          0.36,
          0,
          0.5263157894736842,
          0.41935483870967744,
          0.2222222222222222,
          0.7647058823529411,
          0.14814814814814814,
          0.3877551020408163,
          0.3404255319148936,
          0.10526315789473684,
          0.3972602739726027,
          0.2676056338028169,
          0.48717948717948717,
          0.42857142857142855,
          0.25,
          0.4666666666666667,
          0.03125,
          0.09090909090909091,
          0.5970149253731343,
          0.6470588235294118,
          0.08333333333333333,
          0.3220338983050847,
          1,
          0,
          0.4166666666666667,
          0.7647058823529411,
          0.18518518518518517,
          0.11864406779661017,
          0.16666666666666666,
          0.23333333333333334,
          0.7073170731707317,
          0.7894736842105263,
          0.2826086956521739,
          0.31868131868131866,
          0.31645569620253167,
          0.3142857142857143,
          0.2786885245901639,
          0.7777777777777778,
          0.3333333333333333,
          0.3125,
          0.34782608695652173,
          0.3176470588235294,
          0.3157894736842105,
          0.12195121951219512,
          0.6,
          0.6,
          0.3333333333333333,
          0.6363636363636364,
          0.32558139534883723,
          0.037037037037037035,
          0.1038961038961039,
          0.32142857142857145,
          0.28205128205128205,
          0.25,
          0.10891089108910891,
          0.48936170212765956,
          0.25,
          0.15,
          0.24,
          0.6,
          0.09523809523809523,
          0.1111111111111111,
          0.31666666666666665,
          0.037037037037037035,
          0.323943661971831,
          0.4,
          0.7142857142857143,
          0.2777777777777778,
          0.6666666666666666,
          0.11392405063291139,
          0.2743362831858407,
          0.6666666666666666,
          0.2,
          0.38,
          0.15384615384615385,
          0.29411764705882354,
          0.36585365853658536,
          0.4666666666666667,
          0.0967741935483871,
          0.0967741935483871,
          0.49019607843137253,
          0.2653061224489796,
          0.3888888888888889,
          0.3333333333333333,
          0.08771929824561403,
          0.30612244897959184,
          0.4146341463414634,
          0.22123893805309736,
          0.6808510638297872,
          0.6923076923076923,
          0.2275132275132275,
          0.25,
          0.17307692307692307,
          0.13333333333333333,
          0.08333333333333333,
          0.21658986175115208,
          0.1,
          0.21052631578947367,
          0.38461538461538464,
          0.38636363636363635,
          0.14285714285714285,
          0.4838709677419355,
          0.5428571428571428,
          0.2916666666666667,
          0.07246376811594203,
          0.5384615384615384,
          0.5294117647058824,
          0.08333333333333333,
          0.4090909090909091,
          0.4,
          0.43661971830985913,
          0.125,
          0,
          0.5,
          0.6923076923076923,
          0,
          0.16666666666666666,
          0.13095238095238096,
          0.13432835820895522,
          0.1232876712328767,
          0.058823529411764705,
          0.34782608695652173,
          0.36231884057971014,
          0.25,
          0.391304347826087,
          0.6483516483516484,
          0.19384615384615383,
          0.7142857142857143,
          0.15789473684210525,
          0.3333333333333333,
          0.5849056603773585,
          0.05,
          0.2815533980582524,
          1,
          0.5625,
          0,
          0.03225806451612903,
          0.3333333333333333,
          0.36363636363636365,
          0.1,
          0.28,
          0.05555555555555555,
          0.3333333333333333,
          0.3488372093023256,
          0.22580645161290322,
          0.19480519480519481,
          1,
          0.16470588235294117,
          0.6,
          0.4444444444444444,
          0.42857142857142855,
          0.35135135135135137,
          0.42857142857142855,
          0.11538461538461539,
          0.3333333333333333,
          0.12727272727272726,
          0.2222222222222222,
          0.19148936170212766,
          0.1320754716981132,
          0.36363636363636365,
          0.06172839506172839,
          0.4,
          0.5454545454545454,
          0.5714285714285714,
          0.28,
          0.1794871794871795,
          0.14285714285714285,
          0.5757575757575758,
          0.52,
          0.16666666666666666,
          0.07317073170731707,
          0.6,
          0.4444444444444444,
          0.28,
          0.20754716981132076,
          0.037037037037037035,
          0.813953488372093,
          0.7,
          0.5180722891566265,
          0.40816326530612246,
          0.2786885245901639,
          0.11764705882352941,
          0.3333333333333333,
          0.5625,
          0.14285714285714285,
          0.6470588235294118,
          0.37142857142857144,
          0.20454545454545456,
          0.07142857142857142,
          0.2247191011235955,
          0.16556291390728478,
          0.18518518518518517,
          0.35,
          0.14666666666666667,
          0.49206349206349204,
          0.09375,
          0,
          0,
          0,
          0.4444444444444444,
          0.23076923076923078,
          0.17073170731707318,
          0.14285714285714285,
          0.329608938547486,
          0.10344827586206896,
          0.5333333333333333,
          0.3333333333333333,
          0.30666666666666664,
          0.3170731707317073,
          0.14285714285714285,
          0.3474576271186441,
          0.2,
          0.15789473684210525,
          0.07142857142857142,
          0.323943661971831,
          0.14,
          0.4,
          0.23076923076923078,
          0.5609756097560976,
          0.41935483870967744,
          0.6521739130434783,
          0.13178294573643412,
          0.3684210526315789,
          0.25,
          0.5714285714285714,
          0.5,
          0,
          0.24675324675324675,
          0.04,
          0.391304347826087,
          0.4482758620689655,
          0.625,
          0,
          0,
          0.359375,
          0.13924050632911392,
          0.16666666666666666,
          0.5789473684210527,
          0.11764705882352941,
          0.1686746987951807,
          0.7333333333333333,
          0.4857142857142857,
          0.46153846153846156,
          0.21951219512195122,
          0.25842696629213485,
          0.03125,
          0.3333333333333333,
          0.288135593220339,
          0.32608695652173914,
          0.5319148936170213,
          1,
          0.21212121212121213,
          0.1076923076923077,
          0.25,
          0.28125,
          0.3111111111111111,
          0.2127659574468085,
          0,
          0.36231884057971014,
          0.3333333333333333,
          0.23529411764705882,
          0.5,
          0.75,
          0.07142857142857142,
          0.1,
          0.06,
          0.6190476190476191,
          0.2830188679245283,
          0.22807017543859648,
          0.28735632183908044,
          0.4915254237288136,
          0.47368421052631576,
          0.34065934065934067,
          0.14705882352941177,
          0.10344827586206896,
          0.10344827586206896,
          0.3069306930693069,
          0.3118279569892473,
          0.31210191082802546,
          0.4166666666666667,
          0.75,
          0,
          0.3473684210526316,
          0.07692307692307693,
          0.30666666666666664,
          0.15873015873015872,
          0.14960629921259844,
          0.16666666666666666,
          0.125,
          0.42857142857142855,
          0.19696969696969696,
          0.6578947368421053,
          0.14285714285714285,
          0.4594594594594595,
          0.14285714285714285,
          0.38235294117647056,
          0.4838709677419355,
          0.7333333333333333,
          0.5833333333333334,
          0.29545454545454547,
          0.4482758620689655,
          0.21686746987951808,
          0.06896551724137931,
          0.15625,
          0.38,
          0.1388888888888889,
          0.22758620689655173,
          0.4909090909090909
         ],
         "xaxis": "x",
         "yaxis": "y"
        },
        {
         "showlegend": true,
         "type": "histogram",
         "x": [
          0.09375,
          0.22077922077922077,
          0.21621621621621623,
          0.20512820512820512,
          0,
          0.4,
          0.35294117647058826,
          0,
          0.08333333333333333,
          0.125,
          0.28,
          0.030303030303030304,
          0.125,
          0.05263157894736842,
          0.03225806451612903,
          0,
          0.13725490196078433,
          0,
          0.045454545454545456,
          0.2708333333333333,
          0.2463768115942029,
          0.23529411764705882,
          0.16666666666666666,
          0,
          0.3333333333333333,
          0.03125,
          0.2,
          0.014492753623188406,
          0.10344827586206896,
          0.030303030303030304,
          0.06666666666666667,
          0.15384615384615385,
          0.42857142857142855,
          0,
          0.21818181818181817,
          0.1111111111111111,
          0.15,
          0.06930693069306931,
          0.07692307692307693,
          0.07368421052631578,
          0.13793103448275862,
          0.10344827586206896,
          0.11627906976744186,
          0.29411764705882354,
          0,
          0.25,
          1,
          0.09523809523809523,
          0.08571428571428572,
          0.1111111111111111,
          0.18518518518518517,
          0.05263157894736842,
          0.2,
          0.08333333333333333,
          0.1,
          0,
          0,
          0.10344827586206896,
          0.13636363636363635,
          0.35714285714285715,
          0.3150684931506849,
          0.06666666666666667,
          0.22580645161290322,
          0.125,
          0.14285714285714285,
          0.1111111111111111,
          0.2,
          0.16129032258064516,
          0.1111111111111111,
          0.6,
          0.037037037037037035,
          0.25925925925925924,
          0.19540229885057472,
          0.15789473684210525,
          0.15217391304347827,
          0.12077294685990338,
          0.08,
          0.5,
          0.125,
          0.16666666666666666,
          0,
          0.09090909090909091,
          0.34328358208955223,
          0.3333333333333333,
          0.36,
          0.3125,
          0,
          0.1875,
          0.1111111111111111,
          0,
          0.14814814814814814,
          0.1694915254237288,
          0,
          0,
          0.10638297872340426,
          0.08333333333333333,
          0.06521739130434782,
          0.17391304347826086,
          0.21951219512195122,
          0.1111111111111111,
          0.07246376811594203,
          0,
          0,
          0.0625,
          0.3,
          0.06976744186046512,
          0.02564102564102564,
          0.12195121951219512,
          0.2631578947368421,
          0.38235294117647056,
          0,
          0.045454545454545456,
          0.4418604651162791,
          0.07407407407407407,
          0.06493506493506493,
          0.2413793103448276,
          0.3170731707317073,
          0.1656441717791411,
          0.009900990099009901,
          0.0684931506849315,
          0.4482758620689655,
          0.09401709401709402,
          0.02,
          0.28125,
          0.17391304347826086,
          0,
          0.04132231404958678,
          0.07407407407407407,
          0.17333333333333334,
          0.07142857142857142,
          0.25,
          0,
          0,
          0.25301204819277107,
          0.1826086956521739,
          0.05555555555555555,
          0.05,
          0.22916666666666666,
          0.07692307692307693,
          0.05263157894736842,
          0.2608695652173913,
          0.3333333333333333,
          0.125,
          0.125,
          0.1076923076923077,
          0.1650485436893204,
          0.16666666666666666,
          0.047619047619047616,
          0.11864406779661017,
          0.11764705882352941,
          0,
          0.08620689655172414,
          0.32608695652173914,
          0,
          0.06666666666666667,
          0.42857142857142855,
          0.1619047619047619,
          0.0660377358490566,
          0.36,
          0.10091743119266056,
          0,
          0.21052631578947367,
          0.5,
          0.16666666666666666,
          0.25,
          0.13333333333333333,
          0.4883720930232558,
          0.07692307692307693,
          0.028169014084507043,
          0.5625,
          0.3793103448275862,
          0,
          0.17391304347826086,
          0.14285714285714285,
          0.21739130434782608,
          0.025,
          0.3333333333333333,
          0.16666666666666666,
          0.2727272727272727,
          0.125,
          0.5384615384615384,
          0.017964071856287425,
          0.30303030303030304,
          0.0136986301369863,
          0.2,
          0.3,
          0.030303030303030304,
          0.125,
          0.19047619047619047,
          0.16,
          0.20743034055727555,
          0.2857142857142857,
          0.4166666666666667,
          0.13636363636363635,
          0.3584905660377358,
          0.05,
          0.1724137931034483,
          0.3333333333333333,
          0.15555555555555556,
          0,
          0.16129032258064516,
          0.3333333333333333,
          0.07692307692307693,
          0.2727272727272727,
          0.23076923076923078,
          0.05555555555555555,
          0.2549019607843137,
          0.4090909090909091,
          0.06766917293233082,
          0.18421052631578946,
          0.5,
          0.023809523809523808,
          0.125,
          0.10526315789473684,
          0.14285714285714285,
          0.22580645161290322,
          0.2857142857142857,
          0.14814814814814814,
          0.08771929824561403,
          0,
          0.2631578947368421,
          0.2608695652173913,
          0,
          0.23404255319148937,
          0.13253012048192772,
          0.08333333333333333,
          0.18181818181818182,
          0.07692307692307693,
          0.27102803738317754,
          0,
          0.09090909090909091,
          0.3103448275862069,
          0.2571428571428571,
          0.45454545454545453,
          0.19047619047619047,
          0.3333333333333333,
          0.2222222222222222,
          0.4166666666666667,
          0,
          0.14285714285714285,
          0.65,
          0,
          0.22077922077922077,
          0.25773195876288657,
          0.07246376811594203,
          0.13513513513513514,
          0.06666666666666667,
          0.05,
          0.3333333333333333,
          0.05263157894736842,
          0.11627906976744186,
          0.1368421052631579,
          0.07142857142857142,
          0.12432432432432433,
          0.2080536912751678,
          0.1111111111111111,
          0.2549019607843137,
          0.09333333333333334,
          0,
          0.09375,
          0.06896551724137931,
          0.09090909090909091,
          0,
          0.14285714285714285,
          0.1,
          0.011764705882352941,
          0.14285714285714285,
          0.14285714285714285,
          0.1111111111111111,
          0.3333333333333333,
          0.13924050632911392,
          0.2,
          0.21052631578947367,
          0.12280701754385964,
          0.16317991631799164,
          0.2727272727272727,
          0.1,
          0.03225806451612903,
          0.17333333333333334,
          0.06,
          0.2,
          0.17647058823529413,
          0.13636363636363635,
          0.40540540540540543,
          0.07692307692307693,
          0.08064516129032258,
          0.09090909090909091,
          0.2830188679245283,
          0,
          0.1111111111111111,
          0.125,
          0.1891891891891892,
          0,
          0.18181818181818182,
          0.11764705882352941,
          0.25,
          0,
          0,
          0.11940298507462686,
          0.08860759493670886,
          0.09090909090909091,
          0.18181818181818182,
          0,
          0.04093567251461988,
          0.5,
          0.3333333333333333,
          0.23076923076923078,
          0.3488372093023256,
          0.12087912087912088,
          0.09375,
          0.4418604651162791,
          0.04918032786885246,
          0.12359550561797752,
          0.14285714285714285,
          0,
          0.06060606060606061,
          0.17647058823529413,
          0.125,
          0.2903225806451613,
          0.15217391304347827,
          0.10638297872340426,
          0.058823529411764705,
          0.0410958904109589,
          0.8,
          0.16666666666666666,
          0.5,
          0,
          0.06666666666666667,
          0.15,
          0.03482587064676617,
          0.16417910447761194,
          0.23809523809523808,
          0.2,
          0.1724137931034483,
          0.32231404958677684,
          0.16216216216216217,
          0.3333333333333333,
          0.23529411764705882,
          0.1724137931034483,
          0.15384615384615385,
          0.18518518518518517,
          0.16666666666666666,
          0.08641975308641975,
          0.2692307692307692,
          0.4,
          0,
          0.1956521739130435,
          0.04,
          0.10344827586206896,
          0.07317073170731707,
          0.05785123966942149,
          0,
          0.29411764705882354,
          0.1111111111111111,
          0.1259259259259259,
          0.25,
          0.2727272727272727,
          0.11627906976744186,
          0.08,
          0.3235294117647059,
          0.20634920634920634,
          0.2,
          0,
          0.3333333333333333,
          0,
          0.1839080459770115,
          0,
          0.1044776119402985,
          0.22916666666666666,
          0.1111111111111111,
          0.034482758620689655,
          0.018867924528301886
         ],
         "xaxis": "x",
         "yaxis": "y"
        },
        {
         "showlegend": true,
         "type": "histogram",
         "x": [
          0.6,
          0.3333333333333333,
          0.38461538461538464,
          0.3076923076923077,
          0,
          0.15789473684210525,
          0.5714285714285714,
          0.14285714285714285,
          0.16455696202531644,
          0.3333333333333333,
          0.28,
          0.0625,
          0.5,
          0.05263157894736842,
          0.0967741935483871,
          0.3333333333333333,
          0.37254901960784315,
          0.4,
          0.3333333333333333,
          0.31958762886597936,
          0.3333333333333333,
          0.29411764705882354,
          0.6666666666666666,
          0,
          0.2972972972972973,
          0.15625,
          0.13043478260869565,
          0.3333333333333333,
          0.034482758620689655,
          0.15151515151515152,
          0.4117647058823529,
          0.8,
          0.3333333333333333,
          0,
          0.2777777777777778,
          0.1111111111111111,
          0.10526315789473684,
          0.26153846153846155,
          0.07692307692307693,
          0.22580645161290322,
          0.20754716981132076,
          0.10344827586206896,
          0.6103896103896104,
          0.3333333333333333,
          0.5,
          0.6,
          1,
          0.47619047619047616,
          0.5873015873015873,
          0.1111111111111111,
          0.4782608695652174,
          0.1891891891891892,
          0.2413793103448276,
          0.08333333333333333,
          0.1,
          0.12727272727272726,
          0.3076923076923077,
          0.18518518518518517,
          0.3,
          0.42857142857142855,
          0.8,
          0.22727272727272727,
          0.11475409836065574,
          0.125,
          0.30612244897959184,
          0.1111111111111111,
          0.5555555555555556,
          0.42857142857142855,
          0.2222222222222222,
          0.625,
          0.18518518518518517,
          0.22448979591836735,
          0.23076923076923078,
          0.25,
          0.4805194805194805,
          0.2980769230769231,
          0.5384615384615384,
          0.5714285714285714,
          0.3333333333333333,
          0.4666666666666667,
          0.03125,
          0,
          0.5945945945945946,
          0.5384615384615384,
          0.30434782608695654,
          0.4576271186440678,
          0,
          0.1875,
          0.4782608695652174,
          0.7647058823529411,
          0.18518518518518517,
          0.1864406779661017,
          0.16666666666666666,
          0.23333333333333334,
          0.7142857142857143,
          0.7894736842105263,
          0.2765957446808511,
          0.31868131868131866,
          0.30864197530864196,
          0.3142857142857143,
          0.21428571428571427,
          0.7777777777777778,
          0.3333333333333333,
          0.25,
          0.37777777777777777,
          0.26436781609195403,
          0.2972972972972973,
          0.14285714285714285,
          0.6,
          0.5272727272727272,
          0.3333333333333333,
          0.6363636363636364,
          0.2558139534883721,
          0.07407407407407407,
          0.14285714285714285,
          0.2857142857142857,
          0.14285714285714285,
          0.23870967741935484,
          0.1188118811881188,
          0.4945054945054945,
          0.28,
          0.2125984251968504,
          0.22,
          0.43478260869565216,
          0.09523809523809523,
          0.1111111111111111,
          0.36134453781512604,
          0.07407407407407407,
          0.15625,
          0.4,
          0.7142857142857143,
          0.2777777777777778,
          0.6666666666666666,
          0.3333333333333333,
          0.2037037037037037,
          0.6666666666666666,
          0.25,
          0.3181818181818182,
          0.08333333333333333,
          0.29411764705882354,
          0.3170731707317073,
          0.3333333333333333,
          0.0967741935483871,
          0.0967741935483871,
          0.5,
          0.21212121212121213,
          0.2222222222222222,
          0.3,
          0.13793103448275862,
          0.22448979591836735,
          0.4146341463414634,
          0.2920353982300885,
          0.6122448979591837,
          0.6923076923076923,
          0.26595744680851063,
          0.37142857142857144,
          0.29523809523809524,
          0.10476190476190476,
          0.30434782608695654,
          0.2651162790697674,
          0.1,
          0.3684210526315789,
          0.23076923076923078,
          0.2926829268292683,
          0.14285714285714285,
          0.5172413793103449,
          0.4666666666666667,
          0.2916666666666667,
          0.10144927536231885,
          0.5862068965517241,
          0.6551724137931034,
          0.08333333333333333,
          0.4782608695652174,
          0.5238095238095238,
          0.3939393939393939,
          0.15,
          0.3333333333333333,
          0.5454545454545454,
          0.7931034482758621,
          0.125,
          0.6363636363636364,
          0.1497005988023952,
          0.373134328358209,
          0.1111111111111111,
          0.23809523809523808,
          0.37777777777777777,
          0.373134328358209,
          0.26153846153846155,
          0.3,
          0.5698924731182796,
          0.19745222929936307,
          0.6,
          0.3333333333333333,
          0.38095238095238093,
          0.3793103448275862,
          0,
          0.2975609756097561,
          1,
          0.696969696969697,
          0,
          0.1935483870967742,
          0.5,
          0.36363636363636365,
          0.3,
          0.3793103448275862,
          0,
          0.19230769230769232,
          0.06976744186046512,
          0.25203252032520324,
          0.3333333333333333,
          0.5,
          0.17857142857142858,
          0.4666666666666667,
          0.47058823529411764,
          0.3333333333333333,
          0.4444444444444444,
          0.14285714285714285,
          0.19230769230769232,
          0.37037037037037035,
          0.12727272727272726,
          0.3333333333333333,
          0.24444444444444444,
          0.1320754716981132,
          0.3333333333333333,
          0.1951219512195122,
          0.42857142857142855,
          0.6363636363636364,
          0.5384615384615384,
          0.24752475247524752,
          0.1794871794871795,
          0.23809523809523808,
          0.5,
          0.5942028985507246,
          0.5384615384615384,
          0.12195121951219512,
          0.25,
          0.6666666666666666,
          0.47368421052631576,
          0.20754716981132076,
          0.18518518518518517,
          0.5609756097560976,
          0.7,
          0.6944444444444444,
          0.4025974025974026,
          0.21428571428571427,
          0.14285714285714285,
          0.2765957446808511,
          0.625,
          0.2903225806451613,
          0.625,
          0.29411764705882354,
          0.30337078651685395,
          0.10714285714285714,
          0.26011560693641617,
          0.26666666666666666,
          0.2222222222222222,
          0.4634146341463415,
          0.16,
          0.49206349206349204,
          0.125,
          0.06896551724137931,
          0.09090909090909091,
          0,
          0.2631578947368421,
          0.1794871794871795,
          0.18292682926829268,
          0,
          0.29545454545454547,
          0.07692307692307693,
          0.5333333333333333,
          0.4,
          0.3333333333333333,
          0.3333333333333333,
          0.19298245614035087,
          0.36796536796536794,
          0.45454545454545453,
          0.2631578947368421,
          0.10344827586206896,
          0.15625,
          0.18,
          0.3684210526315789,
          0.27450980392156865,
          0.6585365853658537,
          0.4666666666666667,
          0.6521739130434783,
          0.152,
          0.42105263157894735,
          0.3191489361702128,
          0.5714285714285714,
          0.48148148148148145,
          0.125,
          0.24675324675324675,
          0.04,
          0.36363636363636365,
          0.4482758620689655,
          0.6153846153846154,
          0,
          0,
          0.32786885245901637,
          0.1518987341772152,
          0.09090909090909091,
          0.47368421052631576,
          0.11764705882352941,
          0.17575757575757575,
          0.6470588235294118,
          0.2571428571428571,
          0.46153846153846156,
          0.3684210526315789,
          0.16666666666666666,
          0.125,
          0.2631578947368421,
          0.3103448275862069,
          0.26881720430107525,
          0.48936170212765956,
          1,
          0.2571428571428571,
          0.13846153846153847,
          0.26153846153846155,
          0.16666666666666666,
          0.2765957446808511,
          0.2553191489361702,
          0.058823529411764705,
          0.4,
          1,
          0.29411764705882354,
          0.5,
          0.75,
          0.07142857142857142,
          0.15,
          0.06532663316582915,
          0.6129032258064516,
          0.3333333333333333,
          0.12280701754385964,
          0.4186046511627907,
          0.5145631067961165,
          0.35135135135135137,
          0.4065934065934066,
          0.29411764705882354,
          0.10344827586206896,
          0.2692307692307692,
          0.24752475247524752,
          0.2967032967032967,
          0.3248407643312102,
          0.25,
          0.5,
          0,
          0.24731182795698925,
          0.04,
          0.2689655172413793,
          0.12195121951219512,
          0.14516129032258066,
          0.16666666666666666,
          0.17647058823529413,
          0.5151515151515151,
          0.21481481481481482,
          0.6571428571428571,
          0.14285714285714285,
          0.3888888888888889,
          0.10204081632653061,
          0.38235294117647056,
          0.43859649122807015,
          0.4666666666666667,
          0.5833333333333334,
          0.34782608695652173,
          0.4482758620689655,
          0.22093023255813954,
          0.06896551724137931,
          0.23809523809523808,
          0.3181818181818182,
          0.16666666666666666,
          0.2222222222222222,
          0.5
         ],
         "xaxis": "x",
         "yaxis": "y"
        }
       ],
       "layout": {
        "annotations": [
         {
          "font": {
           "size": 16
          },
          "showarrow": false,
          "text": "RF Distances between eval trees",
          "x": 0.5,
          "xanchor": "center",
          "xref": "paper",
          "y": 1,
          "yanchor": "bottom",
          "yref": "paper"
         }
        ],
        "height": 900,
        "template": {
         "data": {
          "bar": [
           {
            "error_x": {
             "color": "#2a3f5f"
            },
            "error_y": {
             "color": "#2a3f5f"
            },
            "marker": {
             "line": {
              "color": "white",
              "width": 0.5
             },
             "pattern": {
              "fillmode": "overlay",
              "size": 10,
              "solidity": 0.2
             }
            },
            "type": "bar"
           }
          ],
          "barpolar": [
           {
            "marker": {
             "line": {
              "color": "white",
              "width": 0.5
             },
             "pattern": {
              "fillmode": "overlay",
              "size": 10,
              "solidity": 0.2
             }
            },
            "type": "barpolar"
           }
          ],
          "carpet": [
           {
            "aaxis": {
             "endlinecolor": "#2a3f5f",
             "gridcolor": "#C8D4E3",
             "linecolor": "#C8D4E3",
             "minorgridcolor": "#C8D4E3",
             "startlinecolor": "#2a3f5f"
            },
            "baxis": {
             "endlinecolor": "#2a3f5f",
             "gridcolor": "#C8D4E3",
             "linecolor": "#C8D4E3",
             "minorgridcolor": "#C8D4E3",
             "startlinecolor": "#2a3f5f"
            },
            "type": "carpet"
           }
          ],
          "choropleth": [
           {
            "colorbar": {
             "outlinewidth": 0,
             "ticks": ""
            },
            "type": "choropleth"
           }
          ],
          "contour": [
           {
            "colorbar": {
             "outlinewidth": 0,
             "ticks": ""
            },
            "colorscale": [
             [
              0,
              "#0d0887"
             ],
             [
              0.1111111111111111,
              "#46039f"
             ],
             [
              0.2222222222222222,
              "#7201a8"
             ],
             [
              0.3333333333333333,
              "#9c179e"
             ],
             [
              0.4444444444444444,
              "#bd3786"
             ],
             [
              0.5555555555555556,
              "#d8576b"
             ],
             [
              0.6666666666666666,
              "#ed7953"
             ],
             [
              0.7777777777777778,
              "#fb9f3a"
             ],
             [
              0.8888888888888888,
              "#fdca26"
             ],
             [
              1,
              "#f0f921"
             ]
            ],
            "type": "contour"
           }
          ],
          "contourcarpet": [
           {
            "colorbar": {
             "outlinewidth": 0,
             "ticks": ""
            },
            "type": "contourcarpet"
           }
          ],
          "heatmap": [
           {
            "colorbar": {
             "outlinewidth": 0,
             "ticks": ""
            },
            "colorscale": [
             [
              0,
              "#0d0887"
             ],
             [
              0.1111111111111111,
              "#46039f"
             ],
             [
              0.2222222222222222,
              "#7201a8"
             ],
             [
              0.3333333333333333,
              "#9c179e"
             ],
             [
              0.4444444444444444,
              "#bd3786"
             ],
             [
              0.5555555555555556,
              "#d8576b"
             ],
             [
              0.6666666666666666,
              "#ed7953"
             ],
             [
              0.7777777777777778,
              "#fb9f3a"
             ],
             [
              0.8888888888888888,
              "#fdca26"
             ],
             [
              1,
              "#f0f921"
             ]
            ],
            "type": "heatmap"
           }
          ],
          "heatmapgl": [
           {
            "colorbar": {
             "outlinewidth": 0,
             "ticks": ""
            },
            "colorscale": [
             [
              0,
              "#0d0887"
             ],
             [
              0.1111111111111111,
              "#46039f"
             ],
             [
              0.2222222222222222,
              "#7201a8"
             ],
             [
              0.3333333333333333,
              "#9c179e"
             ],
             [
              0.4444444444444444,
              "#bd3786"
             ],
             [
              0.5555555555555556,
              "#d8576b"
             ],
             [
              0.6666666666666666,
              "#ed7953"
             ],
             [
              0.7777777777777778,
              "#fb9f3a"
             ],
             [
              0.8888888888888888,
              "#fdca26"
             ],
             [
              1,
              "#f0f921"
             ]
            ],
            "type": "heatmapgl"
           }
          ],
          "histogram": [
           {
            "marker": {
             "pattern": {
              "fillmode": "overlay",
              "size": 10,
              "solidity": 0.2
             }
            },
            "type": "histogram"
           }
          ],
          "histogram2d": [
           {
            "colorbar": {
             "outlinewidth": 0,
             "ticks": ""
            },
            "colorscale": [
             [
              0,
              "#0d0887"
             ],
             [
              0.1111111111111111,
              "#46039f"
             ],
             [
              0.2222222222222222,
              "#7201a8"
             ],
             [
              0.3333333333333333,
              "#9c179e"
             ],
             [
              0.4444444444444444,
              "#bd3786"
             ],
             [
              0.5555555555555556,
              "#d8576b"
             ],
             [
              0.6666666666666666,
              "#ed7953"
             ],
             [
              0.7777777777777778,
              "#fb9f3a"
             ],
             [
              0.8888888888888888,
              "#fdca26"
             ],
             [
              1,
              "#f0f921"
             ]
            ],
            "type": "histogram2d"
           }
          ],
          "histogram2dcontour": [
           {
            "colorbar": {
             "outlinewidth": 0,
             "ticks": ""
            },
            "colorscale": [
             [
              0,
              "#0d0887"
             ],
             [
              0.1111111111111111,
              "#46039f"
             ],
             [
              0.2222222222222222,
              "#7201a8"
             ],
             [
              0.3333333333333333,
              "#9c179e"
             ],
             [
              0.4444444444444444,
              "#bd3786"
             ],
             [
              0.5555555555555556,
              "#d8576b"
             ],
             [
              0.6666666666666666,
              "#ed7953"
             ],
             [
              0.7777777777777778,
              "#fb9f3a"
             ],
             [
              0.8888888888888888,
              "#fdca26"
             ],
             [
              1,
              "#f0f921"
             ]
            ],
            "type": "histogram2dcontour"
           }
          ],
          "mesh3d": [
           {
            "colorbar": {
             "outlinewidth": 0,
             "ticks": ""
            },
            "type": "mesh3d"
           }
          ],
          "parcoords": [
           {
            "line": {
             "colorbar": {
              "outlinewidth": 0,
              "ticks": ""
             }
            },
            "type": "parcoords"
           }
          ],
          "pie": [
           {
            "automargin": true,
            "type": "pie"
           }
          ],
          "scatter": [
           {
            "fillpattern": {
             "fillmode": "overlay",
             "size": 10,
             "solidity": 0.2
            },
            "type": "scatter"
           }
          ],
          "scatter3d": [
           {
            "line": {
             "colorbar": {
              "outlinewidth": 0,
              "ticks": ""
             }
            },
            "marker": {
             "colorbar": {
              "outlinewidth": 0,
              "ticks": ""
             }
            },
            "type": "scatter3d"
           }
          ],
          "scattercarpet": [
           {
            "marker": {
             "colorbar": {
              "outlinewidth": 0,
              "ticks": ""
             }
            },
            "type": "scattercarpet"
           }
          ],
          "scattergeo": [
           {
            "marker": {
             "colorbar": {
              "outlinewidth": 0,
              "ticks": ""
             }
            },
            "type": "scattergeo"
           }
          ],
          "scattergl": [
           {
            "marker": {
             "colorbar": {
              "outlinewidth": 0,
              "ticks": ""
             }
            },
            "type": "scattergl"
           }
          ],
          "scattermapbox": [
           {
            "marker": {
             "colorbar": {
              "outlinewidth": 0,
              "ticks": ""
             }
            },
            "type": "scattermapbox"
           }
          ],
          "scatterpolar": [
           {
            "marker": {
             "colorbar": {
              "outlinewidth": 0,
              "ticks": ""
             }
            },
            "type": "scatterpolar"
           }
          ],
          "scatterpolargl": [
           {
            "marker": {
             "colorbar": {
              "outlinewidth": 0,
              "ticks": ""
             }
            },
            "type": "scatterpolargl"
           }
          ],
          "scatterternary": [
           {
            "marker": {
             "colorbar": {
              "outlinewidth": 0,
              "ticks": ""
             }
            },
            "type": "scatterternary"
           }
          ],
          "surface": [
           {
            "colorbar": {
             "outlinewidth": 0,
             "ticks": ""
            },
            "colorscale": [
             [
              0,
              "#0d0887"
             ],
             [
              0.1111111111111111,
              "#46039f"
             ],
             [
              0.2222222222222222,
              "#7201a8"
             ],
             [
              0.3333333333333333,
              "#9c179e"
             ],
             [
              0.4444444444444444,
              "#bd3786"
             ],
             [
              0.5555555555555556,
              "#d8576b"
             ],
             [
              0.6666666666666666,
              "#ed7953"
             ],
             [
              0.7777777777777778,
              "#fb9f3a"
             ],
             [
              0.8888888888888888,
              "#fdca26"
             ],
             [
              1,
              "#f0f921"
             ]
            ],
            "type": "surface"
           }
          ],
          "table": [
           {
            "cells": {
             "fill": {
              "color": "#EBF0F8"
             },
             "line": {
              "color": "white"
             }
            },
            "header": {
             "fill": {
              "color": "#C8D4E3"
             },
             "line": {
              "color": "white"
             }
            },
            "type": "table"
           }
          ]
         },
         "layout": {
          "annotationdefaults": {
           "arrowcolor": "#2a3f5f",
           "arrowhead": 0,
           "arrowwidth": 1
          },
          "autotypenumbers": "strict",
          "coloraxis": {
           "colorbar": {
            "outlinewidth": 0,
            "ticks": ""
           }
          },
          "colorscale": {
           "diverging": [
            [
             0,
             "#8e0152"
            ],
            [
             0.1,
             "#c51b7d"
            ],
            [
             0.2,
             "#de77ae"
            ],
            [
             0.3,
             "#f1b6da"
            ],
            [
             0.4,
             "#fde0ef"
            ],
            [
             0.5,
             "#f7f7f7"
            ],
            [
             0.6,
             "#e6f5d0"
            ],
            [
             0.7,
             "#b8e186"
            ],
            [
             0.8,
             "#7fbc41"
            ],
            [
             0.9,
             "#4d9221"
            ],
            [
             1,
             "#276419"
            ]
           ],
           "sequential": [
            [
             0,
             "#0d0887"
            ],
            [
             0.1111111111111111,
             "#46039f"
            ],
            [
             0.2222222222222222,
             "#7201a8"
            ],
            [
             0.3333333333333333,
             "#9c179e"
            ],
            [
             0.4444444444444444,
             "#bd3786"
            ],
            [
             0.5555555555555556,
             "#d8576b"
            ],
            [
             0.6666666666666666,
             "#ed7953"
            ],
            [
             0.7777777777777778,
             "#fb9f3a"
            ],
            [
             0.8888888888888888,
             "#fdca26"
            ],
            [
             1,
             "#f0f921"
            ]
           ],
           "sequentialminus": [
            [
             0,
             "#0d0887"
            ],
            [
             0.1111111111111111,
             "#46039f"
            ],
            [
             0.2222222222222222,
             "#7201a8"
            ],
            [
             0.3333333333333333,
             "#9c179e"
            ],
            [
             0.4444444444444444,
             "#bd3786"
            ],
            [
             0.5555555555555556,
             "#d8576b"
            ],
            [
             0.6666666666666666,
             "#ed7953"
            ],
            [
             0.7777777777777778,
             "#fb9f3a"
            ],
            [
             0.8888888888888888,
             "#fdca26"
            ],
            [
             1,
             "#f0f921"
            ]
           ]
          },
          "colorway": [
           "#636efa",
           "#EF553B",
           "#00cc96",
           "#ab63fa",
           "#FFA15A",
           "#19d3f3",
           "#FF6692",
           "#B6E880",
           "#FF97FF",
           "#FECB52"
          ],
          "font": {
           "color": "#2a3f5f"
          },
          "geo": {
           "bgcolor": "white",
           "lakecolor": "white",
           "landcolor": "white",
           "showlakes": true,
           "showland": true,
           "subunitcolor": "#C8D4E3"
          },
          "hoverlabel": {
           "align": "left"
          },
          "hovermode": "closest",
          "mapbox": {
           "style": "light"
          },
          "paper_bgcolor": "white",
          "plot_bgcolor": "white",
          "polar": {
           "angularaxis": {
            "gridcolor": "#EBF0F8",
            "linecolor": "#EBF0F8",
            "ticks": ""
           },
           "bgcolor": "white",
           "radialaxis": {
            "gridcolor": "#EBF0F8",
            "linecolor": "#EBF0F8",
            "ticks": ""
           }
          },
          "scene": {
           "xaxis": {
            "backgroundcolor": "white",
            "gridcolor": "#DFE8F3",
            "gridwidth": 2,
            "linecolor": "#EBF0F8",
            "showbackground": true,
            "ticks": "",
            "zerolinecolor": "#EBF0F8"
           },
           "yaxis": {
            "backgroundcolor": "white",
            "gridcolor": "#DFE8F3",
            "gridwidth": 2,
            "linecolor": "#EBF0F8",
            "showbackground": true,
            "ticks": "",
            "zerolinecolor": "#EBF0F8"
           },
           "zaxis": {
            "backgroundcolor": "white",
            "gridcolor": "#DFE8F3",
            "gridwidth": 2,
            "linecolor": "#EBF0F8",
            "showbackground": true,
            "ticks": "",
            "zerolinecolor": "#EBF0F8"
           }
          },
          "shapedefaults": {
           "line": {
            "color": "#2a3f5f"
           }
          },
          "ternary": {
           "aaxis": {
            "gridcolor": "#DFE8F3",
            "linecolor": "#A2B1C6",
            "ticks": ""
           },
           "baxis": {
            "gridcolor": "#DFE8F3",
            "linecolor": "#A2B1C6",
            "ticks": ""
           },
           "bgcolor": "white",
           "caxis": {
            "gridcolor": "#DFE8F3",
            "linecolor": "#A2B1C6",
            "ticks": ""
           }
          },
          "title": {
           "x": 0.05
          },
          "xaxis": {
           "automargin": true,
           "gridcolor": "#EBF0F8",
           "linecolor": "#EBF0F8",
           "ticks": "",
           "title": {
            "standoff": 15
           },
           "zerolinecolor": "#EBF0F8",
           "zerolinewidth": 2
          },
          "yaxis": {
           "automargin": true,
           "gridcolor": "#EBF0F8",
           "linecolor": "#EBF0F8",
           "ticks": "",
           "title": {
            "standoff": 15
           },
           "zerolinecolor": "#EBF0F8",
           "zerolinewidth": 2
          }
         }
        },
        "xaxis": {
         "anchor": "y",
         "domain": [
          0,
          1
         ]
        },
        "yaxis": {
         "anchor": "x",
         "domain": [
          0,
          1
         ]
        }
       }
      },
      "text/html": [
       "<div>                            <div id=\"555cb6c2-d0d1-4ba9-9650-f0abdb59c88a\" class=\"plotly-graph-div\" style=\"height:900px; width:100%;\"></div>            <script type=\"text/javascript\">                require([\"plotly\"], function(Plotly) {                    window.PLOTLYENV=window.PLOTLYENV || {};                                    if (document.getElementById(\"555cb6c2-d0d1-4ba9-9650-f0abdb59c88a\")) {                    Plotly.newPlot(                        \"555cb6c2-d0d1-4ba9-9650-f0abdb59c88a\",                        [{\"showlegend\":true,\"x\":[0.6,0.323943661971831,0.49295774647887325,0.20512820512820512,0.0,0.2631578947368421,0.4666666666666667,0.14285714285714285,0.18072289156626506,0.25,0.08,0.03125,0.5,0.0,0.0625,0.3333333333333333,0.2916666666666667,0.4,0.3181818181818182,0.43434343434343436,0.2923076923076923,0.14705882352941177,0.5833333333333334,0.0,0.2972972972972973,0.125,0.16666666666666666,0.3442622950819672,0.14285714285714285,0.11764705882352941,0.5,0.8,0.25,0.0,0.375,0.037037037037037035,0.05263157894736842,0.23076923076923078,0.038461538461538464,0.2978723404255319,0.1320754716981132,0.06666666666666667,0.6103896103896104,0.1,0.5,0.3333333333333333,1.0,0.42857142857142855,0.5555555555555556,0.0,0.4336283185840708,0.24324324324324326,0.10344827586206896,0.16666666666666666,0.03333333333333333,0.12727272727272726,0.3076923076923077,0.07142857142857142,0.38095238095238093,0.5714285714285714,0.8441558441558441,0.18181818181818182,0.14754098360655737,0.0,0.36,0.0,0.5263157894736842,0.41935483870967744,0.2222222222222222,0.7647058823529411,0.14814814814814814,0.3877551020408163,0.3404255319148936,0.10526315789473684,0.3972602739726027,0.2676056338028169,0.48717948717948717,0.42857142857142855,0.25,0.4666666666666667,0.03125,0.09090909090909091,0.5970149253731343,0.6470588235294118,0.08333333333333333,0.3220338983050847,1.0,0.0,0.4166666666666667,0.7647058823529411,0.18518518518518517,0.11864406779661017,0.16666666666666666,0.23333333333333334,0.7073170731707317,0.7894736842105263,0.2826086956521739,0.31868131868131866,0.31645569620253167,0.3142857142857143,0.2786885245901639,0.7777777777777778,0.3333333333333333,0.3125,0.34782608695652173,0.3176470588235294,0.3157894736842105,0.12195121951219512,0.6,0.6,0.3333333333333333,0.6363636363636364,0.32558139534883723,0.037037037037037035,0.1038961038961039,0.32142857142857145,0.28205128205128205,0.25,0.10891089108910891,0.48936170212765956,0.25,0.15,0.24,0.6,0.09523809523809523,0.1111111111111111,0.31666666666666665,0.037037037037037035,0.323943661971831,0.4,0.7142857142857143,0.2777777777777778,0.6666666666666666,0.11392405063291139,0.2743362831858407,0.6666666666666666,0.2,0.38,0.15384615384615385,0.29411764705882354,0.36585365853658536,0.4666666666666667,0.0967741935483871,0.0967741935483871,0.49019607843137253,0.2653061224489796,0.3888888888888889,0.3333333333333333,0.08771929824561403,0.30612244897959184,0.4146341463414634,0.22123893805309736,0.6808510638297872,0.6923076923076923,0.2275132275132275,0.25,0.17307692307692307,0.13333333333333333,0.08333333333333333,0.21658986175115208,0.1,0.21052631578947367,0.38461538461538464,0.38636363636363635,0.14285714285714285,0.4838709677419355,0.5428571428571428,0.2916666666666667,0.07246376811594203,0.5384615384615384,0.5294117647058824,0.08333333333333333,0.4090909090909091,0.4,0.43661971830985913,0.125,0.0,0.5,0.6923076923076923,0.0,0.16666666666666666,0.13095238095238096,0.13432835820895522,0.1232876712328767,0.058823529411764705,0.34782608695652173,0.36231884057971014,0.25,0.391304347826087,0.6483516483516484,0.19384615384615383,0.7142857142857143,0.15789473684210525,0.3333333333333333,0.5849056603773585,0.05,0.2815533980582524,1.0,0.5625,0.0,0.03225806451612903,0.3333333333333333,0.36363636363636365,0.1,0.28,0.05555555555555555,0.3333333333333333,0.3488372093023256,0.22580645161290322,0.19480519480519481,1.0,0.16470588235294117,0.6,0.4444444444444444,0.42857142857142855,0.35135135135135137,0.42857142857142855,0.11538461538461539,0.3333333333333333,0.12727272727272726,0.2222222222222222,0.19148936170212766,0.1320754716981132,0.36363636363636365,0.06172839506172839,0.4,0.5454545454545454,0.5714285714285714,0.28,0.1794871794871795,0.14285714285714285,0.5757575757575758,0.52,0.16666666666666666,0.07317073170731707,0.6,0.4444444444444444,0.28,0.20754716981132076,0.037037037037037035,0.813953488372093,0.7,0.5180722891566265,0.40816326530612246,0.2786885245901639,0.11764705882352941,0.3333333333333333,0.5625,0.14285714285714285,0.6470588235294118,0.37142857142857144,0.20454545454545456,0.07142857142857142,0.2247191011235955,0.16556291390728478,0.18518518518518517,0.35,0.14666666666666667,0.49206349206349204,0.09375,0.0,0.0,0.0,0.4444444444444444,0.23076923076923078,0.17073170731707318,0.14285714285714285,0.329608938547486,0.10344827586206896,0.5333333333333333,0.3333333333333333,0.30666666666666664,0.3170731707317073,0.14285714285714285,0.3474576271186441,0.2,0.15789473684210525,0.07142857142857142,0.323943661971831,0.14,0.4,0.23076923076923078,0.5609756097560976,0.41935483870967744,0.6521739130434783,0.13178294573643412,0.3684210526315789,0.25,0.5714285714285714,0.5,0.0,0.24675324675324675,0.04,0.391304347826087,0.4482758620689655,0.625,0.0,0.0,0.359375,0.13924050632911392,0.16666666666666666,0.5789473684210527,0.11764705882352941,0.1686746987951807,0.7333333333333333,0.4857142857142857,0.46153846153846156,0.21951219512195122,0.25842696629213485,0.03125,0.3333333333333333,0.288135593220339,0.32608695652173914,0.5319148936170213,1.0,0.21212121212121213,0.1076923076923077,0.25,0.28125,0.3111111111111111,0.2127659574468085,0.0,0.36231884057971014,0.3333333333333333,0.23529411764705882,0.5,0.75,0.07142857142857142,0.1,0.06,0.6190476190476191,0.2830188679245283,0.22807017543859648,0.28735632183908044,0.4915254237288136,0.47368421052631576,0.34065934065934067,0.14705882352941177,0.10344827586206896,0.10344827586206896,0.3069306930693069,0.3118279569892473,0.31210191082802546,0.4166666666666667,0.75,0.0,0.3473684210526316,0.07692307692307693,0.30666666666666664,0.15873015873015872,0.14960629921259844,0.16666666666666666,0.125,0.42857142857142855,0.19696969696969696,0.6578947368421053,0.14285714285714285,0.4594594594594595,0.14285714285714285,0.38235294117647056,0.4838709677419355,0.7333333333333333,0.5833333333333334,0.29545454545454547,0.4482758620689655,0.21686746987951808,0.06896551724137931,0.15625,0.38,0.1388888888888889,0.22758620689655173,0.4909090909090909],\"type\":\"histogram\",\"xaxis\":\"x\",\"yaxis\":\"y\"},{\"showlegend\":true,\"x\":[0.09375,0.22077922077922077,0.21621621621621623,0.20512820512820512,0.0,0.4,0.35294117647058826,0.0,0.08333333333333333,0.125,0.28,0.030303030303030304,0.125,0.05263157894736842,0.03225806451612903,0.0,0.13725490196078433,0.0,0.045454545454545456,0.2708333333333333,0.2463768115942029,0.23529411764705882,0.16666666666666666,0.0,0.3333333333333333,0.03125,0.2,0.014492753623188406,0.10344827586206896,0.030303030303030304,0.06666666666666667,0.15384615384615385,0.42857142857142855,0.0,0.21818181818181817,0.1111111111111111,0.15,0.06930693069306931,0.07692307692307693,0.07368421052631578,0.13793103448275862,0.10344827586206896,0.11627906976744186,0.29411764705882354,0.0,0.25,1.0,0.09523809523809523,0.08571428571428572,0.1111111111111111,0.18518518518518517,0.05263157894736842,0.2,0.08333333333333333,0.1,0.0,0.0,0.10344827586206896,0.13636363636363635,0.35714285714285715,0.3150684931506849,0.06666666666666667,0.22580645161290322,0.125,0.14285714285714285,0.1111111111111111,0.2,0.16129032258064516,0.1111111111111111,0.6,0.037037037037037035,0.25925925925925924,0.19540229885057472,0.15789473684210525,0.15217391304347827,0.12077294685990338,0.08,0.5,0.125,0.16666666666666666,0.0,0.09090909090909091,0.34328358208955223,0.3333333333333333,0.36,0.3125,0.0,0.1875,0.1111111111111111,0.0,0.14814814814814814,0.1694915254237288,0.0,0.0,0.10638297872340426,0.08333333333333333,0.06521739130434782,0.17391304347826086,0.21951219512195122,0.1111111111111111,0.07246376811594203,0.0,0.0,0.0625,0.3,0.06976744186046512,0.02564102564102564,0.12195121951219512,0.2631578947368421,0.38235294117647056,0.0,0.045454545454545456,0.4418604651162791,0.07407407407407407,0.06493506493506493,0.2413793103448276,0.3170731707317073,0.1656441717791411,0.009900990099009901,0.0684931506849315,0.4482758620689655,0.09401709401709402,0.02,0.28125,0.17391304347826086,0.0,0.04132231404958678,0.07407407407407407,0.17333333333333334,0.07142857142857142,0.25,0.0,0.0,0.25301204819277107,0.1826086956521739,0.05555555555555555,0.05,0.22916666666666666,0.07692307692307693,0.05263157894736842,0.2608695652173913,0.3333333333333333,0.125,0.125,0.1076923076923077,0.1650485436893204,0.16666666666666666,0.047619047619047616,0.11864406779661017,0.11764705882352941,0.0,0.08620689655172414,0.32608695652173914,0.0,0.06666666666666667,0.42857142857142855,0.1619047619047619,0.0660377358490566,0.36,0.10091743119266056,0.0,0.21052631578947367,0.5,0.16666666666666666,0.25,0.13333333333333333,0.4883720930232558,0.07692307692307693,0.028169014084507043,0.5625,0.3793103448275862,0.0,0.17391304347826086,0.14285714285714285,0.21739130434782608,0.025,0.3333333333333333,0.16666666666666666,0.2727272727272727,0.125,0.5384615384615384,0.017964071856287425,0.30303030303030304,0.0136986301369863,0.2,0.3,0.030303030303030304,0.125,0.19047619047619047,0.16,0.20743034055727555,0.2857142857142857,0.4166666666666667,0.13636363636363635,0.3584905660377358,0.05,0.1724137931034483,0.3333333333333333,0.15555555555555556,0.0,0.16129032258064516,0.3333333333333333,0.07692307692307693,0.2727272727272727,0.23076923076923078,0.05555555555555555,0.2549019607843137,0.4090909090909091,0.06766917293233082,0.18421052631578946,0.5,0.023809523809523808,0.125,0.10526315789473684,0.14285714285714285,0.22580645161290322,0.2857142857142857,0.14814814814814814,0.08771929824561403,0.0,0.2631578947368421,0.2608695652173913,0.0,0.23404255319148937,0.13253012048192772,0.08333333333333333,0.18181818181818182,0.07692307692307693,0.27102803738317754,0.0,0.09090909090909091,0.3103448275862069,0.2571428571428571,0.45454545454545453,0.19047619047619047,0.3333333333333333,0.2222222222222222,0.4166666666666667,0.0,0.14285714285714285,0.65,0.0,0.22077922077922077,0.25773195876288657,0.07246376811594203,0.13513513513513514,0.06666666666666667,0.05,0.3333333333333333,0.05263157894736842,0.11627906976744186,0.1368421052631579,0.07142857142857142,0.12432432432432433,0.2080536912751678,0.1111111111111111,0.2549019607843137,0.09333333333333334,0.0,0.09375,0.06896551724137931,0.09090909090909091,0.0,0.14285714285714285,0.1,0.011764705882352941,0.14285714285714285,0.14285714285714285,0.1111111111111111,0.3333333333333333,0.13924050632911392,0.2,0.21052631578947367,0.12280701754385964,0.16317991631799164,0.2727272727272727,0.1,0.03225806451612903,0.17333333333333334,0.06,0.2,0.17647058823529413,0.13636363636363635,0.40540540540540543,0.07692307692307693,0.08064516129032258,0.09090909090909091,0.2830188679245283,0.0,0.1111111111111111,0.125,0.1891891891891892,0.0,0.18181818181818182,0.11764705882352941,0.25,0.0,0.0,0.11940298507462686,0.08860759493670886,0.09090909090909091,0.18181818181818182,0.0,0.04093567251461988,0.5,0.3333333333333333,0.23076923076923078,0.3488372093023256,0.12087912087912088,0.09375,0.4418604651162791,0.04918032786885246,0.12359550561797752,0.14285714285714285,0.0,0.06060606060606061,0.17647058823529413,0.125,0.2903225806451613,0.15217391304347827,0.10638297872340426,0.058823529411764705,0.0410958904109589,0.8,0.16666666666666666,0.5,0.0,0.06666666666666667,0.15,0.03482587064676617,0.16417910447761194,0.23809523809523808,0.2,0.1724137931034483,0.32231404958677684,0.16216216216216217,0.3333333333333333,0.23529411764705882,0.1724137931034483,0.15384615384615385,0.18518518518518517,0.16666666666666666,0.08641975308641975,0.2692307692307692,0.4,0.0,0.1956521739130435,0.04,0.10344827586206896,0.07317073170731707,0.05785123966942149,0.0,0.29411764705882354,0.1111111111111111,0.1259259259259259,0.25,0.2727272727272727,0.11627906976744186,0.08,0.3235294117647059,0.20634920634920634,0.2,0.0,0.3333333333333333,0.0,0.1839080459770115,0.0,0.1044776119402985,0.22916666666666666,0.1111111111111111,0.034482758620689655,0.018867924528301886],\"type\":\"histogram\",\"xaxis\":\"x\",\"yaxis\":\"y\"},{\"showlegend\":true,\"x\":[0.6,0.3333333333333333,0.38461538461538464,0.3076923076923077,0.0,0.15789473684210525,0.5714285714285714,0.14285714285714285,0.16455696202531644,0.3333333333333333,0.28,0.0625,0.5,0.05263157894736842,0.0967741935483871,0.3333333333333333,0.37254901960784315,0.4,0.3333333333333333,0.31958762886597936,0.3333333333333333,0.29411764705882354,0.6666666666666666,0.0,0.2972972972972973,0.15625,0.13043478260869565,0.3333333333333333,0.034482758620689655,0.15151515151515152,0.4117647058823529,0.8,0.3333333333333333,0.0,0.2777777777777778,0.1111111111111111,0.10526315789473684,0.26153846153846155,0.07692307692307693,0.22580645161290322,0.20754716981132076,0.10344827586206896,0.6103896103896104,0.3333333333333333,0.5,0.6,1.0,0.47619047619047616,0.5873015873015873,0.1111111111111111,0.4782608695652174,0.1891891891891892,0.2413793103448276,0.08333333333333333,0.1,0.12727272727272726,0.3076923076923077,0.18518518518518517,0.3,0.42857142857142855,0.8,0.22727272727272727,0.11475409836065574,0.125,0.30612244897959184,0.1111111111111111,0.5555555555555556,0.42857142857142855,0.2222222222222222,0.625,0.18518518518518517,0.22448979591836735,0.23076923076923078,0.25,0.4805194805194805,0.2980769230769231,0.5384615384615384,0.5714285714285714,0.3333333333333333,0.4666666666666667,0.03125,0.0,0.5945945945945946,0.5384615384615384,0.30434782608695654,0.4576271186440678,0.0,0.1875,0.4782608695652174,0.7647058823529411,0.18518518518518517,0.1864406779661017,0.16666666666666666,0.23333333333333334,0.7142857142857143,0.7894736842105263,0.2765957446808511,0.31868131868131866,0.30864197530864196,0.3142857142857143,0.21428571428571427,0.7777777777777778,0.3333333333333333,0.25,0.37777777777777777,0.26436781609195403,0.2972972972972973,0.14285714285714285,0.6,0.5272727272727272,0.3333333333333333,0.6363636363636364,0.2558139534883721,0.07407407407407407,0.14285714285714285,0.2857142857142857,0.14285714285714285,0.23870967741935484,0.1188118811881188,0.4945054945054945,0.28,0.2125984251968504,0.22,0.43478260869565216,0.09523809523809523,0.1111111111111111,0.36134453781512604,0.07407407407407407,0.15625,0.4,0.7142857142857143,0.2777777777777778,0.6666666666666666,0.3333333333333333,0.2037037037037037,0.6666666666666666,0.25,0.3181818181818182,0.08333333333333333,0.29411764705882354,0.3170731707317073,0.3333333333333333,0.0967741935483871,0.0967741935483871,0.5,0.21212121212121213,0.2222222222222222,0.3,0.13793103448275862,0.22448979591836735,0.4146341463414634,0.2920353982300885,0.6122448979591837,0.6923076923076923,0.26595744680851063,0.37142857142857144,0.29523809523809524,0.10476190476190476,0.30434782608695654,0.2651162790697674,0.1,0.3684210526315789,0.23076923076923078,0.2926829268292683,0.14285714285714285,0.5172413793103449,0.4666666666666667,0.2916666666666667,0.10144927536231885,0.5862068965517241,0.6551724137931034,0.08333333333333333,0.4782608695652174,0.5238095238095238,0.3939393939393939,0.15,0.3333333333333333,0.5454545454545454,0.7931034482758621,0.125,0.6363636363636364,0.1497005988023952,0.373134328358209,0.1111111111111111,0.23809523809523808,0.37777777777777777,0.373134328358209,0.26153846153846155,0.3,0.5698924731182796,0.19745222929936307,0.6,0.3333333333333333,0.38095238095238093,0.3793103448275862,0.0,0.2975609756097561,1.0,0.696969696969697,0.0,0.1935483870967742,0.5,0.36363636363636365,0.3,0.3793103448275862,0.0,0.19230769230769232,0.06976744186046512,0.25203252032520324,0.3333333333333333,0.5,0.17857142857142858,0.4666666666666667,0.47058823529411764,0.3333333333333333,0.4444444444444444,0.14285714285714285,0.19230769230769232,0.37037037037037035,0.12727272727272726,0.3333333333333333,0.24444444444444444,0.1320754716981132,0.3333333333333333,0.1951219512195122,0.42857142857142855,0.6363636363636364,0.5384615384615384,0.24752475247524752,0.1794871794871795,0.23809523809523808,0.5,0.5942028985507246,0.5384615384615384,0.12195121951219512,0.25,0.6666666666666666,0.47368421052631576,0.20754716981132076,0.18518518518518517,0.5609756097560976,0.7,0.6944444444444444,0.4025974025974026,0.21428571428571427,0.14285714285714285,0.2765957446808511,0.625,0.2903225806451613,0.625,0.29411764705882354,0.30337078651685395,0.10714285714285714,0.26011560693641617,0.26666666666666666,0.2222222222222222,0.4634146341463415,0.16,0.49206349206349204,0.125,0.06896551724137931,0.09090909090909091,0.0,0.2631578947368421,0.1794871794871795,0.18292682926829268,0.0,0.29545454545454547,0.07692307692307693,0.5333333333333333,0.4,0.3333333333333333,0.3333333333333333,0.19298245614035087,0.36796536796536794,0.45454545454545453,0.2631578947368421,0.10344827586206896,0.15625,0.18,0.3684210526315789,0.27450980392156865,0.6585365853658537,0.4666666666666667,0.6521739130434783,0.152,0.42105263157894735,0.3191489361702128,0.5714285714285714,0.48148148148148145,0.125,0.24675324675324675,0.04,0.36363636363636365,0.4482758620689655,0.6153846153846154,0.0,0.0,0.32786885245901637,0.1518987341772152,0.09090909090909091,0.47368421052631576,0.11764705882352941,0.17575757575757575,0.6470588235294118,0.2571428571428571,0.46153846153846156,0.3684210526315789,0.16666666666666666,0.125,0.2631578947368421,0.3103448275862069,0.26881720430107525,0.48936170212765956,1.0,0.2571428571428571,0.13846153846153847,0.26153846153846155,0.16666666666666666,0.2765957446808511,0.2553191489361702,0.058823529411764705,0.4,1.0,0.29411764705882354,0.5,0.75,0.07142857142857142,0.15,0.06532663316582915,0.6129032258064516,0.3333333333333333,0.12280701754385964,0.4186046511627907,0.5145631067961165,0.35135135135135137,0.4065934065934066,0.29411764705882354,0.10344827586206896,0.2692307692307692,0.24752475247524752,0.2967032967032967,0.3248407643312102,0.25,0.5,0.0,0.24731182795698925,0.04,0.2689655172413793,0.12195121951219512,0.14516129032258066,0.16666666666666666,0.17647058823529413,0.5151515151515151,0.21481481481481482,0.6571428571428571,0.14285714285714285,0.3888888888888889,0.10204081632653061,0.38235294117647056,0.43859649122807015,0.4666666666666667,0.5833333333333334,0.34782608695652173,0.4482758620689655,0.22093023255813954,0.06896551724137931,0.23809523809523808,0.3181818181818182,0.16666666666666666,0.2222222222222222,0.5],\"type\":\"histogram\",\"xaxis\":\"x\",\"yaxis\":\"y\"}],                        {\"template\":{\"data\":{\"barpolar\":[{\"marker\":{\"line\":{\"color\":\"white\",\"width\":0.5},\"pattern\":{\"fillmode\":\"overlay\",\"size\":10,\"solidity\":0.2}},\"type\":\"barpolar\"}],\"bar\":[{\"error_x\":{\"color\":\"#2a3f5f\"},\"error_y\":{\"color\":\"#2a3f5f\"},\"marker\":{\"line\":{\"color\":\"white\",\"width\":0.5},\"pattern\":{\"fillmode\":\"overlay\",\"size\":10,\"solidity\":0.2}},\"type\":\"bar\"}],\"carpet\":[{\"aaxis\":{\"endlinecolor\":\"#2a3f5f\",\"gridcolor\":\"#C8D4E3\",\"linecolor\":\"#C8D4E3\",\"minorgridcolor\":\"#C8D4E3\",\"startlinecolor\":\"#2a3f5f\"},\"baxis\":{\"endlinecolor\":\"#2a3f5f\",\"gridcolor\":\"#C8D4E3\",\"linecolor\":\"#C8D4E3\",\"minorgridcolor\":\"#C8D4E3\",\"startlinecolor\":\"#2a3f5f\"},\"type\":\"carpet\"}],\"choropleth\":[{\"colorbar\":{\"outlinewidth\":0,\"ticks\":\"\"},\"type\":\"choropleth\"}],\"contourcarpet\":[{\"colorbar\":{\"outlinewidth\":0,\"ticks\":\"\"},\"type\":\"contourcarpet\"}],\"contour\":[{\"colorbar\":{\"outlinewidth\":0,\"ticks\":\"\"},\"colorscale\":[[0.0,\"#0d0887\"],[0.1111111111111111,\"#46039f\"],[0.2222222222222222,\"#7201a8\"],[0.3333333333333333,\"#9c179e\"],[0.4444444444444444,\"#bd3786\"],[0.5555555555555556,\"#d8576b\"],[0.6666666666666666,\"#ed7953\"],[0.7777777777777778,\"#fb9f3a\"],[0.8888888888888888,\"#fdca26\"],[1.0,\"#f0f921\"]],\"type\":\"contour\"}],\"heatmapgl\":[{\"colorbar\":{\"outlinewidth\":0,\"ticks\":\"\"},\"colorscale\":[[0.0,\"#0d0887\"],[0.1111111111111111,\"#46039f\"],[0.2222222222222222,\"#7201a8\"],[0.3333333333333333,\"#9c179e\"],[0.4444444444444444,\"#bd3786\"],[0.5555555555555556,\"#d8576b\"],[0.6666666666666666,\"#ed7953\"],[0.7777777777777778,\"#fb9f3a\"],[0.8888888888888888,\"#fdca26\"],[1.0,\"#f0f921\"]],\"type\":\"heatmapgl\"}],\"heatmap\":[{\"colorbar\":{\"outlinewidth\":0,\"ticks\":\"\"},\"colorscale\":[[0.0,\"#0d0887\"],[0.1111111111111111,\"#46039f\"],[0.2222222222222222,\"#7201a8\"],[0.3333333333333333,\"#9c179e\"],[0.4444444444444444,\"#bd3786\"],[0.5555555555555556,\"#d8576b\"],[0.6666666666666666,\"#ed7953\"],[0.7777777777777778,\"#fb9f3a\"],[0.8888888888888888,\"#fdca26\"],[1.0,\"#f0f921\"]],\"type\":\"heatmap\"}],\"histogram2dcontour\":[{\"colorbar\":{\"outlinewidth\":0,\"ticks\":\"\"},\"colorscale\":[[0.0,\"#0d0887\"],[0.1111111111111111,\"#46039f\"],[0.2222222222222222,\"#7201a8\"],[0.3333333333333333,\"#9c179e\"],[0.4444444444444444,\"#bd3786\"],[0.5555555555555556,\"#d8576b\"],[0.6666666666666666,\"#ed7953\"],[0.7777777777777778,\"#fb9f3a\"],[0.8888888888888888,\"#fdca26\"],[1.0,\"#f0f921\"]],\"type\":\"histogram2dcontour\"}],\"histogram2d\":[{\"colorbar\":{\"outlinewidth\":0,\"ticks\":\"\"},\"colorscale\":[[0.0,\"#0d0887\"],[0.1111111111111111,\"#46039f\"],[0.2222222222222222,\"#7201a8\"],[0.3333333333333333,\"#9c179e\"],[0.4444444444444444,\"#bd3786\"],[0.5555555555555556,\"#d8576b\"],[0.6666666666666666,\"#ed7953\"],[0.7777777777777778,\"#fb9f3a\"],[0.8888888888888888,\"#fdca26\"],[1.0,\"#f0f921\"]],\"type\":\"histogram2d\"}],\"histogram\":[{\"marker\":{\"pattern\":{\"fillmode\":\"overlay\",\"size\":10,\"solidity\":0.2}},\"type\":\"histogram\"}],\"mesh3d\":[{\"colorbar\":{\"outlinewidth\":0,\"ticks\":\"\"},\"type\":\"mesh3d\"}],\"parcoords\":[{\"line\":{\"colorbar\":{\"outlinewidth\":0,\"ticks\":\"\"}},\"type\":\"parcoords\"}],\"pie\":[{\"automargin\":true,\"type\":\"pie\"}],\"scatter3d\":[{\"line\":{\"colorbar\":{\"outlinewidth\":0,\"ticks\":\"\"}},\"marker\":{\"colorbar\":{\"outlinewidth\":0,\"ticks\":\"\"}},\"type\":\"scatter3d\"}],\"scattercarpet\":[{\"marker\":{\"colorbar\":{\"outlinewidth\":0,\"ticks\":\"\"}},\"type\":\"scattercarpet\"}],\"scattergeo\":[{\"marker\":{\"colorbar\":{\"outlinewidth\":0,\"ticks\":\"\"}},\"type\":\"scattergeo\"}],\"scattergl\":[{\"marker\":{\"colorbar\":{\"outlinewidth\":0,\"ticks\":\"\"}},\"type\":\"scattergl\"}],\"scattermapbox\":[{\"marker\":{\"colorbar\":{\"outlinewidth\":0,\"ticks\":\"\"}},\"type\":\"scattermapbox\"}],\"scatterpolargl\":[{\"marker\":{\"colorbar\":{\"outlinewidth\":0,\"ticks\":\"\"}},\"type\":\"scatterpolargl\"}],\"scatterpolar\":[{\"marker\":{\"colorbar\":{\"outlinewidth\":0,\"ticks\":\"\"}},\"type\":\"scatterpolar\"}],\"scatter\":[{\"fillpattern\":{\"fillmode\":\"overlay\",\"size\":10,\"solidity\":0.2},\"type\":\"scatter\"}],\"scatterternary\":[{\"marker\":{\"colorbar\":{\"outlinewidth\":0,\"ticks\":\"\"}},\"type\":\"scatterternary\"}],\"surface\":[{\"colorbar\":{\"outlinewidth\":0,\"ticks\":\"\"},\"colorscale\":[[0.0,\"#0d0887\"],[0.1111111111111111,\"#46039f\"],[0.2222222222222222,\"#7201a8\"],[0.3333333333333333,\"#9c179e\"],[0.4444444444444444,\"#bd3786\"],[0.5555555555555556,\"#d8576b\"],[0.6666666666666666,\"#ed7953\"],[0.7777777777777778,\"#fb9f3a\"],[0.8888888888888888,\"#fdca26\"],[1.0,\"#f0f921\"]],\"type\":\"surface\"}],\"table\":[{\"cells\":{\"fill\":{\"color\":\"#EBF0F8\"},\"line\":{\"color\":\"white\"}},\"header\":{\"fill\":{\"color\":\"#C8D4E3\"},\"line\":{\"color\":\"white\"}},\"type\":\"table\"}]},\"layout\":{\"annotationdefaults\":{\"arrowcolor\":\"#2a3f5f\",\"arrowhead\":0,\"arrowwidth\":1},\"autotypenumbers\":\"strict\",\"coloraxis\":{\"colorbar\":{\"outlinewidth\":0,\"ticks\":\"\"}},\"colorscale\":{\"diverging\":[[0,\"#8e0152\"],[0.1,\"#c51b7d\"],[0.2,\"#de77ae\"],[0.3,\"#f1b6da\"],[0.4,\"#fde0ef\"],[0.5,\"#f7f7f7\"],[0.6,\"#e6f5d0\"],[0.7,\"#b8e186\"],[0.8,\"#7fbc41\"],[0.9,\"#4d9221\"],[1,\"#276419\"]],\"sequential\":[[0.0,\"#0d0887\"],[0.1111111111111111,\"#46039f\"],[0.2222222222222222,\"#7201a8\"],[0.3333333333333333,\"#9c179e\"],[0.4444444444444444,\"#bd3786\"],[0.5555555555555556,\"#d8576b\"],[0.6666666666666666,\"#ed7953\"],[0.7777777777777778,\"#fb9f3a\"],[0.8888888888888888,\"#fdca26\"],[1.0,\"#f0f921\"]],\"sequentialminus\":[[0.0,\"#0d0887\"],[0.1111111111111111,\"#46039f\"],[0.2222222222222222,\"#7201a8\"],[0.3333333333333333,\"#9c179e\"],[0.4444444444444444,\"#bd3786\"],[0.5555555555555556,\"#d8576b\"],[0.6666666666666666,\"#ed7953\"],[0.7777777777777778,\"#fb9f3a\"],[0.8888888888888888,\"#fdca26\"],[1.0,\"#f0f921\"]]},\"colorway\":[\"#636efa\",\"#EF553B\",\"#00cc96\",\"#ab63fa\",\"#FFA15A\",\"#19d3f3\",\"#FF6692\",\"#B6E880\",\"#FF97FF\",\"#FECB52\"],\"font\":{\"color\":\"#2a3f5f\"},\"geo\":{\"bgcolor\":\"white\",\"lakecolor\":\"white\",\"landcolor\":\"white\",\"showlakes\":true,\"showland\":true,\"subunitcolor\":\"#C8D4E3\"},\"hoverlabel\":{\"align\":\"left\"},\"hovermode\":\"closest\",\"mapbox\":{\"style\":\"light\"},\"paper_bgcolor\":\"white\",\"plot_bgcolor\":\"white\",\"polar\":{\"angularaxis\":{\"gridcolor\":\"#EBF0F8\",\"linecolor\":\"#EBF0F8\",\"ticks\":\"\"},\"bgcolor\":\"white\",\"radialaxis\":{\"gridcolor\":\"#EBF0F8\",\"linecolor\":\"#EBF0F8\",\"ticks\":\"\"}},\"scene\":{\"xaxis\":{\"backgroundcolor\":\"white\",\"gridcolor\":\"#DFE8F3\",\"gridwidth\":2,\"linecolor\":\"#EBF0F8\",\"showbackground\":true,\"ticks\":\"\",\"zerolinecolor\":\"#EBF0F8\"},\"yaxis\":{\"backgroundcolor\":\"white\",\"gridcolor\":\"#DFE8F3\",\"gridwidth\":2,\"linecolor\":\"#EBF0F8\",\"showbackground\":true,\"ticks\":\"\",\"zerolinecolor\":\"#EBF0F8\"},\"zaxis\":{\"backgroundcolor\":\"white\",\"gridcolor\":\"#DFE8F3\",\"gridwidth\":2,\"linecolor\":\"#EBF0F8\",\"showbackground\":true,\"ticks\":\"\",\"zerolinecolor\":\"#EBF0F8\"}},\"shapedefaults\":{\"line\":{\"color\":\"#2a3f5f\"}},\"ternary\":{\"aaxis\":{\"gridcolor\":\"#DFE8F3\",\"linecolor\":\"#A2B1C6\",\"ticks\":\"\"},\"baxis\":{\"gridcolor\":\"#DFE8F3\",\"linecolor\":\"#A2B1C6\",\"ticks\":\"\"},\"bgcolor\":\"white\",\"caxis\":{\"gridcolor\":\"#DFE8F3\",\"linecolor\":\"#A2B1C6\",\"ticks\":\"\"}},\"title\":{\"x\":0.05},\"xaxis\":{\"automargin\":true,\"gridcolor\":\"#EBF0F8\",\"linecolor\":\"#EBF0F8\",\"ticks\":\"\",\"title\":{\"standoff\":15},\"zerolinecolor\":\"#EBF0F8\",\"zerolinewidth\":2},\"yaxis\":{\"automargin\":true,\"gridcolor\":\"#EBF0F8\",\"linecolor\":\"#EBF0F8\",\"ticks\":\"\",\"title\":{\"standoff\":15},\"zerolinecolor\":\"#EBF0F8\",\"zerolinewidth\":2}}},\"xaxis\":{\"anchor\":\"y\",\"domain\":[0.0,1.0]},\"yaxis\":{\"anchor\":\"x\",\"domain\":[0.0,1.0]},\"annotations\":[{\"font\":{\"size\":16},\"showarrow\":false,\"text\":\"RF Distances between eval trees\",\"x\":0.5,\"xanchor\":\"center\",\"xref\":\"paper\",\"y\":1.0,\"yanchor\":\"bottom\",\"yref\":\"paper\"}],\"height\":900},                        {\"responsive\": true}                    ).then(function(){\n",
       "                            \n",
       "var gd = document.getElementById('555cb6c2-d0d1-4ba9-9650-f0abdb59c88a');\n",
       "var x = new MutationObserver(function (mutations, observer) {{\n",
       "        var display = window.getComputedStyle(gd).display;\n",
       "        if (!display || display === 'none') {{\n",
       "            console.log([gd, 'removed!']);\n",
       "            Plotly.purge(gd);\n",
       "            observer.disconnect();\n",
       "        }}\n",
       "}});\n",
       "\n",
       "// Listen for the removal of the full notebook cells\n",
       "var notebookContainer = gd.closest('#notebook-container');\n",
       "if (notebookContainer) {{\n",
       "    x.observe(notebookContainer, {childList: true});\n",
       "}}\n",
       "\n",
       "// Listen for the clearing of the current output cell\n",
       "var outputEl = gd.closest('.output');\n",
       "if (outputEl) {{\n",
       "    x.observe(outputEl, {childList: true});\n",
       "}}\n",
       "\n",
       "                        })                };                });            </script>        </div>"
      ]
     },
     "metadata": {},
     "output_type": "display_data"
    }
   ],
   "source": [
    "from plotly import graph_objects as go\n",
    "from plotly.subplots import make_subplots\n",
    "fig = make_subplots(\n",
    "    rows=1,\n",
    "    cols=1,\n",
    "    subplot_titles=[\"RF Distances between consensus trees\"]\n",
    ")\n",
    "\n",
    "    \n",
    "fig.append_trace(\n",
    "    go.Histogram(\n",
    "        x=df['consensus_dist_bin_gtr'],\n",
    "        showlegend=True\n",
    "        #, histnorm=\"percent\"\n",
    "    ),\n",
    "    row=1,\n",
    "    col=1\n",
    ")\n",
    "\n",
    "fig.append_trace(\n",
    "    go.Histogram(\n",
    "        x=df['consensus_dist_bin_mk'],\n",
    "        showlegend=True\n",
    "        #, histnorm=\"percent\"\n",
    "    ),\n",
    "    row=1,\n",
    "    col=1\n",
    ")\n",
    "\n",
    "fig.append_trace(\n",
    "    go.Histogram(\n",
    "        x=df['consensus_dist_gtr_mk'],\n",
    "        showlegend=True\n",
    "        #, histnorm=\"percent\"\n",
    "    ),\n",
    "    row=1,\n",
    "    col=1\n",
    ")\n",
    "fig.update_layout(template=\"plotly_white\", height=900)"
   ]
  },
  {
   "cell_type": "code",
   "execution_count": 39,
   "id": "f3c88db4",
   "metadata": {},
   "outputs": [
    {
     "data": {
      "application/vnd.plotly.v1+json": {
       "config": {
        "plotlyServerURL": "https://plot.ly"
       },
       "data": [
        {
         "showlegend": true,
         "type": "histogram",
         "x": [
          -68.907826,
          -56.94317299999966,
          -90.52040099999977,
          -97.346364,
          -1.4400030000000186,
          -0.4985899999999788,
          -24.351473,
          -8.582014999999956,
          -52.72975200000019,
          -39.26046300000007,
          -17.521928000000116,
          -61.79250199999933,
          -8.665487999999982,
          -5.504466999999977,
          -7.069152999999972,
          -0.11874999999999858,
          -87.14706100000012,
          -0.6734569999999849,
          -81.31262100000004,
          -67.18661500000053,
          -27.637627000000066,
          -14.467556999999942,
          -10.29798500000004,
          -28.082559000000003,
          -12.943078999999955,
          -75.63103800000044,
          -3.5136039999999866,
          -28.600716000000034,
          -11.369766000000027,
          -3.0138430000000085,
          -0.9093009999999992,
          -4.744115999999849,
          -7.115165000000019,
          -17.491645000000005,
          -97.60646599999927,
          -6.835826999999881,
          -19.782767999999805,
          -107.1127949999991,
          -6.982460000000174,
          -17.92099200000007,
          -26.791960000000472,
          -2.9421689999999785,
          -53.713636999999835,
          -31.633156999999983,
          -7.142977999999971,
          -2.9053729999999973,
          -26.74589900000001,
          -45.83805099999972,
          -57.64431799999966,
          -0.22831399999998325,
          -98.98049700000047,
          -4.49683200000004,
          -6.579158000000007,
          -6.64305800000011,
          -7.288076999999703,
          -27.850886000000173,
          -17.439540999999963,
          -0.04302400000005946,
          -11.670495999999957,
          -6.066453000000024,
          -203.83318999999983,
          -90.9852949999995,
          -40.933034000000134,
          -11.182741999999962,
          -187.9004840000007,
          -23.34694999999965,
          -61.74561399999993,
          -5.9654400000001715,
          -4.013981000000058,
          -56.125823999999966,
          -44.21907100000044,
          -42.945768000000044,
          -75.01471500000025,
          -0.6590669999999363,
          -26.195392999999967,
          -123.61595500000112,
          -22.85441199999991,
          -30.031726999999933,
          -39.26046300000007,
          -39.283204000000296,
          -30.310226000000057,
          -1.475301000000016,
          -279.99371099999917,
          -27.477790000000027,
          -0.1351020000000176,
          -37.085235999999895,
          -68.734654,
          -4.789202000000159,
          -32.61073999999999,
          -25.207280000000083,
          -22.93875100000014,
          -33.40787099999943,
          -4.395667000000003,
          -37.558619000000135,
          -33.82629700000007,
          -18.549868999999944,
          -102.612975,
          -62.28049800000008,
          -60.13263500000039,
          -7.390245999999934,
          -157.5558430000001,
          -20.197055999999975,
          -0.2730010000000078,
          -11.455156999999872,
          -46.60896300000013,
          -99.72926499999994,
          -13.408567000000062,
          -11.091815999999994,
          -341.314627,
          -65.18909000000008,
          -6.571513999999979,
          -24.584874000000013,
          -15.339492000000064,
          -6.635189000000082,
          -101.45095500000025,
          -27.345534000000043,
          -12.893506000000116,
          -37.81574099999989,
          -120.39838400000008,
          -38.91764000000012,
          -10.783386000000007,
          -633.6988690000017,
          -56.02249000000029,
          -33.91773399999988,
          -19.014672999999902,
          -3.237435000000005,
          -213.62294799999836,
          -6.892019000000346,
          -253.9490050000004,
          -170.54569900000024,
          -115.68149799999998,
          -14.16194100000007,
          -0.07064300000000401,
          -10.182254000000285,
          -38.54722200000015,
          -22.25944400000003,
          -43.66533700000036,
          -628.0280359999997,
          -23.447721,
          -14.160109000000034,
          -10.77171999999996,
          -6.131611999999961,
          -0.6244130000000041,
          -0.6244130000000041,
          -36.030092999999965,
          -112.80494499999986,
          -45.758730000000014,
          -4.653217999999981,
          -9.509788000000071,
          -105.23433099999966,
          -12.110700999999835,
          -115.49409600000035,
          -88.33013899999969,
          -8.72846800000002,
          -87.61155300000064,
          -60.34258599999998,
          -97.350547,
          -126.76627600000029,
          -0.1351020000000176,
          -112.58129000000008,
          -10.638739999999984,
          -19.238256000000092,
          -6.138532999999995,
          -80.19193499999983,
          -0.9062230000000113,
          -21.380510999999984,
          -2.9462139999999977,
          -55.78516300000001,
          -1050.2776980000017,
          -4.317685999999981,
          -44.8533739999998,
          -43.319094000000405,
          -28.236507000000074,
          -3.770241999999996,
          -36.06334700000002,
          -77.58654999999999,
          -1.4263990000000035,
          -19.154266999999948,
          -14.577774999999974,
          -12.369621999999993,
          -7.464215999999965,
          -107.70790900000065,
          -20.560754000000088,
          -91.89192899999989,
          -7.31391700000006,
          -46.60896300000013,
          -90.4197059999999,
          -108.60766899999999,
          -19.62601200000006,
          -224.52595099999962,
          -241.88925100000006,
          -113.9118299999991,
          -0.5984100000000012,
          -66.04256900000019,
          -27.66931300000033,
          -3.5080930000000023,
          -90.6137149999995,
          -2.873491999999999,
          -54.873955000000024,
          -2.2868629999999968,
          -61.51614100000006,
          -0.6346029999999985,
          -32.75554999999997,
          -1.8898140000000012,
          -5.787166999999954,
          -13.401046999999835,
          -33.728634000000056,
          -8.830770999999913,
          -91.88680099999965,
          -53.702776000000085,
          -2.7988299999999953,
          -97.57374600000003,
          -13.61726699999997,
          -16.698515999999984,
          -1.3452389999999923,
          -24.861903999999868,
          -25.402648999999997,
          -25.81872599999997,
          -27.5285540000001,
          -27.850886000000173,
          -76.361356,
          -37.35251599999992,
          -43.35143700000003,
          -10.218701999999894,
          -9.232164000000012,
          -47.48090400000001,
          -44.36874399999988,
          -25.238505000000032,
          -106.10766599999988,
          -14.526008000000047,
          -17.47653400000013,
          -274.88534200000004,
          -46.910901000000194,
          -0.4239740000000154,
          -21.543206000000055,
          -10.004011999999989,
          -2.8485959999999864,
          -15.068544000000003,
          -19.281450999999834,
          -3.5773699999999735,
          -36.85688700000014,
          -31.43666300000001,
          -145.29201300000022,
          -103.61967900000036,
          -157.5558430000001,
          -0.3720140000000356,
          -33.3669910000001,
          -24.170311999999967,
          -3.088542000000075,
          -0.8672150000000016,
          -14.949832000000015,
          -171.8554179999992,
          -9.194244000000253,
          -136.7038539999994,
          -146.99205699999948,
          -11.796898000000056,
          -19.239941000000044,
          -99.17319999999927,
          -51.097655999999915,
          -393.9571130000004,
          -6.4539599999998245,
          -1.9100300000000061,
          -0.4100859999999784,
          -15.413491000000022,
          -37.25729699999988,
          -120.27296999999999,
          -1.5850059999999928,
          -127.81351200000063,
          -8.93243700000005,
          -7.901600999999914,
          -21.854199000000335,
          -88.22567600000002,
          -35.60299200000003,
          -41.86265299999968,
          -472.5789299999997,
          -3.4227160000000083,
          -3.9548810000000003,
          -3.4878539999999987,
          -253.9490050000004,
          -108.14526500000011,
          -29.298986000000014,
          -63.36852599999929,
          -24.087752000000023,
          -20.849542999999812,
          -5.752870999999914,
          -138.1383340000002,
          -13.563686000000018,
          -9.192270000000008,
          -11.513449000000008,
          -1.998660000000001,
          -0.2523609999999934,
          -65.18370100000004,
          -0.18938500000001568,
          -1311.6413179999995,
          -31.64878499999986,
          -7.0510629999998855,
          -7.355166000000281,
          -3.485096999999996,
          -59.31819799999994,
          -101.61274000000049,
          -0.9116860000000031,
          -15.568506999999954,
          -5.595103999999992,
          -105.55915600000117,
          -28.543789999999944,
          -26.692731000000094,
          -39.54411800000025,
          -14.100238999999988,
          -87.25333299999966,
          -17.72183000000041,
          -33.42077500000005,
          -24.93512199999998,
          -85.85988700000053,
          -21.931407000000036,
          -2.692264999999992,
          -8.996976000000359,
          -6.864583000000039,
          -108.60766899999999,
          -52.521606999999676,
          -81.98305100000016,
          -103.8585869999988,
          -11.61193000000003,
          -37.99359900000002,
          -0.44946000000000197,
          -18.72414100000003,
          -9.618798999999967,
          -65.10395600000004,
          -10.39706000000001,
          -45.61226399999987,
          -9.304591000000073,
          -44.99452500000007,
          -34.59219099999996,
          -26.60818499999914,
          -22.835739999999987,
          -137.87179400000014,
          -96.22292800000105,
          -43.80482499999971,
          -14.467556999999942,
          -12.276403999999957,
          -9.783012000000099,
          -114.06522399999994,
          -60.429479000000356,
          -122.57587000000058,
          -42.87002799999982,
          -1.2497809999999845,
          -6.971287999999731,
          -112.26699899999949,
          -7.197221000000013,
          -144.3999070000009,
          -135.34649000000013,
          -139.9573260000002,
          -0.3143359999999973,
          -1.4619979999999941,
          -201.82995899999992,
          -323.08436599999914,
          -48.69527900000003,
          -1.4235479999999825,
          -17.753615999999965,
          -20.449071000000004,
          -173.47097399999984,
          -147.48111400000016,
          -6.847937999999999,
          -31.254268999999965,
          -33.959891999999854,
          -68.89158500000008,
          -105.06684700000187,
          -26.682106000000203,
          -21.006263000000217,
          -628.980431,
          -3.684606999999687,
          -138.64878999999928,
          -101.54917799999998
         ],
         "xaxis": "x",
         "yaxis": "y"
        },
        {
         "showlegend": true,
         "type": "histogram",
         "x": [
          -4.8016810000000305,
          -9.410516999999345,
          -10.094861000000037,
          -9.337588000000324,
          -0.24383400000002098,
          -2.3003369999999563,
          -3.272207000000037,
          -3.22295599999984,
          -2.447733999999855,
          -21.05428299999994,
          -6.318537000000106,
          -7.239362999999685,
          -3.69454300000001,
          -2.9238800000000538,
          -0.4311339999999859,
          -0.06527899999999676,
          -28.33185800000001,
          -0.15502200000000244,
          -5.71799800000008,
          -5.37236700000085,
          -8.617318999999952,
          -13.406203000000005,
          -1.445999000000029,
          -2.19125600000001,
          -7.2118789999999535,
          -7.430871999999908,
          -0.12055499999999597,
          -2.765038000000004,
          -1.4504710000001069,
          -0.31872599999999807,
          -0.8355749999999773,
          -2.8955369999998766,
          -2.614564999999999,
          -5.549802,
          -23.244104999999763,
          -8.24471399999993,
          -4.312059999999974,
          -14.735815000000002,
          -7.056152999999995,
          -1.2899500000000899,
          -9.320663000000422,
          -0.028518999999988637,
          -7.192587000000003,
          -6.724575000000016,
          -0.25271299999997154,
          -2.0907589999999914,
          -17.73967700000003,
          -4.070076999999856,
          -6.015336999999818,
          -0.34059299999998416,
          -28.790423000000374,
          -1.6377800000000207,
          -2.6169330000000173,
          -3.0576230000001487,
          -8.07821899999999,
          -8.264231000000109,
          -1.8408280000001014,
          -1.023074000000065,
          -1.3613569999999982,
          -17.135493999999994,
          -13.458795999999893,
          -11.142582999999831,
          -13.437171000000035,
          -4.400837999999965,
          -139.36347999999998,
          -5.72515199999998,
          -23.446619000000055,
          -1.7292879999999968,
          -6.145980000000009,
          -4.417507999999998,
          -12.59076400000049,
          -10.79821899999979,
          -29.370670000000246,
          -1.8367620000000215,
          -6.907543999999689,
          -31.244001000000935,
          -2.671096000000034,
          -20.961698999999953,
          -21.05428299999994,
          -9.041866999999911,
          -8.032224999999926,
          -0.23863900000000626,
          -26.210065999999642,
          -2.504568000000063,
          -0.7807109999999966,
          -16.966491999999562,
          -115.006414,
          -5.2708520000001045,
          -15.778280999999964,
          -3.875807000000009,
          -8.639714999999796,
          -24.740772999999535,
          -1.0166000000000395,
          -3.356160999999929,
          -2.2113919999999325,
          -4.324806999999964,
          -15.711506999999983,
          -18.7991320000001,
          -14.38534800000025,
          -1.3472079999999096,
          -94.54125999999997,
          -7.111407999999983,
          -0.04970400000000552,
          -3.5492189999999937,
          -15.411329999999907,
          -13.581100000000333,
          -1.2096750000000611,
          -4.0517019999999775,
          -187.56304699999998,
          -34.096262000000024,
          -0.7889040000000023,
          -6.463765999999964,
          -19.198191999999835,
          -7.787135000000035,
          -11.124560000000201,
          -9.247980000000098,
          -6.457610000000159,
          -5.686986000000161,
          -9.11507999999958,
          -10.110987999999907,
          -3.345286999999985,
          -501.6676669999997,
          -10.031214000000091,
          -8.65053399999988,
          -3.2742490000000544,
          -0.08841500000005453,
          -25.660107999998218,
          -7.4710360000003675,
          -123.54297600000064,
          -13.943124999999782,
          -85.34201200000001,
          -1.8493200000000343,
          -0.4301640000000049,
          -18.88072000000011,
          -9.01088000000027,
          -5.760407999999984,
          -3.9968590000003132,
          -524.3449870000004,
          -13.865317000000005,
          -2.520324999999957,
          -7.3613450000000284,
          -1.8731070000000045,
          -1.1912429999999858,
          -1.1912429999999858,
          -15.743698999999992,
          -30.53077200000007,
          -1.6261269999999968,
          -0.6692249999999831,
          -3.514550999999983,
          -17.67163999999866,
          -4.659260999999788,
          -25.077903000000333,
          -18.99968700000045,
          -0.3477350000000001,
          -23.433646999999837,
          -9.454258999999979,
          -18.680403000000297,
          -13.070544000000154,
          -0.7807109999999966,
          -14.142486000000645,
          -6.4765129999999544,
          -2.2058370000000878,
          -1.712508000000014,
          -30.30228299999999,
          -0.9327729999999974,
          -0.9117609999999843,
          -0.34629800000001865,
          -9.726646999999957,
          -759.0141620000031,
          -3.5666499999999814,
          -11.29979400000002,
          -2.8769900000002053,
          -2.9524569999998675,
          -1.4817229999999881,
          -9.046243000000004,
          -7.536480999999185,
          -0.29279900000000225,
          -2.031612999999993,
          -3.765376999999944,
          -4.414768999999978,
          -2.0877570000000105,
          -14.085641000001488,
          -18.221895000000586,
          -3.3239589999998316,
          -2.6713600000000497,
          -15.411329999999907,
          -32.534447,
          -12.541651999999885,
          -1.1786409999999705,
          -7.257826000000023,
          -71.95418699999982,
          -20.494038999999248,
          -1.0218679999999836,
          -15.266651000000365,
          -15.183552999999847,
          -2.7426519999999925,
          -24.182159999998476,
          -1.5266710000000216,
          -29.83872400000007,
          -0.08744699999999739,
          -16.592991000001348,
          -0.28555299999999306,
          -6.436286999999993,
          -3.259907999999996,
          -2.4347980000000007,
          -2.8991729999997915,
          -7.484086000000389,
          -5.071115999999847,
          -5.999735999999757,
          -9.541667000000416,
          -0.7107429999999937,
          -16.611337999998796,
          -2.0070709999999963,
          -3.3332999999999515,
          -0.8117420000000095,
          -3.384461999999985,
          -5.564284999999984,
          -9.542311000000154,
          -6.63562300000001,
          -8.264231000000109,
          -9.969383999999991,
          -10.455023999999867,
          -3.6537070000001677,
          -6.884637999999995,
          -10.854491000000053,
          -2.5517580000000635,
          -8.268912999999884,
          -5.689093000000071,
          -13.643702999999732,
          -1.4117549999998573,
          -1.6223810000001322,
          -177.2891370000002,
          -11.978310999999849,
          -0.19518700000000422,
          -4.275503999999955,
          -1.355436999999995,
          -2.273015999999984,
          -1.8855409999999893,
          -1.7102229999998144,
          -3.469823000000133,
          -5.422535000000153,
          -8.60803500000003,
          -35.57150300000012,
          -26.719200000000455,
          -94.54125999999997,
          -1.2007579999999507,
          -3.3975840000000517,
          -2.2755600000000413,
          -3.4527550000000247,
          -0.10614699999999289,
          -0.3291140000000041,
          -24.328354999999647,
          -7.28310300000021,
          -32.428054999998494,
          -47.266491999998834,
          -10.76910399999997,
          -13.527544000000034,
          -10.890471000000616,
          -1.2724759999998696,
          -357.1104090000008,
          -7.787941000000046,
          -0.10622200000000248,
          -0.047943999999972675,
          -4.05365299999994,
          -2.264993000000004,
          -10.751538000000437,
          -0.5846540000000005,
          -17.997691999999915,
          -2.064988000000085,
          -9.124955999999997,
          -8.350132999999914,
          -22.482218000000103,
          -10.762597000000028,
          -13.289279999999962,
          -50.317103999997926,
          -0.6626090000000033,
          -0.37126200000000154,
          -0.28219400000000405,
          -123.54297600000064,
          -26.169882000000143,
          -0.8700049999999919,
          -14.163257999999587,
          -7.340683000000013,
          -11.195189999999911,
          -13.599905999999919,
          -48.287708000000066,
          -0.7265820000000076,
          -1.5263410000000022,
          -1.0057280000000048,
          -0.6855309999999974,
          -0.16297999999999035,
          -7.840806000000043,
          -2.554603000000043,
          -1029.267641,
          -5.348038999999972,
          -2.950791999999865,
          -0.8754910000002383,
          -0.25480699999999956,
          -11.526589000000058,
          -13.333623000000443,
          -1.907149000000004,
          -1.5688470000000052,
          -0.13977699999998094,
          -18.931219000000056,
          -3.3875530000000253,
          -18.382530000000088,
          -12.440390000000207,
          -1.1302839999999605,
          -33.28531800000019,
          -16.631207999999788,
          -3.7266510000000608,
          -1.5791269999999713,
          -13.094576000001325,
          -3.420139000000063,
          -0.3147419999999954,
          -6.121321999999964,
          -0.43556199999989076,
          -12.541651999999885,
          -17.218219000000317,
          -19.400015000000167,
          -12.312540999999328,
          -2.5427240000001348,
          -1.048167000000035,
          -0.2534069999999957,
          -11.276419000000033,
          -4.852927999999963,
          -33.58856800000001,
          -3.603749999999991,
          -7.136260999999649,
          -0.3090950000000703,
          -10.699284999999918,
          -9.010569999999916,
          -8.624345999999605,
          -4.293013999999857,
          -14.309993000000304,
          -6.2112230000002455,
          -14.640551999999843,
          -13.406203000000005,
          -3.5727889999998297,
          -2.945660000000089,
          -30.10474400000021,
          -10.663062999999966,
          -8.07376099999965,
          -10.798219000000245,
          -0.21904499999999416,
          -0.8218010000000504,
          -25.635408999999527,
          -1.123309000000006,
          -45.60155200000008,
          -47.8909470000001,
          -49.58138699999995,
          -0.27738400000001207,
          -1.8967319999999859,
          -112.66971199999989,
          -34.57118199999968,
          -12.564262999999755,
          -3.1312090000000126,
          -11.177947000000131,
          -1.4824740000000247,
          -41.614692000001014,
          -29.12871300000006,
          -4.1551659999999515,
          -3.756170999999995,
          -17.959297999999762,
          -5.014664999999923,
          -24.84655600000042,
          -8.326634999999442,
          -16.69350200000008,
          -524.3449870000004,
          -2.5146859999999833,
          -11.931117000000086,
          -7.184799999999996
         ],
         "xaxis": "x",
         "yaxis": "y"
        },
        {
         "showlegend": true,
         "type": "histogram",
         "x": [
          -20.932618000000048,
          -36.8280920000002,
          -33.70509300000003,
          -40.923567999999705,
          -0.6461490000000083,
          -1.1220910000000117,
          -8.954318,
          -7.4678499999999985,
          -24.378221000000167,
          -28.56901999999991,
          -11.190226000000166,
          -32.19208200000003,
          -7.506529999999998,
          -5.0236340000000155,
          -2.9026039999999966,
          -0.9194620000000029,
          -43.731513999999834,
          0.13643199999999922,
          -44.88013599999999,
          -24.899947999999767,
          -25.893785000000207,
          -17.33824000000004,
          -7.047101999999995,
          -5.690025999999989,
          -5.132463999999999,
          -33.44426999999996,
          -0.811074000000005,
          -15.095623000000046,
          -4.354781000000003,
          -2.7259320000000002,
          -2.5349319999999977,
          -5.233786000000009,
          -7.790623000000011,
          -2.524723000000023,
          -64.03242599999976,
          -10.874191999999994,
          -9.424395000000004,
          -72.85468800000035,
          -10.654831999999942,
          -6.403962999999976,
          -16.174551000000065,
          -0.9588289999999944,
          -27.92461000000003,
          -8.969922999999994,
          -6.621584000000013,
          -8.136920000000003,
          -14.116206000000005,
          -20.996578000000227,
          -28.475280999999995,
          -0.30634300000001247,
          -83.52020399999992,
          -4.8645440000000235,
          -3.608296999999993,
          -5.374915999999985,
          -11.560735000000022,
          -16.69756499999994,
          -11.293242000000077,
          -0.779293999999993,
          -4.95261000000005,
          -11.516402999999968,
          -64.74903300000005,
          -37.0731310000001,
          -22.2931880000001,
          -3.236919999999998,
          -16.172977000000174,
          -11.833067000000028,
          -28.633374999999887,
          -5.277052000000026,
          -5.652563999999984,
          -17.169967999999983,
          -28.299003000000084,
          -23.825834000000214,
          -45.7119789999997,
          -0.9444900000000302,
          -21.288222000000133,
          -98.34922300000017,
          -7.655639000000065,
          -12.13067000000001,
          -28.56901999999991,
          -27.432544999999664,
          -9.142724000000044,
          -0.9372439999999926,
          -126.14402599999994,
          -5.307191999999986,
          -0.8092020000000275,
          -17.63377700000001,
          9.999999999177334e-07,
          -7.0921639999999115,
          -3.965993999999995,
          -19.185606000000007,
          -19.9900090000001,
          -27.370060000000194,
          -2.662633999999997,
          -11.410481000000004,
          -15.51861299999996,
          -17.328859999999963,
          -43.46917200000007,
          -23.328929999999673,
          -25.65858800000001,
          -10.217479999999966,
          -26.697307000000364,
          -3.4755150000000015,
          -0.09285100000000313,
          -7.346508999999969,
          -22.48443099999986,
          -47.84506400000009,
          -3.680536000000018,
          -2.5305829999999787,
          -13.435090000000002,
          -21.541653999999994,
          -7.643312000000009,
          -4.707732000000021,
          -16.25679900000023,
          -10.710593999999901,
          -40.680709000000206,
          -22.99679200000014,
          -8.647851999999943,
          -24.433138999999983,
          -39.05256399999962,
          -36.47234300000014,
          -7.809849000000014,
          -31.768066000000545,
          -16.644812,
          -12.51502000000005,
          -9.15341599999988,
          -1.0594890000000134,
          -78.18957599999976,
          -10.662180999999919,
          -26.25436499999978,
          -66.23379000000023,
          -11.768124999999998,
          -8.736868000000015,
          -0.7840910000000036,
          -22.764770000000226,
          -17.27812199999994,
          -3.8956079999999815,
          -18.693382000000156,
          -142.34594599999946,
          -1.9250750000000494,
          -9.418569999999988,
          -15.338510999999926,
          -2.235697999999985,
          -0.9708559999999693,
          -0.9708559999999693,
          -9.721222000000012,
          -53.1531759999998,
          -23.52239600000007,
          -3.058881999999983,
          -7.475821999999994,
          -40.850140000000465,
          -5.892654999999991,
          -69.11508099999992,
          -41.299205000000256,
          -2.5235359999999787,
          -69.39728500000001,
          -13.324483999999984,
          -54.36616200000026,
          -41.96849800000018,
          -0.8092020000000275,
          -70.547098,
          -8.596131000000014,
          -14.442738000000077,
          -4.985663999999986,
          -37.33589600000005,
          -1.0097299999999905,
          -9.82420900000001,
          -2.1068189999999873,
          -11.25344899999999,
          -24.72661599999992,
          -2.1673319999999876,
          -34.590950999999905,
          -15.818818000000192,
          -10.782674000000043,
          -2.7527299999999855,
          -27.049881000000028,
          -36.660639000000174,
          -0.8201409999999996,
          -11.225031999999999,
          -12.836176000000023,
          -3.3515580000000114,
          -7.569213999999988,
          -64.38527900000008,
          -16.262073000000328,
          -28.281132999999954,
          -6.122726999999998,
          -22.48443099999986,
          -13.625549000000035,
          -56.272435000000314,
          -7.671303000000023,
          -69.58413900000005,
          -31.498501000000033,
          -65.87586900000042,
          -1.1681239999999775,
          -20.93321100000003,
          -13.687199999999848,
          -0.5092159999999808,
          -72.41004500000054,
          -3.1500529999999856,
          -10.962871999999948,
          -1.3114550000000023,
          -60.5224589999998,
          -1.1763079999999988,
          -20.059654000000023,
          -4.273252000000014,
          -7.888959999999997,
          -6.594928999999979,
          -12.536759999999958,
          -7.463435000000004,
          -43.54480599999988,
          -35.59920899999997,
          -2.537868000000003,
          -60.23092900000029,
          -10.53231199999999,
          -6.327539000000002,
          -2.639780000000002,
          -27.216318999999885,
          -11.046507999999989,
          -20.764854000000014,
          -13.299453000000028,
          -16.69756499999994,
          -17.343795999999998,
          -23.841192000000092,
          -17.808373999999958,
          -13.711828999999966,
          -15.762477999999874,
          -30.24373099999991,
          -22.991792000000032,
          -19.01646299999993,
          -52.570168000000194,
          -12.733529999999973,
          -10.492657000000008,
          -37.00924299999997,
          -41.720408000000134,
          -0.8388519999999886,
          -9.967556999999942,
          -3.927182000000016,
          -7.952104999999989,
          -26.705528,
          -8.414713000000006,
          -4.137569999999982,
          -20.970636000000013,
          -4.082872000000009,
          -35.55656799999997,
          -31.249616999999944,
          -26.697307000000364,
          -1.0861400000000003,
          -28.429846999999995,
          -8.293908999999985,
          -4.176156999999989,
          -1.0726259999999996,
          -10.00105000000002,
          -81.31201800000053,
          -14.046370000000024,
          -88.31346199999916,
          -60.97811600000023,
          -9.38845100000026,
          -19.49714400000005,
          -40.726786000000175,
          -18.856690999999955,
          -5.875641999999061,
          -10.048216000000139,
          -0.9490760000000051,
          -0.27194299999999316,
          -6.187825999999973,
          -18.350068999999962,
          -51.23063499999989,
          -0.304064000000011,
          -65.510041,
          -7.232061999999985,
          -19.043000000000006,
          -16.782439000000068,
          -50.40927799999963,
          -20.383837,
          -28.372071000000233,
          -250.2608880000007,
          -5.3529279999999915,
          -1.785933,
          -1.3821379999999976,
          -26.25436499999978,
          -39.39934600000015,
          -13.454696999999953,
          -23.816111999999976,
          -13.278296000000012,
          -22.258460000000014,
          -10.654944999999941,
          -16.637012000000027,
          -5.8539829999999995,
          -4.1688159999999925,
          -9.616498000000007,
          -2.0637080000000196,
          -0.42113200000000006,
          -18.74367699999999,
          -1.676587999999981,
          -32.627396999999974,
          -14.548221000000012,
          -20.069727000000057,
          -3.77125500000011,
          -1.9679809999999947,
          -30.79764,
          -43.724999000000025,
          -6.190151999999998,
          -8.188550999999961,
          -3.379468000000003,
          -55.69140299999981,
          -19.469330000000014,
          -14.90494200000012,
          -20.556409999999914,
          -8.720209000000011,
          -38.859187999999904,
          -13.303539,
          -6.358069,
          -8.52993200000003,
          -47.153667999999925,
          -10.935784000000012,
          -1.4007100000000037,
          -9.925612000000001,
          -3.4401180000000977,
          -56.272435000000314,
          -32.23363100000006,
          -45.058828000000176,
          -47.26052600000003,
          -6.1807039999999915,
          -14.882484999999974,
          -2.820402999999999,
          -12.048577000000023,
          -10.682241000000033,
          -7.128554000000008,
          -4.820814999999982,
          -25.083086999999978,
          -6.744931999999608,
          -23.189239000000043,
          -27.61552000000006,
          -17.25151700000015,
          -23.828126999999995,
          -46.65223200000014,
          -41.54609400000027,
          -24.026022999999896,
          -17.33824000000004,
          -6.5817180000000235,
          -6.715108999999984,
          -52.49463400000013,
          -25.741993000000093,
          -38.41052600000057,
          -23.823115000000143,
          -2.346261999999996,
          -3.5399589999999534,
          -66.26749999999993,
          -1.290143999999998,
          -59.878999999999905,
          -16.282464000000004,
          -15.582221000000004,
          -0.5846599999999995,
          0.23566500000001156,
          -16.71937600000001,
          -150.42985899999985,
          -43.58415699999978,
          -0.7049729999999954,
          -13.419647000000055,
          -12.194983999999977,
          -166.41672199999994,
          -52.839668000000074,
          -5.553064000000006,
          -5.904977000000002,
          -21.13487000000032,
          -21.919182999999975,
          -76.1949139999997,
          -16.894091000000117,
          -13.828968000000259,
          -142.4132269999991,
          -4.042803999999933,
          -55.70162299999993,
          -45.41854000000001
         ],
         "xaxis": "x",
         "yaxis": "y"
        }
       ],
       "layout": {
        "annotations": [
         {
          "font": {
           "size": 16
          },
          "showarrow": false,
          "text": "RF Distances between consensus trees",
          "x": 0.5,
          "xanchor": "center",
          "xref": "paper",
          "y": 1,
          "yanchor": "bottom",
          "yref": "paper"
         }
        ],
        "height": 900,
        "template": {
         "data": {
          "bar": [
           {
            "error_x": {
             "color": "#2a3f5f"
            },
            "error_y": {
             "color": "#2a3f5f"
            },
            "marker": {
             "line": {
              "color": "white",
              "width": 0.5
             },
             "pattern": {
              "fillmode": "overlay",
              "size": 10,
              "solidity": 0.2
             }
            },
            "type": "bar"
           }
          ],
          "barpolar": [
           {
            "marker": {
             "line": {
              "color": "white",
              "width": 0.5
             },
             "pattern": {
              "fillmode": "overlay",
              "size": 10,
              "solidity": 0.2
             }
            },
            "type": "barpolar"
           }
          ],
          "carpet": [
           {
            "aaxis": {
             "endlinecolor": "#2a3f5f",
             "gridcolor": "#C8D4E3",
             "linecolor": "#C8D4E3",
             "minorgridcolor": "#C8D4E3",
             "startlinecolor": "#2a3f5f"
            },
            "baxis": {
             "endlinecolor": "#2a3f5f",
             "gridcolor": "#C8D4E3",
             "linecolor": "#C8D4E3",
             "minorgridcolor": "#C8D4E3",
             "startlinecolor": "#2a3f5f"
            },
            "type": "carpet"
           }
          ],
          "choropleth": [
           {
            "colorbar": {
             "outlinewidth": 0,
             "ticks": ""
            },
            "type": "choropleth"
           }
          ],
          "contour": [
           {
            "colorbar": {
             "outlinewidth": 0,
             "ticks": ""
            },
            "colorscale": [
             [
              0,
              "#0d0887"
             ],
             [
              0.1111111111111111,
              "#46039f"
             ],
             [
              0.2222222222222222,
              "#7201a8"
             ],
             [
              0.3333333333333333,
              "#9c179e"
             ],
             [
              0.4444444444444444,
              "#bd3786"
             ],
             [
              0.5555555555555556,
              "#d8576b"
             ],
             [
              0.6666666666666666,
              "#ed7953"
             ],
             [
              0.7777777777777778,
              "#fb9f3a"
             ],
             [
              0.8888888888888888,
              "#fdca26"
             ],
             [
              1,
              "#f0f921"
             ]
            ],
            "type": "contour"
           }
          ],
          "contourcarpet": [
           {
            "colorbar": {
             "outlinewidth": 0,
             "ticks": ""
            },
            "type": "contourcarpet"
           }
          ],
          "heatmap": [
           {
            "colorbar": {
             "outlinewidth": 0,
             "ticks": ""
            },
            "colorscale": [
             [
              0,
              "#0d0887"
             ],
             [
              0.1111111111111111,
              "#46039f"
             ],
             [
              0.2222222222222222,
              "#7201a8"
             ],
             [
              0.3333333333333333,
              "#9c179e"
             ],
             [
              0.4444444444444444,
              "#bd3786"
             ],
             [
              0.5555555555555556,
              "#d8576b"
             ],
             [
              0.6666666666666666,
              "#ed7953"
             ],
             [
              0.7777777777777778,
              "#fb9f3a"
             ],
             [
              0.8888888888888888,
              "#fdca26"
             ],
             [
              1,
              "#f0f921"
             ]
            ],
            "type": "heatmap"
           }
          ],
          "heatmapgl": [
           {
            "colorbar": {
             "outlinewidth": 0,
             "ticks": ""
            },
            "colorscale": [
             [
              0,
              "#0d0887"
             ],
             [
              0.1111111111111111,
              "#46039f"
             ],
             [
              0.2222222222222222,
              "#7201a8"
             ],
             [
              0.3333333333333333,
              "#9c179e"
             ],
             [
              0.4444444444444444,
              "#bd3786"
             ],
             [
              0.5555555555555556,
              "#d8576b"
             ],
             [
              0.6666666666666666,
              "#ed7953"
             ],
             [
              0.7777777777777778,
              "#fb9f3a"
             ],
             [
              0.8888888888888888,
              "#fdca26"
             ],
             [
              1,
              "#f0f921"
             ]
            ],
            "type": "heatmapgl"
           }
          ],
          "histogram": [
           {
            "marker": {
             "pattern": {
              "fillmode": "overlay",
              "size": 10,
              "solidity": 0.2
             }
            },
            "type": "histogram"
           }
          ],
          "histogram2d": [
           {
            "colorbar": {
             "outlinewidth": 0,
             "ticks": ""
            },
            "colorscale": [
             [
              0,
              "#0d0887"
             ],
             [
              0.1111111111111111,
              "#46039f"
             ],
             [
              0.2222222222222222,
              "#7201a8"
             ],
             [
              0.3333333333333333,
              "#9c179e"
             ],
             [
              0.4444444444444444,
              "#bd3786"
             ],
             [
              0.5555555555555556,
              "#d8576b"
             ],
             [
              0.6666666666666666,
              "#ed7953"
             ],
             [
              0.7777777777777778,
              "#fb9f3a"
             ],
             [
              0.8888888888888888,
              "#fdca26"
             ],
             [
              1,
              "#f0f921"
             ]
            ],
            "type": "histogram2d"
           }
          ],
          "histogram2dcontour": [
           {
            "colorbar": {
             "outlinewidth": 0,
             "ticks": ""
            },
            "colorscale": [
             [
              0,
              "#0d0887"
             ],
             [
              0.1111111111111111,
              "#46039f"
             ],
             [
              0.2222222222222222,
              "#7201a8"
             ],
             [
              0.3333333333333333,
              "#9c179e"
             ],
             [
              0.4444444444444444,
              "#bd3786"
             ],
             [
              0.5555555555555556,
              "#d8576b"
             ],
             [
              0.6666666666666666,
              "#ed7953"
             ],
             [
              0.7777777777777778,
              "#fb9f3a"
             ],
             [
              0.8888888888888888,
              "#fdca26"
             ],
             [
              1,
              "#f0f921"
             ]
            ],
            "type": "histogram2dcontour"
           }
          ],
          "mesh3d": [
           {
            "colorbar": {
             "outlinewidth": 0,
             "ticks": ""
            },
            "type": "mesh3d"
           }
          ],
          "parcoords": [
           {
            "line": {
             "colorbar": {
              "outlinewidth": 0,
              "ticks": ""
             }
            },
            "type": "parcoords"
           }
          ],
          "pie": [
           {
            "automargin": true,
            "type": "pie"
           }
          ],
          "scatter": [
           {
            "fillpattern": {
             "fillmode": "overlay",
             "size": 10,
             "solidity": 0.2
            },
            "type": "scatter"
           }
          ],
          "scatter3d": [
           {
            "line": {
             "colorbar": {
              "outlinewidth": 0,
              "ticks": ""
             }
            },
            "marker": {
             "colorbar": {
              "outlinewidth": 0,
              "ticks": ""
             }
            },
            "type": "scatter3d"
           }
          ],
          "scattercarpet": [
           {
            "marker": {
             "colorbar": {
              "outlinewidth": 0,
              "ticks": ""
             }
            },
            "type": "scattercarpet"
           }
          ],
          "scattergeo": [
           {
            "marker": {
             "colorbar": {
              "outlinewidth": 0,
              "ticks": ""
             }
            },
            "type": "scattergeo"
           }
          ],
          "scattergl": [
           {
            "marker": {
             "colorbar": {
              "outlinewidth": 0,
              "ticks": ""
             }
            },
            "type": "scattergl"
           }
          ],
          "scattermapbox": [
           {
            "marker": {
             "colorbar": {
              "outlinewidth": 0,
              "ticks": ""
             }
            },
            "type": "scattermapbox"
           }
          ],
          "scatterpolar": [
           {
            "marker": {
             "colorbar": {
              "outlinewidth": 0,
              "ticks": ""
             }
            },
            "type": "scatterpolar"
           }
          ],
          "scatterpolargl": [
           {
            "marker": {
             "colorbar": {
              "outlinewidth": 0,
              "ticks": ""
             }
            },
            "type": "scatterpolargl"
           }
          ],
          "scatterternary": [
           {
            "marker": {
             "colorbar": {
              "outlinewidth": 0,
              "ticks": ""
             }
            },
            "type": "scatterternary"
           }
          ],
          "surface": [
           {
            "colorbar": {
             "outlinewidth": 0,
             "ticks": ""
            },
            "colorscale": [
             [
              0,
              "#0d0887"
             ],
             [
              0.1111111111111111,
              "#46039f"
             ],
             [
              0.2222222222222222,
              "#7201a8"
             ],
             [
              0.3333333333333333,
              "#9c179e"
             ],
             [
              0.4444444444444444,
              "#bd3786"
             ],
             [
              0.5555555555555556,
              "#d8576b"
             ],
             [
              0.6666666666666666,
              "#ed7953"
             ],
             [
              0.7777777777777778,
              "#fb9f3a"
             ],
             [
              0.8888888888888888,
              "#fdca26"
             ],
             [
              1,
              "#f0f921"
             ]
            ],
            "type": "surface"
           }
          ],
          "table": [
           {
            "cells": {
             "fill": {
              "color": "#EBF0F8"
             },
             "line": {
              "color": "white"
             }
            },
            "header": {
             "fill": {
              "color": "#C8D4E3"
             },
             "line": {
              "color": "white"
             }
            },
            "type": "table"
           }
          ]
         },
         "layout": {
          "annotationdefaults": {
           "arrowcolor": "#2a3f5f",
           "arrowhead": 0,
           "arrowwidth": 1
          },
          "autotypenumbers": "strict",
          "coloraxis": {
           "colorbar": {
            "outlinewidth": 0,
            "ticks": ""
           }
          },
          "colorscale": {
           "diverging": [
            [
             0,
             "#8e0152"
            ],
            [
             0.1,
             "#c51b7d"
            ],
            [
             0.2,
             "#de77ae"
            ],
            [
             0.3,
             "#f1b6da"
            ],
            [
             0.4,
             "#fde0ef"
            ],
            [
             0.5,
             "#f7f7f7"
            ],
            [
             0.6,
             "#e6f5d0"
            ],
            [
             0.7,
             "#b8e186"
            ],
            [
             0.8,
             "#7fbc41"
            ],
            [
             0.9,
             "#4d9221"
            ],
            [
             1,
             "#276419"
            ]
           ],
           "sequential": [
            [
             0,
             "#0d0887"
            ],
            [
             0.1111111111111111,
             "#46039f"
            ],
            [
             0.2222222222222222,
             "#7201a8"
            ],
            [
             0.3333333333333333,
             "#9c179e"
            ],
            [
             0.4444444444444444,
             "#bd3786"
            ],
            [
             0.5555555555555556,
             "#d8576b"
            ],
            [
             0.6666666666666666,
             "#ed7953"
            ],
            [
             0.7777777777777778,
             "#fb9f3a"
            ],
            [
             0.8888888888888888,
             "#fdca26"
            ],
            [
             1,
             "#f0f921"
            ]
           ],
           "sequentialminus": [
            [
             0,
             "#0d0887"
            ],
            [
             0.1111111111111111,
             "#46039f"
            ],
            [
             0.2222222222222222,
             "#7201a8"
            ],
            [
             0.3333333333333333,
             "#9c179e"
            ],
            [
             0.4444444444444444,
             "#bd3786"
            ],
            [
             0.5555555555555556,
             "#d8576b"
            ],
            [
             0.6666666666666666,
             "#ed7953"
            ],
            [
             0.7777777777777778,
             "#fb9f3a"
            ],
            [
             0.8888888888888888,
             "#fdca26"
            ],
            [
             1,
             "#f0f921"
            ]
           ]
          },
          "colorway": [
           "#636efa",
           "#EF553B",
           "#00cc96",
           "#ab63fa",
           "#FFA15A",
           "#19d3f3",
           "#FF6692",
           "#B6E880",
           "#FF97FF",
           "#FECB52"
          ],
          "font": {
           "color": "#2a3f5f"
          },
          "geo": {
           "bgcolor": "white",
           "lakecolor": "white",
           "landcolor": "white",
           "showlakes": true,
           "showland": true,
           "subunitcolor": "#C8D4E3"
          },
          "hoverlabel": {
           "align": "left"
          },
          "hovermode": "closest",
          "mapbox": {
           "style": "light"
          },
          "paper_bgcolor": "white",
          "plot_bgcolor": "white",
          "polar": {
           "angularaxis": {
            "gridcolor": "#EBF0F8",
            "linecolor": "#EBF0F8",
            "ticks": ""
           },
           "bgcolor": "white",
           "radialaxis": {
            "gridcolor": "#EBF0F8",
            "linecolor": "#EBF0F8",
            "ticks": ""
           }
          },
          "scene": {
           "xaxis": {
            "backgroundcolor": "white",
            "gridcolor": "#DFE8F3",
            "gridwidth": 2,
            "linecolor": "#EBF0F8",
            "showbackground": true,
            "ticks": "",
            "zerolinecolor": "#EBF0F8"
           },
           "yaxis": {
            "backgroundcolor": "white",
            "gridcolor": "#DFE8F3",
            "gridwidth": 2,
            "linecolor": "#EBF0F8",
            "showbackground": true,
            "ticks": "",
            "zerolinecolor": "#EBF0F8"
           },
           "zaxis": {
            "backgroundcolor": "white",
            "gridcolor": "#DFE8F3",
            "gridwidth": 2,
            "linecolor": "#EBF0F8",
            "showbackground": true,
            "ticks": "",
            "zerolinecolor": "#EBF0F8"
           }
          },
          "shapedefaults": {
           "line": {
            "color": "#2a3f5f"
           }
          },
          "ternary": {
           "aaxis": {
            "gridcolor": "#DFE8F3",
            "linecolor": "#A2B1C6",
            "ticks": ""
           },
           "baxis": {
            "gridcolor": "#DFE8F3",
            "linecolor": "#A2B1C6",
            "ticks": ""
           },
           "bgcolor": "white",
           "caxis": {
            "gridcolor": "#DFE8F3",
            "linecolor": "#A2B1C6",
            "ticks": ""
           }
          },
          "title": {
           "x": 0.05
          },
          "xaxis": {
           "automargin": true,
           "gridcolor": "#EBF0F8",
           "linecolor": "#EBF0F8",
           "ticks": "",
           "title": {
            "standoff": 15
           },
           "zerolinecolor": "#EBF0F8",
           "zerolinewidth": 2
          },
          "yaxis": {
           "automargin": true,
           "gridcolor": "#EBF0F8",
           "linecolor": "#EBF0F8",
           "ticks": "",
           "title": {
            "standoff": 15
           },
           "zerolinecolor": "#EBF0F8",
           "zerolinewidth": 2
          }
         }
        },
        "xaxis": {
         "anchor": "y",
         "domain": [
          0,
          1
         ]
        },
        "yaxis": {
         "anchor": "x",
         "domain": [
          0,
          1
         ]
        }
       }
      },
      "text/html": [
       "<div>                            <div id=\"70226aff-eeff-4a9c-a7a1-af0f715ba0b5\" class=\"plotly-graph-div\" style=\"height:900px; width:100%;\"></div>            <script type=\"text/javascript\">                require([\"plotly\"], function(Plotly) {                    window.PLOTLYENV=window.PLOTLYENV || {};                                    if (document.getElementById(\"70226aff-eeff-4a9c-a7a1-af0f715ba0b5\")) {                    Plotly.newPlot(                        \"70226aff-eeff-4a9c-a7a1-af0f715ba0b5\",                        [{\"showlegend\":true,\"x\":[-68.907826,-56.94317299999966,-90.52040099999977,-97.346364,-1.4400030000000186,-0.4985899999999788,-24.351473,-8.582014999999956,-52.72975200000019,-39.26046300000007,-17.521928000000116,-61.79250199999933,-8.665487999999982,-5.504466999999977,-7.069152999999972,-0.11874999999999858,-87.14706100000012,-0.6734569999999849,-81.31262100000004,-67.18661500000053,-27.637627000000066,-14.467556999999942,-10.29798500000004,-28.082559000000003,-12.943078999999955,-75.63103800000044,-3.5136039999999866,-28.600716000000034,-11.369766000000027,-3.0138430000000085,-0.9093009999999992,-4.744115999999849,-7.115165000000019,-17.491645000000005,-97.60646599999927,-6.835826999999881,-19.782767999999805,-107.1127949999991,-6.982460000000174,-17.92099200000007,-26.791960000000472,-2.9421689999999785,-53.713636999999835,-31.633156999999983,-7.142977999999971,-2.9053729999999973,-26.74589900000001,-45.83805099999972,-57.64431799999966,-0.22831399999998325,-98.98049700000047,-4.49683200000004,-6.579158000000007,-6.64305800000011,-7.288076999999703,-27.850886000000173,-17.439540999999963,-0.04302400000005946,-11.670495999999957,-6.066453000000024,-203.83318999999983,-90.9852949999995,-40.933034000000134,-11.182741999999962,-187.9004840000007,-23.34694999999965,-61.74561399999993,-5.9654400000001715,-4.013981000000058,-56.125823999999966,-44.21907100000044,-42.945768000000044,-75.01471500000025,-0.6590669999999363,-26.195392999999967,-123.61595500000112,-22.85441199999991,-30.031726999999933,-39.26046300000007,-39.283204000000296,-30.310226000000057,-1.475301000000016,-279.99371099999917,-27.477790000000027,-0.1351020000000176,-37.085235999999895,-68.734654,-4.789202000000159,-32.61073999999999,-25.207280000000083,-22.93875100000014,-33.40787099999943,-4.395667000000003,-37.558619000000135,-33.82629700000007,-18.549868999999944,-102.612975,-62.28049800000008,-60.13263500000039,-7.390245999999934,-157.5558430000001,-20.197055999999975,-0.2730010000000078,-11.455156999999872,-46.60896300000013,-99.72926499999994,-13.408567000000062,-11.091815999999994,-341.314627,-65.18909000000008,-6.571513999999979,-24.584874000000013,-15.339492000000064,-6.635189000000082,-101.45095500000025,-27.345534000000043,-12.893506000000116,-37.81574099999989,-120.39838400000008,-38.91764000000012,-10.783386000000007,-633.6988690000017,-56.02249000000029,-33.91773399999988,-19.014672999999902,-3.237435000000005,-213.62294799999836,-6.892019000000346,-253.9490050000004,-170.54569900000024,-115.68149799999998,-14.16194100000007,-0.07064300000000401,-10.182254000000285,-38.54722200000015,-22.25944400000003,-43.66533700000036,-628.0280359999997,-23.447721,-14.160109000000034,-10.77171999999996,-6.131611999999961,-0.6244130000000041,-0.6244130000000041,-36.030092999999965,-112.80494499999986,-45.758730000000014,-4.653217999999981,-9.509788000000071,-105.23433099999966,-12.110700999999835,-115.49409600000035,-88.33013899999969,-8.72846800000002,-87.61155300000064,-60.34258599999998,-97.350547,-126.76627600000029,-0.1351020000000176,-112.58129000000008,-10.638739999999984,-19.238256000000092,-6.138532999999995,-80.19193499999983,-0.9062230000000113,-21.380510999999984,-2.9462139999999977,-55.78516300000001,-1050.2776980000017,-4.317685999999981,-44.8533739999998,-43.319094000000405,-28.236507000000074,-3.770241999999996,-36.06334700000002,-77.58654999999999,-1.4263990000000035,-19.154266999999948,-14.577774999999974,-12.369621999999993,-7.464215999999965,-107.70790900000065,-20.560754000000088,-91.89192899999989,-7.31391700000006,-46.60896300000013,-90.4197059999999,-108.60766899999999,-19.62601200000006,-224.52595099999962,-241.88925100000006,-113.9118299999991,-0.5984100000000012,-66.04256900000019,-27.66931300000033,-3.5080930000000023,-90.6137149999995,-2.873491999999999,-54.873955000000024,-2.2868629999999968,-61.51614100000006,-0.6346029999999985,-32.75554999999997,-1.8898140000000012,-5.787166999999954,-13.401046999999835,-33.728634000000056,-8.830770999999913,-91.88680099999965,-53.702776000000085,-2.7988299999999953,-97.57374600000003,-13.61726699999997,-16.698515999999984,-1.3452389999999923,-24.861903999999868,-25.402648999999997,-25.81872599999997,-27.5285540000001,-27.850886000000173,-76.361356,-37.35251599999992,-43.35143700000003,-10.218701999999894,-9.232164000000012,-47.48090400000001,-44.36874399999988,-25.238505000000032,-106.10766599999988,-14.526008000000047,-17.47653400000013,-274.88534200000004,-46.910901000000194,-0.4239740000000154,-21.543206000000055,-10.004011999999989,-2.8485959999999864,-15.068544000000003,-19.281450999999834,-3.5773699999999735,-36.85688700000014,-31.43666300000001,-145.29201300000022,-103.61967900000036,-157.5558430000001,-0.3720140000000356,-33.3669910000001,-24.170311999999967,-3.088542000000075,-0.8672150000000016,-14.949832000000015,-171.8554179999992,-9.194244000000253,-136.7038539999994,-146.99205699999948,-11.796898000000056,-19.239941000000044,-99.17319999999927,-51.097655999999915,-393.9571130000004,-6.4539599999998245,-1.9100300000000061,-0.4100859999999784,-15.413491000000022,-37.25729699999988,-120.27296999999999,-1.5850059999999928,-127.81351200000063,-8.93243700000005,-7.901600999999914,-21.854199000000335,-88.22567600000002,-35.60299200000003,-41.86265299999968,-472.5789299999997,-3.4227160000000083,-3.9548810000000003,-3.4878539999999987,-253.9490050000004,-108.14526500000011,-29.298986000000014,-63.36852599999929,-24.087752000000023,-20.849542999999812,-5.752870999999914,-138.1383340000002,-13.563686000000018,-9.192270000000008,-11.513449000000008,-1.998660000000001,-0.2523609999999934,-65.18370100000004,-0.18938500000001568,-1311.6413179999995,-31.64878499999986,-7.0510629999998855,-7.355166000000281,-3.485096999999996,-59.31819799999994,-101.61274000000049,-0.9116860000000031,-15.568506999999954,-5.595103999999992,-105.55915600000117,-28.543789999999944,-26.692731000000094,-39.54411800000025,-14.100238999999988,-87.25333299999966,-17.72183000000041,-33.42077500000005,-24.93512199999998,-85.85988700000053,-21.931407000000036,-2.692264999999992,-8.996976000000359,-6.864583000000039,-108.60766899999999,-52.521606999999676,-81.98305100000016,-103.8585869999988,-11.61193000000003,-37.99359900000002,-0.44946000000000197,-18.72414100000003,-9.618798999999967,-65.10395600000004,-10.39706000000001,-45.61226399999987,-9.304591000000073,-44.99452500000007,-34.59219099999996,-26.60818499999914,-22.835739999999987,-137.87179400000014,-96.22292800000105,-43.80482499999971,-14.467556999999942,-12.276403999999957,-9.783012000000099,-114.06522399999994,-60.429479000000356,-122.57587000000058,-42.87002799999982,-1.2497809999999845,-6.971287999999731,-112.26699899999949,-7.197221000000013,-144.3999070000009,-135.34649000000013,-139.9573260000002,-0.3143359999999973,-1.4619979999999941,-201.82995899999992,-323.08436599999914,-48.69527900000003,-1.4235479999999825,-17.753615999999965,-20.449071000000004,-173.47097399999984,-147.48111400000016,-6.847937999999999,-31.254268999999965,-33.959891999999854,-68.89158500000008,-105.06684700000187,-26.682106000000203,-21.006263000000217,-628.980431,-3.684606999999687,-138.64878999999928,-101.54917799999998],\"type\":\"histogram\",\"xaxis\":\"x\",\"yaxis\":\"y\"},{\"showlegend\":true,\"x\":[-4.8016810000000305,-9.410516999999345,-10.094861000000037,-9.337588000000324,-0.24383400000002098,-2.3003369999999563,-3.272207000000037,-3.22295599999984,-2.447733999999855,-21.05428299999994,-6.318537000000106,-7.239362999999685,-3.69454300000001,-2.9238800000000538,-0.4311339999999859,-0.06527899999999676,-28.33185800000001,-0.15502200000000244,-5.71799800000008,-5.37236700000085,-8.617318999999952,-13.406203000000005,-1.445999000000029,-2.19125600000001,-7.2118789999999535,-7.430871999999908,-0.12055499999999597,-2.765038000000004,-1.4504710000001069,-0.31872599999999807,-0.8355749999999773,-2.8955369999998766,-2.614564999999999,-5.549802,-23.244104999999763,-8.24471399999993,-4.312059999999974,-14.735815000000002,-7.056152999999995,-1.2899500000000899,-9.320663000000422,-0.028518999999988637,-7.192587000000003,-6.724575000000016,-0.25271299999997154,-2.0907589999999914,-17.73967700000003,-4.070076999999856,-6.015336999999818,-0.34059299999998416,-28.790423000000374,-1.6377800000000207,-2.6169330000000173,-3.0576230000001487,-8.07821899999999,-8.264231000000109,-1.8408280000001014,-1.023074000000065,-1.3613569999999982,-17.135493999999994,-13.458795999999893,-11.142582999999831,-13.437171000000035,-4.400837999999965,-139.36347999999998,-5.72515199999998,-23.446619000000055,-1.7292879999999968,-6.145980000000009,-4.417507999999998,-12.59076400000049,-10.79821899999979,-29.370670000000246,-1.8367620000000215,-6.907543999999689,-31.244001000000935,-2.671096000000034,-20.961698999999953,-21.05428299999994,-9.041866999999911,-8.032224999999926,-0.23863900000000626,-26.210065999999642,-2.504568000000063,-0.7807109999999966,-16.966491999999562,-115.006414,-5.2708520000001045,-15.778280999999964,-3.875807000000009,-8.639714999999796,-24.740772999999535,-1.0166000000000395,-3.356160999999929,-2.2113919999999325,-4.324806999999964,-15.711506999999983,-18.7991320000001,-14.38534800000025,-1.3472079999999096,-94.54125999999997,-7.111407999999983,-0.04970400000000552,-3.5492189999999937,-15.411329999999907,-13.581100000000333,-1.2096750000000611,-4.0517019999999775,-187.56304699999998,-34.096262000000024,-0.7889040000000023,-6.463765999999964,-19.198191999999835,-7.787135000000035,-11.124560000000201,-9.247980000000098,-6.457610000000159,-5.686986000000161,-9.11507999999958,-10.110987999999907,-3.345286999999985,-501.6676669999997,-10.031214000000091,-8.65053399999988,-3.2742490000000544,-0.08841500000005453,-25.660107999998218,-7.4710360000003675,-123.54297600000064,-13.943124999999782,-85.34201200000001,-1.8493200000000343,-0.4301640000000049,-18.88072000000011,-9.01088000000027,-5.760407999999984,-3.9968590000003132,-524.3449870000004,-13.865317000000005,-2.520324999999957,-7.3613450000000284,-1.8731070000000045,-1.1912429999999858,-1.1912429999999858,-15.743698999999992,-30.53077200000007,-1.6261269999999968,-0.6692249999999831,-3.514550999999983,-17.67163999999866,-4.659260999999788,-25.077903000000333,-18.99968700000045,-0.3477350000000001,-23.433646999999837,-9.454258999999979,-18.680403000000297,-13.070544000000154,-0.7807109999999966,-14.142486000000645,-6.4765129999999544,-2.2058370000000878,-1.712508000000014,-30.30228299999999,-0.9327729999999974,-0.9117609999999843,-0.34629800000001865,-9.726646999999957,-759.0141620000031,-3.5666499999999814,-11.29979400000002,-2.8769900000002053,-2.9524569999998675,-1.4817229999999881,-9.046243000000004,-7.536480999999185,-0.29279900000000225,-2.031612999999993,-3.765376999999944,-4.414768999999978,-2.0877570000000105,-14.085641000001488,-18.221895000000586,-3.3239589999998316,-2.6713600000000497,-15.411329999999907,-32.534447,-12.541651999999885,-1.1786409999999705,-7.257826000000023,-71.95418699999982,-20.494038999999248,-1.0218679999999836,-15.266651000000365,-15.183552999999847,-2.7426519999999925,-24.182159999998476,-1.5266710000000216,-29.83872400000007,-0.08744699999999739,-16.592991000001348,-0.28555299999999306,-6.436286999999993,-3.259907999999996,-2.4347980000000007,-2.8991729999997915,-7.484086000000389,-5.071115999999847,-5.999735999999757,-9.541667000000416,-0.7107429999999937,-16.611337999998796,-2.0070709999999963,-3.3332999999999515,-0.8117420000000095,-3.384461999999985,-5.564284999999984,-9.542311000000154,-6.63562300000001,-8.264231000000109,-9.969383999999991,-10.455023999999867,-3.6537070000001677,-6.884637999999995,-10.854491000000053,-2.5517580000000635,-8.268912999999884,-5.689093000000071,-13.643702999999732,-1.4117549999998573,-1.6223810000001322,-177.2891370000002,-11.978310999999849,-0.19518700000000422,-4.275503999999955,-1.355436999999995,-2.273015999999984,-1.8855409999999893,-1.7102229999998144,-3.469823000000133,-5.422535000000153,-8.60803500000003,-35.57150300000012,-26.719200000000455,-94.54125999999997,-1.2007579999999507,-3.3975840000000517,-2.2755600000000413,-3.4527550000000247,-0.10614699999999289,-0.3291140000000041,-24.328354999999647,-7.28310300000021,-32.428054999998494,-47.266491999998834,-10.76910399999997,-13.527544000000034,-10.890471000000616,-1.2724759999998696,-357.1104090000008,-7.787941000000046,-0.10622200000000248,-0.047943999999972675,-4.05365299999994,-2.264993000000004,-10.751538000000437,-0.5846540000000005,-17.997691999999915,-2.064988000000085,-9.124955999999997,-8.350132999999914,-22.482218000000103,-10.762597000000028,-13.289279999999962,-50.317103999997926,-0.6626090000000033,-0.37126200000000154,-0.28219400000000405,-123.54297600000064,-26.169882000000143,-0.8700049999999919,-14.163257999999587,-7.340683000000013,-11.195189999999911,-13.599905999999919,-48.287708000000066,-0.7265820000000076,-1.5263410000000022,-1.0057280000000048,-0.6855309999999974,-0.16297999999999035,-7.840806000000043,-2.554603000000043,-1029.267641,-5.348038999999972,-2.950791999999865,-0.8754910000002383,-0.25480699999999956,-11.526589000000058,-13.333623000000443,-1.907149000000004,-1.5688470000000052,-0.13977699999998094,-18.931219000000056,-3.3875530000000253,-18.382530000000088,-12.440390000000207,-1.1302839999999605,-33.28531800000019,-16.631207999999788,-3.7266510000000608,-1.5791269999999713,-13.094576000001325,-3.420139000000063,-0.3147419999999954,-6.121321999999964,-0.43556199999989076,-12.541651999999885,-17.218219000000317,-19.400015000000167,-12.312540999999328,-2.5427240000001348,-1.048167000000035,-0.2534069999999957,-11.276419000000033,-4.852927999999963,-33.58856800000001,-3.603749999999991,-7.136260999999649,-0.3090950000000703,-10.699284999999918,-9.010569999999916,-8.624345999999605,-4.293013999999857,-14.309993000000304,-6.2112230000002455,-14.640551999999843,-13.406203000000005,-3.5727889999998297,-2.945660000000089,-30.10474400000021,-10.663062999999966,-8.07376099999965,-10.798219000000245,-0.21904499999999416,-0.8218010000000504,-25.635408999999527,-1.123309000000006,-45.60155200000008,-47.8909470000001,-49.58138699999995,-0.27738400000001207,-1.8967319999999859,-112.66971199999989,-34.57118199999968,-12.564262999999755,-3.1312090000000126,-11.177947000000131,-1.4824740000000247,-41.614692000001014,-29.12871300000006,-4.1551659999999515,-3.756170999999995,-17.959297999999762,-5.014664999999923,-24.84655600000042,-8.326634999999442,-16.69350200000008,-524.3449870000004,-2.5146859999999833,-11.931117000000086,-7.184799999999996],\"type\":\"histogram\",\"xaxis\":\"x\",\"yaxis\":\"y\"},{\"showlegend\":true,\"x\":[-20.932618000000048,-36.8280920000002,-33.70509300000003,-40.923567999999705,-0.6461490000000083,-1.1220910000000117,-8.954318,-7.4678499999999985,-24.378221000000167,-28.56901999999991,-11.190226000000166,-32.19208200000003,-7.506529999999998,-5.0236340000000155,-2.9026039999999966,-0.9194620000000029,-43.731513999999834,0.13643199999999922,-44.88013599999999,-24.899947999999767,-25.893785000000207,-17.33824000000004,-7.047101999999995,-5.690025999999989,-5.132463999999999,-33.44426999999996,-0.811074000000005,-15.095623000000046,-4.354781000000003,-2.7259320000000002,-2.5349319999999977,-5.233786000000009,-7.790623000000011,-2.524723000000023,-64.03242599999976,-10.874191999999994,-9.424395000000004,-72.85468800000035,-10.654831999999942,-6.403962999999976,-16.174551000000065,-0.9588289999999944,-27.92461000000003,-8.969922999999994,-6.621584000000013,-8.136920000000003,-14.116206000000005,-20.996578000000227,-28.475280999999995,-0.30634300000001247,-83.52020399999992,-4.8645440000000235,-3.608296999999993,-5.374915999999985,-11.560735000000022,-16.69756499999994,-11.293242000000077,-0.779293999999993,-4.95261000000005,-11.516402999999968,-64.74903300000005,-37.0731310000001,-22.2931880000001,-3.236919999999998,-16.172977000000174,-11.833067000000028,-28.633374999999887,-5.277052000000026,-5.652563999999984,-17.169967999999983,-28.299003000000084,-23.825834000000214,-45.7119789999997,-0.9444900000000302,-21.288222000000133,-98.34922300000017,-7.655639000000065,-12.13067000000001,-28.56901999999991,-27.432544999999664,-9.142724000000044,-0.9372439999999926,-126.14402599999994,-5.307191999999986,-0.8092020000000275,-17.63377700000001,9.999999999177334e-07,-7.0921639999999115,-3.965993999999995,-19.185606000000007,-19.9900090000001,-27.370060000000194,-2.662633999999997,-11.410481000000004,-15.51861299999996,-17.328859999999963,-43.46917200000007,-23.328929999999673,-25.65858800000001,-10.217479999999966,-26.697307000000364,-3.4755150000000015,-0.09285100000000313,-7.346508999999969,-22.48443099999986,-47.84506400000009,-3.680536000000018,-2.5305829999999787,-13.435090000000002,-21.541653999999994,-7.643312000000009,-4.707732000000021,-16.25679900000023,-10.710593999999901,-40.680709000000206,-22.99679200000014,-8.647851999999943,-24.433138999999983,-39.05256399999962,-36.47234300000014,-7.809849000000014,-31.768066000000545,-16.644812,-12.51502000000005,-9.15341599999988,-1.0594890000000134,-78.18957599999976,-10.662180999999919,-26.25436499999978,-66.23379000000023,-11.768124999999998,-8.736868000000015,-0.7840910000000036,-22.764770000000226,-17.27812199999994,-3.8956079999999815,-18.693382000000156,-142.34594599999946,-1.9250750000000494,-9.418569999999988,-15.338510999999926,-2.235697999999985,-0.9708559999999693,-0.9708559999999693,-9.721222000000012,-53.1531759999998,-23.52239600000007,-3.058881999999983,-7.475821999999994,-40.850140000000465,-5.892654999999991,-69.11508099999992,-41.299205000000256,-2.5235359999999787,-69.39728500000001,-13.324483999999984,-54.36616200000026,-41.96849800000018,-0.8092020000000275,-70.547098,-8.596131000000014,-14.442738000000077,-4.985663999999986,-37.33589600000005,-1.0097299999999905,-9.82420900000001,-2.1068189999999873,-11.25344899999999,-24.72661599999992,-2.1673319999999876,-34.590950999999905,-15.818818000000192,-10.782674000000043,-2.7527299999999855,-27.049881000000028,-36.660639000000174,-0.8201409999999996,-11.225031999999999,-12.836176000000023,-3.3515580000000114,-7.569213999999988,-64.38527900000008,-16.262073000000328,-28.281132999999954,-6.122726999999998,-22.48443099999986,-13.625549000000035,-56.272435000000314,-7.671303000000023,-69.58413900000005,-31.498501000000033,-65.87586900000042,-1.1681239999999775,-20.93321100000003,-13.687199999999848,-0.5092159999999808,-72.41004500000054,-3.1500529999999856,-10.962871999999948,-1.3114550000000023,-60.5224589999998,-1.1763079999999988,-20.059654000000023,-4.273252000000014,-7.888959999999997,-6.594928999999979,-12.536759999999958,-7.463435000000004,-43.54480599999988,-35.59920899999997,-2.537868000000003,-60.23092900000029,-10.53231199999999,-6.327539000000002,-2.639780000000002,-27.216318999999885,-11.046507999999989,-20.764854000000014,-13.299453000000028,-16.69756499999994,-17.343795999999998,-23.841192000000092,-17.808373999999958,-13.711828999999966,-15.762477999999874,-30.24373099999991,-22.991792000000032,-19.01646299999993,-52.570168000000194,-12.733529999999973,-10.492657000000008,-37.00924299999997,-41.720408000000134,-0.8388519999999886,-9.967556999999942,-3.927182000000016,-7.952104999999989,-26.705528,-8.414713000000006,-4.137569999999982,-20.970636000000013,-4.082872000000009,-35.55656799999997,-31.249616999999944,-26.697307000000364,-1.0861400000000003,-28.429846999999995,-8.293908999999985,-4.176156999999989,-1.0726259999999996,-10.00105000000002,-81.31201800000053,-14.046370000000024,-88.31346199999916,-60.97811600000023,-9.38845100000026,-19.49714400000005,-40.726786000000175,-18.856690999999955,-5.875641999999061,-10.048216000000139,-0.9490760000000051,-0.27194299999999316,-6.187825999999973,-18.350068999999962,-51.23063499999989,-0.304064000000011,-65.510041,-7.232061999999985,-19.043000000000006,-16.782439000000068,-50.40927799999963,-20.383837,-28.372071000000233,-250.2608880000007,-5.3529279999999915,-1.785933,-1.3821379999999976,-26.25436499999978,-39.39934600000015,-13.454696999999953,-23.816111999999976,-13.278296000000012,-22.258460000000014,-10.654944999999941,-16.637012000000027,-5.8539829999999995,-4.1688159999999925,-9.616498000000007,-2.0637080000000196,-0.42113200000000006,-18.74367699999999,-1.676587999999981,-32.627396999999974,-14.548221000000012,-20.069727000000057,-3.77125500000011,-1.9679809999999947,-30.79764,-43.724999000000025,-6.190151999999998,-8.188550999999961,-3.379468000000003,-55.69140299999981,-19.469330000000014,-14.90494200000012,-20.556409999999914,-8.720209000000011,-38.859187999999904,-13.303539,-6.358069,-8.52993200000003,-47.153667999999925,-10.935784000000012,-1.4007100000000037,-9.925612000000001,-3.4401180000000977,-56.272435000000314,-32.23363100000006,-45.058828000000176,-47.26052600000003,-6.1807039999999915,-14.882484999999974,-2.820402999999999,-12.048577000000023,-10.682241000000033,-7.128554000000008,-4.820814999999982,-25.083086999999978,-6.744931999999608,-23.189239000000043,-27.61552000000006,-17.25151700000015,-23.828126999999995,-46.65223200000014,-41.54609400000027,-24.026022999999896,-17.33824000000004,-6.5817180000000235,-6.715108999999984,-52.49463400000013,-25.741993000000093,-38.41052600000057,-23.823115000000143,-2.346261999999996,-3.5399589999999534,-66.26749999999993,-1.290143999999998,-59.878999999999905,-16.282464000000004,-15.582221000000004,-0.5846599999999995,0.23566500000001156,-16.71937600000001,-150.42985899999985,-43.58415699999978,-0.7049729999999954,-13.419647000000055,-12.194983999999977,-166.41672199999994,-52.839668000000074,-5.553064000000006,-5.904977000000002,-21.13487000000032,-21.919182999999975,-76.1949139999997,-16.894091000000117,-13.828968000000259,-142.4132269999991,-4.042803999999933,-55.70162299999993,-45.41854000000001],\"type\":\"histogram\",\"xaxis\":\"x\",\"yaxis\":\"y\"}],                        {\"template\":{\"data\":{\"barpolar\":[{\"marker\":{\"line\":{\"color\":\"white\",\"width\":0.5},\"pattern\":{\"fillmode\":\"overlay\",\"size\":10,\"solidity\":0.2}},\"type\":\"barpolar\"}],\"bar\":[{\"error_x\":{\"color\":\"#2a3f5f\"},\"error_y\":{\"color\":\"#2a3f5f\"},\"marker\":{\"line\":{\"color\":\"white\",\"width\":0.5},\"pattern\":{\"fillmode\":\"overlay\",\"size\":10,\"solidity\":0.2}},\"type\":\"bar\"}],\"carpet\":[{\"aaxis\":{\"endlinecolor\":\"#2a3f5f\",\"gridcolor\":\"#C8D4E3\",\"linecolor\":\"#C8D4E3\",\"minorgridcolor\":\"#C8D4E3\",\"startlinecolor\":\"#2a3f5f\"},\"baxis\":{\"endlinecolor\":\"#2a3f5f\",\"gridcolor\":\"#C8D4E3\",\"linecolor\":\"#C8D4E3\",\"minorgridcolor\":\"#C8D4E3\",\"startlinecolor\":\"#2a3f5f\"},\"type\":\"carpet\"}],\"choropleth\":[{\"colorbar\":{\"outlinewidth\":0,\"ticks\":\"\"},\"type\":\"choropleth\"}],\"contourcarpet\":[{\"colorbar\":{\"outlinewidth\":0,\"ticks\":\"\"},\"type\":\"contourcarpet\"}],\"contour\":[{\"colorbar\":{\"outlinewidth\":0,\"ticks\":\"\"},\"colorscale\":[[0.0,\"#0d0887\"],[0.1111111111111111,\"#46039f\"],[0.2222222222222222,\"#7201a8\"],[0.3333333333333333,\"#9c179e\"],[0.4444444444444444,\"#bd3786\"],[0.5555555555555556,\"#d8576b\"],[0.6666666666666666,\"#ed7953\"],[0.7777777777777778,\"#fb9f3a\"],[0.8888888888888888,\"#fdca26\"],[1.0,\"#f0f921\"]],\"type\":\"contour\"}],\"heatmapgl\":[{\"colorbar\":{\"outlinewidth\":0,\"ticks\":\"\"},\"colorscale\":[[0.0,\"#0d0887\"],[0.1111111111111111,\"#46039f\"],[0.2222222222222222,\"#7201a8\"],[0.3333333333333333,\"#9c179e\"],[0.4444444444444444,\"#bd3786\"],[0.5555555555555556,\"#d8576b\"],[0.6666666666666666,\"#ed7953\"],[0.7777777777777778,\"#fb9f3a\"],[0.8888888888888888,\"#fdca26\"],[1.0,\"#f0f921\"]],\"type\":\"heatmapgl\"}],\"heatmap\":[{\"colorbar\":{\"outlinewidth\":0,\"ticks\":\"\"},\"colorscale\":[[0.0,\"#0d0887\"],[0.1111111111111111,\"#46039f\"],[0.2222222222222222,\"#7201a8\"],[0.3333333333333333,\"#9c179e\"],[0.4444444444444444,\"#bd3786\"],[0.5555555555555556,\"#d8576b\"],[0.6666666666666666,\"#ed7953\"],[0.7777777777777778,\"#fb9f3a\"],[0.8888888888888888,\"#fdca26\"],[1.0,\"#f0f921\"]],\"type\":\"heatmap\"}],\"histogram2dcontour\":[{\"colorbar\":{\"outlinewidth\":0,\"ticks\":\"\"},\"colorscale\":[[0.0,\"#0d0887\"],[0.1111111111111111,\"#46039f\"],[0.2222222222222222,\"#7201a8\"],[0.3333333333333333,\"#9c179e\"],[0.4444444444444444,\"#bd3786\"],[0.5555555555555556,\"#d8576b\"],[0.6666666666666666,\"#ed7953\"],[0.7777777777777778,\"#fb9f3a\"],[0.8888888888888888,\"#fdca26\"],[1.0,\"#f0f921\"]],\"type\":\"histogram2dcontour\"}],\"histogram2d\":[{\"colorbar\":{\"outlinewidth\":0,\"ticks\":\"\"},\"colorscale\":[[0.0,\"#0d0887\"],[0.1111111111111111,\"#46039f\"],[0.2222222222222222,\"#7201a8\"],[0.3333333333333333,\"#9c179e\"],[0.4444444444444444,\"#bd3786\"],[0.5555555555555556,\"#d8576b\"],[0.6666666666666666,\"#ed7953\"],[0.7777777777777778,\"#fb9f3a\"],[0.8888888888888888,\"#fdca26\"],[1.0,\"#f0f921\"]],\"type\":\"histogram2d\"}],\"histogram\":[{\"marker\":{\"pattern\":{\"fillmode\":\"overlay\",\"size\":10,\"solidity\":0.2}},\"type\":\"histogram\"}],\"mesh3d\":[{\"colorbar\":{\"outlinewidth\":0,\"ticks\":\"\"},\"type\":\"mesh3d\"}],\"parcoords\":[{\"line\":{\"colorbar\":{\"outlinewidth\":0,\"ticks\":\"\"}},\"type\":\"parcoords\"}],\"pie\":[{\"automargin\":true,\"type\":\"pie\"}],\"scatter3d\":[{\"line\":{\"colorbar\":{\"outlinewidth\":0,\"ticks\":\"\"}},\"marker\":{\"colorbar\":{\"outlinewidth\":0,\"ticks\":\"\"}},\"type\":\"scatter3d\"}],\"scattercarpet\":[{\"marker\":{\"colorbar\":{\"outlinewidth\":0,\"ticks\":\"\"}},\"type\":\"scattercarpet\"}],\"scattergeo\":[{\"marker\":{\"colorbar\":{\"outlinewidth\":0,\"ticks\":\"\"}},\"type\":\"scattergeo\"}],\"scattergl\":[{\"marker\":{\"colorbar\":{\"outlinewidth\":0,\"ticks\":\"\"}},\"type\":\"scattergl\"}],\"scattermapbox\":[{\"marker\":{\"colorbar\":{\"outlinewidth\":0,\"ticks\":\"\"}},\"type\":\"scattermapbox\"}],\"scatterpolargl\":[{\"marker\":{\"colorbar\":{\"outlinewidth\":0,\"ticks\":\"\"}},\"type\":\"scatterpolargl\"}],\"scatterpolar\":[{\"marker\":{\"colorbar\":{\"outlinewidth\":0,\"ticks\":\"\"}},\"type\":\"scatterpolar\"}],\"scatter\":[{\"fillpattern\":{\"fillmode\":\"overlay\",\"size\":10,\"solidity\":0.2},\"type\":\"scatter\"}],\"scatterternary\":[{\"marker\":{\"colorbar\":{\"outlinewidth\":0,\"ticks\":\"\"}},\"type\":\"scatterternary\"}],\"surface\":[{\"colorbar\":{\"outlinewidth\":0,\"ticks\":\"\"},\"colorscale\":[[0.0,\"#0d0887\"],[0.1111111111111111,\"#46039f\"],[0.2222222222222222,\"#7201a8\"],[0.3333333333333333,\"#9c179e\"],[0.4444444444444444,\"#bd3786\"],[0.5555555555555556,\"#d8576b\"],[0.6666666666666666,\"#ed7953\"],[0.7777777777777778,\"#fb9f3a\"],[0.8888888888888888,\"#fdca26\"],[1.0,\"#f0f921\"]],\"type\":\"surface\"}],\"table\":[{\"cells\":{\"fill\":{\"color\":\"#EBF0F8\"},\"line\":{\"color\":\"white\"}},\"header\":{\"fill\":{\"color\":\"#C8D4E3\"},\"line\":{\"color\":\"white\"}},\"type\":\"table\"}]},\"layout\":{\"annotationdefaults\":{\"arrowcolor\":\"#2a3f5f\",\"arrowhead\":0,\"arrowwidth\":1},\"autotypenumbers\":\"strict\",\"coloraxis\":{\"colorbar\":{\"outlinewidth\":0,\"ticks\":\"\"}},\"colorscale\":{\"diverging\":[[0,\"#8e0152\"],[0.1,\"#c51b7d\"],[0.2,\"#de77ae\"],[0.3,\"#f1b6da\"],[0.4,\"#fde0ef\"],[0.5,\"#f7f7f7\"],[0.6,\"#e6f5d0\"],[0.7,\"#b8e186\"],[0.8,\"#7fbc41\"],[0.9,\"#4d9221\"],[1,\"#276419\"]],\"sequential\":[[0.0,\"#0d0887\"],[0.1111111111111111,\"#46039f\"],[0.2222222222222222,\"#7201a8\"],[0.3333333333333333,\"#9c179e\"],[0.4444444444444444,\"#bd3786\"],[0.5555555555555556,\"#d8576b\"],[0.6666666666666666,\"#ed7953\"],[0.7777777777777778,\"#fb9f3a\"],[0.8888888888888888,\"#fdca26\"],[1.0,\"#f0f921\"]],\"sequentialminus\":[[0.0,\"#0d0887\"],[0.1111111111111111,\"#46039f\"],[0.2222222222222222,\"#7201a8\"],[0.3333333333333333,\"#9c179e\"],[0.4444444444444444,\"#bd3786\"],[0.5555555555555556,\"#d8576b\"],[0.6666666666666666,\"#ed7953\"],[0.7777777777777778,\"#fb9f3a\"],[0.8888888888888888,\"#fdca26\"],[1.0,\"#f0f921\"]]},\"colorway\":[\"#636efa\",\"#EF553B\",\"#00cc96\",\"#ab63fa\",\"#FFA15A\",\"#19d3f3\",\"#FF6692\",\"#B6E880\",\"#FF97FF\",\"#FECB52\"],\"font\":{\"color\":\"#2a3f5f\"},\"geo\":{\"bgcolor\":\"white\",\"lakecolor\":\"white\",\"landcolor\":\"white\",\"showlakes\":true,\"showland\":true,\"subunitcolor\":\"#C8D4E3\"},\"hoverlabel\":{\"align\":\"left\"},\"hovermode\":\"closest\",\"mapbox\":{\"style\":\"light\"},\"paper_bgcolor\":\"white\",\"plot_bgcolor\":\"white\",\"polar\":{\"angularaxis\":{\"gridcolor\":\"#EBF0F8\",\"linecolor\":\"#EBF0F8\",\"ticks\":\"\"},\"bgcolor\":\"white\",\"radialaxis\":{\"gridcolor\":\"#EBF0F8\",\"linecolor\":\"#EBF0F8\",\"ticks\":\"\"}},\"scene\":{\"xaxis\":{\"backgroundcolor\":\"white\",\"gridcolor\":\"#DFE8F3\",\"gridwidth\":2,\"linecolor\":\"#EBF0F8\",\"showbackground\":true,\"ticks\":\"\",\"zerolinecolor\":\"#EBF0F8\"},\"yaxis\":{\"backgroundcolor\":\"white\",\"gridcolor\":\"#DFE8F3\",\"gridwidth\":2,\"linecolor\":\"#EBF0F8\",\"showbackground\":true,\"ticks\":\"\",\"zerolinecolor\":\"#EBF0F8\"},\"zaxis\":{\"backgroundcolor\":\"white\",\"gridcolor\":\"#DFE8F3\",\"gridwidth\":2,\"linecolor\":\"#EBF0F8\",\"showbackground\":true,\"ticks\":\"\",\"zerolinecolor\":\"#EBF0F8\"}},\"shapedefaults\":{\"line\":{\"color\":\"#2a3f5f\"}},\"ternary\":{\"aaxis\":{\"gridcolor\":\"#DFE8F3\",\"linecolor\":\"#A2B1C6\",\"ticks\":\"\"},\"baxis\":{\"gridcolor\":\"#DFE8F3\",\"linecolor\":\"#A2B1C6\",\"ticks\":\"\"},\"bgcolor\":\"white\",\"caxis\":{\"gridcolor\":\"#DFE8F3\",\"linecolor\":\"#A2B1C6\",\"ticks\":\"\"}},\"title\":{\"x\":0.05},\"xaxis\":{\"automargin\":true,\"gridcolor\":\"#EBF0F8\",\"linecolor\":\"#EBF0F8\",\"ticks\":\"\",\"title\":{\"standoff\":15},\"zerolinecolor\":\"#EBF0F8\",\"zerolinewidth\":2},\"yaxis\":{\"automargin\":true,\"gridcolor\":\"#EBF0F8\",\"linecolor\":\"#EBF0F8\",\"ticks\":\"\",\"title\":{\"standoff\":15},\"zerolinecolor\":\"#EBF0F8\",\"zerolinewidth\":2}}},\"xaxis\":{\"anchor\":\"y\",\"domain\":[0.0,1.0]},\"yaxis\":{\"anchor\":\"x\",\"domain\":[0.0,1.0]},\"annotations\":[{\"font\":{\"size\":16},\"showarrow\":false,\"text\":\"RF Distances between consensus trees\",\"x\":0.5,\"xanchor\":\"center\",\"xref\":\"paper\",\"y\":1.0,\"yanchor\":\"bottom\",\"yref\":\"paper\"}],\"height\":900},                        {\"responsive\": true}                    ).then(function(){\n",
       "                            \n",
       "var gd = document.getElementById('70226aff-eeff-4a9c-a7a1-af0f715ba0b5');\n",
       "var x = new MutationObserver(function (mutations, observer) {{\n",
       "        var display = window.getComputedStyle(gd).display;\n",
       "        if (!display || display === 'none') {{\n",
       "            console.log([gd, 'removed!']);\n",
       "            Plotly.purge(gd);\n",
       "            observer.disconnect();\n",
       "        }}\n",
       "}});\n",
       "\n",
       "// Listen for the removal of the full notebook cells\n",
       "var notebookContainer = gd.closest('#notebook-container');\n",
       "if (notebookContainer) {{\n",
       "    x.observe(notebookContainer, {childList: true});\n",
       "}}\n",
       "\n",
       "// Listen for the clearing of the current output cell\n",
       "var outputEl = gd.closest('.output');\n",
       "if (outputEl) {{\n",
       "    x.observe(outputEl, {childList: true});\n",
       "}}\n",
       "\n",
       "                        })                };                });            </script>        </div>"
      ]
     },
     "metadata": {},
     "output_type": "display_data"
    }
   ],
   "source": [
    "from plotly import graph_objects as go\n",
    "from plotly.subplots import make_subplots\n",
    "fig = make_subplots(\n",
    "    rows=1,\n",
    "    cols=1,\n",
    "    subplot_titles=[\"RF Distances between consensus trees\"]\n",
    ")\n",
    "\n",
    "    \n",
    "fig.append_trace(\n",
    "    go.Histogram(\n",
    "        x=df['BIN_cross_diff_GTR'],\n",
    "        showlegend=True\n",
    "        #, histnorm=\"percent\"\n",
    "    ),\n",
    "    row=1,\n",
    "    col=1\n",
    ")\n",
    "\n",
    "fig.append_trace(\n",
    "    go.Histogram(\n",
    "        x=df['BIN_cross_diff_MK'],\n",
    "        showlegend=True\n",
    "        #, histnorm=\"percent\"\n",
    "    ),\n",
    "    row=1,\n",
    "    col=1\n",
    ")\n",
    "\n",
    "fig.append_trace(\n",
    "    go.Histogram(\n",
    "        x=df['GTR_cross_diff_MK'],\n",
    "        showlegend=True\n",
    "        #, histnorm=\"percent\"\n",
    "    ),\n",
    "    row=1,\n",
    "    col=1\n",
    ")\n",
    "fig.update_layout(template=\"plotly_white\", height=900)"
   ]
  },
  {
   "cell_type": "code",
   "execution_count": null,
   "id": "6a8d5ee2",
   "metadata": {},
   "outputs": [],
   "source": [
    "def split_df(df, threshold, absolute=True):\n",
    "    if absolute:\n",
    "        outlier_df = df[(abs(df.BIN_cross_diff) > threshold) | (abs(df.MULTI_cross_diff) > threshold)]\n",
    "        remaining_df = df[(abs(df.BIN_cross_diff) <= threshold) & (abs(df.MULTI_cross_diff) <= threshold)]\n",
    "    else:\n",
    "        outlier_df = df[(df.BIN_cross_diff > threshold) | (df.MULTI_cross_diff > threshold)]\n",
    "        remaining_df = df[(df.BIN_cross_diff <= threshold) & (df.MULTI_cross_diff <= threshold)]\n",
    "    print(str(len(outlier_df.index)) + \" outliers\")\n",
    "    for index, row in outlier_df.iterrows():\n",
    "        print(row[\"MULTI_verbose_name\"])\n",
    "        print(row[\"MULTI_cross_diff\"])\n",
    "        print(row[\"BIN_cross_diff\"])\n",
    "    print(str(len(remaining_df.index)) + \" remaining\")\n",
    "    return (outlier_df, remaining_df)\n",
    "(outlier_df, remaining_df) = split_df(df, 50, True)"
   ]
  },
  {
   "cell_type": "code",
   "execution_count": null,
   "id": "ff31e764",
   "metadata": {},
   "outputs": [],
   "source": [
    "\n",
    "def plots_outlier(col):\n",
    "    fig = make_subplots(\n",
    "        rows=1,\n",
    "        cols=1,\n",
    "        subplot_titles=[\"Outlier comparison\"]\n",
    "    )\n",
    "    \n",
    "    fig.append_trace(\n",
    "        go.Histogram(\n",
    "            x=outlier_df[col],\n",
    "            name=\"Outlier\",\n",
    "            showlegend=True\n",
    "            #, histnorm=\"percent\"\n",
    "        ),\n",
    "        row=1,\n",
    "        col=1\n",
    "    )\n",
    "    fig.append_trace(\n",
    "        go.Histogram(\n",
    "            x=remaining_df[col],\n",
    "            name=\"Others\",\n",
    "            showlegend=True\n",
    "            #, histnorm=\"percent\"\n",
    "        ),\n",
    "        row=1,\n",
    "        col=1\n",
    "    )\n",
    "    return fig\n",
    "\n",
    "column = \"MULTI_num_taxa\"\n",
    "plots_outlier(column).update_layout(template=\"plotly_white\", height=600)\n",
    "#plots_outlier(column).write_image(column + \".png\") "
   ]
  }
 ],
 "metadata": {
  "kernelspec": {
   "display_name": "Python 3 (ipykernel)",
   "language": "python",
   "name": "python3"
  },
  "language_info": {
   "codemirror_mode": {
    "name": "ipython",
    "version": 3
   },
   "file_extension": ".py",
   "mimetype": "text/x-python",
   "name": "python",
   "nbconvert_exporter": "python",
   "pygments_lexer": "ipython3",
   "version": "3.10.9"
  }
 },
 "nbformat": 4,
 "nbformat_minor": 5
}
