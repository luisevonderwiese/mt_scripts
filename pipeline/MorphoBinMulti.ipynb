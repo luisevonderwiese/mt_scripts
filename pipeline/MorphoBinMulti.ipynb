{
 "cells": [
  {
   "cell_type": "code",
   "execution_count": null,
   "id": "b4e4c34e",
   "metadata": {},
   "outputs": [],
   "source": [
    "#Analysis for comparing results of morphological data in BIN and MULTI representation\n",
    "#Consider the LH of the tree found with BIN alignment under the MULTI alignment and model\n",
    "#and the other way around\n",
    "\n",
    "#Distances of best trees / consensus trees\n",
    "\n",
    "#Correlations"
   ]
  },
  {
   "cell_type": "code",
   "execution_count": null,
   "id": "05bde35e",
   "metadata": {},
   "outputs": [],
   "source": [
    "import os\n",
    "import pandas as pd\n",
    "import matplotlib.pyplot as plt\n",
    "from plotly import graph_objects as go\n",
    "from plotly.subplots import make_subplots\n",
    "import plotly.express as px\n",
    "from ete3 import Tree\n"
   ]
  },
  {
   "cell_type": "code",
   "execution_count": null,
   "id": "3fa1fffd",
   "metadata": {},
   "outputs": [],
   "source": [
    "def rf_distance(t1, t2):\n",
    "    rf, max_rf, common_leaves, parts_t1, parts_t2,discard_t1, discart_t2 = t1.robinson_foulds(t2, unrooted_trees = True)\n",
    "    if max_rf == 0:\n",
    "        print(\"?!\")\n",
    "        return 0\n",
    "    return rf/max_rf\n",
    "\n",
    "def read_consensus_trees(model):\n",
    "    if model == \"BIN\":\n",
    "        d = \"parquets/morph/BIN/\"\n",
    "    elif model == \"GTR\":\n",
    "        d = \"parquets/morph/MULTI/GTR/\"\n",
    "    elif model == \"MK\": \n",
    "        d = \"parquets/morph/MULTI/MK/\"\n",
    "    else:\n",
    "        print(model + \" does not exist!\")\n",
    "    consensus_trees = {}\n",
    "    with os.scandir(d) as it:\n",
    "        for entry in it:\n",
    "            if not entry.is_dir():\n",
    "                continue\n",
    "            tree_path = os.path.join(d, os.path.join(entry.name, \"consense.raxml.consensusTreeMR\"))\n",
    "            if not os.path.exists(tree_path):\n",
    "                print(\"No consensus tree for \" + model + \" and \" + entry.name)\n",
    "                tree = Tree()\n",
    "            else:\n",
    "                tree = Tree(tree_path)\n",
    "            #tree.resolve_polytomy(recursive=True)\n",
    "            name = entry.name.split(\".\")[0] + \".phy\"\n",
    "            consensus_trees[name] = tree\n",
    "    return consensus_trees\n",
    "\n",
    "def rfd_consensus_trees(model1, model2):\n",
    "    consensus_trees1 = read_consensus_trees(model1)\n",
    "    consensus_trees2 = read_consensus_trees(model2)\n",
    "    rfd_dict = {}\n",
    "    for (name, tree) in consensus_trees1.items():\n",
    "        if name in consensus_trees2:\n",
    "            tree2 = consensus_trees2[name]\n",
    "            rfd_dict[name] = rf_distance(tree1, tree2)\n",
    "        else:\n",
    "            rfd_dict[name] = float(\"nan\")\n",
    "            print(\"No consensus rf distance for \" + name)\n",
    "    return rfd_dict\n",
    "    \n",
    "    \n",
    "def rfd_eval_trees(morph_data_multistate, morph_data_binarized):\n",
    "    rfd_dict = {}\n",
    "    for index, row in morph_data_multistate.iterrows():\n",
    "        multitree = Tree(row[\"MULTI_newick_eval\"])\n",
    "        name = row['MULTI_verbose_name'].split('.')[0] + \".BIN.phy\"\n",
    "        bintree =  Tree(morph_data_binarized.loc[(morph_data_binarized['BIN_verbose_name'] == name)].iloc[0][\"BIN_newick_eval\"])\n",
    "        rfd_dict[row['MULTI_verbose_name'].split('.')[0]]= rf_distance(multitree, bintree)\n",
    "    return rfd_dict\n",
    "\n",
    "def plot_rfds(rfd_dict):\n",
    "    rfds = []\n",
    "    for (name, rfd) in rfd_dict.items():\n",
    "        rfds.append(rfd)\n",
    "    plt.xlabel(\"RF Distance\")\n",
    "    plt.ylabel(\"Number of datasets\")\n",
    "    plt.hist(rfds, bins=100)\n",
    "    plt.show()\n",
    "    plt.xlabel(\"RF Distance\")\n",
    "    plt.ylabel(\"Number of datasets\")\n",
    "    plt.hist(rfds, bins=30)\n",
    "    plt.show()"
   ]
  },
  {
   "cell_type": "code",
   "execution_count": null,
   "id": "28c76700",
   "metadata": {},
   "outputs": [],
   "source": [
    "#Original model: Under this model a best tree was calculated with 100 tree searches\n",
    "#Cross model: Now determine the likelihood of the best tree under this model\n",
    "\n",
    "def cross_data_csv():\n",
    "    out_file = open(\"temp/morph/lhs/all.csv\", \"w+\")\n",
    "    out_file.write(\"name,original_model,cross_model,lh\\n\")\n",
    "    lines = open(\"temp/morph/lhs/BIN_GTR.csv\", \"r\").read().split(\"\\n\")[1:-1]\n",
    "    for line in lines:\n",
    "        data = line.split(\",\")\n",
    "        if data[0].endswith(\".BIN.phy\"):\n",
    "            cross_model = \"BIN\"\n",
    "            original_model=\"GTR\"\n",
    "            name = data[1]\n",
    "        else:\n",
    "            cross_model = \"GTR\"\n",
    "            original_model=\"BIN\"\n",
    "            name = data[0]\n",
    "        out_file.write(name + \",\" + original_model  + \",\" + cross_model + \",\" + data[3] + \"\\n\")\n",
    "    lines = open(\"temp/morph/lhs/BIN_MK.csv\", \"r\").read().split(\"\\n\")[1:-1]\n",
    "    for line in lines:\n",
    "        data = line.split(\",\")\n",
    "        if data[0].endswith(\".BIN.phy\"):\n",
    "            cross_model = \"BIN\"\n",
    "            original_model=\"MK\"\n",
    "            name = data[1]\n",
    "        else:\n",
    "            cross_model = \"MK\"\n",
    "            original_model=\"BIN\"\n",
    "            name = data[0]\n",
    "        out_file.write(name + \",\" + original_model  + \",\" + cross_model + \",\" + data[3] + \"\\n\")\n",
    "    lines = open(\"temp/morph/lhs/GTR_MK.csv\", \"r\").read().split(\"\\n\")[1:-1]\n",
    "    for line in lines:\n",
    "        data = line.split(\",\")\n",
    "        if data[2].endswith(\"GTR\"):\n",
    "            cross_model = \"GTR\"\n",
    "            original_model=\"MK\"\n",
    "            name = data[0]\n",
    "        else:\n",
    "            cross_model = \"MK\"\n",
    "            original_model=\"GTR\"\n",
    "            name = data[0]\n",
    "        out_file.write(name + \",\" + original_model  + \",\" + cross_model + \",\" + data[3] + \"\\n\")\n",
    "        \n",
    "cross_data_csv()"
   ]
  },
  {
   "cell_type": "code",
   "execution_count": null,
   "id": "49c75b19",
   "metadata": {},
   "outputs": [],
   "source": [
    "#The column cross_lh_x contains the likelihood of the best tree found under the tree model evalut\n",
    "def add_cross_data(df, eval_model, tree_model):\n",
    "    lhs_df = pd.read_csv(\"temp/morph/lhs/all.csv\")\n",
    "    lhs_df = lhs_df[lhs_df[\"original_model\"] == tree_model]\n",
    "    lhs_df = lhs_df[lhs_df[\"cross_model\"] == eval_model]\n",
    "    d = {}\n",
    "    for idx, row in lhs_df.iterrows():\n",
    "        d[row[\"name\"]] = float(row[\"lh\"])\n",
    "    cross_lhs = []\n",
    "    diffs = []\n",
    "    for idx, row in df.iterrows():\n",
    "        name = row['verbose_name']\n",
    "        if name in d:\n",
    "            cross_lh = d[name]\n",
    "            eval_lh = row[\"llh_eval\"]\n",
    "            diff = cross_lh - eval_lh\n",
    "            cross_lhs.append(cross_lh)\n",
    "            diffs.append(diff)\n",
    "        else:\n",
    "            print(\"For \" + name + \" no cross evaluation with original model \" + tree_model + \" and cross model \" +eval_model)\n",
    "            cross_lhs.append(float(\"nan\"))\n",
    "            diffs.append(float(\"nan\"))\n",
    "    df[\"cross_llh_\" + tree_model] = cross_lhs\n",
    "    df[\"cross_diff_\" + tree_model] = diffs\n",
    "    return df\n",
    "\n",
    "\n",
    "def merge_dfs(morph_data_bin, morph_data_gtr, morph_data_mk):\n",
    "    morph_data_bin.columns = 'BIN_' + morph_data_bin.columns.values\n",
    "    morph_data_gtr.columns = 'GTR_' + morph_data_gtr.columns.values\n",
    "    morph_data_mk.columns = 'MK_' + morph_data_mk.columns.values\n",
    "    morph_data_bin = morph_data_bin.rename(columns={'BIN_verbose_name': 'verbose_name'})\n",
    "    morph_data_gtr = morph_data_gtr.rename(columns={'GTR_verbose_name': 'verbose_name'})\n",
    "    morph_data_mk = morph_data_mk.rename(columns={'MK_verbose_name': 'verbose_name'})\n",
    "    df = pd.merge(morph_data_bin, morph_data_gtr, on='verbose_name', how='inner')\n",
    "    df = pd.merge(df, morph_data_mk, on='verbose_name', how='inner')\n",
    "    df = df[(df.BIN_cross_llh_GTR != 1) & (df.BIN_cross_llh_MK != 1) \n",
    "           & (df.GTR_cross_llh_BIN != 1) & (df.GTR_cross_llh_MK != 1)\n",
    "           & (df.MK_cross_llh_BIN != 1) & (df.MK_cross_llh_GTR != 1)]\n",
    "    return df\n",
    "\n",
    "\n",
    "def add_rf_data(df):\n",
    "    consensus_trees_bin = read_consensus_trees(\"BIN\")\n",
    "    consensus_trees_gtr = read_consensus_trees(\"GTR\")\n",
    "    consensus_trees_mk = read_consensus_trees(\"MK\")\n",
    "    consensus_dist_bin_gtr = []\n",
    "    consensus_dist_bin_mk = []\n",
    "    consensus_dist_gtr_mk = []\n",
    "    eval_dist_bin_gtr = []\n",
    "    eval_dist_bin_mk = []\n",
    "    eval_dist_gtr_mk = []\n",
    "    \n",
    "    \n",
    "    for idx, row in df.iterrows():\n",
    "        name = row[\"verbose_name\"]\n",
    "        c_tree_bin = consensus_trees_bin[name]\n",
    "        c_tree_gtr = consensus_trees_gtr[name]\n",
    "        c_tree_mk = consensus_trees_mk[name]\n",
    "        e_tree_bin = Tree(row[\"BIN_newick_eval\"])\n",
    "        e_tree_gtr = Tree(row[\"GTR_newick_eval\"])\n",
    "        e_tree_mk = Tree(row[\"MK_newick_eval\"])\n",
    "        \n",
    "        consensus_dist_bin_gtr.append(rf_distance(c_tree_bin, c_tree_gtr))\n",
    "        consensus_dist_bin_mk.append(rf_distance(c_tree_bin, c_tree_mk))\n",
    "        consensus_dist_gtr_mk.append(rf_distance(c_tree_gtr, c_tree_mk))\n",
    "        eval_dist_bin_gtr.append(rf_distance(e_tree_bin, e_tree_gtr))\n",
    "        eval_dist_bin_mk.append(rf_distance(e_tree_bin, e_tree_mk))\n",
    "        eval_dist_gtr_mk.append(rf_distance(e_tree_gtr, e_tree_mk))\n",
    "        \n",
    "    df[\"consensus_dist_BIN_GTR\"] = consensus_dist_bin_gtr\n",
    "    df[\"consensus_dist_BIN_MK\"] = consensus_dist_bin_mk\n",
    "    df[\"consensus_dist_GTR_MK\"] = consensus_dist_gtr_mk\n",
    "    df[\"eval_dist_BIN_GTR\"] = eval_dist_bin_gtr\n",
    "    df[\"eval_dist_BIN_MK\"] = eval_dist_bin_mk\n",
    "    df[\"eval_dist_GTR_MK\"] = eval_dist_gtr_mk\n",
    "    \n",
    "    return df\n",
    "\n",
    "\n",
    "def get_score_from_string(s, score):\n",
    "    data = s.split(\",\")\n",
    "    if score == \"AIC\":\n",
    "        return float(data[0])\n",
    "    elif score == \"cAIC\":\n",
    "        return float(data[1])\n",
    "    elif score == \"BIC\":\n",
    "        return float(data[2])\n",
    "    else:\n",
    "        print(score + \" does not exist!\")\n",
    "        return None\n",
    "    \n",
    "def add_aic_scores(df, model, score):\n",
    "    if model == \"GTR\":\n",
    "        idx = 1\n",
    "    elif model == \"MK\":\n",
    "        idx = 2\n",
    "    elif model == \"BIN\":\n",
    "        idx = 3\n",
    "    else:\n",
    "        print(\"Model \" + model +  \" does not exist\")\n",
    "        return\n",
    "    lines = open(\"temp/morph/aic.scores\", \"r\").read().split(\"\\n\")[1:-1]\n",
    "    score_dict = {}\n",
    "    for line in lines:\n",
    "        data = line.split('|')\n",
    "        name = data[0] + \".phy\"\n",
    "        score_dict[name] = get_score_from_string(data[idx], score)\n",
    "    score_column = []\n",
    "    for i, row in df.iterrows():\n",
    "        name = row[\"verbose_name\"]\n",
    "        if name in score_dict:\n",
    "            score_column.append(score_dict[name])\n",
    "        else:\n",
    "            score_column.append(0)\n",
    "            print(\"No \" + score + \" score for model \" + model + \" and \" + name)\n",
    "    df[score] = score_column\n",
    "    return df\n",
    "\n",
    "def add_aic_differences(df, score):\n",
    "    df[score + \"_GTR_minus_BIN\"] = df[\"GTR_\" + score] - df[\"BIN_\" + score]\n",
    "    df[score + \"_GTR_minus_MK\"] = df[\"GTR_\" + score] - df[\"MK_\" + score]\n",
    "    df[score + \"_MK_minus_BIN\"] = df[\"MK_\" + score] - df[\"BIN_\" + score]\n",
    "    return df\n",
    "\n",
    "def add_difficult_differences(df):\n",
    "    df[\"difficult_GTR_minus_BIN\"] = df[\"GTR_difficult\"] - df[\"BIN_difficult\"]\n",
    "    df[\"difficult_GTR_minus_MK\"] = df[\"GTR_difficult\"] - df[\"MK_difficult\"]\n",
    "    df[\"difficult_MK_minus_BIN\"] = df[\"MK_difficult\"] - df[\"BIN_difficult\"]\n",
    "    return df\n",
    "\n",
    "def add_avg_col_states(df):\n",
    "    avg_col_states = {}\n",
    "    lines = open(\"temp/morph/avg_col_states.csv\", \"r\").read().split(\"\\n\")[1:-1]\n",
    "    for line in lines:\n",
    "        data = line.split(\",\")\n",
    "        avg_col_states[data[0]] = float(data[1])\n",
    "    column = []\n",
    "    for i, row in df.iterrows():\n",
    "        column.append(avg_col_states[row[\"verbose_name\"]])\n",
    "    df[\"avg_col_states\"] = column\n",
    "    return df\n",
    "    \n",
    "def get_df():\n",
    "    morph_data_gtr = pd.read_parquet(\"training_data/morph/MULTI_GTR.parquet\")\n",
    "    morph_data_mk = pd.read_parquet(\"training_data/morph/full_MK.parquet\")\n",
    "    morph_data_mk = morph_data_mk.groupby(morph_data_mk.state_type).get_group(\"multistate\")\n",
    "    morph_data_bin = pd.read_parquet(\"training_data/morph/binarized.parquet\")\n",
    "    names = []\n",
    "    for index, row in morph_data_bin.iterrows():\n",
    "        names.append(row['verbose_name'].split('.')[0] + '.phy')\n",
    "    morph_data_bin['verbose_name'] = names\n",
    "    morph_data_gtr = add_cross_data(morph_data_gtr, \"GTR\", \"BIN\")\n",
    "    morph_data_gtr = add_cross_data(morph_data_gtr, \"GTR\", \"MK\")\n",
    "    morph_data_mk = add_cross_data(morph_data_mk, \"MK\", \"BIN\")\n",
    "    morph_data_mk = add_cross_data(morph_data_mk, \"MK\", \"GTR\")\n",
    "    morph_data_bin = add_cross_data(morph_data_bin, \"BIN\", \"GTR\")\n",
    "    morph_data_bin = add_cross_data(morph_data_bin, \"BIN\", \"MK\")\n",
    "    \n",
    "    morph_data_gtr = add_aic_scores(morph_data_gtr, \"GTR\", \"AIC\")\n",
    "    morph_data_mk = add_aic_scores(morph_data_mk, \"MK\", \"AIC\")\n",
    "    morph_data_bin = add_aic_scores(morph_data_bin, \"BIN\", \"AIC\")\n",
    "    \n",
    "    morph_data_gtr = add_aic_scores(morph_data_gtr, \"GTR\", \"cAIC\")\n",
    "    morph_data_mk = add_aic_scores(morph_data_mk, \"MK\", \"cAIC\")\n",
    "    morph_data_bin = add_aic_scores(morph_data_bin, \"BIN\", \"cAIC\")\n",
    "    \n",
    "    morph_data_gtr = add_aic_scores(morph_data_gtr, \"GTR\", \"BIC\")\n",
    "    morph_data_mk = add_aic_scores(morph_data_mk, \"MK\", \"BIC\")\n",
    "    morph_data_bin = add_aic_scores(morph_data_bin, \"BIN\", \"BIC\")\n",
    "    \n",
    "    df = merge_dfs(morph_data_bin, morph_data_gtr, morph_data_mk)\n",
    "    df = add_rf_data(df)\n",
    "    df = add_avg_col_states(df)\n",
    "    return df\n",
    "df = get_df()"
   ]
  },
  {
   "cell_type": "code",
   "execution_count": null,
   "id": "f6ed66b1",
   "metadata": {},
   "outputs": [],
   "source": [
    "def scatter(df, col1, col2, factor_x=1, factor_y=1, log_x=False, log_y=False):\n",
    "    df2 = df.copy()\n",
    "    df2[col1] = factor_x* df2[col1]\n",
    "    df2[col2] = factor_y* df2[col2]\n",
    "    fig = px.scatter(df2, x=col1, y=col2, log_x=log_x, log_y=log_y)\n",
    "    fig.show()\n",
    "    "
   ]
  },
  {
   "cell_type": "code",
   "execution_count": null,
   "id": "bbbcf430",
   "metadata": {},
   "outputs": [],
   "source": [
    "def x_values(df, col, eliminate_outlier):\n",
    "    if eliminate_outlier:\n",
    "        lower = df[col].quantile(0.1)\n",
    "        upper = df[col].quantile(0.9)\n",
    "    else:\n",
    "        lower = df[col].min()\n",
    "        upper = df[col].max()\n",
    "    return df.loc[df[col].between(lower, upper)][col]\n",
    "\n",
    "def compare_modelwise(df, col, eliminate_outlier):\n",
    "    fig = make_subplots(\n",
    "        rows=1,\n",
    "        cols=1,\n",
    "        subplot_titles=[col + \" for models\"]\n",
    "    )\n",
    "\n",
    " \n",
    "    fig.append_trace(\n",
    "        go.Histogram(\n",
    "            x=x_values(df, \"BIN_\" + col, eliminate_outlier),\n",
    "            name=\"BIN\",\n",
    "            showlegend=True\n",
    "            #, histnorm=\"percent\"\n",
    "        ),\n",
    "        row=1,\n",
    "        col=1\n",
    "    )\n",
    "\n",
    "    fig.append_trace(\n",
    "        go.Histogram(\n",
    "            x=x_values(df, \"GTR_\" + col, eliminate_outlier),\n",
    "            name=\"GTR\",\n",
    "            showlegend=True\n",
    "            #, histnorm=\"percent\"\n",
    "        ),\n",
    "        row=1,\n",
    "        col=1\n",
    "    )\n",
    "\n",
    "    fig.append_trace(\n",
    "        go.Histogram(\n",
    "            x=x_values(df, \"MK_\" + col, eliminate_outlier),\n",
    "            name=\"MK\",\n",
    "            showlegend=True\n",
    "            #, histnorm=\"percent\"\n",
    "        ),\n",
    "        row=1,\n",
    "        col=1\n",
    "    )\n",
    "    return fig\n",
    "\n",
    "def modelwise_correlation(df, col, factor, log):\n",
    "    scatter(df, \"BIN_\" + col, \"GTR_\" + col, factor_x=factor, factor_y=factor, log_x=log, log_y=log)\n",
    "    scatter(df, \"BIN_\" + col, \"MK_\" + col, factor_x=factor, factor_y=factor, log_x=log, log_y=log)\n",
    "    scatter(df, \"GTR_\" + col, \"MK_\" + col, factor_x=factor, factor_y=factor, log_x=log, log_y=log)\n",
    "    \n",
    "def correlation_of_columns(df, col1, factor1, log1, col2, factor2, log2):\n",
    "    scatter(df, \"BIN_\" + col1, \"BIN_\" + col2, factor_x=factor1, factor_y=factor2, log_x=log1, log_y=log2)\n",
    "    scatter(df, \"GTR_\" + col1, \"GTR_\" + col2, factor_x=factor1, factor_y=factor2, log_x=log1, log_y=log2)\n",
    "    scatter(df, \"MK_\" + col1, \"MK_\" + col2, factor_x=factor1, factor_y=factor2, log_x=log1, log_y=log2)\n",
    "    \n",
    "\n",
    "    \n",
    "compare_modelwise(df, \"llh_eval\", True).update_layout(template=\"plotly_white\", height=500)\n",
    "\n",
    "#modelwise_correlation(df, \"cAIC\", 1, True)\n",
    "\n",
    "#correlation_of_columns(df, \"llh_eval\", -1, True, \"AIC\", 1, True)\n"
   ]
  },
  {
   "cell_type": "code",
   "execution_count": 201,
   "id": "955b4133",
   "metadata": {},
   "outputs": [
    {
     "data": {
      "application/vnd.plotly.v1+json": {
       "config": {
        "plotlyServerURL": "https://plot.ly"
       },
       "data": [
        {
         "name": "BIN",
         "showlegend": true,
         "type": "histogram",
         "x": [
          0.0319016,
          0.22649333333333335,
          0.2975622,
          0.0338896,
          0.4126073142857143,
          0.5810848,
          0.3900596,
          0.1663074,
          0.5890958461538461,
          0.034205200000000005,
          0.004,
          0.004,
          0.09627229795918368,
          0.009072802020202022,
          0.022020400000000002,
          0.05988511914893618,
          0.2532913647058823,
          0.15728479999999997,
          0.5983148210526317,
          0.3963820461538462,
          0.12591036326530614,
          0.021087232653061228,
          0.282063952688172,
          0.009798002020202022,
          0.4377990967741935,
          0.004,
          0.853595,
          0.35534957681159424,
          0.28563635087719297,
          0.5525628666666667,
          0.5511859333333333,
          0.2708936317460317,
          0.3618360512820512,
          0.004,
          0.18072474736842103,
          0.008612802020202022,
          0.004,
          0.20305936551724138,
          0.010327802020202021,
          0.503294082352941,
          0.028049408080808087,
          0.7132284,
          0.12545375652173912,
          0.9329102,
          0.0311988,
          0.04399,
          0.1064244,
          0.0708900888888889,
          0.07007301616161618,
          0.026855200000000003,
          0.6582173974025973,
          0.09138559999999998,
          0.1802128,
          0.176068,
          0.015240400000000001,
          0.004,
          0.19509993333333334,
          0.29097983636363633,
          0.6562673777777778,
          0.3186880571428571,
          0.45689659726027393,
          0.10395126666666665,
          0.0743324181818182,
          0.004,
          0.33508367692307695,
          0.04062193763440859,
          0.14242963157894736,
          0.3227885130434783,
          0.004,
          0.004,
          0.004,
          0.0647828,
          0.30848504444444447,
          0.6346063512195121,
          0.4796024210526316,
          0.4427990987951807,
          0.0721068,
          0.16406619591836735,
          0.034205200000000005,
          0.4716613818181818,
          0.004,
          0.38355489473684207,
          0.5083591157894738,
          0.6197021333333333,
          0.38439627619047617,
          0.28316728888888887,
          0.9119073999999999,
          0.0228332,
          0.10115978969072166,
          0.22547993333333333,
          0.05143208163265307,
          0.03313000000000001,
          0.052923599999999994,
          0.07735881414141414,
          0.19920025714285716,
          0.20258124347826084,
          0.17011426315789474,
          0.0092172,
          0.6073833925925926,
          0.23241304761904757,
          0.22014711304347828,
          0.07187879999999999,
          0.4490404,
          0.10403759999999998,
          0.6163868,
          0.16872983820224718,
          0.0332524,
          0.07495586530612244,
          0.46809042105263166,
          0.6795051939393939,
          0.2861656,
          0.02162,
          0.38762940000000007,
          0.02273573333333334,
          0.0321308,
          0.05981673333333334,
          0.4215589813953489,
          0.5116153389830509,
          0.11914562702702702,
          0.6077454631578947,
          0.3282897846153846,
          0.09451760000000001,
          0.035558799999999995,
          0.4758797951219512,
          0.004,
          0.45075112413793106,
          0.0377884,
          0.014707416326530614,
          0.24196004444444447,
          0.004,
          0.004,
          0.14116550574712644,
          0.0405252,
          0.3714161529411764,
          0.2707794190476191,
          0.0253648,
          0.0495434752688172,
          0.5764442558139535,
          0.08957928837209303,
          0.07370271134020619,
          0.18247432727272728,
          0.2811794909090909,
          0.5155627555555555,
          0.5155627555555555,
          0.3824357692307692,
          0.3084726888888889,
          0.0536476,
          0.022810000000000004,
          0.0789012,
          0.0792848,
          0.07938920000000001,
          0.04458251578947369,
          0.3569146731707318,
          0.004,
          0.26108972183908047,
          0.1550684,
          0.15458053608247424,
          0.08620559512195122,
          0.38646538181818185,
          0.32747621538461535,
          0.004,
          0.0536628,
          0.06513120000000001,
          0.0911741052631579,
          0.03408020808080808,
          0.2514687523809524,
          0.7827008,
          0.09440726666666667,
          0.0516072,
          0.7580491333333335,
          0.0930310101010101,
          0.004,
          0.13125990909090907,
          0.37690574285714284,
          0.4120482516129032,
          0.021296804040404044,
          0.19234108163265304,
          0.07115160000000001,
          0.10275102268041239,
          0.10127280000000001,
          0.6368451272727274,
          0.0189064,
          0.25482453513513514,
          0.017833599999999998,
          0.3095424608695653,
          0.6163868,
          0.44295495555555553,
          0.24249467228915664,
          0.14625446804123712,
          0.09491736326530612,
          0.6643362808510638,
          0.08963360000000001,
          0.4816468736842106,
          0.055008822680412385,
          0.21780059999999998,
          0.6785432,
          0.4441873333333334,
          0.3631743534883721,
          0.1311356,
          0.0800404,
          0.0334,
          0.204202,
          0.004,
          0.3126505789473685,
          0.2878402686567164,
          0.025008006060606065,
          0.2207088,
          0.4891467555555556,
          0.20303606206896552,
          0.17559013191489364,
          0.3839296490566037,
          0.019198399999999997,
          0.1490666551724138,
          0.26311050864197527,
          0.45050999999999997,
          0.6587225473684211,
          0.11303784897959186,
          0.04877198947368422,
          0.67824,
          0.004,
          0.004,
          0.3518097272727273,
          0.0414372,
          0.2496863106382979,
          0.07732434693877552,
          0.6453854222222223,
          0.004,
          0.3342309473684211,
          0.23278065853658533,
          0.03799999999999999,
          0.004,
          0.20646086666666666,
          0.33757529629629623,
          0.31712853333333335,
          0.004,
          0.20610332972972972,
          0.0339392,
          0.8719723939393939,
          0.06454341414141415,
          0.042170859574468096,
          0.19265315789473686,
          0.0159732,
          0.10919763030303031,
          0.5824763333333334,
          0.22014711304347828,
          0.5416143703703703,
          0.11241366666666668,
          0.09989079999999999,
          0.15543381758241756,
          0.09915159999999999,
          0.1585736,
          0.37572054054054055,
          0.04410560606060606,
          0.2576867897435897,
          0.32486429620253165,
          0.0400088,
          0.696546,
          0.040884000000000004,
          0.056401014141414144,
          0.004,
          0.0189528556701031,
          0.02908,
          0.0674748,
          0.3814507294117647,
          0.08266280000000001,
          0.008094,
          0.058430941176470595,
          0.5920043999999999,
          0.016223599999999998,
          0.058811999999999996,
          0.11398421978021978,
          0.6745498571428572,
          0.8748431999999999,
          0.269499,
          0.5975821333333333,
          0.18108923255813952,
          0.0426908,
          0.7868729999999999,
          0.24196004444444447,
          0.03149804897959184,
          0.22463669565217392,
          0.17227448421052632,
          0.04185119999999999,
          0.4430411333333333,
          0.5381337096774194,
          0.6411724,
          0.1929029142857143,
          0.18809123478260867,
          0.0635844,
          0.6402414444444445,
          0.10801750103092785,
          0.6080664666666666,
          0.1538976695652174,
          0.010877600000000001,
          0.09397231428571429,
          0.25509277377049183,
          0.047023075268817195,
          0.0422628,
          0.5453523428571428,
          0.036546800000000004,
          0.5562752941176471,
          0.13951684536082476,
          0.009411600000000001,
          0.0343652,
          0.3793236606060606,
          0.10512041010101011,
          0.03485360404040404,
          0.765571,
          0.07500456326530612,
          0.14933883157894737,
          0.22739658947368419,
          0.38628358271604935,
          0.2245181569620253,
          0.0913708101010101,
          0.13531320000000002,
          0.1209330210526316,
          0.06384811428571428,
          0.24249467228915664,
          0.22243822608695654,
          0.3477803517241379,
          0.07896841616161618,
          0.025944000000000002,
          0.471837,
          0.39861688695652175,
          0.3627118,
          0.004,
          0.1817358666666667,
          0.004,
          0.013236404040404043,
          0.6591878,
          0.08811093333333334,
          0.6388628492753623,
          0.0082668,
          0.3260966888888889,
          0.6769174492753623,
          0.17308131340206184,
          0.6386986461538461,
          0.021087232653061228,
          0.0208,
          0.09018635670103092,
          0.19680998426966292,
          0.16570322077922078,
          0.5760533945945946,
          0.07348421212121212,
          0.017406,
          0.09890007710843375,
          0.1590548608695652,
          0.004,
          0.29915812643678164,
          0.6494244,
          0.6516780000000001,
          0.004,
          0.2849456631578947,
          0.14485041414141414,
          0.13792980000000002,
          0.3171571724137931,
          0.4845968,
          0.13977212307692308,
          0.05690897872340426,
          0.0639692,
          0.12034822626262627,
          0.41854420000000003,
          0.004,
          0.27866720487804886,
          0.0193488556701031,
          0.5923382,
          0.004,
          0.16917716543209876,
          0.5764442558139535,
          0.02852771134020619,
          0.14171166086956521,
          0.08707079999999999
         ],
         "xaxis": "x",
         "yaxis": "y"
        },
        {
         "name": "GTR",
         "showlegend": true,
         "type": "histogram",
         "x": [
          0.4330601433962264,
          0.5718396,
          0.6332720042553192,
          0.43867399999999995,
          0.4520884222222222,
          0.47493435294117636,
          0.495858347826087,
          0.19297820289855072,
          0.6671039999999999,
          0.23302254736842104,
          0.18655797674418606,
          0.15264768888888888,
          0.5321097555555556,
          0.1113239542168675,
          0.470693703030303,
          0.12590872631578948,
          0.5430182,
          0.28723366229508196,
          0.6917879939393939,
          0.537896457142857,
          0.3576347152542373,
          0.07086024210526316,
          0.7244200604651164,
          0.21634349090909089,
          0.6116706000000001,
          0.15017350476190477,
          0.8389521999999999,
          0.603830386440678,
          0.05221547835051547,
          0.6145156,
          0.32704802105263153,
          0.4601192545454545,
          0.3003298,
          0.032086313043478254,
          0.32224472631578954,
          0.012965200000000001,
          0.2836458285714286,
          0.5903082,
          0.008481802020202022,
          0.5108979962264151,
          0.3511380086956522,
          0.8181752,
          0.5234361384615385,
          0.9218381999999998,
          0.41842677260273964,
          0.16851411794871793,
          0.11369680000000001,
          0.5119494,
          0.4548792551724138,
          0.08922370103092783,
          0.7020766,
          0.20754573333333334,
          0.4660975454545454,
          0.12396753707865169,
          0.012704404040404044,
          0.24311591428571427,
          0.19952413333333333,
          0.39205887692307695,
          0.704323876923077,
          0.5431218705882352,
          0.7065835428571429,
          0.23066611111111116,
          0.18860418181818178,
          0.09316956279069767,
          0.42541039999999997,
          0.0693288,
          0.5857064666666666,
          0.2917252923076923,
          0.05499,
          0.5927551076923077,
          0.038237404040404044,
          0.25748706666666665,
          0.3258914363636364,
          0.6870828,
          0.5643030705882353,
          0.5650763411764705,
          0.46189354117647063,
          0.35460846206896557,
          0.23302254736842104,
          0.5554254545454544,
          0.15458226086956522,
          0.3322618862745098,
          0.5207854,
          0.6995236695652174,
          0.4043125818181818,
          0.3633743419354839,
          0.7916817999999999,
          0.08642310909090908,
          0.520314909090909,
          0.4012126235294118,
          0.17046768641975307,
          0.0315556,
          0.24251226666666667,
          0.2835304767123287,
          0.547409,
          0.4477424769230769,
          0.3997831473684211,
          0.27128765714285713,
          0.6750043945945945,
          0.4812322222222223,
          0.6186251677419354,
          0.3168874447761194,
          0.32419860821917806,
          0.5077904,
          0.6518730888888888,
          0.27229148196721314,
          0.47467353513513516,
          0.17809102089552237,
          0.7430156666666667,
          0.7928438,
          0.6976564000000001,
          0.361792082051282,
          0.35861701194029855,
          0.02315943265306123,
          0.03998631428571429,
          0.20819762857142857,
          0.29541093333333335,
          0.5902146,
          0.3162180784313725,
          0.5991324,
          0.5831287142857142,
          0.3289832,
          0.42286634814814816,
          0.7490270000000001,
          0.2539953333333333,
          0.43371078723404255,
          0.38770678596491226,
          0.009057202020202023,
          0.5416362356164384,
          0.2807341914893617,
          0.44105790909090903,
          0.4237665047619048,
          0.2125619731343283,
          0.5425798,
          0.615103511627907,
          0.47023273793103454,
          0.1467085463414634,
          0.6799286,
          0.5619307358490566,
          0.28394374814814816,
          0.3291558461538462,
          0.4196475641791045,
          0.5442529523809524,
          0.5442529523809524,
          0.702152,
          0.5331581931034484,
          0.047893265306122444,
          0.39092470769230775,
          0.3104276724637681,
          0.46575794054054054,
          0.6731301939393939,
          0.46700535555555567,
          0.315493580952381,
          0.20252313333333333,
          0.5066360153846154,
          0.5053935435897435,
          0.3113447804878049,
          0.29211629523809524,
          0.4043125818181818,
          0.565820894117647,
          0.13650553333333332,
          0.21751323797468353,
          0.31660742857142854,
          0.3633357578947368,
          0.14245099277108436,
          0.47381851515151513,
          0.8539900000000001,
          0.47576317446808514,
          0.16235643783783785,
          0.7616584,
          0.10810944210526316,
          0.05661625217391304,
          0.23322541818181816,
          0.20074527368421052,
          0.629267911627907,
          0.07534194285714287,
          0.2563573492537313,
          0.4151108956521739,
          0.5063250769230769,
          0.08560437303370787,
          0.6903438285714285,
          0.22742411063829787,
          0.3582147021276596,
          0.20706273559322036,
          0.4411436947368421,
          0.6518730888888888,
          0.4500252476190477,
          0.4342403142857143,
          0.3472637647058823,
          0.6677638,
          0.6771118808510638,
          0.1305970831460674,
          0.433583387755102,
          0.473817655319149,
          0.3278338648648649,
          0.7026844,
          0.5122865575757576,
          0.24836017142857142,
          0.6663853964912281,
          0.1279192,
          0.0130908,
          0.20654560000000002,
          0.3705582,
          0.4222602039215687,
          0.3994114666666667,
          0.22938026666666672,
          0.10579155555555557,
          0.2648608943396226,
          0.3202696857142857,
          0.5288222,
          0.34060819999999997,
          0.22254307234042553,
          0.3160676888888889,
          0.6090682465116279,
          0.30337233846153844,
          0.7575451739130435,
          0.37418122535211273,
          0.14429431794871794,
          0.7074836,
          0.24311591428571427,
          0.24909091830985916,
          0.40708535813953495,
          0.22683154285714285,
          0.2961252,
          0.17020553975903616,
          0.7146089999999999,
          0.0204848,
          0.37457319999999994,
          0.4639688137931034,
          0.24716323636363632,
          0.22826923636363636,
          0.49590330769230767,
          0.38479539999999995,
          0.2611589764705882,
          0.2667080857142857,
          0.26112080000000004,
          0.19155090985915493,
          0.8866957925925926,
          0.13192911898734178,
          0.2678433185185185,
          0.16871712432432434,
          0.42788727407407406,
          0.47274530909090906,
          0.6566902492753623,
          0.6186251677419354,
          0.6294677846153847,
          0.1158923052631579,
          0.5844097333333333,
          0.34776825714285714,
          0.4633992,
          0.635227452631579,
          0.5790544941176471,
          0.03326360404040404,
          0.5284059714285714,
          0.32806347586206897,
          0.038860767010309286,
          0.7610238,
          0.02994106530612245,
          0.5736734408163265,
          0.050957199999999994,
          0.03108886666666667,
          0.2831418,
          0.11005586666666667,
          0.323659688372093,
          0.3131867023255814,
          0.23509363243243248,
          0.022666799999999997,
          0.6643027673469387,
          0.18236993333333334,
          0.2152621777777778,
          0.375058237735849,
          0.7007089694915255,
          0.9359792,
          0.3675711428571429,
          0.6744041739130434,
          0.3481552,
          0.26750830322580643,
          0.8213806,
          0.5416362356164384,
          0.23490599999999998,
          0.5039633212121212,
          0.5004540000000001,
          0.26385176716417913,
          0.6835210615384616,
          0.6566946,
          0.6669698000000001,
          0.6143001714285714,
          0.29946021791044775,
          0.3057961534883721,
          0.6957464,
          0.328131898630137,
          0.6851711999999999,
          0.24246422539682538,
          0.24619554285714287,
          0.36270185185185183,
          0.639846457142857,
          0.239858,
          0.17341926451612902,
          0.6325773694915254,
          0.06714214606741573,
          0.30142559215686276,
          0.4231726666666667,
          0.034384000000000005,
          0.4740217428571428,
          0.3990168380952381,
          0.2065315185185185,
          0.010952800000000002,
          0.8124762000000001,
          0.4422475238095238,
          0.18601971232876713,
          0.6046771925925926,
          0.6429669673469387,
          0.3502997185185185,
          0.3573366666666667,
          0.21531320000000004,
          0.13035367058823527,
          0.1421114956521739,
          0.4342403142857143,
          0.5125816000000001,
          0.3671077457627119,
          0.045816915789473694,
          0.27302170943396226,
          0.6390184941176471,
          0.3714343586206897,
          0.5748655073170731,
          0.31622823076923073,
          0.4841579090909091,
          0.13840735402298848,
          0.03896711914893618,
          0.6500782,
          0.6049863684210527,
          0.6717272000000001,
          0.28411929433962263,
          0.41846300000000003,
          0.7736981454545455,
          0.5031129090909092,
          0.665474,
          0.07086024210526316,
          0.3001303882352941,
          0.3611058923076923,
          0.43597092195121956,
          0.4160963652173913,
          0.6506189673469388,
          0.2516612285714286,
          0.2862597684210526,
          0.23729462424242423,
          0.3237002470588235,
          0.24530585128205126,
          0.3689342148148148,
          0.6594733999999999,
          0.6722766,
          0.13282752195121952,
          0.3136142339622642,
          0.23954978554216871,
          0.4553837567567568,
          0.5664475333333333,
          0.3625355591836735,
          0.5883173142857142,
          0.2845798444444444,
          0.07563857872340427,
          0.6366923851851852,
          0.5825942,
          0.35701599999999994,
          0.4804540666666667,
          0.40925455555555557,
          0.6372573948717949,
          0.2799382222222222,
          0.36661602264150944,
          0.677933,
          0.20211626666666666,
          0.5767439692307692,
          0.4389287333333334
         ],
         "xaxis": "x",
         "yaxis": "y"
        },
        {
         "name": "MK",
         "showlegend": true,
         "type": "histogram",
         "x": [
          0.0318712,
          0.19912784395604394,
          0.286782894117647,
          0.0447552,
          0.4383674,
          0.07159565217391303,
          0.4450066551724138,
          0.033877567010309285,
          0.6495618000000001,
          0.004,
          0.004,
          0.004,
          0.004,
          0.004,
          0.11828164444444444,
          0.1226668,
          0.20925565773195878,
          0.1284364,
          0.5971120210526315,
          0.32866825714285713,
          0.1193234,
          0.004,
          0.343903819047619,
          0.004,
          0.5527349448275862,
          0.004,
          0.8513166,
          0.3372474,
          0.004,
          0.4581407111111112,
          0.265146,
          0.03682356701030928,
          0.1086492101010101,
          0.004,
          0.10231812371134022,
          0.004,
          0.004,
          0.2565015218390805,
          0.004,
          0.5183775887323944,
          0.3266580930232558,
          0.64676525,
          0.15230040000000003,
          0.925944,
          0.06111120000000001,
          0.08978799999999999,
          0.19418200000000002,
          0.004,
          0.31470560000000003,
          0.0289292,
          0.6540714,
          0.07539289787234045,
          0.11163951794871796,
          0.0485388,
          0.004,
          0.065736,
          0.009251002020202022,
          0.27390579148936167,
          0.6762846666666666,
          0.23976766666666666,
          0.6311609111111112,
          0.021357599999999997,
          0.06033120000000001,
          0.07508080000000002,
          0.4340075549295775,
          0.047753199999999996,
          0.32953936595744676,
          0.15358853333333333,
          0.004,
          0.16100447272727272,
          0.0289292,
          0.030303199999999995,
          0.25942050337078654,
          0.6325154,
          0.4212817333333333,
          0.49871877215189875,
          0.0682812,
          0.0632728,
          0.004,
          0.47614786153846145,
          0.0336288,
          0.3875129848101266,
          0.47635059999999996,
          0.6614669818181819,
          0.1169735010752688,
          0.1050152,
          0.9801144,
          0.004,
          0.2002177243243243,
          0.09648480000000001,
          0.03301,
          0.08514402626262627,
          0.004,
          0.16522903956043955,
          0.2025862086956522,
          0.1807743139784946,
          0.038524800000000005,
          0.0847992,
          0.6265264666666666,
          0.19035923076923078,
          0.4373575894736842,
          0.10849279999999999,
          0.2677456,
          0.025598711340206193,
          0.6194278000000001,
          0.0541192,
          0.09675693043478259,
          0.07030679999999999,
          0.6569154896551724,
          0.695384657142857,
          0.5465921333333333,
          0.07159734693877551,
          0.3578637142857143,
          0.004,
          0.0472128,
          0.004,
          0.0094544,
          0.5320160972972973,
          0.0453708,
          0.639258,
          0.36581359999999996,
          0.1706974666666667,
          0.0360936,
          0.5808156727272726,
          0.004,
          0.46477579999999996,
          0.1319770202020202,
          0.004,
          0.3968635415730336,
          0.042083600000000006,
          0.012,
          0.025750000000000002,
          0.004,
          0.3732756677966102,
          0.5411380918918919,
          0.0440268,
          0.004,
          0.6270645756097561,
          0.2622036,
          0.0157852,
          0.1030185652173913,
          0.172008,
          0.17002103636363636,
          0.17002103636363636,
          0.5163274666666667,
          0.37047752727272726,
          0.044,
          0.047129599999999994,
          0.1445726086956522,
          0.0704010202020202,
          0.08351679999999999,
          0.0358344,
          0.26863278260869566,
          0.004,
          0.21075604347826085,
          0.1397843011235955,
          0.049094114285714294,
          0.0636776,
          0.1169735010752688,
          0.4731824787878788,
          0.004,
          0.0092632,
          0.0229092,
          0.21310205494505494,
          0.05818200000000001,
          0.2678070680851064,
          0.8060556372093023,
          0.0894625634408602,
          0.07486735670103092,
          0.7960426,
          0.12946640000000004,
          0.004,
          0.049817999999999994,
          0.11855418969072166,
          0.5265559428571429,
          0.004,
          0.117818,
          0.13353240000000002,
          0.16190221212121209,
          0.06512120000000002,
          0.6022472,
          0.042406,
          0.18836821126760564,
          0.03428,
          0.1456756,
          0.6194278000000001,
          0.6139132,
          0.1812352745762712,
          0.2829821853658537,
          0.20137373333333336,
          0.7025129999999999,
          0.07943381616161617,
          0.41885486666666666,
          0.047717199999999994,
          0.10990451428571428,
          0.7102890000000001,
          0.39424887323943664,
          0.044460799999999995,
          0.2504087282051282,
          0.004,
          0.004,
          0.1302628,
          0.0219488,
          0.0193308556701031,
          0.11330360000000002,
          0.004,
          0.0116176,
          0.04337919999999999,
          0.13845743636363633,
          0.16019246666666664,
          0.2350667927710844,
          0.05082681616161616,
          0.09142439999999999,
          0.46753108235294116,
          0.29730145797101454,
          0.6988391614457831,
          0.11564800000000001,
          0.004,
          0.7392508,
          0.065736,
          0.0229156,
          0.0641212,
          0.014372400000000002,
          0.1793803818181818,
          0.0293852,
          0.6598584,
          0.004,
          0.13773200404040403,
          0.19812295151515152,
          0.028476800000000003,
          0.030137599999999997,
          0.4045673826086956,
          0.28091246666666664,
          0.19166230344827587,
          0.0087544,
          0.004,
          0.0835108,
          0.896572648275862,
          0.0348372,
          0.004,
          0.2267441237113402,
          0.004,
          0.3413524172839506,
          0.6335770000000001,
          0.4373575894736842,
          0.1088795237113402,
          0.12500336326530612,
          0.17099814545454545,
          0.11650666666666668,
          0.3179677162790698,
          0.20156309411764708,
          0.3728958842105263,
          0.004,
          0.2628031428571429,
          0.22418574193548385,
          0.024089600000000003,
          0.7001232,
          0.0475712,
          0.0387528,
          0.018212,
          0.004,
          0.026336,
          0.033811600000000004,
          0.02886484897959184,
          0.004,
          0.004,
          0.15363193725490196,
          0.5928745333333334,
          0.15976819999999997,
          0.0633372,
          0.2402596,
          0.6664952,
          0.9256846,
          0.1464188938271605,
          0.5906252000000001,
          0.0158384,
          0.0247192,
          0.8215514,
          0.3968635415730336,
          0.0289744,
          0.26926828387096774,
          0.4003124153846154,
          0.037708,
          0.25036276610169494,
          0.0130908,
          0.6985532,
          0.12096081951219513,
          0.34790093846153847,
          0.009142800000000001,
          0.7039618,
          0.0808036,
          0.6781106,
          0.07882839999999999,
          0.11735161702127658,
          0.0638408,
          0.12867640000000002,
          0.009826602020202023,
          0.004,
          0.586752,
          0.13688501463414635,
          0.24402403174603174,
          0.020826400000000002,
          0.004,
          0.06502916344086021,
          0.14619760404040405,
          0.004,
          0.05454560000000001,
          0.7823642000000002,
          0.17286235268817202,
          0.021107311340206193,
          0.3450387604938271,
          0.6319679454545455,
          0.11136626666666667,
          0.13358674634146342,
          0.1634748,
          0.0628836,
          0.12500402626262627,
          0.1812352745762712,
          0.3548406064516129,
          0.21000517777777777,
          0.022705200000000002,
          0.004,
          0.5650476,
          0.016,
          0.19004393333333333,
          0.09991920000000001,
          0.1003344,
          0.014206,
          0.016145600000000003,
          0.652322,
          0.33828181568627447,
          0.6590426,
          0.0426584,
          0.15048573513513513,
          0.7131338571428572,
          0.23143615789473687,
          0.6430142,
          0.004,
          0.020939999999999997,
          0.18263267368421052,
          0.31357840000000003,
          0.1471648068965517,
          0.5647144641975308,
          0.030181999999999997,
          0.0669576,
          0.04318938947368421,
          0.23960635757575757,
          0.07667055789473684,
          0.16095433608247425,
          0.708191,
          0.7095596000000001,
          0.004,
          0.004,
          0.26487939672131144,
          0.0382888,
          0.35229326666666666,
          0.21348180845070425,
          0.2907106780487805,
          0.0190772,
          0.0382768,
          0.2725916666666667,
          0.16116163829787236,
          0.004,
          0.12411552727272727,
          0.031767199999999995,
          0.5957486000000001,
          0.051297999999999996,
          0.049758800000000006,
          0.6270645756097561,
          0.0326936,
          0.15826431304347824,
          0.11941826666666669
         ],
         "xaxis": "x",
         "yaxis": "y"
        }
       ],
       "layout": {
        "annotations": [
         {
          "font": {
           "size": 16
          },
          "showarrow": false,
          "text": "difficult for models",
          "x": 0.5,
          "xanchor": "center",
          "xref": "paper",
          "y": 1,
          "yanchor": "bottom",
          "yref": "paper"
         }
        ],
        "height": 500,
        "template": {
         "data": {
          "bar": [
           {
            "error_x": {
             "color": "#2a3f5f"
            },
            "error_y": {
             "color": "#2a3f5f"
            },
            "marker": {
             "line": {
              "color": "white",
              "width": 0.5
             },
             "pattern": {
              "fillmode": "overlay",
              "size": 10,
              "solidity": 0.2
             }
            },
            "type": "bar"
           }
          ],
          "barpolar": [
           {
            "marker": {
             "line": {
              "color": "white",
              "width": 0.5
             },
             "pattern": {
              "fillmode": "overlay",
              "size": 10,
              "solidity": 0.2
             }
            },
            "type": "barpolar"
           }
          ],
          "carpet": [
           {
            "aaxis": {
             "endlinecolor": "#2a3f5f",
             "gridcolor": "#C8D4E3",
             "linecolor": "#C8D4E3",
             "minorgridcolor": "#C8D4E3",
             "startlinecolor": "#2a3f5f"
            },
            "baxis": {
             "endlinecolor": "#2a3f5f",
             "gridcolor": "#C8D4E3",
             "linecolor": "#C8D4E3",
             "minorgridcolor": "#C8D4E3",
             "startlinecolor": "#2a3f5f"
            },
            "type": "carpet"
           }
          ],
          "choropleth": [
           {
            "colorbar": {
             "outlinewidth": 0,
             "ticks": ""
            },
            "type": "choropleth"
           }
          ],
          "contour": [
           {
            "colorbar": {
             "outlinewidth": 0,
             "ticks": ""
            },
            "colorscale": [
             [
              0,
              "#0d0887"
             ],
             [
              0.1111111111111111,
              "#46039f"
             ],
             [
              0.2222222222222222,
              "#7201a8"
             ],
             [
              0.3333333333333333,
              "#9c179e"
             ],
             [
              0.4444444444444444,
              "#bd3786"
             ],
             [
              0.5555555555555556,
              "#d8576b"
             ],
             [
              0.6666666666666666,
              "#ed7953"
             ],
             [
              0.7777777777777778,
              "#fb9f3a"
             ],
             [
              0.8888888888888888,
              "#fdca26"
             ],
             [
              1,
              "#f0f921"
             ]
            ],
            "type": "contour"
           }
          ],
          "contourcarpet": [
           {
            "colorbar": {
             "outlinewidth": 0,
             "ticks": ""
            },
            "type": "contourcarpet"
           }
          ],
          "heatmap": [
           {
            "colorbar": {
             "outlinewidth": 0,
             "ticks": ""
            },
            "colorscale": [
             [
              0,
              "#0d0887"
             ],
             [
              0.1111111111111111,
              "#46039f"
             ],
             [
              0.2222222222222222,
              "#7201a8"
             ],
             [
              0.3333333333333333,
              "#9c179e"
             ],
             [
              0.4444444444444444,
              "#bd3786"
             ],
             [
              0.5555555555555556,
              "#d8576b"
             ],
             [
              0.6666666666666666,
              "#ed7953"
             ],
             [
              0.7777777777777778,
              "#fb9f3a"
             ],
             [
              0.8888888888888888,
              "#fdca26"
             ],
             [
              1,
              "#f0f921"
             ]
            ],
            "type": "heatmap"
           }
          ],
          "heatmapgl": [
           {
            "colorbar": {
             "outlinewidth": 0,
             "ticks": ""
            },
            "colorscale": [
             [
              0,
              "#0d0887"
             ],
             [
              0.1111111111111111,
              "#46039f"
             ],
             [
              0.2222222222222222,
              "#7201a8"
             ],
             [
              0.3333333333333333,
              "#9c179e"
             ],
             [
              0.4444444444444444,
              "#bd3786"
             ],
             [
              0.5555555555555556,
              "#d8576b"
             ],
             [
              0.6666666666666666,
              "#ed7953"
             ],
             [
              0.7777777777777778,
              "#fb9f3a"
             ],
             [
              0.8888888888888888,
              "#fdca26"
             ],
             [
              1,
              "#f0f921"
             ]
            ],
            "type": "heatmapgl"
           }
          ],
          "histogram": [
           {
            "marker": {
             "pattern": {
              "fillmode": "overlay",
              "size": 10,
              "solidity": 0.2
             }
            },
            "type": "histogram"
           }
          ],
          "histogram2d": [
           {
            "colorbar": {
             "outlinewidth": 0,
             "ticks": ""
            },
            "colorscale": [
             [
              0,
              "#0d0887"
             ],
             [
              0.1111111111111111,
              "#46039f"
             ],
             [
              0.2222222222222222,
              "#7201a8"
             ],
             [
              0.3333333333333333,
              "#9c179e"
             ],
             [
              0.4444444444444444,
              "#bd3786"
             ],
             [
              0.5555555555555556,
              "#d8576b"
             ],
             [
              0.6666666666666666,
              "#ed7953"
             ],
             [
              0.7777777777777778,
              "#fb9f3a"
             ],
             [
              0.8888888888888888,
              "#fdca26"
             ],
             [
              1,
              "#f0f921"
             ]
            ],
            "type": "histogram2d"
           }
          ],
          "histogram2dcontour": [
           {
            "colorbar": {
             "outlinewidth": 0,
             "ticks": ""
            },
            "colorscale": [
             [
              0,
              "#0d0887"
             ],
             [
              0.1111111111111111,
              "#46039f"
             ],
             [
              0.2222222222222222,
              "#7201a8"
             ],
             [
              0.3333333333333333,
              "#9c179e"
             ],
             [
              0.4444444444444444,
              "#bd3786"
             ],
             [
              0.5555555555555556,
              "#d8576b"
             ],
             [
              0.6666666666666666,
              "#ed7953"
             ],
             [
              0.7777777777777778,
              "#fb9f3a"
             ],
             [
              0.8888888888888888,
              "#fdca26"
             ],
             [
              1,
              "#f0f921"
             ]
            ],
            "type": "histogram2dcontour"
           }
          ],
          "mesh3d": [
           {
            "colorbar": {
             "outlinewidth": 0,
             "ticks": ""
            },
            "type": "mesh3d"
           }
          ],
          "parcoords": [
           {
            "line": {
             "colorbar": {
              "outlinewidth": 0,
              "ticks": ""
             }
            },
            "type": "parcoords"
           }
          ],
          "pie": [
           {
            "automargin": true,
            "type": "pie"
           }
          ],
          "scatter": [
           {
            "fillpattern": {
             "fillmode": "overlay",
             "size": 10,
             "solidity": 0.2
            },
            "type": "scatter"
           }
          ],
          "scatter3d": [
           {
            "line": {
             "colorbar": {
              "outlinewidth": 0,
              "ticks": ""
             }
            },
            "marker": {
             "colorbar": {
              "outlinewidth": 0,
              "ticks": ""
             }
            },
            "type": "scatter3d"
           }
          ],
          "scattercarpet": [
           {
            "marker": {
             "colorbar": {
              "outlinewidth": 0,
              "ticks": ""
             }
            },
            "type": "scattercarpet"
           }
          ],
          "scattergeo": [
           {
            "marker": {
             "colorbar": {
              "outlinewidth": 0,
              "ticks": ""
             }
            },
            "type": "scattergeo"
           }
          ],
          "scattergl": [
           {
            "marker": {
             "colorbar": {
              "outlinewidth": 0,
              "ticks": ""
             }
            },
            "type": "scattergl"
           }
          ],
          "scattermapbox": [
           {
            "marker": {
             "colorbar": {
              "outlinewidth": 0,
              "ticks": ""
             }
            },
            "type": "scattermapbox"
           }
          ],
          "scatterpolar": [
           {
            "marker": {
             "colorbar": {
              "outlinewidth": 0,
              "ticks": ""
             }
            },
            "type": "scatterpolar"
           }
          ],
          "scatterpolargl": [
           {
            "marker": {
             "colorbar": {
              "outlinewidth": 0,
              "ticks": ""
             }
            },
            "type": "scatterpolargl"
           }
          ],
          "scatterternary": [
           {
            "marker": {
             "colorbar": {
              "outlinewidth": 0,
              "ticks": ""
             }
            },
            "type": "scatterternary"
           }
          ],
          "surface": [
           {
            "colorbar": {
             "outlinewidth": 0,
             "ticks": ""
            },
            "colorscale": [
             [
              0,
              "#0d0887"
             ],
             [
              0.1111111111111111,
              "#46039f"
             ],
             [
              0.2222222222222222,
              "#7201a8"
             ],
             [
              0.3333333333333333,
              "#9c179e"
             ],
             [
              0.4444444444444444,
              "#bd3786"
             ],
             [
              0.5555555555555556,
              "#d8576b"
             ],
             [
              0.6666666666666666,
              "#ed7953"
             ],
             [
              0.7777777777777778,
              "#fb9f3a"
             ],
             [
              0.8888888888888888,
              "#fdca26"
             ],
             [
              1,
              "#f0f921"
             ]
            ],
            "type": "surface"
           }
          ],
          "table": [
           {
            "cells": {
             "fill": {
              "color": "#EBF0F8"
             },
             "line": {
              "color": "white"
             }
            },
            "header": {
             "fill": {
              "color": "#C8D4E3"
             },
             "line": {
              "color": "white"
             }
            },
            "type": "table"
           }
          ]
         },
         "layout": {
          "annotationdefaults": {
           "arrowcolor": "#2a3f5f",
           "arrowhead": 0,
           "arrowwidth": 1
          },
          "autotypenumbers": "strict",
          "coloraxis": {
           "colorbar": {
            "outlinewidth": 0,
            "ticks": ""
           }
          },
          "colorscale": {
           "diverging": [
            [
             0,
             "#8e0152"
            ],
            [
             0.1,
             "#c51b7d"
            ],
            [
             0.2,
             "#de77ae"
            ],
            [
             0.3,
             "#f1b6da"
            ],
            [
             0.4,
             "#fde0ef"
            ],
            [
             0.5,
             "#f7f7f7"
            ],
            [
             0.6,
             "#e6f5d0"
            ],
            [
             0.7,
             "#b8e186"
            ],
            [
             0.8,
             "#7fbc41"
            ],
            [
             0.9,
             "#4d9221"
            ],
            [
             1,
             "#276419"
            ]
           ],
           "sequential": [
            [
             0,
             "#0d0887"
            ],
            [
             0.1111111111111111,
             "#46039f"
            ],
            [
             0.2222222222222222,
             "#7201a8"
            ],
            [
             0.3333333333333333,
             "#9c179e"
            ],
            [
             0.4444444444444444,
             "#bd3786"
            ],
            [
             0.5555555555555556,
             "#d8576b"
            ],
            [
             0.6666666666666666,
             "#ed7953"
            ],
            [
             0.7777777777777778,
             "#fb9f3a"
            ],
            [
             0.8888888888888888,
             "#fdca26"
            ],
            [
             1,
             "#f0f921"
            ]
           ],
           "sequentialminus": [
            [
             0,
             "#0d0887"
            ],
            [
             0.1111111111111111,
             "#46039f"
            ],
            [
             0.2222222222222222,
             "#7201a8"
            ],
            [
             0.3333333333333333,
             "#9c179e"
            ],
            [
             0.4444444444444444,
             "#bd3786"
            ],
            [
             0.5555555555555556,
             "#d8576b"
            ],
            [
             0.6666666666666666,
             "#ed7953"
            ],
            [
             0.7777777777777778,
             "#fb9f3a"
            ],
            [
             0.8888888888888888,
             "#fdca26"
            ],
            [
             1,
             "#f0f921"
            ]
           ]
          },
          "colorway": [
           "#636efa",
           "#EF553B",
           "#00cc96",
           "#ab63fa",
           "#FFA15A",
           "#19d3f3",
           "#FF6692",
           "#B6E880",
           "#FF97FF",
           "#FECB52"
          ],
          "font": {
           "color": "#2a3f5f"
          },
          "geo": {
           "bgcolor": "white",
           "lakecolor": "white",
           "landcolor": "white",
           "showlakes": true,
           "showland": true,
           "subunitcolor": "#C8D4E3"
          },
          "hoverlabel": {
           "align": "left"
          },
          "hovermode": "closest",
          "mapbox": {
           "style": "light"
          },
          "paper_bgcolor": "white",
          "plot_bgcolor": "white",
          "polar": {
           "angularaxis": {
            "gridcolor": "#EBF0F8",
            "linecolor": "#EBF0F8",
            "ticks": ""
           },
           "bgcolor": "white",
           "radialaxis": {
            "gridcolor": "#EBF0F8",
            "linecolor": "#EBF0F8",
            "ticks": ""
           }
          },
          "scene": {
           "xaxis": {
            "backgroundcolor": "white",
            "gridcolor": "#DFE8F3",
            "gridwidth": 2,
            "linecolor": "#EBF0F8",
            "showbackground": true,
            "ticks": "",
            "zerolinecolor": "#EBF0F8"
           },
           "yaxis": {
            "backgroundcolor": "white",
            "gridcolor": "#DFE8F3",
            "gridwidth": 2,
            "linecolor": "#EBF0F8",
            "showbackground": true,
            "ticks": "",
            "zerolinecolor": "#EBF0F8"
           },
           "zaxis": {
            "backgroundcolor": "white",
            "gridcolor": "#DFE8F3",
            "gridwidth": 2,
            "linecolor": "#EBF0F8",
            "showbackground": true,
            "ticks": "",
            "zerolinecolor": "#EBF0F8"
           }
          },
          "shapedefaults": {
           "line": {
            "color": "#2a3f5f"
           }
          },
          "ternary": {
           "aaxis": {
            "gridcolor": "#DFE8F3",
            "linecolor": "#A2B1C6",
            "ticks": ""
           },
           "baxis": {
            "gridcolor": "#DFE8F3",
            "linecolor": "#A2B1C6",
            "ticks": ""
           },
           "bgcolor": "white",
           "caxis": {
            "gridcolor": "#DFE8F3",
            "linecolor": "#A2B1C6",
            "ticks": ""
           }
          },
          "title": {
           "x": 0.05
          },
          "xaxis": {
           "automargin": true,
           "gridcolor": "#EBF0F8",
           "linecolor": "#EBF0F8",
           "ticks": "",
           "title": {
            "standoff": 15
           },
           "zerolinecolor": "#EBF0F8",
           "zerolinewidth": 2
          },
          "yaxis": {
           "automargin": true,
           "gridcolor": "#EBF0F8",
           "linecolor": "#EBF0F8",
           "ticks": "",
           "title": {
            "standoff": 15
           },
           "zerolinecolor": "#EBF0F8",
           "zerolinewidth": 2
          }
         }
        },
        "xaxis": {
         "anchor": "y",
         "domain": [
          0,
          1
         ]
        },
        "yaxis": {
         "anchor": "x",
         "domain": [
          0,
          1
         ]
        }
       }
      },
      "text/html": [
       "<div>                            <div id=\"a74341d5-bd23-4e5f-bcb5-3c84e519e929\" class=\"plotly-graph-div\" style=\"height:500px; width:100%;\"></div>            <script type=\"text/javascript\">                require([\"plotly\"], function(Plotly) {                    window.PLOTLYENV=window.PLOTLYENV || {};                                    if (document.getElementById(\"a74341d5-bd23-4e5f-bcb5-3c84e519e929\")) {                    Plotly.newPlot(                        \"a74341d5-bd23-4e5f-bcb5-3c84e519e929\",                        [{\"name\":\"BIN\",\"showlegend\":true,\"x\":[0.0319016,0.22649333333333335,0.2975622,0.0338896,0.4126073142857143,0.5810848,0.3900596,0.1663074,0.5890958461538461,0.034205200000000005,0.004,0.004,0.09627229795918368,0.009072802020202022,0.022020400000000002,0.05988511914893618,0.2532913647058823,0.15728479999999997,0.5983148210526317,0.3963820461538462,0.12591036326530614,0.021087232653061228,0.282063952688172,0.009798002020202022,0.4377990967741935,0.004,0.853595,0.35534957681159424,0.28563635087719297,0.5525628666666667,0.5511859333333333,0.2708936317460317,0.3618360512820512,0.004,0.18072474736842103,0.008612802020202022,0.004,0.20305936551724138,0.010327802020202021,0.503294082352941,0.028049408080808087,0.7132284,0.12545375652173912,0.9329102,0.0311988,0.04399,0.1064244,0.0708900888888889,0.07007301616161618,0.026855200000000003,0.6582173974025973,0.09138559999999998,0.1802128,0.176068,0.015240400000000001,0.004,0.19509993333333334,0.29097983636363633,0.6562673777777778,0.3186880571428571,0.45689659726027393,0.10395126666666665,0.0743324181818182,0.004,0.33508367692307695,0.04062193763440859,0.14242963157894736,0.3227885130434783,0.004,0.004,0.004,0.0647828,0.30848504444444447,0.6346063512195121,0.4796024210526316,0.4427990987951807,0.0721068,0.16406619591836735,0.034205200000000005,0.4716613818181818,0.004,0.38355489473684207,0.5083591157894738,0.6197021333333333,0.38439627619047617,0.28316728888888887,0.9119073999999999,0.0228332,0.10115978969072166,0.22547993333333333,0.05143208163265307,0.03313000000000001,0.052923599999999994,0.07735881414141414,0.19920025714285716,0.20258124347826084,0.17011426315789474,0.0092172,0.6073833925925926,0.23241304761904757,0.22014711304347828,0.07187879999999999,0.4490404,0.10403759999999998,0.6163868,0.16872983820224718,0.0332524,0.07495586530612244,0.46809042105263166,0.6795051939393939,0.2861656,0.02162,0.38762940000000007,0.02273573333333334,0.0321308,0.05981673333333334,0.4215589813953489,0.5116153389830509,0.11914562702702702,0.6077454631578947,0.3282897846153846,0.09451760000000001,0.035558799999999995,0.4758797951219512,0.004,0.45075112413793106,0.0377884,0.014707416326530614,0.24196004444444447,0.004,0.004,0.14116550574712644,0.0405252,0.3714161529411764,0.2707794190476191,0.0253648,0.0495434752688172,0.5764442558139535,0.08957928837209303,0.07370271134020619,0.18247432727272728,0.2811794909090909,0.5155627555555555,0.5155627555555555,0.3824357692307692,0.3084726888888889,0.0536476,0.022810000000000004,0.0789012,0.0792848,0.07938920000000001,0.04458251578947369,0.3569146731707318,0.004,0.26108972183908047,0.1550684,0.15458053608247424,0.08620559512195122,0.38646538181818185,0.32747621538461535,0.004,0.0536628,0.06513120000000001,0.0911741052631579,0.03408020808080808,0.2514687523809524,0.7827008,0.09440726666666667,0.0516072,0.7580491333333335,0.0930310101010101,0.004,0.13125990909090907,0.37690574285714284,0.4120482516129032,0.021296804040404044,0.19234108163265304,0.07115160000000001,0.10275102268041239,0.10127280000000001,0.6368451272727274,0.0189064,0.25482453513513514,0.017833599999999998,0.3095424608695653,0.6163868,0.44295495555555553,0.24249467228915664,0.14625446804123712,0.09491736326530612,0.6643362808510638,0.08963360000000001,0.4816468736842106,0.055008822680412385,0.21780059999999998,0.6785432,0.4441873333333334,0.3631743534883721,0.1311356,0.0800404,0.0334,0.204202,0.004,0.3126505789473685,0.2878402686567164,0.025008006060606065,0.2207088,0.4891467555555556,0.20303606206896552,0.17559013191489364,0.3839296490566037,0.019198399999999997,0.1490666551724138,0.26311050864197527,0.45050999999999997,0.6587225473684211,0.11303784897959186,0.04877198947368422,0.67824,0.004,0.004,0.3518097272727273,0.0414372,0.2496863106382979,0.07732434693877552,0.6453854222222223,0.004,0.3342309473684211,0.23278065853658533,0.03799999999999999,0.004,0.20646086666666666,0.33757529629629623,0.31712853333333335,0.004,0.20610332972972972,0.0339392,0.8719723939393939,0.06454341414141415,0.042170859574468096,0.19265315789473686,0.0159732,0.10919763030303031,0.5824763333333334,0.22014711304347828,0.5416143703703703,0.11241366666666668,0.09989079999999999,0.15543381758241756,0.09915159999999999,0.1585736,0.37572054054054055,0.04410560606060606,0.2576867897435897,0.32486429620253165,0.0400088,0.696546,0.040884000000000004,0.056401014141414144,0.004,0.0189528556701031,0.02908,0.0674748,0.3814507294117647,0.08266280000000001,0.008094,0.058430941176470595,0.5920043999999999,0.016223599999999998,0.058811999999999996,0.11398421978021978,0.6745498571428572,0.8748431999999999,0.269499,0.5975821333333333,0.18108923255813952,0.0426908,0.7868729999999999,0.24196004444444447,0.03149804897959184,0.22463669565217392,0.17227448421052632,0.04185119999999999,0.4430411333333333,0.5381337096774194,0.6411724,0.1929029142857143,0.18809123478260867,0.0635844,0.6402414444444445,0.10801750103092785,0.6080664666666666,0.1538976695652174,0.010877600000000001,0.09397231428571429,0.25509277377049183,0.047023075268817195,0.0422628,0.5453523428571428,0.036546800000000004,0.5562752941176471,0.13951684536082476,0.009411600000000001,0.0343652,0.3793236606060606,0.10512041010101011,0.03485360404040404,0.765571,0.07500456326530612,0.14933883157894737,0.22739658947368419,0.38628358271604935,0.2245181569620253,0.0913708101010101,0.13531320000000002,0.1209330210526316,0.06384811428571428,0.24249467228915664,0.22243822608695654,0.3477803517241379,0.07896841616161618,0.025944000000000002,0.471837,0.39861688695652175,0.3627118,0.004,0.1817358666666667,0.004,0.013236404040404043,0.6591878,0.08811093333333334,0.6388628492753623,0.0082668,0.3260966888888889,0.6769174492753623,0.17308131340206184,0.6386986461538461,0.021087232653061228,0.0208,0.09018635670103092,0.19680998426966292,0.16570322077922078,0.5760533945945946,0.07348421212121212,0.017406,0.09890007710843375,0.1590548608695652,0.004,0.29915812643678164,0.6494244,0.6516780000000001,0.004,0.2849456631578947,0.14485041414141414,0.13792980000000002,0.3171571724137931,0.4845968,0.13977212307692308,0.05690897872340426,0.0639692,0.12034822626262627,0.41854420000000003,0.004,0.27866720487804886,0.0193488556701031,0.5923382,0.004,0.16917716543209876,0.5764442558139535,0.02852771134020619,0.14171166086956521,0.08707079999999999],\"type\":\"histogram\",\"xaxis\":\"x\",\"yaxis\":\"y\"},{\"name\":\"GTR\",\"showlegend\":true,\"x\":[0.4330601433962264,0.5718396,0.6332720042553192,0.43867399999999995,0.4520884222222222,0.47493435294117636,0.495858347826087,0.19297820289855072,0.6671039999999999,0.23302254736842104,0.18655797674418606,0.15264768888888888,0.5321097555555556,0.1113239542168675,0.470693703030303,0.12590872631578948,0.5430182,0.28723366229508196,0.6917879939393939,0.537896457142857,0.3576347152542373,0.07086024210526316,0.7244200604651164,0.21634349090909089,0.6116706000000001,0.15017350476190477,0.8389521999999999,0.603830386440678,0.05221547835051547,0.6145156,0.32704802105263153,0.4601192545454545,0.3003298,0.032086313043478254,0.32224472631578954,0.012965200000000001,0.2836458285714286,0.5903082,0.008481802020202022,0.5108979962264151,0.3511380086956522,0.8181752,0.5234361384615385,0.9218381999999998,0.41842677260273964,0.16851411794871793,0.11369680000000001,0.5119494,0.4548792551724138,0.08922370103092783,0.7020766,0.20754573333333334,0.4660975454545454,0.12396753707865169,0.012704404040404044,0.24311591428571427,0.19952413333333333,0.39205887692307695,0.704323876923077,0.5431218705882352,0.7065835428571429,0.23066611111111116,0.18860418181818178,0.09316956279069767,0.42541039999999997,0.0693288,0.5857064666666666,0.2917252923076923,0.05499,0.5927551076923077,0.038237404040404044,0.25748706666666665,0.3258914363636364,0.6870828,0.5643030705882353,0.5650763411764705,0.46189354117647063,0.35460846206896557,0.23302254736842104,0.5554254545454544,0.15458226086956522,0.3322618862745098,0.5207854,0.6995236695652174,0.4043125818181818,0.3633743419354839,0.7916817999999999,0.08642310909090908,0.520314909090909,0.4012126235294118,0.17046768641975307,0.0315556,0.24251226666666667,0.2835304767123287,0.547409,0.4477424769230769,0.3997831473684211,0.27128765714285713,0.6750043945945945,0.4812322222222223,0.6186251677419354,0.3168874447761194,0.32419860821917806,0.5077904,0.6518730888888888,0.27229148196721314,0.47467353513513516,0.17809102089552237,0.7430156666666667,0.7928438,0.6976564000000001,0.361792082051282,0.35861701194029855,0.02315943265306123,0.03998631428571429,0.20819762857142857,0.29541093333333335,0.5902146,0.3162180784313725,0.5991324,0.5831287142857142,0.3289832,0.42286634814814816,0.7490270000000001,0.2539953333333333,0.43371078723404255,0.38770678596491226,0.009057202020202023,0.5416362356164384,0.2807341914893617,0.44105790909090903,0.4237665047619048,0.2125619731343283,0.5425798,0.615103511627907,0.47023273793103454,0.1467085463414634,0.6799286,0.5619307358490566,0.28394374814814816,0.3291558461538462,0.4196475641791045,0.5442529523809524,0.5442529523809524,0.702152,0.5331581931034484,0.047893265306122444,0.39092470769230775,0.3104276724637681,0.46575794054054054,0.6731301939393939,0.46700535555555567,0.315493580952381,0.20252313333333333,0.5066360153846154,0.5053935435897435,0.3113447804878049,0.29211629523809524,0.4043125818181818,0.565820894117647,0.13650553333333332,0.21751323797468353,0.31660742857142854,0.3633357578947368,0.14245099277108436,0.47381851515151513,0.8539900000000001,0.47576317446808514,0.16235643783783785,0.7616584,0.10810944210526316,0.05661625217391304,0.23322541818181816,0.20074527368421052,0.629267911627907,0.07534194285714287,0.2563573492537313,0.4151108956521739,0.5063250769230769,0.08560437303370787,0.6903438285714285,0.22742411063829787,0.3582147021276596,0.20706273559322036,0.4411436947368421,0.6518730888888888,0.4500252476190477,0.4342403142857143,0.3472637647058823,0.6677638,0.6771118808510638,0.1305970831460674,0.433583387755102,0.473817655319149,0.3278338648648649,0.7026844,0.5122865575757576,0.24836017142857142,0.6663853964912281,0.1279192,0.0130908,0.20654560000000002,0.3705582,0.4222602039215687,0.3994114666666667,0.22938026666666672,0.10579155555555557,0.2648608943396226,0.3202696857142857,0.5288222,0.34060819999999997,0.22254307234042553,0.3160676888888889,0.6090682465116279,0.30337233846153844,0.7575451739130435,0.37418122535211273,0.14429431794871794,0.7074836,0.24311591428571427,0.24909091830985916,0.40708535813953495,0.22683154285714285,0.2961252,0.17020553975903616,0.7146089999999999,0.0204848,0.37457319999999994,0.4639688137931034,0.24716323636363632,0.22826923636363636,0.49590330769230767,0.38479539999999995,0.2611589764705882,0.2667080857142857,0.26112080000000004,0.19155090985915493,0.8866957925925926,0.13192911898734178,0.2678433185185185,0.16871712432432434,0.42788727407407406,0.47274530909090906,0.6566902492753623,0.6186251677419354,0.6294677846153847,0.1158923052631579,0.5844097333333333,0.34776825714285714,0.4633992,0.635227452631579,0.5790544941176471,0.03326360404040404,0.5284059714285714,0.32806347586206897,0.038860767010309286,0.7610238,0.02994106530612245,0.5736734408163265,0.050957199999999994,0.03108886666666667,0.2831418,0.11005586666666667,0.323659688372093,0.3131867023255814,0.23509363243243248,0.022666799999999997,0.6643027673469387,0.18236993333333334,0.2152621777777778,0.375058237735849,0.7007089694915255,0.9359792,0.3675711428571429,0.6744041739130434,0.3481552,0.26750830322580643,0.8213806,0.5416362356164384,0.23490599999999998,0.5039633212121212,0.5004540000000001,0.26385176716417913,0.6835210615384616,0.6566946,0.6669698000000001,0.6143001714285714,0.29946021791044775,0.3057961534883721,0.6957464,0.328131898630137,0.6851711999999999,0.24246422539682538,0.24619554285714287,0.36270185185185183,0.639846457142857,0.239858,0.17341926451612902,0.6325773694915254,0.06714214606741573,0.30142559215686276,0.4231726666666667,0.034384000000000005,0.4740217428571428,0.3990168380952381,0.2065315185185185,0.010952800000000002,0.8124762000000001,0.4422475238095238,0.18601971232876713,0.6046771925925926,0.6429669673469387,0.3502997185185185,0.3573366666666667,0.21531320000000004,0.13035367058823527,0.1421114956521739,0.4342403142857143,0.5125816000000001,0.3671077457627119,0.045816915789473694,0.27302170943396226,0.6390184941176471,0.3714343586206897,0.5748655073170731,0.31622823076923073,0.4841579090909091,0.13840735402298848,0.03896711914893618,0.6500782,0.6049863684210527,0.6717272000000001,0.28411929433962263,0.41846300000000003,0.7736981454545455,0.5031129090909092,0.665474,0.07086024210526316,0.3001303882352941,0.3611058923076923,0.43597092195121956,0.4160963652173913,0.6506189673469388,0.2516612285714286,0.2862597684210526,0.23729462424242423,0.3237002470588235,0.24530585128205126,0.3689342148148148,0.6594733999999999,0.6722766,0.13282752195121952,0.3136142339622642,0.23954978554216871,0.4553837567567568,0.5664475333333333,0.3625355591836735,0.5883173142857142,0.2845798444444444,0.07563857872340427,0.6366923851851852,0.5825942,0.35701599999999994,0.4804540666666667,0.40925455555555557,0.6372573948717949,0.2799382222222222,0.36661602264150944,0.677933,0.20211626666666666,0.5767439692307692,0.4389287333333334],\"type\":\"histogram\",\"xaxis\":\"x\",\"yaxis\":\"y\"},{\"name\":\"MK\",\"showlegend\":true,\"x\":[0.0318712,0.19912784395604394,0.286782894117647,0.0447552,0.4383674,0.07159565217391303,0.4450066551724138,0.033877567010309285,0.6495618000000001,0.004,0.004,0.004,0.004,0.004,0.11828164444444444,0.1226668,0.20925565773195878,0.1284364,0.5971120210526315,0.32866825714285713,0.1193234,0.004,0.343903819047619,0.004,0.5527349448275862,0.004,0.8513166,0.3372474,0.004,0.4581407111111112,0.265146,0.03682356701030928,0.1086492101010101,0.004,0.10231812371134022,0.004,0.004,0.2565015218390805,0.004,0.5183775887323944,0.3266580930232558,0.64676525,0.15230040000000003,0.925944,0.06111120000000001,0.08978799999999999,0.19418200000000002,0.004,0.31470560000000003,0.0289292,0.6540714,0.07539289787234045,0.11163951794871796,0.0485388,0.004,0.065736,0.009251002020202022,0.27390579148936167,0.6762846666666666,0.23976766666666666,0.6311609111111112,0.021357599999999997,0.06033120000000001,0.07508080000000002,0.4340075549295775,0.047753199999999996,0.32953936595744676,0.15358853333333333,0.004,0.16100447272727272,0.0289292,0.030303199999999995,0.25942050337078654,0.6325154,0.4212817333333333,0.49871877215189875,0.0682812,0.0632728,0.004,0.47614786153846145,0.0336288,0.3875129848101266,0.47635059999999996,0.6614669818181819,0.1169735010752688,0.1050152,0.9801144,0.004,0.2002177243243243,0.09648480000000001,0.03301,0.08514402626262627,0.004,0.16522903956043955,0.2025862086956522,0.1807743139784946,0.038524800000000005,0.0847992,0.6265264666666666,0.19035923076923078,0.4373575894736842,0.10849279999999999,0.2677456,0.025598711340206193,0.6194278000000001,0.0541192,0.09675693043478259,0.07030679999999999,0.6569154896551724,0.695384657142857,0.5465921333333333,0.07159734693877551,0.3578637142857143,0.004,0.0472128,0.004,0.0094544,0.5320160972972973,0.0453708,0.639258,0.36581359999999996,0.1706974666666667,0.0360936,0.5808156727272726,0.004,0.46477579999999996,0.1319770202020202,0.004,0.3968635415730336,0.042083600000000006,0.012,0.025750000000000002,0.004,0.3732756677966102,0.5411380918918919,0.0440268,0.004,0.6270645756097561,0.2622036,0.0157852,0.1030185652173913,0.172008,0.17002103636363636,0.17002103636363636,0.5163274666666667,0.37047752727272726,0.044,0.047129599999999994,0.1445726086956522,0.0704010202020202,0.08351679999999999,0.0358344,0.26863278260869566,0.004,0.21075604347826085,0.1397843011235955,0.049094114285714294,0.0636776,0.1169735010752688,0.4731824787878788,0.004,0.0092632,0.0229092,0.21310205494505494,0.05818200000000001,0.2678070680851064,0.8060556372093023,0.0894625634408602,0.07486735670103092,0.7960426,0.12946640000000004,0.004,0.049817999999999994,0.11855418969072166,0.5265559428571429,0.004,0.117818,0.13353240000000002,0.16190221212121209,0.06512120000000002,0.6022472,0.042406,0.18836821126760564,0.03428,0.1456756,0.6194278000000001,0.6139132,0.1812352745762712,0.2829821853658537,0.20137373333333336,0.7025129999999999,0.07943381616161617,0.41885486666666666,0.047717199999999994,0.10990451428571428,0.7102890000000001,0.39424887323943664,0.044460799999999995,0.2504087282051282,0.004,0.004,0.1302628,0.0219488,0.0193308556701031,0.11330360000000002,0.004,0.0116176,0.04337919999999999,0.13845743636363633,0.16019246666666664,0.2350667927710844,0.05082681616161616,0.09142439999999999,0.46753108235294116,0.29730145797101454,0.6988391614457831,0.11564800000000001,0.004,0.7392508,0.065736,0.0229156,0.0641212,0.014372400000000002,0.1793803818181818,0.0293852,0.6598584,0.004,0.13773200404040403,0.19812295151515152,0.028476800000000003,0.030137599999999997,0.4045673826086956,0.28091246666666664,0.19166230344827587,0.0087544,0.004,0.0835108,0.896572648275862,0.0348372,0.004,0.2267441237113402,0.004,0.3413524172839506,0.6335770000000001,0.4373575894736842,0.1088795237113402,0.12500336326530612,0.17099814545454545,0.11650666666666668,0.3179677162790698,0.20156309411764708,0.3728958842105263,0.004,0.2628031428571429,0.22418574193548385,0.024089600000000003,0.7001232,0.0475712,0.0387528,0.018212,0.004,0.026336,0.033811600000000004,0.02886484897959184,0.004,0.004,0.15363193725490196,0.5928745333333334,0.15976819999999997,0.0633372,0.2402596,0.6664952,0.9256846,0.1464188938271605,0.5906252000000001,0.0158384,0.0247192,0.8215514,0.3968635415730336,0.0289744,0.26926828387096774,0.4003124153846154,0.037708,0.25036276610169494,0.0130908,0.6985532,0.12096081951219513,0.34790093846153847,0.009142800000000001,0.7039618,0.0808036,0.6781106,0.07882839999999999,0.11735161702127658,0.0638408,0.12867640000000002,0.009826602020202023,0.004,0.586752,0.13688501463414635,0.24402403174603174,0.020826400000000002,0.004,0.06502916344086021,0.14619760404040405,0.004,0.05454560000000001,0.7823642000000002,0.17286235268817202,0.021107311340206193,0.3450387604938271,0.6319679454545455,0.11136626666666667,0.13358674634146342,0.1634748,0.0628836,0.12500402626262627,0.1812352745762712,0.3548406064516129,0.21000517777777777,0.022705200000000002,0.004,0.5650476,0.016,0.19004393333333333,0.09991920000000001,0.1003344,0.014206,0.016145600000000003,0.652322,0.33828181568627447,0.6590426,0.0426584,0.15048573513513513,0.7131338571428572,0.23143615789473687,0.6430142,0.004,0.020939999999999997,0.18263267368421052,0.31357840000000003,0.1471648068965517,0.5647144641975308,0.030181999999999997,0.0669576,0.04318938947368421,0.23960635757575757,0.07667055789473684,0.16095433608247425,0.708191,0.7095596000000001,0.004,0.004,0.26487939672131144,0.0382888,0.35229326666666666,0.21348180845070425,0.2907106780487805,0.0190772,0.0382768,0.2725916666666667,0.16116163829787236,0.004,0.12411552727272727,0.031767199999999995,0.5957486000000001,0.051297999999999996,0.049758800000000006,0.6270645756097561,0.0326936,0.15826431304347824,0.11941826666666669],\"type\":\"histogram\",\"xaxis\":\"x\",\"yaxis\":\"y\"}],                        {\"template\":{\"data\":{\"barpolar\":[{\"marker\":{\"line\":{\"color\":\"white\",\"width\":0.5},\"pattern\":{\"fillmode\":\"overlay\",\"size\":10,\"solidity\":0.2}},\"type\":\"barpolar\"}],\"bar\":[{\"error_x\":{\"color\":\"#2a3f5f\"},\"error_y\":{\"color\":\"#2a3f5f\"},\"marker\":{\"line\":{\"color\":\"white\",\"width\":0.5},\"pattern\":{\"fillmode\":\"overlay\",\"size\":10,\"solidity\":0.2}},\"type\":\"bar\"}],\"carpet\":[{\"aaxis\":{\"endlinecolor\":\"#2a3f5f\",\"gridcolor\":\"#C8D4E3\",\"linecolor\":\"#C8D4E3\",\"minorgridcolor\":\"#C8D4E3\",\"startlinecolor\":\"#2a3f5f\"},\"baxis\":{\"endlinecolor\":\"#2a3f5f\",\"gridcolor\":\"#C8D4E3\",\"linecolor\":\"#C8D4E3\",\"minorgridcolor\":\"#C8D4E3\",\"startlinecolor\":\"#2a3f5f\"},\"type\":\"carpet\"}],\"choropleth\":[{\"colorbar\":{\"outlinewidth\":0,\"ticks\":\"\"},\"type\":\"choropleth\"}],\"contourcarpet\":[{\"colorbar\":{\"outlinewidth\":0,\"ticks\":\"\"},\"type\":\"contourcarpet\"}],\"contour\":[{\"colorbar\":{\"outlinewidth\":0,\"ticks\":\"\"},\"colorscale\":[[0.0,\"#0d0887\"],[0.1111111111111111,\"#46039f\"],[0.2222222222222222,\"#7201a8\"],[0.3333333333333333,\"#9c179e\"],[0.4444444444444444,\"#bd3786\"],[0.5555555555555556,\"#d8576b\"],[0.6666666666666666,\"#ed7953\"],[0.7777777777777778,\"#fb9f3a\"],[0.8888888888888888,\"#fdca26\"],[1.0,\"#f0f921\"]],\"type\":\"contour\"}],\"heatmapgl\":[{\"colorbar\":{\"outlinewidth\":0,\"ticks\":\"\"},\"colorscale\":[[0.0,\"#0d0887\"],[0.1111111111111111,\"#46039f\"],[0.2222222222222222,\"#7201a8\"],[0.3333333333333333,\"#9c179e\"],[0.4444444444444444,\"#bd3786\"],[0.5555555555555556,\"#d8576b\"],[0.6666666666666666,\"#ed7953\"],[0.7777777777777778,\"#fb9f3a\"],[0.8888888888888888,\"#fdca26\"],[1.0,\"#f0f921\"]],\"type\":\"heatmapgl\"}],\"heatmap\":[{\"colorbar\":{\"outlinewidth\":0,\"ticks\":\"\"},\"colorscale\":[[0.0,\"#0d0887\"],[0.1111111111111111,\"#46039f\"],[0.2222222222222222,\"#7201a8\"],[0.3333333333333333,\"#9c179e\"],[0.4444444444444444,\"#bd3786\"],[0.5555555555555556,\"#d8576b\"],[0.6666666666666666,\"#ed7953\"],[0.7777777777777778,\"#fb9f3a\"],[0.8888888888888888,\"#fdca26\"],[1.0,\"#f0f921\"]],\"type\":\"heatmap\"}],\"histogram2dcontour\":[{\"colorbar\":{\"outlinewidth\":0,\"ticks\":\"\"},\"colorscale\":[[0.0,\"#0d0887\"],[0.1111111111111111,\"#46039f\"],[0.2222222222222222,\"#7201a8\"],[0.3333333333333333,\"#9c179e\"],[0.4444444444444444,\"#bd3786\"],[0.5555555555555556,\"#d8576b\"],[0.6666666666666666,\"#ed7953\"],[0.7777777777777778,\"#fb9f3a\"],[0.8888888888888888,\"#fdca26\"],[1.0,\"#f0f921\"]],\"type\":\"histogram2dcontour\"}],\"histogram2d\":[{\"colorbar\":{\"outlinewidth\":0,\"ticks\":\"\"},\"colorscale\":[[0.0,\"#0d0887\"],[0.1111111111111111,\"#46039f\"],[0.2222222222222222,\"#7201a8\"],[0.3333333333333333,\"#9c179e\"],[0.4444444444444444,\"#bd3786\"],[0.5555555555555556,\"#d8576b\"],[0.6666666666666666,\"#ed7953\"],[0.7777777777777778,\"#fb9f3a\"],[0.8888888888888888,\"#fdca26\"],[1.0,\"#f0f921\"]],\"type\":\"histogram2d\"}],\"histogram\":[{\"marker\":{\"pattern\":{\"fillmode\":\"overlay\",\"size\":10,\"solidity\":0.2}},\"type\":\"histogram\"}],\"mesh3d\":[{\"colorbar\":{\"outlinewidth\":0,\"ticks\":\"\"},\"type\":\"mesh3d\"}],\"parcoords\":[{\"line\":{\"colorbar\":{\"outlinewidth\":0,\"ticks\":\"\"}},\"type\":\"parcoords\"}],\"pie\":[{\"automargin\":true,\"type\":\"pie\"}],\"scatter3d\":[{\"line\":{\"colorbar\":{\"outlinewidth\":0,\"ticks\":\"\"}},\"marker\":{\"colorbar\":{\"outlinewidth\":0,\"ticks\":\"\"}},\"type\":\"scatter3d\"}],\"scattercarpet\":[{\"marker\":{\"colorbar\":{\"outlinewidth\":0,\"ticks\":\"\"}},\"type\":\"scattercarpet\"}],\"scattergeo\":[{\"marker\":{\"colorbar\":{\"outlinewidth\":0,\"ticks\":\"\"}},\"type\":\"scattergeo\"}],\"scattergl\":[{\"marker\":{\"colorbar\":{\"outlinewidth\":0,\"ticks\":\"\"}},\"type\":\"scattergl\"}],\"scattermapbox\":[{\"marker\":{\"colorbar\":{\"outlinewidth\":0,\"ticks\":\"\"}},\"type\":\"scattermapbox\"}],\"scatterpolargl\":[{\"marker\":{\"colorbar\":{\"outlinewidth\":0,\"ticks\":\"\"}},\"type\":\"scatterpolargl\"}],\"scatterpolar\":[{\"marker\":{\"colorbar\":{\"outlinewidth\":0,\"ticks\":\"\"}},\"type\":\"scatterpolar\"}],\"scatter\":[{\"fillpattern\":{\"fillmode\":\"overlay\",\"size\":10,\"solidity\":0.2},\"type\":\"scatter\"}],\"scatterternary\":[{\"marker\":{\"colorbar\":{\"outlinewidth\":0,\"ticks\":\"\"}},\"type\":\"scatterternary\"}],\"surface\":[{\"colorbar\":{\"outlinewidth\":0,\"ticks\":\"\"},\"colorscale\":[[0.0,\"#0d0887\"],[0.1111111111111111,\"#46039f\"],[0.2222222222222222,\"#7201a8\"],[0.3333333333333333,\"#9c179e\"],[0.4444444444444444,\"#bd3786\"],[0.5555555555555556,\"#d8576b\"],[0.6666666666666666,\"#ed7953\"],[0.7777777777777778,\"#fb9f3a\"],[0.8888888888888888,\"#fdca26\"],[1.0,\"#f0f921\"]],\"type\":\"surface\"}],\"table\":[{\"cells\":{\"fill\":{\"color\":\"#EBF0F8\"},\"line\":{\"color\":\"white\"}},\"header\":{\"fill\":{\"color\":\"#C8D4E3\"},\"line\":{\"color\":\"white\"}},\"type\":\"table\"}]},\"layout\":{\"annotationdefaults\":{\"arrowcolor\":\"#2a3f5f\",\"arrowhead\":0,\"arrowwidth\":1},\"autotypenumbers\":\"strict\",\"coloraxis\":{\"colorbar\":{\"outlinewidth\":0,\"ticks\":\"\"}},\"colorscale\":{\"diverging\":[[0,\"#8e0152\"],[0.1,\"#c51b7d\"],[0.2,\"#de77ae\"],[0.3,\"#f1b6da\"],[0.4,\"#fde0ef\"],[0.5,\"#f7f7f7\"],[0.6,\"#e6f5d0\"],[0.7,\"#b8e186\"],[0.8,\"#7fbc41\"],[0.9,\"#4d9221\"],[1,\"#276419\"]],\"sequential\":[[0.0,\"#0d0887\"],[0.1111111111111111,\"#46039f\"],[0.2222222222222222,\"#7201a8\"],[0.3333333333333333,\"#9c179e\"],[0.4444444444444444,\"#bd3786\"],[0.5555555555555556,\"#d8576b\"],[0.6666666666666666,\"#ed7953\"],[0.7777777777777778,\"#fb9f3a\"],[0.8888888888888888,\"#fdca26\"],[1.0,\"#f0f921\"]],\"sequentialminus\":[[0.0,\"#0d0887\"],[0.1111111111111111,\"#46039f\"],[0.2222222222222222,\"#7201a8\"],[0.3333333333333333,\"#9c179e\"],[0.4444444444444444,\"#bd3786\"],[0.5555555555555556,\"#d8576b\"],[0.6666666666666666,\"#ed7953\"],[0.7777777777777778,\"#fb9f3a\"],[0.8888888888888888,\"#fdca26\"],[1.0,\"#f0f921\"]]},\"colorway\":[\"#636efa\",\"#EF553B\",\"#00cc96\",\"#ab63fa\",\"#FFA15A\",\"#19d3f3\",\"#FF6692\",\"#B6E880\",\"#FF97FF\",\"#FECB52\"],\"font\":{\"color\":\"#2a3f5f\"},\"geo\":{\"bgcolor\":\"white\",\"lakecolor\":\"white\",\"landcolor\":\"white\",\"showlakes\":true,\"showland\":true,\"subunitcolor\":\"#C8D4E3\"},\"hoverlabel\":{\"align\":\"left\"},\"hovermode\":\"closest\",\"mapbox\":{\"style\":\"light\"},\"paper_bgcolor\":\"white\",\"plot_bgcolor\":\"white\",\"polar\":{\"angularaxis\":{\"gridcolor\":\"#EBF0F8\",\"linecolor\":\"#EBF0F8\",\"ticks\":\"\"},\"bgcolor\":\"white\",\"radialaxis\":{\"gridcolor\":\"#EBF0F8\",\"linecolor\":\"#EBF0F8\",\"ticks\":\"\"}},\"scene\":{\"xaxis\":{\"backgroundcolor\":\"white\",\"gridcolor\":\"#DFE8F3\",\"gridwidth\":2,\"linecolor\":\"#EBF0F8\",\"showbackground\":true,\"ticks\":\"\",\"zerolinecolor\":\"#EBF0F8\"},\"yaxis\":{\"backgroundcolor\":\"white\",\"gridcolor\":\"#DFE8F3\",\"gridwidth\":2,\"linecolor\":\"#EBF0F8\",\"showbackground\":true,\"ticks\":\"\",\"zerolinecolor\":\"#EBF0F8\"},\"zaxis\":{\"backgroundcolor\":\"white\",\"gridcolor\":\"#DFE8F3\",\"gridwidth\":2,\"linecolor\":\"#EBF0F8\",\"showbackground\":true,\"ticks\":\"\",\"zerolinecolor\":\"#EBF0F8\"}},\"shapedefaults\":{\"line\":{\"color\":\"#2a3f5f\"}},\"ternary\":{\"aaxis\":{\"gridcolor\":\"#DFE8F3\",\"linecolor\":\"#A2B1C6\",\"ticks\":\"\"},\"baxis\":{\"gridcolor\":\"#DFE8F3\",\"linecolor\":\"#A2B1C6\",\"ticks\":\"\"},\"bgcolor\":\"white\",\"caxis\":{\"gridcolor\":\"#DFE8F3\",\"linecolor\":\"#A2B1C6\",\"ticks\":\"\"}},\"title\":{\"x\":0.05},\"xaxis\":{\"automargin\":true,\"gridcolor\":\"#EBF0F8\",\"linecolor\":\"#EBF0F8\",\"ticks\":\"\",\"title\":{\"standoff\":15},\"zerolinecolor\":\"#EBF0F8\",\"zerolinewidth\":2},\"yaxis\":{\"automargin\":true,\"gridcolor\":\"#EBF0F8\",\"linecolor\":\"#EBF0F8\",\"ticks\":\"\",\"title\":{\"standoff\":15},\"zerolinecolor\":\"#EBF0F8\",\"zerolinewidth\":2}}},\"xaxis\":{\"anchor\":\"y\",\"domain\":[0.0,1.0]},\"yaxis\":{\"anchor\":\"x\",\"domain\":[0.0,1.0]},\"annotations\":[{\"font\":{\"size\":16},\"showarrow\":false,\"text\":\"difficult for models\",\"x\":0.5,\"xanchor\":\"center\",\"xref\":\"paper\",\"y\":1.0,\"yanchor\":\"bottom\",\"yref\":\"paper\"}],\"height\":500},                        {\"responsive\": true}                    ).then(function(){\n",
       "                            \n",
       "var gd = document.getElementById('a74341d5-bd23-4e5f-bcb5-3c84e519e929');\n",
       "var x = new MutationObserver(function (mutations, observer) {{\n",
       "        var display = window.getComputedStyle(gd).display;\n",
       "        if (!display || display === 'none') {{\n",
       "            console.log([gd, 'removed!']);\n",
       "            Plotly.purge(gd);\n",
       "            observer.disconnect();\n",
       "        }}\n",
       "}});\n",
       "\n",
       "// Listen for the removal of the full notebook cells\n",
       "var notebookContainer = gd.closest('#notebook-container');\n",
       "if (notebookContainer) {{\n",
       "    x.observe(notebookContainer, {childList: true});\n",
       "}}\n",
       "\n",
       "// Listen for the clearing of the current output cell\n",
       "var outputEl = gd.closest('.output');\n",
       "if (outputEl) {{\n",
       "    x.observe(outputEl, {childList: true});\n",
       "}}\n",
       "\n",
       "                        })                };                });            </script>        </div>"
      ]
     },
     "metadata": {},
     "output_type": "display_data"
    }
   ],
   "source": [
    "#DIFFICULT\n",
    "compare_modelwise(df, \"difficult\", False).update_layout(template=\"plotly_white\", height=500)\n",
    "#scatter(df, \"BIN_difficult\", \"MK_difficult\")\n",
    "\n",
    "#fig = px.scatter(x=df[\"GTR_difficult\"] - df[\"BIN_difficult\"], y=df[\"GTR_difficult\"] - df[\"MK_difficult\"], log_x=False, log_y=False)\n",
    "#fig.show()\n",
    "#fig = px.scatter(x=df[\"BIN_difficult\"] - df[\"MK_difficult\"], y=df[\"BIN_difficult\"] - df[\"GTR_difficult\"], log_x=False, log_y=False)\n",
    "#fig.show()\n",
    "#fig = px.scatter(x=df[\"MK_difficult\"] - df[\"BIN_difficult\"], y=df[\"MK_difficult\"] - df[\"GTR_difficult\"], log_x=False, log_y=False)\n",
    "#fig.show()"
   ]
  },
  {
   "cell_type": "code",
   "execution_count": null,
   "id": "435582cb",
   "metadata": {},
   "outputs": [],
   "source": [
    "# AICs\n",
    "compare_modelwise(df, \"AIC\", True).update_layout(template=\"plotly_white\", height=500)"
   ]
  },
  {
   "cell_type": "code",
   "execution_count": null,
   "id": "41c88724",
   "metadata": {},
   "outputs": [],
   "source": [
    "# TREE DIFFS\n",
    "#scatter(df, \"consensus_dist_BIN_GTR\", \"consensus_dist_BIN_MK\")\n",
    "#scatter(df, \"consensus_dist_BIN_MK\", \"consensus_dist_GTR_MK\")\n",
    "scatter(df, \"consensus_dist_GTR_MK\", \"consensus_dist_BIN_GTR\")\n",
    "# only the last one is correlated --> Indicates similar behaviour of BIN and MK \n",
    "\n",
    "#scatter(df, \"eval_dist_BIN_GTR\", \"eval_dist_BIN_MK\")\n",
    "#scatter(df, \"eval_dist_BIN_MK\", \"eval_dist_GTR_MK\")\n",
    "scatter(df, \"eval_dist_GTR_MK\", \"eval_dist_BIN_GTR\")\n",
    "# same as above, correlation even stronger"
   ]
  },
  {
   "cell_type": "code",
   "execution_count": null,
   "id": "f3c88db4",
   "metadata": {},
   "outputs": [],
   "source": [
    "from plotly import graph_objects as go\n",
    "from plotly.subplots import make_subplots\n",
    "fig = make_subplots(\n",
    "    rows=1,\n",
    "    cols=1,\n",
    "    subplot_titles=[\"RF Distances between consensus trees\"]\n",
    ")\n",
    "\n",
    "    \n",
    "fig.append_trace(\n",
    "    go.Histogram(\n",
    "        #x=df['eval_dist_BIN_GTR'],\n",
    "        x=df['consensus_dist_BIN_GTR'],\n",
    "        name=\"BIN to GTR\",\n",
    "        showlegend=True\n",
    "        #, histnorm=\"percent\"\n",
    "    ),\n",
    "    row=1,\n",
    "    col=1\n",
    ")\n",
    "\n",
    "fig.append_trace(\n",
    "    go.Histogram(\n",
    "        #x=df['eval_dist_BIN_MK'],\n",
    "        x=df['consensus_dist_BIN_MK'],\n",
    "        name=\"BIN to MK\",\n",
    "        showlegend=True\n",
    "        #, histnorm=\"percent\"\n",
    "    ),\n",
    "    row=1,\n",
    "    col=1\n",
    ")\n",
    "\n",
    "fig.append_trace(\n",
    "    go.Histogram(\n",
    "        #x=df['eval_dist_GTR_MK'],\n",
    "        x=df['consensus_dist_GTR_MK'],\n",
    "        name=\"GTR to MK\",\n",
    "        showlegend=True\n",
    "        #, histnorm=\"percent\"\n",
    "    ),\n",
    "    row=1,\n",
    "    col=1\n",
    ")\n",
    "fig.update_layout(template=\"plotly_white\", height=500)"
   ]
  },
  {
   "cell_type": "code",
   "execution_count": null,
   "id": "7bc5ec87",
   "metadata": {},
   "outputs": [],
   "source": [
    "# CROSS DIFFS\n",
    "scatter(df, \"BIN_cross_diff_GTR\", \"GTR_cross_diff_BIN\", factor_x=-1, factor_y=-1, log_x=True, log_y=True)\n",
    "scatter(df, \"BIN_cross_diff_MK\", \"MK_cross_diff_BIN\", factor_x=-1, factor_y=-1, log_x=True, log_y=True)\n",
    "scatter(df, \"MK_cross_diff_GTR\", \"GTR_cross_diff_MK\", factor_x=-1, factor_y=-1, log_x=True, log_y=True)"
   ]
  },
  {
   "cell_type": "code",
   "execution_count": null,
   "id": "1a1f1237",
   "metadata": {},
   "outputs": [],
   "source": [
    "scatter(df, \"BIN_cross_diff_MK\", \"BIN_cross_diff_GTR\", factor_x=-1, factor_y=-1, log_x=True, log_y=True)\n",
    "scatter(df, \"GTR_cross_diff_MK\", \"GTR_cross_diff_BIN\", factor_x=-1, factor_y=-1, log_x=True, log_y=True)\n",
    "scatter(df, \"MK_cross_diff_GTR\", \"MK_cross_diff_BIN\", factor_x=-1, factor_y=-1, log_x=True, log_y=True)"
   ]
  },
  {
   "cell_type": "code",
   "execution_count": null,
   "id": "aa4332a8",
   "metadata": {},
   "outputs": [],
   "source": [
    "scatter(df, \"BIN_cross_diff_MK\", \"BIN_eval_llh\", factor_x=-1, factor_y=-1, log_x=True, log_y=True)\n",
    "scatter(df, \"GTR_cross_diff_MK\", \"GTR_eval_llh\", factor_x=-1, factor_y=-1, log_x=True, log_y=True)\n",
    "scatter(df, \"MK_cross_diff_GTR\", \"MK_eval_llh\", factor_x=-1, factor_y=-1, log_x=True, log_y=True)"
   ]
  },
  {
   "cell_type": "code",
   "execution_count": null,
   "id": "71e5698c",
   "metadata": {},
   "outputs": [],
   "source": [
    "# ENTROPY / AVG_COL_STATES\n",
    "fig = px.scatter(x=df[\"GTR_entropy\"] / df[\"BIN_entropy\"], y=df[\"avg_col_states\"], log_x=False, log_y=False)\n",
    "fig.show()"
   ]
  },
  {
   "cell_type": "code",
   "execution_count": null,
   "id": "dd4572f6",
   "metadata": {},
   "outputs": [],
   "source": [
    "fig = px.scatter(x=df[\"BIN_AIC\"] - df[\"GTR_AIC\"], y=df[\"avg_col_states\"], log_x=True, log_y=True)\n",
    "fig.show()\n",
    "fig = px.scatter(x=df[\"MK_AIC\"] - df[\"GTR_AIC\"], y=df[\"avg_col_states\"], log_x=True, log_y=True)\n",
    "fig.show()"
   ]
  },
  {
   "cell_type": "code",
   "execution_count": null,
   "id": "b2ab0fa0",
   "metadata": {},
   "outputs": [],
   "source": [
    "scatter(df, \"BIN_cross_diff_GTR\", \"avg_col_states\", factor_x = -1, log_x = True,log_y=True)"
   ]
  },
  {
   "cell_type": "code",
   "execution_count": null,
   "id": "6a8d5ee2",
   "metadata": {},
   "outputs": [],
   "source": []
  },
  {
   "cell_type": "code",
   "execution_count": null,
   "id": "ff31e764",
   "metadata": {},
   "outputs": [],
   "source": [
    "scatter(df, \"consensus_dist_BIN_GTR\", \"eval_dist_BIN_GTR\")\n",
    "scatter(df, \"consensus_dist_BIN_MK\", \"eval_dist_BIN_MK\")\n",
    "scatter(df, \"consensus_dist_GTR_MK\", \"eval_dist_GTR_MK\")\n",
    "\n",
    "scatter(df, \"consensus_dist_BIN_GTR\", \"BIN_difficult\")\n",
    "scatter(df, \"consensus_dist_BIN_GTR\", \"GTR_difficult\")\n",
    "scatter(df, \"consensus_dist_BIN_MK\", \"BIN_difficult\")\n",
    "scatter(df, \"consensus_dist_BIN_MK\", \"MK_difficult\")\n",
    "scatter(df, \"consensus_dist_GTR_MK\", \"GTR_difficult\")\n",
    "scatter(df, \"consensus_dist_GTR_MK\", \"MK_difficult\")\n",
    "\n",
    "scatter(df, \"consensus_dist_BIN_GTR\", \"BIN_llh_eval\", factor_y=-1, log_y=True)\n",
    "scatter(df, \"consensus_dist_BIN_GTR\", \"GTR_llh_eval\", factor_y=-1, log_y=True)\n",
    "scatter(df, \"consensus_dist_BIN_MK\", \"BIN_llh_eval\", factor_y=-1, log_y=True)\n",
    "scatter(df, \"consensus_dist_BIN_MK\", \"MK_llh_eval\", factor_y=-1, log_y=True)\n",
    "scatter(df, \"consensus_dist_GTR_MK\", \"GTR_llh_eval\", factor_y=-1, log_y=True)\n",
    "scatter(df, \"consensus_dist_GTR_MK\", \"MK_llh_eval\", factor_y=-1, log_y=True)\n",
    "\n",
    "scatter(df, \"consensus_dist_BIN_GTR\", \"BIN_AIC\", factor_y=1, log_y=True)\n",
    "scatter(df, \"consensus_dist_BIN_GTR\", \"GTR_AIC\", factor_y=1, log_y=True)\n",
    "scatter(df, \"consensus_dist_BIN_MK\", \"BIN_AIC\", factor_y=1, log_y=True)\n",
    "scatter(df, \"consensus_dist_BIN_MK\", \"MK_AIC\", factor_y=1, log_y=True)\n",
    "scatter(df, \"consensus_dist_GTR_MK\", \"GTR_AIC\", factor_y=1, log_y=True)\n",
    "scatter(df, \"consensus_dist_GTR_MK\", \"MK_AIC\", factor_y=1, log_y=True)\n",
    "\n",
    "scatter(df, \"BIN_difficult\", \"BIN_cross_diff_GTR\", factor_x=1, factor_y=-1, log_x=False, log_y=True)\n",
    "scatter(df, \"BIN_difficult\", \"BIN_cross_diff_MK\", factor_x=1, factor_y=-1, log_x=False, log_y=True)\n",
    "scatter(df, \"GTR_difficult\", \"GTR_cross_diff_BIN\", factor_x=1, factor_y=-1, log_x=False, log_y=True)\n",
    "scatter(df, \"GTR_difficult\", \"GTR_cross_diff_MK\", factor_x=1, factor_y=-1, log_x=False, log_y=True)\n",
    "scatter(df, \"MK_difficult\", \"MK_cross_diff_BIN\", factor_x=1, factor_y=-1, log_x=False, log_y=True)\n",
    "scatter(df, \"MK_difficult\", \"MK_cross_diff_GTR\", factor_x=1, factor_y=-1, log_x=False, log_y=True)\n",
    "\n",
    "scatter(df, \"consensus_dist_BIN_GTR\", \"BIN_cross_diff_GTR\", factor_x=1, factor_y=-1, log_x=False, log_y=True)\n",
    "scatter(df, \"consensus_dist_BIN_MK\", \"BIN_cross_diff_MK\", factor_x=1, factor_y=-1, log_x=False, log_y=True)\n",
    "scatter(df, \"consensus_dist_BIN_GTR\", \"GTR_cross_diff_BIN\", factor_x=1, factor_y=-1, log_x=False, log_y=True)\n",
    "scatter(df, \"consensus_dist_GTR_MK\", \"GTR_cross_diff_MK\", factor_x=1, factor_y=-1, log_x=False, log_y=True)\n",
    "scatter(df, \"consensus_dist_BIN_MK\", \"MK_cross_diff_BIN\", factor_x=1, factor_y=-1, log_x=False, log_y=True)\n",
    "scatter(df, \"consensus_dist_GTR_MK\", \"MK_cross_diff_GTR\", factor_x=1, factor_y=-1, log_x=False, log_y=True)\n",
    "\n",
    "scatter(df, \"eval_dist_BIN_GTR\", \"BIN_cross_diff_GTR\", factor_x=1, factor_y=-1, log_x=False, log_y=True)\n",
    "scatter(df, \"eval_dist_BIN_MK\", \"BIN_cross_diff_MK\", factor_x=1, factor_y=-1, log_x=False, log_y=True)\n",
    "scatter(df, \"eval_dist_BIN_GTR\", \"GTR_cross_diff_BIN\", factor_x=1, factor_y=-1, log_x=False, log_y=True)\n",
    "scatter(df, \"eval_dist_GTR_MK\", \"GTR_cross_diff_MK\", factor_x=1, factor_y=-1, log_x=False, log_y=True)\n",
    "scatter(df, \"eval_dist_BIN_MK\", \"MK_cross_diff_BIN\", factor_x=1, factor_y=-1, log_x=False, log_y=True)\n",
    "scatter(df, \"eval_dist_GTR_MK\", \"MK_cross_diff_GTR\", factor_x=1, factor_y=-1, log_x=False, log_y=True)\n",
    "\n",
    "scatter(df, \"BIN_llh_eval\", \"BIN_cross_diff_GTR\", factor_x=-1, factor_y=-1, log_x=True, log_y=True)\n",
    "scatter(df, \"BIN_llh_eval\", \"BIN_cross_diff_MK\", factor_x=-1, factor_y=-1, log_x=True, log_y=True)\n",
    "scatter(df, \"GTR_llh_eval\", \"GTR_cross_diff_BIN\", factor_x=-1, factor_y=-1, log_x=True, log_y=True)\n",
    "scatter(df, \"GTR_llh_eval\", \"GTR_cross_diff_MK\", factor_x=-1, factor_y=-1, log_x=True, log_y=True)\n",
    "scatter(df, \"MK_llh_eval\", \"MK_cross_diff_BIN\", factor_x=-1, factor_y=-1, log_x=True, log_y=True)\n",
    "scatter(df, \"MK_llh_eval\", \"MK_cross_diff_GTR\", factor_x=-1, factor_y=-1, log_x=True, log_y=True)\n",
    "\n",
    "fig = px.scatter(x=df[\"BIN_AIC\"] - df[\"GTR_AIC\"], y=df[\"BIN_AIC\"] - df[\"MK_AIC\"], log_x=True, log_y=True)\n",
    "fig.show()\n",
    "fig = px.scatter(x=df[\"BIN_AIC\"] - df[\"MK_AIC\"], y=df[\"MK_AIC\"] - df[\"GTR_AIC\"], log_x=True, log_y=True)\n",
    "fig.show()\n",
    "fig = px.scatter(x=df[\"MK_AIC\"] - df[\"GTR_AIC\"], y=df[\"BIN_AIC\"] - df[\"GTR_AIC\"], log_x=True, log_y=True)\n",
    "fig.show()\n",
    "\n",
    "fig = px.scatter(x=df[\"BIN_AIC\"] - df[\"GTR_AIC\"], y=df['GTR_AIC'], log_x=True, log_y=True)\n",
    "fig.show()\n",
    "fig = px.scatter(x=df[\"BIN_AIC\"] - df[\"GTR_AIC\"], y=df['BIN_AIC'], log_x=True, log_y=True)\n",
    "fig.show()\n",
    "fig = px.scatter(x=df[\"BIN_AIC\"] - df[\"MK_AIC\"], y=df[\"MK_AIC\"], log_x=True, log_y=True)\n",
    "fig.show()\n",
    "fig = px.scatter(x=df[\"BIN_AIC\"] - df[\"MK_AIC\"], y=df[\"BIN_AIC\"], log_x=True, log_y=True)\n",
    "fig.show()\n",
    "fig = px.scatter(x=df[\"MK_AIC\"] - df[\"GTR_AIC\"], y=df[\"MK_AIC\"], log_x=True, log_y=True)\n",
    "fig.show()\n",
    "fig = px.scatter(x=df[\"MK_AIC\"] - df[\"GTR_AIC\"], y=df[\"GTR_AIC\"], log_x=True, log_y=True)\n",
    "fig.show()\n",
    "\n",
    "fig = px.scatter(x=df[\"BIN_AIC\"] - df[\"GTR_AIC\"], y=df['GTR_difficult'], log_x=True, log_y=False)\n",
    "fig.show()\n",
    "fig = px.scatter(x=df[\"BIN_AIC\"] - df[\"GTR_AIC\"], y=df['BIN_difficult'], log_x=True, log_y=False)\n",
    "fig.show()\n",
    "fig = px.scatter(x=df[\"BIN_AIC\"] - df[\"MK_AIC\"], y=df[\"MK_difficult\"], log_x=True, log_y=False)\n",
    "fig.show()\n",
    "fig = px.scatter(x=df[\"BIN_AIC\"] - df[\"MK_AIC\"], y=df[\"BIN_difficult\"], log_x=True, log_y=False)\n",
    "fig.show()\n",
    "fig = px.scatter(x=df[\"MK_AIC\"] - df[\"GTR_AIC\"], y=df[\"MK_difficult\"], log_x=True, log_y=False)\n",
    "fig.show()\n",
    "fig = px.scatter(x=df[\"MK_AIC\"] - df[\"GTR_AIC\"], y=df[\"GTR_difficult\"], log_x=True, log_y=False)\n",
    "fig.show()\n",
    "\n",
    "fig = px.scatter(x=df[\"BIN_AIC\"] - df[\"GTR_AIC\"], y=-df['GTR_cross_diff_BIN'], log_x=True, log_y=True)\n",
    "fig.show()\n",
    "fig = px.scatter(x=df[\"BIN_AIC\"] - df[\"GTR_AIC\"], y=-df['BIN_cross_diff_GTR'], log_x=True, log_y=True)\n",
    "fig.show()\n",
    "fig = px.scatter(x=df[\"BIN_AIC\"] - df[\"MK_AIC\"], y=-df[\"MK_cross_diff_BIN\"], log_x=True, log_y=True)\n",
    "fig.show()\n",
    "fig = px.scatter(x=df[\"BIN_AIC\"] - df[\"MK_AIC\"], y=-df[\"BIN_cross_diff_MK\"], log_x=True, log_y=True)\n",
    "fig.show()\n",
    "fig = px.scatter(x=df[\"MK_AIC\"] - df[\"GTR_AIC\"], y=-df[\"GTR_cross_diff_MK\"], log_x=True, log_y=True)\n",
    "fig.show()\n",
    "fig = px.scatter(x=df[\"MK_AIC\"] - df[\"GTR_AIC\"], y=-df[\"MK_cross_diff_GTR\"], log_x=True, log_y=True)\n",
    "fig.show()\n",
    "\n",
    "fig = px.scatter(x=df[\"BIN_AIC\"] - df[\"GTR_AIC\"], y=df['consensus_dist_BIN_GTR'], log_x=True, log_y=False)\n",
    "fig.show()\n",
    "fig = px.scatter(x=df[\"BIN_AIC\"] - df[\"MK_AIC\"], y=df[\"consensus_dist_BIN_MK\"], log_x=True, log_y=False)\n",
    "fig.show()\n",
    "fig = px.scatter(x=df[\"MK_AIC\"] - df[\"GTR_AIC\"], y=df[\"consensus_dist_GTR_MK\"], log_x=True, log_y=False)\n",
    "fig.show()\n",
    "\n",
    "fig = px.scatter(x=df[\"GTR_difficult\"] - df[\"BIN_difficult\"], y=df[\"GTR_difficult\"], log_x=False, log_y=False)\n",
    "fig.show()\n",
    "fig = px.scatter(x=df[\"BIN_difficult\"] - df[\"GTR_difficult\"], y=df[\"BIN_difficult\"], log_x=False, log_y=False)\n",
    "fig.show()\n",
    "fig = px.scatter(x=df[\"MK_difficult\"] - df[\"BIN_difficult\"], y=df[\"MK_difficult\"], log_x=False, log_y=False)\n",
    "fig.show()\n",
    "fig = px.scatter(x=df[\"BIN_difficult\"] - df[\"MK_difficult\"], y=df[\"BIN_difficult\"], log_x=False, log_y=False)\n",
    "fig.show()\n",
    "fig = px.scatter(x=df[\"GTR_difficult\"] - df[\"MK_difficult\"], y=df[\"GTR_difficult\"], log_x=False, log_y=False)\n",
    "fig.show()\n",
    "fig = px.scatter(x=df[\"MK_difficult\"] - df[\"GTR_difficult\"], y=df[\"MK_difficult\"], log_x=False, log_y=False)\n",
    "fig.show()\n",
    "\n",
    "fig = px.scatter(x=df[\"GTR_difficult\"] - df[\"BIN_difficult\"], y=df[\"consensus_dist_BIN_GTR\"], log_x=False, log_y=False)\n",
    "fig.show()\n",
    "fig = px.scatter(x=df[\"MK_difficult\"] - df[\"BIN_difficult\"], y=df[\"consensus_dist_BIN_MK\"], log_x=False, log_y=False)\n",
    "fig.show()\n",
    "fig = px.scatter(x=df[\"GTR_difficult\"] - df[\"MK_difficult\"], y=df[\"consensus_dist_GTR_MK\"], log_x=False, log_y=False)\n",
    "fig.show()"
   ]
  }
 ],
 "metadata": {
  "kernelspec": {
   "display_name": "Python 3 (ipykernel)",
   "language": "python",
   "name": "python3"
  },
  "language_info": {
   "codemirror_mode": {
    "name": "ipython",
    "version": 3
   },
   "file_extension": ".py",
   "mimetype": "text/x-python",
   "name": "python",
   "nbconvert_exporter": "python",
   "pygments_lexer": "ipython3",
   "version": "3.10.9"
  }
 },
 "nbformat": 4,
 "nbformat_minor": 5
}
