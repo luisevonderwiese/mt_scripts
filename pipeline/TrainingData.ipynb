{
 "cells": [
  {
   "cell_type": "code",
   "execution_count": 1,
   "id": "3e0a6b17",
   "metadata": {},
   "outputs": [],
   "source": [
    "#Plot Distribution of Columns in training_data.parquet"
   ]
  },
  {
   "cell_type": "code",
   "execution_count": 2,
   "id": "a50e1ff4",
   "metadata": {},
   "outputs": [],
   "source": [
    "import pandas as pd\n",
    "from plotly import graph_objects as go\n",
    "from plotly.subplots import make_subplots\n",
    "import math"
   ]
  },
  {
   "cell_type": "code",
   "execution_count": 3,
   "id": "4384b43f",
   "metadata": {},
   "outputs": [],
   "source": [
    "def add_treeness(df):\n",
    "    treeness = []\n",
    "    for index, row in df.iterrows():\n",
    "        treeness.append(row['total_internal_brlens']/row['total_all_brlens'])\n",
    "    df[\"treeness\"] = treeness\n",
    "    \n",
    "def add_pattern_proportion(df):\n",
    "    pp = []\n",
    "    for index, row in df.iterrows():\n",
    "        pp.append(row['num_patterns']/row['num_sites'])\n",
    "    df[\"pattern_proportion\"] = pp\n",
    "    \n",
    "def add_pattern_entropy(df):\n",
    "    pe = []\n",
    "    for index, row in df.iterrows():\n",
    "        num_sites = row['num_sites']\n",
    "        bollback = row['bollback']\n",
    "        pe.append(-1 * (bollback + (num_sites + math.log(num_sites))))\n",
    "    df[\"pattern_entropy\"] = pe\n",
    "    \n",
    "def add_brlen_ratio(df):\n",
    "    ratio = []\n",
    "    for index, row in df.iterrows():\n",
    "        m_in = row['median_internal_brlens']\n",
    "        m_ex = row['median_external_brlens']\n",
    "        ratio.append(m_ex/m_in)\n",
    "    df[\"brlen_ratio\"] = ratio\n",
    "    \n",
    "def add_additional_columns(df):\n",
    "    add_treeness(df)\n",
    "    add_pattern_proportion(df)\n",
    "    add_pattern_entropy(df)\n",
    "    add_brlen_ratio(df)"
   ]
  },
  {
   "cell_type": "code",
   "execution_count": 4,
   "id": "5d7d871c",
   "metadata": {},
   "outputs": [],
   "source": [
    "morph_data = pd.read_parquet(\"training_data/morph/full_GTR.parquet\")\n",
    "morph_data_mk = pd.read_parquet(\"training_data/morph/full_MK.parquet\")\n",
    "morph_data_binary = pd.read_parquet(\"training_data/morph/binary.parquet\")\n",
    "morph_data_multistate = pd.read_parquet(\"training_data/morph/MULTI_GTR.parquet\")\n",
    "morph_data_binarized = pd.read_parquet(\"training_data/morph/binarized.parquet\")\n",
    "lang_data = pd.read_parquet(\"training_data/lang/binary.parquet\")\n",
    "\n",
    "add_additional_columns(morph_data)\n",
    "add_additional_columns(morph_data_mk)\n",
    "add_additional_columns(morph_data_binary)\n",
    "add_additional_columns(morph_data_multistate)\n",
    "add_additional_columns(morph_data_binarized)\n",
    "add_additional_columns(lang_data)\n",
    "\n",
    "morph_data_bin_full = pd.concat([morph_data_binary, morph_data_binarized], axis=0)"
   ]
  },
  {
   "cell_type": "code",
   "execution_count": 5,
   "id": "f29fd4bf",
   "metadata": {},
   "outputs": [],
   "source": [
    "#for col_name in morph_data.columns: \n",
    "#    print(col_name)"
   ]
  },
  {
   "cell_type": "code",
   "execution_count": 5,
   "id": "ec579be6",
   "metadata": {},
   "outputs": [],
   "source": [
    "grouped = morph_data_mk.groupby(morph_data_mk.state_type)\n",
    "morph_data_mk_binary = grouped.get_group(\"binary\")\n",
    "morph_data_mk_multistate = grouped.get_group(\"multistate\")"
   ]
  },
  {
   "cell_type": "code",
   "execution_count": 6,
   "id": "02622a81",
   "metadata": {},
   "outputs": [],
   "source": [
    "language_data_type = []\n",
    "for index, row in lang_data.iterrows():\n",
    "    language_data_type.append(row['verbose_name'].split(\".\")[-2])\n",
    "lang_data[\"language_data_type\"] = language_data_type\n",
    "grouped = lang_data.groupby(lang_data.language_data_type)\n",
    "cc_lang_data = grouped.get_group(\"cc\")\n",
    "sc_lang_data = grouped.get_group(\"sc\")\n",
    "ms_lang_data = grouped.get_group(\"ms\")\n",
    "mp_lang_data = grouped.get_group(\"mp\")"
   ]
  },
  {
   "cell_type": "code",
   "execution_count": 8,
   "id": "53466f8e",
   "metadata": {},
   "outputs": [],
   "source": [
    "def plots_for_column(col):\n",
    "    fig = make_subplots(\n",
    "        rows=2,\n",
    "        cols=1,\n",
    "        subplot_titles=[\"lang vs morph\", \"lang types\"]\n",
    "    )\n",
    "\n",
    "    all_data = pd.concat([morph_data_bin_full, lang_data, cc_lang_data, sc_lang_data, ms_lang_data, mp_lang_data], join=\"inner\")\n",
    "    lower = all_data[col].quantile(0.1)\n",
    "    upper = all_data[col].quantile(0.9)\n",
    "    #lower = all_data[col].min()\n",
    "    #upper = all_data[col].max()\n",
    "    \n",
    "    \n",
    "    fig.append_trace(\n",
    "        go.Histogram(\n",
    "            x=morph_data_bin_full.loc[morph_data_bin_full[col].between(lower, upper)][col],\n",
    "            name=\"Morph\",\n",
    "            marker_color=\"red\",\n",
    "            showlegend=True\n",
    "            #, histnorm=\"percent\",\n",
    "        ),\n",
    "        row=1,\n",
    "        col=1\n",
    "    )\n",
    "    fig.append_trace(\n",
    "        go.Histogram(\n",
    "            x=lang_data.loc[lang_data[col].between(lower, upper)][col],\n",
    "            name=\"Lang\",\n",
    "            marker_color=\"cornflowerblue\",\n",
    "            showlegend=True\n",
    "            #, histnorm=\"percent\"\n",
    "        ),\n",
    "        row=1,\n",
    "        col=1\n",
    "    )\n",
    "    \n",
    "    fig.append_trace(\n",
    "        go.Histogram(\n",
    "            x=cc_lang_data.loc[cc_lang_data[col].between(lower, upper)][col],\n",
    "            name=\"Cognate\",\n",
    "            marker_color=\"midnightblue\",\n",
    "            showlegend=True\n",
    "        ),\n",
    "        row=2,\n",
    "        col=1\n",
    "    )\n",
    "    fig.append_trace(\n",
    "        go.Histogram(\n",
    "            x=sc_lang_data.loc[sc_lang_data[col].between(lower, upper)][col],\n",
    "            name=\"Soundclass\",\n",
    "            marker_color=\"blue\",\n",
    "            showlegend=True\n",
    "        ),\n",
    "        row=2,\n",
    "        col=1\n",
    "    )\n",
    "    fig.append_trace(\n",
    "        go.Histogram(\n",
    "            x=ms_lang_data.loc[ms_lang_data[col].between(lower, upper)][col],\n",
    "            name=\"Morpho-Syn\",\n",
    "            marker_color=\"deepskyblue\",\n",
    "            showlegend=True\n",
    "        ),\n",
    "        row=2,\n",
    "        col=1\n",
    "    )\n",
    "    fig.append_trace(\n",
    "        go.Histogram(\n",
    "            x=mp_lang_data.loc[mp_lang_data[col].between(lower, upper)][col],\n",
    "            name=\"Morpho-Phon\",\n",
    "            marker_color=\"cyan\",\n",
    "            showlegend=True\n",
    "        ),\n",
    "        row=2,\n",
    "        col=1\n",
    "    )\n",
    "    return fig\n",
    "\n",
    "column = \"num_sites\"\n",
    "plots_for_column(column).update_layout(template=\"plotly_white\", height=600)\n",
    "#plots_for_column(column).write_image(column + \".png\") "
   ]
  },
  {
   "cell_type": "code",
   "execution_count": 12,
   "id": "3935bdd1",
   "metadata": {},
   "outputs": [],
   "source": [
    "def plots_for_column_bin_multi(col):\n",
    "    fig = make_subplots(\n",
    "        rows=1,\n",
    "        cols=1,\n",
    "        subplot_titles=[\"multistate vs. binarized\"]\n",
    "    )\n",
    "\n",
    "    all_data = pd.concat([morph_data_multistate, morph_data_binarized], join=\"inner\")\n",
    "    lower = all_data[col].quantile(0.1)\n",
    "    upper = all_data[col].quantile(0.9)\n",
    "    #lower = all_data[col].min()\n",
    "    #upper = all_data[col].max()\n",
    "    \n",
    "    \n",
    "    fig.append_trace(\n",
    "        go.Histogram(\n",
    "            x=morph_data_multistate.loc[morph_data_multistate[col].between(lower, upper)][col],\n",
    "            name=\"multistate\",\n",
    "            showlegend=True\n",
    "            #, histnorm=\"percent\"\n",
    "        ),\n",
    "        row=1,\n",
    "        col=1\n",
    "    )\n",
    "    fig.append_trace(\n",
    "        go.Histogram(\n",
    "            x=morph_data_binarized.loc[morph_data_binarized[col].between(lower, upper)][col],\n",
    "            name=\"binarized\",\n",
    "            showlegend=True\n",
    "            #, histnorm=\"percent\"\n",
    "        ),\n",
    "        row=1,\n",
    "        col=1\n",
    "    )\n",
    "    return fig\n",
    "\n",
    "column = \"difficult\"\n",
    "plots_for_column_bin_multi(column).update_layout(template=\"plotly_white\", height=600)\n",
    "#plots_for_column_bin_multi(column).write_image(\"morpho_bin_multi_\" + column + \".png\") \n",
    "\n",
    "\n",
    "    "
   ]
  },
  {
   "cell_type": "code",
   "execution_count": 31,
   "id": "d352ce4d",
   "metadata": {},
   "outputs": [
    {
     "data": {
      "application/vnd.plotly.v1+json": {
       "config": {
        "plotlyServerURL": "https://plot.ly"
       },
       "data": [
        {
         "name": "lang bin",
         "showlegend": true,
         "type": "histogram",
         "x": [
          694,
          966,
          481,
          632,
          1093,
          972,
          739,
          472,
          677,
          752,
          426,
          518,
          470,
          529,
          949,
          1025,
          271,
          666,
          529,
          899,
          1046,
          675,
          657,
          227,
          888,
          286,
          185,
          391,
          260,
          482,
          68,
          209,
          469,
          285,
          643,
          1055,
          345,
          73,
          419,
          94,
          106,
          460,
          240,
          949,
          750,
          339,
          70,
          487,
          467,
          524,
          210,
          234,
          277,
          351,
          307,
          906,
          136,
          980,
          44,
          491,
          320,
          39,
          778,
          1189,
          455,
          242,
          515,
          867,
          326,
          383,
          877,
          224,
          447,
          220,
          327,
          326,
          250,
          163,
          206,
          1001,
          129,
          100,
          84,
          638,
          1126,
          1110,
          556,
          915,
          201,
          877,
          383,
          827,
          425,
          312,
          231,
          349,
          905,
          634,
          411,
          263,
          612,
          714,
          226,
          95,
          259,
          380,
          678,
          149,
          81,
          228,
          349,
          577,
          778,
          89,
          495,
          1164,
          670,
          193,
          119,
          161,
          1051,
          780,
          424,
          880,
          712,
          613,
          316,
          756,
          237,
          116,
          111,
          341,
          83,
          559,
          1123,
          229,
          146,
          929,
          285,
          170,
          116,
          86,
          694,
          123,
          1011,
          837,
          310,
          470,
          322,
          838,
          673,
          121,
          58,
          376,
          867,
          457,
          828,
          374,
          755,
          124,
          696,
          866,
          338,
          677,
          930,
          1036,
          577,
          853,
          670,
          113,
          151,
          282,
          350,
          65,
          1030,
          132
         ],
         "xaxis": "x",
         "yaxis": "y"
        },
        {
         "name": "bio-morph multi",
         "showlegend": true,
         "type": "histogram",
         "x": [
          423,
          32,
          66,
          68,
          207,
          249,
          36,
          49,
          315,
          30,
          21,
          148,
          307,
          21,
          149,
          28,
          394,
          25,
          21,
          86,
          53,
          44,
          230,
          286,
          46,
          213,
          234,
          321,
          339,
          29,
          58,
          423,
          29,
          205,
          91,
          286,
          97,
          25,
          50,
          163,
          151,
          67,
          73,
          1025,
          22,
          63,
          27,
          91,
          292,
          227,
          76,
          245,
          99,
          97,
          22,
          364,
          370,
          361,
          56,
          73,
          138,
          224,
          817,
          131,
          115,
          299,
          207,
          472,
          98,
          363,
          128,
          140,
          25,
          445,
          123,
          363,
          82,
          213,
          148,
          116,
          22,
          51,
          98,
          136,
          334,
          205,
          98,
          57,
          242,
          309,
          363,
          119,
          361,
          158,
          299,
          234,
          221,
          139,
          233,
          84,
          189,
          32,
          51,
          113,
          353,
          116,
          285,
          331,
          36,
          42,
          23,
          278,
          52,
          54,
          147,
          378,
          130,
          234,
          189,
          331,
          28,
          136,
          73,
          48,
          363,
          52,
          51,
          119,
          44,
          242,
          88,
          292,
          55,
          307,
          57,
          205,
          42,
          77,
          28,
          32,
          56,
          60,
          29,
          102,
          75,
          421,
          242,
          54,
          133,
          35,
          198,
          412,
          89,
          66,
          88,
          77,
          289,
          158,
          380,
          242,
          182,
          170,
          93,
          176,
          242,
          100,
          309,
          207,
          296,
          242,
          198,
          93,
          40,
          50,
          287,
          72,
          78,
          30,
          23,
          27,
          24,
          24,
          28,
          233,
          48,
          49,
          361,
          234,
          393,
          277,
          63,
          62,
          242,
          279,
          37,
          40,
          381,
          179,
          28,
          448,
          35,
          41,
          296,
          98,
          106,
          77,
          289,
          292,
          220,
          109,
          102,
          290,
          133,
          82,
          103,
          43,
          351,
          94,
          65,
          413,
          122,
          25,
          182,
          56,
          24,
          31,
          235,
          356,
          93,
          121,
          245,
          21,
          742,
          178,
          24,
          117,
          27,
          392,
          447,
          118,
          292,
          118,
          241,
          46,
          160,
          151,
          102,
          35,
          92,
          89,
          249,
          28,
          114,
          113,
          131,
          292,
          56,
          927,
          97,
          392,
          21,
          42,
          60,
          187,
          102,
          35,
          40,
          453,
          206,
          234,
          237,
          22,
          76,
          246,
          413,
          77,
          21,
          227,
          23,
          371,
          44,
          46,
          444,
          66,
          361,
          287,
          54,
          205,
          30,
          354,
          334,
          28,
          56,
          131,
          68,
          147,
          26,
          80,
          207,
          220,
          234,
          104,
          251,
          207,
          26,
          181,
          177,
          264,
          83,
          164,
          202,
          137,
          138,
          57,
          48,
          40,
          331,
          243,
          348,
          102,
          111,
          44,
          120,
          221,
          46,
          161,
          29,
          292,
          207,
          101,
          115,
          28,
          368,
          40,
          334,
          116,
          29,
          249
         ],
         "xaxis": "x",
         "yaxis": "y"
        },
        {
         "name": "bio-morph bin",
         "showlegend": true,
         "type": "histogram",
         "x": [
          100,
          520,
          156,
          688,
          43,
          159,
          33,
          395,
          387,
          406,
          519,
          645,
          73,
          163,
          66,
          21,
          270,
          39,
          180,
          498,
          618,
          527,
          76,
          92,
          53,
          641,
          29,
          83,
          267,
          40,
          52,
          206,
          48,
          170,
          1034,
          496,
          317,
          847,
          496,
          170,
          746,
          43,
          211,
          22,
          53,
          106,
          159,
          670,
          210,
          59,
          216,
          83,
          70,
          246,
          519,
          752,
          357,
          157,
          120,
          223,
          189,
          780,
          552,
          82,
          551,
          433,
          181,
          221,
          325,
          78,
          254,
          671,
          551,
          731,
          108,
          481,
          843,
          117,
          108,
          406,
          478,
          333,
          38,
          560,
          51,
          150,
          52,
          590,
          254,
          44,
          203,
          474,
          783,
          86,
          180,
          236,
          139,
          781,
          397,
          335,
          130,
          591,
          70,
          27,
          398,
          322,
          765,
          95,
          165,
          140,
          72,
          39,
          86,
          630,
          496,
          896,
          474,
          327,
          577,
          877,
          182,
          47,
          288,
          175,
          328,
          177,
          855,
          496,
          608,
          820,
          158,
          132,
          33,
          630,
          226,
          86,
          670,
          691,
          136,
          146,
          386,
          54,
          244,
          244,
          70,
          710,
          274,
          52,
          120,
          784,
          194,
          798,
          578,
          54,
          836,
          112,
          823,
          887,
          150,
          844,
          182,
          135,
          80,
          705,
          89,
          41,
          22,
          82,
          122,
          606,
          445,
          277,
          98,
          120,
          744,
          39,
          72,
          144,
          80,
          120,
          807,
          592,
          340,
          199,
          322,
          193,
          649,
          100,
          420,
          370,
          684,
          150,
          320,
          590,
          81,
          838,
          91,
          100,
          848,
          23,
          138,
          159,
          200,
          297,
          395,
          328,
          558,
          520,
          34,
          807,
          73,
          52,
          43,
          353,
          90,
          474,
          71,
          752,
          155,
          314,
          203,
          386,
          519,
          177,
          430,
          203,
          831,
          228,
          229,
          291,
          473,
          44,
          317,
          70,
          106,
          120,
          231,
          125,
          77,
          267,
          278,
          195,
          591,
          246,
          123,
          100,
          172,
          58,
          949,
          496,
          945,
          544,
          628,
          248,
          896,
          125,
          496,
          42,
          46,
          218,
          219,
          830,
          73,
          254,
          110,
          139,
          518,
          379,
          553,
          857,
          54,
          31,
          89,
          43,
          608,
          816,
          126,
          371,
          109,
          375,
          216,
          381,
          49,
          52,
          46,
          46,
          21,
          80,
          120,
          775,
          453,
          139,
          294,
          50,
          254,
          894,
          70,
          88,
          62,
          809,
          203,
          358,
          536,
          100,
          712,
          590,
          104,
          71,
          782,
          180,
          37,
          520,
          116,
          649,
          553,
          732,
          819,
          289,
          102,
          34,
          127,
          100,
          120,
          198,
          322,
          532,
          107,
          123,
          746,
          464,
          139,
          821,
          322,
          527,
          56,
          253,
          194,
          710,
          384,
          391,
          551,
          610,
          33,
          294,
          873,
          58,
          544,
          380,
          379,
          43,
          488,
          104,
          193,
          473,
          207,
          245,
          82,
          247,
          70,
          89,
          599,
          291,
          870,
          746,
          590,
          691,
          495,
          787,
          172
         ],
         "xaxis": "x",
         "yaxis": "y"
        }
       ],
       "layout": {
        "annotations": [
         {
          "font": {
           "size": 16
          },
          "showarrow": false,
          "text": "num_sites",
          "x": 0.5,
          "xanchor": "center",
          "xref": "paper",
          "y": 1,
          "yanchor": "bottom",
          "yref": "paper"
         }
        ],
        "height": 400,
        "template": {
         "data": {
          "bar": [
           {
            "error_x": {
             "color": "#2a3f5f"
            },
            "error_y": {
             "color": "#2a3f5f"
            },
            "marker": {
             "line": {
              "color": "white",
              "width": 0.5
             },
             "pattern": {
              "fillmode": "overlay",
              "size": 10,
              "solidity": 0.2
             }
            },
            "type": "bar"
           }
          ],
          "barpolar": [
           {
            "marker": {
             "line": {
              "color": "white",
              "width": 0.5
             },
             "pattern": {
              "fillmode": "overlay",
              "size": 10,
              "solidity": 0.2
             }
            },
            "type": "barpolar"
           }
          ],
          "carpet": [
           {
            "aaxis": {
             "endlinecolor": "#2a3f5f",
             "gridcolor": "#C8D4E3",
             "linecolor": "#C8D4E3",
             "minorgridcolor": "#C8D4E3",
             "startlinecolor": "#2a3f5f"
            },
            "baxis": {
             "endlinecolor": "#2a3f5f",
             "gridcolor": "#C8D4E3",
             "linecolor": "#C8D4E3",
             "minorgridcolor": "#C8D4E3",
             "startlinecolor": "#2a3f5f"
            },
            "type": "carpet"
           }
          ],
          "choropleth": [
           {
            "colorbar": {
             "outlinewidth": 0,
             "ticks": ""
            },
            "type": "choropleth"
           }
          ],
          "contour": [
           {
            "colorbar": {
             "outlinewidth": 0,
             "ticks": ""
            },
            "colorscale": [
             [
              0,
              "#0d0887"
             ],
             [
              0.1111111111111111,
              "#46039f"
             ],
             [
              0.2222222222222222,
              "#7201a8"
             ],
             [
              0.3333333333333333,
              "#9c179e"
             ],
             [
              0.4444444444444444,
              "#bd3786"
             ],
             [
              0.5555555555555556,
              "#d8576b"
             ],
             [
              0.6666666666666666,
              "#ed7953"
             ],
             [
              0.7777777777777778,
              "#fb9f3a"
             ],
             [
              0.8888888888888888,
              "#fdca26"
             ],
             [
              1,
              "#f0f921"
             ]
            ],
            "type": "contour"
           }
          ],
          "contourcarpet": [
           {
            "colorbar": {
             "outlinewidth": 0,
             "ticks": ""
            },
            "type": "contourcarpet"
           }
          ],
          "heatmap": [
           {
            "colorbar": {
             "outlinewidth": 0,
             "ticks": ""
            },
            "colorscale": [
             [
              0,
              "#0d0887"
             ],
             [
              0.1111111111111111,
              "#46039f"
             ],
             [
              0.2222222222222222,
              "#7201a8"
             ],
             [
              0.3333333333333333,
              "#9c179e"
             ],
             [
              0.4444444444444444,
              "#bd3786"
             ],
             [
              0.5555555555555556,
              "#d8576b"
             ],
             [
              0.6666666666666666,
              "#ed7953"
             ],
             [
              0.7777777777777778,
              "#fb9f3a"
             ],
             [
              0.8888888888888888,
              "#fdca26"
             ],
             [
              1,
              "#f0f921"
             ]
            ],
            "type": "heatmap"
           }
          ],
          "heatmapgl": [
           {
            "colorbar": {
             "outlinewidth": 0,
             "ticks": ""
            },
            "colorscale": [
             [
              0,
              "#0d0887"
             ],
             [
              0.1111111111111111,
              "#46039f"
             ],
             [
              0.2222222222222222,
              "#7201a8"
             ],
             [
              0.3333333333333333,
              "#9c179e"
             ],
             [
              0.4444444444444444,
              "#bd3786"
             ],
             [
              0.5555555555555556,
              "#d8576b"
             ],
             [
              0.6666666666666666,
              "#ed7953"
             ],
             [
              0.7777777777777778,
              "#fb9f3a"
             ],
             [
              0.8888888888888888,
              "#fdca26"
             ],
             [
              1,
              "#f0f921"
             ]
            ],
            "type": "heatmapgl"
           }
          ],
          "histogram": [
           {
            "marker": {
             "pattern": {
              "fillmode": "overlay",
              "size": 10,
              "solidity": 0.2
             }
            },
            "type": "histogram"
           }
          ],
          "histogram2d": [
           {
            "colorbar": {
             "outlinewidth": 0,
             "ticks": ""
            },
            "colorscale": [
             [
              0,
              "#0d0887"
             ],
             [
              0.1111111111111111,
              "#46039f"
             ],
             [
              0.2222222222222222,
              "#7201a8"
             ],
             [
              0.3333333333333333,
              "#9c179e"
             ],
             [
              0.4444444444444444,
              "#bd3786"
             ],
             [
              0.5555555555555556,
              "#d8576b"
             ],
             [
              0.6666666666666666,
              "#ed7953"
             ],
             [
              0.7777777777777778,
              "#fb9f3a"
             ],
             [
              0.8888888888888888,
              "#fdca26"
             ],
             [
              1,
              "#f0f921"
             ]
            ],
            "type": "histogram2d"
           }
          ],
          "histogram2dcontour": [
           {
            "colorbar": {
             "outlinewidth": 0,
             "ticks": ""
            },
            "colorscale": [
             [
              0,
              "#0d0887"
             ],
             [
              0.1111111111111111,
              "#46039f"
             ],
             [
              0.2222222222222222,
              "#7201a8"
             ],
             [
              0.3333333333333333,
              "#9c179e"
             ],
             [
              0.4444444444444444,
              "#bd3786"
             ],
             [
              0.5555555555555556,
              "#d8576b"
             ],
             [
              0.6666666666666666,
              "#ed7953"
             ],
             [
              0.7777777777777778,
              "#fb9f3a"
             ],
             [
              0.8888888888888888,
              "#fdca26"
             ],
             [
              1,
              "#f0f921"
             ]
            ],
            "type": "histogram2dcontour"
           }
          ],
          "mesh3d": [
           {
            "colorbar": {
             "outlinewidth": 0,
             "ticks": ""
            },
            "type": "mesh3d"
           }
          ],
          "parcoords": [
           {
            "line": {
             "colorbar": {
              "outlinewidth": 0,
              "ticks": ""
             }
            },
            "type": "parcoords"
           }
          ],
          "pie": [
           {
            "automargin": true,
            "type": "pie"
           }
          ],
          "scatter": [
           {
            "fillpattern": {
             "fillmode": "overlay",
             "size": 10,
             "solidity": 0.2
            },
            "type": "scatter"
           }
          ],
          "scatter3d": [
           {
            "line": {
             "colorbar": {
              "outlinewidth": 0,
              "ticks": ""
             }
            },
            "marker": {
             "colorbar": {
              "outlinewidth": 0,
              "ticks": ""
             }
            },
            "type": "scatter3d"
           }
          ],
          "scattercarpet": [
           {
            "marker": {
             "colorbar": {
              "outlinewidth": 0,
              "ticks": ""
             }
            },
            "type": "scattercarpet"
           }
          ],
          "scattergeo": [
           {
            "marker": {
             "colorbar": {
              "outlinewidth": 0,
              "ticks": ""
             }
            },
            "type": "scattergeo"
           }
          ],
          "scattergl": [
           {
            "marker": {
             "colorbar": {
              "outlinewidth": 0,
              "ticks": ""
             }
            },
            "type": "scattergl"
           }
          ],
          "scattermapbox": [
           {
            "marker": {
             "colorbar": {
              "outlinewidth": 0,
              "ticks": ""
             }
            },
            "type": "scattermapbox"
           }
          ],
          "scatterpolar": [
           {
            "marker": {
             "colorbar": {
              "outlinewidth": 0,
              "ticks": ""
             }
            },
            "type": "scatterpolar"
           }
          ],
          "scatterpolargl": [
           {
            "marker": {
             "colorbar": {
              "outlinewidth": 0,
              "ticks": ""
             }
            },
            "type": "scatterpolargl"
           }
          ],
          "scatterternary": [
           {
            "marker": {
             "colorbar": {
              "outlinewidth": 0,
              "ticks": ""
             }
            },
            "type": "scatterternary"
           }
          ],
          "surface": [
           {
            "colorbar": {
             "outlinewidth": 0,
             "ticks": ""
            },
            "colorscale": [
             [
              0,
              "#0d0887"
             ],
             [
              0.1111111111111111,
              "#46039f"
             ],
             [
              0.2222222222222222,
              "#7201a8"
             ],
             [
              0.3333333333333333,
              "#9c179e"
             ],
             [
              0.4444444444444444,
              "#bd3786"
             ],
             [
              0.5555555555555556,
              "#d8576b"
             ],
             [
              0.6666666666666666,
              "#ed7953"
             ],
             [
              0.7777777777777778,
              "#fb9f3a"
             ],
             [
              0.8888888888888888,
              "#fdca26"
             ],
             [
              1,
              "#f0f921"
             ]
            ],
            "type": "surface"
           }
          ],
          "table": [
           {
            "cells": {
             "fill": {
              "color": "#EBF0F8"
             },
             "line": {
              "color": "white"
             }
            },
            "header": {
             "fill": {
              "color": "#C8D4E3"
             },
             "line": {
              "color": "white"
             }
            },
            "type": "table"
           }
          ]
         },
         "layout": {
          "annotationdefaults": {
           "arrowcolor": "#2a3f5f",
           "arrowhead": 0,
           "arrowwidth": 1
          },
          "autotypenumbers": "strict",
          "coloraxis": {
           "colorbar": {
            "outlinewidth": 0,
            "ticks": ""
           }
          },
          "colorscale": {
           "diverging": [
            [
             0,
             "#8e0152"
            ],
            [
             0.1,
             "#c51b7d"
            ],
            [
             0.2,
             "#de77ae"
            ],
            [
             0.3,
             "#f1b6da"
            ],
            [
             0.4,
             "#fde0ef"
            ],
            [
             0.5,
             "#f7f7f7"
            ],
            [
             0.6,
             "#e6f5d0"
            ],
            [
             0.7,
             "#b8e186"
            ],
            [
             0.8,
             "#7fbc41"
            ],
            [
             0.9,
             "#4d9221"
            ],
            [
             1,
             "#276419"
            ]
           ],
           "sequential": [
            [
             0,
             "#0d0887"
            ],
            [
             0.1111111111111111,
             "#46039f"
            ],
            [
             0.2222222222222222,
             "#7201a8"
            ],
            [
             0.3333333333333333,
             "#9c179e"
            ],
            [
             0.4444444444444444,
             "#bd3786"
            ],
            [
             0.5555555555555556,
             "#d8576b"
            ],
            [
             0.6666666666666666,
             "#ed7953"
            ],
            [
             0.7777777777777778,
             "#fb9f3a"
            ],
            [
             0.8888888888888888,
             "#fdca26"
            ],
            [
             1,
             "#f0f921"
            ]
           ],
           "sequentialminus": [
            [
             0,
             "#0d0887"
            ],
            [
             0.1111111111111111,
             "#46039f"
            ],
            [
             0.2222222222222222,
             "#7201a8"
            ],
            [
             0.3333333333333333,
             "#9c179e"
            ],
            [
             0.4444444444444444,
             "#bd3786"
            ],
            [
             0.5555555555555556,
             "#d8576b"
            ],
            [
             0.6666666666666666,
             "#ed7953"
            ],
            [
             0.7777777777777778,
             "#fb9f3a"
            ],
            [
             0.8888888888888888,
             "#fdca26"
            ],
            [
             1,
             "#f0f921"
            ]
           ]
          },
          "colorway": [
           "#636efa",
           "#EF553B",
           "#00cc96",
           "#ab63fa",
           "#FFA15A",
           "#19d3f3",
           "#FF6692",
           "#B6E880",
           "#FF97FF",
           "#FECB52"
          ],
          "font": {
           "color": "#2a3f5f"
          },
          "geo": {
           "bgcolor": "white",
           "lakecolor": "white",
           "landcolor": "white",
           "showlakes": true,
           "showland": true,
           "subunitcolor": "#C8D4E3"
          },
          "hoverlabel": {
           "align": "left"
          },
          "hovermode": "closest",
          "mapbox": {
           "style": "light"
          },
          "paper_bgcolor": "white",
          "plot_bgcolor": "white",
          "polar": {
           "angularaxis": {
            "gridcolor": "#EBF0F8",
            "linecolor": "#EBF0F8",
            "ticks": ""
           },
           "bgcolor": "white",
           "radialaxis": {
            "gridcolor": "#EBF0F8",
            "linecolor": "#EBF0F8",
            "ticks": ""
           }
          },
          "scene": {
           "xaxis": {
            "backgroundcolor": "white",
            "gridcolor": "#DFE8F3",
            "gridwidth": 2,
            "linecolor": "#EBF0F8",
            "showbackground": true,
            "ticks": "",
            "zerolinecolor": "#EBF0F8"
           },
           "yaxis": {
            "backgroundcolor": "white",
            "gridcolor": "#DFE8F3",
            "gridwidth": 2,
            "linecolor": "#EBF0F8",
            "showbackground": true,
            "ticks": "",
            "zerolinecolor": "#EBF0F8"
           },
           "zaxis": {
            "backgroundcolor": "white",
            "gridcolor": "#DFE8F3",
            "gridwidth": 2,
            "linecolor": "#EBF0F8",
            "showbackground": true,
            "ticks": "",
            "zerolinecolor": "#EBF0F8"
           }
          },
          "shapedefaults": {
           "line": {
            "color": "#2a3f5f"
           }
          },
          "ternary": {
           "aaxis": {
            "gridcolor": "#DFE8F3",
            "linecolor": "#A2B1C6",
            "ticks": ""
           },
           "baxis": {
            "gridcolor": "#DFE8F3",
            "linecolor": "#A2B1C6",
            "ticks": ""
           },
           "bgcolor": "white",
           "caxis": {
            "gridcolor": "#DFE8F3",
            "linecolor": "#A2B1C6",
            "ticks": ""
           }
          },
          "title": {
           "x": 0.05
          },
          "xaxis": {
           "automargin": true,
           "gridcolor": "#EBF0F8",
           "linecolor": "#EBF0F8",
           "ticks": "",
           "title": {
            "standoff": 15
           },
           "zerolinecolor": "#EBF0F8",
           "zerolinewidth": 2
          },
          "yaxis": {
           "automargin": true,
           "gridcolor": "#EBF0F8",
           "linecolor": "#EBF0F8",
           "ticks": "",
           "title": {
            "standoff": 15
           },
           "zerolinecolor": "#EBF0F8",
           "zerolinewidth": 2
          }
         }
        },
        "xaxis": {
         "anchor": "y",
         "domain": [
          0,
          1
         ]
        },
        "yaxis": {
         "anchor": "x",
         "domain": [
          0,
          1
         ]
        }
       }
      },
      "text/html": [
       "<div>                            <div id=\"d1ca7c7f-4c8f-4a00-8c46-521d42ea3848\" class=\"plotly-graph-div\" style=\"height:400px; width:100%;\"></div>            <script type=\"text/javascript\">                require([\"plotly\"], function(Plotly) {                    window.PLOTLYENV=window.PLOTLYENV || {};                                    if (document.getElementById(\"d1ca7c7f-4c8f-4a00-8c46-521d42ea3848\")) {                    Plotly.newPlot(                        \"d1ca7c7f-4c8f-4a00-8c46-521d42ea3848\",                        [{\"name\":\"lang bin\",\"showlegend\":true,\"x\":[694,966,481,632,1093,972,739,472,677,752,426,518,470,529,949,1025,271,666,529,899,1046,675,657,227,888,286,185,391,260,482,68,209,469,285,643,1055,345,73,419,94,106,460,240,949,750,339,70,487,467,524,210,234,277,351,307,906,136,980,44,491,320,39,778,1189,455,242,515,867,326,383,877,224,447,220,327,326,250,163,206,1001,129,100,84,638,1126,1110,556,915,201,877,383,827,425,312,231,349,905,634,411,263,612,714,226,95,259,380,678,149,81,228,349,577,778,89,495,1164,670,193,119,161,1051,780,424,880,712,613,316,756,237,116,111,341,83,559,1123,229,146,929,285,170,116,86,694,123,1011,837,310,470,322,838,673,121,58,376,867,457,828,374,755,124,696,866,338,677,930,1036,577,853,670,113,151,282,350,65,1030,132],\"type\":\"histogram\",\"xaxis\":\"x\",\"yaxis\":\"y\"},{\"name\":\"bio-morph multi\",\"showlegend\":true,\"x\":[423,32,66,68,207,249,36,49,315,30,21,148,307,21,149,28,394,25,21,86,53,44,230,286,46,213,234,321,339,29,58,423,29,205,91,286,97,25,50,163,151,67,73,1025,22,63,27,91,292,227,76,245,99,97,22,364,370,361,56,73,138,224,817,131,115,299,207,472,98,363,128,140,25,445,123,363,82,213,148,116,22,51,98,136,334,205,98,57,242,309,363,119,361,158,299,234,221,139,233,84,189,32,51,113,353,116,285,331,36,42,23,278,52,54,147,378,130,234,189,331,28,136,73,48,363,52,51,119,44,242,88,292,55,307,57,205,42,77,28,32,56,60,29,102,75,421,242,54,133,35,198,412,89,66,88,77,289,158,380,242,182,170,93,176,242,100,309,207,296,242,198,93,40,50,287,72,78,30,23,27,24,24,28,233,48,49,361,234,393,277,63,62,242,279,37,40,381,179,28,448,35,41,296,98,106,77,289,292,220,109,102,290,133,82,103,43,351,94,65,413,122,25,182,56,24,31,235,356,93,121,245,21,742,178,24,117,27,392,447,118,292,118,241,46,160,151,102,35,92,89,249,28,114,113,131,292,56,927,97,392,21,42,60,187,102,35,40,453,206,234,237,22,76,246,413,77,21,227,23,371,44,46,444,66,361,287,54,205,30,354,334,28,56,131,68,147,26,80,207,220,234,104,251,207,26,181,177,264,83,164,202,137,138,57,48,40,331,243,348,102,111,44,120,221,46,161,29,292,207,101,115,28,368,40,334,116,29,249],\"type\":\"histogram\",\"xaxis\":\"x\",\"yaxis\":\"y\"},{\"name\":\"bio-morph bin\",\"showlegend\":true,\"x\":[100,520,156,688,43,159,33,395,387,406,519,645,73,163,66,21,270,39,180,498,618,527,76,92,53,641,29,83,267,40,52,206,48,170,1034,496,317,847,496,170,746,43,211,22,53,106,159,670,210,59,216,83,70,246,519,752,357,157,120,223,189,780,552,82,551,433,181,221,325,78,254,671,551,731,108,481,843,117,108,406,478,333,38,560,51,150,52,590,254,44,203,474,783,86,180,236,139,781,397,335,130,591,70,27,398,322,765,95,165,140,72,39,86,630,496,896,474,327,577,877,182,47,288,175,328,177,855,496,608,820,158,132,33,630,226,86,670,691,136,146,386,54,244,244,70,710,274,52,120,784,194,798,578,54,836,112,823,887,150,844,182,135,80,705,89,41,22,82,122,606,445,277,98,120,744,39,72,144,80,120,807,592,340,199,322,193,649,100,420,370,684,150,320,590,81,838,91,100,848,23,138,159,200,297,395,328,558,520,34,807,73,52,43,353,90,474,71,752,155,314,203,386,519,177,430,203,831,228,229,291,473,44,317,70,106,120,231,125,77,267,278,195,591,246,123,100,172,58,949,496,945,544,628,248,896,125,496,42,46,218,219,830,73,254,110,139,518,379,553,857,54,31,89,43,608,816,126,371,109,375,216,381,49,52,46,46,21,80,120,775,453,139,294,50,254,894,70,88,62,809,203,358,536,100,712,590,104,71,782,180,37,520,116,649,553,732,819,289,102,34,127,100,120,198,322,532,107,123,746,464,139,821,322,527,56,253,194,710,384,391,551,610,33,294,873,58,544,380,379,43,488,104,193,473,207,245,82,247,70,89,599,291,870,746,590,691,495,787,172],\"type\":\"histogram\",\"xaxis\":\"x\",\"yaxis\":\"y\"}],                        {\"template\":{\"data\":{\"barpolar\":[{\"marker\":{\"line\":{\"color\":\"white\",\"width\":0.5},\"pattern\":{\"fillmode\":\"overlay\",\"size\":10,\"solidity\":0.2}},\"type\":\"barpolar\"}],\"bar\":[{\"error_x\":{\"color\":\"#2a3f5f\"},\"error_y\":{\"color\":\"#2a3f5f\"},\"marker\":{\"line\":{\"color\":\"white\",\"width\":0.5},\"pattern\":{\"fillmode\":\"overlay\",\"size\":10,\"solidity\":0.2}},\"type\":\"bar\"}],\"carpet\":[{\"aaxis\":{\"endlinecolor\":\"#2a3f5f\",\"gridcolor\":\"#C8D4E3\",\"linecolor\":\"#C8D4E3\",\"minorgridcolor\":\"#C8D4E3\",\"startlinecolor\":\"#2a3f5f\"},\"baxis\":{\"endlinecolor\":\"#2a3f5f\",\"gridcolor\":\"#C8D4E3\",\"linecolor\":\"#C8D4E3\",\"minorgridcolor\":\"#C8D4E3\",\"startlinecolor\":\"#2a3f5f\"},\"type\":\"carpet\"}],\"choropleth\":[{\"colorbar\":{\"outlinewidth\":0,\"ticks\":\"\"},\"type\":\"choropleth\"}],\"contourcarpet\":[{\"colorbar\":{\"outlinewidth\":0,\"ticks\":\"\"},\"type\":\"contourcarpet\"}],\"contour\":[{\"colorbar\":{\"outlinewidth\":0,\"ticks\":\"\"},\"colorscale\":[[0.0,\"#0d0887\"],[0.1111111111111111,\"#46039f\"],[0.2222222222222222,\"#7201a8\"],[0.3333333333333333,\"#9c179e\"],[0.4444444444444444,\"#bd3786\"],[0.5555555555555556,\"#d8576b\"],[0.6666666666666666,\"#ed7953\"],[0.7777777777777778,\"#fb9f3a\"],[0.8888888888888888,\"#fdca26\"],[1.0,\"#f0f921\"]],\"type\":\"contour\"}],\"heatmapgl\":[{\"colorbar\":{\"outlinewidth\":0,\"ticks\":\"\"},\"colorscale\":[[0.0,\"#0d0887\"],[0.1111111111111111,\"#46039f\"],[0.2222222222222222,\"#7201a8\"],[0.3333333333333333,\"#9c179e\"],[0.4444444444444444,\"#bd3786\"],[0.5555555555555556,\"#d8576b\"],[0.6666666666666666,\"#ed7953\"],[0.7777777777777778,\"#fb9f3a\"],[0.8888888888888888,\"#fdca26\"],[1.0,\"#f0f921\"]],\"type\":\"heatmapgl\"}],\"heatmap\":[{\"colorbar\":{\"outlinewidth\":0,\"ticks\":\"\"},\"colorscale\":[[0.0,\"#0d0887\"],[0.1111111111111111,\"#46039f\"],[0.2222222222222222,\"#7201a8\"],[0.3333333333333333,\"#9c179e\"],[0.4444444444444444,\"#bd3786\"],[0.5555555555555556,\"#d8576b\"],[0.6666666666666666,\"#ed7953\"],[0.7777777777777778,\"#fb9f3a\"],[0.8888888888888888,\"#fdca26\"],[1.0,\"#f0f921\"]],\"type\":\"heatmap\"}],\"histogram2dcontour\":[{\"colorbar\":{\"outlinewidth\":0,\"ticks\":\"\"},\"colorscale\":[[0.0,\"#0d0887\"],[0.1111111111111111,\"#46039f\"],[0.2222222222222222,\"#7201a8\"],[0.3333333333333333,\"#9c179e\"],[0.4444444444444444,\"#bd3786\"],[0.5555555555555556,\"#d8576b\"],[0.6666666666666666,\"#ed7953\"],[0.7777777777777778,\"#fb9f3a\"],[0.8888888888888888,\"#fdca26\"],[1.0,\"#f0f921\"]],\"type\":\"histogram2dcontour\"}],\"histogram2d\":[{\"colorbar\":{\"outlinewidth\":0,\"ticks\":\"\"},\"colorscale\":[[0.0,\"#0d0887\"],[0.1111111111111111,\"#46039f\"],[0.2222222222222222,\"#7201a8\"],[0.3333333333333333,\"#9c179e\"],[0.4444444444444444,\"#bd3786\"],[0.5555555555555556,\"#d8576b\"],[0.6666666666666666,\"#ed7953\"],[0.7777777777777778,\"#fb9f3a\"],[0.8888888888888888,\"#fdca26\"],[1.0,\"#f0f921\"]],\"type\":\"histogram2d\"}],\"histogram\":[{\"marker\":{\"pattern\":{\"fillmode\":\"overlay\",\"size\":10,\"solidity\":0.2}},\"type\":\"histogram\"}],\"mesh3d\":[{\"colorbar\":{\"outlinewidth\":0,\"ticks\":\"\"},\"type\":\"mesh3d\"}],\"parcoords\":[{\"line\":{\"colorbar\":{\"outlinewidth\":0,\"ticks\":\"\"}},\"type\":\"parcoords\"}],\"pie\":[{\"automargin\":true,\"type\":\"pie\"}],\"scatter3d\":[{\"line\":{\"colorbar\":{\"outlinewidth\":0,\"ticks\":\"\"}},\"marker\":{\"colorbar\":{\"outlinewidth\":0,\"ticks\":\"\"}},\"type\":\"scatter3d\"}],\"scattercarpet\":[{\"marker\":{\"colorbar\":{\"outlinewidth\":0,\"ticks\":\"\"}},\"type\":\"scattercarpet\"}],\"scattergeo\":[{\"marker\":{\"colorbar\":{\"outlinewidth\":0,\"ticks\":\"\"}},\"type\":\"scattergeo\"}],\"scattergl\":[{\"marker\":{\"colorbar\":{\"outlinewidth\":0,\"ticks\":\"\"}},\"type\":\"scattergl\"}],\"scattermapbox\":[{\"marker\":{\"colorbar\":{\"outlinewidth\":0,\"ticks\":\"\"}},\"type\":\"scattermapbox\"}],\"scatterpolargl\":[{\"marker\":{\"colorbar\":{\"outlinewidth\":0,\"ticks\":\"\"}},\"type\":\"scatterpolargl\"}],\"scatterpolar\":[{\"marker\":{\"colorbar\":{\"outlinewidth\":0,\"ticks\":\"\"}},\"type\":\"scatterpolar\"}],\"scatter\":[{\"fillpattern\":{\"fillmode\":\"overlay\",\"size\":10,\"solidity\":0.2},\"type\":\"scatter\"}],\"scatterternary\":[{\"marker\":{\"colorbar\":{\"outlinewidth\":0,\"ticks\":\"\"}},\"type\":\"scatterternary\"}],\"surface\":[{\"colorbar\":{\"outlinewidth\":0,\"ticks\":\"\"},\"colorscale\":[[0.0,\"#0d0887\"],[0.1111111111111111,\"#46039f\"],[0.2222222222222222,\"#7201a8\"],[0.3333333333333333,\"#9c179e\"],[0.4444444444444444,\"#bd3786\"],[0.5555555555555556,\"#d8576b\"],[0.6666666666666666,\"#ed7953\"],[0.7777777777777778,\"#fb9f3a\"],[0.8888888888888888,\"#fdca26\"],[1.0,\"#f0f921\"]],\"type\":\"surface\"}],\"table\":[{\"cells\":{\"fill\":{\"color\":\"#EBF0F8\"},\"line\":{\"color\":\"white\"}},\"header\":{\"fill\":{\"color\":\"#C8D4E3\"},\"line\":{\"color\":\"white\"}},\"type\":\"table\"}]},\"layout\":{\"annotationdefaults\":{\"arrowcolor\":\"#2a3f5f\",\"arrowhead\":0,\"arrowwidth\":1},\"autotypenumbers\":\"strict\",\"coloraxis\":{\"colorbar\":{\"outlinewidth\":0,\"ticks\":\"\"}},\"colorscale\":{\"diverging\":[[0,\"#8e0152\"],[0.1,\"#c51b7d\"],[0.2,\"#de77ae\"],[0.3,\"#f1b6da\"],[0.4,\"#fde0ef\"],[0.5,\"#f7f7f7\"],[0.6,\"#e6f5d0\"],[0.7,\"#b8e186\"],[0.8,\"#7fbc41\"],[0.9,\"#4d9221\"],[1,\"#276419\"]],\"sequential\":[[0.0,\"#0d0887\"],[0.1111111111111111,\"#46039f\"],[0.2222222222222222,\"#7201a8\"],[0.3333333333333333,\"#9c179e\"],[0.4444444444444444,\"#bd3786\"],[0.5555555555555556,\"#d8576b\"],[0.6666666666666666,\"#ed7953\"],[0.7777777777777778,\"#fb9f3a\"],[0.8888888888888888,\"#fdca26\"],[1.0,\"#f0f921\"]],\"sequentialminus\":[[0.0,\"#0d0887\"],[0.1111111111111111,\"#46039f\"],[0.2222222222222222,\"#7201a8\"],[0.3333333333333333,\"#9c179e\"],[0.4444444444444444,\"#bd3786\"],[0.5555555555555556,\"#d8576b\"],[0.6666666666666666,\"#ed7953\"],[0.7777777777777778,\"#fb9f3a\"],[0.8888888888888888,\"#fdca26\"],[1.0,\"#f0f921\"]]},\"colorway\":[\"#636efa\",\"#EF553B\",\"#00cc96\",\"#ab63fa\",\"#FFA15A\",\"#19d3f3\",\"#FF6692\",\"#B6E880\",\"#FF97FF\",\"#FECB52\"],\"font\":{\"color\":\"#2a3f5f\"},\"geo\":{\"bgcolor\":\"white\",\"lakecolor\":\"white\",\"landcolor\":\"white\",\"showlakes\":true,\"showland\":true,\"subunitcolor\":\"#C8D4E3\"},\"hoverlabel\":{\"align\":\"left\"},\"hovermode\":\"closest\",\"mapbox\":{\"style\":\"light\"},\"paper_bgcolor\":\"white\",\"plot_bgcolor\":\"white\",\"polar\":{\"angularaxis\":{\"gridcolor\":\"#EBF0F8\",\"linecolor\":\"#EBF0F8\",\"ticks\":\"\"},\"bgcolor\":\"white\",\"radialaxis\":{\"gridcolor\":\"#EBF0F8\",\"linecolor\":\"#EBF0F8\",\"ticks\":\"\"}},\"scene\":{\"xaxis\":{\"backgroundcolor\":\"white\",\"gridcolor\":\"#DFE8F3\",\"gridwidth\":2,\"linecolor\":\"#EBF0F8\",\"showbackground\":true,\"ticks\":\"\",\"zerolinecolor\":\"#EBF0F8\"},\"yaxis\":{\"backgroundcolor\":\"white\",\"gridcolor\":\"#DFE8F3\",\"gridwidth\":2,\"linecolor\":\"#EBF0F8\",\"showbackground\":true,\"ticks\":\"\",\"zerolinecolor\":\"#EBF0F8\"},\"zaxis\":{\"backgroundcolor\":\"white\",\"gridcolor\":\"#DFE8F3\",\"gridwidth\":2,\"linecolor\":\"#EBF0F8\",\"showbackground\":true,\"ticks\":\"\",\"zerolinecolor\":\"#EBF0F8\"}},\"shapedefaults\":{\"line\":{\"color\":\"#2a3f5f\"}},\"ternary\":{\"aaxis\":{\"gridcolor\":\"#DFE8F3\",\"linecolor\":\"#A2B1C6\",\"ticks\":\"\"},\"baxis\":{\"gridcolor\":\"#DFE8F3\",\"linecolor\":\"#A2B1C6\",\"ticks\":\"\"},\"bgcolor\":\"white\",\"caxis\":{\"gridcolor\":\"#DFE8F3\",\"linecolor\":\"#A2B1C6\",\"ticks\":\"\"}},\"title\":{\"x\":0.05},\"xaxis\":{\"automargin\":true,\"gridcolor\":\"#EBF0F8\",\"linecolor\":\"#EBF0F8\",\"ticks\":\"\",\"title\":{\"standoff\":15},\"zerolinecolor\":\"#EBF0F8\",\"zerolinewidth\":2},\"yaxis\":{\"automargin\":true,\"gridcolor\":\"#EBF0F8\",\"linecolor\":\"#EBF0F8\",\"ticks\":\"\",\"title\":{\"standoff\":15},\"zerolinecolor\":\"#EBF0F8\",\"zerolinewidth\":2}}},\"xaxis\":{\"anchor\":\"y\",\"domain\":[0.0,1.0]},\"yaxis\":{\"anchor\":\"x\",\"domain\":[0.0,1.0]},\"annotations\":[{\"font\":{\"size\":16},\"showarrow\":false,\"text\":\"num_sites\",\"x\":0.5,\"xanchor\":\"center\",\"xref\":\"paper\",\"y\":1.0,\"yanchor\":\"bottom\",\"yref\":\"paper\"}],\"height\":400},                        {\"responsive\": true}                    ).then(function(){\n",
       "                            \n",
       "var gd = document.getElementById('d1ca7c7f-4c8f-4a00-8c46-521d42ea3848');\n",
       "var x = new MutationObserver(function (mutations, observer) {{\n",
       "        var display = window.getComputedStyle(gd).display;\n",
       "        if (!display || display === 'none') {{\n",
       "            console.log([gd, 'removed!']);\n",
       "            Plotly.purge(gd);\n",
       "            observer.disconnect();\n",
       "        }}\n",
       "}});\n",
       "\n",
       "// Listen for the removal of the full notebook cells\n",
       "var notebookContainer = gd.closest('#notebook-container');\n",
       "if (notebookContainer) {{\n",
       "    x.observe(notebookContainer, {childList: true});\n",
       "}}\n",
       "\n",
       "// Listen for the clearing of the current output cell\n",
       "var outputEl = gd.closest('.output');\n",
       "if (outputEl) {{\n",
       "    x.observe(outputEl, {childList: true});\n",
       "}}\n",
       "\n",
       "                        })                };                });            </script>        </div>"
      ]
     },
     "metadata": {},
     "output_type": "display_data"
    }
   ],
   "source": [
    "def plots_for_column_bin_multi_lang(col):\n",
    "    fig = make_subplots(\n",
    "        rows=1,\n",
    "        cols=1,\n",
    "        subplot_titles=[col]\n",
    "    )\n",
    "\n",
    "    all_data = pd.concat([morph_data_multistate, morph_data_binarized, lang_data], join=\"inner\")\n",
    "    lower = all_data[col].quantile(0.05)\n",
    "    upper = all_data[col].quantile(0.95)\n",
    "    #lower = all_data[col].min()\n",
    "    #upper = all_data[col].max()\n",
    "    fig.append_trace(\n",
    "        go.Histogram(\n",
    "            x=lang_data.loc[lang_data[col].between(lower, upper)][col],\n",
    "            name=\"lang bin\",\n",
    "            showlegend=True\n",
    "            #, histnorm=\"percent\"\n",
    "        ),\n",
    "        row=1,\n",
    "        col=1\n",
    "    )\n",
    "    \n",
    "    fig.append_trace(\n",
    "        go.Histogram(\n",
    "            x=morph_data_multistate.loc[morph_data_multistate[col].between(lower, upper)][col],\n",
    "            name=\"bio-morph multi\",\n",
    "            showlegend=True\n",
    "            #, histnorm=\"percent\"\n",
    "        ),\n",
    "        row=1,\n",
    "        col=1\n",
    "    )\n",
    "    fig.append_trace(\n",
    "        go.Histogram(\n",
    "            x=morph_data_binarized.loc[morph_data_binarized[col].between(lower, upper)][col],\n",
    "            name=\"bio-morph bin\",\n",
    "            showlegend=True\n",
    "            #, histnorm=\"percent\"\n",
    "        ),\n",
    "        row=1,\n",
    "        col=1\n",
    "    )\n",
    "\n",
    "    return fig\n",
    "\n",
    "column = \"num_sites\"\n",
    "plots_for_column_bin_multi_lang(column).update_layout(template=\"plotly_white\", height=400)\n",
    "#plots_for_column_bin_multi_lang(column).write_image(\"lang_morpho_bin_multi_\" + column + \".png\") "
   ]
  },
  {
   "cell_type": "code",
   "execution_count": null,
   "id": "41c10b1e",
   "metadata": {},
   "outputs": [],
   "source": []
  },
  {
   "cell_type": "code",
   "execution_count": 26,
   "id": "7800a04a",
   "metadata": {},
   "outputs": [],
   "source": [
    "def plots_for_column_morph_models(col):\n",
    "    fig = make_subplots(\n",
    "        rows=1,\n",
    "        cols=1,\n",
    "        subplot_titles=[\"Biological Morphological Data\"]\n",
    "    )\n",
    "\n",
    "    gtr_df = morph_data_multistate\n",
    "    mk_df = morph_data_mk_multistate\n",
    "    bin_df = morph_data_binarized\n",
    "    all_data = pd.concat([gtr_df, mk_df, bin_df], join=\"inner\")\n",
    "    lower = all_data[col].quantile(0.1)\n",
    "    upper = all_data[col].quantile(0.9)\n",
    "    #lower = all_data[col].min()\n",
    "    #upper = all_data[col].max()\n",
    "    \n",
    "    fig.append_trace(\n",
    "        go.Histogram(\n",
    "            x=bin_df.loc[bin_df[col].between(lower, upper)][col],\n",
    "            name=\"Binarized\",\n",
    "            showlegend=True\n",
    "            #, histnorm=\"percent\"\n",
    "        ),\n",
    "        row=1,\n",
    "        col=1\n",
    "    )\n",
    "    fig.append_trace(\n",
    "        go.Histogram(\n",
    "            x=gtr_df.loc[gtr_df[col].between(lower, upper)][col],\n",
    "            name=\"Multivalue - GTR\",\n",
    "            showlegend=True\n",
    "            #, histnorm=\"percent\"\n",
    "        ),\n",
    "        row=1,\n",
    "        col=1\n",
    "    )\n",
    "    fig.append_trace(\n",
    "        go.Histogram(\n",
    "            x=mk_df.loc[mk_df[col].between(lower, upper)][col],\n",
    "            name=\"Multivalue - MK\",\n",
    "            showlegend=True\n",
    "            #, histnorm=\"percent\"\n",
    "        ),\n",
    "        row=1,\n",
    "        col=1\n",
    "    )\n",
    "    return fig\n",
    "\n",
    "column = \"num_topos_parsimony\"\n",
    "#plots_for_column_morph_models(column).update_layout(template=\"plotly_white\", height=600)\n",
    "plots_for_column_morph_models(column).write_image(\"morph_models_\" + column + \".png\")"
   ]
  },
  {
   "cell_type": "code",
   "execution_count": null,
   "id": "99072411",
   "metadata": {},
   "outputs": [],
   "source": []
  }
 ],
 "metadata": {
  "kernelspec": {
   "display_name": "Python 3 (ipykernel)",
   "language": "python",
   "name": "python3"
  },
  "language_info": {
   "codemirror_mode": {
    "name": "ipython",
    "version": 3
   },
   "file_extension": ".py",
   "mimetype": "text/x-python",
   "name": "python",
   "nbconvert_exporter": "python",
   "pygments_lexer": "ipython3",
   "version": "3.10.9"
  }
 },
 "nbformat": 4,
 "nbformat_minor": 5
}
