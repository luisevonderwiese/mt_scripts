{
 "cells": [
  {
   "cell_type": "code",
   "execution_count": 2,
   "id": "fc18a067",
   "metadata": {},
   "outputs": [],
   "source": [
    "import os\n",
    "\n",
    "indices_dir = \"data/indices/\"\n",
    "def convert_pavlos_indices():\n",
    "    inds_to_use = [int(l) for l in open(indices_dir + \"indsToUse\").readlines()]\n",
    "    with open(indices_dir + \"indToUse_converted\", \"w+\") as inds_file:\n",
    "        for ind in inds_to_use:\n",
    "            true_ind = ind-1\n",
    "            inds_file.write(str(true_ind) + \"\\n\")\n",
    "convert_pavlos_indices()"
   ]
  },
  {
   "cell_type": "code",
   "execution_count": null,
   "id": "7f6c1b6b",
   "metadata": {},
   "outputs": [],
   "source": []
  }
 ],
 "metadata": {
  "kernelspec": {
   "display_name": "Python 3 (ipykernel)",
   "language": "python",
   "name": "python3"
  },
  "language_info": {
   "codemirror_mode": {
    "name": "ipython",
    "version": 3
   },
   "file_extension": ".py",
   "mimetype": "text/x-python",
   "name": "python",
   "nbconvert_exporter": "python",
   "pygments_lexer": "ipython3",
   "version": "3.10.8"
  }
 },
 "nbformat": 4,
 "nbformat_minor": 5
}
