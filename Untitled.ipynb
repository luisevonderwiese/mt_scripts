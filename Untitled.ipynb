{
 "cells": [
  {
   "cell_type": "code",
   "execution_count": 5,
   "id": "79a7406c",
   "metadata": {},
   "outputs": [
    {
     "name": "stdout",
     "output_type": "stream",
     "text": [
      "[ 6 39 30 37 21 36 14 11 40 34  2  4 38 12 20  9 35  7 41 23  0 32  3 27\n",
      " 13 15 26 22 19 10 18 17 16 33 24  5 31  8  1 29 25 28]\n"
     ]
    }
   ],
   "source": [
    "import numpy as np\n",
    "np.random.seed = 1\n",
    "\n",
    "a1 = rand_vector = np.array(range(0, 42))\n",
    "np.random.shuffle(a1)\n",
    "print(a1)"
   ]
  },
  {
   "cell_type": "code",
   "execution_count": null,
   "id": "7ba12081",
   "metadata": {},
   "outputs": [],
   "source": []
  }
 ],
 "metadata": {
  "kernelspec": {
   "display_name": "Python 3 (ipykernel)",
   "language": "python",
   "name": "python3"
  },
  "language_info": {
   "codemirror_mode": {
    "name": "ipython",
    "version": 3
   },
   "file_extension": ".py",
   "mimetype": "text/x-python",
   "name": "python",
   "nbconvert_exporter": "python",
   "pygments_lexer": "ipython3",
   "version": "3.10.8"
  }
 },
 "nbformat": 4,
 "nbformat_minor": 5
}
