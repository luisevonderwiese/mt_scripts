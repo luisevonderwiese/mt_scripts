{
 "cells": [
  {
   "cell_type": "code",
   "execution_count": 7,
   "id": "3a48a832",
   "metadata": {},
   "outputs": [],
   "source": [
    "from Bio import AlignIO\n",
    "from Bio.AlignIO.PhylipIO import RelaxedPhylipWriter\n",
    "import os\n",
    "import shutil"
   ]
  },
  {
   "cell_type": "code",
   "execution_count": 9,
   "id": "5e270c75",
   "metadata": {},
   "outputs": [],
   "source": [
    "# %load julia/nexus_to_phylip.py"
   ]
  },
  {
   "cell_type": "code",
   "execution_count": null,
   "id": "1b337bcc",
   "metadata": {},
   "outputs": [],
   "source": [
    "def convert_nexus_to_phylip(input_dir, output_dir, alignment_name):\n",
    "    align = AlignIO.read(input_dir + alignment_name + \".nex\", \"nexus\")\n",
    "    with open(output_dir + alignment_name + \".phy\",\"w+\") as f:\n",
    "        writer = RelaxedPhylipWriter(f)\n",
    "        writer.write_alignment(align)\n",
    "    if check_conversion(input_dir, output_dir, alignment_name):\n",
    "        return True\n",
    "    else:\n",
    "        #os.remove(output_dir + alignment_name + \".phy\")\n",
    "        return False\n",
    "    \n",
    "def check_conversion(input_dir, output_dir, alignment_name):\n",
    "    align_nex = AlignIO.read(input_dir + alignment_name + \".nex\", \"nexus\")\n",
    "    align_phy = AlignIO.read(output_dir + alignment_name + \".phy\", \"phylip-relaxed\")\n",
    "    if not len(align_nex) == len(align_phy):\n",
    "        print(\"Not same number of taxa\")\n",
    "        return False\n",
    "    if not align_nex.get_alignment_length() == align_phy.get_alignment_length():\n",
    "        print(\"Not same number of sites\")\n",
    "        return False\n",
    "    #if not align_nex[0].seq == align_phy[0].seq:\n",
    "    #    print(\"First row not identical\")\n",
    "    #    return False\n",
    "    #if not align_nex[:][0] == align_phy[:][0]:\n",
    "    #    print(\"First column not identical\")\n",
    "    #    return False\n",
    "    return True"
   ]
  },
  {
   "cell_type": "code",
   "execution_count": null,
   "id": "114c9bdc",
   "metadata": {},
   "outputs": [],
   "source": [
    "def convert():\n",
    "    input_dir = \"conversion/nex/\"\n",
    "    output_dir = \"conversion/phy/\"\n",
    "    with os.scandir(input_dir) as it:\n",
    "        for entry in it:\n",
    "            if not entry.is_file():\n",
    "                continue\n",
    "            print(entry.name)\n",
    "            convert_nexus_to_phylip(input_dir, output_dir, \".\".join(entry.name.split(\".\")[:-1]))"
   ]
  },
  {
   "cell_type": "code",
   "execution_count": null,
   "id": "59e2ea32",
   "metadata": {},
   "outputs": [],
   "source": [
    "convert()"
   ]
  }
 ],
 "metadata": {
  "kernelspec": {
   "display_name": "Python 3 (ipykernel)",
   "language": "python",
   "name": "python3"
  },
  "language_info": {
   "codemirror_mode": {
    "name": "ipython",
    "version": 3
   },
   "file_extension": ".py",
   "mimetype": "text/x-python",
   "name": "python",
   "nbconvert_exporter": "python",
   "pygments_lexer": "ipython3",
   "version": "3.10.8"
  }
 },
 "nbformat": 4,
 "nbformat_minor": 5
}
