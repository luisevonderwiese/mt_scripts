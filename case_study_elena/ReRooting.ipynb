{
 "cells": [
  {
   "cell_type": "code",
   "execution_count": 20,
   "id": "b0c57947",
   "metadata": {},
   "outputs": [],
   "source": [
    "import ete3\n",
    "from ete3 import Tree\n",
    "import os\n",
    "\n",
    "def reroot_tree(tree_name):\n",
    "    tree_name_only = tree_name.split(\".\")[0]\n",
    "    base_dir = \"delta_statistics/rerooted_trees/\" + tree_name_only + \"/\"\n",
    "    leaf_dir = base_dir + \"leaves/\"\n",
    "    inner_dir = base_dir + \"inner_nodes/\"\n",
    "    \n",
    "    if not os.path.exists(base_dir):\n",
    "        os.makedirs(base_dir)\n",
    "        \n",
    "    if not os.path.exists(inner_dir):\n",
    "        os.makedirs(inner_dir)\n",
    "        \n",
    "    if not os.path.exists(leaf_dir):\n",
    "        os.makedirs(leaf_dir)\n",
    "    \n",
    "    t = Tree(\"data/trees/\" + tree_name)\n",
    "    t.resolve_polytomy()\n",
    "    # to get all possible rooting on terminal branches\n",
    "    ls = []\n",
    "    for leaf in t:\n",
    "        ls.append(leaf.name)\n",
    "    for i in ls:\n",
    "        t.set_outgroup(t&i)\n",
    "        new_tree_path = leaf_dir + tree_name_only + \"_root=\" + i + \".tree\"\n",
    "        with open(new_tree_path, \"w+\") as tree_file:\n",
    "            tree_file.write(t.write()+\"\\n\")\n",
    "    t = Tree(\"data/trees/\" + tree_name)\n",
    "    t.resolve_polytomy()\n",
    "    # to get all possible rooting on internal branches\n",
    "    edge = 0\n",
    "    ancestor = []\n",
    "    \n",
    "    for node in t.traverse():\n",
    "        if not node.is_leaf() and not node.is_root():\n",
    "            node.name = \"NODE_%d\" %edge\n",
    "            ancestor.append(node.name)\n",
    "            edge += 1\n",
    "    for i in ancestor:\n",
    "        t.set_outgroup( t&i )\n",
    "        new_tree_path = inner_dir + tree_name_only + \"_root=\" + i + \".tree\"\n",
    "        with open(new_tree_path, \"w+\") as tree_file:\n",
    "            tree_file.write(t.write()+\"\\n\")\n",
    "    #root in original position        \n",
    "    t = Tree(\"data/trees/\" + tree_name)\n",
    "    t.resolve_polytomy()\n",
    "    i = \"NODE_%d\" %edge\n",
    "    new_tree_path = inner_dir + tree_name_only + \"_root=\" + i + \".tree\"\n",
    "    with open(new_tree_path, \"w+\") as tree_file:\n",
    "        tree_file.write(t.write()+\"\\n\")\n",
    "\n",
    "reroot_tree(\"geo_duration.tree\")"
   ]
  }
 ],
 "metadata": {
  "kernelspec": {
   "display_name": "Python 3 (ipykernel)",
   "language": "python",
   "name": "python3"
  },
  "language_info": {
   "codemirror_mode": {
    "name": "ipython",
    "version": 3
   },
   "file_extension": ".py",
   "mimetype": "text/x-python",
   "name": "python",
   "nbconvert_exporter": "python",
   "pygments_lexer": "ipython3",
   "version": "3.10.9"
  }
 },
 "nbformat": 4,
 "nbformat_minor": 5
}
