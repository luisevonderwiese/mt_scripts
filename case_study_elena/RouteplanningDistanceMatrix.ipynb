{
 "cells": [
  {
   "cell_type": "code",
   "execution_count": null,
   "id": "2370cf37",
   "metadata": {},
   "outputs": [],
   "source": [
    "#Calculate Distances with routeplanning for geographical tree"
   ]
  },
  {
   "cell_type": "code",
   "execution_count": 4,
   "id": "0cb61f5a",
   "metadata": {},
   "outputs": [
    {
     "ename": "RouterApiError",
     "evalue": "422 ({'code': 'InvalidInput', 'message': 'Route exceeds maximum distance limitation'})",
     "output_type": "error",
     "traceback": [
      "\u001b[0;31m---------------------------------------------------------------------------\u001b[0m",
      "\u001b[0;31mRouterApiError\u001b[0m                            Traceback (most recent call last)",
      "Cell \u001b[0;32mIn [4], line 24\u001b[0m\n\u001b[1;32m     22\u001b[0m     \u001b[38;5;28;01mcontinue\u001b[39;00m\n\u001b[1;32m     23\u001b[0m curr_coords \u001b[38;5;241m=\u001b[39m [coords[k1], coords[k2]]\n\u001b[0;32m---> 24\u001b[0m route \u001b[38;5;241m=\u001b[39m \u001b[43mclient\u001b[49m\u001b[38;5;241;43m.\u001b[39;49m\u001b[43mdirections\u001b[49m\u001b[43m(\u001b[49m\u001b[43mlocations\u001b[49m\u001b[38;5;241;43m=\u001b[39;49m\u001b[43mcurr_coords\u001b[49m\u001b[43m,\u001b[49m\u001b[43m \u001b[49m\u001b[43mprofile\u001b[49m\u001b[38;5;241;43m=\u001b[39;49m\u001b[43mprofile\u001b[49m\u001b[43m)\u001b[49m\n\u001b[1;32m     25\u001b[0m distance \u001b[38;5;241m=\u001b[39m route\u001b[38;5;241m.\u001b[39mdistance\n\u001b[1;32m     26\u001b[0m duration \u001b[38;5;241m=\u001b[39m route\u001b[38;5;241m.\u001b[39mduration\n",
      "File \u001b[0;32m~/.local/lib/python3.10/site-packages/routingpy/routers/mapbox_osrm.py:292\u001b[0m, in \u001b[0;36mMapboxOSRM.directions\u001b[0;34m(self, locations, profile, radiuses, bearings, alternatives, steps, continue_straight, annotations, geometries, overview, exclude, approaches, banner_instructions, language, roundabout_exits, voice_instructions, voice_units, waypoint_names, waypoint_targets, dry_run)\u001b[0m\n\u001b[1;32m    281\u001b[0m     params[\u001b[38;5;124m\"\u001b[39m\u001b[38;5;124mwaypoint_targets\u001b[39m\u001b[38;5;124m\"\u001b[39m] \u001b[38;5;241m=\u001b[39m \u001b[38;5;124m\"\u001b[39m\u001b[38;5;124m;\u001b[39m\u001b[38;5;124m\"\u001b[39m \u001b[38;5;241m+\u001b[39m convert\u001b[38;5;241m.\u001b[39mdelimit_list(\n\u001b[1;32m    282\u001b[0m         [\n\u001b[1;32m    283\u001b[0m             convert\u001b[38;5;241m.\u001b[39mdelimit_list([convert\u001b[38;5;241m.\u001b[39mformat_float(f) \u001b[38;5;28;01mfor\u001b[39;00m f \u001b[38;5;129;01min\u001b[39;00m pair])\n\u001b[0;32m   (...)\u001b[0m\n\u001b[1;32m    286\u001b[0m         \u001b[38;5;124m\"\u001b[39m\u001b[38;5;124m;\u001b[39m\u001b[38;5;124m\"\u001b[39m,\n\u001b[1;32m    287\u001b[0m     )\n\u001b[1;32m    289\u001b[0m get_params \u001b[38;5;241m=\u001b[39m {\u001b[38;5;124m\"\u001b[39m\u001b[38;5;124maccess_token\u001b[39m\u001b[38;5;124m\"\u001b[39m: \u001b[38;5;28mself\u001b[39m\u001b[38;5;241m.\u001b[39mapi_key} \u001b[38;5;28;01mif\u001b[39;00m \u001b[38;5;28mself\u001b[39m\u001b[38;5;241m.\u001b[39mapi_key \u001b[38;5;28;01melse\u001b[39;00m {}\n\u001b[1;32m    291\u001b[0m \u001b[38;5;28;01mreturn\u001b[39;00m \u001b[38;5;28mself\u001b[39m\u001b[38;5;241m.\u001b[39mparse_direction_json(\n\u001b[0;32m--> 292\u001b[0m     \u001b[38;5;28;43mself\u001b[39;49m\u001b[38;5;241;43m.\u001b[39;49m\u001b[43mclient\u001b[49m\u001b[38;5;241;43m.\u001b[39;49m\u001b[43m_request\u001b[49m\u001b[43m(\u001b[49m\n\u001b[1;32m    293\u001b[0m \u001b[43m        \u001b[49m\u001b[38;5;124;43m\"\u001b[39;49m\u001b[38;5;124;43m/directions/v5/mapbox/\u001b[39;49m\u001b[38;5;124;43m\"\u001b[39;49m\u001b[43m \u001b[49m\u001b[38;5;241;43m+\u001b[39;49m\u001b[43m \u001b[49m\u001b[43mprofile\u001b[49m\u001b[43m,\u001b[49m\n\u001b[1;32m    294\u001b[0m \u001b[43m        \u001b[49m\u001b[43mget_params\u001b[49m\u001b[38;5;241;43m=\u001b[39;49m\u001b[43mget_params\u001b[49m\u001b[43m,\u001b[49m\n\u001b[1;32m    295\u001b[0m \u001b[43m        \u001b[49m\u001b[43mpost_params\u001b[49m\u001b[38;5;241;43m=\u001b[39;49m\u001b[43mparams\u001b[49m\u001b[43m,\u001b[49m\n\u001b[1;32m    296\u001b[0m \u001b[43m        \u001b[49m\u001b[43mdry_run\u001b[49m\u001b[38;5;241;43m=\u001b[39;49m\u001b[43mdry_run\u001b[49m\u001b[43m,\u001b[49m\n\u001b[1;32m    297\u001b[0m \u001b[43m    \u001b[49m\u001b[43m)\u001b[49m,\n\u001b[1;32m    298\u001b[0m     alternatives,\n\u001b[1;32m    299\u001b[0m     geometries,\n\u001b[1;32m    300\u001b[0m )\n",
      "File \u001b[0;32m~/.local/lib/python3.10/site-packages/routingpy/client_default.py:199\u001b[0m, in \u001b[0;36mClient._request\u001b[0;34m(self, url, get_params, post_params, first_request_time, retry_counter, dry_run)\u001b[0m\n\u001b[1;32m    196\u001b[0m     \u001b[38;5;28;01mreturn\u001b[39;00m \u001b[38;5;28mself\u001b[39m\u001b[38;5;241m.\u001b[39m_request(url, get_params, post_params, first_request_time, retry_counter \u001b[38;5;241m+\u001b[39m \u001b[38;5;241m1\u001b[39m)\n\u001b[1;32m    198\u001b[0m \u001b[38;5;28;01mtry\u001b[39;00m:\n\u001b[0;32m--> 199\u001b[0m     result \u001b[38;5;241m=\u001b[39m \u001b[38;5;28;43mself\u001b[39;49m\u001b[38;5;241;43m.\u001b[39;49m\u001b[43m_get_body\u001b[49m\u001b[43m(\u001b[49m\u001b[43mresponse\u001b[49m\u001b[43m)\u001b[49m\n\u001b[1;32m    201\u001b[0m     \u001b[38;5;28;01mreturn\u001b[39;00m result\n\u001b[1;32m    203\u001b[0m \u001b[38;5;28;01mexcept\u001b[39;00m exceptions\u001b[38;5;241m.\u001b[39mRouterApiError:\n",
      "File \u001b[0;32m~/.local/lib/python3.10/site-packages/routingpy/client_default.py:242\u001b[0m, in \u001b[0;36mClient._get_body\u001b[0;34m(response)\u001b[0m\n\u001b[1;32m    239\u001b[0m     \u001b[38;5;28;01mraise\u001b[39;00m exceptions\u001b[38;5;241m.\u001b[39mOverQueryLimit(status_code, body)\n\u001b[1;32m    241\u001b[0m \u001b[38;5;28;01mif\u001b[39;00m \u001b[38;5;241m400\u001b[39m \u001b[38;5;241m<\u001b[39m\u001b[38;5;241m=\u001b[39m status_code \u001b[38;5;241m<\u001b[39m \u001b[38;5;241m500\u001b[39m:\n\u001b[0;32m--> 242\u001b[0m     \u001b[38;5;28;01mraise\u001b[39;00m exceptions\u001b[38;5;241m.\u001b[39mRouterApiError(status_code, body)\n\u001b[1;32m    244\u001b[0m \u001b[38;5;28;01mif\u001b[39;00m \u001b[38;5;241m500\u001b[39m \u001b[38;5;241m<\u001b[39m\u001b[38;5;241m=\u001b[39m status_code:\n\u001b[1;32m    245\u001b[0m     \u001b[38;5;28;01mraise\u001b[39;00m exceptions\u001b[38;5;241m.\u001b[39mRouterServerError(status_code, body)\n",
      "\u001b[0;31mRouterApiError\u001b[0m: 422 ({'code': 'InvalidInput', 'message': 'Route exceeds maximum distance limitation'})"
     ]
    }
   ],
   "source": [
    "from routingpy import Graphhopper, ORS, MapboxOSRM\n",
    "from shapely.geometry import Polygon\n",
    "import json\n",
    "\n",
    "# Some locations in Berlin\n",
    "coords = json.load(open('data/geo/coordinates_science_compatible.json', 'r'))\n",
    "for k in coords:\n",
    "    v = coords[k]\n",
    "    lat = v[0]\n",
    "    lon = v[1]\n",
    "    coords[k] = [lon, lat]\n",
    "    \n",
    "\n",
    "\n",
    "client =  MapboxOSRM(api_key='pk.eyJ1IjoibHVpc2UtaGFldXNlciIsImEiOiJja2d3MHEybHQwNW5pMzBycm9rOXFndzV0In0.0DUrtkqAOlmHkX8BXtixmw')\n",
    "profile = 'walking'\n",
    "distance_matrix = [[0 for i in range(len(coords))] for j in range(len(coords))]\n",
    "duration_matrix = [[0 for i in range(len(coords))] for j in range(len(coords))]\n",
    "for i, k1 in enumerate(coords):\n",
    "    for j, k2 in enumerate(coords):\n",
    "        if j >= i:\n",
    "            continue\n",
    "        curr_coords = [coords[k1], coords[k2]]\n",
    "        route = client.directions(locations=curr_coords, profile=profile)\n",
    "        distance = route.distance\n",
    "        duration = route.duration\n",
    "        print(distance)\n",
    "        print(duration)\n",
    "        distance_matrix[i][j] = distance\n",
    "        distance_matrix[j][i] = distance\n",
    "        duration_matrix[i][j] = duration\n",
    "        duration_matrix[j][i] = duration\n",
    "        \n",
    "with open(\"data/geo/walking_distance.matrix\", \"w+\") as dm_file:\n",
    "    for row in distance_matrix:\n",
    "        dm_file.write(\" \".join([str(entry) for entry in row]) + \"\\n\")\n",
    "with open(\"data/geo/walking_duration.matrix\", \"w+\") as dm_file:\n",
    "    for row in duration_matrix:\n",
    "        dm_file.write(\" \".join([str(entry) for entry in row]) + \"\\n\")"
   ]
  },
  {
   "cell_type": "code",
   "execution_count": null,
   "id": "a93f0e22",
   "metadata": {},
   "outputs": [],
   "source": []
  }
 ],
 "metadata": {
  "kernelspec": {
   "display_name": "Python 3 (ipykernel)",
   "language": "python",
   "name": "python3"
  },
  "language_info": {
   "codemirror_mode": {
    "name": "ipython",
    "version": 3
   },
   "file_extension": ".py",
   "mimetype": "text/x-python",
   "name": "python",
   "nbconvert_exporter": "python",
   "pygments_lexer": "ipython3",
   "version": "3.10.9"
  }
 },
 "nbformat": 4,
 "nbformat_minor": 5
}
