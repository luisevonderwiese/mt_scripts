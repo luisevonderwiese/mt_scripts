{
 "cells": [
  {
   "cell_type": "code",
   "execution_count": null,
   "id": "269ca95c",
   "metadata": {},
   "outputs": [],
   "source": [
    "#Shuffling of simulated alignments for testing the mixture model"
   ]
  },
  {
   "cell_type": "code",
   "execution_count": 6,
   "id": "2809b034",
   "metadata": {},
   "outputs": [
    {
     "name": "stdout",
     "output_type": "stream",
     "text": [
      "[0 0 1 0 0 1 0 0 1 0 1 1 0 0 0 0 0 0 0 0 0 1 0 0 0 0 0 0 0 0 0 0 0 0 0 0 0\n",
      " 0 0 0 1 0 0 0 0 0 0 0 1 0 1 0 0 1 1 1 0 0 1 0 0 1 0 0 0 0 0 0 1 0 0 1 0 1\n",
      " 0 0 1 0 0 1 0 1 0 1 1 1 0 1 0 1 1 1 0 0 0 1 0 0 1 0 0 0 1 1 0 0 1 1 0 0 0\n",
      " 0 0 0 1 0 0 0 0 0 0 1 0 0 0 0 1 0 0 1 0 0 0 1 0 0 0 0 0 0 1 1 1 0 1 0 0 0\n",
      " 1 1 1 0 1 1 0 0 0 0 0 0 0 1 0 0 0 1 0 0 1 0 0 0 1 0 0 0 1 0 0 0 0 0 0 1 1\n",
      " 1 0 0 0 0 1 0 1 0 0 0 0 0 0 0 0 0 1 1 0 0 1 1 0 0 0 0 0 1 0 0 0 0 0 0 0 1\n",
      " 1 0 0 0 0 0 0 0 0 0 1 0 0 0 0 0 0 1 0 0 0 0 0 0 1 0 1 1 0 0 0 0 0 0 0 1 1\n",
      " 0 1 0 0 0 1 0 0 0 0 0 0 0 0 0 0 0 0 0 0 0 0 1 0 0 0 0 1 0 0 1 0 1 0 1 1 0\n",
      " 1 0 0 0 0 0 0 0 0 1 0 0 0 0 0 1 0 1 1 0 1 1 0 1 0 0 0 0 0 0 0 1 0 0 0 1 1\n",
      " 0 1 0 0 0 0 0 0 1 0 0 0 0 0 1 1 0 0 0 0 1 0 0 0 1 0 0 0 0 0 0 1 0 0 0 0 0\n",
      " 0 0 0 0 0 0 0 0 0 1 0 0 0 1 0 1 0 0 0 0 0 0 0 1 1 1 0 0 0 0 1 1 0 0 0 0 0\n",
      " 0 0 0 0 1 0 0 0 0 0 0 0 0 0 0 1 0 0 0 0 0 0 0 0 1 0 1 0 0 0 0 0 0 0 0 0 0\n",
      " 0 0 0 1 0 1 0 0 0 1 0 1 0 0 0 1 0 0 0 0 0 0 0 0 0 0 0 0 0 0 0 1 0 0 0 0 0\n",
      " 0 0 0 0 1 0 0 0 0 0 0 0 0 0 0 0 0 1 0 0 0 0 1 0 1 0 1 0 0 0 1 0 0 0 0 0 0\n",
      " 0 0 0 0 0 0 1 1 0 1 0 0 0 0 0 0 1 0 0 0 0 0 0 0 0 0 1 0 0 0 0 0 0 1 0 0 0\n",
      " 1 1 0 0 0 1 0 0 0 0 0 1 1 0 1 0 0 1 1 0 0 1 1 0 1 0 0 0 0 1 0 1 0 0 1 0 0\n",
      " 0 0 0 0 1 0 0 0 0 0 1 0 0 0 0 0 0 0 0 0 0 1 1 0 0 0 0 0 0 0 0 0 0 1 0 0 1\n",
      " 0 0 1 0 0 0 0 0 0 0 1 1 1 0 1 1 0 0 0 1 0 1 0 0 1 1 0 0 0 1 0 0 0 0 0 0 0\n",
      " 1 1 0 1 0 0 0 0 1 0 0 0 0 0 0 0 1 0 1 1 0 1 0 1 0 0 0 1 0 0 0 1 1 1 1 1 0\n",
      " 1 0 0 1 0 1 0 0 0 0 1 0 0 0 1 0 0 0 0 1 1 0 1 0 0 0 0 0 1 0 0 0 0 0 1 0 1\n",
      " 1 1 1 0 0 0 0 0 0 0 1 0 0 1 1 0 0 0 0 0 0 1 0 0 0 0 1 1 0 1 0 0 1 0 0 0 1\n",
      " 0 0 1 0 0 0 1 0 1 0 0 1 0 0 0 1 1 0 0 0 0 1 0 0 0 1 0 0 0 0 0 1 1 0 0 0 0\n",
      " 0 1 1 0 0 0 0 0 0 0 0 0 0 0 0 0 0 0 0 0 0 0 1 0 0 0 1 0 1 0 1 1 0 1 1 0 0\n",
      " 0 0 0 0 0 1 0 0 0 1 1 1 0 1 0 0 0 0 0 1 0 0 1 0 1 1 0 1 0 0 0 1 0 0 0 0 0\n",
      " 0 0 0 1 0 0 0 0 1 0 0 0 0 0 1 1 0 0 0 0 1 1 0 1 0 1 0 1 0 0 0 0 0 0 0 0 0\n",
      " 0 0 0 1 1 0 0 0 0 0 1 0 0 0 0 1 0 0 0 0 0 0 1 1 0 0 0 0 1 0 0 1 1 0 0 0 0\n",
      " 0 0 0 0 0 0 0 0 1 0 0 1 0 0 1 0 0 0 0 0 0 0 0 1 0 1 0 0 0 0 0 0 0 0 0 0 1\n",
      " 0]\n"
     ]
    }
   ],
   "source": [
    "import numpy as np\n",
    "import sys\n",
    "np.set_printoptions(threshold=sys.maxsize)\n",
    "\n",
    "from Bio import AlignIO\n",
    "from Bio.AlignIO.PhylipIO import RelaxedPhylipWriter\n",
    "from Bio.Seq import Seq\n",
    "from Bio.SeqRecord import SeqRecord\n",
    "from Bio.Align import MultipleSeqAlignment\n",
    "\n",
    "alignment_dir = \"data/language_alignments/\"\n",
    "geo_ratio = 75\n",
    "seed = geo_ratio #purpose is to use not always the same sites of the alignments\n",
    "np.random.seed = geo_ratio\n",
    "\n",
    "\n",
    "\n",
    "sim_geo_align = AlignIO.read(alignment_dir +  \"sim_geo_duration.phy\", \"phylip-relaxed\")\n",
    "sim_cognate_align = AlignIO.read(alignment_dir +  \"sim_cognate_ie_compatible.phy\", \"phylip-relaxed\")\n",
    "\n",
    "geo_columns = np.array([sim_geo_align[:, i] for i in range(sim_geo_align.get_alignment_length())])\n",
    "cognate_columns = np.array([sim_cognate_align[:, i] for i in range(sim_cognate_align.get_alignment_length())])\n",
    "\n",
    "num_geo = int(len(geo_columns) * (geo_ratio / 100))\n",
    "num_cognate = int(len(geo_columns) * (1 - (geo_ratio / 100)))\n",
    "rand_vector = np.array([0] * num_geo + [1] * num_cognate)\n",
    "np.random.shuffle(rand_vector)\n",
    "print(rand_vector)\n",
    "\n",
    "np.random.shuffle(geo_columns)\n",
    "np.random.shuffle(cognate_columns)\n",
    "\n",
    "final_columns = []\n",
    "geo_pointer = 0\n",
    "cognate_pointer = 0\n",
    "\n",
    "for i in range(len(rand_vector)):\n",
    "    if rand_vector[i]:\n",
    "        final_columns.append(geo_columns[geo_pointer])\n",
    "        geo_pointer += 1\n",
    "    else:\n",
    "        final_columns.append(cognate_columns[cognate_pointer])\n",
    "        cognate_pointer += 1\n",
    "        \n",
    "sequences = [\"\" for i in range(len(sim_geo_align))]\n",
    "for column in final_columns:\n",
    "    for i,el in enumerate(column):\n",
    "        sequences[i] +=  el\n",
    "        \n",
    "        \n",
    "ids = []\n",
    "for row in sim_geo_align:\n",
    "    ids.append(row.id)\n",
    "\n",
    "records = [SeqRecord(sequences[i], id=sim_geo_align[i].id) for i in range(len(sim_geo_align))]\n",
    "align = MultipleSeqAlignment(records, annotations={}, column_annotations={})\n",
    "file_name = alignment_dir + \"sim_\" + str(geo_ratio) + \".phy\"\n",
    "with open(file_name,\"w+\") as f:\n",
    "    writer = RelaxedPhylipWriter(f)\n",
    "    writer.write_alignment(align)"
   ]
  },
  {
   "cell_type": "code",
   "execution_count": null,
   "id": "bfbc9bc4",
   "metadata": {},
   "outputs": [],
   "source": []
  }
 ],
 "metadata": {
  "kernelspec": {
   "display_name": "Python 3 (ipykernel)",
   "language": "python",
   "name": "python3"
  },
  "language_info": {
   "codemirror_mode": {
    "name": "ipython",
    "version": 3
   },
   "file_extension": ".py",
   "mimetype": "text/x-python",
   "name": "python",
   "nbconvert_exporter": "python",
   "pygments_lexer": "ipython3",
   "version": "3.10.9"
  }
 },
 "nbformat": 4,
 "nbformat_minor": 5
}
